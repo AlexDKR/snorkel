{
 "cells": [
  {
   "cell_type": "markdown",
   "metadata": {},
   "source": [
    "# DC_GAIN_MIN"
   ]
  },
  {
   "cell_type": "markdown",
   "metadata": {},
   "source": [
    "## Setup"
   ]
  },
  {
   "cell_type": "code",
   "execution_count": null,
   "metadata": {
    "collapsed": true
   },
   "outputs": [],
   "source": [
    "# If necessary:\n",
    "import os\n",
    "os.remove('snorkel.db')"
   ]
  },
  {
   "cell_type": "code",
   "execution_count": null,
   "metadata": {
    "collapsed": false
   },
   "outputs": [],
   "source": [
    "%load_ext autoreload\n",
    "%autoreload 2\n",
    "%matplotlib inline\n",
    "\n",
    "import sys\n",
    "sys.path.append(os.environ['SNORKELHOME'] + '/tutorials/tables/')"
   ]
  },
  {
   "cell_type": "markdown",
   "metadata": {},
   "source": [
    "## Parsing"
   ]
  },
  {
   "cell_type": "code",
   "execution_count": null,
   "metadata": {
    "collapsed": true
   },
   "outputs": [],
   "source": [
    "from snorkel import SnorkelSession\n",
    "session = SnorkelSession()"
   ]
  },
  {
   "cell_type": "markdown",
   "metadata": {},
   "source": [
    "### Define Parser"
   ]
  },
  {
   "cell_type": "code",
   "execution_count": null,
   "metadata": {
    "collapsed": true
   },
   "outputs": [],
   "source": [
    "import os\n",
    "from snorkel.parser import CorpusParser, HTMLParser, OmniParser\n",
    "from snorkel.utils import get_ORM_instance\n",
    "from snorkel.queries import split_corpus\n",
    "\n",
    "docs_path = os.environ['SNORKELHOME'] + '/tutorials/tables/data/hardware/hardware100_html/'\n",
    "doc_parser = HTMLParser(path=docs_path)\n",
    "context_parser = OmniParser()\n",
    "cp = CorpusParser(doc_parser, context_parser, max_docs=100) "
   ]
  },
  {
   "cell_type": "markdown",
   "metadata": {},
   "source": [
    "### Run Parser"
   ]
  },
  {
   "cell_type": "code",
   "execution_count": null,
   "metadata": {
    "collapsed": false,
    "scrolled": true
   },
   "outputs": [],
   "source": [
    "%time corpus = cp.parse_corpus(name='Hardware', session=session)\n",
    "\n",
    "session.add(corpus)\n",
    "session.commit()"
   ]
  },
  {
   "cell_type": "markdown",
   "metadata": {},
   "source": [
    "### Split Corpus"
   ]
  },
  {
   "cell_type": "code",
   "execution_count": null,
   "metadata": {
    "collapsed": false
   },
   "outputs": [],
   "source": [
    "from snorkel.models import Corpus\n",
    "\n",
    "corpus = get_ORM_instance(Corpus, session, 'Hardware')\n",
    "split_corpus(session, corpus, train=0.8, development=0.2, test=0, seed=4)"
   ]
  },
  {
   "cell_type": "code",
   "execution_count": null,
   "metadata": {
    "collapsed": true
   },
   "outputs": [],
   "source": [
    "# If necessary\n",
    "import os\n",
    "os.system('cp snorkel.db snorkel.db\\ corpus');"
   ]
  },
  {
   "cell_type": "markdown",
   "metadata": {},
   "source": [
    "## Extraction"
   ]
  },
  {
   "cell_type": "code",
   "execution_count": 1,
   "metadata": {
    "collapsed": false
   },
   "outputs": [],
   "source": [
    "# If necessary:\n",
    "import os\n",
    "os.remove('snorkel.db');\n",
    "os.system('cp snorkel.db\\ corpus snorkel.db');\n",
    "\n",
    "import sys\n",
    "sys.path.append(os.environ['SNORKELHOME'] + '/tutorials/tables/')\n",
    "\n",
    "from snorkel import SnorkelSession\n",
    "session = SnorkelSession()"
   ]
  },
  {
   "cell_type": "code",
   "execution_count": 2,
   "metadata": {
    "collapsed": true
   },
   "outputs": [],
   "source": [
    "from snorkel.models import candidate_subclass\n",
    "\n",
    "Part_Gain = candidate_subclass('Part_Gain', ['part','gain'])"
   ]
  },
  {
   "cell_type": "markdown",
   "metadata": {},
   "source": [
    "### Define Matchers"
   ]
  },
  {
   "cell_type": "code",
   "execution_count": 3,
   "metadata": {
    "collapsed": true
   },
   "outputs": [],
   "source": [
    "from snorkel.matchers import RegexMatchSpan, Union\n",
    "\n",
    "eeca_matcher = RegexMatchSpan(rgx='([b]{1}[abcdefklnpqruyz]{1}[\\swxyz]?[0-9]{3,5}[\\s]?[A-Z\\/]{0,5}[0-9]?[A-Z]?([-][A-Z0-9]{1,7})?([-][A-Z0-9]{1,2})?)')\n",
    "jedec_matcher = RegexMatchSpan(rgx='([123]N\\d{3,4}[A-Z]{0,5}[0-9]?[A-Z]?)')\n",
    "jis_matcher = RegexMatchSpan(rgx='(2S[abcdefghjkmqrstvz]{1}[\\d]{2,4})')\n",
    "others_matcher = RegexMatchSpan(rgx='((NSVBC|SMBT|MJ|MJE|MPS|MRF|RCA|TIP|ZTX|ZT|TIS|TIPL|DTC|MMBT|PZT){1}[\\d]{2,4}[A-Z]{0,3}([-][A-Z0-9]{0,6})?([-][A-Z0-9]{0,1})?)')\n",
    "parts_matcher = Union(eeca_matcher, jedec_matcher, jis_matcher, others_matcher)\n",
    "\n",
    "gain_matcher = RegexMatchSpan(rgx=r'\\d+[05]', longest_match_only=False)"
   ]
  },
  {
   "cell_type": "markdown",
   "metadata": {},
   "source": [
    "### Define ContextSpaces"
   ]
  },
  {
   "cell_type": "code",
   "execution_count": 4,
   "metadata": {
    "collapsed": false
   },
   "outputs": [],
   "source": [
    "import os\n",
    "from collections import defaultdict\n",
    "from snorkel.candidates import OmniNgrams\n",
    "from hardware_utils import OmniNgramsPart, get_gold_dict\n",
    "\n",
    "# Make parts list\n",
    "gold_file = os.environ['SNORKELHOME'] + '/tutorials/tables/data/hardware/hardware_gold.csv'\n",
    "gold_parts = get_gold_dict(gold_file, doc_on=True, part_on=True, val_on=False)\n",
    "parts_by_doc = defaultdict(set)\n",
    "for part in gold_parts:\n",
    "    parts_by_doc[part[0]].add(part[1])\n",
    "    \n",
    "part_ngrams = OmniNgramsPart(parts_by_doc=parts_by_doc, n_max=3)\n",
    "gain_ngrams = OmniNgrams(n_max=1)"
   ]
  },
  {
   "cell_type": "markdown",
   "metadata": {},
   "source": [
    "### Define Candidate Throttler"
   ]
  },
  {
   "cell_type": "code",
   "execution_count": 5,
   "metadata": {
    "collapsed": false
   },
   "outputs": [],
   "source": [
    "from snorkel.lf_helpers import *\n",
    "def gain_throttler((part_span, attr_span)):\n",
    "    \"\"\"\n",
    "    returns True if:\n",
    "            the part is global (i.e., is not in a table)\n",
    "            OR\n",
    "            if the part and attr spans are aligned \n",
    "        AND\n",
    "            the attribute (number) is aligned with a \"DC gain min\"-like word\n",
    "    \"\"\"\n",
    "    return ((part_span.parent.table is None or\n",
    "            part_span.parent.row_num == attr_span.parent.row_num or\n",
    "            part_span.parent.col_num == attr_span.parent.col_num) and\n",
    "            overlap(['dc', 'gain', 'hfe', 'fe', 'min'], get_aligned_ngrams(attr_span, infer=True)))"
   ]
  },
  {
   "cell_type": "markdown",
   "metadata": {},
   "source": [
    "### Run CandidateExtractor"
   ]
  },
  {
   "cell_type": "code",
   "execution_count": 6,
   "metadata": {
    "collapsed": false
   },
   "outputs": [
    {
     "name": "stdout",
     "output_type": "stream",
     "text": [
      "Extracting Candidates from Corpus (Hardware Training)\n",
      "[========================================] 100%\n",
      "CPU times: user 13min 4s, sys: 2min 52s, total: 15min 56s\n",
      "Wall time: 15min 55s\n",
      "Candidate Set (Hardware Training Candidates) contains 371344 Candidates\n",
      "Extracting Candidates from Corpus (Hardware Development)\n",
      "[========================================] 100%\n",
      "CPU times: user 3min 37s, sys: 1min 32s, total: 5min 10s\n",
      "Wall time: 5min 9s\n",
      "Candidate Set (Hardware Development Candidates) contains 52468 Candidates\n"
     ]
    }
   ],
   "source": [
    "from snorkel.models import Corpus\n",
    "from snorkel.candidates import CandidateExtractor\n",
    "from snorkel.utils import get_ORM_instance\n",
    "ce = CandidateExtractor(Part_Gain, \n",
    "                        [part_ngrams, gain_ngrams], \n",
    "                        [parts_matcher, gain_matcher],\n",
    "                        gain_throttler)\n",
    "\n",
    "for corpus_name in ['Hardware Training', 'Hardware Development']:\n",
    "    corpus = get_ORM_instance(Corpus, session, corpus_name)\n",
    "    print \"Extracting Candidates from %s\" % corpus\n",
    "    %time candidates = ce.extract(\\\n",
    "        corpus.documents, corpus_name + ' Candidates', session)\n",
    "    session.add(candidates)\n",
    "    print \"%s contains %d Candidates\" % (candidates, len(candidates))\n",
    "session.commit()"
   ]
  },
  {
   "cell_type": "markdown",
   "metadata": {},
   "source": [
    "### Assess Recall"
   ]
  },
  {
   "cell_type": "code",
   "execution_count": 7,
   "metadata": {
    "collapsed": false
   },
   "outputs": [
    {
     "name": "stdout",
     "output_type": "stream",
     "text": [
      "Preparing candidates...\n",
      "[========================================] 100%\n",
      "========================================\n",
      "Scoring on Entity-Level Total Recall\n",
      "========================================\n",
      "Entity-level Candidates extracted: 10993 \n",
      "Entity-level Gold: 1366\n",
      "Intersection Candidates: 1197\n",
      "----------------------------------------\n",
      "Overlap with Gold:  0.8763\n",
      "========================================\n",
      "\n"
     ]
    }
   ],
   "source": [
    "from snorkel.models import Candidate\n",
    "from hardware_utils import entity_level_total_recall\n",
    "\n",
    "all_candidates = session.query(Candidate).all()\n",
    "gold_file = os.environ['SNORKELHOME'] + '/tutorials/tables/data/hardware/hardware_gold.csv'\n",
    "(tp, fp, fn) = entity_level_total_recall(\n",
    "    all_candidates, gold_file, 'dc_gain_min', relation=True)"
   ]
  },
  {
   "cell_type": "code",
   "execution_count": 8,
   "metadata": {
    "collapsed": false,
    "scrolled": true
   },
   "outputs": [
    {
     "name": "stdout",
     "output_type": "stream",
     "text": [
      "1197 9796 169\n"
     ]
    }
   ],
   "source": [
    "print len(tp), len(fp), len(fn)"
   ]
  },
  {
   "cell_type": "code",
   "execution_count": 9,
   "metadata": {
    "collapsed": false
   },
   "outputs": [
    {
     "name": "stdout",
     "output_type": "stream",
     "text": [
      "[('2N6426-D', '2N6426', '20000'),\n",
      " ('2N6426-D', '2N6426', '30000'),\n",
      " ('2N6426-D', '2N6426G', '20000'),\n",
      " ('2N6426-D', '2N6426G', '30000'),\n",
      " ('2N6426-D', '2N6426RLRAG', '20000'),\n",
      " ('2N6426-D', '2N6426RLRAG', '30000'),\n",
      " ('2N6426-D', '2N6427', '10000'),\n",
      " ('2N6426-D', '2N6427', '14000'),\n",
      " ('2N6426-D', '2N6427', '20000'),\n",
      " ('2N6426-D', '2N6427G', '10000'),\n",
      " ('2N6426-D', '2N6427G', '14000'),\n",
      " ('2N6426-D', '2N6427G', '20000'),\n",
      " ('2N6426-D', '2N6427RLRAG', '10000'),\n",
      " ('2N6426-D', '2N6427RLRAG', '14000'),\n",
      " ('2N6426-D', '2N6427RLRAG', '20000'),\n",
      " ('2N6427', '2N6427', '10000'),\n",
      " ('2N6427', '2N6427', '14000'),\n",
      " ('2N6427', '2N6427', '20000'),\n",
      " ('2N6427', 'MMBT6427', '10000'),\n",
      " ('2N6427', 'MMBT6427', '14000'),\n",
      " ('2N6427', 'MMBT6427', '20000'),\n",
      " ('BC337', 'BC337', '60'),\n",
      " ('BC337', 'BC337-16', '60'),\n",
      " ('BC337', 'BC337-25', '160'),\n",
      " ('BC337', 'BC337-40', '170'),\n",
      " ('BC337', 'BC337-40', '250'),\n",
      " ('BC337', 'BC33716BU', '60'),\n",
      " ('BC337', 'BC33716TA', '60'),\n",
      " ('BC337', 'BC33716TFR', '60'),\n",
      " ('BC337', 'BC33725BU', '160')]\n"
     ]
    }
   ],
   "source": [
    "from pprint import pprint\n",
    "pprint(sorted(list(fn))[:30])"
   ]
  },
  {
   "cell_type": "code",
   "execution_count": 10,
   "metadata": {
    "collapsed": true
   },
   "outputs": [],
   "source": [
    "# If necessary\n",
    "import os\n",
    "os.system('cp snorkel.db snorkel.db\\ candidates');"
   ]
  },
  {
   "cell_type": "markdown",
   "metadata": {},
   "source": [
    "## Gold Labels"
   ]
  },
  {
   "cell_type": "code",
   "execution_count": 11,
   "metadata": {
    "collapsed": true
   },
   "outputs": [],
   "source": [
    "# If necessary\n",
    "# import os\n",
    "# os.remove('snorkel.db');\n",
    "# os.system('cp snorkel.db\\ candidates snorkel.db');\n",
    "\n",
    "# import sys\n",
    "# sys.path.append(os.environ['SNORKELHOME'] + '/tutorials/tables/')\n",
    "\n",
    "# from snorkel import SnorkelSession\n",
    "# session = SnorkelSession()\n",
    "\n",
    "# from snorkel.models import candidate_subclass\n",
    "# Part_Gain = candidate_subclass('Part_Gain', ['part','gain'])"
   ]
  },
  {
   "cell_type": "code",
   "execution_count": 12,
   "metadata": {
    "collapsed": false
   },
   "outputs": [
    {
     "name": "stdout",
     "output_type": "stream",
     "text": [
      "Loading 371344 candidate labels\n",
      "[========================================] 100%\n",
      "CPU times: user 6min 41s, sys: 5.06 s, total: 6min 46s\n",
      "Wall time: 6min 46s\n",
      "33229/371344 Candidates in Candidate Set (Hardware Training Candidates) have positive Labels\n",
      "Loading 52468 candidate labels\n",
      "[========================================] 100%\n",
      "CPU times: user 1min 13s, sys: 996 ms, total: 1min 14s\n",
      "Wall time: 1min 13s\n",
      "4836/52468 Candidates in Candidate Set (Hardware Development Candidates) have positive Labels\n"
     ]
    }
   ],
   "source": [
    "import os\n",
    "from snorkel.models import CandidateSet\n",
    "from hardware_utils import load_hardware_labels\n",
    "\n",
    "gold_file = os.environ['SNORKELHOME'] + '/tutorials/tables/data/hardware/hardware_gold.csv'\n",
    "for set_name in ['Training', 'Development']:\n",
    "    candidate_set_name = 'Hardware %s Candidates' % set_name\n",
    "    candidates = session.query(CandidateSet).filter(\n",
    "        CandidateSet.name == candidate_set_name).one()\n",
    "    label_set_name = 'Hardware %s Candidates -- Gold' % set_name\n",
    "    annotation_key_name = 'Hardware %s Labels -- Gold' % set_name\n",
    "    %time gold_candidates, annotation_key = load_hardware_labels(session,\\\n",
    "                           label_set_name, \\\n",
    "                           annotation_key_name, \\\n",
    "                           candidates, \\\n",
    "                           gold_file, \\\n",
    "                           'dc_gain_min')\n",
    "    candidates_gold = session.query(CandidateSet).filter(\n",
    "        CandidateSet.name == candidate_set_name + ' -- Gold').one()\n",
    "    print \"%d/%d Candidates in %s have positive Labels\" % (\n",
    "        len(candidates_gold), len(candidates), candidates)"
   ]
  },
  {
   "cell_type": "code",
   "execution_count": 13,
   "metadata": {
    "collapsed": true
   },
   "outputs": [],
   "source": [
    "# If necessary\n",
    "import os\n",
    "os.system('cp snorkel.db snorkel.db\\ labels');"
   ]
  },
  {
   "cell_type": "markdown",
   "metadata": {},
   "source": [
    "## Features"
   ]
  },
  {
   "cell_type": "code",
   "execution_count": 14,
   "metadata": {
    "collapsed": true
   },
   "outputs": [],
   "source": [
    "# If necessary:\n",
    "# import os\n",
    "# os.remove('snorkel.db');\n",
    "# os.system('cp snorkel.db\\ labels snorkel.db');\n",
    "\n",
    "# from snorkel import SnorkelSession\n",
    "# session = SnorkelSession()\n",
    "\n",
    "# from snorkel.models import candidate_subclass\n",
    "# Part_Gain = candidate_subclass('Part_Gain', ['part','gain'])"
   ]
  },
  {
   "cell_type": "markdown",
   "metadata": {},
   "source": [
    "### Extract Features"
   ]
  },
  {
   "cell_type": "code",
   "execution_count": 15,
   "metadata": {
    "collapsed": false
   },
   "outputs": [
    {
     "name": "stdout",
     "output_type": "stream",
     "text": [
      "[========================================] 100%\n",
      "Bulk upserting 109404366 annotations...\n",
      "Done.\n",
      "Loading sparse Feature matrix...\n",
      "CPU times: user 1h 38min 33s, sys: 18min 58s, total: 1h 57min 31s\n",
      "Wall time: 1h 57min 17s\n",
      "[========================================] 100%\n",
      "Bulk upserting 12881640 annotations...\n",
      "Done.\n",
      "Loading sparse Feature matrix...\n",
      "CPU times: user 22min 25s, sys: 2min 57s, total: 25min 23s\n",
      "Wall time: 25min 18s\n"
     ]
    }
   ],
   "source": [
    "from snorkel.models import CandidateSet\n",
    "from snorkel.fast_annotations import FeatureManager\n",
    "from snorkel.utils import get_ORM_instance\n",
    "\n",
    "train = get_ORM_instance(CandidateSet, session, 'Hardware Training Candidates')\n",
    "dev   = get_ORM_instance(CandidateSet, session, 'Hardware Development Candidates')\n",
    "\n",
    "feature_manager = FeatureManager()\n",
    "%time F_train = feature_manager.create(session, train, 'Train Features')\n",
    "%time F_dev = feature_manager.update(session, dev, 'Train Features', expand_key_set=False)"
   ]
  },
  {
   "cell_type": "code",
   "execution_count": 16,
   "metadata": {
    "collapsed": true
   },
   "outputs": [],
   "source": [
    "# If necessary:\n",
    "import os\n",
    "os.system('cp snorkel.db snorkel.db\\ featurized');"
   ]
  },
  {
   "cell_type": "markdown",
   "metadata": {},
   "source": [
    "## LFs"
   ]
  },
  {
   "cell_type": "code",
   "execution_count": 1,
   "metadata": {
    "collapsed": true
   },
   "outputs": [],
   "source": [
    "# If necessary\n",
    "import os\n",
    "os.remove('snorkel.db');\n",
    "os.system('cp snorkel.db\\ featurized snorkel.db');\n",
    "\n",
    "from snorkel import SnorkelSession\n",
    "session = SnorkelSession()\n",
    "\n",
    "import sys\n",
    "sys.path.append(os.environ['SNORKELHOME'] + '/tutorials/tables/')\n",
    "\n",
    "from snorkel.models import candidate_subclass\n",
    "Part_Gain = candidate_subclass('Part_Gain', ['part','gain'])\n",
    "\n",
    "from snorkel.models import CandidateSet\n",
    "train = session.query(CandidateSet).filter(\n",
    "    CandidateSet.name == 'Hardware Training Candidates').one()"
   ]
  },
  {
   "cell_type": "markdown",
   "metadata": {},
   "source": [
    "### Define LFs"
   ]
  },
  {
   "cell_type": "code",
   "execution_count": 3,
   "metadata": {
    "collapsed": false
   },
   "outputs": [],
   "source": [
    "from snorkel.fast_annotations import LabelManager\n",
    "from snorkel.lf_helpers import *\n",
    "import re\n",
    "label_manager = LabelManager()\n",
    "\n",
    "LFs = []\n",
    "\n",
    "# POSITIVE\n",
    "def LF_same_row(c):\n",
    "    return 1 if same_row(c) else -1\n",
    "LFs.append(LF_same_row)\n",
    "\n",
    "def LF_dc_current_gain_row(c):\n",
    "    return 1 if overlap(['dc','current','gain'], get_row_ngrams(c.gain, infer=True)) else 0\n",
    "LFs.append(LF_dc_current_gain_row)\n",
    "\n",
    "def LF_h_fe_row(c):\n",
    "    return 1 if len(set(['h','FE']).intersection(\n",
    "                    set(get_row_ngrams(c.gain, infer=True, lower=False)))) == 2 else 0\n",
    "LFs.append(LF_h_fe_row)\n",
    "\n",
    "def LF_not_relevant_aligned(c):\n",
    "    return -1 if len(set(['dc','current','gain','h','fe']).intersection(\n",
    "                     set(get_aligned_ngrams(c.gain)))) == 0 else 0\n",
    "LFs.append(LF_not_relevant_aligned)\n",
    "\n",
    "def LF_start_range(c):\n",
    "    return 1 if overlap(['~','-'], get_right_ngrams(c.gain)) else 0\n",
    "LFs.append(LF_start_range)\n",
    "\n",
    "def LF_end_range(c):\n",
    "    return -1 if overlap(['~','-'], get_left_ngrams(c.gain)) else 0\n",
    "LFs.append(LF_end_range)\n",
    "\n",
    "def LF_min_aligned(c):\n",
    "    return 1 if 'min' in get_col_ngrams(c.gain) else 0\n",
    "LFs.append(LF_min_aligned)\n",
    "\n",
    "# TODO: LF where if gain aligned with A and part ends with A, return 1"
   ]
  },
  {
   "cell_type": "markdown",
   "metadata": {},
   "source": [
    "### Apply LFs"
   ]
  },
  {
   "cell_type": "code",
   "execution_count": 4,
   "metadata": {
    "collapsed": false
   },
   "outputs": [
    {
     "name": "stdout",
     "output_type": "stream",
     "text": [
      "[========================================] 100%\n",
      "Bulk upserting 2599408 annotations...\n",
      "Done.\n",
      "Loading sparse Label matrix...\n",
      "CPU times: user 12min 45s, sys: 1min 35s, total: 14min 20s\n",
      "Wall time: 14min 18s\n"
     ]
    },
    {
     "data": {
      "text/plain": [
       "<371344x7 sparse matrix of type '<type 'numpy.float64'>'\n",
       "\twith 756684 stored elements in Compressed Sparse Row format>"
      ]
     },
     "execution_count": 4,
     "metadata": {},
     "output_type": "execute_result"
    }
   ],
   "source": [
    "%time L_train = label_manager.create(session, train, 'LF Labels', f=LFs)\n",
    "L_train"
   ]
  },
  {
   "cell_type": "markdown",
   "metadata": {},
   "source": [
    "### Assess LF accuracy"
   ]
  },
  {
   "cell_type": "code",
   "execution_count": 5,
   "metadata": {
    "collapsed": false
   },
   "outputs": [
    {
     "name": "stdout",
     "output_type": "stream",
     "text": [
      "[========================================] 100%\n",
      "CPU times: user 912 ms, sys: 116 ms, total: 1.03 s\n",
      "Wall time: 941 ms\n"
     ]
    },
    {
     "data": {
      "text/html": [
       "<div>\n",
       "<table border=\"1\" class=\"dataframe\">\n",
       "  <thead>\n",
       "    <tr style=\"text-align: right;\">\n",
       "      <th></th>\n",
       "      <th>accuracy</th>\n",
       "      <th>conflicts</th>\n",
       "      <th>coverage</th>\n",
       "      <th>j</th>\n",
       "      <th>overlaps</th>\n",
       "    </tr>\n",
       "  </thead>\n",
       "  <tbody>\n",
       "    <tr>\n",
       "      <th>LF_same_row</th>\n",
       "      <td>0.808361</td>\n",
       "      <td>0.510680</td>\n",
       "      <td>1.000000</td>\n",
       "      <td>0</td>\n",
       "      <td>0.608748</td>\n",
       "    </tr>\n",
       "    <tr>\n",
       "      <th>LF_dc_current_gain_row</th>\n",
       "      <td>0.103034</td>\n",
       "      <td>0.336769</td>\n",
       "      <td>0.418911</td>\n",
       "      <td>1</td>\n",
       "      <td>0.418911</td>\n",
       "    </tr>\n",
       "    <tr>\n",
       "      <th>LF_h_fe_row</th>\n",
       "      <td>0.146085</td>\n",
       "      <td>0.328426</td>\n",
       "      <td>0.390929</td>\n",
       "      <td>2</td>\n",
       "      <td>0.390929</td>\n",
       "    </tr>\n",
       "    <tr>\n",
       "      <th>LF_not_relevant_aligned</th>\n",
       "      <td>0.959196</td>\n",
       "      <td>0.065788</td>\n",
       "      <td>0.076886</td>\n",
       "      <td>3</td>\n",
       "      <td>0.076886</td>\n",
       "    </tr>\n",
       "    <tr>\n",
       "      <th>LF_start_range</th>\n",
       "      <td>0.466179</td>\n",
       "      <td>0.025486</td>\n",
       "      <td>0.025758</td>\n",
       "      <td>4</td>\n",
       "      <td>0.025758</td>\n",
       "    </tr>\n",
       "    <tr>\n",
       "      <th>LF_end_range</th>\n",
       "      <td>0.982394</td>\n",
       "      <td>0.036710</td>\n",
       "      <td>0.036710</td>\n",
       "      <td>5</td>\n",
       "      <td>0.036710</td>\n",
       "    </tr>\n",
       "    <tr>\n",
       "      <th>LF_min_aligned</th>\n",
       "      <td>0.185710</td>\n",
       "      <td>0.085805</td>\n",
       "      <td>0.088497</td>\n",
       "      <td>6</td>\n",
       "      <td>0.088497</td>\n",
       "    </tr>\n",
       "  </tbody>\n",
       "</table>\n",
       "</div>"
      ],
      "text/plain": [
       "                         accuracy  conflicts  coverage  j  overlaps\n",
       "LF_same_row              0.808361   0.510680  1.000000  0  0.608748\n",
       "LF_dc_current_gain_row   0.103034   0.336769  0.418911  1  0.418911\n",
       "LF_h_fe_row              0.146085   0.328426  0.390929  2  0.390929\n",
       "LF_not_relevant_aligned  0.959196   0.065788  0.076886  3  0.076886\n",
       "LF_start_range           0.466179   0.025486  0.025758  4  0.025758\n",
       "LF_end_range             0.982394   0.036710  0.036710  5  0.036710\n",
       "LF_min_aligned           0.185710   0.085805  0.088497  6  0.088497"
      ]
     },
     "execution_count": 5,
     "metadata": {},
     "output_type": "execute_result"
    }
   ],
   "source": [
    "train_gold = session.query(CandidateSet).filter(\n",
    "    CandidateSet.name == 'Hardware Training Candidates -- Gold').one()\n",
    "%time L_train.lf_stats(train_gold)"
   ]
  },
  {
   "cell_type": "code",
   "execution_count": 6,
   "metadata": {
    "collapsed": true
   },
   "outputs": [],
   "source": [
    "# If necessary\n",
    "import os\n",
    "os.system('cp snorkel.db snorkel.db\\ features');"
   ]
  },
  {
   "cell_type": "markdown",
   "metadata": {},
   "source": [
    "## Learn and Evaluate"
   ]
  },
  {
   "cell_type": "code",
   "execution_count": 9,
   "metadata": {
    "collapsed": false
   },
   "outputs": [
    {
     "name": "stdout",
     "output_type": "stream",
     "text": [
      "CPU times: user 17min 23s, sys: 2min 31s, total: 19min 54s\n",
      "Wall time: 19min 46s\n",
      "CPU times: user 9min 26s, sys: 2min 19s, total: 11min 46s\n",
      "Wall time: 11min 44s\n"
     ]
    }
   ],
   "source": [
    "# If necessary:\n",
    "# import os\n",
    "# os.remove('snorkel.db');\n",
    "# os.system('cp snorkel.db\\ features snorkel.db');\n",
    "\n",
    "# from snorkel import SnorkelSession\n",
    "# session = SnorkelSession()\n",
    "\n",
    "# import sys\n",
    "# sys.path.append(os.environ['SNORKELHOME'] + '/tutorials/tables/')\n",
    "\n",
    "# from snorkel.models import candidate_subclass\n",
    "# Part_Gain = candidate_subclass('Part_Gain', ['part','gain'])\n",
    "\n",
    "from snorkel.models import CandidateSet\n",
    "train = session.query(CandidateSet).filter(\n",
    "    CandidateSet.name == 'Hardware Training Candidates').one()\n",
    "dev = session.query(CandidateSet).filter(\n",
    "    CandidateSet.name == 'Hardware Development Candidates').one()\n",
    "\n",
    "from snorkel.annotations import FeatureManager, LabelManager\n",
    "feature_manager = FeatureManager()\n",
    "%time F_train = feature_manager.load(session, train, 'Train Features')\n",
    "%time F_dev = feature_manager.load(session, dev, 'Train Features')\n",
    "\n",
    "# label_manager = LabelManager()\n",
    "# %time L_train = label_manager.load(session, train, 'LF Labels')"
   ]
  },
  {
   "cell_type": "code",
   "execution_count": 7,
   "metadata": {
    "collapsed": false
   },
   "outputs": [
    {
     "name": "stdout",
     "output_type": "stream",
     "text": [
      "================================================================================\n",
      "Training marginals (!= 0.5):\t371344\n",
      "Features:\t\t\t7\n",
      "================================================================================\n",
      "Begin training for rate=0.01, mu=1e-06\n",
      "\tLearning epoch = 0\tGradient mag. = 0.292334\n",
      "\tLearning epoch = 250\tGradient mag. = 0.276798\n",
      "\tLearning epoch = 500\tGradient mag. = 0.346478\n",
      "\tLearning epoch = 750\tGradient mag. = 0.420799\n",
      "\tLearning epoch = 1000\tGradient mag. = 0.465599\n",
      "\tLearning epoch = 1250\tGradient mag. = 0.489273\n",
      "\tLearning epoch = 1500\tGradient mag. = 0.504379\n",
      "\tLearning epoch = 1750\tGradient mag. = 0.517095\n",
      "\tLearning epoch = 2000\tGradient mag. = 0.528635\n",
      "\tLearning epoch = 2250\tGradient mag. = 0.483685\n",
      "\tLearning epoch = 2500\tGradient mag. = 0.375717\n",
      "\tLearning epoch = 2750\tGradient mag. = 0.321232\n",
      "\tLearning epoch = 3000\tGradient mag. = 0.296672\n",
      "\tLearning epoch = 3250\tGradient mag. = 0.286089\n",
      "\tLearning epoch = 3500\tGradient mag. = 0.281712\n",
      "\tLearning epoch = 3750\tGradient mag. = 0.280131\n",
      "\tLearning epoch = 4000\tGradient mag. = 0.227506\n",
      "\tLearning epoch = 4250\tGradient mag. = 0.197818\n",
      "\tLearning epoch = 4500\tGradient mag. = 0.186956\n",
      "\tLearning epoch = 4750\tGradient mag. = 0.184063\n",
      "\tLearning epoch = 5000\tGradient mag. = 0.184340\n",
      "\tLearning epoch = 5250\tGradient mag. = 0.185879\n",
      "\tLearning epoch = 5500\tGradient mag. = 0.187935\n",
      "\tLearning epoch = 5750\tGradient mag. = 0.190204\n",
      "\tLearning epoch = 6000\tGradient mag. = 0.192541\n",
      "\tLearning epoch = 6250\tGradient mag. = 0.194862\n",
      "\tLearning epoch = 6500\tGradient mag. = 0.197110\n",
      "\tLearning epoch = 6750\tGradient mag. = 0.199244\n",
      "\tLearning epoch = 7000\tGradient mag. = 0.187047\n",
      "\tLearning epoch = 7250\tGradient mag. = 0.173941\n",
      "\tLearning epoch = 7500\tGradient mag. = 0.162470\n",
      "\tLearning epoch = 7750\tGradient mag. = 0.152465\n",
      "\tLearning epoch = 8000\tGradient mag. = 0.143764\n",
      "\tLearning epoch = 8250\tGradient mag. = 0.136222\n",
      "\tLearning epoch = 8500\tGradient mag. = 0.129702\n",
      "\tLearning epoch = 8750\tGradient mag. = 0.124082\n",
      "\tLearning epoch = 9000\tGradient mag. = 0.119248\n",
      "\tLearning epoch = 9250\tGradient mag. = 0.115099\n",
      "\tLearning epoch = 9500\tGradient mag. = 0.111542\n",
      "\tLearning epoch = 9750\tGradient mag. = 0.108496\n",
      "\tLearning epoch = 10000\tGradient mag. = 0.105888\n",
      "\tLearning epoch = 10250\tGradient mag. = 0.103655\n",
      "\tLearning epoch = 10500\tGradient mag. = 0.101742\n",
      "\tLearning epoch = 10750\tGradient mag. = 0.100101\n",
      "\tLearning epoch = 11000\tGradient mag. = 0.098691\n",
      "\tLearning epoch = 11250\tGradient mag. = 0.097478\n",
      "\tLearning epoch = 11500\tGradient mag. = 0.096432\n",
      "\tLearning epoch = 11750\tGradient mag. = 0.095527\n",
      "\tLearning epoch = 12000\tGradient mag. = 0.094742\n",
      "\tLearning epoch = 12250\tGradient mag. = 0.094059\n",
      "\tLearning epoch = 12500\tGradient mag. = 0.089548\n",
      "\tLearning epoch = 12750\tGradient mag. = 0.083271\n",
      "\tLearning epoch = 13000\tGradient mag. = 0.077570\n",
      "\tLearning epoch = 13250\tGradient mag. = 0.072390\n",
      "\tLearning epoch = 13500\tGradient mag. = 0.067680\n",
      "\tLearning epoch = 13750\tGradient mag. = 0.063394\n",
      "\tLearning epoch = 14000\tGradient mag. = 0.059491\n",
      "\tLearning epoch = 14250\tGradient mag. = 0.055933\n",
      "\tLearning epoch = 14500\tGradient mag. = 0.052685\n",
      "\tLearning epoch = 14750\tGradient mag. = 0.049717\n",
      "Final gradient magnitude for rate=0.01, mu=1e-06: 0.047\n",
      "CPU times: user 16 ms, sys: 4 ms, total: 20 ms\n",
      "Wall time: 20 ms\n"
     ]
    }
   ],
   "source": [
    "%%time\n",
    "from snorkel.learning import NaiveBayes\n",
    "\n",
    "gen_model = NaiveBayes()\n",
    "gen_model.train(L_train, n_iter=15000, rate=1e-2)\n",
    "gen_model.save(session, 'Generative Params')\n",
    "train_marginals = gen_model.marginals(L_train)"
   ]
  },
  {
   "cell_type": "code",
   "execution_count": 10,
   "metadata": {
    "collapsed": false
   },
   "outputs": [
    {
     "name": "stdout",
     "output_type": "stream",
     "text": [
      "================================================================================\n",
      "Training marginals (!= 0.5):\t371344\n",
      "Features:\t\t\t34059\n",
      "================================================================================\n",
      "Using gradient descent...\n",
      "\tLearning epoch = 0\tStep size = 0.0001\n",
      "\tLoss = 257396.046618\tGradient magnitude = 1104114.928628\n",
      "\tLearning epoch = 100\tStep size = 9.04792147114e-05\n",
      "\tLoss = 712353.206978\tGradient magnitude = 239436.200121\n",
      "\tLearning epoch = 200\tStep size = 8.18648829479e-05\n",
      "\tLoss = 2011944.117405\tGradient magnitude = 768963.472663\n",
      "\tLearning epoch = 300\tStep size = 7.40707032156e-05\n",
      "\tLoss = 672070.454878\tGradient magnitude = 252215.671752\n",
      "\tLearning epoch = 400\tStep size = 6.70185906007e-05\n",
      "\tLoss = 589733.507116\tGradient magnitude = 206410.920716\n",
      "\tLearning epoch = 500\tStep size = 6.06378944861e-05\n",
      "\tLoss = 1756079.197614\tGradient magnitude = 752907.157809\n",
      "\tLearning epoch = 600\tStep size = 5.48646907485e-05\n",
      "\tLoss = 1774683.819749\tGradient magnitude = 619520.367906\n",
      "\tLearning epoch = 700\tStep size = 4.96411413431e-05\n",
      "\tLoss = 642508.921991\tGradient magnitude = 218669.300936\n",
      "\tLearning epoch = 800\tStep size = 4.4914914861e-05\n",
      "\tLoss = 482215.652625\tGradient magnitude = 168494.898782\n",
      "\tLearning epoch = 900\tStep size = 4.06386622545e-05\n",
      "\tLoss = 695213.300336\tGradient magnitude = 237402.750703\n",
      "\tLearning epoch = 1000\tStep size = 3.67695424771e-05\n",
      "\tLoss = 688429.331499\tGradient magnitude = 236968.492951\n",
      "\tLearning epoch = 1100\tStep size = 3.32687932862e-05\n",
      "\tLoss = 388599.426999\tGradient magnitude = 145458.873258\n",
      "\tLearning epoch = 1200\tStep size = 3.01013429093e-05\n",
      "\tLoss = 586750.293089\tGradient magnitude = 188365.149690\n",
      "\tLearning epoch = 1300\tStep size = 2.72354586819e-05\n",
      "\tLoss = 656880.373883\tGradient magnitude = 229853.255457\n",
      "\tLearning epoch = 1400\tStep size = 2.46424291385e-05\n",
      "\tLoss = 414182.411793\tGradient magnitude = 164584.843216\n",
      "\tLearning epoch = 1500\tStep size = 2.22962763703e-05\n",
      "\tLoss = 576741.655326\tGradient magnitude = 178195.962526\n",
      "\tLearning epoch = 1600\tStep size = 2.01734957697e-05\n",
      "\tLoss = 624002.037473\tGradient magnitude = 217349.451749\n",
      "\tLearning epoch = 1700\tStep size = 1.82528205523e-05\n",
      "\tLoss = 496347.719416\tGradient magnitude = 527695.735945\n",
      "\tLearning epoch = 1800\tStep size = 1.65150086984e-05\n",
      "\tLoss = 570041.112565\tGradient magnitude = 178913.398863\n",
      "\tLearning epoch = 1900\tStep size = 1.49426501798e-05\n",
      "\tLoss = 540697.011497\tGradient magnitude = 175282.297428\n",
      "CPU times: user 5.63 s, sys: 244 ms, total: 5.88 s\n",
      "Wall time: 5.82 s\n"
     ]
    }
   ],
   "source": [
    "from snorkel.learning import LogReg\n",
    "\n",
    "disc_model = LogReg()\n",
    "disc_model.train(F_train, train_marginals, n_iter=2000, rate=1e-5)\n",
    "# %time disc_model.save(session, \"Discriminative Params\")"
   ]
  },
  {
   "cell_type": "code",
   "execution_count": 11,
   "metadata": {
    "collapsed": true
   },
   "outputs": [],
   "source": [
    "train_gold = session.query(CandidateSet).filter(\n",
    "    CandidateSet.name == 'Hardware Training Candidates -- Gold').one()"
   ]
  },
  {
   "cell_type": "code",
   "execution_count": 12,
   "metadata": {
    "collapsed": true
   },
   "outputs": [],
   "source": [
    "dev_gold = session.query(CandidateSet).filter(\n",
    "    CandidateSet.name == 'Hardware Development Candidates -- Gold').one()"
   ]
  },
  {
   "cell_type": "code",
   "execution_count": 13,
   "metadata": {
    "collapsed": false
   },
   "outputs": [],
   "source": [
    "from snorkel.models import CandidateSet\n",
    "from snorkel.annotations import LabelManager\n",
    "label_manager = LabelManager()\n",
    "L_dev = label_manager.load(session, dev, 'Hardware Development Labels -- Gold')"
   ]
  },
  {
   "cell_type": "code",
   "execution_count": 14,
   "metadata": {
    "collapsed": false
   },
   "outputs": [
    {
     "name": "stdout",
     "output_type": "stream",
     "text": [
      "Calibration plot:\n",
      "========================================\n",
      "Recall-corrected Noise-aware Model\n",
      "========================================\n",
      "Pos. class accuracy: 0.927626137304\n",
      "Neg. class accuracy: 0.101528384279\n",
      "Corpus Precision 0.0949\n",
      "Corpus Recall    0.928\n",
      "Corpus F1        0.172\n",
      "----------------------------------------\n",
      "TP: 4486 | FP: 42796 | TN: 4836 | FN: 350\n",
      "========================================\n",
      "\n",
      "========================================\n",
      "Recall-corrected Noise-aware Model\n",
      "========================================\n",
      "Pos. class accuracy: 0.927626137304\n",
      "Neg. class accuracy: 0.101528384279\n",
      "Corpus Precision 0.0949\n",
      "Corpus Recall    0.928\n",
      "Corpus F1        0.172\n",
      "----------------------------------------\n",
      "TP: 4486 | FP: 42796 | TN: 4836 | FN: 350\n",
      "========================================\n",
      "\n"
     ]
    },
    {
     "name": "stderr",
     "output_type": "stream",
     "text": [
      "/usr/local/lib/python2.7/dist-packages/numpy/core/_methods.py:59: RuntimeWarning: Mean of empty slice.\n",
      "  warnings.warn(\"Mean of empty slice.\", RuntimeWarning)\n"
     ]
    }
   ],
   "source": [
    "tp, fp, tn, fn = disc_model.score(F_dev, L_dev, dev_gold)"
   ]
  },
  {
   "cell_type": "code",
   "execution_count": 15,
   "metadata": {
    "collapsed": false
   },
   "outputs": [
    {
     "name": "stdout",
     "output_type": "stream",
     "text": [
      "========================================\n",
      "Scoring on Entity-Level Gold Data\n",
      "========================================\n",
      "Corpus Precision 0.1\n",
      "Corpus Recall    0.682\n",
      "Corpus F1        0.175\n",
      "----------------------------------------\n",
      "TP: 137 | FP: 1229 | FN: 64\n",
      "========================================\n",
      "\n"
     ]
    }
   ],
   "source": [
    "from snorkel.models import Corpus\n",
    "from hardware_utils import entity_level_f1\n",
    "import os\n",
    "\n",
    "gold_file = os.environ['SNORKELHOME'] + '/tutorials/tables/data/hardware/hardware_gold.csv'\n",
    "corpus = session.query(Corpus).filter(Corpus.name == 'Hardware Development').one()\n",
    "(TP, FP, FN) = entity_level_f1(tp, fp, tn, fn, gold_file, corpus, 'dc_gain_min')"
   ]
  },
  {
   "cell_type": "code",
   "execution_count": null,
   "metadata": {
    "collapsed": false
   },
   "outputs": [],
   "source": [
    "from pprint import pprint\n",
    "FN_list = sorted(list(FN))\n",
    "pprint(FN_list)"
   ]
  },
  {
   "cell_type": "code",
   "execution_count": null,
   "metadata": {
    "collapsed": false
   },
   "outputs": [],
   "source": [
    "from hardware_utils import entity_to_candidates\n",
    "\n",
    "entity = FN_list[0]\n",
    "print entity\n",
    "print\n",
    "\n",
    "matches = entity_to_candidates(entity, fn)\n",
    "print \"# Matches: %d\" % len(matches)\n",
    "candidate = matches[0]\n",
    "print candidate\n",
    "print\n",
    "\n",
    "print disc_model.get_candidate_score(candidate, F_dev)\n",
    "print\n",
    "pprint(disc_model.get_candidate_feature_weights(candidate, F_dev))"
   ]
  },
  {
   "cell_type": "code",
   "execution_count": null,
   "metadata": {
    "collapsed": false
   },
   "outputs": [],
   "source": [
    "from hardware_utils import part_error_analysis\n",
    "part_error_analysis(candidate)"
   ]
  },
  {
   "cell_type": "code",
   "execution_count": null,
   "metadata": {
    "collapsed": true
   },
   "outputs": [],
   "source": [
    "import os\n",
    "os.system('cp snorkel.db snorkel.db\\ final');"
   ]
  }
 ],
 "metadata": {
  "anaconda-cloud": {},
  "kernelspec": {
   "display_name": "Python 2",
   "language": "python",
   "name": "python2"
  },
  "language_info": {
   "codemirror_mode": {
    "name": "ipython",
    "version": 2
   },
   "file_extension": ".py",
   "mimetype": "text/x-python",
   "name": "python",
   "nbconvert_exporter": "python",
   "pygments_lexer": "ipython2",
   "version": "2.7.6"
  }
 },
 "nbformat": 4,
 "nbformat_minor": 1
}
