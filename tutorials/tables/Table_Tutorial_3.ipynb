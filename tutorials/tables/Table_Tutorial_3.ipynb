{
 "cells": [
  {
   "cell_type": "markdown",
   "metadata": {},
   "source": [
    "# Tables in Snorkel: Extracting Attributes from Spec Sheets"
   ]
  },
  {
   "cell_type": "markdown",
   "metadata": {},
   "source": [
    "## Part III:  Loading Evaluation Labels"
   ]
  },
  {
   "cell_type": "code",
   "execution_count": 1,
   "metadata": {
    "collapsed": false
   },
   "outputs": [
    {
     "name": "stdout",
     "output_type": "stream",
     "text": [
      "The autoreload extension is already loaded. To reload it, use:\n",
      "  %reload_ext autoreload\n"
     ]
    }
   ],
   "source": [
    "%load_ext autoreload\n",
    "%autoreload 2\n",
    "\n",
    "from snorkel import SnorkelSession\n",
    "session = SnorkelSession()"
   ]
  },
  {
   "cell_type": "code",
   "execution_count": 2,
   "metadata": {
    "collapsed": false
   },
   "outputs": [],
   "source": [
    "from snorkel.models import candidate_subclass\n",
    "\n",
    "Part_Temp = candidate_subclass('Part_Temp', ['part','temp'])"
   ]
  },
  {
   "cell_type": "markdown",
   "metadata": {},
   "source": [
    "## Loading Labels for the Training `CandidateSet`"
   ]
  },
  {
   "cell_type": "markdown",
   "metadata": {},
   "source": [
    "We now wish to provide gold labels for some of our candidates. While not necessary for the learning algorithm, these labels will help us to assess the accuracy of our labeling functions and overall system in future notebooks.\n",
    "\n",
    "Because our gold data is at the _entity_ level rather than the _mention_ level (i.e., we may know that (BC548, -55) is a true relation, but not if the particular mentions of BC548 and -55 in the document are the ones that would suggest to a human that a relationship exists), the mapping will be imperfect, but sufficient for our needs. We will give every candidate a label of `True` if it matches an entity in the gold set of relations."
   ]
  },
  {
   "cell_type": "markdown",
   "metadata": {},
   "source": [
    "First, we load the `CandidateSet`."
   ]
  },
  {
   "cell_type": "code",
   "execution_count": 3,
   "metadata": {
    "collapsed": false
   },
   "outputs": [
    {
     "name": "stdout",
     "output_type": "stream",
     "text": [
      "Candidate Set (Hardware Training Candidates) contains 6571 Candidates\n"
     ]
    }
   ],
   "source": [
    "from snorkel.models import CandidateSet\n",
    "candidates = session.query(CandidateSet).filter(\n",
    "    CandidateSet.name == 'Hardware Training Candidates').one()\n",
    "print \"%s contains %d Candidates\" % (candidates, len(candidates))"
   ]
  },
  {
   "cell_type": "markdown",
   "metadata": {},
   "source": [
    "Next, we define a loader object, giving it the session, the type of `Candidates` being annotated, the names we would like to give to the gold `CandidateSet` and `Labels`, and the instruction to expand to the `CandidateSet` (i.e., we are not simply adding additional annotations to a `CandidateSet` which is already defined)."
   ]
  },
  {
   "cell_type": "code",
   "execution_count": 4,
   "metadata": {
    "collapsed": false
   },
   "outputs": [],
   "source": [
    "from snorkel.loaders import ExternalAnnotationsLoader\n",
    "loader = ExternalAnnotationsLoader(session, Part_Temp, \n",
    "                                   'Hardware Training Candidates -- Gold',\n",
    "                                   'Hardware Training Labels -- Gold',\n",
    "                                   expand_candidate_set=True)"
   ]
  },
  {
   "cell_type": "markdown",
   "metadata": {},
   "source": [
    "We now load the labels."
   ]
  },
  {
   "cell_type": "code",
   "execution_count": 5,
   "metadata": {
    "collapsed": false,
    "scrolled": true
   },
   "outputs": [
    {
     "name": "stdout",
     "output_type": "stream",
     "text": [
      "[========================================] 100%\n",
      "\n",
      "CPU times: user 4min 41s, sys: 8.19 s, total: 4min 49s\n",
      "Wall time: 4min 59s\n"
     ]
    }
   ],
   "source": [
    "import os\n",
    "from hardware_utils import load_hardware_labels\n",
    "\n",
    "filename = os.environ['SNORKELHOME'] + '/tutorials/tables/data/hardware/hardware_gold.csv'\n",
    "%time load_hardware_labels(loader, candidates, filename, ['part','temp'], gold_attrib='stg_temp_min')"
   ]
  },
  {
   "cell_type": "code",
   "execution_count": 6,
   "metadata": {
    "collapsed": false
   },
   "outputs": [
    {
     "name": "stdout",
     "output_type": "stream",
     "text": [
      "5507/6571 Candidates have positive Labels\n",
      "5507 Labels loaded\n"
     ]
    }
   ],
   "source": [
    "from snorkel.models import Label\n",
    "\n",
    "train = session.query(CandidateSet).filter(\n",
    "    CandidateSet.name == 'Hardware Training Candidates').one()\n",
    "train_gold = session.query(CandidateSet).filter(\n",
    "    CandidateSet.name == 'Hardware Training Candidates -- Gold').one()\n",
    "print \"%d/%d Candidates have positive Labels\" % (len(train_gold), len(train))\n",
    "print \"%d Labels loaded\" % session.query(Label).filter(\n",
    "    Label.key == loader.annotation_key).count()"
   ]
  },
  {
   "cell_type": "markdown",
   "metadata": {},
   "source": [
    "## Repeat for the Development `CandidateSet`"
   ]
  },
  {
   "cell_type": "code",
   "execution_count": 7,
   "metadata": {
    "collapsed": false
   },
   "outputs": [
    {
     "name": "stdout",
     "output_type": "stream",
     "text": [
      "[========================================] 100%\n",
      "\n",
      "CPU times: user 1.23 s, sys: 84 ms, total: 1.31 s\n",
      "Wall time: 1.36 s\n",
      "57/57 Candidates in Candidate Set (Hardware Development Candidates) have positive Labels\n",
      "57 Labels loaded\n"
     ]
    }
   ],
   "source": [
    "for set_name in ['Development']:\n",
    "    candidate_set_name = 'Hardware %s Candidates' % set_name\n",
    "    candidates = session.query(CandidateSet).filter(\n",
    "        CandidateSet.name == candidate_set_name).one()\n",
    "    loader = ExternalAnnotationsLoader(session, Part_Temp, \n",
    "                                       'Hardware %s Candidates -- Gold' % set_name,\n",
    "                                       'Hardware %s Labels -- Gold' % set_name,\n",
    "                                       expand_candidate_set=True)\n",
    "    %time load_hardware_labels(loader, candidates, filename, ['part','temp'], gold_attrib='stg_temp_min')\n",
    "    candidates_gold = session.query(CandidateSet).filter(\n",
    "        CandidateSet.name == candidate_set_name + ' -- Gold').one()\n",
    "    print \"%d/%d Candidates in %s have positive Labels\" % (\n",
    "        len(candidates_gold), len(candidates), candidates)\n",
    "    print \"%d Labels loaded\" % session.query(Label).filter(\n",
    "        Label.key == loader.annotation_key).count()"
   ]
  },
  {
   "cell_type": "markdown",
   "metadata": {},
   "source": [
    "Next, in Part 4, we will auto-generate features for the `Candidates`"
   ]
  }
 ],
 "metadata": {
  "anaconda-cloud": {},
  "kernelspec": {
   "display_name": "Python [default]",
   "language": "python",
   "name": "python2"
  },
  "language_info": {
   "codemirror_mode": {
    "name": "ipython",
    "version": 2
   },
   "file_extension": ".py",
   "mimetype": "text/x-python",
   "name": "python",
   "nbconvert_exporter": "python",
   "pygments_lexer": "ipython2",
   "version": "2.7.10"
  }
 },
 "nbformat": 4,
 "nbformat_minor": 0
}
