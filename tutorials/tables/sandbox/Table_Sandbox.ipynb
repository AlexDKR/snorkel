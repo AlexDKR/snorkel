{
 "cells": [
  {
   "cell_type": "code",
   "execution_count": 1,
   "metadata": {
    "collapsed": false,
    "scrolled": false
   },
   "outputs": [],
   "source": [
    "import os\n",
    "os.remove('snorkel.db')"
   ]
  },
  {
   "cell_type": "code",
   "execution_count": 2,
   "metadata": {
    "collapsed": false,
    "scrolled": true
   },
   "outputs": [],
   "source": [
    "from snorkel import SnorkelSession\n",
    "session = SnorkelSession()\n",
    "\n",
    "import os, sys\n",
    "sys.path.append(os.environ['SNORKELHOME'] + '/tutorials/tables/')"
   ]
  },
  {
   "cell_type": "code",
   "execution_count": 3,
   "metadata": {
    "collapsed": false
   },
   "outputs": [],
   "source": [
    "import os\n",
    "from snorkel.parser import CorpusParser\n",
    "from snorkel.parser import HTMLParser\n",
    "from snorkel.parser import OmniParser\n",
    "\n",
    "doc_parser = HTMLParser(path=os.environ['SNORKELHOME'] + '/tutorials/tables/sandbox/diseases.xhtml')\n",
    "context_parser = OmniParser()\n",
    "cp = CorpusParser(doc_parser, context_parser, max_docs=1)"
   ]
  },
  {
   "cell_type": "code",
   "execution_count": 4,
   "metadata": {
    "collapsed": false,
    "scrolled": false
   },
   "outputs": [
    {
     "name": "stdout",
     "output_type": "stream",
     "text": [
      "[========================================] 100%\n",
      "CPU times: user 255 ms, sys: 18.7 ms, total: 274 ms\n",
      "Wall time: 860 ms\n",
      "32 Phrases in Corpus (Sandbox)\n"
     ]
    }
   ],
   "source": [
    "%time corpus = cp.parse_corpus(name='Sandbox', session=session)\n",
    "print \"%d Phrases in %s\" % (\n",
    "    len([phrase for doc in corpus.documents for phrase in doc.phrases]), corpus)"
   ]
  },
  {
   "cell_type": "code",
   "execution_count": 5,
   "metadata": {
    "collapsed": false
   },
   "outputs": [],
   "source": [
    "# for cell in corpus.documents[0].cells: print cell.text[:10]"
   ]
  },
  {
   "cell_type": "code",
   "execution_count": 6,
   "metadata": {
    "collapsed": false
   },
   "outputs": [],
   "source": [
    "# for phrase in [phrase for doc in corpus.documents for phrase in doc.phrases]:\n",
    "#     print phrase"
   ]
  },
  {
   "cell_type": "code",
   "execution_count": 7,
   "metadata": {
    "collapsed": true
   },
   "outputs": [],
   "source": [
    "# (a,b,c) = (2,(3 if True else 5) ,4)"
   ]
  },
  {
   "cell_type": "code",
   "execution_count": 8,
   "metadata": {
    "collapsed": false
   },
   "outputs": [],
   "source": [
    "from snorkel.models import candidate_subclass\n",
    "\n",
    "# Year = candidate_subclass('Year', ['year'])\n",
    "# Temp = candidate_subclass('Temp', ['temp'])\n",
    "# Disease = candidate_subclass('Disease', ['disease'])\n",
    "# Part = candidate_subclass('Part', ['part'])\n",
    "Disease_Year = candidate_subclass('Disease_Temp', ['disease','temp'])"
   ]
  },
  {
   "cell_type": "code",
   "execution_count": 9,
   "metadata": {
    "collapsed": false
   },
   "outputs": [],
   "source": [
    "from snorkel.candidates import OmniNgrams\n",
    "from hardware_utils import OmniNgramsPart, OmniNgramsTemp\n",
    "\n",
    "omni_ngrams = OmniNgrams(n_max=3, split_tokens=None)\n",
    "# omni_part = OmniNgramsPart(n_max=3)\n",
    "omni_temp = OmniNgramsTemp(n_max=3)\n",
    "# omni_temp = OmniNgrams(n_max=2)"
   ]
  },
  {
   "cell_type": "code",
   "execution_count": 10,
   "metadata": {
    "collapsed": false
   },
   "outputs": [
    {
     "name": "stdout",
     "output_type": "stream",
     "text": [
      "Loaded 23 diseases.\n"
     ]
    }
   ],
   "source": [
    "diseases = ['viruses', 'coughs', 'colds', 'brain', 'cancer', 'shingles', 'warts',\n",
    "              'brain cancer', 'disease', 'location', 'polio', 'chicken pox', \n",
    "              'bubonic plague', 'plague', 'scurvy', 'infectious diseases', \n",
    "              'arthritis', 'yellow fever', 'fever', 'hypochondria', 'pneumonia',\n",
    "              'whooping cough', 'heart attack']\n",
    "print \"Loaded %d diseases.\" % len(diseases)"
   ]
  },
  {
   "cell_type": "code",
   "execution_count": 11,
   "metadata": {
    "collapsed": false
   },
   "outputs": [],
   "source": [
    "from snorkel.matchers import DictionaryMatch, RegexMatchEach, RegexMatchSpan, DateMatcher\n",
    "\n",
    "disease_matcher = DictionaryMatch(d=diseases, ignore_case=True)\n",
    "# year_matcher = DateMatcher()\n",
    "# part_matcher = RegexMatchEach(rgx='BC.*')\n",
    "temp_matcher = RegexMatchSpan(rgx=r'-[5-7][05]')"
   ]
  },
  {
   "cell_type": "code",
   "execution_count": 12,
   "metadata": {
    "collapsed": false
   },
   "outputs": [],
   "source": [
    "from snorkel.candidates import CandidateExtractor\n",
    "\n",
    "# ce = CandidateExtractor(Part, [omni_part], [part_matcher])\n",
    "# ce = CandidateExtractor(Disease, [omni_ngrams], [disease_matcher])\n",
    "# ce = CandidateExtractor(Temp, [omni_temp], [temp_matcher])\n",
    "ce = CandidateExtractor(Disease_Year, \n",
    "                        [omni_ngrams, omni_temp], \n",
    "                        [disease_matcher, temp_matcher])"
   ]
  },
  {
   "cell_type": "code",
   "execution_count": 13,
   "metadata": {
    "collapsed": false,
    "scrolled": true
   },
   "outputs": [
    {
     "name": "stdout",
     "output_type": "stream",
     "text": [
      "[========================================] 100%\n",
      "CPU times: user 65.5 ms, sys: 5.27 ms, total: 70.7 ms\n",
      "Wall time: 70.5 ms\n",
      "Candidate Set (Sandbox Candidates) contains 20 Candidates\n"
     ]
    }
   ],
   "source": [
    "%time candidates = ce.extract(corpus.documents, 'Sandbox Candidates', session)\n",
    "print \"%s contains %d Candidates\" % (candidates, len(candidates))"
   ]
  },
  {
   "cell_type": "code",
   "execution_count": 14,
   "metadata": {
    "collapsed": false
   },
   "outputs": [
    {
     "name": "stdout",
     "output_type": "stream",
     "text": [
      "Disease_Temp(Span(\"Location\", parent=51, chars=[0,7], words=[0,0]), ImplicitSpan(\"-55\", parent=61, words=[-1,-1], position=[0]))\n",
      "Span(\"Location\", parent=51, chars=[0,7], words=[0,0])\n"
     ]
    }
   ],
   "source": [
    "c = candidates[0]\n",
    "print c\n",
    "part = c.get_arguments()[0]\n",
    "print part"
   ]
  },
  {
   "cell_type": "code",
   "execution_count": 15,
   "metadata": {
    "collapsed": false,
    "scrolled": true
   },
   "outputs": [
    {
     "name": "stdout",
     "output_type": "stream",
     "text": [
      "ImplicitSpan(\"-55\", parent=61, words=[-1,-1], position=[0])\n"
     ]
    }
   ],
   "source": [
    "example = candidates[0].temp\n",
    "print example"
   ]
  },
  {
   "cell_type": "code",
   "execution_count": 16,
   "metadata": {
    "collapsed": false
   },
   "outputs": [
    {
     "name": "stdout",
     "output_type": "stream",
     "text": [
      "Disease_Temp(Span(\"Location\", parent=51, chars=[0,7], words=[0,0]), ImplicitSpan(\"-55\", parent=61, words=[-1,-1], position=[0]))\n"
     ]
    }
   ],
   "source": [
    "c = candidates[0]\n",
    "print c"
   ]
  },
  {
   "cell_type": "code",
   "execution_count": 17,
   "metadata": {
    "collapsed": false
   },
   "outputs": [
    {
     "name": "stdout",
     "output_type": "stream",
     "text": [
      "Phrase(Doc: diseases, Table: 0, Row: 0, Col: 1, Position: 0, Text: Location)\n",
      "[u'Junction', u'and', u'Storage', u'Temperature', u'-55', u'to', u'150', u'o']\n",
      "[u'junction', u'and', u'storage', u'temperature', u'-55']\n",
      "[u'junction', u'and', u'storage', u'temperature', u'-55', u'to', u'150', u'o', u'junction', u'and', u'storage', u'temperature', u'-55', u'to', u'150', u'o', u'c']\n",
      "[u'junction', u'and', u'storage', u'temperature', u'-55', u'to', u'150', u'o', u'junction', u'and', u'storage', u'temperature', u'-55', u'to', u'150', u'o', u'c']\n",
      "[u'junction', u'and', u'storage', u'temperature', u'-55', u'to', u'150', u'o', u'junction', u'and', u'storage', u'temperature', u'-55', u'to', u'150', u'o', u'c', u'scurvy', u'annapolis']\n",
      "[u'scurvy']\n",
      "[u'year']\n"
     ]
    }
   ],
   "source": [
    "from snorkel.lf_helpers import *\n",
    "\n",
    "# print [cell.text[:8] for cell in _get_aligned_cells(root_phrase.cell, axis, infer=infer)]\n",
    "# print [phrase.text for cell in _get_aligned_cells(root_phrase.cell, axis, infer=infer) for phrase in cell.phrases]\n",
    "print c.disease.parent\n",
    "print list(get_left_ngrams(c.temp, n_max=1, window=10, lower=False))\n",
    "print list(get_right_ngrams(c.temp, n_max=1, window=5))\n",
    "print list(get_phrase_ngrams(c.temp, n_max=1))\n",
    "print list(get_cell_ngrams(c.temp, n_max=1))\n",
    "print list(get_row_ngrams(c.temp, n_max=1, direct=True, infer=True))\n",
    "print list(get_head_ngrams(c.temp, 'row'))\n",
    "print list(get_head_ngrams(c.temp, 'col'))"
   ]
  },
  {
   "cell_type": "code",
   "execution_count": 18,
   "metadata": {
    "collapsed": false
   },
   "outputs": [],
   "source": [
    "from snorkel.models import CandidateSet\n",
    "train = CandidateSet(name='train', candidates=candidates[:25])\n",
    "dev = CandidateSet(name='test', candidates=candidates[25:])"
   ]
  },
  {
   "cell_type": "code",
   "execution_count": 19,
   "metadata": {
    "collapsed": false,
    "scrolled": false
   },
   "outputs": [
    {
     "name": "stdout",
     "output_type": "stream",
     "text": [
      "Generating annotations for 20 candidates...\n",
      "[========================================] 100%\n",
      "Loading sparse Feature matrix...\n",
      "CPU times: user 5.02 s, sys: 41.9 ms, total: 5.06 s\n",
      "Wall time: 5.1 s\n"
     ]
    },
    {
     "data": {
      "text/plain": [
       "<20x807 sparse matrix of type '<type 'numpy.float64'>'\n",
       "\twith 3869 stored elements in Compressed Sparse Row format>"
      ]
     },
     "execution_count": 19,
     "metadata": {},
     "output_type": "execute_result"
    }
   ],
   "source": [
    "from snorkel.annotations import FeatureManager\n",
    "\n",
    "feature_manager = FeatureManager()\n",
    "%time F_train = feature_manager.create(session, train, 'Sandbox Features')\n",
    "F_train\n",
    "\n",
    "# from snorkel.features import get_span_feats\n",
    "# c = candidates[10]\n",
    "# %prun for feat in get_span_feats(c): print feat"
   ]
  },
  {
   "cell_type": "code",
   "execution_count": 20,
   "metadata": {
    "collapsed": false,
    "scrolled": true
   },
   "outputs": [
    {
     "name": "stdout",
     "output_type": "stream",
     "text": [
      "Disease_Temp(Span(\"Location\", parent=51, chars=[0,7], words=[0,0]), ImplicitSpan(\"-55\", parent=61, words=[-1,-1], position=[0]))\n",
      "\n",
      "AnnotationKey (TAB_e1_SPAN_TYPE_[EXPLICIT])\n",
      "AnnotationKey (TAB_e1_HTML_TAG_th)\n",
      "AnnotationKey (TAB_e1_HTML_ANC_TAG_[html])\n",
      "AnnotationKey (TAB_e1_HTML_ANC_TAG_[body])\n",
      "AnnotationKey (TAB_e1_HTML_ANC_TAG_[table])\n",
      "AnnotationKey (TAB_e1_HTML_ANC_TAG_[tbody])\n",
      "AnnotationKey (TAB_e1_HTML_ANC_TAG_[tr])\n",
      "AnnotationKey (TAB_e1_HTML_ANC_TAG_[th])\n",
      "AnnotationKey (TAB_e1_CONTAINS_WORDS_[Location])\n",
      "AnnotationKey (TAB_e1_ROW_NUM_[0])\n",
      "AnnotationKey (TAB_e1_COL_NUM_[1])\n",
      "AnnotationKey (TAB_e1_ROW_HEAD_WORDS_[disease])\n",
      "AnnotationKey (TAB_e1_COL_HEAD_WORDS_[-])\n",
      "AnnotationKey (TAB_e1_COL_HEAD_WORDS_[- dublin])\n",
      "AnnotationKey (TAB_e1_COL_HEAD_WORDS_[dublin])\n",
      "AnnotationKey (TAB_e1_COL_HEAD_WORDS_[dublin to])\n",
      "AnnotationKey (TAB_e1_COL_HEAD_WORDS_[to])\n",
      "AnnotationKey (TAB_e1_COL_HEAD_WORDS_[to milwaukee])\n",
      "AnnotationKey (TAB_e1_COL_HEAD_WORDS_[milwaukee])\n",
      "AnnotationKey (TAB_e1_ROW_WORDS_[disease])\n",
      "AnnotationKey (TAB_e1_ROW_WORDS_[year])\n",
      "AnnotationKey (TAB_e1_COL_WORDS_[-])\n",
      "AnnotationKey (TAB_e1_COL_WORDS_[- dublin])\n",
      "AnnotationKey (TAB_e1_COL_WORDS_[dublin])\n",
      "AnnotationKey (TAB_e1_COL_WORDS_[dublin to])\n",
      "AnnotationKey (TAB_e1_COL_WORDS_[to])\n",
      "AnnotationKey (TAB_e1_COL_WORDS_[to milwaukee])\n",
      "AnnotationKey (TAB_e1_COL_WORDS_[milwaukee])\n",
      "AnnotationKey (TAB_e1_COL_WORDS_[whooping])\n",
      "AnnotationKey (TAB_e1_COL_WORDS_[whooping cough])\n",
      "AnnotationKey (TAB_e1_COL_WORDS_[cough])\n",
      "AnnotationKey (TAB_e1_COL_WORDS_[annapolis])\n",
      "AnnotationKey (TAB_e2_SPAN_TYPE_[IMPLICIT])\n",
      "AnnotationKey (TAB_e2_HTML_TAG_td)\n",
      "AnnotationKey (TAB_e2_HTML_ANC_TAG_[html])\n",
      "AnnotationKey (TAB_e2_HTML_ANC_TAG_[body])\n",
      "AnnotationKey (TAB_e2_HTML_ANC_TAG_[table])\n",
      "AnnotationKey (TAB_e2_HTML_ANC_TAG_[tbody])\n",
      "AnnotationKey (TAB_e2_HTML_ANC_TAG_[tr])\n",
      "AnnotationKey (TAB_e2_HTML_ANC_TAG_[td])\n",
      "AnnotationKey (TAB_e2_LEFT_WORDS_[junction])\n",
      "AnnotationKey (TAB_e2_LEFT_WORDS_[junction and])\n",
      "AnnotationKey (TAB_e2_LEFT_WORDS_[and])\n",
      "AnnotationKey (TAB_e2_LEFT_WORDS_[and storage])\n",
      "AnnotationKey (TAB_e2_LEFT_WORDS_[storage])\n",
      "AnnotationKey (TAB_e2_LEFT_WORDS_[storage temperature])\n",
      "AnnotationKey (TAB_e2_LEFT_WORDS_[temperature])\n",
      "AnnotationKey (TAB_e2_LEFT_WORDS_[temperature -55])\n",
      "AnnotationKey (TAB_e2_LEFT_WORDS_[-55])\n",
      "AnnotationKey (TAB_e2_LEFT_WORDS_[-55 to])\n",
      "AnnotationKey (TAB_e2_LEFT_WORDS_[to])\n",
      "AnnotationKey (TAB_e2_LEFT_WORDS_[to 150])\n",
      "AnnotationKey (TAB_e2_LEFT_WORDS_[150])\n",
      "AnnotationKey (TAB_e2_LEFT_WORDS_[150 o])\n",
      "AnnotationKey (TAB_e2_LEFT_WORDS_[o])\n",
      "AnnotationKey (TAB_e2_RIGHT_WORDS_[junction])\n",
      "AnnotationKey (TAB_e2_RIGHT_WORDS_[junction and])\n",
      "AnnotationKey (TAB_e2_RIGHT_WORDS_[and])\n",
      "AnnotationKey (TAB_e2_RIGHT_WORDS_[and storage])\n",
      "AnnotationKey (TAB_e2_RIGHT_WORDS_[storage])\n",
      "AnnotationKey (TAB_e2_RIGHT_WORDS_[storage temperature])\n",
      "AnnotationKey (TAB_e2_RIGHT_WORDS_[temperature])\n",
      "AnnotationKey (TAB_e2_RIGHT_WORDS_[temperature -55])\n",
      "AnnotationKey (TAB_e2_RIGHT_WORDS_[-55])\n",
      "AnnotationKey (TAB_e2_RIGHT_WORDS_[-55 to])\n",
      "AnnotationKey (TAB_e2_RIGHT_WORDS_[to])\n",
      "AnnotationKey (TAB_e2_RIGHT_WORDS_[to 150])\n",
      "AnnotationKey (TAB_e2_RIGHT_WORDS_[150])\n",
      "AnnotationKey (TAB_e2_CELL_WORDS_[junction])\n",
      "AnnotationKey (TAB_e2_CELL_WORDS_[junction and])\n",
      "AnnotationKey (TAB_e2_CELL_WORDS_[and])\n",
      "AnnotationKey (TAB_e2_CELL_WORDS_[and storage])\n",
      "AnnotationKey (TAB_e2_CELL_WORDS_[storage])\n",
      "AnnotationKey (TAB_e2_CELL_WORDS_[storage temperature])\n",
      "AnnotationKey (TAB_e2_CELL_WORDS_[temperature])\n",
      "AnnotationKey (TAB_e2_CELL_WORDS_[temperature -55])\n",
      "AnnotationKey (TAB_e2_CELL_WORDS_[-55])\n",
      "AnnotationKey (TAB_e2_CELL_WORDS_[-55 to])\n",
      "AnnotationKey (TAB_e2_CELL_WORDS_[to])\n",
      "AnnotationKey (TAB_e2_CELL_WORDS_[to 150])\n",
      "AnnotationKey (TAB_e2_CELL_WORDS_[150])\n",
      "AnnotationKey (TAB_e2_CELL_WORDS_[150 o])\n",
      "AnnotationKey (TAB_e2_CELL_WORDS_[o])\n",
      "AnnotationKey (TAB_e2_CELL_WORDS_[o c])\n",
      "AnnotationKey (TAB_e2_CELL_WORDS_[c])\n",
      "AnnotationKey (TAB_e2_ROW_NUM_[3])\n",
      "AnnotationKey (TAB_e2_COL_NUM_[2])\n",
      "AnnotationKey (TAB_e2_ROW_HEAD_WORDS_[scurvy])\n",
      "AnnotationKey (TAB_e2_COL_HEAD_WORDS_[year])\n",
      "AnnotationKey (TAB_e2_ROW_WORDS_[junction])\n",
      "AnnotationKey (TAB_e2_ROW_WORDS_[junction and])\n",
      "AnnotationKey (TAB_e2_ROW_WORDS_[and])\n",
      "AnnotationKey (TAB_e2_ROW_WORDS_[and storage])\n",
      "AnnotationKey (TAB_e2_ROW_WORDS_[storage])\n",
      "AnnotationKey (TAB_e2_ROW_WORDS_[storage temperature])\n",
      "AnnotationKey (TAB_e2_ROW_WORDS_[temperature])\n",
      "AnnotationKey (TAB_e2_ROW_WORDS_[temperature -55])\n",
      "AnnotationKey (TAB_e2_ROW_WORDS_[-55])\n",
      "AnnotationKey (TAB_e2_ROW_WORDS_[-55 to])\n",
      "AnnotationKey (TAB_e2_ROW_WORDS_[to])\n",
      "AnnotationKey (TAB_e2_ROW_WORDS_[to 150])\n",
      "AnnotationKey (TAB_e2_ROW_WORDS_[150])\n",
      "AnnotationKey (TAB_e2_ROW_WORDS_[150 o])\n",
      "AnnotationKey (TAB_e2_ROW_WORDS_[o])\n",
      "AnnotationKey (TAB_e2_ROW_WORDS_[o c])\n",
      "AnnotationKey (TAB_e2_ROW_WORDS_[c])\n",
      "AnnotationKey (TAB_e2_ROW_WORDS_[scurvy])\n",
      "AnnotationKey (TAB_e2_ROW_WORDS_[annapolis])\n",
      "AnnotationKey (TAB_e2_COL_WORDS_[junction])\n",
      "AnnotationKey (TAB_e2_COL_WORDS_[junction and])\n",
      "AnnotationKey (TAB_e2_COL_WORDS_[and])\n",
      "AnnotationKey (TAB_e2_COL_WORDS_[and storage])\n",
      "AnnotationKey (TAB_e2_COL_WORDS_[storage])\n",
      "AnnotationKey (TAB_e2_COL_WORDS_[storage temperature])\n",
      "AnnotationKey (TAB_e2_COL_WORDS_[temperature])\n",
      "AnnotationKey (TAB_e2_COL_WORDS_[temperature -55])\n",
      "AnnotationKey (TAB_e2_COL_WORDS_[-55])\n",
      "AnnotationKey (TAB_e2_COL_WORDS_[-55 to])\n",
      "AnnotationKey (TAB_e2_COL_WORDS_[to])\n",
      "AnnotationKey (TAB_e2_COL_WORDS_[to 150])\n",
      "AnnotationKey (TAB_e2_COL_WORDS_[150])\n",
      "AnnotationKey (TAB_e2_COL_WORDS_[150 o])\n",
      "AnnotationKey (TAB_e2_COL_WORDS_[o])\n",
      "AnnotationKey (TAB_e2_COL_WORDS_[o c])\n",
      "AnnotationKey (TAB_e2_COL_WORDS_[c])\n",
      "AnnotationKey (TAB_e2_COL_WORDS_[year])\n",
      "AnnotationKey (TAB_e2_COL_WORDS_[%])\n",
      "AnnotationKey (TAB_e2_COL_WORDS_[% 2001])\n",
      "AnnotationKey (TAB_e2_COL_WORDS_[2001])\n",
      "AnnotationKey (TAB_e2_ROW_INFERRED_WORDS_[junction])\n",
      "AnnotationKey (TAB_e2_ROW_INFERRED_WORDS_[junction and])\n",
      "AnnotationKey (TAB_e2_ROW_INFERRED_WORDS_[and])\n",
      "AnnotationKey (TAB_e2_ROW_INFERRED_WORDS_[and storage])\n",
      "AnnotationKey (TAB_e2_ROW_INFERRED_WORDS_[storage])\n",
      "AnnotationKey (TAB_e2_ROW_INFERRED_WORDS_[storage temperature])\n",
      "AnnotationKey (TAB_e2_ROW_INFERRED_WORDS_[temperature])\n",
      "AnnotationKey (TAB_e2_ROW_INFERRED_WORDS_[temperature -55])\n",
      "AnnotationKey (TAB_e2_ROW_INFERRED_WORDS_[-55])\n",
      "AnnotationKey (TAB_e2_ROW_INFERRED_WORDS_[-55 to])\n",
      "AnnotationKey (TAB_e2_ROW_INFERRED_WORDS_[to])\n",
      "AnnotationKey (TAB_e2_ROW_INFERRED_WORDS_[to 150])\n",
      "AnnotationKey (TAB_e2_ROW_INFERRED_WORDS_[150])\n",
      "AnnotationKey (TAB_e2_ROW_INFERRED_WORDS_[150 o])\n",
      "AnnotationKey (TAB_e2_ROW_INFERRED_WORDS_[o])\n",
      "AnnotationKey (TAB_e2_ROW_INFERRED_WORDS_[o c])\n",
      "AnnotationKey (TAB_e2_ROW_INFERRED_WORDS_[c])\n",
      "AnnotationKey (TAB_e2_COL_INFERRED_WORDS_[junction])\n",
      "AnnotationKey (TAB_e2_COL_INFERRED_WORDS_[junction and])\n",
      "AnnotationKey (TAB_e2_COL_INFERRED_WORDS_[and])\n",
      "AnnotationKey (TAB_e2_COL_INFERRED_WORDS_[and storage])\n",
      "AnnotationKey (TAB_e2_COL_INFERRED_WORDS_[storage])\n",
      "AnnotationKey (TAB_e2_COL_INFERRED_WORDS_[storage temperature])\n",
      "AnnotationKey (TAB_e2_COL_INFERRED_WORDS_[temperature])\n",
      "AnnotationKey (TAB_e2_COL_INFERRED_WORDS_[temperature -55])\n",
      "AnnotationKey (TAB_e2_COL_INFERRED_WORDS_[-55])\n",
      "AnnotationKey (TAB_e2_COL_INFERRED_WORDS_[-55 to])\n",
      "AnnotationKey (TAB_e2_COL_INFERRED_WORDS_[to])\n",
      "AnnotationKey (TAB_e2_COL_INFERRED_WORDS_[to 150])\n",
      "AnnotationKey (TAB_e2_COL_INFERRED_WORDS_[150])\n",
      "AnnotationKey (TAB_e2_COL_INFERRED_WORDS_[150 o])\n",
      "AnnotationKey (TAB_e2_COL_INFERRED_WORDS_[o])\n",
      "AnnotationKey (TAB_e2_COL_INFERRED_WORDS_[o c])\n",
      "AnnotationKey (TAB_e2_COL_INFERRED_WORDS_[c])\n",
      "AnnotationKey (TAB_e2_COL_INFERRED_WORDS_[whooping])\n",
      "AnnotationKey (TAB_e2_COL_INFERRED_WORDS_[whooping cough])\n",
      "AnnotationKey (TAB_e2_COL_INFERRED_WORDS_[cough])\n",
      "AnnotationKey (TAB_SAME_TABLE)\n",
      "AnnotationKey (TAB_SAME_TABLE_ROW_DIFF_[-3])\n",
      "AnnotationKey (TAB_SAME_TABLE_COL_DIFF_[-1])\n",
      "AnnotationKey (TAB_SAME_TABLE_MANHATTAN_DIST_[4])\n"
     ]
    }
   ],
   "source": [
    "from snorkel.utils import get_keys_by_candidate\n",
    "\n",
    "c = candidates[0]\n",
    "print c\n",
    "print\n",
    "for f in get_keys_by_candidate(c, F_train)[:]: print f"
   ]
  },
  {
   "cell_type": "code",
   "execution_count": 21,
   "metadata": {
    "collapsed": false
   },
   "outputs": [],
   "source": [
    "# c = candidates[0]\n",
    "# print c\n",
    "# print c.year\n",
    "# print c.year.parent\n",
    "# print c.year.char_start\n",
    "# print c.year.char_end\n",
    "# print c.year.parent.words\n",
    "# print c.year.parent.char_offsets\n",
    "# print c.year.parent.lemmas\n",
    "# print c.year.parent.pos_tags\n",
    "# print c.year.parent.ner_tags\n",
    "# print c.year.parent.dep_parents\n",
    "# print c.year.parent.dep_labels\n",
    "# print c.year.get_word_start()\n",
    "# print c.year.get_word_end()\n",
    "# # print get_row_ngrams(c.year)\n",
    "# # print get_row_ngrams(c.year, infer=True)\n",
    "# %time for i in range(1000): _get_aligned_cells((c.year).parent.cell, 'col', infer=True)"
   ]
  },
  {
   "cell_type": "code",
   "execution_count": 22,
   "metadata": {
    "collapsed": false
   },
   "outputs": [],
   "source": [
    "# from snorkel.models import Span, ImplicitSpan, TemporarySpan\n",
    "\n",
    "# print isinstance(c.year, TemporarySpan)"
   ]
  },
  {
   "cell_type": "code",
   "execution_count": 23,
   "metadata": {
    "collapsed": true
   },
   "outputs": [],
   "source": [
    "# from snorkel.lf_helpers import get_between_ngrams, get_left_ngrams, get_right_ngrams\n",
    "# from snorkel.lf_helpers import contains_token, contains_regex\n",
    "# from snorkel.lf_helpers import get_phrase_ngrams, get_cell_ngrams, get_neighbor_cell_ngrams\n",
    "# from snorkel.lf_helpers import get_row_ngrams, get_col_ngrams, get_aligned_ngrams\n",
    "# from snorkel.lf_helpers import same_document, same_table, same_cell, same_phrase\n",
    "# from snorkel.lf_helpers import _get_aligned_cells, _get_nonempty_cell"
   ]
  },
  {
   "cell_type": "code",
   "execution_count": 24,
   "metadata": {
    "collapsed": false
   },
   "outputs": [
    {
     "name": "stdout",
     "output_type": "stream",
     "text": [
      "[]\n"
     ]
    }
   ],
   "source": [
    "from snorkel.lf_helpers import *\n",
    "c = candidates[2]\n",
    "print list(get_head_ngrams(c.disease, axis='col'))\n",
    "# print get_left_ngrams(c.disease)\n",
    "# print get_right_ngrams(c.disease)\n",
    "# print contains_token(c, 'plague')\n",
    "# print contains_regex(c, r'pla')\n",
    "# print same_document(c)\n",
    "# print same_table(c)\n",
    "# print same_cell(c)\n",
    "# print same_phrase(c)\n",
    "# print get_phrase_ngrams(c.disease, n_min=1, n_max=3, case_sensitive=True)\n",
    "# print get_cell_ngrams(c.disease, attrib='pos_tags')\n",
    "# print get_neighbor_cell_ngrams(c.disease, dist=2, directions=True)\n",
    "# print get_row_ngrams(c.disease)\n",
    "# print get_col_ngrams(c.disease)\n",
    "# print get_aligned_ngrams(c.disease)\n",
    "# print get_aligned_ngrams(c.disease, infer=True)"
   ]
  },
  {
   "cell_type": "code",
   "execution_count": 25,
   "metadata": {
    "collapsed": false
   },
   "outputs": [],
   "source": [
    "# from hardware_utils import expand_implicit_text \n",
    "\n",
    "# for part in expand_implicit_text(''.join(['BC856/857/858', '/', '859/860'])): print part"
   ]
  },
  {
   "cell_type": "code",
   "execution_count": 26,
   "metadata": {
    "collapsed": false
   },
   "outputs": [],
   "source": [
    "# def foo(n):\n",
    "#     phrase = 'repeat me'\n",
    "#     pmul = phrase * n\n",
    "#     pjoi = ''.join([phrase for x in xrange(n)])\n",
    "#     pinc = ''\n",
    "#     for x in xrange(n):\n",
    "#         pinc += phrase\n",
    "#     del pmul, pjoi, pinc"
   ]
  },
  {
   "cell_type": "code",
   "execution_count": 27,
   "metadata": {
    "collapsed": false
   },
   "outputs": [],
   "source": [
    "# %lprun -f foo foo(1000)"
   ]
  },
  {
   "cell_type": "code",
   "execution_count": 28,
   "metadata": {
    "collapsed": false
   },
   "outputs": [],
   "source": [
    "# from hardware_utils import get_gold_dict\n",
    "\n",
    "# filename = os.environ['SNORKELHOME'] + '/tutorials/tables/data/hardware/hardware_gold.csv'\n",
    "# gold_dict = get_gold_dict(filename, 'stg_temp_min')"
   ]
  },
  {
   "cell_type": "code",
   "execution_count": 29,
   "metadata": {
    "collapsed": false
   },
   "outputs": [],
   "source": [
    "# print len(gold_dict.values())\n",
    "# print gold_dict.values().count(1)"
   ]
  },
  {
   "cell_type": "code",
   "execution_count": 30,
   "metadata": {
    "collapsed": false
   },
   "outputs": [],
   "source": [
    "# from hardware_utils import count_hardware_labels\n",
    "\n",
    "# filename = os.environ['SNORKELHOME'] + '/tutorials/tables/data/hardware/hardware_gold.csv'\n",
    "# %time (certain, maybe) = count_hardware_labels(loader, candidates, filename, attrib='stg_temp_min', attrib_class='temp')"
   ]
  },
  {
   "cell_type": "code",
   "execution_count": 31,
   "metadata": {
    "collapsed": false
   },
   "outputs": [],
   "source": [
    "# %time \n",
    "# for i in range(10000): \n",
    "#     for j in range(100):\n",
    "#         1 + 1"
   ]
  },
  {
   "cell_type": "code",
   "execution_count": 32,
   "metadata": {
    "collapsed": true
   },
   "outputs": [],
   "source": [
    "# from snorkel.utils import ProgressBar;"
   ]
  },
  {
   "cell_type": "code",
   "execution_count": 33,
   "metadata": {
    "collapsed": false
   },
   "outputs": [],
   "source": [
    "# %%time\n",
    "# n = 100000\n",
    "# pb = ProgressBar(n)\n",
    "# for i in xrange(n):\n",
    "#     pb.bar(i)\n",
    "# pb.close()"
   ]
  },
  {
   "cell_type": "code",
   "execution_count": 34,
   "metadata": {
    "collapsed": false
   },
   "outputs": [],
   "source": [
    "# N = 235\n",
    "# N = 10\n",
    "# ticks = set([int(i * N/100.0) for i in range(1,101)])\n",
    "# print ticks"
   ]
  },
  {
   "cell_type": "code",
   "execution_count": null,
   "metadata": {
    "collapsed": true
   },
   "outputs": [],
   "source": []
  }
 ],
 "metadata": {
  "anaconda-cloud": {},
  "kernelspec": {
   "display_name": "Python [default]",
   "language": "python",
   "name": "python2"
  },
  "language_info": {
   "codemirror_mode": {
    "name": "ipython",
    "version": 2
   },
   "file_extension": ".py",
   "mimetype": "text/x-python",
   "name": "python",
   "nbconvert_exporter": "python",
   "pygments_lexer": "ipython2",
   "version": "2.7.10"
  }
 },
 "nbformat": 4,
 "nbformat_minor": 0
}
