{
 "cells": [
  {
   "cell_type": "code",
   "execution_count": null,
   "metadata": {
    "collapsed": false
   },
   "outputs": [],
   "source": [
    "import os\n",
    "os.remove('snorkel.db')"
   ]
  },
  {
   "cell_type": "code",
   "execution_count": null,
   "metadata": {
    "collapsed": false
   },
   "outputs": [],
   "source": [
    "%load_ext autoreload\n",
    "%autoreload 2\n",
    "%matplotlib inline\n",
    "\n",
    "import os, sys\n",
    "sys.path.append(os.environ['SNORKELHOME'] + '/tutorials/tables/')"
   ]
  },
  {
   "cell_type": "markdown",
   "metadata": {},
   "source": [
    "### Parsing"
   ]
  },
  {
   "cell_type": "code",
   "execution_count": null,
   "metadata": {
    "collapsed": false
   },
   "outputs": [],
   "source": [
    "from snorkel import SnorkelSession\n",
    "session = SnorkelSession()"
   ]
  },
  {
   "cell_type": "markdown",
   "metadata": {},
   "source": [
    "#### Define Parser"
   ]
  },
  {
   "cell_type": "code",
   "execution_count": null,
   "metadata": {
    "collapsed": false
   },
   "outputs": [],
   "source": [
    "import os\n",
    "from snorkel.parser import CorpusParser, HTMLParser, OmniParser\n",
    "from snorkel.utils import get_ORM_instance\n",
    "from snorkel.queries import split_corpus\n",
    "\n",
    "html_path = os.environ['SNORKELHOME'] + '/tutorials/tables/data/hardware/hardware100_html/'\n",
    "pdf_path  = os.environ['SNORKELHOME'] + '/tutorials/tables/data/hardware/hardware100_pdf/'\n",
    "doc_parser = HTMLParser(path=html_path)\n",
    "context_parser = OmniParser(pdf_path=pdf_path, session=session)\n",
    "cp = CorpusParser(doc_parser, context_parser, max_docs=100) "
   ]
  },
  {
   "cell_type": "markdown",
   "metadata": {},
   "source": [
    "#### Run Parser"
   ]
  },
  {
   "cell_type": "code",
   "execution_count": null,
   "metadata": {
    "collapsed": false
   },
   "outputs": [],
   "source": [
    "%time corpus = cp.parse_corpus(name='Hardware', session=session)\n",
    "\n",
    "session.add(corpus)\n",
    "session.commit()"
   ]
  },
  {
   "cell_type": "markdown",
   "metadata": {},
   "source": [
    "#### Backup"
   ]
  },
  {
   "cell_type": "code",
   "execution_count": null,
   "metadata": {
    "collapsed": false
   },
   "outputs": [],
   "source": [
    "# If necessary\n",
    "import os\n",
    "os.system('cp snorkel.db snorkel.db\\ corpus');"
   ]
  },
  {
   "cell_type": "markdown",
   "metadata": {
    "collapsed": true
   },
   "source": [
    "### Extraction"
   ]
  },
  {
   "cell_type": "code",
   "execution_count": 1,
   "metadata": {
    "collapsed": false
   },
   "outputs": [],
   "source": [
    "# If necessary:\n",
    "import os\n",
    "os.remove('snorkel.db');\n",
    "os.system('cp snorkel.db\\ corpus snorkel.db');\n",
    "\n",
    "%load_ext autoreload\n",
    "%autoreload 2\n",
    "%matplotlib inline\n",
    "\n",
    "import sys\n",
    "sys.path.append(os.environ['SNORKELHOME'] + '/tutorials/tables/')\n",
    "\n",
    "from snorkel import SnorkelSession\n",
    "session = SnorkelSession()\n",
    "\n",
    "from snorkel.models import candidate_subclass\n",
    "\n",
    "Part = candidate_subclass('Part', ['part'])"
   ]
  },
  {
   "cell_type": "markdown",
   "metadata": {},
   "source": [
    "#### Define Matchers"
   ]
  },
  {
   "cell_type": "code",
   "execution_count": 2,
   "metadata": {
    "collapsed": true
   },
   "outputs": [],
   "source": [
    "from snorkel.matchers import RegexMatchSpan, Union\n",
    "\n",
    "eeca_rgx = ur'([b]{1}[abcdefklnpqruyz]{1}[\\swxyz]?[0-9]{3,5}[\\s]?[A-Z]{0,2}[\\/]?[A-Z]{0,2}[0-9]?[A-Z]?([(\\-|\\u2010|\\u2011|\\u2012|\\u2013|\\u2014|\\u2212)][A-Z0-9]{1,7})?([(\\-|\\u2010|\\u2011|\\u2012|\\u2013|\\u2014|\\u2212)][A-Z0-9]{1,2})?)'\n",
    "eeca_matcher = RegexMatchSpan(rgx=eeca_rgx, longest_match_only=True)\n",
    "jedec_rgx = '([123]N\\d{3,4}[A-Z]{0,5}[0-9]?[A-Z]?)'\n",
    "jedec_matcher = RegexMatchSpan(rgx=jedec_rgx, longest_match_only=True)\n",
    "jis_rgx = '(2S[abcdefghjkmqrstvz]{1}[\\d]{2,4})'\n",
    "jis_matcher = RegexMatchSpan(rgx=jis_rgx, longest_match_only=True)\n",
    "others_rgx = '((NSVBC|SMBT|MJ|MJE|MPS|MRF|RCA|TIP|ZTX|ZT|TIS|TIPL|DTC|MMBT|PZT){1}[\\d]{2,4}[A-Z]{0,3}([-][A-Z0-9]{0,6})?([-][A-Z0-9]{0,1})?)'\n",
    "others_matcher = RegexMatchSpan(rgx=others_rgx, longest_match_only=True)\n",
    "# parts_rgx = '|'.join([eeca_rgx, jedec_rgx, jis_rgx, others_rgx])\n",
    "parts_matcher = Union(eeca_matcher, jedec_matcher, jis_matcher, others_matcher)"
   ]
  },
  {
   "cell_type": "markdown",
   "metadata": {},
   "source": [
    "#### Define ContextSpaces"
   ]
  },
  {
   "cell_type": "code",
   "execution_count": 5,
   "metadata": {
    "collapsed": false
   },
   "outputs": [
    {
     "name": "stdout",
     "output_type": "stream",
     "text": [
      "[========================================] 100%\n"
     ]
    }
   ],
   "source": [
    "import os\n",
    "from collections import defaultdict\n",
    "from hardware_utils import OmniNgramsPart, get_gold_dict, expand_part_range\n",
    "from snorkel.utils import ProgressBar\n",
    "from snorkel.lf_helpers import *\n",
    "from snorkel.utils import get_ORM_instance\n",
    "from snorkel.models import Corpus\n",
    "from snorkel.candidates import OmniNgrams\n",
    "\n",
    "# # 1 Pass to find all suffixes using a suffix matcher\n",
    "corpus = get_ORM_instance(Corpus, session, 'Hardware')\n",
    "\n",
    "eeca_suffix = '^(A|B|C|-16|-25|-40|16|25|40)$'\n",
    "suffix_matcher = RegexMatchSpan(rgx=eeca_suffix, ignore_case=False)\n",
    "\n",
    "suffix_ngrams = OmniNgrams(n_max=1)\n",
    "\n",
    "part_ngrams = OmniNgramsPart(n_max=5) # need to expand it automatically\n",
    "\n",
    "def extract_dicts(contexts, session):\n",
    "    suffixes_by_doc = defaultdict(set)\n",
    "    parts_by_doc = defaultdict(set)\n",
    "    final_dict = defaultdict(set)\n",
    "    mapping = [ (u'\\u2010', '-'),\n",
    "                (u'\\u2011', '-'),\n",
    "                (u'\\u2012', '-'),\n",
    "                (u'\\u2013', '-'),\n",
    "                (u'\\u2014', '-'),\n",
    "                (u'\\u2212', '-'),\n",
    "              ]\n",
    "    pb = ProgressBar(len(contexts))\n",
    "    for i, context in enumerate(contexts):\n",
    "        pb.bar(i)\n",
    "        # Extract Suffixes\n",
    "        for ts in suffix_matcher.apply(suffix_ngrams.apply(context)):\n",
    "            row_ngrams = set(get_row_ngrams(ts, infer=True))\n",
    "            if ('classification' in row_ngrams or \n",
    "                'group' in row_ngrams or\n",
    "                'rank' in row_ngrams or\n",
    "                'grp.' in row_ngrams):\n",
    "                suffixes_by_doc[ts.parent.document.name.upper()].add(ts.get_span())\n",
    "        \n",
    "        #extract parts\n",
    "        for ts in parts_matcher.apply(part_ngrams.apply(context)):\n",
    "            text = ts.get_span()\n",
    "            \n",
    "            # Targetted at docs like ONSMS04099-1\n",
    "            col_ngrams = set(get_col_ngrams(ts))\n",
    "            if ('replacement' in col_ngrams or\n",
    "                (len(col_ngrams) > 25 and 'device' in col_ngrams)):\n",
    "                continue\n",
    "                \n",
    "            row_ngrams = set(get_row_ngrams(ts))\n",
    "            if ('complementary' in row_ngrams):\n",
    "                continue\n",
    "            \n",
    "            for k, v in mapping:\n",
    "                text = text.replace(k, v)\n",
    "                \n",
    "            if text.endswith('/') or text.endswith('-'):\n",
    "                continue\n",
    "                \n",
    "            if \"PNP\" in text or \"NPN\" in text:\n",
    "                continue\n",
    "                \n",
    "            parts_by_doc[ts.parent.document.name.upper()].add(text)\n",
    "    \n",
    "    pb.close()\n",
    "    \n",
    "    # Process suffixes and parts\n",
    "    for doc in parts_by_doc.keys():\n",
    "        for part in parts_by_doc[doc]:\n",
    "            final_dict[doc].add(part)\n",
    "            for suffix in suffixes_by_doc[doc]:\n",
    "                if (suffix == \"A\" or suffix == \"B\" or suffix == \"C\"):\n",
    "                    if not any(x in part[2:] for x in ['A', 'B', 'C']):\n",
    "                        final_dict[doc].add(part + suffix)\n",
    "                else: # if it's 16/25/40\n",
    "                    if not suffix.startswith('-') and not any(x in part for x in ['16', '25', '40']):\n",
    "                        final_dict[doc].add(part + '-' + suffix)\n",
    "                    elif suffix.startswith('-') and not any(x in part for x in ['16', '25', '40']):\n",
    "                        final_dict[doc].add(part + suffix)\n",
    "\n",
    "    # TODO: Just return final_set. Temporarily returning the other two for\n",
    "    # easier debugging.\n",
    "    return final_dict, suffixes_by_doc, parts_by_doc\n",
    "            \n",
    "parts, s, p = extract_dicts(corpus.documents, session)      "
   ]
  },
  {
   "cell_type": "code",
   "execution_count": 6,
   "metadata": {
    "collapsed": false
   },
   "outputs": [],
   "source": [
    "import pickle\n",
    "filename = '1stpass.pkl'\n",
    "with open(filename, 'w') as f:\n",
    "    pickle.dump([parts, s, p], f)"
   ]
  },
  {
   "cell_type": "code",
   "execution_count": null,
   "metadata": {
    "collapsed": true
   },
   "outputs": [],
   "source": [
    "import pickle\n",
    "filename = '1stpass.pkl'\n",
    "with open(filename, 'r') as f:\n",
    "    [parts, s, p] = pickle.load(f)"
   ]
  },
  {
   "cell_type": "code",
   "execution_count": 7,
   "metadata": {
    "collapsed": false
   },
   "outputs": [
    {
     "name": "stdout",
     "output_type": "stream",
     "text": [
      "[u'BC237',\n",
      " u'BC237A',\n",
      " u'BC237B',\n",
      " u'BC237C',\n",
      " u'BC238',\n",
      " u'BC238B',\n",
      " u'BC238C',\n",
      " u'BC239',\n",
      " u'BC239C',\n",
      " u'MPS3904',\n",
      " u'be100']\n"
     ]
    }
   ],
   "source": [
    "from pprint import pprint\n",
    "from hardware_utils import OmniNgramsPart, get_gold_dict, expand_part_range  \n",
    "pprint(sorted([part for part in parts['ONSMS04099-1']]))\n",
    "\n"
   ]
  },
  {
   "cell_type": "code",
   "execution_count": null,
   "metadata": {
    "collapsed": false
   },
   "outputs": [],
   "source": [
    "# # Enhance CandidateExtractor to add these suffixes to the parts found in the parts_matcher\n",
    "# from hardware_utils import get_gold_dict\n",
    "# from collections import defaultdict\n",
    "\n",
    "# # Make parts list\n",
    "# gold_file = os.environ['SNORKELHOME'] + '/tutorials/tables/data/hardware/hardware_gold.csv'\n",
    "\n",
    "# # # Gold parts looks like this:\n",
    "# #     # set([('112823', 'BC546'),\n",
    "# #     #      ('112823', 'BC546B'),\n",
    "# #     #      ('112823', 'BC546BG'),            if ts.parent.document.name.upper() == \"MOTOS03189-1\":\n",
    "# #     #      ('112823', 'BC546BRL1'),\n",
    "# #     #      ('112823', 'BC546BRL1G'),\n",
    "# #     #      ('112823', 'BC546BZL1G'),\n",
    "# #     #      ('112823', 'BC547'),\n",
    "# #     #      ('112823', 'BC547A'),\n",
    "# #     #      ('112823', 'BC547ARL'),\n",
    "# #     #      ('112823', 'BC547ARLG'),\n",
    "# #     #      ('112823', 'BC547AZL1G'),\n",
    "# #     #      ('112823', 'BC547B'),\n",
    "# #     #      ('112823', 'BC547BG'),\n",
    "# gold_parts = get_gold_dict(gold_file, doc_on=True, part_on=True, val_on=False)\n",
    "\n",
    "# gold = set()\n",
    "# gold_parts_by_doc = defaultdict(set)\n",
    "# for part in gold_parts:\n",
    "#     gold_parts_by_doc[part[0]].add(part[1])\n",
    "#     gold.add((part[0], part[1]))\n",
    "# print len(gold)\n",
    "\n",
    "# homemade = set()\n",
    "# for doc, parts in parts.iteritems():\n",
    "#     for part in parts:\n",
    "#         homemade.add((doc,part))\n",
    "# print len(homemade)"
   ]
  },
  {
   "cell_type": "code",
   "execution_count": null,
   "metadata": {
    "collapsed": false
   },
   "outputs": [],
   "source": [
    "# tp = gold.intersection(homemade)\n",
    "# fp = homemade - gold\n",
    "# fn = gold - homemade\n",
    "# print \"TP: \", len(tp)\n",
    "# print \"FP: \", len(fp)\n",
    "# print \"FN: \", len(fn)\n",
    "# print \"TOTAL: \", len(tp) + len(fp) + len(fn)"
   ]
  },
  {
   "cell_type": "code",
   "execution_count": null,
   "metadata": {
    "collapsed": false
   },
   "outputs": [],
   "source": [
    "# from pprint import pprint\n",
    "# pprint(fp)"
   ]
  },
  {
   "cell_type": "code",
   "execution_count": 8,
   "metadata": {
    "collapsed": false
   },
   "outputs": [],
   "source": [
    "from hardware_utils import OmniNgramsPart\n",
    "\n",
    "part_ngrams = OmniNgramsPart(parts_by_doc=parts, n_max=5)"
   ]
  },
  {
   "cell_type": "markdown",
   "metadata": {},
   "source": [
    "#### Run CandidateExtractor"
   ]
  },
  {
   "cell_type": "code",
   "execution_count": null,
   "metadata": {
    "collapsed": false
   },
   "outputs": [
    {
     "name": "stdout",
     "output_type": "stream",
     "text": [
      "Extracting Candidates from Corpus (Hardware)\n",
      "[========================================] 100%\n",
      "CPU times: user 1min 7s, sys: 728 ms, total: 1min 8s\n",
      "Wall time: 1min 8s\n",
      "Candidate Set (Hardware Candidates) contains 23436 Candidates\n"
     ]
    }
   ],
   "source": [
    "from snorkel.models import Corpus\n",
    "from snorkel.candidates import CandidateExtractor\n",
    "from snorkel.utils import get_ORM_instance\n",
    "\n",
    "\n",
    "ce = CandidateExtractor(Part, \n",
    "                        [part_ngrams], \n",
    "                        [parts_matcher])\n",
    "\n",
    "for corpus_name in ['Hardware']:\n",
    "    corpus = get_ORM_instance(Corpus, session, corpus_name)\n",
    "    print \"Extracting Candidates from %s\" % corpus\n",
    "    %time candidates = ce.extract(\\\n",
    "        corpus.documents, corpus_name + ' Candidates', session)\n",
    "    session.add(candidates)\n",
    "    print \"%s contains %d Candidates\" % (candidates, len(candidates))\n",
    "session.commit()"
   ]
  },
  {
   "cell_type": "markdown",
   "metadata": {},
   "source": [
    "### Assess Recall\n",
    "\n",
    "Using the dictionary approach we have\n",
    "\n",
    "- **24820** candidates for part numbers\n",
    "- 811 entity-level candidates and **100% recall**."
   ]
  },
  {
   "cell_type": "code",
   "execution_count": null,
   "metadata": {
    "collapsed": false
   },
   "outputs": [
    {
     "name": "stdout",
     "output_type": "stream",
     "text": [
      "Preparing candidates...\n",
      "[=================================       ] 82%"
     ]
    }
   ],
   "source": [
    "from hardware_utils import entity_level_total_recall, most_common_document, get_gold_dict\n",
    "from snorkel.utils import get_ORM_instance\n",
    "from snorkel.models import Candidate, Corpus\n",
    "\n",
    "all_candidates = session.query(Candidate).all()\n",
    "gold_file = os.environ['SNORKELHOME'] + '/tutorials/tables/data/hardware/hardware_gold.csv'\n",
    "\n",
    "corpus = get_ORM_instance(Corpus, session, 'Hardware')\n",
    "(tp, fp, fn) = entity_level_total_recall(\n",
    "    all_candidates, gold_file, None, corpus=corpus, relation=False)\n",
    "print \"TP: \", len(tp)\n",
    "print \"FP: \", len(fp)\n",
    "print \"FN: \", len(fn)\n",
    "print \"TOTAL: \", len(tp) + len(fp) + len(fn)"
   ]
  },
  {
   "cell_type": "code",
   "execution_count": null,
   "metadata": {
    "collapsed": false
   },
   "outputs": [],
   "source": [
    "from pprint import pprint\n",
    "fps = list(fn)\n",
    "pprint(sorted(fps))"
   ]
  },
  {
   "cell_type": "code",
   "execution_count": null,
   "metadata": {
    "collapsed": true
   },
   "outputs": [],
   "source": [
    "# If necessary\n",
    "import os\n",
    "os.system('cp snorkel.db snorkel.db\\ candidates');"
   ]
  },
  {
   "cell_type": "code",
   "execution_count": null,
   "metadata": {
    "collapsed": true
   },
   "outputs": [],
   "source": []
  }
 ],
 "metadata": {
  "anaconda-cloud": {},
  "kernelspec": {
   "display_name": "Python 2",
   "language": "python",
   "name": "python2"
  },
  "language_info": {
   "codemirror_mode": {
    "name": "ipython",
    "version": 2
   },
   "file_extension": ".py",
   "mimetype": "text/x-python",
   "name": "python",
   "nbconvert_exporter": "python",
   "pygments_lexer": "ipython2",
   "version": "2.7.12"
  }
 },
 "nbformat": 4,
 "nbformat_minor": 0
}
