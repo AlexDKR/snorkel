{
 "cells": [
  {
   "cell_type": "markdown",
   "metadata": {},
   "source": [
    "# Tables in Snorkel: Extracting Attributes from Spec Sheets"
   ]
  },
  {
   "cell_type": "markdown",
   "metadata": {},
   "source": [
    "## Part IV:  Features and Labeling Functions"
   ]
  },
  {
   "cell_type": "code",
   "execution_count": 1,
   "metadata": {
    "collapsed": false,
    "scrolled": true
   },
   "outputs": [
    {
     "name": "stdout",
     "output_type": "stream",
     "text": [
      "The autoreload extension is already loaded. To reload it, use:\n",
      "  %reload_ext autoreload\n"
     ]
    }
   ],
   "source": [
    "%load_ext autoreload\n",
    "%autoreload 2\n",
    "\n",
    "from snorkel import SnorkelSession\n",
    "session = SnorkelSession()"
   ]
  },
  {
   "cell_type": "code",
   "execution_count": 2,
   "metadata": {
    "collapsed": false
   },
   "outputs": [],
   "source": [
    "from snorkel.models import candidate_subclass\n",
    "\n",
    "Part_Temp = candidate_subclass('Part_Temp', ['part','temp'])"
   ]
  },
  {
   "cell_type": "markdown",
   "metadata": {},
   "source": [
    "## Generating Features"
   ]
  },
  {
   "cell_type": "markdown",
   "metadata": {},
   "source": [
    "### Loading the `CandidateSets`"
   ]
  },
  {
   "cell_type": "code",
   "execution_count": 3,
   "metadata": {
    "collapsed": false
   },
   "outputs": [],
   "source": [
    "from snorkel.models import CandidateSet\n",
    "train = session.query(CandidateSet).filter(\n",
    "    CandidateSet.name == 'Hardware Training Candidates').one()\n",
    "dev = session.query(CandidateSet).filter(\n",
    "    CandidateSet.name == 'Hardware Development Candidates').one()"
   ]
  },
  {
   "cell_type": "markdown",
   "metadata": {},
   "source": [
    "### Automatically creating features"
   ]
  },
  {
   "cell_type": "code",
   "execution_count": 4,
   "metadata": {
    "collapsed": false
   },
   "outputs": [],
   "source": [
    "from snorkel.annotations import FeatureManager\n",
    "\n",
    "feature_manager = FeatureManager()"
   ]
  },
  {
   "cell_type": "markdown",
   "metadata": {},
   "source": [
    "We first generate features for the Training `CandidateSet`."
   ]
  },
  {
   "cell_type": "code",
   "execution_count": 5,
   "metadata": {
    "collapsed": false,
    "scrolled": true
   },
   "outputs": [
    {
     "name": "stdout",
     "output_type": "stream",
     "text": [
      "[========================================] 100%\n",
      "\n",
      "Loading sparse Feature matrix...\n",
      "CPU times: user 21min 44s, sys: 11.7 s, total: 21min 56s\n",
      "Wall time: 22min 10s\n"
     ]
    }
   ],
   "source": [
    "%time F_train = feature_manager.create(session, train, 'Training Features')"
   ]
  },
  {
   "cell_type": "markdown",
   "metadata": {},
   "source": [
    "We then calculate features for the Development `CandidateSet`, ignoring all those features which were not seen in Training set, since their effect on the accuracy of our classifier is unknown."
   ]
  },
  {
   "cell_type": "code",
   "execution_count": 6,
   "metadata": {
    "collapsed": false
   },
   "outputs": [
    {
     "name": "stdout",
     "output_type": "stream",
     "text": [
      "[========================================] 100%\n",
      "\n",
      "Loading sparse Feature matrix...\n",
      "CPU times: user 11.3 s, sys: 351 ms, total: 11.7 s\n",
      "Wall time: 11.8 s\n"
     ]
    }
   ],
   "source": [
    "%time F_dev = feature_manager.update(session, dev, 'Training Features', expand_key_set=False)"
   ]
  },
  {
   "cell_type": "markdown",
   "metadata": {},
   "source": [
    "### Reloading feature matrix"
   ]
  },
  {
   "cell_type": "code",
   "execution_count": 7,
   "metadata": {
    "collapsed": false,
    "scrolled": true
   },
   "outputs": [
    {
     "name": "stdout",
     "output_type": "stream",
     "text": [
      "CPU times: user 12.2 s, sys: 422 ms, total: 12.7 s\n",
      "Wall time: 12.6 s\n"
     ]
    }
   ],
   "source": [
    "%time F_train = feature_manager.load(session, train, 'Training Features')"
   ]
  },
  {
   "cell_type": "markdown",
   "metadata": {},
   "source": [
    "### Exploring the generated `Feature` set"
   ]
  },
  {
   "cell_type": "code",
   "execution_count": 8,
   "metadata": {
    "collapsed": false
   },
   "outputs": [
    {
     "data": {
      "text/plain": [
       "<6571x3820 sparse matrix of type '<type 'numpy.float64'>'\n",
       "\twith 1028662 stored elements in Compressed Sparse Row format>"
      ]
     },
     "execution_count": 8,
     "metadata": {},
     "output_type": "execute_result"
    }
   ],
   "source": [
    "F_train"
   ]
  },
  {
   "cell_type": "code",
   "execution_count": 9,
   "metadata": {
    "collapsed": false
   },
   "outputs": [
    {
     "data": {
      "text/plain": [
       "Part_Temp(ImplicitSpan(\"2N3906\", parent=653, words=[0,0], position=[0]), ImplicitSpan(\"-50\", parent=11554, words=[0,0], position=[0]))"
      ]
     },
     "execution_count": 9,
     "metadata": {},
     "output_type": "execute_result"
    }
   ],
   "source": [
    "F_train.get_candidate(0)"
   ]
  },
  {
   "cell_type": "code",
   "execution_count": 10,
   "metadata": {
    "collapsed": false
   },
   "outputs": [
    {
     "data": {
      "text/plain": [
       "AnnotationKey (TDL_LEMMA:RIGHT-OF-MENTION[color])"
      ]
     },
     "execution_count": 10,
     "metadata": {},
     "output_type": "execute_result"
    }
   ],
   "source": [
    "F_train.get_key(0)"
   ]
  },
  {
   "cell_type": "code",
   "execution_count": 11,
   "metadata": {
    "collapsed": false
   },
   "outputs": [
    {
     "name": "stdout",
     "output_type": "stream",
     "text": [
      "AnnotationKey (TDL_LEMMA:RIGHT-OF-MENTION[color])\n",
      "AnnotationKey (TAB_e1_WORD_SEQ_[s25])\n",
      "AnnotationKey (TAB_e1_LEMMA_SEQ_[s25])\n",
      "AnnotationKey (TAB_e1_POS_SEQ_[NN])\n",
      "AnnotationKey (TAB_e1_DEP_SEQ_[compound])\n",
      "AnnotationKey (TAB_e1_W_LEFT_1_[''])\n",
      "AnnotationKey (TAB_e1_W_LEFT_POS_1_[''])\n",
      "AnnotationKey (TAB_e1_W_LEFT_2_[. ''])\n",
      "AnnotationKey (TAB_e1_W_LEFT_POS_2_[. ''])\n",
      "AnnotationKey (TAB_e1_W_LEFT_3_['' . ''])\n",
      "AnnotationKey (TAB_e1_W_LEFT_POS_3_['' . ''])\n",
      "AnnotationKey (TAB_e1_W_RIGHT_1_[{])\n",
      "AnnotationKey (TAB_e1_W_RIGHT_POS_1_[-LRB-])\n",
      "AnnotationKey (TAB_e1_W_RIGHT_2_[{ color])\n",
      "AnnotationKey (TAB_e1_W_RIGHT_POS_2_[-LRB- NN])\n",
      "AnnotationKey (TAB_e1_W_RIGHT_3_[{ color :])\n",
      "AnnotationKey (TAB_e1_W_RIGHT_POS_3_[-LRB- NN :])\n",
      "AnnotationKey (TAB_e1_W_LEMMA_L_1_R_1_['']_[{])\n",
      "AnnotationKey (TAB_e1_W_POS_L_1_R_1_['']_[-LRB-])\n",
      "AnnotationKey (TAB_e1_W_LEMMA_L_1_R_2_['']_[{ color])\n",
      "AnnotationKey (TAB_e1_W_POS_L_1_R_2_['']_[-LRB- NN])\n",
      "AnnotationKey (TAB_e1_W_LEMMA_L_1_R_3_['']_[{ color :])\n",
      "AnnotationKey (TAB_e1_W_POS_L_1_R_3_['']_[-LRB- NN :])\n",
      "AnnotationKey (TAB_e1_W_LEMMA_L_2_R_1_[. '']_[{])\n",
      "AnnotationKey (TAB_e1_W_POS_L_2_R_1_[. '']_[-LRB-])\n",
      "AnnotationKey (TAB_e1_W_LEMMA_L_2_R_2_[. '']_[{ color])\n",
      "AnnotationKey (TAB_e1_W_POS_L_2_R_2_[. '']_[-LRB- NN])\n",
      "AnnotationKey (TAB_e1_W_LEMMA_L_2_R_3_[. '']_[{ color :])\n",
      "AnnotationKey (TAB_e1_W_POS_L_2_R_3_[. '']_[-LRB- NN :])\n",
      "AnnotationKey (TAB_e1_W_LEMMA_L_3_R_1_['' . '']_[{])\n",
      "AnnotationKey (TAB_e1_W_POS_L_3_R_1_['' . '']_[-LRB-])\n",
      "AnnotationKey (TAB_e1_W_LEMMA_L_3_R_2_['' . '']_[{ color])\n",
      "AnnotationKey (TAB_e1_W_POS_L_3_R_2_['' . '']_[-LRB- NN])\n",
      "AnnotationKey (TAB_e1_W_LEMMA_L_3_R_3_['' . '']_[{ color :])\n",
      "AnnotationKey (TAB_e1_W_POS_L_3_R_3_['' . '']_[-LRB- NN :])\n",
      "AnnotationKey (TAB_e1_LENGTH_1)\n",
      "AnnotationKey (TAB_e1_HTML_TAG_style)\n",
      "AnnotationKey (TAB_e1_HTML_ATTR_[type])\n",
      "AnnotationKey (TAB_e1_HTML_ANC_TAG_[html])\n",
      "AnnotationKey (TAB_e1_HTML_ANC_TAG_[head])\n",
      "AnnotationKey (TAB_e1_HTML_ANC_TAG_[style])\n",
      "AnnotationKey (TAB_e2_WORD_SEQ_[I])\n",
      "AnnotationKey (TAB_e2_LEMMA_SEQ_[I])\n",
      "AnnotationKey (TAB_e2_POS_SEQ_[PRP])\n",
      "AnnotationKey (TAB_e2_DEP_SEQ_[compound])\n",
      "AnnotationKey (TAB_e2_W_LEFT_1_[ma])\n",
      "AnnotationKey (TAB_e2_W_LEFT_POS_1_[NN])\n",
      "AnnotationKey (TAB_e2_W_LEFT_2_[_NUMBER ma])\n",
      "AnnotationKey (TAB_e2_W_LEFT_POS_2_[CD NN])\n",
      "AnnotationKey (TAB_e2_W_LEFT_3_[= _NUMBER ma])\n",
      "AnnotationKey (TAB_e2_W_LEFT_POS_3_[JJ CD NN])\n",
      "AnnotationKey (TAB_e2_W_RIGHT_1_[c])\n",
      "AnnotationKey (TAB_e2_W_RIGHT_POS_1_[NN])\n",
      "AnnotationKey (TAB_e2_W_RIGHT_2_[c =])\n",
      "AnnotationKey (TAB_e2_W_RIGHT_POS_2_[NN JJ])\n",
      "AnnotationKey (TAB_e2_W_RIGHT_3_[c = _NUMBER])\n",
      "AnnotationKey (TAB_e2_W_RIGHT_POS_3_[NN JJ CD])\n",
      "AnnotationKey (TAB_e2_W_LEMMA_L_1_R_1_[ma]_[c])\n",
      "AnnotationKey (TAB_e2_W_POS_L_1_R_1_[NN]_[NN])\n",
      "AnnotationKey (TAB_e2_W_LEMMA_L_1_R_2_[ma]_[c =])\n",
      "AnnotationKey (TAB_e2_W_POS_L_1_R_2_[NN]_[NN JJ])\n",
      "AnnotationKey (TAB_e2_W_LEMMA_L_1_R_3_[ma]_[c = _NUMBER])\n",
      "AnnotationKey (TAB_e2_W_POS_L_1_R_3_[NN]_[NN JJ CD])\n",
      "AnnotationKey (TAB_e2_W_LEMMA_L_2_R_1_[_NUMBER ma]_[c])\n",
      "AnnotationKey (TAB_e2_W_POS_L_2_R_1_[CD NN]_[NN])\n",
      "AnnotationKey (TAB_e2_W_LEMMA_L_2_R_2_[_NUMBER ma]_[c =])\n",
      "AnnotationKey (TAB_e2_W_POS_L_2_R_2_[CD NN]_[NN JJ])\n",
      "AnnotationKey (TAB_e2_W_LEMMA_L_2_R_3_[_NUMBER ma]_[c = _NUMBER])\n",
      "AnnotationKey (TAB_e2_W_POS_L_2_R_3_[CD NN]_[NN JJ CD])\n",
      "AnnotationKey (TAB_e2_W_LEMMA_L_3_R_1_[= _NUMBER ma]_[c])\n",
      "AnnotationKey (TAB_e2_W_POS_L_3_R_1_[JJ CD NN]_[NN])\n",
      "AnnotationKey (TAB_e2_W_LEMMA_L_3_R_2_[= _NUMBER ma]_[c =])\n",
      "AnnotationKey (TAB_e2_W_POS_L_3_R_2_[JJ CD NN]_[NN JJ])\n",
      "AnnotationKey (TAB_e2_W_LEMMA_L_3_R_3_[= _NUMBER ma]_[c = _NUMBER])\n",
      "AnnotationKey (TAB_e2_W_POS_L_3_R_3_[JJ CD NN]_[NN JJ CD])\n",
      "AnnotationKey (TAB_e2_STARTS_WITH_CAPITAL)\n",
      "AnnotationKey (TAB_e2_LENGTH_1)\n",
      "AnnotationKey (TAB_e2_HTML_TAG_p)\n",
      "AnnotationKey (TAB_e2_HTML_ATTR_[style])\n",
      "AnnotationKey (TAB_e2_HTML_ATTR_[class])\n",
      "AnnotationKey (TAB_e2_HTML_ANC_TAG_[html])\n",
      "AnnotationKey (TAB_e2_HTML_ANC_TAG_[body])\n",
      "AnnotationKey (TAB_e2_HTML_ANC_TAG_[table])\n",
      "AnnotationKey (TAB_e2_HTML_ANC_TAG_[tr])\n",
      "AnnotationKey (TAB_e2_HTML_ANC_TAG_[td])\n",
      "AnnotationKey (TAB_e2_HTML_ANC_TAG_[p])\n",
      "AnnotationKey (TAB_e2_ROW_NUM_[6])\n",
      "AnnotationKey (TAB_e2_COL_NUM_[2])\n",
      "AnnotationKey (TAB_e2_ROW_WORDS_[collector-emitter])\n",
      "AnnotationKey (TAB_e2_ROW_WORDS_[collector-emitter saturation])\n",
      "AnnotationKey (TAB_e2_ROW_WORDS_[collector-emitter saturation voltage])\n",
      "AnnotationKey (TAB_e2_ROW_WORDS_[saturation])\n",
      "AnnotationKey (TAB_e2_ROW_WORDS_[saturation voltage])\n",
      "AnnotationKey (TAB_e2_ROW_WORDS_[voltage])\n",
      "AnnotationKey (TAB_e2_ROW_WORDS_[v])\n",
      "AnnotationKey (TAB_e2_ROW_WORDS_[v ce])\n",
      "AnnotationKey (TAB_e2_ROW_WORDS_[v ce (])\n",
      "AnnotationKey (TAB_e2_ROW_WORDS_[ce])\n",
      "AnnotationKey (TAB_e2_ROW_WORDS_[ce (])\n",
      "AnnotationKey (TAB_e2_ROW_WORDS_[ce ( sat])\n",
      "AnnotationKey (TAB_e2_ROW_WORDS_[(])\n",
      "AnnotationKey (TAB_e2_ROW_WORDS_[( sat])\n",
      "AnnotationKey (TAB_e2_ROW_WORDS_[( sat )])\n",
      "AnnotationKey (TAB_e2_ROW_WORDS_[sat])\n",
      "AnnotationKey (TAB_e2_ROW_WORDS_[sat )])\n",
      "AnnotationKey (TAB_e2_ROW_WORDS_[)])\n",
      "AnnotationKey (TAB_e2_ROW_WORDS_[i])\n",
      "AnnotationKey (TAB_e2_ROW_WORDS_[i c])\n",
      "AnnotationKey (TAB_e2_ROW_WORDS_[i c =])\n",
      "AnnotationKey (TAB_e2_ROW_WORDS_[c])\n",
      "AnnotationKey (TAB_e2_ROW_WORDS_[c =])\n",
      "AnnotationKey (TAB_e2_ROW_WORDS_[c = -50])\n",
      "AnnotationKey (TAB_e2_ROW_WORDS_[=])\n",
      "AnnotationKey (TAB_e2_ROW_WORDS_[= -50])\n",
      "AnnotationKey (TAB_e2_ROW_WORDS_[= -50 ma])\n",
      "AnnotationKey (TAB_e2_ROW_WORDS_[-50])\n",
      "AnnotationKey (TAB_e2_ROW_WORDS_[-50 ma])\n",
      "AnnotationKey (TAB_e2_ROW_WORDS_[-50 ma ,])\n",
      "AnnotationKey (TAB_e2_ROW_WORDS_[ma])\n",
      "AnnotationKey (TAB_e2_ROW_WORDS_[ma ,])\n",
      "AnnotationKey (TAB_e2_ROW_WORDS_[ma , i])\n",
      "AnnotationKey (TAB_e2_ROW_WORDS_[,])\n",
      "AnnotationKey (TAB_e2_ROW_WORDS_[, i])\n",
      "AnnotationKey (TAB_e2_ROW_WORDS_[, i b])\n",
      "AnnotationKey (TAB_e2_ROW_WORDS_[i b])\n",
      "AnnotationKey (TAB_e2_ROW_WORDS_[i b =])\n",
      "AnnotationKey (TAB_e2_ROW_WORDS_[b])\n",
      "AnnotationKey (TAB_e2_ROW_WORDS_[b =])\n",
      "AnnotationKey (TAB_e2_ROW_WORDS_[b = -5])\n",
      "AnnotationKey (TAB_e2_ROW_WORDS_[= -5])\n",
      "AnnotationKey (TAB_e2_ROW_WORDS_[= -5 ma])\n",
      "AnnotationKey (TAB_e2_ROW_WORDS_[-5])\n",
      "AnnotationKey (TAB_e2_ROW_WORDS_[-5 ma])\n",
      "AnnotationKey (TAB_e2_ROW_WORDS_[-])\n",
      "AnnotationKey (TAB_e2_ROW_WORDS_[-0.4])\n",
      "AnnotationKey (TAB_e2_COL_WORDS_[test])\n",
      "AnnotationKey (TAB_e2_COL_WORDS_[test condition])\n",
      "AnnotationKey (TAB_e2_COL_WORDS_[condition])\n",
      "AnnotationKey (TAB_e2_COL_WORDS_[i])\n",
      "AnnotationKey (TAB_e2_COL_WORDS_[i c])\n",
      "AnnotationKey (TAB_e2_COL_WORDS_[i c =])\n",
      "AnnotationKey (TAB_e2_COL_WORDS_[c])\n",
      "AnnotationKey (TAB_e2_COL_WORDS_[c =])\n",
      "AnnotationKey (TAB_e2_COL_WORDS_[c = -10])\n",
      "AnnotationKey (TAB_e2_COL_WORDS_[=])\n",
      "AnnotationKey (TAB_e2_COL_WORDS_[= -10])\n",
      "AnnotationKey (TAB_e2_COL_WORDS_[= -10 %])\n",
      "AnnotationKey (TAB_e2_COL_WORDS_[-10])\n",
      "AnnotationKey (TAB_e2_COL_WORDS_[-10 %])\n",
      "AnnotationKey (TAB_e2_COL_WORDS_[-10 % a])\n",
      "AnnotationKey (TAB_e2_COL_WORDS_[%])\n",
      "AnnotationKey (TAB_e2_COL_WORDS_[% a])\n",
      "AnnotationKey (TAB_e2_COL_WORDS_[% a ,])\n",
      "AnnotationKey (TAB_e2_COL_WORDS_[a])\n",
      "AnnotationKey (TAB_e2_COL_WORDS_[a ,])\n",
      "AnnotationKey (TAB_e2_COL_WORDS_[a , i])\n",
      "AnnotationKey (TAB_e2_COL_WORDS_[,])\n",
      "AnnotationKey (TAB_e2_COL_WORDS_[, i])\n",
      "AnnotationKey (TAB_e2_COL_WORDS_[, i e])\n",
      "AnnotationKey (TAB_e2_COL_WORDS_[i e])\n",
      "AnnotationKey (TAB_e2_COL_WORDS_[i e =])\n",
      "AnnotationKey (TAB_e2_COL_WORDS_[e])\n",
      "AnnotationKey (TAB_e2_COL_WORDS_[e =])\n",
      "AnnotationKey (TAB_e2_COL_WORDS_[e = 0])\n",
      "AnnotationKey (TAB_e2_COL_WORDS_[= 0])\n",
      "AnnotationKey (TAB_e2_COL_WORDS_[0])\n",
      "AnnotationKey (TAB_e2_COL_WORDS_[c = -1])\n",
      "AnnotationKey (TAB_e2_COL_WORDS_[= -1])\n",
      "AnnotationKey (TAB_e2_COL_WORDS_[= -1 ma])\n",
      "AnnotationKey (TAB_e2_COL_WORDS_[-1])\n",
      "AnnotationKey (TAB_e2_COL_WORDS_[-1 ma])\n",
      "AnnotationKey (TAB_e2_COL_WORDS_[-1 ma ,])\n",
      "AnnotationKey (TAB_e2_COL_WORDS_[ma])\n",
      "AnnotationKey (TAB_e2_COL_WORDS_[ma ,])\n",
      "AnnotationKey (TAB_e2_COL_WORDS_[ma , i])\n",
      "AnnotationKey (TAB_e2_COL_WORDS_[, i b])\n",
      "AnnotationKey (TAB_e2_COL_WORDS_[i b])\n",
      "AnnotationKey (TAB_e2_COL_WORDS_[i b =])\n",
      "AnnotationKey (TAB_e2_COL_WORDS_[b])\n",
      "AnnotationKey (TAB_e2_COL_WORDS_[b =])\n",
      "AnnotationKey (TAB_e2_COL_WORDS_[b = 0])\n",
      "AnnotationKey (TAB_e2_COL_WORDS_[e = -10])\n",
      "AnnotationKey (TAB_e2_COL_WORDS_[, i c])\n",
      "AnnotationKey (TAB_e2_COL_WORDS_[c = 0])\n",
      "AnnotationKey (TAB_e2_COL_WORDS_[v])\n",
      "AnnotationKey (TAB_e2_COL_WORDS_[v ce])\n",
      "AnnotationKey (TAB_e2_COL_WORDS_[v ce =])\n",
      "AnnotationKey (TAB_e2_COL_WORDS_[ce])\n",
      "AnnotationKey (TAB_e2_COL_WORDS_[ce =])\n",
      "AnnotationKey (TAB_e2_COL_WORDS_[ce = -30])\n",
      "AnnotationKey (TAB_e2_COL_WORDS_[= -30])\n",
      "AnnotationKey (TAB_e2_COL_WORDS_[= -30 v])\n",
      "AnnotationKey (TAB_e2_COL_WORDS_[-30])\n",
      "AnnotationKey (TAB_e2_COL_WORDS_[-30 v])\n",
      "AnnotationKey (TAB_e2_COL_WORDS_[-30 v ,])\n",
      "AnnotationKey (TAB_e2_COL_WORDS_[v ,])\n",
      "AnnotationKey (TAB_e2_COL_WORDS_[v , v])\n",
      "AnnotationKey (TAB_e2_COL_WORDS_[, v])\n",
      "AnnotationKey (TAB_e2_COL_WORDS_[, v e])\n",
      "AnnotationKey (TAB_e2_COL_WORDS_[v e])\n",
      "AnnotationKey (TAB_e2_COL_WORDS_[v e b])\n",
      "AnnotationKey (TAB_e2_COL_WORDS_[e b])\n",
      "AnnotationKey (TAB_e2_COL_WORDS_[e b =])\n",
      "AnnotationKey (TAB_e2_COL_WORDS_[b = -3])\n",
      "AnnotationKey (TAB_e2_COL_WORDS_[= -3])\n",
      "AnnotationKey (TAB_e2_COL_WORDS_[= -3 v])\n",
      "AnnotationKey (TAB_e2_COL_WORDS_[-3])\n",
      "AnnotationKey (TAB_e2_COL_WORDS_[-3 v])\n",
      "AnnotationKey (TAB_e2_COL_WORDS_[ce = -1])\n",
      "AnnotationKey (TAB_e2_COL_WORDS_[= -1 v])\n",
      "AnnotationKey (TAB_e2_COL_WORDS_[-1 v])\n",
      "AnnotationKey (TAB_e2_COL_WORDS_[-1 v ,])\n",
      "AnnotationKey (TAB_e2_COL_WORDS_[v , i])\n",
      "AnnotationKey (TAB_e2_COL_WORDS_[= -10 ma])\n",
      "AnnotationKey (TAB_e2_COL_WORDS_[-10 ma])\n",
      "AnnotationKey (TAB_e2_COL_WORDS_[c = -50])\n",
      "AnnotationKey (TAB_e2_COL_WORDS_[= -50])\n",
      "AnnotationKey (TAB_e2_COL_WORDS_[= -50 ma])\n",
      "AnnotationKey (TAB_e2_COL_WORDS_[-50])\n",
      "AnnotationKey (TAB_e2_COL_WORDS_[-50 ma])\n",
      "AnnotationKey (TAB_e2_COL_WORDS_[-50 ma ,])\n",
      "AnnotationKey (TAB_e2_COL_WORDS_[b = -5])\n",
      "AnnotationKey (TAB_e2_COL_WORDS_[= -5])\n",
      "AnnotationKey (TAB_e2_COL_WORDS_[= -5 ma])\n",
      "AnnotationKey (TAB_e2_COL_WORDS_[-5])\n",
      "AnnotationKey (TAB_e2_COL_WORDS_[-5 ma])\n",
      "AnnotationKey (TAB_e2_COL_WORDS_[ce = -20])\n",
      "AnnotationKey (TAB_e2_COL_WORDS_[= -20])\n",
      "AnnotationKey (TAB_e2_COL_WORDS_[= -20 v])\n",
      "AnnotationKey (TAB_e2_COL_WORDS_[-20])\n",
      "AnnotationKey (TAB_e2_COL_WORDS_[-20 v])\n",
      "AnnotationKey (TAB_e2_COL_WORDS_[-20 v ,])\n",
      "AnnotationKey (TAB_e2_COL_WORDS_[-10 ma ,])\n",
      "AnnotationKey (TAB_e2_COL_WORDS_[ma , f])\n",
      "AnnotationKey (TAB_e2_COL_WORDS_[, f])\n",
      "AnnotationKey (TAB_e2_COL_WORDS_[, f =])\n",
      "AnnotationKey (TAB_e2_COL_WORDS_[f])\n",
      "AnnotationKey (TAB_e2_COL_WORDS_[f =])\n",
      "AnnotationKey (TAB_e2_COL_WORDS_[f = 100mhz])\n",
      "AnnotationKey (TAB_e2_COL_WORDS_[= 100mhz])\n",
      "AnnotationKey (TAB_e2_COL_WORDS_[100mhz])\n",
      "AnnotationKey (TAB_e2_COL_WORDS_[v c])\n",
      "AnnotationKey (TAB_e2_COL_WORDS_[v c b])\n",
      "AnnotationKey (TAB_e2_COL_WORDS_[c b])\n",
      "AnnotationKey (TAB_e2_COL_WORDS_[c b =])\n",
      "AnnotationKey (TAB_e2_COL_WORDS_[= -5 v])\n",
      "AnnotationKey (TAB_e2_COL_WORDS_[-5 v])\n",
      "AnnotationKey (TAB_e2_COL_WORDS_[-5 v ,])\n",
      "AnnotationKey (TAB_e2_COL_WORDS_[= 0 ,])\n",
      "AnnotationKey (TAB_e2_COL_WORDS_[0 ,])\n",
      "AnnotationKey (TAB_e2_COL_WORDS_[0 , f])\n",
      "AnnotationKey (TAB_e2_COL_WORDS_[f = 1mhz])\n",
      "AnnotationKey (TAB_e2_COL_WORDS_[= 1mhz])\n",
      "AnnotationKey (TAB_e2_COL_WORDS_[1mhz])\n",
      "AnnotationKey (TAB_e2_COL_WORDS_[v cc])\n",
      "AnnotationKey (TAB_e2_COL_WORDS_[v cc =])\n",
      "AnnotationKey (TAB_e2_COL_WORDS_[cc])\n",
      "AnnotationKey (TAB_e2_COL_WORDS_[cc =])\n",
      "AnnotationKey (TAB_e2_COL_WORDS_[cc = -3])\n",
      "AnnotationKey (TAB_e2_COL_WORDS_[-3 v dc])\n",
      "AnnotationKey (TAB_e2_COL_WORDS_[v dc])\n",
      "AnnotationKey (TAB_e2_COL_WORDS_[v dc ,])\n",
      "AnnotationKey (TAB_e2_COL_WORDS_[dc])\n",
      "AnnotationKey (TAB_e2_COL_WORDS_[dc ,])\n",
      "AnnotationKey (TAB_e2_COL_WORDS_[dc , v])\n",
      "AnnotationKey (TAB_e2_COL_WORDS_[, v be])\n",
      "AnnotationKey (TAB_e2_COL_WORDS_[v be])\n",
      "AnnotationKey (TAB_e2_COL_WORDS_[v be (])\n",
      "AnnotationKey (TAB_e2_COL_WORDS_[be])\n",
      "AnnotationKey (TAB_e2_COL_WORDS_[be (])\n",
      "AnnotationKey (TAB_e2_COL_WORDS_[be ( off])\n",
      "AnnotationKey (TAB_e2_COL_WORDS_[(])\n",
      "AnnotationKey (TAB_e2_COL_WORDS_[( off])\n",
      "AnnotationKey (TAB_e2_COL_WORDS_[( off )])\n",
      "AnnotationKey (TAB_e2_COL_WORDS_[off])\n",
      "AnnotationKey (TAB_e2_COL_WORDS_[off )])\n",
      "AnnotationKey (TAB_e2_COL_WORDS_[off ) =])\n",
      "AnnotationKey (TAB_e2_COL_WORDS_[)])\n",
      "AnnotationKey (TAB_e2_COL_WORDS_[) =])\n",
      "AnnotationKey (TAB_e2_COL_WORDS_[) = -0.5])\n",
      "AnnotationKey (TAB_e2_COL_WORDS_[= -0.5])\n",
      "AnnotationKey (TAB_e2_COL_WORDS_[= -0.5 v])\n",
      "AnnotationKey (TAB_e2_COL_WORDS_[-0.5])\n",
      "AnnotationKey (TAB_e2_COL_WORDS_[-0.5 v])\n",
      "AnnotationKey (TAB_e2_COL_WORDS_[-0.5 v dc])\n",
      "AnnotationKey (TAB_e2_COL_WORDS_[dc , i])\n",
      "AnnotationKey (TAB_e2_COL_WORDS_[-10 ma dc])\n",
      "AnnotationKey (TAB_e2_COL_WORDS_[ma dc])\n",
      "AnnotationKey (TAB_e2_COL_WORDS_[ma dc ,])\n",
      "AnnotationKey (TAB_e2_COL_WORDS_[, i b1])\n",
      "AnnotationKey (TAB_e2_COL_WORDS_[i b1])\n",
      "AnnotationKey (TAB_e2_COL_WORDS_[i b1 =])\n",
      "AnnotationKey (TAB_e2_COL_WORDS_[b1])\n",
      "AnnotationKey (TAB_e2_COL_WORDS_[b1 =])\n",
      "AnnotationKey (TAB_e2_COL_WORDS_[b1 = -1])\n",
      "AnnotationKey (TAB_e2_COL_WORDS_[-1 ma dc])\n",
      "AnnotationKey (TAB_e2_COL_WORDS_[-])\n",
      "AnnotationKey (TAB_e2_COL_WORDS_[b1 = i])\n",
      "AnnotationKey (TAB_e2_COL_WORDS_[= i])\n",
      "AnnotationKey (TAB_e2_COL_WORDS_[= i b2])\n",
      "AnnotationKey (TAB_e2_COL_WORDS_[i b2])\n",
      "AnnotationKey (TAB_e2_COL_WORDS_[i b2 =])\n",
      "AnnotationKey (TAB_e2_COL_WORDS_[b2])\n",
      "AnnotationKey (TAB_e2_COL_WORDS_[b2 =])\n",
      "AnnotationKey (TAB_e2_COL_WORDS_[b2 = -1])\n"
     ]
    }
   ],
   "source": [
    "from snorkel.utils import get_keys_by_candidate\n",
    "\n",
    "for f in get_keys_by_candidate(F_train, F_train.get_candidate(0)): print f"
   ]
  },
  {
   "cell_type": "markdown",
   "metadata": {},
   "source": [
    "## Creating Labeling Functions"
   ]
  },
  {
   "cell_type": "code",
   "execution_count": 12,
   "metadata": {
    "collapsed": false
   },
   "outputs": [],
   "source": [
    "from snorkel.annotations import LabelManager\n",
    "\n",
    "label_manager = LabelManager()"
   ]
  },
  {
   "cell_type": "markdown",
   "metadata": {},
   "source": [
    "### Defining LFs"
   ]
  },
  {
   "cell_type": "code",
   "execution_count": 13,
   "metadata": {
    "collapsed": false
   },
   "outputs": [],
   "source": [
    "from snorkel.lf_helpers import *\n",
    "\n",
    "LFs = []\n",
    "\n",
    "# POSITIVE\n",
    "\n",
    "def LF_to_right(c):\n",
    "    return 1 if 'to' in get_right_ngrams(c.temp, window=1, n_max=1) else 0\n",
    "LFs.append(LF_to_right)\n",
    "\n",
    "def LF_150_right(c):\n",
    "    return 1 if '150' in get_right_ngrams(c.temp, window=4, n_max=1) else 0\n",
    "LFs.append(LF_150_right)\n",
    "\n",
    "def LF_storage_row(c):\n",
    "    return 1 if 'storage' in get_row_ngrams(c.temp, n_max=2) else 0\n",
    "LFs.append(LF_storage_row)\n",
    "\n",
    "def LF_c_row(c):\n",
    "    return 1 if '%C' in get_row_ngrams(c.temp, n_min=1, n_max=2, case_sensitive=True) else 0\n",
    "LFs.append(LF_c_row)\n",
    "\n",
    "def LF_same_table(c):\n",
    "    return 1 if same_table(c) else 0\n",
    "LFs.append(LF_same_table)\n",
    "\n",
    "# BOTH\n",
    "\n",
    "def LF_tstg_row(c):\n",
    "    row_ngrams = get_row_ngrams(c.temp, n_max=1)\n",
    "    return 1 if ('tstg' in row_ngrams or 'ts' in row_ngrams) else -1\n",
    "LFs.append(LF_tstg_row)\n",
    "\n",
    "def LF_temperature_row(c):\n",
    "    return 1 if 'temperature' in get_row_ngrams(c.temp) else -1\n",
    "LFs.append(LF_temperature_row)\n",
    "\n",
    "# NEGATIVE\n",
    "\n",
    "def LF_temp_outside_table(c):\n",
    "    return -1 if c.temp.parent.table is None else 0\n",
    "LFs.append(LF_temp_outside_table)\n",
    "\n",
    "def LF_complement_left(c):\n",
    "    return -1 if 'complement' in get_left_ngrams(c.part) else 0\n",
    "LFs.append(LF_complement_left)\n",
    "\n",
    "def LF_voltage_row(c):\n",
    "    return -1 if 'voltage' in get_row_ngrams(c.temp) else 0\n",
    "LFs.append(LF_voltage_row)"
   ]
  },
  {
   "cell_type": "markdown",
   "metadata": {},
   "source": [
    "### Applying LFs"
   ]
  },
  {
   "cell_type": "code",
   "execution_count": 14,
   "metadata": {
    "collapsed": false,
    "scrolled": true
   },
   "outputs": [
    {
     "name": "stdout",
     "output_type": "stream",
     "text": [
      "[========================================] 100%\n",
      "\n",
      "Loading sparse Label matrix...\n",
      "CPU times: user 1min 6s, sys: 1.04 s, total: 1min 7s\n",
      "Wall time: 1min 7s\n"
     ]
    },
    {
     "data": {
      "text/plain": [
       "<6571x10 sparse matrix of type '<type 'numpy.float64'>'\n",
       "\twith 17484 stored elements in Compressed Sparse Row format>"
      ]
     },
     "execution_count": 14,
     "metadata": {},
     "output_type": "execute_result"
    }
   ],
   "source": [
    "%time L_train = label_manager.create(session, train, 'LF Labels', f=LFs)\n",
    "L_train"
   ]
  },
  {
   "cell_type": "markdown",
   "metadata": {},
   "source": [
    "### Evaluating LFs"
   ]
  },
  {
   "cell_type": "markdown",
   "metadata": {},
   "source": [
    "Because we have gold labels for our Training `CandidateSet`, we are able to see the accuracy of our LFs on the training set as a development tool. Where gold labels are not available, the other three stat categories (coverage, overlaps, conflicts) are still available."
   ]
  },
  {
   "cell_type": "code",
   "execution_count": 15,
   "metadata": {
    "collapsed": true
   },
   "outputs": [],
   "source": [
    "train_gold = session.query(CandidateSet).filter(\n",
    "    CandidateSet.name == 'Hardware Training Candidates -- Gold').one()"
   ]
  },
  {
   "cell_type": "code",
   "execution_count": 16,
   "metadata": {
    "collapsed": false,
    "scrolled": false
   },
   "outputs": [
    {
     "name": "stdout",
     "output_type": "stream",
     "text": [
      "[========================================] 100%\n",
      "\n",
      "CPU times: user 3.04 s, sys: 459 ms, total: 3.5 s\n",
      "Wall time: 3.79 s\n"
     ]
    },
    {
     "data": {
      "text/html": [
       "<div>\n",
       "<table border=\"1\" class=\"dataframe\">\n",
       "  <thead>\n",
       "    <tr style=\"text-align: right;\">\n",
       "      <th></th>\n",
       "      <th>accuracy</th>\n",
       "      <th>conflicts</th>\n",
       "      <th>coverage</th>\n",
       "      <th>j</th>\n",
       "      <th>overlaps</th>\n",
       "    </tr>\n",
       "  </thead>\n",
       "  <tbody>\n",
       "    <tr>\n",
       "      <th>LF_to_right</th>\n",
       "      <td>1.000000</td>\n",
       "      <td>0.243494</td>\n",
       "      <td>0.243494</td>\n",
       "      <td>0</td>\n",
       "      <td>0.243494</td>\n",
       "    </tr>\n",
       "    <tr>\n",
       "      <th>LF_150_right</th>\n",
       "      <td>1.000000</td>\n",
       "      <td>0.002435</td>\n",
       "      <td>0.002435</td>\n",
       "      <td>1</td>\n",
       "      <td>0.002435</td>\n",
       "    </tr>\n",
       "    <tr>\n",
       "      <th>LF_storage_row</th>\n",
       "      <td>1.000000</td>\n",
       "      <td>0.291128</td>\n",
       "      <td>0.291128</td>\n",
       "      <td>2</td>\n",
       "      <td>0.291128</td>\n",
       "    </tr>\n",
       "    <tr>\n",
       "      <th>LF_c_row</th>\n",
       "      <td>NaN</td>\n",
       "      <td>0.000000</td>\n",
       "      <td>0.000000</td>\n",
       "      <td>3</td>\n",
       "      <td>0.000000</td>\n",
       "    </tr>\n",
       "    <tr>\n",
       "      <th>LF_same_table</th>\n",
       "      <td>0.997519</td>\n",
       "      <td>0.122660</td>\n",
       "      <td>0.122660</td>\n",
       "      <td>4</td>\n",
       "      <td>0.122660</td>\n",
       "    </tr>\n",
       "    <tr>\n",
       "      <th>LF_tstg_row</th>\n",
       "      <td>0.161924</td>\n",
       "      <td>0.392786</td>\n",
       "      <td>1.000000</td>\n",
       "      <td>5</td>\n",
       "      <td>1.000000</td>\n",
       "    </tr>\n",
       "    <tr>\n",
       "      <th>LF_temperature_row</th>\n",
       "      <td>0.453051</td>\n",
       "      <td>0.392786</td>\n",
       "      <td>1.000000</td>\n",
       "      <td>6</td>\n",
       "      <td>1.000000</td>\n",
       "    </tr>\n",
       "    <tr>\n",
       "      <th>LF_temp_outside_table</th>\n",
       "      <td>NaN</td>\n",
       "      <td>0.000000</td>\n",
       "      <td>0.000000</td>\n",
       "      <td>7</td>\n",
       "      <td>0.000000</td>\n",
       "    </tr>\n",
       "    <tr>\n",
       "      <th>LF_complement_left</th>\n",
       "      <td>NaN</td>\n",
       "      <td>0.000000</td>\n",
       "      <td>0.000000</td>\n",
       "      <td>8</td>\n",
       "      <td>0.000000</td>\n",
       "    </tr>\n",
       "    <tr>\n",
       "      <th>LF_voltage_row</th>\n",
       "      <td>1.000000</td>\n",
       "      <td>0.000152</td>\n",
       "      <td>0.001065</td>\n",
       "      <td>9</td>\n",
       "      <td>0.001065</td>\n",
       "    </tr>\n",
       "  </tbody>\n",
       "</table>\n",
       "</div>"
      ],
      "text/plain": [
       "                       accuracy  conflicts  coverage  j  overlaps\n",
       "LF_to_right            1.000000   0.243494  0.243494  0  0.243494\n",
       "LF_150_right           1.000000   0.002435  0.002435  1  0.002435\n",
       "LF_storage_row         1.000000   0.291128  0.291128  2  0.291128\n",
       "LF_c_row                    NaN   0.000000  0.000000  3  0.000000\n",
       "LF_same_table          0.997519   0.122660  0.122660  4  0.122660\n",
       "LF_tstg_row            0.161924   0.392786  1.000000  5  1.000000\n",
       "LF_temperature_row     0.453051   0.392786  1.000000  6  1.000000\n",
       "LF_temp_outside_table       NaN   0.000000  0.000000  7  0.000000\n",
       "LF_complement_left          NaN   0.000000  0.000000  8  0.000000\n",
       "LF_voltage_row         1.000000   0.000152  0.001065  9  0.001065"
      ]
     },
     "execution_count": 16,
     "metadata": {},
     "output_type": "execute_result"
    }
   ],
   "source": [
    "%time L_train.lf_stats(train_gold)"
   ]
  },
  {
   "cell_type": "markdown",
   "metadata": {},
   "source": [
    "Next, in Part 5, we will test our model on the development `CandidateSet`."
   ]
  }
 ],
 "metadata": {
  "anaconda-cloud": {},
  "kernelspec": {
   "display_name": "Python [default]",
   "language": "python",
   "name": "python2"
  },
  "language_info": {
   "codemirror_mode": {
    "name": "ipython",
    "version": 2
   },
   "file_extension": ".py",
   "mimetype": "text/x-python",
   "name": "python",
   "nbconvert_exporter": "python",
   "pygments_lexer": "ipython2",
   "version": "2.7.10"
  }
 },
 "nbformat": 4,
 "nbformat_minor": 0
}
