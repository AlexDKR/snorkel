{
 "cells": [
  {
   "cell_type": "markdown",
   "metadata": {},
   "source": [
    "# Adding Visual Features"
   ]
  },
  {
   "cell_type": "code",
   "execution_count": 1,
   "metadata": {
    "collapsed": false,
    "scrolled": true
   },
   "outputs": [],
   "source": [
    "%load_ext autoreload\n",
    "%autoreload 2\n",
    "from pdb import set_trace as t"
   ]
  },
  {
   "cell_type": "markdown",
   "metadata": {},
   "source": [
    "### Step 1: Coordinate Extraction"
   ]
  },
  {
   "cell_type": "code",
   "execution_count": 114,
   "metadata": {
    "collapsed": false
   },
   "outputs": [],
   "source": [
    "# Ines's code takes PDF and yields pdf_word_list, coordinate_map\n",
    "import os \n",
    "import subprocess\n",
    "\n",
    "pdf_path = os.environ['SNORKELHOME'] + 'tutorials/tables/data/hardware/hardware100_pdf/'\n",
    "filename = 'bc546-d'\n",
    "pdf_file = pdf_path + filename + '.pdf' # Path to PDF file \n",
    "\n",
    "# create coordinates and id files\n",
    "os.system('./getCoordinates.sh {}'.format(pdf_file))\n",
    "\n",
    "# extract coordinates in map and words in list\n",
    "basename = subprocess.check_output('basename {} .pdf'.format(pdf_file), shell=True)\n",
    "dirname = subprocess.check_output('dirname {}'.format(pdf_file), shell=True)\n",
    "coordinates = open(dirname.rstrip() + '/' + basename.rstrip() + '.ids_coordinates.txt','r').readlines()\n",
    "words = open(dirname.rstrip() + '/' + basename.rstrip() + '.ids_words.txt','r').readlines()\n",
    "pdf_word_list = []\n",
    "coordinate_map= {}\n",
    "for i in range(len(words)):\n",
    "    try:\n",
    "        # get words and ids\n",
    "        word_id, word = words[i].rstrip().split('\\t')\n",
    "        pdf_word_list.append((word_id, word))\n",
    "        # get ids and coordinates \n",
    "        word_id, page_nb, top, left, bottom, right = coordinates[i].rstrip().split('\\t')\n",
    "        coordinate_map[word_id] = (page_nb, top, left, bottom, right)\n",
    "    except ValueError as e: \n",
    "        if str(e) == 'need more than 1 value to unpack': # word is a white space, ignore it\n",
    "            pass\n",
    "        else: \n",
    "            raise"
   ]
  },
  {
   "cell_type": "markdown",
   "metadata": {},
   "source": [
    "### Step 2: PDF to HTML Conversion"
   ]
  },
  {
   "cell_type": "markdown",
   "metadata": {},
   "source": [
    "Use Adobe Acrobat (or other program of your choice) to convert PDF -> HTML with structure."
   ]
  },
  {
   "cell_type": "markdown",
   "metadata": {},
   "source": [
    "### Step 3: HTML Parsing"
   ]
  },
  {
   "cell_type": "code",
   "execution_count": 2,
   "metadata": {
    "collapsed": false
   },
   "outputs": [
    {
     "name": "stdout",
     "output_type": "stream",
     "text": [
      "[========================================] 100%\n",
      "CPU times: user 2.98 s, sys: 219 ms, total: 3.2 s\n",
      "Wall time: 7.71 s\n"
     ]
    }
   ],
   "source": [
    "# Payal's parser takes HTML and yields corpus object, html_word_list\n",
    "import os\n",
    "os.remove('snorkel.db')\n",
    "\n",
    "from snorkel import SnorkelSession\n",
    "session = SnorkelSession()\n",
    "\n",
    "from snorkel.parser import CorpusParser\n",
    "from snorkel.parser import HTMLParser\n",
    "from snorkel.parser import OmniParser\n",
    "\n",
    "html_path = os.environ['SNORKELHOME'] + '/tutorials/tables/data/hardware/hardware100_html/'\n",
    "filename = 'bc546-d'\n",
    "html_file = html_path + filename + '.html'\n",
    "doc_parser = HTMLParser(path=html_file)\n",
    "context_parser = OmniParser()\n",
    "cp = CorpusParser(doc_parser, context_parser, max_docs=100) \n",
    "\n",
    "%time corpus = cp.parse_corpus(name='Hardware', session=session)"
   ]
  },
  {
   "cell_type": "code",
   "execution_count": 8,
   "metadata": {
    "collapsed": false
   },
   "outputs": [
    {
     "name": "stdout",
     "output_type": "stream",
     "text": [
      "2662\n",
      "[((2, 0), u'BC546'),\n",
      " ((2, 1), u'-'),\n",
      " ((2, 2), u'NPN'),\n",
      " ((2, 3), u'Amplifier'),\n",
      " ((2, 4), u'Transistors'),\n",
      " ((3, 0), u'BC546B'),\n",
      " ((3, 1), u','),\n",
      " ((3, 2), u'BC547A'),\n",
      " ((3, 3), u','),\n",
      " ((3, 4), u'B')]\n"
     ]
    }
   ],
   "source": [
    "from pprint import pprint\n",
    "\n",
    "html_word_list = []\n",
    "for phrase in corpus.documents[0].phrases:\n",
    "    for i, word in enumerate(phrase.words):\n",
    "        html_word_list.append(((phrase.id, i), word))\n",
    "\n",
    "print len(html_word_list)\n",
    "pprint(html_word_list[:10])"
   ]
  },
  {
   "cell_type": "markdown",
   "metadata": {},
   "source": [
    "### Step 4: Visual Linking"
   ]
  },
  {
   "cell_type": "code",
   "execution_count": null,
   "metadata": {
    "collapsed": true
   },
   "outputs": [],
   "source": [
    "from visual_linking import link_lists\n",
    "\n",
    "%time links = link_lists(pdf_word_list, html_word_list)"
   ]
  },
  {
   "cell_type": "markdown",
   "metadata": {},
   "source": [
    "### Step 5: Updating with coordinates"
   ]
  },
  {
   "cell_type": "code",
   "execution_count": null,
   "metadata": {
    "collapsed": true
   },
   "outputs": [],
   "source": [
    "# Payal's code walks through phrases, updating each one's five visual attributes\n",
    "# (page, top, left, bottom, right)\n",
    "for phrase in corpus.documents[0].phrases:\n",
    "    for i range(len(phrase.words)):\n",
    "        (page_nb, top, left, bottom, right) = links[((phrase.id), i)]\n",
    "        phrase.page_nb[i] = page_nb\n",
    "        phrase.top[i]     = top\n",
    "        phrase.left[i]    = left\n",
    "        phrase.bottom[i]  = bottom\n",
    "        phrase.right[i]   = right"
   ]
  },
  {
   "cell_type": "markdown",
   "metadata": {},
   "source": [
    "### Step 6: Assess Results"
   ]
  },
  {
   "cell_type": "code",
   "execution_count": 115,
   "metadata": {
    "collapsed": true
   },
   "outputs": [],
   "source": [
    "# Use Ines's code to plot locations of words on the original PDF\n",
    "import numpy as np\n",
    "import cv2"
   ]
  },
  {
   "cell_type": "code",
   "execution_count": 116,
   "metadata": {
    "collapsed": false
   },
   "outputs": [],
   "source": [
    "page_to_visualize = '4' # page number to visualize\n",
    "page_width = 612 # size of A4 pdf \n",
    "page_height = 792"
   ]
  },
  {
   "cell_type": "code",
   "execution_count": 117,
   "metadata": {
    "collapsed": false
   },
   "outputs": [
    {
     "data": {
      "text/plain": [
       "0"
      ]
     },
     "execution_count": 117,
     "metadata": {},
     "output_type": "execute_result"
    }
   ],
   "source": [
    "#Generate jpeg image from pdf\n",
    "os.system('pdftoppm -f {} -l {} -jpeg {} {}'.format(\n",
    "    page_to_visualize, page_to_visualize, pdf_file, pdf_path + filename))"
   ]
  },
  {
   "cell_type": "markdown",
   "metadata": {},
   "source": [
    "BOUNDING BOXES on PDF image"
   ]
  },
  {
   "cell_type": "code",
   "execution_count": 118,
   "metadata": {
    "collapsed": false
   },
   "outputs": [],
   "source": [
    "# Read pdf as an image \n",
    "img = cv2.resize(cv2.imread(pdf_path + filename + '-' + page_to_visualize + '.jpg'),(page_width,page_height))\n",
    "# Plot bounding boxes\n",
    "for i, (page_nb, top, left, bottom, right) in enumerate(coordinate_map.values()):\n",
    "    if page_nb == page_to_visualize:\n",
    "        cv2.rectangle(img,(int(float(left)),int(float(top))),(int(float(right)),int(float(bottom))),(255,0,0),1)\n",
    "cv2.imshow('Bounding boxes',img)\n",
    "cv2.waitKey() # press any key to exit the opencv output \n",
    "cv2.destroyAllWindows() "
   ]
  },
  {
   "cell_type": "markdown",
   "metadata": {},
   "source": [
    "Display Ordering on a black page - Not very easy to display because of supe"
   ]
  },
  {
   "cell_type": "code",
   "execution_count": 124,
   "metadata": {
    "collapsed": false
   },
   "outputs": [],
   "source": [
    "img = np.zeros((page_height,page_width,3))\n",
    "font = cv2.FONT_HERSHEY_SIMPLEX\n",
    "i = 0\n",
    "for word_id, _ in pdf_word_list:\n",
    "    if word_id[0] == page_to_visualize:\n",
    "        i += 1\n",
    "        __, top, left, bottom, right = coordinate_map[word_id]\n",
    "        cv2.rectangle(img,(int(float(left)),int(float(top))),(int(float(right)),int(float(bottom))),(0,255,0),1)\n",
    "        cv2.putText(img, str(i), (int((float(left)+float(right))/2), int(float(bottom))), font, 0.3, (0,0,255), 1)\n",
    "cv2.imshow('Ordering',img)\n",
    "cv2.waitKey() # press any key to exit the opencv output \n",
    "cv2.destroyAllWindows() "
   ]
  },
  {
   "cell_type": "code",
   "execution_count": 112,
   "metadata": {
    "collapsed": false
   },
   "outputs": [
    {
     "data": {
      "text/plain": [
       "0"
      ]
     },
     "execution_count": 112,
     "metadata": {},
     "output_type": "execute_result"
    }
   ],
   "source": [
    "# delete image, coordinates file and ids file created\n",
    "os.system('rm {}'.format(pdf_path + filename + '-' + page_to_visualize + '.jpg'))\n",
    "os.system('rm {}'.format(dirname.rstrip() + '/' + basename.rstrip() + '.ids_coordinates.txt'))\n",
    "os.system('rm {}'.format(dirname.rstrip() + '/' + basename.rstrip() + '.ids_words.txt'))"
   ]
  }
 ],
 "metadata": {
  "anaconda-cloud": {},
  "kernelspec": {
   "display_name": "Python 2",
   "language": "python",
   "name": "python2"
  },
  "language_info": {
   "codemirror_mode": {
    "name": "ipython",
    "version": 2
   },
   "file_extension": ".py",
   "mimetype": "text/x-python",
   "name": "python",
   "nbconvert_exporter": "python",
   "pygments_lexer": "ipython2",
   "version": "2.7.10"
  }
 },
 "nbformat": 4,
 "nbformat_minor": 1
}
