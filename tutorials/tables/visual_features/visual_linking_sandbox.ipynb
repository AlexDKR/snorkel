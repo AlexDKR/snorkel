{
 "cells": [
  {
   "cell_type": "code",
   "execution_count": 1,
   "metadata": {
    "collapsed": false
   },
   "outputs": [],
   "source": [
    "import random\n",
    "import numpy as np\n",
    "from pdb import set_trace as t"
   ]
  },
  {
   "cell_type": "code",
   "execution_count": 5,
   "metadata": {
    "collapsed": false
   },
   "outputs": [
    {
     "name": "stdout",
     "output_type": "stream",
     "text": [
      "Duplicate: 0.09\n",
      "Mismatch:  0.0\n",
      "Partial:   0.1\n",
      "Aligned:   0.0\n",
      "CPU times: user 25 ms, sys: 3.48 ms, total: 28.5 ms\n",
      "Wall time: 37.1 ms\n"
     ]
    }
   ],
   "source": [
    "%%time\n",
    "from visual_testing import syntheticListGenerator\n",
    "from pprint import pprint\n",
    "\n",
    "lister = syntheticListGenerator(\n",
    "   scramble_pct=.1, \n",
    "   scramble_rng=50, \n",
    "   duplicate_pct=.1, \n",
    "   mismatch_pct=0,\n",
    "   partial_pct=.1,\n",
    "   offset=20\n",
    ")\n",
    "\n",
    "N = 1000\n",
    "(html, pdf) = lister.make_lists(N)\n",
    "print \"Duplicate: %s\" % lister.duplicates\n",
    "print \"Mismatch:  %s\" % lister.mismatches\n",
    "print \"Partial:   %s\" % lister.partials\n",
    "print \"Aligned:   %s\" % lister.aligned "
   ]
  },
  {
   "cell_type": "code",
   "execution_count": 6,
   "metadata": {
    "collapsed": false,
    "scrolled": false
   },
   "outputs": [
    {
     "name": "stdout",
     "output_type": "stream",
     "text": [
      "CPU times: user 152 ms, sys: 6.24 ms, total: 158 ms\n",
      "Wall time: 173 ms\n"
     ]
    }
   ],
   "source": [
    "from visual_linking import link_lists\n",
    "\n",
    "%time links = link_lists(html, pdf, searchMax=200)"
   ]
  },
  {
   "cell_type": "code",
   "execution_count": null,
   "metadata": {
    "collapsed": false,
    "scrolled": false
   },
   "outputs": [],
   "source": [
    "from visual_testing import check_matches\n",
    "        \n",
    "check_matches(links, html, pdf, display=False)\n",
    "# pprint(zip(html, pdf))\n",
    "# pprint(links)"
   ]
  },
  {
   "cell_type": "code",
   "execution_count": null,
   "metadata": {
    "collapsed": true
   },
   "outputs": [],
   "source": []
  }
 ],
 "metadata": {
  "anaconda-cloud": {},
  "kernelspec": {
   "display_name": "Python [default]",
   "language": "python",
   "name": "python2"
  },
  "language_info": {
   "codemirror_mode": {
    "name": "ipython",
    "version": 2
   },
   "file_extension": ".py",
   "mimetype": "text/x-python",
   "name": "python",
   "nbconvert_exporter": "python",
   "pygments_lexer": "ipython2",
   "version": "2.7.10"
  }
 },
 "nbformat": 4,
 "nbformat_minor": 1
}
