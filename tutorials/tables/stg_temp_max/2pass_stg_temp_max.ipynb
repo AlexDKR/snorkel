{
 "cells": [
  {
   "cell_type": "markdown",
   "metadata": {},
   "source": [
    "# STG_TEMP_MAX_2Pass"
   ]
  },
  {
   "cell_type": "markdown",
   "metadata": {},
   "source": [
    "## Setup"
   ]
  },
  {
   "cell_type": "code",
   "execution_count": 1,
   "metadata": {
    "collapsed": false
   },
   "outputs": [],
   "source": [
    "# If necessary:\n",
    "import os\n",
    "os.remove('snorkel.db')"
   ]
  },
  {
   "cell_type": "code",
   "execution_count": 2,
   "metadata": {
    "collapsed": false
   },
   "outputs": [],
   "source": [
    "%load_ext autoreload\n",
    "%autoreload 2\n",
    "%matplotlib inline\n",
    "\n",
    "import os\n",
    "import sys\n",
    "sys.path.append(os.environ['SNORKELHOME'] + '/tutorials/tables/')"
   ]
  },
  {
   "cell_type": "markdown",
   "metadata": {},
   "source": [
    "## Parsing"
   ]
  },
  {
   "cell_type": "code",
   "execution_count": 3,
   "metadata": {
    "collapsed": false
   },
   "outputs": [],
   "source": [
    "from snorkel import SnorkelSession\n",
    "session = SnorkelSession()"
   ]
  },
  {
   "cell_type": "markdown",
   "metadata": {},
   "source": [
    "### Define Parser"
   ]
  },
  {
   "cell_type": "code",
   "execution_count": 4,
   "metadata": {
    "collapsed": false
   },
   "outputs": [],
   "source": [
    "import os\n",
    "from snorkel.parser import CorpusParser, HTMLParser, OmniParser\n",
    "from snorkel.utils import get_ORM_instance\n",
    "from snorkel.queries import split_corpus\n",
    "\n",
    "html_path = os.environ['SNORKELHOME'] + '/tutorials/tables/data/hardware/hardware100_html/'\n",
    "pdf_path  = os.environ['SNORKELHOME'] + '/tutorials/tables/data/hardware/hardware100_pdf/'\n",
    "doc_parser = HTMLParser(path=html_path)\n",
    "context_parser = OmniParser(pdf_path=pdf_path, session=session, visual=True)\n",
    "cp = CorpusParser(doc_parser, context_parser, max_docs=100) "
   ]
  },
  {
   "cell_type": "markdown",
   "metadata": {},
   "source": [
    "### Run Parser"
   ]
  },
  {
   "cell_type": "code",
   "execution_count": 5,
   "metadata": {
    "collapsed": false,
    "scrolled": true
   },
   "outputs": [
    {
     "name": "stdout",
     "output_type": "stream",
     "text": [
      "[========================================] 100%\n",
      "CPU times: user 3min 57s, sys: 9.07 s, total: 4min 6s\n",
      "Wall time: 5min 54s\n"
     ]
    }
   ],
   "source": [
    "%time corpus = cp.parse_corpus(name='Hardware', session=session)\n",
    "\n",
    "session.add(corpus)\n",
    "session.commit()"
   ]
  },
  {
   "cell_type": "markdown",
   "metadata": {},
   "source": [
    "### Split Corpus"
   ]
  },
  {
   "cell_type": "code",
   "execution_count": 6,
   "metadata": {
    "collapsed": false
   },
   "outputs": [
    {
     "name": "stdout",
     "output_type": "stream",
     "text": [
      "78 Documents added to corpus Hardware Training\n",
      "19 Documents added to corpus Hardware Development\n"
     ]
    }
   ],
   "source": [
    "from snorkel.models import Corpus\n",
    "\n",
    "corpus = get_ORM_instance(Corpus, session, 'Hardware')\n",
    "split_corpus(session, corpus, train=0.8, development=0.2, test=0, seed=3)"
   ]
  },
  {
   "cell_type": "code",
   "execution_count": 7,
   "metadata": {
    "collapsed": true
   },
   "outputs": [],
   "source": [
    "# If necessary\n",
    "import os\n",
    "os.system('cp snorkel.db snorkel.db\\ corpus');"
   ]
  },
  {
   "cell_type": "markdown",
   "metadata": {},
   "source": [
    "## Extraction"
   ]
  },
  {
   "cell_type": "code",
   "execution_count": 1,
   "metadata": {
    "collapsed": false
   },
   "outputs": [],
   "source": [
    "# If necessary:\n",
    "import os\n",
    "os.remove('snorkel.db');\n",
    "os.system('cp snorkel.db\\ corpus snorkel.db');\n",
    "\n",
    "%load_ext autoreload\n",
    "%autoreload 2\n",
    "%matplotlib inline\n",
    "\n",
    "import sys\n",
    "sys.path.append(os.environ['SNORKELHOME'] + '/tutorials/tables/')\n",
    "\n",
    "from snorkel import SnorkelSession\n",
    "session = SnorkelSession()"
   ]
  },
  {
   "cell_type": "code",
   "execution_count": 2,
   "metadata": {
    "collapsed": true
   },
   "outputs": [],
   "source": [
    "from snorkel.models import candidate_subclass\n",
    "\n",
    "Part_Temp = candidate_subclass('Part_Temp', ['part','temp'])"
   ]
  },
  {
   "cell_type": "markdown",
   "metadata": {},
   "source": [
    "### Define Matchers"
   ]
  },
  {
   "cell_type": "code",
   "execution_count": 3,
   "metadata": {
    "collapsed": false
   },
   "outputs": [],
   "source": [
    "from snorkel.matchers import RegexMatchSpan, Union\n",
    "\n",
    "eeca_rgx = ur'([b]{1}[abcdefklnpqruyz]{1}[\\swxyz]?[0-9]{3,5}[\\s]?[A-Z]{0,2}[\\/]?[A-Z]{0,2}[0-9]?[A-Z]?([(\\-|\\u2010|\\u2011|\\u2012|\\u2013|\\u2014|\\u2212)][A-Z0-9]{1,7})?([(\\-|\\u2010|\\u2011|\\u2012|\\u2013|\\u2014|\\u2212)][A-Z0-9]{1,2})?)'\n",
    "eeca_matcher = RegexMatchSpan(rgx=eeca_rgx, longest_match_only=True)\n",
    "jedec_rgx = '([123]N\\d{3,4}[A-Z]{0,5}[0-9]?[A-Z]?)'\n",
    "jedec_matcher = RegexMatchSpan(rgx=jedec_rgx, longest_match_only=True)\n",
    "jis_rgx = '(2S[abcdefghjkmqrstvz]{1}[\\d]{2,4})'\n",
    "jis_matcher = RegexMatchSpan(rgx=jis_rgx, longest_match_only=True)\n",
    "others_rgx = '((NSVBC|SMBT|MJ|MJE|MPS|MRF|RCA|TIP|ZTX|ZT|TIS|TIPL|DTC|MMBT|PZT){1}[\\d]{2,4}[A-Z]{0,3}([-][A-Z0-9]{0,6})?([-][A-Z0-9]{0,1})?)'\n",
    "others_matcher = RegexMatchSpan(rgx=others_rgx, longest_match_only=True)\n",
    "# parts_rgx = '|'.join([eeca_rgx, jedec_rgx, jis_rgx, others_rgx])\n",
    "parts_matcher = Union(eeca_matcher, jedec_matcher, jis_matcher, others_matcher)\n",
    "\n",
    "temp_matcher = RegexMatchSpan(rgx=r'1[4-6]0', longest_match_only=False)"
   ]
  },
  {
   "cell_type": "code",
   "execution_count": 4,
   "metadata": {
    "collapsed": false
   },
   "outputs": [],
   "source": [
    "# import re\n",
    "# part_finder = re.compile(parts_rgx, re.I)\n",
    "# print any([part_finder.match(x) for x in ['blue', 'red', 'black', 'green']])\n",
    "# print any([part_finder.match(x) for x in ['blue', 'red', 'BC546A', 'green']])"
   ]
  },
  {
   "cell_type": "markdown",
   "metadata": {},
   "source": [
    "### Define ContextSpaces"
   ]
  },
  {
   "cell_type": "code",
   "execution_count": 3,
   "metadata": {
    "collapsed": false
   },
   "outputs": [
    {
     "ename": "ImportError",
     "evalue": "No module named hardware_utils",
     "output_type": "error",
     "traceback": [
      "\u001b[0;31m---------------------------------------------------------------------------\u001b[0m",
      "\u001b[0;31mImportError\u001b[0m                               Traceback (most recent call last)",
      "\u001b[0;32m<ipython-input-3-f19f86cdf589>\u001b[0m in \u001b[0;36m<module>\u001b[0;34m()\u001b[0m\n\u001b[0;32m----> 1\u001b[0;31m \u001b[0;32mfrom\u001b[0m \u001b[0mhardware_utils\u001b[0m \u001b[0;32mimport\u001b[0m \u001b[0mget_gold_dict\u001b[0m\u001b[0;34m,\u001b[0m \u001b[0mget_first_pass_dict\u001b[0m\u001b[0;34m,\u001b[0m \u001b[0mOmniNgramsPart\u001b[0m\u001b[0;34m,\u001b[0m \u001b[0mOmniNgramsTemp\u001b[0m\u001b[0;34m,\u001b[0m \u001b[0mmerge_two_dicts\u001b[0m\u001b[0;34m\u001b[0m\u001b[0m\n\u001b[0m\u001b[1;32m      2\u001b[0m \u001b[0;32mfrom\u001b[0m \u001b[0mcollections\u001b[0m \u001b[0;32mimport\u001b[0m \u001b[0mdefaultdict\u001b[0m\u001b[0;34m\u001b[0m\u001b[0m\n\u001b[1;32m      3\u001b[0m \u001b[0;32mfrom\u001b[0m \u001b[0msnorkel\u001b[0m\u001b[0;34m.\u001b[0m\u001b[0mcandidates\u001b[0m \u001b[0;32mimport\u001b[0m \u001b[0mOmniNgrams\u001b[0m\u001b[0;34m\u001b[0m\u001b[0m\n\u001b[1;32m      4\u001b[0m \u001b[0;32mfrom\u001b[0m \u001b[0msnorkel\u001b[0m\u001b[0;34m.\u001b[0m\u001b[0mutils\u001b[0m \u001b[0;32mimport\u001b[0m \u001b[0mget_ORM_instance\u001b[0m\u001b[0;34m\u001b[0m\u001b[0m\n\u001b[1;32m      5\u001b[0m \u001b[0;32mfrom\u001b[0m \u001b[0msnorkel\u001b[0m\u001b[0;34m.\u001b[0m\u001b[0mmodels\u001b[0m \u001b[0;32mimport\u001b[0m \u001b[0mCorpus\u001b[0m\u001b[0;34m\u001b[0m\u001b[0m\n",
      "\u001b[0;31mImportError\u001b[0m: No module named hardware_utils"
     ]
    }
   ],
   "source": [
    "from hardware_utils import get_gold_dict, get_first_pass_dict, OmniNgramsPart, OmniNgramsTemp, merge_two_dicts\n",
    "from collections import defaultdict\n",
    "from snorkel.candidates import OmniNgrams\n",
    "from snorkel.utils import get_ORM_instance\n",
    "from snorkel.models import Corpus\n",
    "\n",
    "eeca_suffix = '^(A|B|C|-16|-25|-40|16|25|40)$'\n",
    "suffix_matcher = RegexMatchSpan(rgx=eeca_suffix, ignore_case=False)\n",
    "suffix_ngrams = OmniNgrams(n_max=1)\n",
    "part_ngrams = OmniNgramsPart(n_max=5)\n",
    "\n",
    "\n",
    "dev_corpus = get_ORM_instance(Corpus, session, \"Hardware Development\")\n",
    "\n",
    "train_corpus = get_ORM_instance(Corpus, session, \"Hardware Training\")\n",
    "\n",
    "\n",
    "parts_dev, s_dev, p_dev = get_first_pass_dict(dev_corpus.documents, parts_matcher=parts_matcher, part_ngrams=part_ngrams, suffix_matcher=suffix_matcher, suffix_ngrams=suffix_ngrams)      \n",
    "\n",
    "parts_train, s_train, p_train = get_first_pass_dict(train_corpus.documents, parts_matcher=parts_matcher, part_ngrams=part_ngrams, suffix_matcher=suffix_matcher, suffix_ngrams=suffix_ngrams)  \n",
    "\n",
    "parts_by_doc = merge_two_dicts(parts_dev, parts_train)"
   ]
  },
  {
   "cell_type": "code",
   "execution_count": 4,
   "metadata": {
    "collapsed": false
   },
   "outputs": [],
   "source": [
    "# import pickle\n",
    "# filename = '1stpass.pkl'\n",
    "# with open(filename, 'w') as f:\n",
    "#     pickle.dump(parts_by_doc, f)\n",
    "    \n",
    "import pickle\n",
    "filename = '1stpass.pkl'\n",
    "with open(filename, 'r') as f:\n",
    "    parts_by_doc = pickle.load(f)\n"
   ]
  },
  {
   "cell_type": "code",
   "execution_count": 5,
   "metadata": {
    "collapsed": false
   },
   "outputs": [],
   "source": [
    "from hardware_utils import OmniNgramsPart, OmniNgramsTemp\n",
    "\n",
    "part_ngrams = OmniNgramsPart(parts_by_doc=parts_by_doc, n_max=5)\n",
    "\n",
    "# TODO: This is missing the current represented as an Amp rather than a milliamp\n",
    "temp_ngrams = OmniNgramsTemp(n_max=2)"
   ]
  },
  {
   "cell_type": "markdown",
   "metadata": {},
   "source": [
    "### Define Throttler"
   ]
  },
  {
   "cell_type": "code",
   "execution_count": 6,
   "metadata": {
    "collapsed": false
   },
   "outputs": [],
   "source": [
    "from snorkel.lf_helpers import *\n",
    "\n",
    "def part_throttler((part_span, attr_span)):\n",
    "    \"\"\"\n",
    "    Keep only those candidates where both spans are on the same page and\n",
    "    either aligned in the same table (visually or structurally) or the part is global.\n",
    "    \"\"\"\n",
    "    # TODO: Write this in an easier to tweak way. No reason to try and\n",
    "    # cram it all into a single return statement.\n",
    "#     return(\n",
    "#         same_page((part_span, attr_span)) or\n",
    "#         (part_span.parent.table is None))\n",
    "    \n",
    "    # Filter out things like BC546-BC550 that pass through otherwise\n",
    "    text = part_span.get_span()\n",
    "    if text.count('-') == 1:\n",
    "        split = text.split('-')\n",
    "        if len(split[0]) == len(split[1]):\n",
    "            return False\n",
    "\n",
    "    return True\n",
    "\n",
    "#     if (not part_span.has_visual_features() or not attr_span.has_visual_features()):\n",
    "#         import pdb; pdb.set_trace()\n",
    "\n",
    "#     return(part_span.parent.table is None or\n",
    "#            same_table((part_span, attr_span)))\n"
   ]
  },
  {
   "cell_type": "markdown",
   "metadata": {},
   "source": [
    "### Run CandidateExtractor"
   ]
  },
  {
   "cell_type": "code",
   "execution_count": 7,
   "metadata": {
    "collapsed": false,
    "scrolled": true
   },
   "outputs": [
    {
     "name": "stdout",
     "output_type": "stream",
     "text": [
      "Extracting Candidates from Corpus (Hardware Training)\n",
      "[========================================] 100%\n",
      "CPU times: user 2min 27s, sys: 1.16 s, total: 2min 28s\n",
      "Wall time: 2min 28s\n",
      "Candidate Set (Hardware Training Candidates) contains 115717 Candidates\n",
      "Extracting Candidates from Corpus (Hardware Development)\n",
      "[========================================] 100%\n",
      "CPU times: user 26.1 s, sys: 192 ms, total: 26.3 s\n",
      "Wall time: 26.4 s\n",
      "Candidate Set (Hardware Development Candidates) contains 17935 Candidates\n"
     ]
    }
   ],
   "source": [
    "from snorkel.models import Corpus\n",
    "from snorkel.candidates import CandidateExtractor\n",
    "from snorkel.utils import get_ORM_instance\n",
    "\n",
    "\n",
    "ce = CandidateExtractor(Part_Temp, \n",
    "                        [part_ngrams, temp_ngrams], \n",
    "                        [parts_matcher, temp_matcher],\n",
    "                        throttler=part_throttler)\n",
    "\n",
    "for corpus_name in ['Hardware Training', 'Hardware Development']:\n",
    "    corpus = get_ORM_instance(Corpus, session, corpus_name)\n",
    "    print \"Extracting Candidates from %s\" % corpus\n",
    "    %time candidates = ce.extract(\\\n",
    "        corpus.documents, corpus_name + ' Candidates', session)\n",
    "    session.add(candidates)\n",
    "    print \"%s contains %d Candidates\" % (candidates, len(candidates))\n",
    "session.commit()"
   ]
  },
  {
   "cell_type": "markdown",
   "metadata": {},
   "source": [
    "### Assess Recall"
   ]
  },
  {
   "cell_type": "code",
   "execution_count": 8,
   "metadata": {
    "collapsed": false
   },
   "outputs": [
    {
     "name": "stdout",
     "output_type": "stream",
     "text": [
      "Preparing candidates...\n",
      "[========================================] 100%\n",
      "========================================\n",
      "Scoring on Entity-Level Total Recall\n",
      "========================================\n",
      "Entity-level Candidates extracted: 1838 \n",
      "Entity-level Gold: 823\n",
      "Intersection Candidates: 812\n",
      "----------------------------------------\n",
      "Overlap with Gold:  0.9866\n",
      "========================================\n",
      "\n",
      "812\n",
      "1026\n",
      "11\n"
     ]
    }
   ],
   "source": [
    "from hardware_utils import entity_level_total_recall, most_common_document, get_gold_dict\n",
    "from snorkel.utils import get_ORM_instance\n",
    "from snorkel.models import Candidate, Corpus\n",
    "\n",
    "all_candidates = session.query(Candidate).all()\n",
    "gold_file = os.environ['SNORKELHOME'] + '/tutorials/tables/data/hardware/hardware_gold.csv'\n",
    "\n",
    "corpus = get_ORM_instance(Corpus, session, 'Hardware')\n",
    "(tp, fp, fn) = entity_level_total_recall(\n",
    "    all_candidates, gold_file, 'stg_temp_max', corpus=corpus, relation=True, integerize=True)\n",
    "print len(tp)\n",
    "print len(fp)\n",
    "print len(fn)"
   ]
  },
  {
   "cell_type": "code",
   "execution_count": 12,
   "metadata": {
    "collapsed": false
   },
   "outputs": [
    {
     "name": "stdout",
     "output_type": "stream",
     "text": [
      "[(u'112823', u'BC546/D', 150),\n",
      " (u'112823', u'BC548A', 150),\n",
      " (u'2N3906-D', u'1N916', 140),\n",
      " (u'2N3906-D', u'1N916', 150),\n",
      " (u'2N3906-D', u'1N916', 160),\n",
      " (u'2N3906-D', u'2N3906', 140),\n",
      " (u'2N3906-D', u'2N3906', 160),\n",
      " (u'2N3906-D', u'2N3906G', 140),\n",
      " (u'2N3906-D', u'2N3906G', 160),\n",
      " (u'2N3906-D', u'2N3906RL1', 140),\n",
      " (u'2N3906-D', u'2N3906RL1', 160),\n",
      " (u'2N3906-D', u'2N3906RL1G', 140),\n",
      " (u'2N3906-D', u'2N3906RL1G', 160),\n",
      " (u'2N3906-D', u'2N3906RLRA', 140),\n",
      " (u'2N3906-D', u'2N3906RLRA', 160),\n",
      " (u'2N3906-D', u'2N3906RLRAG', 140),\n",
      " (u'2N3906-D', u'2N3906RLRAG', 160),\n",
      " (u'2N3906-D', u'2N3906RLRM', 140),\n",
      " (u'2N3906-D', u'2N3906RLRM', 160),\n",
      " (u'2N3906-D', u'2N3906RLRMG', 140),\n",
      " (u'2N3906-D', u'2N3906RLRMG', 160),\n",
      " (u'2N3906-D', u'2N3906RLRP', 140),\n",
      " (u'2N3906-D', u'2N3906RLRP', 160),\n",
      " (u'2N3906-D', u'2N3906RLRPG', 140),\n",
      " (u'2N3906-D', u'2N3906RLRPG', 160),\n",
      " (u'2N3906-D', u'2N390D', 140),\n",
      " (u'2N3906-D', u'2N390D', 150),\n",
      " (u'2N3906-D', u'2N390D', 160),\n",
      " (u'2N4123-D', u'2N4123', 140),\n",
      " (u'2N4123-D', u'2N4123', 160),\n",
      " (u'2N4123-D', u'2N4123RLRM', 140),\n",
      " (u'2N4123-D', u'2N4123RLRM', 160),\n",
      " (u'2N4123-D', u'2N4124', 140),\n",
      " (u'2N4123-D', u'2N4124', 160),\n",
      " (u'2N4123-D', u'2N4124G', 140),\n",
      " (u'2N4123-D', u'2N4124G', 160),\n",
      " (u'2N4123-D', u'2N412D', 140),\n",
      " (u'2N4123-D', u'2N412D', 150),\n",
      " (u'2N4123-D', u'2N412D', 160),\n",
      " (u'2N4124', u'1N916', 140),\n",
      " (u'2N4124', u'1N916', 150),\n",
      " (u'2N4124', u'1N916', 160),\n",
      " (u'2N4124', u'2N4124', 140),\n",
      " (u'2N4124', u'2N4124', 160),\n",
      " (u'2N4124', u'MMBT4124', 140),\n",
      " (u'2N4124', u'MMBT4124', 160),\n",
      " (u'2N6426-D', u'2N6426IS', 150),\n",
      " (u'2N6426-D', u'2N6426ISA', 150),\n",
      " (u'2N6426-D', u'2N642D', 150),\n",
      " (u'BC182-D', u'BC182', 140),\n",
      " (u'BC182-D', u'BC182', 160),\n",
      " (u'BC182-D', u'BC182/D', 140),\n",
      " (u'BC182-D', u'BC182/D', 150),\n",
      " (u'BC182-D', u'BC182/D', 160),\n",
      " (u'BC182-D', u'BC182B', 140),\n",
      " (u'BC182-D', u'BC182B', 160),\n",
      " (u'BC182-D', u'BC182BG', 140),\n",
      " (u'BC182-D', u'BC182BG', 160),\n",
      " (u'BC182-D', u'BC182BRL1G', 140),\n",
      " (u'BC182-D', u'BC182BRL1G', 160),\n",
      " (u'BC182-D', u'BC182G', 140),\n",
      " (u'BC182-D', u'BC182G', 160),\n",
      " (u'BC337', u'BC327', 150),\n",
      " (u'BC337', u'BC327', 160),\n",
      " (u'BC337', u'BC327-16', 150),\n",
      " (u'BC337', u'BC327-16', 160),\n",
      " (u'BC337', u'BC327-25', 150),\n",
      " (u'BC337', u'BC327-25', 160),\n",
      " (u'BC337', u'BC327-40', 150),\n",
      " (u'BC337', u'BC327-40', 160),\n",
      " (u'BC337', u'BC328', 150),\n",
      " (u'BC337', u'BC328', 160),\n",
      " (u'BC337', u'BC328-16', 150),\n",
      " (u'BC337', u'BC328-16', 160),\n",
      " (u'BC337', u'BC328-25', 150),\n",
      " (u'BC337', u'BC328-25', 160),\n",
      " (u'BC337', u'BC328-40', 150),\n",
      " (u'BC337', u'BC328-40', 160),\n",
      " (u'BC337', u'BC337', 160),\n",
      " (u'BC337', u'BC337-16', 160),\n",
      " (u'BC337', u'BC337-25', 160),\n",
      " (u'BC337', u'BC337-40', 160),\n",
      " (u'BC337', u'BC33716', 150),\n",
      " (u'BC337', u'BC33716', 160),\n",
      " (u'BC337', u'BC33716BU', 160),\n",
      " (u'BC337', u'BC33716TA', 160),\n",
      " (u'BC337', u'BC33716TFR', 160),\n",
      " (u'BC337', u'BC33725', 150),\n",
      " (u'BC337', u'BC33725', 160),\n",
      " (u'BC337', u'BC33725BU', 160),\n",
      " (u'BC337', u'BC33725TA', 160),\n",
      " (u'BC337', u'BC33725TAR', 160),\n",
      " (u'BC337', u'BC33725TF', 160),\n",
      " (u'BC337', u'BC33725TFR', 160),\n",
      " (u'BC337', u'BC33740', 150),\n",
      " (u'BC337', u'BC33740', 160),\n",
      " (u'BC337', u'BC33740BU', 150),\n",
      " (u'BC337', u'BC33740BU', 160),\n",
      " (u'BC337', u'BC33740TA', 160),\n",
      " (u'BC337', u'BC338', 160)]\n",
      "[u'BC850',\n",
      " u'BC856-BC860',\n",
      " u'BC857',\n",
      " u'BC857-BC860',\n",
      " u'BC857/W-BC',\n",
      " u'BC857A',\n",
      " u'BC857B',\n",
      " u'BC857BL3',\n",
      " u'BC857BW',\n",
      " u'BC857C',\n",
      " u'BC857CW',\n",
      " u'BC857W',\n",
      " u'BC857W-BC860W',\n",
      " u'BC858',\n",
      " u'BC858A',\n",
      " u'BC858B',\n",
      " u'BC858BW',\n",
      " u'BC858C',\n",
      " u'BC858CW',\n",
      " u'BC858W',\n",
      " u'BC859',\n",
      " u'BC859C',\n",
      " u'BC859W',\n",
      " u'BC860',\n",
      " u'BC860B',\n",
      " u'BC860BW',\n",
      " u'BC860CW',\n",
      " u'BC860W']\n"
     ]
    }
   ],
   "source": [
    "from pprint import pprint\n",
    "fns = list(fn)\n",
    "pprint(sorted(fns)[:40])\n",
    "pprint(sorted(parts_by_doc[\"PHGLS18216-1\"]))"
   ]
  },
  {
   "cell_type": "code",
   "execution_count": null,
   "metadata": {
    "collapsed": false
   },
   "outputs": [],
   "source": [
    "# corpus = get_ORM_instance(Corpus, session, 'Hardware Training')\n",
    "# for document in corpus.documents:\n",
    "# #     print document.name\n",
    "#     if document.name == 'MOTOS03160-1':\n",
    "#         doc = document\n",
    "# print doc"
   ]
  },
  {
   "cell_type": "code",
   "execution_count": null,
   "metadata": {
    "collapsed": false
   },
   "outputs": [],
   "source": [
    "# for c in all_candidates:\n",
    "#     if c.part.get_span()=='BC183' and c.part.parent.document.name=='MOTOS03160-1':\n",
    "#         print c"
   ]
  },
  {
   "cell_type": "code",
   "execution_count": null,
   "metadata": {
    "collapsed": false
   },
   "outputs": [],
   "source": [
    "# for phrase in doc.phrases:\n",
    "#     if 'BC183' in phrase.words:\n",
    "#         print phrase"
   ]
  },
  {
   "cell_type": "code",
   "execution_count": 13,
   "metadata": {
    "collapsed": true
   },
   "outputs": [],
   "source": [
    "# If necessary\n",
    "import os\n",
    "os.system('cp snorkel.db snorkel.db\\ candidates');"
   ]
  },
  {
   "cell_type": "markdown",
   "metadata": {},
   "source": [
    "## Gold Labels"
   ]
  },
  {
   "cell_type": "code",
   "execution_count": 1,
   "metadata": {
    "collapsed": false
   },
   "outputs": [],
   "source": [
    "# If necessary\n",
    "import os\n",
    "os.remove('snorkel.db');\n",
    "os.system('cp snorkel.db\\ candidates snorkel.db');\n",
    "\n",
    "%load_ext autoreload\n",
    "%autoreload 2\n",
    "%matplotlib inline\n",
    "\n",
    "import sys\n",
    "sys.path.append(os.environ['SNORKELHOME'] + '/tutorials/tables/')\n",
    "\n",
    "from snorkel import SnorkelSession\n",
    "session = SnorkelSession()\n",
    "\n",
    "from snorkel.models import candidate_subclass\n",
    "Part_Temp = candidate_subclass('Part_Temp', ['part','temp'])"
   ]
  },
  {
   "cell_type": "code",
   "execution_count": 2,
   "metadata": {
    "collapsed": false
   },
   "outputs": [
    {
     "name": "stdout",
     "output_type": "stream",
     "text": [
      "Loading 115717 candidate labels\n",
      "[========================================] 100%\n",
      "CPU times: user 3min 40s, sys: 716 ms, total: 3min 40s\n",
      "Wall time: 3min 40s\n",
      "80250/115717 Candidates in Candidate Set (Hardware Training Candidates) have positive Labels\n",
      "Loading 17935 candidate labels\n",
      "[========================================] 100%\n",
      "CPU times: user 40.9 s, sys: 156 ms, total: 41.1 s\n",
      "Wall time: 41.1 s\n",
      "12926/17935 Candidates in Candidate Set (Hardware Development Candidates) have positive Labels\n"
     ]
    }
   ],
   "source": [
    "import os\n",
    "from snorkel.models import CandidateSet\n",
    "from hardware_utils import load_hardware_labels\n",
    "\n",
    "gold_file = os.environ['SNORKELHOME'] + '/tutorials/tables/data/hardware/hardware_gold.csv'\n",
    "for set_name in ['Training', 'Development']:\n",
    "    candidate_set_name = 'Hardware %s Candidates' % set_name\n",
    "    candidates = session.query(CandidateSet).filter(\n",
    "        CandidateSet.name == candidate_set_name).one()\n",
    "    label_set_name = 'Hardware %s Candidates -- Gold' % set_name\n",
    "    annotation_key_name = 'Hardware %s Labels -- Gold' % set_name\n",
    "    %time gold_candidates, annotation_key = load_hardware_labels(session,\\\n",
    "                           label_set_name, \\\n",
    "                           annotation_key_name, \\\n",
    "                           candidates, \\\n",
    "                           gold_file, \\\n",
    "                           attrib='stg_temp_max')\n",
    "    candidates_gold = session.query(CandidateSet).filter(\n",
    "        CandidateSet.name == candidate_set_name + ' -- Gold').one()\n",
    "    print \"%d/%d Candidates in %s have positive Labels\" % (\n",
    "        len(candidates_gold), len(candidates), candidates)"
   ]
  },
  {
   "cell_type": "code",
   "execution_count": 3,
   "metadata": {
    "collapsed": true
   },
   "outputs": [],
   "source": [
    "# If necessary\n",
    "import os\n",
    "os.system('cp snorkel.db snorkel.db\\ labels');"
   ]
  },
  {
   "cell_type": "markdown",
   "metadata": {},
   "source": [
    "## Features"
   ]
  },
  {
   "cell_type": "code",
   "execution_count": 1,
   "metadata": {
    "collapsed": false
   },
   "outputs": [],
   "source": [
    "# If necessary:\n",
    "import os\n",
    "os.remove('snorkel.db');\n",
    "os.system('cp snorkel.db\\ labels snorkel.db');\n",
    "\n",
    "%load_ext autoreload\n",
    "%autoreload 2\n",
    "%matplotlib inline\n",
    "\n",
    "import sys\n",
    "sys.path.append(os.environ['SNORKELHOME'] + '/tutorials/tables/')\n",
    "\n",
    "from snorkel import SnorkelSession\n",
    "session = SnorkelSession()\n",
    "\n",
    "from snorkel.models import candidate_subclass\n",
    "Part_Temp = candidate_subclass('Part_Temp', ['part','temp'])"
   ]
  },
  {
   "cell_type": "markdown",
   "metadata": {},
   "source": [
    "### Extract Features"
   ]
  },
  {
   "cell_type": "code",
   "execution_count": 2,
   "metadata": {
    "collapsed": false
   },
   "outputs": [
    {
     "name": "stdout",
     "output_type": "stream",
     "text": [
      "[========================================] 100%\n",
      "Bulk upserting 8645941 annotations...\n",
      "Done.\n",
      "Loading sparse Feature matrix...\n",
      "CPU times: user 18min 43s, sys: 1min 59s, total: 20min 43s\n",
      "Wall time: 20min 43s\n",
      "[========================================] 100%\n",
      "Bulk upserting 1492869 annotations...\n",
      "Done.\n",
      "Loading sparse Feature matrix...\n",
      "CPU times: user 3min 56s, sys: 35.4 s, total: 4min 31s\n",
      "Wall time: 4min 31s\n"
     ]
    }
   ],
   "source": [
    "from snorkel.models import CandidateSet\n",
    "from snorkel.fast_annotations import FeatureManager\n",
    "from snorkel.utils import get_ORM_instance\n",
    "\n",
    "train = get_ORM_instance(CandidateSet, session, 'Hardware Training Candidates')\n",
    "dev   = get_ORM_instance(CandidateSet, session, 'Hardware Development Candidates')\n",
    "\n",
    "feature_manager = FeatureManager()\n",
    "%time F_train = feature_manager.create(session, train, 'Train Features')\n",
    "%time F_dev = feature_manager.update(session, dev, 'Train Features', expand_key_set=False)"
   ]
  },
  {
   "cell_type": "code",
   "execution_count": 3,
   "metadata": {
    "collapsed": true
   },
   "outputs": [],
   "source": [
    "# If necessary:\n",
    "import os\n",
    "os.system('cp snorkel.db snorkel.db\\ featurized');"
   ]
  },
  {
   "cell_type": "markdown",
   "metadata": {},
   "source": [
    "## LFs"
   ]
  },
  {
   "cell_type": "code",
   "execution_count": 1,
   "metadata": {
    "collapsed": false
   },
   "outputs": [],
   "source": [
    "# If necessary\n",
    "import os\n",
    "os.remove('snorkel.db');\n",
    "os.system('cp snorkel.db\\ featurized snorkel.db');\n",
    "\n",
    "%load_ext autoreload\n",
    "%autoreload 2\n",
    "%matplotlib inline\n",
    "\n",
    "import sys\n",
    "sys.path.append(os.environ['SNORKELHOME'] + '/tutorials/tables/')\n",
    "\n",
    "from snorkel import SnorkelSession\n",
    "session = SnorkelSession()\n",
    "\n",
    "from snorkel.models import candidate_subclass\n",
    "Part_Temp = candidate_subclass('Part_Temp', ['part','temp'])\n",
    "from snorkel.models import CandidateSet\n",
    "train = session.query(CandidateSet).filter(\n",
    "    CandidateSet.name == 'Hardware Training Candidates').one()\n",
    "dev = session.query(CandidateSet).filter(\n",
    "    CandidateSet.name == 'Hardware Development Candidates').one()"
   ]
  },
  {
   "cell_type": "markdown",
   "metadata": {},
   "source": [
    "### Define LFs"
   ]
  },
  {
   "cell_type": "code",
   "execution_count": 2,
   "metadata": {
    "collapsed": false
   },
   "outputs": [],
   "source": [
    "from snorkel.fast_annotations import LabelManager\n",
    "from snorkel.lf_helpers import *\n",
    "label_manager = LabelManager()\n",
    "\n",
    "LFs = []\n",
    "\n",
    "\n",
    "###################################################################\n",
    "# POSITIVE\n",
    "###################################################################\n",
    "def LF_storage_row(c):\n",
    "    return 1 if 'storage' in get_row_ngrams(c.temp) else 0\n",
    "LFs.append(LF_storage_row)\n",
    "\n",
    "def LF_junction_row(c):\n",
    "    return 1 if 'junction' in get_row_ngrams(c.temp) else 0\n",
    "LFs.append(LF_junction_row)\n",
    "\n",
    "def LF_operating_row(c):\n",
    "    return 1 if 'operating' in get_row_ngrams(c.temp) else 0\n",
    "LFs.append(LF_operating_row)\n",
    "\n",
    "def LF_temperature_row(c):\n",
    "    return 1 if 'temperature' in get_row_ngrams(c.temp) else 0\n",
    "LFs.append(LF_temperature_row)\n",
    "\n",
    "def LF_to_left(c):\n",
    "    return 1 if 'to' in get_left_ngrams(c.temp, window=2) else 0\n",
    "LFs.append(LF_to_left)\n",
    "\n",
    "def LF_negative_left(c):\n",
    "    return 1 if any([re.match(r'-\\s*\\d+', ngram) for ngram in get_left_ngrams(c.temp, window=4)]) else 0\n",
    "LFs.append(LF_negative_left)\n",
    "\n",
    "def LF_part_type_aligned(c):\n",
    "    return 1 if 'type' in get_col_ngrams(c.part) else 0\n",
    "LFs.append(LF_part_type_aligned)\n",
    "\n",
    "\n",
    "def LF_tstg_row(c):\n",
    "    return 1 if overlap(\n",
    "        ['tstg','stg','ts'], \n",
    "        list(get_row_ngrams(c.temp))) else 0\n",
    "LFs.append(LF_tstg_row)\n",
    "pos_keys = set(['tstg', 'stg']) # 'value', 'rating'\n",
    "\n",
    "\n",
    "###################################################################\n",
    "# NEGATIVE\n",
    "###################################################################\n",
    "\n",
    "def LF_not_temp_relevant(c):\n",
    "    return -1 if not overlap(\n",
    "        ['storage','temperature','tstg','ts','stg'],\n",
    "        list(get_aligned_ngrams(c.temp))) else 0\n",
    "LFs.append(LF_not_temp_relevant)\n",
    "\n",
    "# def LF_temp_outside_table(c):\n",
    "#     return -1 if c.temp.parent.table is None else 0\n",
    "# LFs.append(LF_temp_outside_table)\n",
    "\n",
    "def LF_too_many_numbers_row(c):\n",
    "    num_numbers = list(get_row_ngrams(c.temp, attrib=\"ner_tags\")).count('number')\n",
    "    return -1 if num_numbers >= 3 else 0\n",
    "LFs.append(LF_too_many_numbers_row)\n",
    "\n",
    "def LF_high_table_num(c):\n",
    "    return -1 if (c.temp.parent.table and\n",
    "        c.temp.parent.table.position > 4) else 0\n",
    "LFs.append(LF_high_table_num)\n",
    "\n",
    "def LF_equals_in_row(c):\n",
    "    return -1 if overlap('=', get_row_ngrams(c.temp)) else 0\n",
    "LFs.append(LF_equals_in_row)\n",
    "\n",
    "complementary_keys = set(['empfohlene', 'recommended','complement', 'complementary', 'full', 'line', 'production'])\n",
    "def LF_complementary_keywords_part(c):\n",
    "    return -1 if overlap(complementary_keys, get_aligned_ngrams(c.part, infer=True)) else 0\n",
    "LFs.append(LF_complementary_keywords_part)\n",
    "\n",
    "# For PHGLS25601-1\n",
    "def LF_part_too_far_right(c):\n",
    "    return -1 if (c.part.parent.col_start > 3) else 0\n",
    "LFs.append(LF_part_too_far_right)\n",
    "\n",
    "def LF_part_neighbor_phrase_complementary(c):\n",
    "    neighbor_ngrams = set(get_neighbor_phrase_ngrams(c.part))\n",
    "    if (overlap(complementary_keys, neighbor_ngrams)):\n",
    "        return -1\n",
    "    \n",
    "    return 0\n",
    "LFs.append(LF_part_neighbor_phrase_complementary)\n",
    "\n",
    "def LF_i_in_row(c):\n",
    "    return -1 if overlap('i', get_row_ngrams(c.temp)) else 0\n",
    "LFs.append(LF_i_in_row)\n",
    "\n",
    "def LF_collector_aligned(c):\n",
    "    return -1 if overlap(\n",
    "        ['collector', 'collector-current', 'collector-base', 'collector-emitter'],\n",
    "        list(get_aligned_ngrams(c.temp))) else 0\n",
    "LFs.append(LF_collector_aligned)\n",
    "\n",
    "def LF_current_aligned(c):\n",
    "    ngrams = get_aligned_ngrams(c.temp)\n",
    "    return -1 if overlap(\n",
    "        ['current', 'dc', 'ic'],\n",
    "        list(get_aligned_ngrams(c.temp))) else 0\n",
    "LFs.append(LF_current_aligned)\n",
    "\n",
    "def LF_voltage_row_temp(c):\n",
    "    ngrams = get_aligned_ngrams(c.temp)\n",
    "    return -1 if overlap(\n",
    "        ['voltage', 'cbo', 'ceo', 'ebo', 'v'],\n",
    "        list(get_aligned_ngrams(c.temp))) else 0\n",
    "LFs.append(LF_voltage_row_temp)\n",
    "\n",
    "def LF_voltage_row_part(c):\n",
    "    ngrams = get_aligned_ngrams(c.part)\n",
    "    return -1 if overlap(\n",
    "        ['voltage', 'cbo', 'ceo', 'ebo', 'v'],\n",
    "        list(get_aligned_ngrams(c.temp))) else 0\n",
    "LFs.append(LF_voltage_row_part)\n",
    "\n",
    "def LF_test_condition_aligned(c):\n",
    "    return -1 if overlap(\n",
    "        ['test', 'condition'],\n",
    "        list(get_aligned_ngrams(c.temp))) else 0\n",
    "LFs.append(LF_test_condition_aligned)\n",
    "\n",
    "def LF_typ_row(c):\n",
    "    return -1 if overlap(\n",
    "        ['typ', 'typ.'],\n",
    "        list(get_row_ngrams(c.temp))) else 0\n",
    "LFs.append(LF_typ_row)\n",
    "\n",
    "def LF_complement_left_row(c):\n",
    "    return -1 if 'complement' in get_row_ngrams(c.part) else 0\n",
    "LFs.append(LF_complement_left_row)"
   ]
  },
  {
   "cell_type": "markdown",
   "metadata": {},
   "source": [
    "### Apply LFs"
   ]
  },
  {
   "cell_type": "code",
   "execution_count": 3,
   "metadata": {
    "collapsed": false,
    "scrolled": true
   },
   "outputs": [
    {
     "name": "stdout",
     "output_type": "stream",
     "text": [
      "[========================================] 100%\n",
      "Bulk upserting 2661491 annotations...\n",
      "Done.\n",
      "Loading sparse Label matrix...\n",
      "CPU times: user 37min 10s, sys: 2min, total: 39min 11s\n",
      "Wall time: 39min 7s\n"
     ]
    },
    {
     "data": {
      "text/plain": [
       "<115717x23 sparse matrix of type '<type 'numpy.float64'>'\n",
       "\twith 471843 stored elements in Compressed Sparse Row format>"
      ]
     },
     "execution_count": 3,
     "metadata": {},
     "output_type": "execute_result"
    }
   ],
   "source": [
    "%time L_train = label_manager.create(session, train, 'LF Labels', f=LFs)\n",
    "L_train"
   ]
  },
  {
   "cell_type": "markdown",
   "metadata": {},
   "source": [
    "### Assess LF accuracy"
   ]
  },
  {
   "cell_type": "code",
   "execution_count": 4,
   "metadata": {
    "collapsed": false
   },
   "outputs": [
    {
     "name": "stdout",
     "output_type": "stream",
     "text": [
      "[========================================] 100%\n",
      "CPU times: user 2.08 s, sys: 148 ms, total: 2.22 s\n",
      "Wall time: 2.16 s\n"
     ]
    },
    {
     "data": {
      "text/html": [
       "<div>\n",
       "<table border=\"1\" class=\"dataframe\">\n",
       "  <thead>\n",
       "    <tr style=\"text-align: right;\">\n",
       "      <th></th>\n",
       "      <th>accuracy</th>\n",
       "      <th>conflicts</th>\n",
       "      <th>coverage</th>\n",
       "      <th>j</th>\n",
       "      <th>overlaps</th>\n",
       "    </tr>\n",
       "  </thead>\n",
       "  <tbody>\n",
       "    <tr>\n",
       "      <th>LF_storage_row</th>\n",
       "      <td>0.749782</td>\n",
       "      <td>0.148371</td>\n",
       "      <td>0.148371</td>\n",
       "      <td>0</td>\n",
       "      <td>0.148371</td>\n",
       "    </tr>\n",
       "    <tr>\n",
       "      <th>LF_junction_row</th>\n",
       "      <td>0.756123</td>\n",
       "      <td>0.146772</td>\n",
       "      <td>0.146772</td>\n",
       "      <td>1</td>\n",
       "      <td>0.146772</td>\n",
       "    </tr>\n",
       "    <tr>\n",
       "      <th>LF_operating_row</th>\n",
       "      <td>0.824608</td>\n",
       "      <td>0.045231</td>\n",
       "      <td>0.045231</td>\n",
       "      <td>2</td>\n",
       "      <td>0.045231</td>\n",
       "    </tr>\n",
       "    <tr>\n",
       "      <th>LF_temperature_row</th>\n",
       "      <td>0.756282</td>\n",
       "      <td>0.249695</td>\n",
       "      <td>0.249695</td>\n",
       "      <td>3</td>\n",
       "      <td>0.249695</td>\n",
       "    </tr>\n",
       "    <tr>\n",
       "      <th>LF_to_left</th>\n",
       "      <td>0.772809</td>\n",
       "      <td>0.111107</td>\n",
       "      <td>0.111107</td>\n",
       "      <td>4</td>\n",
       "      <td>0.111107</td>\n",
       "    </tr>\n",
       "    <tr>\n",
       "      <th>LF_negative_left</th>\n",
       "      <td>0.747863</td>\n",
       "      <td>0.101109</td>\n",
       "      <td>0.101109</td>\n",
       "      <td>5</td>\n",
       "      <td>0.101109</td>\n",
       "    </tr>\n",
       "    <tr>\n",
       "      <th>LF_part_type_aligned</th>\n",
       "      <td>0.704022</td>\n",
       "      <td>0.034161</td>\n",
       "      <td>0.034161</td>\n",
       "      <td>6</td>\n",
       "      <td>0.034161</td>\n",
       "    </tr>\n",
       "    <tr>\n",
       "      <th>LF_tstg_row</th>\n",
       "      <td>0.806258</td>\n",
       "      <td>0.125383</td>\n",
       "      <td>0.125383</td>\n",
       "      <td>7</td>\n",
       "      <td>0.125383</td>\n",
       "    </tr>\n",
       "    <tr>\n",
       "      <th>LF_not_temp_relevant</th>\n",
       "      <td>0.329164</td>\n",
       "      <td>0.043010</td>\n",
       "      <td>0.746260</td>\n",
       "      <td>8</td>\n",
       "      <td>0.685751</td>\n",
       "    </tr>\n",
       "    <tr>\n",
       "      <th>LF_too_many_numbers_row</th>\n",
       "      <td>0.321162</td>\n",
       "      <td>0.021985</td>\n",
       "      <td>0.209693</td>\n",
       "      <td>9</td>\n",
       "      <td>0.209693</td>\n",
       "    </tr>\n",
       "    <tr>\n",
       "      <th>LF_high_table_num</th>\n",
       "      <td>0.272390</td>\n",
       "      <td>0.264283</td>\n",
       "      <td>0.535150</td>\n",
       "      <td>10</td>\n",
       "      <td>0.535150</td>\n",
       "    </tr>\n",
       "    <tr>\n",
       "      <th>LF_equals_in_row</th>\n",
       "      <td>0.279949</td>\n",
       "      <td>0.023618</td>\n",
       "      <td>0.466154</td>\n",
       "      <td>11</td>\n",
       "      <td>0.466154</td>\n",
       "    </tr>\n",
       "    <tr>\n",
       "      <th>LF_complementary_keywords_part</th>\n",
       "      <td>0.996965</td>\n",
       "      <td>0.013196</td>\n",
       "      <td>0.022780</td>\n",
       "      <td>12</td>\n",
       "      <td>0.022780</td>\n",
       "    </tr>\n",
       "    <tr>\n",
       "      <th>LF_part_too_far_right</th>\n",
       "      <td>0.604930</td>\n",
       "      <td>0.005306</td>\n",
       "      <td>0.025243</td>\n",
       "      <td>13</td>\n",
       "      <td>0.025243</td>\n",
       "    </tr>\n",
       "    <tr>\n",
       "      <th>LF_part_neighbor_phrase_complementary</th>\n",
       "      <td>0.297875</td>\n",
       "      <td>0.219129</td>\n",
       "      <td>0.554785</td>\n",
       "      <td>14</td>\n",
       "      <td>0.554785</td>\n",
       "    </tr>\n",
       "    <tr>\n",
       "      <th>LF_i_in_row</th>\n",
       "      <td>0.298290</td>\n",
       "      <td>0.002178</td>\n",
       "      <td>0.115247</td>\n",
       "      <td>15</td>\n",
       "      <td>0.115247</td>\n",
       "    </tr>\n",
       "    <tr>\n",
       "      <th>LF_collector_aligned</th>\n",
       "      <td>0.028169</td>\n",
       "      <td>0.000622</td>\n",
       "      <td>0.007363</td>\n",
       "      <td>16</td>\n",
       "      <td>0.007363</td>\n",
       "    </tr>\n",
       "    <tr>\n",
       "      <th>LF_current_aligned</th>\n",
       "      <td>0.251634</td>\n",
       "      <td>0.001409</td>\n",
       "      <td>0.070059</td>\n",
       "      <td>17</td>\n",
       "      <td>0.070059</td>\n",
       "    </tr>\n",
       "    <tr>\n",
       "      <th>LF_voltage_row_temp</th>\n",
       "      <td>0.294298</td>\n",
       "      <td>0.007337</td>\n",
       "      <td>0.151871</td>\n",
       "      <td>18</td>\n",
       "      <td>0.151871</td>\n",
       "    </tr>\n",
       "    <tr>\n",
       "      <th>LF_voltage_row_part</th>\n",
       "      <td>0.294298</td>\n",
       "      <td>0.007337</td>\n",
       "      <td>0.151871</td>\n",
       "      <td>19</td>\n",
       "      <td>0.151871</td>\n",
       "    </tr>\n",
       "    <tr>\n",
       "      <th>LF_test_condition_aligned</th>\n",
       "      <td>0.285775</td>\n",
       "      <td>0.000000</td>\n",
       "      <td>0.020230</td>\n",
       "      <td>20</td>\n",
       "      <td>0.020230</td>\n",
       "    </tr>\n",
       "    <tr>\n",
       "      <th>LF_typ_row</th>\n",
       "      <td>0.457792</td>\n",
       "      <td>0.000000</td>\n",
       "      <td>0.026617</td>\n",
       "      <td>21</td>\n",
       "      <td>0.026617</td>\n",
       "    </tr>\n",
       "    <tr>\n",
       "      <th>LF_complement_left_row</th>\n",
       "      <td>1.000000</td>\n",
       "      <td>0.008115</td>\n",
       "      <td>0.012410</td>\n",
       "      <td>22</td>\n",
       "      <td>0.012410</td>\n",
       "    </tr>\n",
       "  </tbody>\n",
       "</table>\n",
       "</div>"
      ],
      "text/plain": [
       "                                       accuracy  conflicts  coverage   j  \\\n",
       "LF_storage_row                         0.749782   0.148371  0.148371   0   \n",
       "LF_junction_row                        0.756123   0.146772  0.146772   1   \n",
       "LF_operating_row                       0.824608   0.045231  0.045231   2   \n",
       "LF_temperature_row                     0.756282   0.249695  0.249695   3   \n",
       "LF_to_left                             0.772809   0.111107  0.111107   4   \n",
       "LF_negative_left                       0.747863   0.101109  0.101109   5   \n",
       "LF_part_type_aligned                   0.704022   0.034161  0.034161   6   \n",
       "LF_tstg_row                            0.806258   0.125383  0.125383   7   \n",
       "LF_not_temp_relevant                   0.329164   0.043010  0.746260   8   \n",
       "LF_too_many_numbers_row                0.321162   0.021985  0.209693   9   \n",
       "LF_high_table_num                      0.272390   0.264283  0.535150  10   \n",
       "LF_equals_in_row                       0.279949   0.023618  0.466154  11   \n",
       "LF_complementary_keywords_part         0.996965   0.013196  0.022780  12   \n",
       "LF_part_too_far_right                  0.604930   0.005306  0.025243  13   \n",
       "LF_part_neighbor_phrase_complementary  0.297875   0.219129  0.554785  14   \n",
       "LF_i_in_row                            0.298290   0.002178  0.115247  15   \n",
       "LF_collector_aligned                   0.028169   0.000622  0.007363  16   \n",
       "LF_current_aligned                     0.251634   0.001409  0.070059  17   \n",
       "LF_voltage_row_temp                    0.294298   0.007337  0.151871  18   \n",
       "LF_voltage_row_part                    0.294298   0.007337  0.151871  19   \n",
       "LF_test_condition_aligned              0.285775   0.000000  0.020230  20   \n",
       "LF_typ_row                             0.457792   0.000000  0.026617  21   \n",
       "LF_complement_left_row                 1.000000   0.008115  0.012410  22   \n",
       "\n",
       "                                       overlaps  \n",
       "LF_storage_row                         0.148371  \n",
       "LF_junction_row                        0.146772  \n",
       "LF_operating_row                       0.045231  \n",
       "LF_temperature_row                     0.249695  \n",
       "LF_to_left                             0.111107  \n",
       "LF_negative_left                       0.101109  \n",
       "LF_part_type_aligned                   0.034161  \n",
       "LF_tstg_row                            0.125383  \n",
       "LF_not_temp_relevant                   0.685751  \n",
       "LF_too_many_numbers_row                0.209693  \n",
       "LF_high_table_num                      0.535150  \n",
       "LF_equals_in_row                       0.466154  \n",
       "LF_complementary_keywords_part         0.022780  \n",
       "LF_part_too_far_right                  0.025243  \n",
       "LF_part_neighbor_phrase_complementary  0.554785  \n",
       "LF_i_in_row                            0.115247  \n",
       "LF_collector_aligned                   0.007363  \n",
       "LF_current_aligned                     0.070059  \n",
       "LF_voltage_row_temp                    0.151871  \n",
       "LF_voltage_row_part                    0.151871  \n",
       "LF_test_condition_aligned              0.020230  \n",
       "LF_typ_row                             0.026617  \n",
       "LF_complement_left_row                 0.012410  "
      ]
     },
     "execution_count": 4,
     "metadata": {},
     "output_type": "execute_result"
    }
   ],
   "source": [
    "train_gold = session.query(CandidateSet).filter(\n",
    "    CandidateSet.name == 'Hardware Training Candidates -- Gold').one()\n",
    "%time L_train.lf_stats(train_gold)"
   ]
  },
  {
   "cell_type": "code",
   "execution_count": 5,
   "metadata": {
    "collapsed": true
   },
   "outputs": [],
   "source": [
    "# If necessary\n",
    "import os\n",
    "os.system('cp snorkel.db snorkel.db\\ features');"
   ]
  },
  {
   "cell_type": "markdown",
   "metadata": {},
   "source": [
    "## Learn and Evaluate"
   ]
  },
  {
   "cell_type": "code",
   "execution_count": null,
   "metadata": {
    "collapsed": false
   },
   "outputs": [],
   "source": [
    "# If necessary:\n",
    "import os\n",
    "os.remove('snorkel.db');\n",
    "os.system('cp snorkel.db\\ features snorkel.db');\n",
    "\n",
    "%load_ext autoreload\n",
    "%autoreload 2\n",
    "%matplotlib inline\n",
    "\n",
    "import sys\n",
    "sys.path.append(os.environ['SNORKELHOME'] + '/tutorials/tables/')\n",
    "\n",
    "from snorkel import SnorkelSession\n",
    "session = SnorkelSession()\n",
    "\n",
    "from snorkel.models import candidate_subclass\n",
    "Part_Temp = candidate_subclass('Part_Temp', ['part','temp'])"
   ]
  },
  {
   "cell_type": "code",
   "execution_count": null,
   "metadata": {
    "collapsed": false
   },
   "outputs": [],
   "source": [
    "from snorkel.fast_annotations import FeatureManager, LabelManager\n",
    "from snorkel.models import CandidateSet\n",
    "train = session.query(CandidateSet).filter(\n",
    "    CandidateSet.name == 'Hardware Training Candidates').one()\n",
    "dev = session.query(CandidateSet).filter(\n",
    "    CandidateSet.name == 'Hardware Development Candidates').one()\n",
    "\n",
    "feature_manager = FeatureManager()\n",
    "%time F_train = feature_manager.load(session, train, 'Train Features')\n",
    "%time F_dev = feature_manager.load(session, dev, 'Train Features')\n",
    "\n",
    "label_manager = LabelManager()\n",
    "%time L_train = label_manager.load(session, train, 'LF Labels')"
   ]
  },
  {
   "cell_type": "code",
   "execution_count": null,
   "metadata": {
    "collapsed": false,
    "scrolled": false
   },
   "outputs": [],
   "source": [
    "from snorkel.learning import NaiveBayes\n",
    "\n",
    "gen_model = NaiveBayes()\n",
    "gen_model.train(L_train, n_iter=100000, rate=1e-6)\n",
    "%time gen_model.save(session, 'Generative Params')\n",
    "train_marginals = gen_model.marginals(L_train)"
   ]
  },
  {
   "cell_type": "code",
   "execution_count": null,
   "metadata": {
    "collapsed": false
   },
   "outputs": [],
   "source": [
    "from snorkel.learning import LogReg\n",
    "\n",
    "disc_model = LogReg()\n",
    "disc_model.train(F_train, train_marginals, n_iter=2000, rate=1e-4)\n",
    "%time disc_model.save(session, \"Discriminative Params\")"
   ]
  },
  {
   "cell_type": "code",
   "execution_count": null,
   "metadata": {
    "collapsed": false
   },
   "outputs": [],
   "source": [
    "train_gold = session.query(CandidateSet).filter(\n",
    "    CandidateSet.name == 'Hardware Training Candidates -- Gold').one()\n",
    "\n",
    "dev_gold = session.query(CandidateSet).filter(\n",
    "    CandidateSet.name == 'Hardware Development Candidates -- Gold').one()\n",
    "\n",
    "from snorkel.models import CandidateSet\n",
    "from snorkel.annotations import LabelManager\n",
    "label_manager = LabelManager()\n",
    "L_dev = label_manager.load(session, dev, 'Hardware Development Labels -- Gold')\n",
    "\n",
    "tp, fp, tn, fn = disc_model.score(F_dev, L_dev, dev_gold)"
   ]
  },
  {
   "cell_type": "code",
   "execution_count": null,
   "metadata": {
    "collapsed": false,
    "scrolled": true
   },
   "outputs": [],
   "source": [
    "from snorkel.models import Corpus\n",
    "from snorkel.utils import get_ORM_instance\n",
    "from hardware_utils import entity_level_f1\n",
    "import os\n",
    "\n",
    "dev_corpus = get_ORM_instance(Corpus, session, 'Hardware Development')\n",
    "\n",
    "gold_file = os.environ['SNORKELHOME'] + '/tutorials/tables/data/hardware/hardware_gold.csv'\n",
    "corpus = session.query(Corpus).filter(Corpus.name == 'Hardware Development').one()\n",
    "(TP, FP, FN) = entity_level_f1(tp, fp, tn, fn, gold_file, dev_corpus, 'stg_temp_max')"
   ]
  },
  {
   "cell_type": "code",
   "execution_count": null,
   "metadata": {
    "collapsed": false
   },
   "outputs": [],
   "source": [
    "from pprint import pprint\n",
    "FN_list = sorted(list(FN))\n",
    "FP_list = sorted(list(FP))\n",
    "TP_list = sorted(list(TP))\n",
    "# pprint(FN_list[:])\n",
    "pprint(FP_list[:100])\n",
    "# pprint(TP_list[:10])"
   ]
  },
  {
   "cell_type": "code",
   "execution_count": null,
   "metadata": {
    "collapsed": false,
    "scrolled": true
   },
   "outputs": [],
   "source": [
    "# docs = set()\n",
    "# for doc in corpus.documents:\n",
    "#     docs.add(doc.name.upper())\n",
    "# pprint(docs)"
   ]
  },
  {
   "cell_type": "code",
   "execution_count": null,
   "metadata": {
    "collapsed": false
   },
   "outputs": [],
   "source": [
    "# import itertools\n",
    "# docs = set()\n",
    "# for f in itertools.chain.from_iterable([tp, tn, fp, fn]):\n",
    "#     docs.add(f.part.parent.document.name.upper())\n",
    "# #     if f.part.parent.document.name.upper() == 'AUKCS04635-1':\n",
    "# #         print f\n",
    "# pprint(docs)"
   ]
  },
  {
   "cell_type": "code",
   "execution_count": 44,
   "metadata": {
    "collapsed": false,
    "scrolled": false
   },
   "outputs": [
    {
     "name": "stdout",
     "output_type": "stream",
     "text": [
      "Entity: (2 matches)\n",
      "(u'DISES00645-1', u'BC808K-16', u'150')\n"
     ]
    }
   ],
   "source": [
    "from hardware_utils import entity_to_candidates, part_error_analysis\n",
    "\n",
    "# disc_model.get_feature_weights(F_dev)\n",
    "\n",
    "entity = FP_list[10]\n",
    "matches = entity_to_candidates(entity, dev)\n",
    "print \"Entity: (%d matches)\" % len(matches)\n",
    "print entity"
   ]
  },
  {
   "cell_type": "code",
   "execution_count": 45,
   "metadata": {
    "collapsed": false
   },
   "outputs": [
    {
     "name": "stdout",
     "output_type": "stream",
     "text": [
      "ImplicitSpan(\"BC808K-16\", parent=50567, words=[1,1], position=[3])\n"
     ]
    }
   ],
   "source": [
    "match = matches[0]\n",
    "print match.part"
   ]
  },
  {
   "cell_type": "code",
   "execution_count": 62,
   "metadata": {
    "collapsed": false
   },
   "outputs": [
    {
     "name": "stdout",
     "output_type": "stream",
     "text": [
      "set([u'%',\n",
      "     '(',\n",
      "     ')',\n",
      "     u'+150',\n",
      "     u',',\n",
      "     u'-',\n",
      "     u'--',\n",
      "     u'-16',\n",
      "     u'-25',\n",
      "     u'-40',\n",
      "     u'-55',\n",
      "     u'.',\n",
      "     u'...',\n",
      "     u'/',\n",
      "     u'0',\n",
      "     u'0.1',\n",
      "     u'0.4',\n",
      "     u'0.7',\n",
      "     u'1',\n",
      "     u'1.1',\n",
      "     u'1.2',\n",
      "     u'1.3',\n",
      "     u'1.9',\n",
      "     u'10',\n",
      "     u'100',\n",
      "     u'115',\n",
      "     u'160',\n",
      "     u'170',\n",
      "     u'2',\n",
      "     u'2.5',\n",
      "     u'2.9',\n",
      "     u'200',\n",
      "     u'2011-10-26',\n",
      "     u'25',\n",
      "     u'250',\n",
      "     u'3',\n",
      "     u'30',\n",
      "     u'300',\n",
      "     u'4',\n",
      "     u'40',\n",
      "     u'400',\n",
      "     u'45',\n",
      "     u'5',\n",
      "     u'50',\n",
      "     u'500',\n",
      "     u'630',\n",
      "     u'6a',\n",
      "     u'6b',\n",
      "     u'6c',\n",
      "     u'6cr',\n",
      "     u'6cs',\n",
      "     u'6ct',\n",
      "     u'6e',\n",
      "     u'6f',\n",
      "     u'6g',\n",
      "     u'70',\n",
      "     u'<<',\n",
      "     u'=',\n",
      "     u'>',\n",
      "     '[',\n",
      "     ']',\n",
      "     u'a',\n",
      "     u'ag',\n",
      "     u'all',\n",
      "     u'and',\n",
      "     u'approx',\n",
      "     u'auf',\n",
      "     u'available',\n",
      "     u'b',\n",
      "     u'base',\n",
      "     u'base-emitter',\n",
      "     u'basis-emitter-s\\xe4ttigungsspannung',\n",
      "     u'basis-spitzenstrom',\n",
      "     u'basisstrom',\n",
      "     u'bc807k',\n",
      "     u'bc817k',\n",
      "     u'bc817k-16',\n",
      "     u'bc817k-25',\n",
      "     u'bc817k-40',\n",
      "     u'bc818k',\n",
      "     u'bc818k-16',\n",
      "     u'bc818k-25',\n",
      "     u'bc818k-40',\n",
      "     u'besat',\n",
      "     u'bm',\n",
      "     u'c',\n",
      "     u'ca',\n",
      "     u'capacitance',\n",
      "     u'case',\n",
      "     u'cb',\n",
      "     u'cbo',\n",
      "     u'ce',\n",
      "     u'ceo',\n",
      "     u'cesat',\n",
      "     u'characteristics',\n",
      "     u'cm',\n",
      "     u'code',\n",
      "     u'collector',\n",
      "     u'collector-base',\n",
      "     u'collector-base-volt',\n",
      "     u'collector-emitter',\n",
      "     u'collector-emitter-volt',\n",
      "     u'complementary',\n",
      "     u'current',\n",
      "     u'cutoff',\n",
      "     u'cycle',\n",
      "     u'dc',\n",
      "     u'der',\n",
      "     u'die',\n",
      "     u'dimensions',\n",
      "     u'diotec',\n",
      "     u'dises00645-1',\n",
      "     u'dissipation',\n",
      "     u'duty',\n",
      "     u'e',\n",
      "     u'eb',\n",
      "     u'ebo',\n",
      "     u'emitter-base',\n",
      "     u'emitter-base-voltage',\n",
      "     u'emitter-basis-reststrom',\n",
      "     u'emitter-basis-spannung',\n",
      "     u'empfohlene',\n",
      "     u'f',\n",
      "     u'fe',\n",
      "     u'frequency',\n",
      "     u'f\\xfcr',\n",
      "     u'gain',\n",
      "     u'gegurtet',\n",
      "     u'geh\\xe4usematerial',\n",
      "     u'gemessen',\n",
      "     u'gewicht',\n",
      "     u'grenzwerte',\n",
      "     u'group',\n",
      "     u'groups',\n",
      "     u'h',\n",
      "     u'http://www.diotec.com/',\n",
      "     u'i',\n",
      "     u'impulsen',\n",
      "     u'j',\n",
      "     u'junction',\n",
      "     u'k/w',\n",
      "     u'kennwerte',\n",
      "     u'klassifiziert',\n",
      "     u'kollektor-basis-kapazit\\xe4t',\n",
      "     u'kollektor-basis-reststrom',\n",
      "     u'kollektor-basis-spannung',\n",
      "     u'kollektor-basis-stromverh\\xe4ltnis',\n",
      "     u'kollektor-emitter-spannung',\n",
      "     u'kollektor-emitter-s\\xe4ttigungsspg',\n",
      "     u'kollektor-spitzenstrom',\n",
      "     u'kollektorstrom',\n",
      "     u'komplement\\xe4re',\n",
      "     u'kunststoffgeh\\xe4use',\n",
      "     u'lagerungstemperatur',\n",
      "     u'lieferbaren',\n",
      "     u'lieferform',\n",
      "     u'low',\n",
      "     u'l\\xf6tpunkt',\n",
      "     u'ma',\n",
      "     u'marking',\n",
      "     u'max',\n",
      "     u'maximum',\n",
      "     u'ma\\xdfe',\n",
      "     u'mhz',\n",
      "     u'min',\n",
      "     u'mit',\n",
      "     u'mm',\n",
      "     u'mount',\n",
      "     u'mw',\n",
      "     u'na',\n",
      "     u'nb',\n",
      "     u'npn',\n",
      "     u'oberfl\\xe4chenmontage',\n",
      "     u'of',\n",
      "     u'open',\n",
      "     u'or',\n",
      "     u'p',\n",
      "     u'packaging',\n",
      "     u'peak',\n",
      "     u'per',\n",
      "     u'pf',\n",
      "     u'plastic',\n",
      "     u'pnp',\n",
      "     u'pnp-transistoren',\n",
      "     u'point',\n",
      "     u'power',\n",
      "     u'pro',\n",
      "     u'pulses',\n",
      "     u'r',\n",
      "     u'ratings',\n",
      "     u'recommended',\n",
      "     u'reeled',\n",
      "     u'resistance',\n",
      "     u'rolle',\n",
      "     u'rth',\n",
      "     u's',\n",
      "     u'saturation',\n",
      "     u'schaltverh\\xe4ltnis',\n",
      "     u'semiconductor',\n",
      "     u'si-epi-planar',\n",
      "     u'soldering',\n",
      "     u'sot-23',\n",
      "     u'sp',\n",
      "     u'sperrschicht',\n",
      "     u'sperrschichttemperatur',\n",
      "     u'standard',\n",
      "     u'stempelung',\n",
      "     u'storage',\n",
      "     u'stromverst\\xe4rkungsgruppen',\n",
      "     u'surface',\n",
      "     u't',\n",
      "     u'taped',\n",
      "     u'temperature',\n",
      "     u'tested',\n",
      "     u'thermal',\n",
      "     u'thsp',\n",
      "     u'to',\n",
      "     u'to-236',\n",
      "     u'tot',\n",
      "     u'transistoren',\n",
      "     u'transistors',\n",
      "     u'transitfrequenz',\n",
      "     u'transition',\n",
      "     u'typ',\n",
      "     u'type',\n",
      "     u'ul94v-0',\n",
      "     u'v',\n",
      "     u'verlustleistung',\n",
      "     u'version',\n",
      "     u'voltage',\n",
      "     u'weight',\n",
      "     u'with',\n",
      "     u'w\\xe4rmewiderstand',\n",
      "     u'\\xa9',\n",
      "     u'\\xb0',\n",
      "     u'\\xb1',\n",
      "     u'\\xb5s',\n",
      "     u'\\u2264'])\n"
     ]
    }
   ],
   "source": [
    "from snorkel.lf_helpers import *\n",
    "\n",
    "neighbor_ngrams = set(get_neighbor_phrase_ngrams(match.part))\n",
    "from pprint import pprint\n",
    "pprint(neighbor_ngrams)"
   ]
  },
  {
   "cell_type": "code",
   "execution_count": 64,
   "metadata": {
    "collapsed": false
   },
   "outputs": [
    {
     "data": {
      "text/plain": [
       "-1"
      ]
     },
     "execution_count": 64,
     "metadata": {},
     "output_type": "execute_result"
    }
   ],
   "source": [
    "def LF_part_neighbor_phrase_complementary(c):\n",
    "    neighbor_ngrams = set(get_neighbor_phrase_ngrams(match.part))\n",
    "    if (overlap(complementary_keys, neighbor_ngrams)):\n",
    "        return -1\n",
    "    \n",
    "    return 0\n",
    "\n",
    "LF_part_neighbor_phrase_complementary(match)"
   ]
  },
  {
   "cell_type": "code",
   "execution_count": null,
   "metadata": {
    "collapsed": true
   },
   "outputs": [],
   "source": [
    "results = []\n",
    "for lf in LFs:\n",
    "    results.append(lf.__name__, lf(candidate))"
   ]
  },
  {
   "cell_type": "code",
   "execution_count": null,
   "metadata": {
    "collapsed": false
   },
   "outputs": [],
   "source": [
    "print F_train.shape\n",
    "print F_dev.shape"
   ]
  },
  {
   "cell_type": "code",
   "execution_count": null,
   "metadata": {
    "collapsed": true
   },
   "outputs": [],
   "source": [
    "import os\n",
    "os.system('cp snorkel.db snorkel.db\\ final');"
   ]
  },
  {
   "cell_type": "code",
   "execution_count": null,
   "metadata": {
    "collapsed": true
   },
   "outputs": [],
   "source": []
  },
  {
   "cell_type": "code",
   "execution_count": null,
   "metadata": {
    "collapsed": false
   },
   "outputs": [],
   "source": []
  },
  {
   "cell_type": "code",
   "execution_count": null,
   "metadata": {
    "collapsed": true
   },
   "outputs": [],
   "source": []
  }
 ],
 "metadata": {
  "anaconda-cloud": {},
  "kernelspec": {
   "display_name": "Python 2",
   "language": "python",
   "name": "python2"
  },
  "language_info": {
   "codemirror_mode": {
    "name": "ipython",
    "version": 2
   },
   "file_extension": ".py",
   "mimetype": "text/x-python",
   "name": "python",
   "nbconvert_exporter": "python",
   "pygments_lexer": "ipython2",
   "version": "2.7.12"
  }
 },
 "nbformat": 4,
 "nbformat_minor": 1
}
