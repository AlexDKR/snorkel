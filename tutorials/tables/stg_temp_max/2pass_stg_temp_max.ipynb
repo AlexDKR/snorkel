{
 "cells": [
  {
   "cell_type": "markdown",
   "metadata": {},
   "source": [
    "# STG_TEMP_MAX_2Pass"
   ]
  },
  {
   "cell_type": "markdown",
   "metadata": {},
   "source": [
    "## Setup"
   ]
  },
  {
   "cell_type": "code",
   "execution_count": null,
   "metadata": {
    "collapsed": false
   },
   "outputs": [],
   "source": [
    "# If necessary:\n",
    "import os\n",
    "os.remove('snorkel.db')"
   ]
  },
  {
   "cell_type": "code",
   "execution_count": null,
   "metadata": {
    "collapsed": false
   },
   "outputs": [],
   "source": [
    "%load_ext autoreload\n",
    "%autoreload 2\n",
    "%matplotlib inline\n",
    "\n",
    "import os\n",
    "import sys\n",
    "sys.path.append(os.environ['SNORKELHOME'] + '/tutorials/tables/')"
   ]
  },
  {
   "cell_type": "markdown",
   "metadata": {},
   "source": [
    "## Parsing"
   ]
  },
  {
   "cell_type": "code",
   "execution_count": null,
   "metadata": {
    "collapsed": false
   },
   "outputs": [],
   "source": [
    "from snorkel import SnorkelSession\n",
    "session = SnorkelSession()"
   ]
  },
  {
   "cell_type": "markdown",
   "metadata": {},
   "source": [
    "### Define Parser"
   ]
  },
  {
   "cell_type": "code",
   "execution_count": 11,
   "metadata": {
    "collapsed": false
   },
   "outputs": [],
   "source": [
    "import os\n",
    "from snorkel.parser import CorpusParser, HTMLParser, OmniParser\n",
    "from snorkel.utils import get_ORM_instance\n",
    "from snorkel.queries import split_corpus\n",
    "\n",
    "html_path = os.environ['SNORKELHOME'] + '/tutorials/tables/data/hardware/hardware100_html/'\n",
    "pdf_path  = os.environ['SNORKELHOME'] + '/tutorials/tables/data/hardware/hardware100_pdf/'\n",
    "doc_parser = HTMLParser(path=html_path)\n",
    "context_parser = OmniParser(pdf_path=pdf_path, session=session, visual=True)\n",
    "visual_linker = context_parser.vizlink\n",
    "cp = CorpusParser(doc_parser, context_parser, max_docs=100) "
   ]
  },
  {
   "cell_type": "markdown",
   "metadata": {},
   "source": [
    "### Run Parser"
   ]
  },
  {
   "cell_type": "code",
   "execution_count": null,
   "metadata": {
    "collapsed": false,
    "scrolled": true
   },
   "outputs": [],
   "source": [
    "%time corpus = cp.parse_corpus(name='Hardware', session=session)\n",
    "\n",
    "session.add(corpus)\n",
    "session.commit()"
   ]
  },
  {
   "cell_type": "markdown",
   "metadata": {},
   "source": [
    "### Split Corpus"
   ]
  },
  {
   "cell_type": "code",
   "execution_count": null,
   "metadata": {
    "collapsed": false
   },
   "outputs": [],
   "source": [
    "from snorkel.models import Corpus\n",
    "\n",
    "corpus = get_ORM_instance(Corpus, session, 'Hardware')\n",
    "split_corpus(session, corpus, train=0.8, development=0.2, test=0, seed=3)"
   ]
  },
  {
   "cell_type": "code",
   "execution_count": null,
   "metadata": {
    "collapsed": true
   },
   "outputs": [],
   "source": [
    "# If necessary\n",
    "import os\n",
    "os.system('cp snorkel.db snorkel.db\\ corpus');"
   ]
  },
  {
   "cell_type": "markdown",
   "metadata": {},
   "source": [
    "## Extraction"
   ]
  },
  {
   "cell_type": "code",
   "execution_count": null,
   "metadata": {
    "collapsed": false
   },
   "outputs": [],
   "source": [
    "# If necessary:\n",
    "import os\n",
    "os.remove('snorkel.db');\n",
    "os.system('cp snorkel.db\\ corpus snorkel.db');\n",
    "\n",
    "%load_ext autoreload\n",
    "%autoreload 2\n",
    "%matplotlib inline\n",
    "\n",
    "import sys\n",
    "sys.path.append(os.environ['SNORKELHOME'] + '/tutorials/tables/')\n",
    "\n",
    "from snorkel import SnorkelSession\n",
    "session = SnorkelSession()"
   ]
  },
  {
   "cell_type": "code",
   "execution_count": null,
   "metadata": {
    "collapsed": true
   },
   "outputs": [],
   "source": [
    "from snorkel.models import candidate_subclass\n",
    "\n",
    "Part_Temp = candidate_subclass('Part_Temp', ['part','temp'])"
   ]
  },
  {
   "cell_type": "markdown",
   "metadata": {},
   "source": [
    "### Define Matchers"
   ]
  },
  {
   "cell_type": "code",
   "execution_count": null,
   "metadata": {
    "collapsed": false
   },
   "outputs": [],
   "source": [
    "from snorkel.matchers import RegexMatchSpan, Union\n",
    "\n",
    "eeca_rgx = ur'([b]{1}[abcdefklnpqruyz]{1}[\\swxyz]?[0-9]{3,5}[\\s]?[A-Z]{0,2}[\\/]?[A-Z]{0,2}[0-9]?[A-Z]?([(\\-|\\u2010|\\u2011|\\u2012|\\u2013|\\u2014|\\u2212)][A-Z0-9]{1,7})?([(\\-|\\u2010|\\u2011|\\u2012|\\u2013|\\u2014|\\u2212)][A-Z0-9]{1,2})?)'\n",
    "eeca_matcher = RegexMatchSpan(rgx=eeca_rgx, longest_match_only=True)\n",
    "jedec_rgx = '([123]N\\d{3,4}[A-Z]{0,5}[0-9]?[A-Z]?)'\n",
    "jedec_matcher = RegexMatchSpan(rgx=jedec_rgx, longest_match_only=True)\n",
    "jis_rgx = '(2S[abcdefghjkmqrstvz]{1}[\\d]{2,4})'\n",
    "jis_matcher = RegexMatchSpan(rgx=jis_rgx, longest_match_only=True)\n",
    "others_rgx = '((NSVBC|SMBT|MJ|MJE|MPS|MRF|RCA|TIP|ZTX|ZT|TIS|TIPL|DTC|MMBT|PZT){1}[\\d]{2,4}[A-Z]{0,3}([-][A-Z0-9]{0,6})?([-][A-Z0-9]{0,1})?)'\n",
    "others_matcher = RegexMatchSpan(rgx=others_rgx, longest_match_only=True)\n",
    "# parts_rgx = '|'.join([eeca_rgx, jedec_rgx, jis_rgx, others_rgx])\n",
    "parts_matcher = Union(eeca_matcher, jedec_matcher, jis_matcher, others_matcher)\n",
    "\n",
    "temp_matcher = RegexMatchSpan(rgx=r'1[4-6]0', longest_match_only=False)"
   ]
  },
  {
   "cell_type": "code",
   "execution_count": null,
   "metadata": {
    "collapsed": false
   },
   "outputs": [],
   "source": [
    "# import re\n",
    "# part_finder = re.compile(parts_rgx, re.I)\n",
    "# print any([part_finder.match(x) for x in ['blue', 'red', 'black', 'green']])\n",
    "# print any([part_finder.match(x) for x in ['blue', 'red', 'BC546A', 'green']])"
   ]
  },
  {
   "cell_type": "markdown",
   "metadata": {},
   "source": [
    "### Define ContextSpaces"
   ]
  },
  {
   "cell_type": "code",
   "execution_count": null,
   "metadata": {
    "collapsed": false
   },
   "outputs": [],
   "source": [
    "from hardware_utils import get_gold_dict, get_first_pass_dict, OmniNgramsPart, OmniNgramsTemp, merge_two_dicts\n",
    "from collections import defaultdict\n",
    "from snorkel.candidates import OmniNgrams\n",
    "from snorkel.utils import get_ORM_instance\n",
    "from snorkel.models import Corpus\n",
    "\n",
    "eeca_suffix = '^(A|B|C|-16|-25|-40|16|25|40)$'\n",
    "suffix_matcher = RegexMatchSpan(rgx=eeca_suffix, ignore_case=False)\n",
    "suffix_ngrams = OmniNgrams(n_max=1)\n",
    "part_ngrams = OmniNgramsPart(n_max=5)\n",
    "\n",
    "\n",
    "dev_corpus = get_ORM_instance(Corpus, session, \"Hardware Development\")\n",
    "\n",
    "train_corpus = get_ORM_instance(Corpus, session, \"Hardware Training\")\n",
    "\n",
    "\n",
    "parts_dev, s_dev, p_dev = get_first_pass_dict(dev_corpus.documents, parts_matcher=parts_matcher, part_ngrams=part_ngrams, suffix_matcher=suffix_matcher, suffix_ngrams=suffix_ngrams)      \n",
    "\n",
    "parts_train, s_train, p_train = get_first_pass_dict(train_corpus.documents, parts_matcher=parts_matcher, part_ngrams=part_ngrams, suffix_matcher=suffix_matcher, suffix_ngrams=suffix_ngrams)  \n",
    "\n",
    "parts_by_doc = merge_two_dicts(parts_dev, parts_train)"
   ]
  },
  {
   "cell_type": "code",
   "execution_count": null,
   "metadata": {
    "collapsed": false
   },
   "outputs": [],
   "source": [
    "# import pickle\n",
    "# filename = '1stpass.pkl'\n",
    "# with open(filename, 'w') as f:\n",
    "#     pickle.dump(parts_by_doc, f)\n",
    "    \n",
    "import pickle\n",
    "filename = '1stpass.pkl'\n",
    "with open(filename, 'r') as f:\n",
    "    parts_by_doc = pickle.load(f)\n"
   ]
  },
  {
   "cell_type": "code",
   "execution_count": null,
   "metadata": {
    "collapsed": false
   },
   "outputs": [],
   "source": [
    "from hardware_utils import OmniNgramsPart, OmniNgramsTemp\n",
    "\n",
    "part_ngrams = OmniNgramsPart(parts_by_doc=parts_by_doc, n_max=5)\n",
    "\n",
    "# TODO: This is missing the current represented as an Amp rather than a milliamp\n",
    "temp_ngrams = OmniNgramsTemp(n_max=2)"
   ]
  },
  {
   "cell_type": "markdown",
   "metadata": {},
   "source": [
    "### Define Throttler"
   ]
  },
  {
   "cell_type": "code",
   "execution_count": null,
   "metadata": {
    "collapsed": false
   },
   "outputs": [],
   "source": [
    "from snorkel.lf_helpers import *\n",
    "\n",
    "def part_throttler((part_span, attr_span)):\n",
    "    \"\"\"\n",
    "    Keep only those candidates where both spans are on the same page and\n",
    "    either aligned in the same table (visually or structurally) or the part is global.\n",
    "    \"\"\"\n",
    "    # TODO: Write this in an easier to tweak way. No reason to try and\n",
    "    # cram it all into a single return statement.\n",
    "#     return(\n",
    "#         same_page((part_span, attr_span)) or\n",
    "#         (part_span.parent.table is None))\n",
    "    \n",
    "    # Filter out things like BC546-BC550 that pass through otherwise\n",
    "    text = part_span.get_span()\n",
    "    if text.count('-') == 1:\n",
    "        split = text.split('-')\n",
    "        if len(split[0]) == len(split[1]):\n",
    "            return False\n",
    "\n",
    "    return True\n",
    "\n",
    "#     if (not part_span.has_visual_features() or not attr_span.has_visual_features()):\n",
    "#         import pdb; pdb.set_trace()\n",
    "\n",
    "#     return(part_span.parent.table is None or\n",
    "#            same_table((part_span, attr_span)))\n"
   ]
  },
  {
   "cell_type": "markdown",
   "metadata": {},
   "source": [
    "### Run CandidateExtractor"
   ]
  },
  {
   "cell_type": "code",
   "execution_count": null,
   "metadata": {
    "collapsed": false,
    "scrolled": true
   },
   "outputs": [],
   "source": [
    "from snorkel.models import Corpus\n",
    "from snorkel.candidates import CandidateExtractor\n",
    "from snorkel.utils import get_ORM_instance\n",
    "\n",
    "\n",
    "ce = CandidateExtractor(Part_Temp, \n",
    "                        [part_ngrams, temp_ngrams], \n",
    "                        [parts_matcher, temp_matcher],\n",
    "                        throttler=part_throttler)\n",
    "\n",
    "for corpus_name in ['Hardware Training', 'Hardware Development']:\n",
    "    corpus = get_ORM_instance(Corpus, session, corpus_name)\n",
    "    print \"Extracting Candidates from %s\" % corpus\n",
    "    %time candidates = ce.extract(\\\n",
    "        corpus.documents, corpus_name + ' Candidates', session)\n",
    "    session.add(candidates)\n",
    "    print \"%s contains %d Candidates\" % (candidates, len(candidates))\n",
    "session.commit()"
   ]
  },
  {
   "cell_type": "markdown",
   "metadata": {},
   "source": [
    "### Assess Recall"
   ]
  },
  {
   "cell_type": "code",
   "execution_count": null,
   "metadata": {
    "collapsed": false
   },
   "outputs": [],
   "source": [
    "from hardware_utils import entity_level_total_recall, most_common_document, get_gold_dict\n",
    "from snorkel.utils import get_ORM_instance\n",
    "from snorkel.models import Candidate, Corpus\n",
    "\n",
    "all_candidates = session.query(Candidate).all()\n",
    "gold_file = os.environ['SNORKELHOME'] + '/tutorials/tables/data/hardware/hardware_gold.csv'\n",
    "\n",
    "corpus = get_ORM_instance(Corpus, session, 'Hardware')\n",
    "(tp, fp, fn) = entity_level_total_recall(\n",
    "    all_candidates, gold_file, 'stg_temp_max', corpus=corpus, relation=True, integerize=True)\n",
    "print len(tp)\n",
    "print len(fp)\n",
    "print len(fn)"
   ]
  },
  {
   "cell_type": "code",
   "execution_count": null,
   "metadata": {
    "collapsed": false
   },
   "outputs": [],
   "source": [
    "from pprint import pprint\n",
    "fns = list(fn)\n",
    "pprint(sorted(fns)[:40])\n",
    "pprint(sorted(parts_by_doc[\"PHGLS18216-1\"]))"
   ]
  },
  {
   "cell_type": "code",
   "execution_count": null,
   "metadata": {
    "collapsed": false
   },
   "outputs": [],
   "source": [
    "# corpus = get_ORM_instance(Corpus, session, 'Hardware Training')\n",
    "# for document in corpus.documents:\n",
    "# #     print document.name\n",
    "#     if document.name == 'MOTOS03160-1':\n",
    "#         doc = document\n",
    "# print doc"
   ]
  },
  {
   "cell_type": "code",
   "execution_count": null,
   "metadata": {
    "collapsed": false
   },
   "outputs": [],
   "source": [
    "# for c in all_candidates:\n",
    "#     if c.part.get_span()=='BC183' and c.part.parent.document.name=='MOTOS03160-1':\n",
    "#         print c"
   ]
  },
  {
   "cell_type": "code",
   "execution_count": null,
   "metadata": {
    "collapsed": false
   },
   "outputs": [],
   "source": [
    "# for phrase in doc.phrases:\n",
    "#     if 'BC183' in phrase.words:\n",
    "#         print phrase"
   ]
  },
  {
   "cell_type": "code",
   "execution_count": null,
   "metadata": {
    "collapsed": true
   },
   "outputs": [],
   "source": [
    "# If necessary\n",
    "import os\n",
    "os.system('cp snorkel.db snorkel.db\\ candidates');"
   ]
  },
  {
   "cell_type": "markdown",
   "metadata": {},
   "source": [
    "## Gold Labels"
   ]
  },
  {
   "cell_type": "code",
   "execution_count": null,
   "metadata": {
    "collapsed": false
   },
   "outputs": [],
   "source": [
    "# If necessary\n",
    "import os\n",
    "os.remove('snorkel.db');\n",
    "os.system('cp snorkel.db\\ candidates snorkel.db');\n",
    "\n",
    "%load_ext autoreload\n",
    "%autoreload 2\n",
    "%matplotlib inline\n",
    "\n",
    "import sys\n",
    "sys.path.append(os.environ['SNORKELHOME'] + '/tutorials/tables/')\n",
    "\n",
    "from snorkel import SnorkelSession\n",
    "session = SnorkelSession()\n",
    "\n",
    "from snorkel.models import candidate_subclass\n",
    "Part_Temp = candidate_subclass('Part_Temp', ['part','temp'])"
   ]
  },
  {
   "cell_type": "code",
   "execution_count": null,
   "metadata": {
    "collapsed": false
   },
   "outputs": [],
   "source": [
    "import os\n",
    "from snorkel.models import CandidateSet\n",
    "from hardware_utils import load_hardware_labels\n",
    "\n",
    "gold_file = os.environ['SNORKELHOME'] + '/tutorials/tables/data/hardware/hardware_gold.csv'\n",
    "for set_name in ['Training', 'Development']:\n",
    "    candidate_set_name = 'Hardware %s Candidates' % set_name\n",
    "    candidates = session.query(CandidateSet).filter(\n",
    "        CandidateSet.name == candidate_set_name).one()\n",
    "    label_set_name = 'Hardware %s Candidates -- Gold' % set_name\n",
    "    annotation_key_name = 'Hardware %s Labels -- Gold' % set_name\n",
    "    %time gold_candidates, annotation_key = load_hardware_labels(session,\\\n",
    "                           label_set_name, \\\n",
    "                           annotation_key_name, \\\n",
    "                           candidates, \\\n",
    "                           gold_file, \\\n",
    "                           attrib='stg_temp_max')\n",
    "    candidates_gold = session.query(CandidateSet).filter(\n",
    "        CandidateSet.name == candidate_set_name + ' -- Gold').one()\n",
    "    print \"%d/%d Candidates in %s have positive Labels\" % (\n",
    "        len(candidates_gold), len(candidates), candidates)"
   ]
  },
  {
   "cell_type": "code",
   "execution_count": null,
   "metadata": {
    "collapsed": true
   },
   "outputs": [],
   "source": [
    "# If necessary\n",
    "import os\n",
    "os.system('cp snorkel.db snorkel.db\\ labels');"
   ]
  },
  {
   "cell_type": "markdown",
   "metadata": {},
   "source": [
    "## Features"
   ]
  },
  {
   "cell_type": "code",
   "execution_count": null,
   "metadata": {
    "collapsed": false
   },
   "outputs": [],
   "source": [
    "# If necessary:\n",
    "import os\n",
    "os.remove('snorkel.db');\n",
    "os.system('cp snorkel.db\\ labels snorkel.db');\n",
    "\n",
    "%load_ext autoreload\n",
    "%autoreload 2\n",
    "%matplotlib inline\n",
    "\n",
    "import sys\n",
    "sys.path.append(os.environ['SNORKELHOME'] + '/tutorials/tables/')\n",
    "\n",
    "from snorkel import SnorkelSession\n",
    "session = SnorkelSession()\n",
    "\n",
    "from snorkel.models import candidate_subclass\n",
    "Part_Temp = candidate_subclass('Part_Temp', ['part','temp'])"
   ]
  },
  {
   "cell_type": "markdown",
   "metadata": {},
   "source": [
    "### Extract Features"
   ]
  },
  {
   "cell_type": "code",
   "execution_count": null,
   "metadata": {
    "collapsed": false
   },
   "outputs": [],
   "source": [
    "from snorkel.models import CandidateSet\n",
    "from snorkel.fast_annotations import FeatureManager\n",
    "from snorkel.utils import get_ORM_instance\n",
    "\n",
    "train = get_ORM_instance(CandidateSet, session, 'Hardware Training Candidates')\n",
    "dev   = get_ORM_instance(CandidateSet, session, 'Hardware Development Candidates')\n",
    "\n",
    "feature_manager = FeatureManager()\n",
    "%time F_train = feature_manager.create(session, train, 'Train Features')\n",
    "%time F_dev = feature_manager.update(session, dev, 'Train Features', expand_key_set=False)"
   ]
  },
  {
   "cell_type": "code",
   "execution_count": null,
   "metadata": {
    "collapsed": true
   },
   "outputs": [],
   "source": [
    "# If necessary:\n",
    "import os\n",
    "os.system('cp snorkel.db snorkel.db\\ featurized');"
   ]
  },
  {
   "cell_type": "markdown",
   "metadata": {},
   "source": [
    "## LFs"
   ]
  },
  {
   "cell_type": "code",
   "execution_count": null,
   "metadata": {
    "collapsed": false
   },
   "outputs": [],
   "source": [
    "# If necessary\n",
    "import os\n",
    "os.remove('snorkel.db');\n",
    "os.system('cp snorkel.db\\ featurized snorkel.db');\n",
    "\n",
    "%load_ext autoreload\n",
    "%autoreload 2\n",
    "%matplotlib inline\n",
    "\n",
    "import sys\n",
    "sys.path.append(os.environ['SNORKELHOME'] + '/tutorials/tables/')\n",
    "\n",
    "from snorkel import SnorkelSession\n",
    "session = SnorkelSession()\n",
    "\n",
    "from snorkel.models import candidate_subclass\n",
    "Part_Temp = candidate_subclass('Part_Temp', ['part','temp'])\n",
    "from snorkel.models import CandidateSet\n",
    "train = session.query(CandidateSet).filter(\n",
    "    CandidateSet.name == 'Hardware Training Candidates').one()\n",
    "dev = session.query(CandidateSet).filter(\n",
    "    CandidateSet.name == 'Hardware Development Candidates').one()"
   ]
  },
  {
   "cell_type": "markdown",
   "metadata": {},
   "source": [
    "### Define LFs"
   ]
  },
  {
   "cell_type": "code",
   "execution_count": null,
   "metadata": {
    "collapsed": false
   },
   "outputs": [],
   "source": [
    "from snorkel.fast_annotations import LabelManager\n",
    "from snorkel.lf_helpers import *\n",
    "label_manager = LabelManager()\n",
    "\n",
    "LFs = []\n",
    "\n",
    "\n",
    "###################################################################\n",
    "# POSITIVE\n",
    "###################################################################\n",
    "def LF_storage_row(c):\n",
    "    return 1 if 'storage' in get_row_ngrams(c.temp) else 0\n",
    "LFs.append(LF_storage_row)\n",
    "\n",
    "def LF_junction_row(c):\n",
    "    return 1 if 'junction' in get_row_ngrams(c.temp) else 0\n",
    "LFs.append(LF_junction_row)\n",
    "\n",
    "def LF_operating_row(c):\n",
    "    return 1 if 'operating' in get_row_ngrams(c.temp) else 0\n",
    "LFs.append(LF_operating_row)\n",
    "\n",
    "def LF_temperature_row(c):\n",
    "    return 1 if 'temperature' in get_row_ngrams(c.temp) else 0\n",
    "LFs.append(LF_temperature_row)\n",
    "\n",
    "def LF_to_left(c):\n",
    "    return 1 if 'to' in get_left_ngrams(c.temp, window=2) else 0\n",
    "LFs.append(LF_to_left)\n",
    "\n",
    "def LF_negative_left(c):\n",
    "    return 1 if any([re.match(r'-\\s*\\d+', ngram) for ngram in get_left_ngrams(c.temp, window=4)]) else 0\n",
    "LFs.append(LF_negative_left)\n",
    "\n",
    "def LF_part_type_aligned(c):\n",
    "    return 1 if 'type' in get_col_ngrams(c.part) else 0\n",
    "LFs.append(LF_part_type_aligned)\n",
    "\n",
    "\n",
    "def LF_tstg_row(c):\n",
    "    return 1 if overlap(\n",
    "        ['tstg','stg','ts'], \n",
    "        list(get_row_ngrams(c.temp))) else 0\n",
    "LFs.append(LF_tstg_row)\n",
    "pos_keys = set(['tstg', 'stg']) # 'value', 'rating'\n",
    "\n",
    "\n",
    "###################################################################\n",
    "# NEGATIVE\n",
    "###################################################################\n",
    "\n",
    "def LF_not_temp_relevant(c):\n",
    "    return -1 if not overlap(\n",
    "        ['storage','temperature','tstg','ts','stg'],\n",
    "        list(get_aligned_ngrams(c.temp))) else 0\n",
    "LFs.append(LF_not_temp_relevant)\n",
    "\n",
    "# def LF_temp_outside_table(c):\n",
    "#     return -1 if c.temp.parent.table is None else 0\n",
    "# LFs.append(LF_temp_outside_table)\n",
    "\n",
    "def LF_too_many_numbers_row(c):\n",
    "    num_numbers = list(get_row_ngrams(c.temp, attrib=\"ner_tags\")).count('number')\n",
    "    return -1 if num_numbers >= 3 else 0\n",
    "LFs.append(LF_too_many_numbers_row)\n",
    "\n",
    "def LF_high_table_num(c):\n",
    "    return -1 if (c.temp.parent.table and\n",
    "        c.temp.parent.table.position > 4) else 0\n",
    "LFs.append(LF_high_table_num)\n",
    "\n",
    "def LF_equals_in_row(c):\n",
    "    return -1 if overlap('=', get_row_ngrams(c.temp)) else 0\n",
    "LFs.append(LF_equals_in_row)\n",
    "\n",
    "complementary_keys = set(['empfohlene', 'recommended','complement', 'complementary', 'full', 'line', 'production'])\n",
    "def LF_complementary_keywords_part(c):\n",
    "    return -1 if overlap(complementary_keys, get_aligned_ngrams(c.part, infer=True)) else 0\n",
    "LFs.append(LF_complementary_keywords_part)\n",
    "\n",
    "# For PHGLS25601-1\n",
    "def LF_part_too_far_right(c):\n",
    "    return -1 if (c.part.parent.col_start > 3) else 0\n",
    "LFs.append(LF_part_too_far_right)\n",
    "\n",
    "def LF_part_neighbor_phrase_complementary(c):\n",
    "    neighbor_ngrams = set(get_neighbor_phrase_ngrams(c.part))\n",
    "    if (overlap(complementary_keys, neighbor_ngrams)):\n",
    "        return -1\n",
    "    \n",
    "    return 0\n",
    "LFs.append(LF_part_neighbor_phrase_complementary)\n",
    "\n",
    "# def LF_horiz_complementary(c):\n",
    "#     horiz_ngrams = set(get_horz_aligned_ngrams(c.part))\n",
    "#     if (overlap(complementary_keys, horiz_ngrams)):\n",
    "#         return -1\n",
    "#     return 0\n",
    "# LFs.append(LF_horiz_complementary)\n",
    "\n",
    "# def LF_vert_complementary(c):\n",
    "#     vert_ngrams = set(get_vert_aligned_ngrams(c.part))\n",
    "#     if (overlap(complementary_keys, vert_ngrams)):\n",
    "#         return -1\n",
    "#     return 0\n",
    "# LFs.append(LF_vert_complementary)\n",
    "\n",
    "def LF_i_in_row(c):\n",
    "    return -1 if overlap('i', get_row_ngrams(c.temp)) else 0\n",
    "LFs.append(LF_i_in_row)\n",
    "\n",
    "def LF_collector_aligned(c):\n",
    "    return -1 if overlap(\n",
    "        ['collector', 'collector-current', 'collector-base', 'collector-emitter'],\n",
    "        list(get_aligned_ngrams(c.temp))) else 0\n",
    "LFs.append(LF_collector_aligned)\n",
    "\n",
    "def LF_current_aligned(c):\n",
    "    ngrams = get_aligned_ngrams(c.temp)\n",
    "    return -1 if overlap(\n",
    "        ['current', 'dc', 'ic'],\n",
    "        list(get_aligned_ngrams(c.temp))) else 0\n",
    "LFs.append(LF_current_aligned)\n",
    "\n",
    "def LF_voltage_row_temp(c):\n",
    "    ngrams = get_aligned_ngrams(c.temp)\n",
    "    return -1 if overlap(\n",
    "        ['voltage', 'cbo', 'ceo', 'ebo', 'v'],\n",
    "        list(get_aligned_ngrams(c.temp))) else 0\n",
    "LFs.append(LF_voltage_row_temp)\n",
    "\n",
    "def LF_voltage_row_part(c):\n",
    "    ngrams = get_aligned_ngrams(c.part)\n",
    "    return -1 if overlap(\n",
    "        ['voltage', 'cbo', 'ceo', 'ebo', 'v'],\n",
    "        list(get_aligned_ngrams(c.temp))) else 0\n",
    "LFs.append(LF_voltage_row_part)\n",
    "\n",
    "def LF_test_condition_aligned(c):\n",
    "    return -1 if overlap(\n",
    "        ['test', 'condition'],\n",
    "        list(get_aligned_ngrams(c.temp))) else 0\n",
    "LFs.append(LF_test_condition_aligned)\n",
    "\n",
    "def LF_typ_row(c):\n",
    "    return -1 if overlap(\n",
    "        ['typ', 'typ.'],\n",
    "        list(get_row_ngrams(c.temp))) else 0\n",
    "LFs.append(LF_typ_row)\n",
    "\n",
    "def LF_complement_left_row(c):\n",
    "    return -1 if 'complement' in get_row_ngrams(c.part) else 0\n",
    "LFs.append(LF_complement_left_row)"
   ]
  },
  {
   "cell_type": "markdown",
   "metadata": {},
   "source": [
    "### Apply LFs"
   ]
  },
  {
   "cell_type": "code",
   "execution_count": null,
   "metadata": {
    "collapsed": false,
    "scrolled": true
   },
   "outputs": [],
   "source": [
    "%time L_train = label_manager.create(session, train, 'LF Labels', f=LFs)\n",
    "L_train"
   ]
  },
  {
   "cell_type": "markdown",
   "metadata": {},
   "source": [
    "### Assess LF accuracy"
   ]
  },
  {
   "cell_type": "code",
   "execution_count": null,
   "metadata": {
    "collapsed": false
   },
   "outputs": [],
   "source": [
    "train_gold = session.query(CandidateSet).filter(\n",
    "    CandidateSet.name == 'Hardware Training Candidates -- Gold').one()\n",
    "%time L_train.lf_stats(train_gold)"
   ]
  },
  {
   "cell_type": "code",
   "execution_count": null,
   "metadata": {
    "collapsed": true
   },
   "outputs": [],
   "source": [
    "# If necessary\n",
    "import os\n",
    "os.system('cp snorkel.db snorkel.db\\ features');"
   ]
  },
  {
   "cell_type": "markdown",
   "metadata": {},
   "source": [
    "## Learn and Evaluate"
   ]
  },
  {
   "cell_type": "code",
   "execution_count": 1,
   "metadata": {
    "collapsed": false
   },
   "outputs": [],
   "source": [
    "# If necessary:\n",
    "import os\n",
    "os.remove('snorkel.db');\n",
    "os.system('cp snorkel.db\\ features snorkel.db');\n",
    "\n",
    "%load_ext autoreload\n",
    "%autoreload 2\n",
    "%matplotlib inline\n",
    "\n",
    "import sys\n",
    "sys.path.append(os.environ['SNORKELHOME'] + '/tutorials/tables/')\n",
    "\n",
    "from snorkel import SnorkelSession\n",
    "session = SnorkelSession()\n",
    "\n",
    "from snorkel.models import candidate_subclass\n",
    "Part_Temp = candidate_subclass('Part_Temp', ['part','temp'])"
   ]
  },
  {
   "cell_type": "code",
   "execution_count": 2,
   "metadata": {
    "collapsed": false
   },
   "outputs": [
    {
     "name": "stdout",
     "output_type": "stream",
     "text": [
      "CPU times: user 1min 19s, sys: 1.56 s, total: 1min 20s\n",
      "Wall time: 1min 20s\n",
      "CPU times: user 52.7 s, sys: 1.19 s, total: 53.9 s\n",
      "Wall time: 53.8 s\n",
      "CPU times: user 23.2 s, sys: 424 ms, total: 23.6 s\n",
      "Wall time: 23.7 s\n"
     ]
    }
   ],
   "source": [
    "from snorkel.fast_annotations import FeatureManager, LabelManager\n",
    "from snorkel.models import CandidateSet\n",
    "train = session.query(CandidateSet).filter(\n",
    "    CandidateSet.name == 'Hardware Training Candidates').one()\n",
    "dev = session.query(CandidateSet).filter(\n",
    "    CandidateSet.name == 'Hardware Development Candidates').one()\n",
    "\n",
    "feature_manager = FeatureManager()\n",
    "%time F_train = feature_manager.load(session, train, 'Train Features')\n",
    "%time F_dev = feature_manager.load(session, dev, 'Train Features')\n",
    "\n",
    "label_manager = LabelManager()\n",
    "%time L_train = label_manager.load(session, train, 'LF Labels')"
   ]
  },
  {
   "cell_type": "code",
   "execution_count": 3,
   "metadata": {
    "collapsed": false,
    "scrolled": false
   },
   "outputs": [
    {
     "name": "stderr",
     "output_type": "stream",
     "text": [
      "/home/lwhsiao/repos/snorkel/.virtualenv/local/lib/python2.7/site-packages/matplotlib/__init__.py:1357: UserWarning:  This call to matplotlib.use() has no effect\n",
      "because the backend has already been chosen;\n",
      "matplotlib.use() must be called *before* pylab, matplotlib.pyplot,\n",
      "or matplotlib.backends is imported for the first time.\n",
      "\n",
      "  warnings.warn(_use_error_msg)\n"
     ]
    },
    {
     "name": "stdout",
     "output_type": "stream",
     "text": [
      "================================================================================\n",
      "Training marginals (!= 0.5):\t115717\n",
      "Features:\t\t\t23\n",
      "================================================================================\n",
      "Begin training for rate=1e-06, mu=1e-06\n",
      "\tLearning epoch = 0\tGradient mag. = 0.451890\n",
      "\tLearning epoch = 250\tGradient mag. = 0.475573\n",
      "\tLearning epoch = 500\tGradient mag. = 0.475473\n",
      "\tLearning epoch = 750\tGradient mag. = 0.475372\n",
      "\tLearning epoch = 1000\tGradient mag. = 0.475272\n",
      "\tLearning epoch = 1250\tGradient mag. = 0.475171\n",
      "\tLearning epoch = 1500\tGradient mag. = 0.475071\n",
      "\tLearning epoch = 1750\tGradient mag. = 0.474970\n",
      "\tLearning epoch = 2000\tGradient mag. = 0.474870\n",
      "\tLearning epoch = 2250\tGradient mag. = 0.474769\n",
      "\tLearning epoch = 2500\tGradient mag. = 0.474669\n",
      "\tLearning epoch = 2750\tGradient mag. = 0.474568\n",
      "\tLearning epoch = 3000\tGradient mag. = 0.474468\n",
      "\tLearning epoch = 3250\tGradient mag. = 0.474367\n",
      "\tLearning epoch = 3500\tGradient mag. = 0.474267\n",
      "\tLearning epoch = 3750\tGradient mag. = 0.474166\n",
      "\tLearning epoch = 4000\tGradient mag. = 0.474066\n",
      "\tLearning epoch = 4250\tGradient mag. = 0.473965\n",
      "\tLearning epoch = 4500\tGradient mag. = 0.473864\n",
      "\tLearning epoch = 4750\tGradient mag. = 0.473764\n",
      "\tLearning epoch = 5000\tGradient mag. = 0.473663\n",
      "\tLearning epoch = 5250\tGradient mag. = 0.473563\n",
      "\tLearning epoch = 5500\tGradient mag. = 0.473462\n",
      "\tLearning epoch = 5750\tGradient mag. = 0.473361\n",
      "\tLearning epoch = 6000\tGradient mag. = 0.473261\n",
      "\tLearning epoch = 6250\tGradient mag. = 0.473160\n",
      "\tLearning epoch = 6500\tGradient mag. = 0.473059\n",
      "\tLearning epoch = 6750\tGradient mag. = 0.472959\n",
      "\tLearning epoch = 7000\tGradient mag. = 0.472858\n",
      "\tLearning epoch = 7250\tGradient mag. = 0.472758\n",
      "\tLearning epoch = 7500\tGradient mag. = 0.472657\n",
      "\tLearning epoch = 7750\tGradient mag. = 0.472556\n",
      "\tLearning epoch = 8000\tGradient mag. = 0.472456\n",
      "\tLearning epoch = 8250\tGradient mag. = 0.472355\n",
      "\tLearning epoch = 8500\tGradient mag. = 0.472254\n",
      "\tLearning epoch = 8750\tGradient mag. = 0.472153\n",
      "\tLearning epoch = 9000\tGradient mag. = 0.472053\n",
      "\tLearning epoch = 9250\tGradient mag. = 0.471952\n",
      "\tLearning epoch = 9500\tGradient mag. = 0.471851\n",
      "\tLearning epoch = 9750\tGradient mag. = 0.471751\n",
      "\tLearning epoch = 10000\tGradient mag. = 0.471650\n",
      "\tLearning epoch = 10250\tGradient mag. = 0.471549\n",
      "\tLearning epoch = 10500\tGradient mag. = 0.471448\n",
      "\tLearning epoch = 10750\tGradient mag. = 0.471348\n",
      "\tLearning epoch = 11000\tGradient mag. = 0.471247\n",
      "\tLearning epoch = 11250\tGradient mag. = 0.471146\n",
      "\tLearning epoch = 11500\tGradient mag. = 0.471045\n",
      "\tLearning epoch = 11750\tGradient mag. = 0.470945\n",
      "\tLearning epoch = 12000\tGradient mag. = 0.470844\n",
      "\tLearning epoch = 12250\tGradient mag. = 0.470743\n",
      "\tLearning epoch = 12500\tGradient mag. = 0.470642\n",
      "\tLearning epoch = 12750\tGradient mag. = 0.470541\n",
      "\tLearning epoch = 13000\tGradient mag. = 0.470440\n",
      "\tLearning epoch = 13250\tGradient mag. = 0.470340\n",
      "\tLearning epoch = 13500\tGradient mag. = 0.470239\n",
      "\tLearning epoch = 13750\tGradient mag. = 0.470138\n",
      "\tLearning epoch = 14000\tGradient mag. = 0.470037\n",
      "\tLearning epoch = 14250\tGradient mag. = 0.469936\n",
      "\tLearning epoch = 14500\tGradient mag. = 0.469835\n",
      "\tLearning epoch = 14750\tGradient mag. = 0.469735\n",
      "\tLearning epoch = 15000\tGradient mag. = 0.469634\n",
      "\tLearning epoch = 15250\tGradient mag. = 0.469533\n",
      "\tLearning epoch = 15500\tGradient mag. = 0.469432\n",
      "\tLearning epoch = 15750\tGradient mag. = 0.469331\n",
      "\tLearning epoch = 16000\tGradient mag. = 0.469230\n",
      "\tLearning epoch = 16250\tGradient mag. = 0.469129\n",
      "\tLearning epoch = 16500\tGradient mag. = 0.469028\n",
      "\tLearning epoch = 16750\tGradient mag. = 0.468927\n",
      "\tLearning epoch = 17000\tGradient mag. = 0.468826\n",
      "\tLearning epoch = 17250\tGradient mag. = 0.468726\n",
      "\tLearning epoch = 17500\tGradient mag. = 0.468625\n",
      "\tLearning epoch = 17750\tGradient mag. = 0.468524\n",
      "\tLearning epoch = 18000\tGradient mag. = 0.468423\n",
      "\tLearning epoch = 18250\tGradient mag. = 0.468322\n",
      "\tLearning epoch = 18500\tGradient mag. = 0.468221\n",
      "\tLearning epoch = 18750\tGradient mag. = 0.468120\n",
      "\tLearning epoch = 19000\tGradient mag. = 0.468019\n",
      "\tLearning epoch = 19250\tGradient mag. = 0.467918\n",
      "\tLearning epoch = 19500\tGradient mag. = 0.467817\n",
      "\tLearning epoch = 19750\tGradient mag. = 0.467716\n",
      "\tLearning epoch = 20000\tGradient mag. = 0.467615\n",
      "\tLearning epoch = 20250\tGradient mag. = 0.467514\n",
      "\tLearning epoch = 20500\tGradient mag. = 0.467413\n",
      "\tLearning epoch = 20750\tGradient mag. = 0.467312\n",
      "\tLearning epoch = 21000\tGradient mag. = 0.467211\n",
      "\tLearning epoch = 21250\tGradient mag. = 0.467110\n",
      "\tLearning epoch = 21500\tGradient mag. = 0.467008\n",
      "\tLearning epoch = 21750\tGradient mag. = 0.466907\n",
      "\tLearning epoch = 22000\tGradient mag. = 0.466806\n",
      "\tLearning epoch = 22250\tGradient mag. = 0.466705\n",
      "\tLearning epoch = 22500\tGradient mag. = 0.466604\n",
      "\tLearning epoch = 22750\tGradient mag. = 0.466503\n",
      "\tLearning epoch = 23000\tGradient mag. = 0.466402\n",
      "\tLearning epoch = 23250\tGradient mag. = 0.466301\n",
      "\tLearning epoch = 23500\tGradient mag. = 0.466200\n",
      "\tLearning epoch = 23750\tGradient mag. = 0.466099\n",
      "\tLearning epoch = 24000\tGradient mag. = 0.465998\n",
      "\tLearning epoch = 24250\tGradient mag. = 0.465896\n",
      "\tLearning epoch = 24500\tGradient mag. = 0.465795\n",
      "\tLearning epoch = 24750\tGradient mag. = 0.465694\n",
      "\tLearning epoch = 25000\tGradient mag. = 0.465593\n",
      "\tLearning epoch = 25250\tGradient mag. = 0.465492\n",
      "\tLearning epoch = 25500\tGradient mag. = 0.465391\n",
      "\tLearning epoch = 25750\tGradient mag. = 0.465289\n",
      "\tLearning epoch = 26000\tGradient mag. = 0.465188\n",
      "\tLearning epoch = 26250\tGradient mag. = 0.465087\n",
      "\tLearning epoch = 26500\tGradient mag. = 0.464986\n",
      "\tLearning epoch = 26750\tGradient mag. = 0.464885\n",
      "\tLearning epoch = 27000\tGradient mag. = 0.464783\n",
      "\tLearning epoch = 27250\tGradient mag. = 0.464682\n",
      "\tLearning epoch = 27500\tGradient mag. = 0.464581\n",
      "\tLearning epoch = 27750\tGradient mag. = 0.464480\n",
      "\tLearning epoch = 28000\tGradient mag. = 0.464378\n",
      "\tLearning epoch = 28250\tGradient mag. = 0.464277\n",
      "\tLearning epoch = 28500\tGradient mag. = 0.464176\n",
      "\tLearning epoch = 28750\tGradient mag. = 0.464075\n",
      "\tLearning epoch = 29000\tGradient mag. = 0.463973\n",
      "\tLearning epoch = 29250\tGradient mag. = 0.463872\n",
      "\tLearning epoch = 29500\tGradient mag. = 0.463771\n",
      "\tLearning epoch = 29750\tGradient mag. = 0.463670\n",
      "\tLearning epoch = 30000\tGradient mag. = 0.463568\n",
      "\tLearning epoch = 30250\tGradient mag. = 0.463467\n",
      "\tLearning epoch = 30500\tGradient mag. = 0.463366\n",
      "\tLearning epoch = 30750\tGradient mag. = 0.463264\n",
      "\tLearning epoch = 31000\tGradient mag. = 0.463163\n",
      "\tLearning epoch = 31250\tGradient mag. = 0.463062\n",
      "\tLearning epoch = 31500\tGradient mag. = 0.462960\n",
      "\tLearning epoch = 31750\tGradient mag. = 0.462859\n",
      "\tLearning epoch = 32000\tGradient mag. = 0.462758\n",
      "\tLearning epoch = 32250\tGradient mag. = 0.462656\n",
      "\tLearning epoch = 32500\tGradient mag. = 0.462555\n",
      "\tLearning epoch = 32750\tGradient mag. = 0.462453\n",
      "\tLearning epoch = 33000\tGradient mag. = 0.462352\n",
      "\tLearning epoch = 33250\tGradient mag. = 0.462251\n",
      "\tLearning epoch = 33500\tGradient mag. = 0.462149\n",
      "\tLearning epoch = 33750\tGradient mag. = 0.462048\n",
      "\tLearning epoch = 34000\tGradient mag. = 0.461946\n",
      "\tLearning epoch = 34250\tGradient mag. = 0.461845\n",
      "\tLearning epoch = 34500\tGradient mag. = 0.461744\n",
      "\tLearning epoch = 34750\tGradient mag. = 0.461642\n",
      "\tLearning epoch = 35000\tGradient mag. = 0.461541\n",
      "\tLearning epoch = 35250\tGradient mag. = 0.461439\n",
      "\tLearning epoch = 35500\tGradient mag. = 0.461338\n",
      "\tLearning epoch = 35750\tGradient mag. = 0.461236\n",
      "\tLearning epoch = 36000\tGradient mag. = 0.461135\n",
      "\tLearning epoch = 36250\tGradient mag. = 0.461033\n",
      "\tLearning epoch = 36500\tGradient mag. = 0.460932\n",
      "\tLearning epoch = 36750\tGradient mag. = 0.460830\n",
      "\tLearning epoch = 37000\tGradient mag. = 0.460729\n",
      "\tLearning epoch = 37250\tGradient mag. = 0.460627\n",
      "\tLearning epoch = 37500\tGradient mag. = 0.460526\n",
      "\tLearning epoch = 37750\tGradient mag. = 0.460424\n",
      "\tLearning epoch = 38000\tGradient mag. = 0.460323\n",
      "\tLearning epoch = 38250\tGradient mag. = 0.460221\n",
      "\tLearning epoch = 38500\tGradient mag. = 0.460120\n",
      "\tLearning epoch = 38750\tGradient mag. = 0.460018\n",
      "\tLearning epoch = 39000\tGradient mag. = 0.459916\n",
      "\tLearning epoch = 39250\tGradient mag. = 0.459815\n",
      "\tLearning epoch = 39500\tGradient mag. = 0.459713\n",
      "\tLearning epoch = 39750\tGradient mag. = 0.459612\n",
      "\tLearning epoch = 40000\tGradient mag. = 0.459510\n",
      "\tLearning epoch = 40250\tGradient mag. = 0.459408\n",
      "\tLearning epoch = 40500\tGradient mag. = 0.459307\n",
      "\tLearning epoch = 40750\tGradient mag. = 0.459205\n",
      "\tLearning epoch = 41000\tGradient mag. = 0.459104\n",
      "\tLearning epoch = 41250\tGradient mag. = 0.459002\n",
      "\tLearning epoch = 41500\tGradient mag. = 0.458900\n",
      "\tLearning epoch = 41750\tGradient mag. = 0.458799\n",
      "\tLearning epoch = 42000\tGradient mag. = 0.458697\n",
      "\tLearning epoch = 42250\tGradient mag. = 0.458595\n",
      "\tLearning epoch = 42500\tGradient mag. = 0.458494\n",
      "\tLearning epoch = 42750\tGradient mag. = 0.458392\n",
      "\tLearning epoch = 43000\tGradient mag. = 0.458290\n",
      "\tLearning epoch = 43250\tGradient mag. = 0.458189\n",
      "\tLearning epoch = 43500\tGradient mag. = 0.458087\n",
      "\tLearning epoch = 43750\tGradient mag. = 0.457985\n",
      "\tLearning epoch = 44000\tGradient mag. = 0.457884\n",
      "\tLearning epoch = 44250\tGradient mag. = 0.457782\n",
      "\tLearning epoch = 44500\tGradient mag. = 0.457680\n",
      "\tLearning epoch = 44750\tGradient mag. = 0.457578\n",
      "\tLearning epoch = 45000\tGradient mag. = 0.457477\n",
      "\tLearning epoch = 45250\tGradient mag. = 0.457375\n",
      "\tLearning epoch = 45500\tGradient mag. = 0.457273\n",
      "\tLearning epoch = 45750\tGradient mag. = 0.457171\n",
      "\tLearning epoch = 46000\tGradient mag. = 0.457069\n",
      "\tLearning epoch = 46250\tGradient mag. = 0.456968\n",
      "\tLearning epoch = 46500\tGradient mag. = 0.456866\n",
      "\tLearning epoch = 46750\tGradient mag. = 0.456764\n",
      "\tLearning epoch = 47000\tGradient mag. = 0.456662\n",
      "\tLearning epoch = 47250\tGradient mag. = 0.456560\n",
      "\tLearning epoch = 47500\tGradient mag. = 0.456459\n",
      "\tLearning epoch = 47750\tGradient mag. = 0.456357\n",
      "\tLearning epoch = 48000\tGradient mag. = 0.456255\n",
      "\tLearning epoch = 48250\tGradient mag. = 0.456153\n",
      "\tLearning epoch = 48500\tGradient mag. = 0.456051\n",
      "\tLearning epoch = 48750\tGradient mag. = 0.455949\n",
      "\tLearning epoch = 49000\tGradient mag. = 0.455848\n",
      "\tLearning epoch = 49250\tGradient mag. = 0.455746\n",
      "\tLearning epoch = 49500\tGradient mag. = 0.455644\n",
      "\tLearning epoch = 49750\tGradient mag. = 0.455542\n",
      "\tLearning epoch = 50000\tGradient mag. = 0.455440\n",
      "\tLearning epoch = 50250\tGradient mag. = 0.455338\n",
      "\tLearning epoch = 50500\tGradient mag. = 0.455236\n",
      "\tLearning epoch = 50750\tGradient mag. = 0.455134\n",
      "\tLearning epoch = 51000\tGradient mag. = 0.455032\n",
      "\tLearning epoch = 51250\tGradient mag. = 0.454930\n",
      "\tLearning epoch = 51500\tGradient mag. = 0.454828\n",
      "\tLearning epoch = 51750\tGradient mag. = 0.454726\n",
      "\tLearning epoch = 52000\tGradient mag. = 0.454625\n",
      "\tLearning epoch = 52250\tGradient mag. = 0.454523\n",
      "\tLearning epoch = 52500\tGradient mag. = 0.454421\n",
      "\tLearning epoch = 52750\tGradient mag. = 0.454319\n",
      "\tLearning epoch = 53000\tGradient mag. = 0.454217\n",
      "\tLearning epoch = 53250\tGradient mag. = 0.454115\n",
      "\tLearning epoch = 53500\tGradient mag. = 0.454013\n",
      "\tLearning epoch = 53750\tGradient mag. = 0.453911\n",
      "\tLearning epoch = 54000\tGradient mag. = 0.453809\n",
      "\tLearning epoch = 54250\tGradient mag. = 0.453707\n",
      "\tLearning epoch = 54500\tGradient mag. = 0.453604\n",
      "\tLearning epoch = 54750\tGradient mag. = 0.453502\n",
      "\tLearning epoch = 55000\tGradient mag. = 0.453400\n",
      "\tLearning epoch = 55250\tGradient mag. = 0.453298\n",
      "\tLearning epoch = 55500\tGradient mag. = 0.453196\n",
      "\tLearning epoch = 55750\tGradient mag. = 0.453094\n",
      "\tLearning epoch = 56000\tGradient mag. = 0.452992\n",
      "\tLearning epoch = 56250\tGradient mag. = 0.452890\n",
      "\tLearning epoch = 56500\tGradient mag. = 0.452788\n",
      "\tLearning epoch = 56750\tGradient mag. = 0.452686\n",
      "\tLearning epoch = 57000\tGradient mag. = 0.452584\n",
      "\tLearning epoch = 57250\tGradient mag. = 0.452482\n",
      "\tLearning epoch = 57500\tGradient mag. = 0.452379\n",
      "\tLearning epoch = 57750\tGradient mag. = 0.452277\n",
      "\tLearning epoch = 58000\tGradient mag. = 0.452175\n",
      "\tLearning epoch = 58250\tGradient mag. = 0.452073\n",
      "\tLearning epoch = 58500\tGradient mag. = 0.451971\n",
      "\tLearning epoch = 58750\tGradient mag. = 0.451869\n",
      "\tLearning epoch = 59000\tGradient mag. = 0.451766\n",
      "\tLearning epoch = 59250\tGradient mag. = 0.451664\n",
      "\tLearning epoch = 59500\tGradient mag. = 0.451562\n",
      "\tLearning epoch = 59750\tGradient mag. = 0.451460\n",
      "\tLearning epoch = 60000\tGradient mag. = 0.451358\n",
      "\tLearning epoch = 60250\tGradient mag. = 0.451255\n",
      "\tLearning epoch = 60500\tGradient mag. = 0.451153\n",
      "\tLearning epoch = 60750\tGradient mag. = 0.451051\n",
      "\tLearning epoch = 61000\tGradient mag. = 0.450949\n",
      "\tLearning epoch = 61250\tGradient mag. = 0.450847\n",
      "\tLearning epoch = 61500\tGradient mag. = 0.450744\n",
      "\tLearning epoch = 61750\tGradient mag. = 0.450642\n",
      "\tLearning epoch = 62000\tGradient mag. = 0.450540\n",
      "\tLearning epoch = 62250\tGradient mag. = 0.450437\n",
      "\tLearning epoch = 62500\tGradient mag. = 0.450335\n",
      "\tLearning epoch = 62750\tGradient mag. = 0.450233\n",
      "\tLearning epoch = 63000\tGradient mag. = 0.450131\n",
      "\tLearning epoch = 63250\tGradient mag. = 0.450028\n",
      "\tLearning epoch = 63500\tGradient mag. = 0.449926\n",
      "\tLearning epoch = 63750\tGradient mag. = 0.449824\n",
      "\tLearning epoch = 64000\tGradient mag. = 0.449721\n",
      "\tLearning epoch = 64250\tGradient mag. = 0.449619\n",
      "\tLearning epoch = 64500\tGradient mag. = 0.449517\n",
      "\tLearning epoch = 64750\tGradient mag. = 0.449414\n",
      "\tLearning epoch = 65000\tGradient mag. = 0.449312\n",
      "\tLearning epoch = 65250\tGradient mag. = 0.449209\n",
      "\tLearning epoch = 65500\tGradient mag. = 0.449107\n",
      "\tLearning epoch = 65750\tGradient mag. = 0.449005\n",
      "\tLearning epoch = 66000\tGradient mag. = 0.448902\n",
      "\tLearning epoch = 66250\tGradient mag. = 0.448800\n",
      "\tLearning epoch = 66500\tGradient mag. = 0.448697\n",
      "\tLearning epoch = 66750\tGradient mag. = 0.448595\n",
      "\tLearning epoch = 67000\tGradient mag. = 0.448493\n",
      "\tLearning epoch = 67250\tGradient mag. = 0.448390\n",
      "\tLearning epoch = 67500\tGradient mag. = 0.448288\n",
      "\tLearning epoch = 67750\tGradient mag. = 0.448185\n",
      "\tLearning epoch = 68000\tGradient mag. = 0.448083\n",
      "\tLearning epoch = 68250\tGradient mag. = 0.447980\n",
      "\tLearning epoch = 68500\tGradient mag. = 0.447878\n",
      "\tLearning epoch = 68750\tGradient mag. = 0.447775\n",
      "\tLearning epoch = 69000\tGradient mag. = 0.447673\n",
      "\tLearning epoch = 69250\tGradient mag. = 0.447570\n",
      "\tLearning epoch = 69500\tGradient mag. = 0.447468\n",
      "\tLearning epoch = 69750\tGradient mag. = 0.447365\n",
      "\tLearning epoch = 70000\tGradient mag. = 0.447263\n",
      "\tLearning epoch = 70250\tGradient mag. = 0.447160\n",
      "\tLearning epoch = 70500\tGradient mag. = 0.447058\n",
      "\tLearning epoch = 70750\tGradient mag. = 0.446955\n",
      "\tLearning epoch = 71000\tGradient mag. = 0.446853\n",
      "\tLearning epoch = 71250\tGradient mag. = 0.446750\n",
      "\tLearning epoch = 71500\tGradient mag. = 0.446648\n",
      "\tLearning epoch = 71750\tGradient mag. = 0.446545\n",
      "\tLearning epoch = 72000\tGradient mag. = 0.446442\n",
      "\tLearning epoch = 72250\tGradient mag. = 0.446340\n",
      "\tLearning epoch = 72500\tGradient mag. = 0.446237\n",
      "\tLearning epoch = 72750\tGradient mag. = 0.446135\n",
      "\tLearning epoch = 73000\tGradient mag. = 0.446032\n",
      "\tLearning epoch = 73250\tGradient mag. = 0.445929\n",
      "\tLearning epoch = 73500\tGradient mag. = 0.445827\n",
      "\tLearning epoch = 73750\tGradient mag. = 0.445724\n",
      "\tLearning epoch = 74000\tGradient mag. = 0.445621\n",
      "\tLearning epoch = 74250\tGradient mag. = 0.445519\n",
      "\tLearning epoch = 74500\tGradient mag. = 0.445416\n",
      "\tLearning epoch = 74750\tGradient mag. = 0.445313\n",
      "\tLearning epoch = 75000\tGradient mag. = 0.445211\n",
      "\tLearning epoch = 75250\tGradient mag. = 0.445108\n",
      "\tLearning epoch = 75500\tGradient mag. = 0.445005\n",
      "\tLearning epoch = 75750\tGradient mag. = 0.444903\n",
      "\tLearning epoch = 76000\tGradient mag. = 0.444800\n",
      "\tLearning epoch = 76250\tGradient mag. = 0.444697\n",
      "\tLearning epoch = 76500\tGradient mag. = 0.444594\n",
      "\tLearning epoch = 76750\tGradient mag. = 0.444492\n",
      "\tLearning epoch = 77000\tGradient mag. = 0.444389\n",
      "\tLearning epoch = 77250\tGradient mag. = 0.444286\n",
      "\tLearning epoch = 77500\tGradient mag. = 0.444183\n",
      "\tLearning epoch = 77750\tGradient mag. = 0.444081\n",
      "\tLearning epoch = 78000\tGradient mag. = 0.443978\n",
      "\tLearning epoch = 78250\tGradient mag. = 0.443875\n",
      "\tLearning epoch = 78500\tGradient mag. = 0.443772\n",
      "\tLearning epoch = 78750\tGradient mag. = 0.443669\n",
      "\tLearning epoch = 79000\tGradient mag. = 0.443567\n",
      "\tLearning epoch = 79250\tGradient mag. = 0.443464\n",
      "\tLearning epoch = 79500\tGradient mag. = 0.443361\n",
      "\tLearning epoch = 79750\tGradient mag. = 0.443258\n",
      "\tLearning epoch = 80000\tGradient mag. = 0.443155\n",
      "\tLearning epoch = 80250\tGradient mag. = 0.443052\n",
      "\tLearning epoch = 80500\tGradient mag. = 0.442949\n",
      "\tLearning epoch = 80750\tGradient mag. = 0.442847\n",
      "\tLearning epoch = 81000\tGradient mag. = 0.442744\n",
      "\tLearning epoch = 81250\tGradient mag. = 0.442641\n",
      "\tLearning epoch = 81500\tGradient mag. = 0.442538\n",
      "\tLearning epoch = 81750\tGradient mag. = 0.442435\n",
      "\tLearning epoch = 82000\tGradient mag. = 0.442332\n",
      "\tLearning epoch = 82250\tGradient mag. = 0.442229\n",
      "\tLearning epoch = 82500\tGradient mag. = 0.442126\n",
      "\tLearning epoch = 82750\tGradient mag. = 0.442023\n",
      "\tLearning epoch = 83000\tGradient mag. = 0.441920\n",
      "\tLearning epoch = 83250\tGradient mag. = 0.441817\n",
      "\tLearning epoch = 83500\tGradient mag. = 0.441714\n",
      "\tLearning epoch = 83750\tGradient mag. = 0.441611\n",
      "\tLearning epoch = 84000\tGradient mag. = 0.441508\n",
      "\tLearning epoch = 84250\tGradient mag. = 0.441405\n",
      "\tLearning epoch = 84500\tGradient mag. = 0.441302\n",
      "\tLearning epoch = 84750\tGradient mag. = 0.441199\n",
      "\tLearning epoch = 85000\tGradient mag. = 0.441096\n",
      "\tLearning epoch = 85250\tGradient mag. = 0.440993\n",
      "\tLearning epoch = 85500\tGradient mag. = 0.440890\n",
      "\tLearning epoch = 85750\tGradient mag. = 0.440787\n",
      "\tLearning epoch = 86000\tGradient mag. = 0.440684\n",
      "\tLearning epoch = 86250\tGradient mag. = 0.440581\n",
      "\tLearning epoch = 86500\tGradient mag. = 0.440478\n",
      "\tLearning epoch = 86750\tGradient mag. = 0.440375\n",
      "\tLearning epoch = 87000\tGradient mag. = 0.440272\n",
      "\tLearning epoch = 87250\tGradient mag. = 0.440169\n",
      "\tLearning epoch = 87500\tGradient mag. = 0.440066\n",
      "\tLearning epoch = 87750\tGradient mag. = 0.439963\n",
      "\tLearning epoch = 88000\tGradient mag. = 0.439860\n",
      "\tLearning epoch = 88250\tGradient mag. = 0.439756\n",
      "\tLearning epoch = 88500\tGradient mag. = 0.439653\n",
      "\tLearning epoch = 88750\tGradient mag. = 0.439550\n",
      "\tLearning epoch = 89000\tGradient mag. = 0.439447\n",
      "\tLearning epoch = 89250\tGradient mag. = 0.439344\n",
      "\tLearning epoch = 89500\tGradient mag. = 0.439241\n",
      "\tLearning epoch = 89750\tGradient mag. = 0.439138\n",
      "\tLearning epoch = 90000\tGradient mag. = 0.439034\n",
      "\tLearning epoch = 90250\tGradient mag. = 0.438931\n",
      "\tLearning epoch = 90500\tGradient mag. = 0.438828\n",
      "\tLearning epoch = 90750\tGradient mag. = 0.438725\n",
      "\tLearning epoch = 91000\tGradient mag. = 0.438622\n",
      "\tLearning epoch = 91250\tGradient mag. = 0.438518\n",
      "\tLearning epoch = 91500\tGradient mag. = 0.438415\n",
      "\tLearning epoch = 91750\tGradient mag. = 0.438312\n",
      "\tLearning epoch = 92000\tGradient mag. = 0.438209\n",
      "\tLearning epoch = 92250\tGradient mag. = 0.438105\n",
      "\tLearning epoch = 92500\tGradient mag. = 0.438002\n",
      "\tLearning epoch = 92750\tGradient mag. = 0.437899\n",
      "\tLearning epoch = 93000\tGradient mag. = 0.437795\n",
      "\tLearning epoch = 93250\tGradient mag. = 0.437692\n",
      "\tLearning epoch = 93500\tGradient mag. = 0.437589\n",
      "\tLearning epoch = 93750\tGradient mag. = 0.437486\n",
      "\tLearning epoch = 94000\tGradient mag. = 0.437382\n",
      "\tLearning epoch = 94250\tGradient mag. = 0.437279\n",
      "\tLearning epoch = 94500\tGradient mag. = 0.437176\n",
      "\tLearning epoch = 94750\tGradient mag. = 0.437072\n",
      "\tLearning epoch = 95000\tGradient mag. = 0.436969\n",
      "\tLearning epoch = 95250\tGradient mag. = 0.436866\n",
      "\tLearning epoch = 95500\tGradient mag. = 0.436762\n",
      "\tLearning epoch = 95750\tGradient mag. = 0.436659\n",
      "\tLearning epoch = 96000\tGradient mag. = 0.436555\n",
      "\tLearning epoch = 96250\tGradient mag. = 0.436452\n",
      "\tLearning epoch = 96500\tGradient mag. = 0.436349\n",
      "\tLearning epoch = 96750\tGradient mag. = 0.436245\n",
      "\tLearning epoch = 97000\tGradient mag. = 0.436142\n",
      "\tLearning epoch = 97250\tGradient mag. = 0.436038\n",
      "\tLearning epoch = 97500\tGradient mag. = 0.435935\n",
      "\tLearning epoch = 97750\tGradient mag. = 0.435831\n",
      "\tLearning epoch = 98000\tGradient mag. = 0.435728\n",
      "\tLearning epoch = 98250\tGradient mag. = 0.435625\n",
      "\tLearning epoch = 98500\tGradient mag. = 0.435521\n",
      "\tLearning epoch = 98750\tGradient mag. = 0.435418\n",
      "\tLearning epoch = 99000\tGradient mag. = 0.435314\n",
      "\tLearning epoch = 99250\tGradient mag. = 0.435211\n",
      "\tLearning epoch = 99500\tGradient mag. = 0.435107\n",
      "\tLearning epoch = 99750\tGradient mag. = 0.435004\n",
      "Final gradient magnitude for rate=1e-06, mu=1e-06: 0.435\n",
      "CPU times: user 64 ms, sys: 8 ms, total: 72 ms\n",
      "Wall time: 80.3 ms\n"
     ]
    }
   ],
   "source": [
    "from snorkel.learning import NaiveBayes\n",
    "\n",
    "gen_model = NaiveBayes()\n",
    "gen_model.train(L_train, n_iter=100000, rate=1e-6)\n",
    "%time gen_model.save(session, 'Generative Params')\n",
    "train_marginals = gen_model.marginals(L_train)"
   ]
  },
  {
   "cell_type": "code",
   "execution_count": 4,
   "metadata": {
    "collapsed": false
   },
   "outputs": [
    {
     "name": "stdout",
     "output_type": "stream",
     "text": [
      "================================================================================\n",
      "Training marginals (!= 0.5):\t107880\n",
      "Features:\t\t\t10007\n",
      "================================================================================\n",
      "Using gradient descent...\n",
      "\tLearning epoch = 0\tStep size = 0.0001\n",
      "\tLoss = 74776.717839\tGradient magnitude = 71338.585717\n",
      "\tLearning epoch = 100\tStep size = 9.04792147114e-05\n",
      "\tLoss = 51558.661468\tGradient magnitude = 16496.898934\n",
      "\tLearning epoch = 200\tStep size = 8.18648829479e-05\n",
      "\tLoss = 79925.479675\tGradient magnitude = 35551.192320\n",
      "\tLearning epoch = 300\tStep size = 7.40707032156e-05\n",
      "\tLoss = 96242.564327\tGradient magnitude = 45986.449833\n",
      "\tLearning epoch = 400\tStep size = 6.70185906007e-05\n",
      "\tLoss = 46261.537961\tGradient magnitude = 25848.495171\n",
      "\tLearning epoch = 500\tStep size = 6.06378944861e-05\n",
      "\tLoss = 50383.720663\tGradient magnitude = 20561.546112\n",
      "\tLearning epoch = 600\tStep size = 5.48646907485e-05\n",
      "\tLoss = 43928.736581\tGradient magnitude = 20310.589594\n",
      "\tLearning epoch = 700\tStep size = 4.96411413431e-05\n",
      "\tLoss = 43426.306383\tGradient magnitude = 26040.736206\n",
      "\tLearning epoch = 800\tStep size = 4.4914914861e-05\n",
      "\tLoss = 40730.262650\tGradient magnitude = 23185.763510\n",
      "\tLearning epoch = 900\tStep size = 4.06386622545e-05\n",
      "\tLoss = 38346.809097\tGradient magnitude = 21157.890268\n",
      "\tLearning epoch = 1000\tStep size = 3.67695424771e-05\n",
      "\tLoss = 36957.256932\tGradient magnitude = 20034.174986\n",
      "\tLearning epoch = 1100\tStep size = 3.32687932862e-05\n",
      "\tLoss = 35768.838098\tGradient magnitude = 17049.419809\n",
      "\tLearning epoch = 1200\tStep size = 3.01013429093e-05\n",
      "\tLoss = 34711.539358\tGradient magnitude = 12948.616017\n",
      "\tLearning epoch = 1300\tStep size = 2.72354586819e-05\n",
      "\tLoss = 33855.671870\tGradient magnitude = 6768.401090\n",
      "\tLearning epoch = 1400\tStep size = 2.46424291385e-05\n",
      "\tLoss = 33558.040429\tGradient magnitude = 94.983359\n",
      "\tLearning epoch = 1500\tStep size = 2.22962763703e-05\n",
      "\tLoss = 33545.554615\tGradient magnitude = 65.476235\n",
      "\tLearning epoch = 1600\tStep size = 2.01734957697e-05\n",
      "\tLoss = 33537.513544\tGradient magnitude = 57.802831\n",
      "\tLearning epoch = 1700\tStep size = 1.82528205523e-05\n",
      "\tLoss = 33531.613918\tGradient magnitude = 52.947164\n",
      "\tLearning epoch = 1800\tStep size = 1.65150086984e-05\n",
      "\tLoss = 33527.051986\tGradient magnitude = 49.398856\n",
      "\tLearning epoch = 1900\tStep size = 1.49426501798e-05\n",
      "\tLoss = 33523.421266\tGradient magnitude = 46.622436\n",
      "CPU times: user 1.43 s, sys: 28 ms, total: 1.46 s\n",
      "Wall time: 1.47 s\n"
     ]
    }
   ],
   "source": [
    "from snorkel.learning import LogReg\n",
    "\n",
    "disc_model = LogReg()\n",
    "disc_model.train(F_train, train_marginals, n_iter=2000, rate=1e-4)\n",
    "%time disc_model.save(session, \"Discriminative Params\")"
   ]
  },
  {
   "cell_type": "code",
   "execution_count": 5,
   "metadata": {
    "collapsed": false
   },
   "outputs": [
    {
     "name": "stdout",
     "output_type": "stream",
     "text": [
      "Calibration plot:\n"
     ]
    },
    {
     "name": "stderr",
     "output_type": "stream",
     "text": [
      "/home/lwhsiao/repos/snorkel/.virtualenv/local/lib/python2.7/site-packages/numpy/core/_methods.py:59: RuntimeWarning: Mean of empty slice.\n",
      "  warnings.warn(\"Mean of empty slice.\", RuntimeWarning)\n"
     ]
    },
    {
     "data": {
      "image/png": "[encoded data removed]",
      "text/plain": [
       "<matplotlib.figure.Figure at 0x7f5945201450>"
      ]
     },
     "metadata": {},
     "output_type": "display_data"
    },
    {
     "name": "stdout",
     "output_type": "stream",
     "text": [
      "========================================\n",
      "Recall-corrected Noise-aware Model\n",
      "========================================\n",
      "Pos. class accuracy: 0.287946773944\n",
      "Neg. class accuracy: 0.892992613296\n",
      "Corpus Precision 0.874\n",
      "Corpus Recall    0.288\n",
      "Corpus F1        0.433\n",
      "----------------------------------------\n",
      "TP: 3722 | FP: 536 | TN: 4473 | FN: 9204\n",
      "========================================\n",
      "\n",
      "========================================\n",
      "Recall-corrected Noise-aware Model\n",
      "========================================\n",
      "Pos. class accuracy: 0.287946773944\n",
      "Neg. class accuracy: 0.892992613296\n",
      "Corpus Precision 0.874\n",
      "Corpus Recall    0.288\n",
      "Corpus F1        0.433\n",
      "----------------------------------------\n",
      "TP: 3722 | FP: 536 | TN: 4473 | FN: 9204\n",
      "========================================\n",
      "\n"
     ]
    }
   ],
   "source": [
    "train_gold = session.query(CandidateSet).filter(\n",
    "    CandidateSet.name == 'Hardware Training Candidates -- Gold').one()\n",
    "\n",
    "dev_gold = session.query(CandidateSet).filter(\n",
    "    CandidateSet.name == 'Hardware Development Candidates -- Gold').one()\n",
    "\n",
    "from snorkel.models import CandidateSet\n",
    "from snorkel.annotations import LabelManager\n",
    "label_manager = LabelManager()\n",
    "L_dev = label_manager.load(session, dev, 'Hardware Development Labels -- Gold')\n",
    "\n",
    "tp, fp, tn, fn = disc_model.score(F_dev, L_dev, dev_gold)"
   ]
  },
  {
   "cell_type": "code",
   "execution_count": 6,
   "metadata": {
    "collapsed": false,
    "scrolled": true
   },
   "outputs": [
    {
     "name": "stdout",
     "output_type": "stream",
     "text": [
      "========================================\n",
      "Scoring on Entity-Level Gold Data\n",
      "========================================\n",
      "Corpus Precision 0.745\n",
      "Corpus Recall    0.917\n",
      "Corpus F1        0.822\n",
      "----------------------------------------\n",
      "TP: 155 | FP: 53 | FN: 14\n",
      "========================================\n",
      "\n"
     ]
    }
   ],
   "source": [
    "from snorkel.models import Corpus\n",
    "from snorkel.utils import get_ORM_instance\n",
    "from hardware_utils import entity_level_f1\n",
    "import os\n",
    "\n",
    "dev_corpus = get_ORM_instance(Corpus, session, 'Hardware Development')\n",
    "\n",
    "gold_file = os.environ['SNORKELHOME'] + '/tutorials/tables/data/hardware/hardware_gold.csv'\n",
    "corpus = session.query(Corpus).filter(Corpus.name == 'Hardware Development').one()\n",
    "(TP, FP, FN) = entity_level_f1(tp, fp, tn, fn, gold_file, dev_corpus, 'stg_temp_max')"
   ]
  },
  {
   "cell_type": "code",
   "execution_count": 7,
   "metadata": {
    "collapsed": false
   },
   "outputs": [
    {
     "name": "stdout",
     "output_type": "stream",
     "text": [
      "[(u'2N3906-D', u'1N916', u'150'),\n",
      " (u'2N3906-D', u'2N390D', u'150'),\n",
      " (u'BC546-BC548C(TO-92)', u'BC546-BC548C', u'150'),\n",
      " (u'BC546-BC548C(TO-92)', u'BC546THRU', u'150'),\n",
      " (u'DISES00645-1', u'BC807K', u'150'),\n",
      " (u'DISES00645-1', u'BC807K-16', u'150'),\n",
      " (u'DISES00645-1', u'BC807K-25', u'150'),\n",
      " (u'DISES00645-1', u'BC807K-40', u'150'),\n",
      " (u'DISES00645-1', u'BC807KC', u'150'),\n",
      " (u'DISES00645-1', u'BC808K', u'150'),\n",
      " (u'DISES00645-1', u'BC808K-16', u'150'),\n",
      " (u'DISES00645-1', u'BC808K-25', u'150'),\n",
      " (u'DISES00645-1', u'BC808K-40', u'150'),\n",
      " (u'DISES00645-1', u'BC808KC', u'150'),\n",
      " (u'DISES00645-1', u'BC817K-16C', u'150'),\n",
      " (u'DISES00645-1', u'BC817K-25C', u'150'),\n",
      " (u'DISES00645-1', u'BC817K-40C', u'150'),\n",
      " (u'DISES00645-1', u'BC817KC', u'150'),\n",
      " (u'DISES00645-1', u'BC818K-16C', u'150'),\n",
      " (u'DISES00645-1', u'BC818K-25C', u'150'),\n",
      " (u'DISES00645-1', u'BC818K-40C', u'150'),\n",
      " (u'DISES00645-1', u'BC818KC', u'150'),\n",
      " (u'INFINEON-BC857SERIES_BC858SERIES_BC859SERIES_BC860SERIES-DS-V01_01-EN',\n",
      "  u'BC850',\n",
      "  u'150'),\n",
      " (u'INFINEON-BC857SERIES_BC858SERIES_BC859SERIES_BC860SERIES-DS-V01_01-EN',\n",
      "  u'BC857/W-BC',\n",
      "  u'150'),\n",
      " (u'INFINEON-BC857SERIES_BC858SERIES_BC859SERIES_BC860SERIES-DS-V01_01-EN',\n",
      "  u'BC857W',\n",
      "  u'150'),\n",
      " (u'INFINEON-BC857SERIES_BC858SERIES_BC859SERIES_BC860SERIES-DS-V01_01-EN',\n",
      "  u'BC858W',\n",
      "  u'150'),\n",
      " (u'INFINEON-BC857SERIES_BC858SERIES_BC859SERIES_BC860SERIES-DS-V01_01-EN',\n",
      "  u'BC859W',\n",
      "  u'150'),\n",
      " (u'INFINEON-BC857SERIES_BC858SERIES_BC859SERIES_BC860SERIES-DS-V01_01-EN',\n",
      "  u'BC860W',\n",
      "  u'150'),\n",
      " (u'LTSCS02910-1', u'BC818-REV', u'150'),\n",
      " (u'MOTOS03189-1', u'BC337-1', u'150'),\n",
      " (u'MOTOS03189-1', u'BC337-2', u'150'),\n",
      " (u'MOTOS03189-1', u'BC337-4', u'150'),\n",
      " (u'MOTOS03189-1', u'BC337/D', u'150'),\n",
      " (u'PHGLS25601-1', u'BC8461D', u'150'),\n",
      " (u'PHGLS25601-1', u'BC8461DA', u'150'),\n",
      " (u'PHGLS25601-1', u'BC8461DB', u'150'),\n",
      " (u'PHGLS25601-1', u'BC846A1A', u'150'),\n",
      " (u'PHGLS25601-1', u'BC846AT1A', u'150'),\n",
      " (u'PHGLS25601-1', u'BC846AW1A', u'150'),\n",
      " (u'PHGLS25601-1', u'BC846B1B', u'150'),\n",
      " (u'PHGLS25601-1', u'BC846BT1B', u'150'),\n",
      " (u'PHGLS25601-1', u'BC846BW1B', u'150'),\n",
      " (u'PHGLS25601-1', u'BC846T1M', u'150'),\n",
      " (u'PHGLS25601-1', u'BC846TA', u'150'),\n",
      " (u'PHGLS25601-1', u'BC846TB', u'150'),\n",
      " (u'PHGLS25601-1', u'BC846W1D', u'150'),\n",
      " (u'PHGLS25601-1', u'BC846WA', u'150'),\n",
      " (u'PHGLS25601-1', u'BC846WB', u'150'),\n",
      " (u'UTCLS03593-1', u'DTC114E-I', u'150'),\n",
      " (u'WEILS00082-1', u'BC856A/B-BC', u'150'),\n",
      " (u'WEITS00252-1', u'BC807-1', u'150'),\n",
      " (u'WEITS00252-1', u'BC807-17', u'150'),\n",
      " (u'WEITS00252-1', u'BC807-25BC807-40', u'150')]\n"
     ]
    }
   ],
   "source": [
    "from pprint import pprint\n",
    "FN_list = sorted(list(FN))\n",
    "FP_list = sorted(list(FP))\n",
    "TP_list = sorted(list(TP))\n",
    "# pprint(FN_list[:])\n",
    "pprint(FP_list[:100])\n",
    "# pprint(TP_list[:10])"
   ]
  },
  {
   "cell_type": "code",
   "execution_count": 8,
   "metadata": {
    "collapsed": true
   },
   "outputs": [],
   "source": [
    "import pickle\n",
    "filename = 'eval.pkl'\n",
    "with open(filename, 'w') as f:\n",
    "    pickle.dump((FN_list, FP_list, TP_list), f)\n",
    "    \n",
    "# import pickle\n",
    "# filename = 'eval.pkl'\n",
    "# with open(filename, 'r') as f:\n",
    "#     FN_list, FP_list, TP_list = pickle.load(f)"
   ]
  },
  {
   "cell_type": "code",
   "execution_count": null,
   "metadata": {
    "collapsed": false,
    "scrolled": true
   },
   "outputs": [],
   "source": [
    "# docs = set()\n",
    "# for doc in corpus.documents:\n",
    "#     docs.add(doc.name.upper())\n",
    "# pprint(docs)"
   ]
  },
  {
   "cell_type": "code",
   "execution_count": null,
   "metadata": {
    "collapsed": false
   },
   "outputs": [],
   "source": [
    "# import itertools\n",
    "# docs = set()\n",
    "# for f in itertools.chain.from_iterable([tp, tn, fp, fn]):\n",
    "#     docs.add(f.part.parent.document.name.upper())\n",
    "# #     if f.part.parent.document.name.upper() == 'AUKCS04635-1':\n",
    "# #         print f\n",
    "# pprint(docs)"
   ]
  },
  {
   "cell_type": "code",
   "execution_count": 9,
   "metadata": {
    "collapsed": false,
    "scrolled": false
   },
   "outputs": [
    {
     "name": "stdout",
     "output_type": "stream",
     "text": [
      "Entity: (2 matches)\n",
      "(u'DISES00645-1', u'BC807K-40', u'150')\n"
     ]
    }
   ],
   "source": [
    "from hardware_utils import entity_to_candidates, part_error_analysis\n",
    "\n",
    "# disc_model.get_feature_weights(F_dev)\n",
    "\n",
    "entity = FP_list[7]\n",
    "matches = entity_to_candidates(entity, dev)\n",
    "print \"Entity: (%d matches)\" % len(matches)\n",
    "print entity"
   ]
  },
  {
   "cell_type": "code",
   "execution_count": 10,
   "metadata": {
    "collapsed": false
   },
   "outputs": [
    {
     "name": "stdout",
     "output_type": "stream",
     "text": [
      "ImplicitSpan(\"BC807K-40\", parent=50566, words=[0,0], position=[1])\n"
     ]
    }
   ],
   "source": [
    "match = matches[0]\n",
    "print match.part"
   ]
  },
  {
   "cell_type": "code",
   "execution_count": null,
   "metadata": {
    "collapsed": false
   },
   "outputs": [
    {
     "name": "stdout",
     "output_type": "stream",
     "text": [
      "set([])\n",
      "Boxes per page: total (unique)\n",
      "Page 2: 2 (2)\n"
     ]
    }
   ],
   "source": [
    "from snorkel.lf_helpers import *\n",
    "\n",
    "ngrams = set(get_horz_aligned_ngrams(match.part))\n",
    "from pprint import pprint\n",
    "pprint(ngrams)\n",
    "\n",
    "from snorkel.visual import *\n",
    "# print(visual_linker.document)\n",
    "visual_linker.parse_visual(match.part.parent.document)\n",
    "\n",
    "visual_linker.display_words(target=[\"BC808K\", \"complementary\", \"Empfohlene\"], page_num=2)\n"
   ]
  },
  {
   "cell_type": "code",
   "execution_count": null,
   "metadata": {
    "collapsed": false
   },
   "outputs": [],
   "source": [
    "def LF_part_neighbor_phrase_complementary(c):\n",
    "    neighbor_ngrams = set(get_neighbor_phrase_ngrams(match.part))\n",
    "    if (overlap(complementary_keys, neighbor_ngrams)):\n",
    "        return -1\n",
    "    \n",
    "    return 0\n",
    "\n",
    "LF_part_neighbor_phrase_complementary(match)"
   ]
  },
  {
   "cell_type": "code",
   "execution_count": null,
   "metadata": {
    "collapsed": true
   },
   "outputs": [],
   "source": [
    "results = []\n",
    "for lf in LFs:\n",
    "    results.append(lf.__name__, lf(candidate))"
   ]
  },
  {
   "cell_type": "code",
   "execution_count": null,
   "metadata": {
    "collapsed": false
   },
   "outputs": [],
   "source": [
    "print F_train.shape\n",
    "print F_dev.shape"
   ]
  },
  {
   "cell_type": "code",
   "execution_count": null,
   "metadata": {
    "collapsed": true
   },
   "outputs": [],
   "source": [
    "import os\n",
    "os.system('cp snorkel.db snorkel.db\\ final');"
   ]
  },
  {
   "cell_type": "code",
   "execution_count": null,
   "metadata": {
    "collapsed": true
   },
   "outputs": [],
   "source": []
  },
  {
   "cell_type": "code",
   "execution_count": null,
   "metadata": {
    "collapsed": false
   },
   "outputs": [],
   "source": []
  },
  {
   "cell_type": "code",
   "execution_count": null,
   "metadata": {
    "collapsed": true
   },
   "outputs": [],
   "source": []
  }
 ],
 "metadata": {
  "anaconda-cloud": {},
  "kernelspec": {
   "display_name": "Python 2",
   "language": "python",
   "name": "python2"
  },
  "language_info": {
   "codemirror_mode": {
    "name": "ipython",
    "version": 2
   },
   "file_extension": ".py",
   "mimetype": "text/x-python",
   "name": "python",
   "nbconvert_exporter": "python",
   "pygments_lexer": "ipython2",
   "version": "2.7.12"
  }
 },
 "nbformat": 4,
 "nbformat_minor": 1
}
