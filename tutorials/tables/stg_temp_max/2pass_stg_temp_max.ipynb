{
 "cells": [
  {
   "cell_type": "markdown",
   "metadata": {},
   "source": [
    "# STG_TEMP_MAX_2Pass"
   ]
  },
  {
   "cell_type": "markdown",
   "metadata": {},
   "source": [
    "## Setup"
   ]
  },
  {
   "cell_type": "code",
   "execution_count": null,
   "metadata": {
    "collapsed": false
   },
   "outputs": [],
   "source": [
    "# If necessary:\n",
    "import os\n",
    "os.remove('snorkel.db')"
   ]
  },
  {
   "cell_type": "code",
   "execution_count": null,
   "metadata": {
    "collapsed": false
   },
   "outputs": [],
   "source": [
    "%load_ext autoreload\n",
    "%autoreload 2\n",
    "%matplotlib inline\n",
    "\n",
    "import os\n",
    "import sys\n",
    "sys.path.append(os.environ['SNORKELHOME'] + '/tutorials/tables/')"
   ]
  },
  {
   "cell_type": "markdown",
   "metadata": {},
   "source": [
    "## Parsing"
   ]
  },
  {
   "cell_type": "code",
   "execution_count": null,
   "metadata": {
    "collapsed": false
   },
   "outputs": [],
   "source": [
    "from snorkel import SnorkelSession\n",
    "session = SnorkelSession()"
   ]
  },
  {
   "cell_type": "markdown",
   "metadata": {},
   "source": [
    "### Define Parser"
   ]
  },
  {
   "cell_type": "code",
   "execution_count": null,
   "metadata": {
    "collapsed": false
   },
   "outputs": [],
   "source": [
    "import os\n",
    "from snorkel.parser import CorpusParser, HTMLParser, OmniParser\n",
    "from snorkel.utils import get_ORM_instance\n",
    "from snorkel.queries import split_corpus\n",
    "\n",
    "html_path = os.environ['SNORKELHOME'] + '/tutorials/tables/data/hardware/hardware100_html/'\n",
    "pdf_path  = os.environ['SNORKELHOME'] + '/tutorials/tables/data/hardware/hardware100_pdf/'\n",
    "doc_parser = HTMLParser(path=html_path)\n",
    "context_parser = OmniParser(pdf_path=pdf_path, session=session, visual=True)\n",
    "cp = CorpusParser(doc_parser, context_parser, max_docs=100) "
   ]
  },
  {
   "cell_type": "markdown",
   "metadata": {},
   "source": [
    "### Run Parser"
   ]
  },
  {
   "cell_type": "code",
   "execution_count": null,
   "metadata": {
    "collapsed": false,
    "scrolled": true
   },
   "outputs": [],
   "source": [
    "%time corpus = cp.parse_corpus(name='Hardware', session=session)\n",
    "\n",
    "session.add(corpus)\n",
    "session.commit()"
   ]
  },
  {
   "cell_type": "markdown",
   "metadata": {},
   "source": [
    "### Split Corpus"
   ]
  },
  {
   "cell_type": "code",
   "execution_count": null,
   "metadata": {
    "collapsed": false
   },
   "outputs": [],
   "source": [
    "from snorkel.models import Corpus\n",
    "\n",
    "corpus = get_ORM_instance(Corpus, session, 'Hardware')\n",
    "split_corpus(session, corpus, train=0.8, development=0.2, test=0, seed=3)"
   ]
  },
  {
   "cell_type": "code",
   "execution_count": null,
   "metadata": {
    "collapsed": true
   },
   "outputs": [],
   "source": [
    "# If necessary\n",
    "import os\n",
    "os.system('cp snorkel.db snorkel.db\\ corpus');"
   ]
  },
  {
   "cell_type": "markdown",
   "metadata": {},
   "source": [
    "## Extraction"
   ]
  },
  {
   "cell_type": "code",
   "execution_count": null,
   "metadata": {
    "collapsed": false
   },
   "outputs": [],
   "source": [
    "# If necessary:\n",
    "import os\n",
    "os.remove('snorkel.db');\n",
    "os.system('cp snorkel.db\\ corpus snorkel.db');\n",
    "\n",
    "%load_ext autoreload\n",
    "%autoreload 2\n",
    "%matplotlib inline\n",
    "\n",
    "import sys\n",
    "sys.path.append(os.environ['SNORKELHOME'] + '/tutorials/tables/')\n",
    "\n",
    "from snorkel import SnorkelSession\n",
    "session = SnorkelSession()"
   ]
  },
  {
   "cell_type": "code",
   "execution_count": null,
   "metadata": {
    "collapsed": true
   },
   "outputs": [],
   "source": [
    "from snorkel.models import candidate_subclass\n",
    "\n",
    "Part_Temp = candidate_subclass('Part_Temp', ['part','temp'])"
   ]
  },
  {
   "cell_type": "markdown",
   "metadata": {},
   "source": [
    "### Define Matchers"
   ]
  },
  {
   "cell_type": "code",
   "execution_count": null,
   "metadata": {
    "collapsed": false
   },
   "outputs": [],
   "source": [
    "from snorkel.matchers import RegexMatchSpan, Union\n",
    "\n",
    "eeca_rgx = ur'([b]{1}[abcdefklnpqruyz]{1}[\\swxyz]?[0-9]{3,5}[\\s]?[A-Z]{0,2}[\\/]?[A-Z]{0,2}[0-9]?[A-Z]?([(\\-|\\u2010|\\u2011|\\u2012|\\u2013|\\u2014|\\u2212)][A-Z0-9]{1,7})?([(\\-|\\u2010|\\u2011|\\u2012|\\u2013|\\u2014|\\u2212)][A-Z0-9]{1,2})?)'\n",
    "eeca_matcher = RegexMatchSpan(rgx=eeca_rgx, longest_match_only=True)\n",
    "jedec_rgx = '([123]N\\d{3,4}[A-Z]{0,5}[0-9]?[A-Z]?)'\n",
    "jedec_matcher = RegexMatchSpan(rgx=jedec_rgx, longest_match_only=True)\n",
    "jis_rgx = '(2S[abcdefghjkmqrstvz]{1}[\\d]{2,4})'\n",
    "jis_matcher = RegexMatchSpan(rgx=jis_rgx, longest_match_only=True)\n",
    "others_rgx = '((NSVBC|SMBT|MJ|MJE|MPS|MRF|RCA|TIP|ZTX|ZT|TIS|TIPL|DTC|MMBT|PZT){1}[\\d]{2,4}[A-Z]{0,3}([-][A-Z0-9]{0,6})?([-][A-Z0-9]{0,1})?)'\n",
    "others_matcher = RegexMatchSpan(rgx=others_rgx, longest_match_only=True)\n",
    "# parts_rgx = '|'.join([eeca_rgx, jedec_rgx, jis_rgx, others_rgx])\n",
    "parts_matcher = Union(eeca_matcher, jedec_matcher, jis_matcher, others_matcher)\n",
    "\n",
    "temp_matcher = RegexMatchSpan(rgx=r'1[4-6]0', longest_match_only=False)"
   ]
  },
  {
   "cell_type": "code",
   "execution_count": null,
   "metadata": {
    "collapsed": false
   },
   "outputs": [],
   "source": [
    "# import re\n",
    "# part_finder = re.compile(parts_rgx, re.I)\n",
    "# print any([part_finder.match(x) for x in ['blue', 'red', 'black', 'green']])\n",
    "# print any([part_finder.match(x) for x in ['blue', 'red', 'BC546A', 'green']])"
   ]
  },
  {
   "cell_type": "markdown",
   "metadata": {},
   "source": [
    "### Define ContextSpaces"
   ]
  },
  {
   "cell_type": "code",
   "execution_count": null,
   "metadata": {
    "collapsed": false
   },
   "outputs": [],
   "source": [
    "from hardware_utils import get_gold_dict, get_first_pass_dict, OmniNgramsPart, OmniNgramsTemp, merge_two_dicts\n",
    "from collections import defaultdict\n",
    "from snorkel.candidates import OmniNgrams\n",
    "from snorkel.utils import get_ORM_instance\n",
    "from snorkel.models import Corpus\n",
    "\n",
    "eeca_suffix = '^(A|B|C|-16|-25|-40|16|25|40)$'\n",
    "suffix_matcher = RegexMatchSpan(rgx=eeca_suffix, ignore_case=False)\n",
    "suffix_ngrams = OmniNgrams(n_max=1)\n",
    "part_ngrams = OmniNgramsPart(n_max=5)\n",
    "\n",
    "\n",
    "dev_corpus = get_ORM_instance(Corpus, session, \"Hardware Development\")\n",
    "\n",
    "train_corpus = get_ORM_instance(Corpus, session, \"Hardware Training\")\n",
    "\n",
    "\n",
    "parts_dev, s_dev, p_dev = get_first_pass_dict(dev_corpus.documents, parts_matcher=parts_matcher, part_ngrams=part_ngrams, suffix_matcher=suffix_matcher, suffix_ngrams=suffix_ngrams)      \n",
    "\n",
    "parts_train, s_train, p_train = get_first_pass_dict(train_corpus.documents, parts_matcher=parts_matcher, part_ngrams=part_ngrams, suffix_matcher=suffix_matcher, suffix_ngrams=suffix_ngrams)  \n",
    "\n",
    "parts_by_doc = merge_two_dicts(parts_dev, parts_train)"
   ]
  },
  {
   "cell_type": "code",
   "execution_count": null,
   "metadata": {
    "collapsed": true
   },
   "outputs": [],
   "source": [
    "import pickle\n",
    "filename = '1stpass.pkl'\n",
    "with open(filename, 'w') as f:\n",
    "    pickle.dump(parts_by_doc, f)\n",
    "    \n",
    "# import pickle\n",
    "# filename = '1stpass.pkl'\n",
    "# with open(filename, 'r') as f:\n",
    "#     parts_by_doc = pickle.load(f)\n"
   ]
  },
  {
   "cell_type": "code",
   "execution_count": null,
   "metadata": {
    "collapsed": false
   },
   "outputs": [],
   "source": [
    "from hardware_utils import OmniNgramsPart, OmniNgramsTemp\n",
    "\n",
    "part_ngrams = OmniNgramsPart(parts_by_doc=parts_by_doc, n_max=5)\n",
    "\n",
    "# TODO: This is missing the current represented as an Amp rather than a milliamp\n",
    "temp_ngrams = OmniNgramsTemp(n_max=2)"
   ]
  },
  {
   "cell_type": "markdown",
   "metadata": {},
   "source": [
    "### Define Throttler"
   ]
  },
  {
   "cell_type": "code",
   "execution_count": null,
   "metadata": {
    "collapsed": false
   },
   "outputs": [],
   "source": [
    "from snorkel.lf_helpers import *\n",
    "\n",
    "def part_throttler((part_span, attr_span)):\n",
    "    \"\"\"\n",
    "    Keep only those candidates where both spans are on the same page and\n",
    "    either aligned in the same table (visually or structurally) or the part is global.\n",
    "    \"\"\"\n",
    "    # TODO: Write this in an easier to tweak way. No reason to try and\n",
    "    # cram it all into a single return statement.\n",
    "#     return(\n",
    "#         same_page((part_span, attr_span)) or\n",
    "#         (part_span.parent.table is None))\n",
    "\n",
    "    return True\n",
    "\n",
    "#     if (not part_span.has_visual_features() or not attr_span.has_visual_features()):\n",
    "#         import pdb; pdb.set_trace()\n",
    "\n",
    "#     return(part_span.parent.table is None or\n",
    "#            same_table((part_span, attr_span)))\n"
   ]
  },
  {
   "cell_type": "markdown",
   "metadata": {},
   "source": [
    "### Run CandidateExtractor"
   ]
  },
  {
   "cell_type": "code",
   "execution_count": null,
   "metadata": {
    "collapsed": false,
    "scrolled": true
   },
   "outputs": [],
   "source": [
    "from snorkel.models import Corpus\n",
    "from snorkel.candidates import CandidateExtractor\n",
    "from snorkel.utils import get_ORM_instance\n",
    "\n",
    "\n",
    "ce = CandidateExtractor(Part_Temp, \n",
    "                        [part_ngrams, temp_ngrams], \n",
    "                        [parts_matcher, temp_matcher],\n",
    "                        throttler=None)\n",
    "\n",
    "for corpus_name in ['Hardware Training', 'Hardware Development']:\n",
    "    corpus = get_ORM_instance(Corpus, session, corpus_name)\n",
    "    print \"Extracting Candidates from %s\" % corpus\n",
    "    %time candidates = ce.extract(\\\n",
    "        corpus.documents, corpus_name + ' Candidates', session)\n",
    "    session.add(candidates)\n",
    "    print \"%s contains %d Candidates\" % (candidates, len(candidates))\n",
    "session.commit()"
   ]
  },
  {
   "cell_type": "markdown",
   "metadata": {},
   "source": [
    "### Assess Recall"
   ]
  },
  {
   "cell_type": "code",
   "execution_count": null,
   "metadata": {
    "collapsed": false
   },
   "outputs": [],
   "source": [
    "from hardware_utils import entity_level_total_recall, most_common_document, get_gold_dict\n",
    "from snorkel.utils import get_ORM_instance\n",
    "from snorkel.models import Candidate, Corpus\n",
    "\n",
    "all_candidates = session.query(Candidate).all()\n",
    "gold_file = os.environ['SNORKELHOME'] + '/tutorials/tables/data/hardware/hardware_gold.csv'\n",
    "\n",
    "corpus = get_ORM_instance(Corpus, session, 'Hardware')\n",
    "(tp, fp, fn) = entity_level_total_recall(\n",
    "    all_candidates, gold_file, 'stg_temp_max', corpus=corpus, relation=True, integerize=True)\n",
    "print len(tp)\n",
    "print len(fp)\n",
    "print len(fn)"
   ]
  },
  {
   "cell_type": "code",
   "execution_count": null,
   "metadata": {
    "collapsed": false
   },
   "outputs": [],
   "source": [
    "from pprint import pprint\n",
    "fns = list(fn)\n",
    "pprint(sorted(fns)[:40])\n",
    "pprint(sorted(parts_by_doc[\"PHGLS18216-1\"]))"
   ]
  },
  {
   "cell_type": "code",
   "execution_count": null,
   "metadata": {
    "collapsed": false
   },
   "outputs": [],
   "source": [
    "# corpus = get_ORM_instance(Corpus, session, 'Hardware Training')\n",
    "# for document in corpus.documents:\n",
    "# #     print document.name\n",
    "#     if document.name == 'MOTOS03160-1':\n",
    "#         doc = document\n",
    "# print doc"
   ]
  },
  {
   "cell_type": "code",
   "execution_count": null,
   "metadata": {
    "collapsed": false
   },
   "outputs": [],
   "source": [
    "# for c in all_candidates:\n",
    "#     if c.part.get_span()=='BC183' and c.part.parent.document.name=='MOTOS03160-1':\n",
    "#         print c"
   ]
  },
  {
   "cell_type": "code",
   "execution_count": null,
   "metadata": {
    "collapsed": false
   },
   "outputs": [],
   "source": [
    "# for phrase in doc.phrases:\n",
    "#     if 'BC183' in phrase.words:\n",
    "#         print phrase"
   ]
  },
  {
   "cell_type": "code",
   "execution_count": null,
   "metadata": {
    "collapsed": true
   },
   "outputs": [],
   "source": [
    "# If necessary\n",
    "import os\n",
    "os.system('cp snorkel.db snorkel.db\\ candidates');"
   ]
  },
  {
   "cell_type": "markdown",
   "metadata": {},
   "source": [
    "## Gold Labels"
   ]
  },
  {
   "cell_type": "code",
   "execution_count": 1,
   "metadata": {
    "collapsed": false
   },
   "outputs": [],
   "source": [
    "# If necessary\n",
    "import os\n",
    "os.remove('snorkel.db');\n",
    "os.system('cp snorkel.db\\ candidates snorkel.db');\n",
    "\n",
    "%load_ext autoreload\n",
    "%autoreload 2\n",
    "%matplotlib inline\n",
    "\n",
    "import sys\n",
    "sys.path.append(os.environ['SNORKELHOME'] + '/tutorials/tables/')\n",
    "\n",
    "from snorkel import SnorkelSession\n",
    "session = SnorkelSession()\n",
    "\n",
    "from snorkel.models import candidate_subclass\n",
    "Part_Temp = candidate_subclass('Part_Temp', ['part','temp'])"
   ]
  },
  {
   "cell_type": "code",
   "execution_count": 2,
   "metadata": {
    "collapsed": false
   },
   "outputs": [
    {
     "name": "stdout",
     "output_type": "stream",
     "text": [
      "Loading 115992 candidate labels\n",
      "[========================================] 100%\n",
      "CPU times: user 2min 55s, sys: 636 ms, total: 2min 56s\n",
      "Wall time: 2min 56s\n",
      "80250/115992 Candidates in Candidate Set (Hardware Training Candidates) have positive Labels\n",
      "Loading 23437 candidate labels\n",
      "[========================================] 100%\n",
      "CPU times: user 36.8 s, sys: 160 ms, total: 36.9 s\n",
      "Wall time: 36.8 s\n",
      "11538/23437 Candidates in Candidate Set (Hardware Development Candidates) have positive Labels\n"
     ]
    }
   ],
   "source": [
    "import os\n",
    "from snorkel.models import CandidateSet\n",
    "from hardware_utils import load_hardware_labels\n",
    "\n",
    "gold_file = os.environ['SNORKELHOME'] + '/tutorials/tables/data/hardware/hardware_gold.csv'\n",
    "for set_name in ['Training', 'Development']:\n",
    "    candidate_set_name = 'Hardware %s Candidates' % set_name\n",
    "    candidates = session.query(CandidateSet).filter(\n",
    "        CandidateSet.name == candidate_set_name).one()\n",
    "    label_set_name = 'Hardware %s Candidates -- Gold' % set_name\n",
    "    annotation_key_name = 'Hardware %s Labels -- Gold' % set_name\n",
    "    %time gold_candidates, annotation_key = load_hardware_labels(session,\\\n",
    "                           label_set_name, \\\n",
    "                           annotation_key_name, \\\n",
    "                           candidates, \\\n",
    "                           gold_file, \\\n",
    "                           attrib='stg_temp_max')\n",
    "    candidates_gold = session.query(CandidateSet).filter(\n",
    "        CandidateSet.name == candidate_set_name + ' -- Gold').one()\n",
    "    print \"%d/%d Candidates in %s have positive Labels\" % (\n",
    "        len(candidates_gold), len(candidates), candidates)"
   ]
  },
  {
   "cell_type": "code",
   "execution_count": 3,
   "metadata": {
    "collapsed": true
   },
   "outputs": [],
   "source": [
    "# If necessary\n",
    "import os\n",
    "os.system('cp snorkel.db snorkel.db\\ labels');"
   ]
  },
  {
   "cell_type": "markdown",
   "metadata": {},
   "source": [
    "## Features"
   ]
  },
  {
   "cell_type": "code",
   "execution_count": 1,
   "metadata": {
    "collapsed": false
   },
   "outputs": [],
   "source": [
    "# If necessary:\n",
    "import os\n",
    "os.remove('snorkel.db');\n",
    "os.system('cp snorkel.db\\ labels snorkel.db');\n",
    "\n",
    "%load_ext autoreload\n",
    "%autoreload 2\n",
    "%matplotlib inline\n",
    "\n",
    "import sys\n",
    "sys.path.append(os.environ['SNORKELHOME'] + '/tutorials/tables/')\n",
    "\n",
    "from snorkel import SnorkelSession\n",
    "session = SnorkelSession()\n",
    "\n",
    "from snorkel.models import candidate_subclass\n",
    "Part_Temp = candidate_subclass('Part_Temp', ['part','temp'])"
   ]
  },
  {
   "cell_type": "markdown",
   "metadata": {},
   "source": [
    "### Extract Features"
   ]
  },
  {
   "cell_type": "code",
   "execution_count": 2,
   "metadata": {
    "collapsed": false
   },
   "outputs": [
    {
     "name": "stdout",
     "output_type": "stream",
     "text": [
      "[========================================] 100%\n",
      "Bulk upserting 8694219 annotations...\n",
      "Done.\n",
      "Loading sparse Feature matrix...\n",
      "CPU times: user 17min 43s, sys: 2min 3s, total: 19min 47s\n",
      "Wall time: 19min 46s\n",
      "[========================================] 100%\n",
      "Bulk upserting 1774002 annotations...\n",
      "Done.\n",
      "Loading sparse Feature matrix...\n",
      "CPU times: user 4min 31s, sys: 36.3 s, total: 5min 7s\n",
      "Wall time: 5min 7s\n"
     ]
    }
   ],
   "source": [
    "from snorkel.models import CandidateSet\n",
    "from snorkel.fast_annotations import FeatureManager\n",
    "from snorkel.utils import get_ORM_instance\n",
    "\n",
    "train = get_ORM_instance(CandidateSet, session, 'Hardware Training Candidates')\n",
    "dev   = get_ORM_instance(CandidateSet, session, 'Hardware Development Candidates')\n",
    "\n",
    "feature_manager = FeatureManager()\n",
    "%time F_train = feature_manager.create(session, train, 'Train Features')\n",
    "%time F_dev = feature_manager.update(session, dev, 'Train Features', expand_key_set=False)"
   ]
  },
  {
   "cell_type": "code",
   "execution_count": 3,
   "metadata": {
    "collapsed": true
   },
   "outputs": [],
   "source": [
    "# If necessary:\n",
    "import os\n",
    "os.system('cp snorkel.db snorkel.db\\ featurized');"
   ]
  },
  {
   "cell_type": "markdown",
   "metadata": {},
   "source": [
    "## LFs"
   ]
  },
  {
   "cell_type": "code",
   "execution_count": 1,
   "metadata": {
    "collapsed": false
   },
   "outputs": [],
   "source": [
    "# If necessary\n",
    "import os\n",
    "os.remove('snorkel.db');\n",
    "os.system('cp snorkel.db\\ featurized snorkel.db');\n",
    "\n",
    "%load_ext autoreload\n",
    "%autoreload 2\n",
    "%matplotlib inline\n",
    "\n",
    "import sys\n",
    "sys.path.append(os.environ['SNORKELHOME'] + '/tutorials/tables/')\n",
    "\n",
    "from snorkel import SnorkelSession\n",
    "session = SnorkelSession()\n",
    "\n",
    "from snorkel.models import candidate_subclass\n",
    "Part_Temp = candidate_subclass('Part_Temp', ['part','temp'])\n",
    "from snorkel.models import CandidateSet\n",
    "train = session.query(CandidateSet).filter(\n",
    "    CandidateSet.name == 'Hardware Training Candidates').one()\n",
    "dev = session.query(CandidateSet).filter(\n",
    "    CandidateSet.name == 'Hardware Development Candidates').one()"
   ]
  },
  {
   "cell_type": "markdown",
   "metadata": {},
   "source": [
    "### Define LFs"
   ]
  },
  {
   "cell_type": "code",
   "execution_count": 2,
   "metadata": {
    "collapsed": false
   },
   "outputs": [],
   "source": [
    "from snorkel.fast_annotations import LabelManager\n",
    "from snorkel.lf_helpers import *\n",
    "label_manager = LabelManager()\n",
    "\n",
    "LFs = []\n",
    "\n",
    "\n",
    "###################################################################\n",
    "# POSITIVE\n",
    "###################################################################\n",
    "def LF_storage_row(c):\n",
    "    return 1 if 'storage' in get_row_ngrams(c.temp) else 0\n",
    "LFs.append(LF_storage_row)\n",
    "\n",
    "def LF_operating_row(c):\n",
    "    return 1 if 'operating' in get_row_ngrams(c.temp) else 0\n",
    "LFs.append(LF_operating_row)\n",
    "\n",
    "def LF_temperature_row(c):\n",
    "    return 1 if 'temperature' in get_row_ngrams(c.temp) else 0\n",
    "LFs.append(LF_temperature_row)\n",
    "\n",
    "def LF_to_left(c):\n",
    "    return 1 if 'to' in get_left_ngrams(c.temp, window=2) else 0\n",
    "LFs.append(LF_to_left)\n",
    "\n",
    "def LF_negative_left(c):\n",
    "    return 1 if any([re.match(r'-\\s*\\d+', ngram) for ngram in get_left_ngrams(c.temp, window=4)]) else 0\n",
    "LFs.append(LF_negative_left)\n",
    "\n",
    "def LF_tstg_row(c):\n",
    "    return 1 if overlap(\n",
    "        ['tstg','stg','ts'], \n",
    "        list(get_row_ngrams(c.temp))) else 0\n",
    "LFs.append(LF_tstg_row)\n",
    "pos_keys = set(['tstg', 'stg']) # 'value', 'rating'\n",
    "\n",
    "\n",
    "###################################################################\n",
    "# NEGATIVE\n",
    "###################################################################\n",
    "\n",
    "def LF_not_temp_relevant(c):\n",
    "    return -1 if not overlap(\n",
    "        ['storage','temperature','tstg','ts','stg'],\n",
    "        list(get_aligned_ngrams(c.temp))) else 0\n",
    "LFs.append(LF_not_temp_relevant)\n",
    "\n",
    "# def LF_temp_outside_table(c):\n",
    "#     return -1 if c.temp.parent.table is None else 0\n",
    "# LFs.append(LF_temp_outside_table)\n",
    "\n",
    "def LF_too_many_numbers_row(c):\n",
    "    num_numbers = list(get_row_ngrams(c.temp, attrib=\"ner_tags\")).count('number')\n",
    "    return -1 if num_numbers >= 3 else 0\n",
    "LFs.append(LF_too_many_numbers_row)\n",
    "\n",
    "def LF_high_table_num(c):\n",
    "    return -1 if (c.temp.parent.table and\n",
    "        c.temp.parent.table.position > 4) else 0\n",
    "LFs.append(LF_high_table_num)\n",
    "\n",
    "def LF_equals_in_row(c):\n",
    "    return -1 if overlap('=', get_row_ngrams(c.temp)) else 0\n",
    "LFs.append(LF_equals_in_row)\n",
    "\n",
    "complementary_keys = set(['empfohlene', 'recommended', 'complementary', 'full', 'line', 'production'])\n",
    "def LF_complementary_keywords_part(c):\n",
    "    return -1 if overlap(complementary_keys, get_row_ngrams(c.part)) else 0\n",
    "LFs.append(LF_complementary_keywords_part)\n",
    "\n",
    "def LF_i_in_row(c):\n",
    "    return -1 if overlap('i', get_row_ngrams(c.temp)) else 0\n",
    "LFs.append(LF_i_in_row)\n",
    "\n",
    "def LF_collector_aligned(c):\n",
    "    return -1 if overlap(\n",
    "        ['collector', 'collector-current', 'collector-base', 'collector-emitter'],\n",
    "        list(get_aligned_ngrams(c.temp))) else 0\n",
    "LFs.append(LF_collector_aligned)\n",
    "\n",
    "def LF_current_aligned(c):\n",
    "    ngrams = get_aligned_ngrams(c.temp)\n",
    "    return -1 if overlap(\n",
    "        ['current', 'dc', 'ic'],\n",
    "        list(get_aligned_ngrams(c.temp))) else 0\n",
    "LFs.append(LF_current_aligned)\n",
    "\n",
    "def LF_voltage_row_temp(c):\n",
    "    ngrams = get_aligned_ngrams(c.temp)\n",
    "    return -1 if overlap(\n",
    "        ['voltage', 'cbo', 'ceo', 'ebo', 'v'],\n",
    "        list(get_aligned_ngrams(c.temp))) else 0\n",
    "LFs.append(LF_voltage_row_temp)\n",
    "\n",
    "def LF_voltage_row_part(c):\n",
    "    ngrams = get_aligned_ngrams(c.part)\n",
    "    return -1 if overlap(\n",
    "        ['voltage', 'cbo', 'ceo', 'ebo', 'v'],\n",
    "        list(get_aligned_ngrams(c.temp))) else 0\n",
    "LFs.append(LF_voltage_row_part)\n",
    "\n",
    "def LF_test_condition_aligned(c):\n",
    "    return -1 if overlap(\n",
    "        ['test', 'condition'],\n",
    "        list(get_aligned_ngrams(c.temp))) else 0\n",
    "LFs.append(LF_test_condition_aligned)\n",
    "\n",
    "def LF_typ_row(c):\n",
    "    return -1 if overlap(\n",
    "        ['typ', 'typ.'],\n",
    "        list(get_row_ngrams(c.temp))) else 0\n",
    "LFs.append(LF_typ_row)\n",
    "\n",
    "def LF_complement_left_row(c):\n",
    "    return -1 if 'complement' in get_row_ngrams(c.part) else 0\n",
    "LFs.append(LF_complement_left_row)"
   ]
  },
  {
   "cell_type": "markdown",
   "metadata": {},
   "source": [
    "### Apply LFs"
   ]
  },
  {
   "cell_type": "code",
   "execution_count": 3,
   "metadata": {
    "collapsed": false,
    "scrolled": true
   },
   "outputs": [
    {
     "name": "stdout",
     "output_type": "stream",
     "text": [
      "[========================================] 100%\n",
      "Bulk upserting 2319840 annotations...\n",
      "Done.\n",
      "Loading sparse Label matrix...\n",
      "CPU times: user 16min 1s, sys: 1min 51s, total: 17min 52s\n",
      "Wall time: 17min 52s\n"
     ]
    },
    {
     "data": {
      "text/plain": [
       "<115992x20 sparse matrix of type '<type 'numpy.float64'>'\n",
       "\twith 436912 stored elements in Compressed Sparse Row format>"
      ]
     },
     "execution_count": 3,
     "metadata": {},
     "output_type": "execute_result"
    }
   ],
   "source": [
    "%time L_train = label_manager.create(session, train, 'LF Labels', f=LFs)\n",
    "L_train"
   ]
  },
  {
   "cell_type": "markdown",
   "metadata": {},
   "source": [
    "### Assess LF accuracy"
   ]
  },
  {
   "cell_type": "code",
   "execution_count": 4,
   "metadata": {
    "collapsed": false
   },
   "outputs": [
    {
     "name": "stdout",
     "output_type": "stream",
     "text": [
      "[========================================] 100%\n",
      "CPU times: user 2.48 s, sys: 192 ms, total: 2.68 s\n",
      "Wall time: 2.64 s\n"
     ]
    },
    {
     "data": {
      "text/html": [
       "<div>\n",
       "<table border=\"1\" class=\"dataframe\">\n",
       "  <thead>\n",
       "    <tr style=\"text-align: right;\">\n",
       "      <th></th>\n",
       "      <th>accuracy</th>\n",
       "      <th>conflicts</th>\n",
       "      <th>coverage</th>\n",
       "      <th>j</th>\n",
       "      <th>overlaps</th>\n",
       "    </tr>\n",
       "  </thead>\n",
       "  <tbody>\n",
       "    <tr>\n",
       "      <th>LF_storage_row</th>\n",
       "      <td>0.747735</td>\n",
       "      <td>0.148424</td>\n",
       "      <td>0.148424</td>\n",
       "      <td>0</td>\n",
       "      <td>0.148424</td>\n",
       "    </tr>\n",
       "    <tr>\n",
       "      <th>LF_operating_row</th>\n",
       "      <td>0.818354</td>\n",
       "      <td>0.045469</td>\n",
       "      <td>0.045469</td>\n",
       "      <td>1</td>\n",
       "      <td>0.045469</td>\n",
       "    </tr>\n",
       "    <tr>\n",
       "      <th>LF_temperature_row</th>\n",
       "      <td>0.755053</td>\n",
       "      <td>0.249509</td>\n",
       "      <td>0.249509</td>\n",
       "      <td>2</td>\n",
       "      <td>0.249509</td>\n",
       "    </tr>\n",
       "    <tr>\n",
       "      <th>LF_to_left</th>\n",
       "      <td>0.766785</td>\n",
       "      <td>0.111715</td>\n",
       "      <td>0.111715</td>\n",
       "      <td>3</td>\n",
       "      <td>0.111715</td>\n",
       "    </tr>\n",
       "    <tr>\n",
       "      <th>LF_negative_left</th>\n",
       "      <td>0.745315</td>\n",
       "      <td>0.101214</td>\n",
       "      <td>0.101214</td>\n",
       "      <td>4</td>\n",
       "      <td>0.101214</td>\n",
       "    </tr>\n",
       "    <tr>\n",
       "      <th>LF_tstg_row</th>\n",
       "      <td>0.803655</td>\n",
       "      <td>0.125491</td>\n",
       "      <td>0.125491</td>\n",
       "      <td>5</td>\n",
       "      <td>0.125491</td>\n",
       "    </tr>\n",
       "    <tr>\n",
       "      <th>LF_not_temp_relevant</th>\n",
       "      <td>0.330746</td>\n",
       "      <td>0.017225</td>\n",
       "      <td>0.746250</td>\n",
       "      <td>6</td>\n",
       "      <td>0.742775</td>\n",
       "    </tr>\n",
       "    <tr>\n",
       "      <th>LF_temp_outside_table</th>\n",
       "      <td>0.342132</td>\n",
       "      <td>0.017346</td>\n",
       "      <td>0.461187</td>\n",
       "      <td>7</td>\n",
       "      <td>0.461187</td>\n",
       "    </tr>\n",
       "    <tr>\n",
       "      <th>LF_too_many_numbers_row</th>\n",
       "      <td>0.323004</td>\n",
       "      <td>0.017312</td>\n",
       "      <td>0.209764</td>\n",
       "      <td>8</td>\n",
       "      <td>0.209764</td>\n",
       "    </tr>\n",
       "    <tr>\n",
       "      <th>LF_high_table_num</th>\n",
       "      <td>0.274370</td>\n",
       "      <td>0.249388</td>\n",
       "      <td>0.535339</td>\n",
       "      <td>9</td>\n",
       "      <td>0.535339</td>\n",
       "    </tr>\n",
       "    <tr>\n",
       "      <th>LF_equals_in_row</th>\n",
       "      <td>0.281148</td>\n",
       "      <td>0.002655</td>\n",
       "      <td>0.465825</td>\n",
       "      <td>10</td>\n",
       "      <td>0.465825</td>\n",
       "    </tr>\n",
       "    <tr>\n",
       "      <th>LF_complementary_keywords_part</th>\n",
       "      <td>0.992593</td>\n",
       "      <td>0.004035</td>\n",
       "      <td>0.009311</td>\n",
       "      <td>11</td>\n",
       "      <td>0.009311</td>\n",
       "    </tr>\n",
       "    <tr>\n",
       "      <th>LF_i_in_row</th>\n",
       "      <td>0.302631</td>\n",
       "      <td>0.000000</td>\n",
       "      <td>0.115689</td>\n",
       "      <td>12</td>\n",
       "      <td>0.115689</td>\n",
       "    </tr>\n",
       "    <tr>\n",
       "      <th>LF_collector_aligned</th>\n",
       "      <td>0.036088</td>\n",
       "      <td>0.000000</td>\n",
       "      <td>0.007406</td>\n",
       "      <td>13</td>\n",
       "      <td>0.007406</td>\n",
       "    </tr>\n",
       "    <tr>\n",
       "      <th>LF_current_aligned</th>\n",
       "      <td>0.254027</td>\n",
       "      <td>0.000000</td>\n",
       "      <td>0.070117</td>\n",
       "      <td>14</td>\n",
       "      <td>0.070117</td>\n",
       "    </tr>\n",
       "    <tr>\n",
       "      <th>LF_voltage_row_temp</th>\n",
       "      <td>0.297894</td>\n",
       "      <td>0.002862</td>\n",
       "      <td>0.152286</td>\n",
       "      <td>15</td>\n",
       "      <td>0.152286</td>\n",
       "    </tr>\n",
       "    <tr>\n",
       "      <th>LF_voltage_row_part</th>\n",
       "      <td>0.297894</td>\n",
       "      <td>0.002862</td>\n",
       "      <td>0.152286</td>\n",
       "      <td>16</td>\n",
       "      <td>0.152286</td>\n",
       "    </tr>\n",
       "    <tr>\n",
       "      <th>LF_test_condition_aligned</th>\n",
       "      <td>0.297774</td>\n",
       "      <td>0.000000</td>\n",
       "      <td>0.020527</td>\n",
       "      <td>17</td>\n",
       "      <td>0.020527</td>\n",
       "    </tr>\n",
       "    <tr>\n",
       "      <th>LF_typ_row</th>\n",
       "      <td>0.457792</td>\n",
       "      <td>0.000000</td>\n",
       "      <td>0.026554</td>\n",
       "      <td>18</td>\n",
       "      <td>0.026554</td>\n",
       "    </tr>\n",
       "    <tr>\n",
       "      <th>LF_complement_left_row</th>\n",
       "      <td>1.000000</td>\n",
       "      <td>0.008095</td>\n",
       "      <td>0.012380</td>\n",
       "      <td>19</td>\n",
       "      <td>0.012380</td>\n",
       "    </tr>\n",
       "  </tbody>\n",
       "</table>\n",
       "</div>"
      ],
      "text/plain": [
       "                                accuracy  conflicts  coverage   j  overlaps\n",
       "LF_storage_row                  0.747735   0.148424  0.148424   0  0.148424\n",
       "LF_operating_row                0.818354   0.045469  0.045469   1  0.045469\n",
       "LF_temperature_row              0.755053   0.249509  0.249509   2  0.249509\n",
       "LF_to_left                      0.766785   0.111715  0.111715   3  0.111715\n",
       "LF_negative_left                0.745315   0.101214  0.101214   4  0.101214\n",
       "LF_tstg_row                     0.803655   0.125491  0.125491   5  0.125491\n",
       "LF_not_temp_relevant            0.330746   0.017225  0.746250   6  0.742775\n",
       "LF_temp_outside_table           0.342132   0.017346  0.461187   7  0.461187\n",
       "LF_too_many_numbers_row         0.323004   0.017312  0.209764   8  0.209764\n",
       "LF_high_table_num               0.274370   0.249388  0.535339   9  0.535339\n",
       "LF_equals_in_row                0.281148   0.002655  0.465825  10  0.465825\n",
       "LF_complementary_keywords_part  0.992593   0.004035  0.009311  11  0.009311\n",
       "LF_i_in_row                     0.302631   0.000000  0.115689  12  0.115689\n",
       "LF_collector_aligned            0.036088   0.000000  0.007406  13  0.007406\n",
       "LF_current_aligned              0.254027   0.000000  0.070117  14  0.070117\n",
       "LF_voltage_row_temp             0.297894   0.002862  0.152286  15  0.152286\n",
       "LF_voltage_row_part             0.297894   0.002862  0.152286  16  0.152286\n",
       "LF_test_condition_aligned       0.297774   0.000000  0.020527  17  0.020527\n",
       "LF_typ_row                      0.457792   0.000000  0.026554  18  0.026554\n",
       "LF_complement_left_row          1.000000   0.008095  0.012380  19  0.012380"
      ]
     },
     "execution_count": 4,
     "metadata": {},
     "output_type": "execute_result"
    }
   ],
   "source": [
    "train_gold = session.query(CandidateSet).filter(\n",
    "    CandidateSet.name == 'Hardware Training Candidates -- Gold').one()\n",
    "%time L_train.lf_stats(train_gold)"
   ]
  },
  {
   "cell_type": "code",
   "execution_count": 5,
   "metadata": {
    "collapsed": true
   },
   "outputs": [],
   "source": [
    "# If necessary\n",
    "import os\n",
    "os.system('cp snorkel.db snorkel.db\\ features');"
   ]
  },
  {
   "cell_type": "markdown",
   "metadata": {},
   "source": [
    "## Learn and Evaluate"
   ]
  },
  {
   "cell_type": "code",
   "execution_count": 1,
   "metadata": {
    "collapsed": false
   },
   "outputs": [],
   "source": [
    "# If necessary:\n",
    "import os\n",
    "os.remove('snorkel.db');\n",
    "os.system('cp snorkel.db\\ features snorkel.db');\n",
    "\n",
    "%load_ext autoreload\n",
    "%autoreload 2\n",
    "%matplotlib inline\n",
    "\n",
    "import sys\n",
    "sys.path.append(os.environ['SNORKELHOME'] + '/tutorials/tables/')\n",
    "\n",
    "from snorkel import SnorkelSession\n",
    "session = SnorkelSession()\n",
    "\n",
    "from snorkel.models import candidate_subclass\n",
    "Part_Temp = candidate_subclass('Part_Temp', ['part','temp'])"
   ]
  },
  {
   "cell_type": "code",
   "execution_count": 2,
   "metadata": {
    "collapsed": false
   },
   "outputs": [
    {
     "name": "stdout",
     "output_type": "stream",
     "text": [
      "CPU times: user 1min 30s, sys: 2.12 s, total: 1min 33s\n",
      "Wall time: 1min 32s\n",
      "CPU times: user 1min 6s, sys: 1.34 s, total: 1min 7s\n",
      "Wall time: 1min 7s\n",
      "CPU times: user 19.5 s, sys: 356 ms, total: 19.9 s\n",
      "Wall time: 19.8 s\n"
     ]
    }
   ],
   "source": [
    "from snorkel.fast_annotations import FeatureManager, LabelManager\n",
    "from snorkel.models import CandidateSet\n",
    "train = session.query(CandidateSet).filter(\n",
    "    CandidateSet.name == 'Hardware Training Candidates').one()\n",
    "dev = session.query(CandidateSet).filter(\n",
    "    CandidateSet.name == 'Hardware Development Candidates').one()\n",
    "\n",
    "feature_manager = FeatureManager()\n",
    "%time F_train = feature_manager.load(session, train, 'Train Features')\n",
    "%time F_dev = feature_manager.load(session, dev, 'Train Features')\n",
    "\n",
    "label_manager = LabelManager()\n",
    "%time L_train = label_manager.load(session, train, 'LF Labels')"
   ]
  },
  {
   "cell_type": "code",
   "execution_count": 3,
   "metadata": {
    "collapsed": false,
    "scrolled": false
   },
   "outputs": [
    {
     "name": "stderr",
     "output_type": "stream",
     "text": [
      "/home/lwhsiao/repos/snorkel/.virtualenv/local/lib/python2.7/site-packages/matplotlib/__init__.py:1357: UserWarning:  This call to matplotlib.use() has no effect\n",
      "because the backend has already been chosen;\n",
      "matplotlib.use() must be called *before* pylab, matplotlib.pyplot,\n",
      "or matplotlib.backends is imported for the first time.\n",
      "\n",
      "  warnings.warn(_use_error_msg)\n"
     ]
    },
    {
     "name": "stdout",
     "output_type": "stream",
     "text": [
      "================================================================================\n",
      "Training marginals (!= 0.5):\t115992\n",
      "Features:\t\t\t20\n",
      "================================================================================\n",
      "Begin training for rate=1e-06, mu=1e-06\n",
      "\tLearning epoch = 0\tGradient mag. = 0.597911\n",
      "\tLearning epoch = 250\tGradient mag. = 0.629228\n",
      "\tLearning epoch = 500\tGradient mag. = 0.629076\n",
      "\tLearning epoch = 750\tGradient mag. = 0.628924\n",
      "\tLearning epoch = 1000\tGradient mag. = 0.628772\n",
      "\tLearning epoch = 1250\tGradient mag. = 0.628620\n",
      "\tLearning epoch = 1500\tGradient mag. = 0.628468\n",
      "\tLearning epoch = 1750\tGradient mag. = 0.628316\n",
      "\tLearning epoch = 2000\tGradient mag. = 0.628164\n",
      "\tLearning epoch = 2250\tGradient mag. = 0.628012\n",
      "\tLearning epoch = 2500\tGradient mag. = 0.627860\n",
      "\tLearning epoch = 2750\tGradient mag. = 0.627708\n",
      "\tLearning epoch = 3000\tGradient mag. = 0.627555\n",
      "\tLearning epoch = 3250\tGradient mag. = 0.627403\n",
      "\tLearning epoch = 3500\tGradient mag. = 0.627251\n",
      "\tLearning epoch = 3750\tGradient mag. = 0.627099\n",
      "\tLearning epoch = 4000\tGradient mag. = 0.626947\n",
      "\tLearning epoch = 4250\tGradient mag. = 0.626795\n",
      "\tLearning epoch = 4500\tGradient mag. = 0.626642\n",
      "\tLearning epoch = 4750\tGradient mag. = 0.626490\n",
      "\tLearning epoch = 5000\tGradient mag. = 0.626338\n",
      "\tLearning epoch = 5250\tGradient mag. = 0.626186\n",
      "\tLearning epoch = 5500\tGradient mag. = 0.626034\n",
      "\tLearning epoch = 5750\tGradient mag. = 0.625881\n",
      "\tLearning epoch = 6000\tGradient mag. = 0.625729\n",
      "\tLearning epoch = 6250\tGradient mag. = 0.625577\n",
      "\tLearning epoch = 6500\tGradient mag. = 0.625425\n",
      "\tLearning epoch = 6750\tGradient mag. = 0.625272\n",
      "\tLearning epoch = 7000\tGradient mag. = 0.625120\n",
      "\tLearning epoch = 7250\tGradient mag. = 0.624968\n",
      "\tLearning epoch = 7500\tGradient mag. = 0.624815\n",
      "\tLearning epoch = 7750\tGradient mag. = 0.624663\n",
      "\tLearning epoch = 8000\tGradient mag. = 0.624511\n",
      "\tLearning epoch = 8250\tGradient mag. = 0.624358\n",
      "\tLearning epoch = 8500\tGradient mag. = 0.624206\n",
      "\tLearning epoch = 8750\tGradient mag. = 0.624053\n",
      "\tLearning epoch = 9000\tGradient mag. = 0.623901\n",
      "\tLearning epoch = 9250\tGradient mag. = 0.623749\n",
      "\tLearning epoch = 9500\tGradient mag. = 0.623596\n",
      "\tLearning epoch = 9750\tGradient mag. = 0.623444\n",
      "\tLearning epoch = 10000\tGradient mag. = 0.623291\n",
      "\tLearning epoch = 10250\tGradient mag. = 0.623139\n",
      "\tLearning epoch = 10500\tGradient mag. = 0.622986\n",
      "\tLearning epoch = 10750\tGradient mag. = 0.622834\n",
      "\tLearning epoch = 11000\tGradient mag. = 0.622681\n",
      "\tLearning epoch = 11250\tGradient mag. = 0.622529\n",
      "\tLearning epoch = 11500\tGradient mag. = 0.622376\n",
      "\tLearning epoch = 11750\tGradient mag. = 0.622224\n",
      "\tLearning epoch = 12000\tGradient mag. = 0.622071\n",
      "\tLearning epoch = 12250\tGradient mag. = 0.621919\n",
      "\tLearning epoch = 12500\tGradient mag. = 0.621766\n",
      "\tLearning epoch = 12750\tGradient mag. = 0.621614\n",
      "\tLearning epoch = 13000\tGradient mag. = 0.621461\n",
      "\tLearning epoch = 13250\tGradient mag. = 0.621308\n",
      "\tLearning epoch = 13500\tGradient mag. = 0.621156\n",
      "\tLearning epoch = 13750\tGradient mag. = 0.621003\n",
      "\tLearning epoch = 14000\tGradient mag. = 0.620850\n",
      "\tLearning epoch = 14250\tGradient mag. = 0.620698\n",
      "\tLearning epoch = 14500\tGradient mag. = 0.620545\n",
      "\tLearning epoch = 14750\tGradient mag. = 0.620392\n",
      "\tLearning epoch = 15000\tGradient mag. = 0.620240\n",
      "\tLearning epoch = 15250\tGradient mag. = 0.620087\n",
      "\tLearning epoch = 15500\tGradient mag. = 0.619934\n",
      "\tLearning epoch = 15750\tGradient mag. = 0.619782\n",
      "\tLearning epoch = 16000\tGradient mag. = 0.619629\n",
      "\tLearning epoch = 16250\tGradient mag. = 0.619476\n",
      "\tLearning epoch = 16500\tGradient mag. = 0.619323\n",
      "\tLearning epoch = 16750\tGradient mag. = 0.619171\n",
      "\tLearning epoch = 17000\tGradient mag. = 0.619018\n",
      "\tLearning epoch = 17250\tGradient mag. = 0.618865\n",
      "\tLearning epoch = 17500\tGradient mag. = 0.618712\n",
      "\tLearning epoch = 17750\tGradient mag. = 0.618560\n",
      "\tLearning epoch = 18000\tGradient mag. = 0.618407\n",
      "\tLearning epoch = 18250\tGradient mag. = 0.618254\n",
      "\tLearning epoch = 18500\tGradient mag. = 0.618101\n",
      "\tLearning epoch = 18750\tGradient mag. = 0.617948\n",
      "\tLearning epoch = 19000\tGradient mag. = 0.617795\n",
      "\tLearning epoch = 19250\tGradient mag. = 0.617643\n",
      "\tLearning epoch = 19500\tGradient mag. = 0.617490\n",
      "\tLearning epoch = 19750\tGradient mag. = 0.617337\n",
      "\tLearning epoch = 20000\tGradient mag. = 0.617184\n",
      "\tLearning epoch = 20250\tGradient mag. = 0.617031\n",
      "\tLearning epoch = 20500\tGradient mag. = 0.616878\n",
      "\tLearning epoch = 20750\tGradient mag. = 0.616725\n",
      "\tLearning epoch = 21000\tGradient mag. = 0.616572\n",
      "\tLearning epoch = 21250\tGradient mag. = 0.616419\n",
      "\tLearning epoch = 21500\tGradient mag. = 0.616266\n",
      "\tLearning epoch = 21750\tGradient mag. = 0.616113\n",
      "\tLearning epoch = 22000\tGradient mag. = 0.615960\n",
      "\tLearning epoch = 22250\tGradient mag. = 0.615807\n",
      "\tLearning epoch = 22500\tGradient mag. = 0.615654\n",
      "\tLearning epoch = 22750\tGradient mag. = 0.615501\n",
      "\tLearning epoch = 23000\tGradient mag. = 0.615348\n",
      "\tLearning epoch = 23250\tGradient mag. = 0.615195\n",
      "\tLearning epoch = 23500\tGradient mag. = 0.615042\n",
      "\tLearning epoch = 23750\tGradient mag. = 0.614889\n",
      "\tLearning epoch = 24000\tGradient mag. = 0.614736\n",
      "\tLearning epoch = 24250\tGradient mag. = 0.614583\n",
      "\tLearning epoch = 24500\tGradient mag. = 0.614430\n",
      "\tLearning epoch = 24750\tGradient mag. = 0.614276\n",
      "\tLearning epoch = 25000\tGradient mag. = 0.614123\n",
      "\tLearning epoch = 25250\tGradient mag. = 0.613970\n",
      "\tLearning epoch = 25500\tGradient mag. = 0.613817\n",
      "\tLearning epoch = 25750\tGradient mag. = 0.613664\n",
      "\tLearning epoch = 26000\tGradient mag. = 0.613511\n",
      "\tLearning epoch = 26250\tGradient mag. = 0.613358\n",
      "\tLearning epoch = 26500\tGradient mag. = 0.613204\n",
      "\tLearning epoch = 26750\tGradient mag. = 0.613051\n",
      "\tLearning epoch = 27000\tGradient mag. = 0.612898\n",
      "\tLearning epoch = 27250\tGradient mag. = 0.612745\n",
      "\tLearning epoch = 27500\tGradient mag. = 0.612591\n",
      "\tLearning epoch = 27750\tGradient mag. = 0.612438\n",
      "\tLearning epoch = 28000\tGradient mag. = 0.612285\n",
      "\tLearning epoch = 28250\tGradient mag. = 0.612132\n",
      "\tLearning epoch = 28500\tGradient mag. = 0.611978\n",
      "\tLearning epoch = 28750\tGradient mag. = 0.611825\n",
      "\tLearning epoch = 29000\tGradient mag. = 0.611672\n",
      "\tLearning epoch = 29250\tGradient mag. = 0.611518\n",
      "\tLearning epoch = 29500\tGradient mag. = 0.611365\n",
      "\tLearning epoch = 29750\tGradient mag. = 0.611212\n",
      "\tLearning epoch = 30000\tGradient mag. = 0.611058\n",
      "\tLearning epoch = 30250\tGradient mag. = 0.610905\n",
      "\tLearning epoch = 30500\tGradient mag. = 0.610752\n",
      "\tLearning epoch = 30750\tGradient mag. = 0.610598\n",
      "\tLearning epoch = 31000\tGradient mag. = 0.610445\n",
      "\tLearning epoch = 31250\tGradient mag. = 0.610292\n",
      "\tLearning epoch = 31500\tGradient mag. = 0.610138\n",
      "\tLearning epoch = 31750\tGradient mag. = 0.609985\n",
      "\tLearning epoch = 32000\tGradient mag. = 0.609831\n",
      "\tLearning epoch = 32250\tGradient mag. = 0.609678\n",
      "\tLearning epoch = 32500\tGradient mag. = 0.609524\n",
      "\tLearning epoch = 32750\tGradient mag. = 0.609371\n",
      "\tLearning epoch = 33000\tGradient mag. = 0.609217\n",
      "\tLearning epoch = 33250\tGradient mag. = 0.609064\n",
      "\tLearning epoch = 33500\tGradient mag. = 0.608910\n",
      "\tLearning epoch = 33750\tGradient mag. = 0.608757\n",
      "\tLearning epoch = 34000\tGradient mag. = 0.608603\n",
      "\tLearning epoch = 34250\tGradient mag. = 0.608450\n",
      "\tLearning epoch = 34500\tGradient mag. = 0.608296\n",
      "\tLearning epoch = 34750\tGradient mag. = 0.608143\n",
      "\tLearning epoch = 35000\tGradient mag. = 0.607989\n",
      "\tLearning epoch = 35250\tGradient mag. = 0.607836\n",
      "\tLearning epoch = 35500\tGradient mag. = 0.607682\n",
      "\tLearning epoch = 35750\tGradient mag. = 0.607528\n",
      "\tLearning epoch = 36000\tGradient mag. = 0.607375\n",
      "\tLearning epoch = 36250\tGradient mag. = 0.607221\n",
      "\tLearning epoch = 36500\tGradient mag. = 0.607067\n",
      "\tLearning epoch = 36750\tGradient mag. = 0.606914\n",
      "\tLearning epoch = 37000\tGradient mag. = 0.606760\n",
      "\tLearning epoch = 37250\tGradient mag. = 0.606607\n",
      "\tLearning epoch = 37500\tGradient mag. = 0.606453\n",
      "\tLearning epoch = 37750\tGradient mag. = 0.606299\n",
      "\tLearning epoch = 38000\tGradient mag. = 0.606145\n",
      "\tLearning epoch = 38250\tGradient mag. = 0.605992\n",
      "\tLearning epoch = 38500\tGradient mag. = 0.605838\n",
      "\tLearning epoch = 38750\tGradient mag. = 0.605684\n",
      "\tLearning epoch = 39000\tGradient mag. = 0.605531\n",
      "\tLearning epoch = 39250\tGradient mag. = 0.605377\n",
      "\tLearning epoch = 39500\tGradient mag. = 0.605223\n",
      "\tLearning epoch = 39750\tGradient mag. = 0.605069\n",
      "\tLearning epoch = 40000\tGradient mag. = 0.604915\n",
      "\tLearning epoch = 40250\tGradient mag. = 0.604762\n",
      "\tLearning epoch = 40500\tGradient mag. = 0.604608\n",
      "\tLearning epoch = 40750\tGradient mag. = 0.604454\n",
      "\tLearning epoch = 41000\tGradient mag. = 0.604300\n",
      "\tLearning epoch = 41250\tGradient mag. = 0.604146\n",
      "\tLearning epoch = 41500\tGradient mag. = 0.603993\n",
      "\tLearning epoch = 41750\tGradient mag. = 0.603839\n",
      "\tLearning epoch = 42000\tGradient mag. = 0.603685\n",
      "\tLearning epoch = 42250\tGradient mag. = 0.603531\n",
      "\tLearning epoch = 42500\tGradient mag. = 0.603377\n",
      "\tLearning epoch = 42750\tGradient mag. = 0.603223\n",
      "\tLearning epoch = 43000\tGradient mag. = 0.603069\n",
      "\tLearning epoch = 43250\tGradient mag. = 0.602915\n",
      "\tLearning epoch = 43500\tGradient mag. = 0.602761\n",
      "\tLearning epoch = 43750\tGradient mag. = 0.602607\n",
      "\tLearning epoch = 44000\tGradient mag. = 0.602453\n",
      "\tLearning epoch = 44250\tGradient mag. = 0.602300\n",
      "\tLearning epoch = 44500\tGradient mag. = 0.602146\n",
      "\tLearning epoch = 44750\tGradient mag. = 0.601992\n",
      "\tLearning epoch = 45000\tGradient mag. = 0.601838\n",
      "\tLearning epoch = 45250\tGradient mag. = 0.601684\n",
      "\tLearning epoch = 45500\tGradient mag. = 0.601530\n",
      "\tLearning epoch = 45750\tGradient mag. = 0.601376\n",
      "\tLearning epoch = 46000\tGradient mag. = 0.601221\n",
      "\tLearning epoch = 46250\tGradient mag. = 0.601067\n",
      "\tLearning epoch = 46500\tGradient mag. = 0.600913\n",
      "\tLearning epoch = 46750\tGradient mag. = 0.600759\n",
      "\tLearning epoch = 47000\tGradient mag. = 0.600605\n",
      "\tLearning epoch = 47250\tGradient mag. = 0.600451\n",
      "\tLearning epoch = 47500\tGradient mag. = 0.600297\n",
      "\tLearning epoch = 47750\tGradient mag. = 0.600143\n",
      "\tLearning epoch = 48000\tGradient mag. = 0.599989\n",
      "\tLearning epoch = 48250\tGradient mag. = 0.599835\n",
      "\tLearning epoch = 48500\tGradient mag. = 0.599680\n",
      "\tLearning epoch = 48750\tGradient mag. = 0.599526\n",
      "\tLearning epoch = 49000\tGradient mag. = 0.599372\n",
      "\tLearning epoch = 49250\tGradient mag. = 0.599218\n",
      "\tLearning epoch = 49500\tGradient mag. = 0.599064\n",
      "\tLearning epoch = 49750\tGradient mag. = 0.598910\n",
      "\tLearning epoch = 50000\tGradient mag. = 0.598755\n",
      "\tLearning epoch = 50250\tGradient mag. = 0.598601\n",
      "\tLearning epoch = 50500\tGradient mag. = 0.598447\n",
      "\tLearning epoch = 50750\tGradient mag. = 0.598293\n",
      "\tLearning epoch = 51000\tGradient mag. = 0.598138\n",
      "\tLearning epoch = 51250\tGradient mag. = 0.597984\n",
      "\tLearning epoch = 51500\tGradient mag. = 0.597830\n",
      "\tLearning epoch = 51750\tGradient mag. = 0.597676\n",
      "\tLearning epoch = 52000\tGradient mag. = 0.597521\n",
      "\tLearning epoch = 52250\tGradient mag. = 0.597367\n",
      "\tLearning epoch = 52500\tGradient mag. = 0.597213\n",
      "\tLearning epoch = 52750\tGradient mag. = 0.597058\n",
      "\tLearning epoch = 53000\tGradient mag. = 0.596904\n",
      "\tLearning epoch = 53250\tGradient mag. = 0.596750\n",
      "\tLearning epoch = 53500\tGradient mag. = 0.596595\n",
      "\tLearning epoch = 53750\tGradient mag. = 0.596441\n",
      "\tLearning epoch = 54000\tGradient mag. = 0.596287\n",
      "\tLearning epoch = 54250\tGradient mag. = 0.596132\n",
      "\tLearning epoch = 54500\tGradient mag. = 0.595978\n",
      "\tLearning epoch = 54750\tGradient mag. = 0.595823\n",
      "\tLearning epoch = 55000\tGradient mag. = 0.595669\n",
      "\tLearning epoch = 55250\tGradient mag. = 0.595515\n",
      "\tLearning epoch = 55500\tGradient mag. = 0.595360\n",
      "\tLearning epoch = 55750\tGradient mag. = 0.595206\n",
      "\tLearning epoch = 56000\tGradient mag. = 0.595051\n",
      "\tLearning epoch = 56250\tGradient mag. = 0.594897\n",
      "\tLearning epoch = 56500\tGradient mag. = 0.594742\n",
      "\tLearning epoch = 56750\tGradient mag. = 0.594588\n",
      "\tLearning epoch = 57000\tGradient mag. = 0.594433\n",
      "\tLearning epoch = 57250\tGradient mag. = 0.594279\n",
      "\tLearning epoch = 57500\tGradient mag. = 0.594124\n",
      "\tLearning epoch = 57750\tGradient mag. = 0.593970\n",
      "\tLearning epoch = 58000\tGradient mag. = 0.593815\n",
      "\tLearning epoch = 58250\tGradient mag. = 0.593661\n",
      "\tLearning epoch = 58500\tGradient mag. = 0.593506\n",
      "\tLearning epoch = 58750\tGradient mag. = 0.593352\n",
      "\tLearning epoch = 59000\tGradient mag. = 0.593197\n",
      "\tLearning epoch = 59250\tGradient mag. = 0.593042\n",
      "\tLearning epoch = 59500\tGradient mag. = 0.592888\n",
      "\tLearning epoch = 59750\tGradient mag. = 0.592733\n",
      "\tLearning epoch = 60000\tGradient mag. = 0.592579\n",
      "\tLearning epoch = 60250\tGradient mag. = 0.592424\n",
      "\tLearning epoch = 60500\tGradient mag. = 0.592269\n",
      "\tLearning epoch = 60750\tGradient mag. = 0.592115\n",
      "\tLearning epoch = 61000\tGradient mag. = 0.591960\n",
      "\tLearning epoch = 61250\tGradient mag. = 0.591805\n",
      "\tLearning epoch = 61500\tGradient mag. = 0.591651\n",
      "\tLearning epoch = 61750\tGradient mag. = 0.591496\n",
      "\tLearning epoch = 62000\tGradient mag. = 0.591341\n",
      "\tLearning epoch = 62250\tGradient mag. = 0.591186\n",
      "\tLearning epoch = 62500\tGradient mag. = 0.591032\n",
      "\tLearning epoch = 62750\tGradient mag. = 0.590877\n",
      "\tLearning epoch = 63000\tGradient mag. = 0.590722\n",
      "\tLearning epoch = 63250\tGradient mag. = 0.590568\n",
      "\tLearning epoch = 63500\tGradient mag. = 0.590413\n",
      "\tLearning epoch = 63750\tGradient mag. = 0.590258\n",
      "\tLearning epoch = 64000\tGradient mag. = 0.590103\n",
      "\tLearning epoch = 64250\tGradient mag. = 0.589948\n",
      "\tLearning epoch = 64500\tGradient mag. = 0.589794\n",
      "\tLearning epoch = 64750\tGradient mag. = 0.589639\n",
      "\tLearning epoch = 65000\tGradient mag. = 0.589484\n",
      "\tLearning epoch = 65250\tGradient mag. = 0.589329\n",
      "\tLearning epoch = 65500\tGradient mag. = 0.589174\n",
      "\tLearning epoch = 65750\tGradient mag. = 0.589019\n",
      "\tLearning epoch = 66000\tGradient mag. = 0.588865\n",
      "\tLearning epoch = 66250\tGradient mag. = 0.588710\n",
      "\tLearning epoch = 66500\tGradient mag. = 0.588555\n",
      "\tLearning epoch = 66750\tGradient mag. = 0.588400\n",
      "\tLearning epoch = 67000\tGradient mag. = 0.588245\n",
      "\tLearning epoch = 67250\tGradient mag. = 0.588090\n",
      "\tLearning epoch = 67500\tGradient mag. = 0.587935\n",
      "\tLearning epoch = 67750\tGradient mag. = 0.587780\n",
      "\tLearning epoch = 68000\tGradient mag. = 0.587625\n",
      "\tLearning epoch = 68250\tGradient mag. = 0.587470\n",
      "\tLearning epoch = 68500\tGradient mag. = 0.587315\n",
      "\tLearning epoch = 68750\tGradient mag. = 0.587160\n",
      "\tLearning epoch = 69000\tGradient mag. = 0.587005\n",
      "\tLearning epoch = 69250\tGradient mag. = 0.586850\n",
      "\tLearning epoch = 69500\tGradient mag. = 0.586695\n",
      "\tLearning epoch = 69750\tGradient mag. = 0.586540\n",
      "\tLearning epoch = 70000\tGradient mag. = 0.586385\n",
      "\tLearning epoch = 70250\tGradient mag. = 0.586230\n",
      "\tLearning epoch = 70500\tGradient mag. = 0.586075\n",
      "\tLearning epoch = 70750\tGradient mag. = 0.585920\n",
      "\tLearning epoch = 71000\tGradient mag. = 0.585765\n",
      "\tLearning epoch = 71250\tGradient mag. = 0.585610\n",
      "\tLearning epoch = 71500\tGradient mag. = 0.585455\n",
      "\tLearning epoch = 71750\tGradient mag. = 0.585300\n",
      "\tLearning epoch = 72000\tGradient mag. = 0.585145\n",
      "\tLearning epoch = 72250\tGradient mag. = 0.584990\n",
      "\tLearning epoch = 72500\tGradient mag. = 0.584834\n",
      "\tLearning epoch = 72750\tGradient mag. = 0.584679\n",
      "\tLearning epoch = 73000\tGradient mag. = 0.584524\n",
      "\tLearning epoch = 73250\tGradient mag. = 0.584369\n",
      "\tLearning epoch = 73500\tGradient mag. = 0.584214\n",
      "\tLearning epoch = 73750\tGradient mag. = 0.584059\n",
      "\tLearning epoch = 74000\tGradient mag. = 0.583903\n",
      "\tLearning epoch = 74250\tGradient mag. = 0.583748\n",
      "\tLearning epoch = 74500\tGradient mag. = 0.583593\n",
      "\tLearning epoch = 74750\tGradient mag. = 0.583438\n",
      "\tLearning epoch = 75000\tGradient mag. = 0.583283\n",
      "\tLearning epoch = 75250\tGradient mag. = 0.583127\n",
      "\tLearning epoch = 75500\tGradient mag. = 0.582972\n",
      "\tLearning epoch = 75750\tGradient mag. = 0.582817\n",
      "\tLearning epoch = 76000\tGradient mag. = 0.582662\n",
      "\tLearning epoch = 76250\tGradient mag. = 0.582506\n",
      "\tLearning epoch = 76500\tGradient mag. = 0.582351\n",
      "\tLearning epoch = 76750\tGradient mag. = 0.582196\n",
      "\tLearning epoch = 77000\tGradient mag. = 0.582040\n",
      "\tLearning epoch = 77250\tGradient mag. = 0.581885\n",
      "\tLearning epoch = 77500\tGradient mag. = 0.581730\n",
      "\tLearning epoch = 77750\tGradient mag. = 0.581574\n",
      "\tLearning epoch = 78000\tGradient mag. = 0.581419\n",
      "\tLearning epoch = 78250\tGradient mag. = 0.581264\n",
      "\tLearning epoch = 78500\tGradient mag. = 0.581108\n",
      "\tLearning epoch = 78750\tGradient mag. = 0.580953\n",
      "\tLearning epoch = 79000\tGradient mag. = 0.580798\n",
      "\tLearning epoch = 79250\tGradient mag. = 0.580642\n",
      "\tLearning epoch = 79500\tGradient mag. = 0.580487\n",
      "\tLearning epoch = 79750\tGradient mag. = 0.580331\n",
      "\tLearning epoch = 80000\tGradient mag. = 0.580176\n",
      "\tLearning epoch = 80250\tGradient mag. = 0.580021\n",
      "\tLearning epoch = 80500\tGradient mag. = 0.579865\n",
      "\tLearning epoch = 80750\tGradient mag. = 0.579710\n",
      "\tLearning epoch = 81000\tGradient mag. = 0.579554\n",
      "\tLearning epoch = 81250\tGradient mag. = 0.579399\n",
      "\tLearning epoch = 81500\tGradient mag. = 0.579243\n",
      "\tLearning epoch = 81750\tGradient mag. = 0.579088\n",
      "\tLearning epoch = 82000\tGradient mag. = 0.578932\n",
      "\tLearning epoch = 82250\tGradient mag. = 0.578777\n",
      "\tLearning epoch = 82500\tGradient mag. = 0.578621\n",
      "\tLearning epoch = 82750\tGradient mag. = 0.578466\n",
      "\tLearning epoch = 83000\tGradient mag. = 0.578310\n",
      "\tLearning epoch = 83250\tGradient mag. = 0.578155\n",
      "\tLearning epoch = 83500\tGradient mag. = 0.577999\n",
      "\tLearning epoch = 83750\tGradient mag. = 0.577843\n",
      "\tLearning epoch = 84000\tGradient mag. = 0.577688\n",
      "\tLearning epoch = 84250\tGradient mag. = 0.577532\n",
      "\tLearning epoch = 84500\tGradient mag. = 0.577377\n",
      "\tLearning epoch = 84750\tGradient mag. = 0.577221\n",
      "\tLearning epoch = 85000\tGradient mag. = 0.577065\n",
      "\tLearning epoch = 85250\tGradient mag. = 0.576910\n",
      "\tLearning epoch = 85500\tGradient mag. = 0.576754\n",
      "\tLearning epoch = 85750\tGradient mag. = 0.576599\n",
      "\tLearning epoch = 86000\tGradient mag. = 0.576443\n",
      "\tLearning epoch = 86250\tGradient mag. = 0.576287\n",
      "\tLearning epoch = 86500\tGradient mag. = 0.576132\n",
      "\tLearning epoch = 86750\tGradient mag. = 0.575976\n",
      "\tLearning epoch = 87000\tGradient mag. = 0.575820\n",
      "\tLearning epoch = 87250\tGradient mag. = 0.575664\n",
      "\tLearning epoch = 87500\tGradient mag. = 0.575509\n",
      "\tLearning epoch = 87750\tGradient mag. = 0.575353\n",
      "\tLearning epoch = 88000\tGradient mag. = 0.575197\n",
      "\tLearning epoch = 88250\tGradient mag. = 0.575041\n",
      "\tLearning epoch = 88500\tGradient mag. = 0.574886\n",
      "\tLearning epoch = 88750\tGradient mag. = 0.574730\n",
      "\tLearning epoch = 89000\tGradient mag. = 0.574574\n",
      "\tLearning epoch = 89250\tGradient mag. = 0.574418\n",
      "\tLearning epoch = 89500\tGradient mag. = 0.574263\n",
      "\tLearning epoch = 89750\tGradient mag. = 0.574107\n",
      "\tLearning epoch = 90000\tGradient mag. = 0.573951\n",
      "\tLearning epoch = 90250\tGradient mag. = 0.573795\n",
      "\tLearning epoch = 90500\tGradient mag. = 0.573639\n",
      "\tLearning epoch = 90750\tGradient mag. = 0.573483\n",
      "\tLearning epoch = 91000\tGradient mag. = 0.573328\n",
      "\tLearning epoch = 91250\tGradient mag. = 0.573172\n",
      "\tLearning epoch = 91500\tGradient mag. = 0.573016\n",
      "\tLearning epoch = 91750\tGradient mag. = 0.572860\n",
      "\tLearning epoch = 92000\tGradient mag. = 0.572704\n",
      "\tLearning epoch = 92250\tGradient mag. = 0.572548\n",
      "\tLearning epoch = 92500\tGradient mag. = 0.572392\n",
      "\tLearning epoch = 92750\tGradient mag. = 0.572236\n",
      "\tLearning epoch = 93000\tGradient mag. = 0.572080\n",
      "\tLearning epoch = 93250\tGradient mag. = 0.571924\n",
      "\tLearning epoch = 93500\tGradient mag. = 0.571769\n",
      "\tLearning epoch = 93750\tGradient mag. = 0.571613\n",
      "\tLearning epoch = 94000\tGradient mag. = 0.571457\n",
      "\tLearning epoch = 94250\tGradient mag. = 0.571301\n",
      "\tLearning epoch = 94500\tGradient mag. = 0.571145\n",
      "\tLearning epoch = 94750\tGradient mag. = 0.570989\n",
      "\tLearning epoch = 95000\tGradient mag. = 0.570833\n",
      "\tLearning epoch = 95250\tGradient mag. = 0.570677\n",
      "\tLearning epoch = 95500\tGradient mag. = 0.570521\n",
      "\tLearning epoch = 95750\tGradient mag. = 0.570365\n",
      "\tLearning epoch = 96000\tGradient mag. = 0.570209\n",
      "\tLearning epoch = 96250\tGradient mag. = 0.570052\n",
      "\tLearning epoch = 96500\tGradient mag. = 0.569896\n",
      "\tLearning epoch = 96750\tGradient mag. = 0.569740\n",
      "\tLearning epoch = 97000\tGradient mag. = 0.569584\n",
      "\tLearning epoch = 97250\tGradient mag. = 0.569428\n",
      "\tLearning epoch = 97500\tGradient mag. = 0.569272\n",
      "\tLearning epoch = 97750\tGradient mag. = 0.569116\n",
      "\tLearning epoch = 98000\tGradient mag. = 0.568960\n",
      "\tLearning epoch = 98250\tGradient mag. = 0.568804\n",
      "\tLearning epoch = 98500\tGradient mag. = 0.568648\n",
      "\tLearning epoch = 98750\tGradient mag. = 0.568491\n",
      "\tLearning epoch = 99000\tGradient mag. = 0.568335\n",
      "\tLearning epoch = 99250\tGradient mag. = 0.568179\n",
      "\tLearning epoch = 99500\tGradient mag. = 0.568023\n",
      "\tLearning epoch = 99750\tGradient mag. = 0.567867\n",
      "Final gradient magnitude for rate=1e-06, mu=1e-06: 0.568\n",
      "CPU times: user 76 ms, sys: 0 ns, total: 76 ms\n",
      "Wall time: 83.9 ms\n"
     ]
    }
   ],
   "source": [
    "from snorkel.learning import NaiveBayes\n",
    "\n",
    "gen_model = NaiveBayes()\n",
    "gen_model.train(L_train, n_iter=100000, rate=1e-6)\n",
    "%time gen_model.save(session, 'Generative Params')\n",
    "train_marginals = gen_model.marginals(L_train)"
   ]
  },
  {
   "cell_type": "code",
   "execution_count": 4,
   "metadata": {
    "collapsed": false
   },
   "outputs": [
    {
     "name": "stdout",
     "output_type": "stream",
     "text": [
      "================================================================================\n",
      "Training marginals (!= 0.5):\t115992\n",
      "Features:\t\t\t10018\n",
      "================================================================================\n",
      "Using gradient descent...\n",
      "\tLearning epoch = 0\tStep size = 0.0001\n",
      "\tLoss = 80399.527768\tGradient magnitude = 75884.616281\n",
      "\tLearning epoch = 100\tStep size = 9.04792147114e-05\n",
      "\tLoss = 67990.208110\tGradient magnitude = 29464.467117\n",
      "\tLearning epoch = 200\tStep size = 8.18648829479e-05\n",
      "\tLoss = 64733.753810\tGradient magnitude = 38906.198106\n",
      "\tLearning epoch = 300\tStep size = 7.40707032156e-05\n",
      "\tLoss = 73403.074640\tGradient magnitude = 55516.081671\n",
      "\tLearning epoch = 400\tStep size = 6.70185906007e-05\n",
      "\tLoss = 97884.130196\tGradient magnitude = 40560.936156\n",
      "\tLearning epoch = 500\tStep size = 6.06378944861e-05\n",
      "\tLoss = 61090.217601\tGradient magnitude = 34011.678560\n",
      "\tLearning epoch = 600\tStep size = 5.48646907485e-05\n",
      "\tLoss = 61310.499534\tGradient magnitude = 36928.458698\n",
      "\tLearning epoch = 700\tStep size = 4.96411413431e-05\n",
      "\tLoss = 48666.502125\tGradient magnitude = 30430.167877\n",
      "\tLearning epoch = 800\tStep size = 4.4914914861e-05\n",
      "\tLoss = 50937.353191\tGradient magnitude = 38193.680716\n",
      "\tLearning epoch = 900\tStep size = 4.06386622545e-05\n",
      "\tLoss = 47423.591376\tGradient magnitude = 36112.717691\n",
      "\tLearning epoch = 1000\tStep size = 3.67695424771e-05\n",
      "\tLoss = 44890.976154\tGradient magnitude = 33950.298836\n",
      "\tLearning epoch = 1100\tStep size = 3.32687932862e-05\n",
      "\tLoss = 42507.708994\tGradient magnitude = 30957.744824\n",
      "\tLearning epoch = 1200\tStep size = 3.01013429093e-05\n",
      "\tLoss = 39953.796227\tGradient magnitude = 27606.054592\n",
      "\tLearning epoch = 1300\tStep size = 2.72354586819e-05\n",
      "\tLoss = 37585.160796\tGradient magnitude = 22893.741476\n",
      "\tLearning epoch = 1400\tStep size = 2.46424291385e-05\n",
      "\tLoss = 35461.586976\tGradient magnitude = 15592.329826\n",
      "\tLearning epoch = 1500\tStep size = 2.22962763703e-05\n",
      "\tLoss = 34039.040389\tGradient magnitude = 2200.826331\n",
      "\tLearning epoch = 1600\tStep size = 2.01734957697e-05\n",
      "\tLoss = 33994.609687\tGradient magnitude = 84.753237\n",
      "\tLearning epoch = 1700\tStep size = 1.82528205523e-05\n",
      "\tLoss = 33982.680280\tGradient magnitude = 72.806154\n",
      "\tLearning epoch = 1800\tStep size = 1.65150086984e-05\n",
      "\tLoss = 33974.372178\tGradient magnitude = 65.095304\n",
      "\tLearning epoch = 1900\tStep size = 1.49426501798e-05\n",
      "\tLoss = 33968.205133\tGradient magnitude = 59.658256\n",
      "CPU times: user 1.63 s, sys: 12 ms, total: 1.64 s\n",
      "Wall time: 1.65 s\n"
     ]
    }
   ],
   "source": [
    "from snorkel.learning import LogReg\n",
    "\n",
    "disc_model = LogReg()\n",
    "disc_model.train(F_train, train_marginals, n_iter=2000, rate=1e-4)\n",
    "%time disc_model.save(session, \"Discriminative Params\")"
   ]
  },
  {
   "cell_type": "code",
   "execution_count": 5,
   "metadata": {
    "collapsed": false
   },
   "outputs": [
    {
     "name": "stdout",
     "output_type": "stream",
     "text": [
      "Calibration plot:\n"
     ]
    },
    {
     "name": "stderr",
     "output_type": "stream",
     "text": [
      "/home/lwhsiao/repos/snorkel/.virtualenv/local/lib/python2.7/site-packages/numpy/core/_methods.py:59: RuntimeWarning: Mean of empty slice.\n",
      "  warnings.warn(\"Mean of empty slice.\", RuntimeWarning)\n"
     ]
    },
    {
     "data": {
      "image/png": "[encoded data removed]",
      "text/plain": [
       "<matplotlib.figure.Figure at 0x7f703066c850>"
      ]
     },
     "metadata": {},
     "output_type": "display_data"
    },
    {
     "name": "stdout",
     "output_type": "stream",
     "text": [
      "========================================\n",
      "Recall-corrected Noise-aware Model\n",
      "========================================\n",
      "Pos. class accuracy: 0.248916623332\n",
      "Neg. class accuracy: 0.725607193882\n",
      "Corpus Precision 0.468\n",
      "Corpus Recall    0.249\n",
      "Corpus F1        0.325\n",
      "----------------------------------------\n",
      "TP: 2872 | FP: 3265 | TN: 8634 | FN: 8666\n",
      "========================================\n",
      "\n",
      "========================================\n",
      "Recall-corrected Noise-aware Model\n",
      "========================================\n",
      "Pos. class accuracy: 0.248916623332\n",
      "Neg. class accuracy: 0.725607193882\n",
      "Corpus Precision 0.468\n",
      "Corpus Recall    0.249\n",
      "Corpus F1        0.325\n",
      "----------------------------------------\n",
      "TP: 2872 | FP: 3265 | TN: 8634 | FN: 8666\n",
      "========================================\n",
      "\n"
     ]
    }
   ],
   "source": [
    "train_gold = session.query(CandidateSet).filter(\n",
    "    CandidateSet.name == 'Hardware Training Candidates -- Gold').one()\n",
    "\n",
    "dev_gold = session.query(CandidateSet).filter(\n",
    "    CandidateSet.name == 'Hardware Development Candidates -- Gold').one()\n",
    "\n",
    "from snorkel.models import CandidateSet\n",
    "from snorkel.annotations import LabelManager\n",
    "label_manager = LabelManager()\n",
    "L_dev = label_manager.load(session, dev, 'Hardware Development Labels -- Gold')\n",
    "\n",
    "tp, fp, tn, fn = disc_model.score(F_dev, L_dev, dev_gold)"
   ]
  },
  {
   "cell_type": "code",
   "execution_count": 6,
   "metadata": {
    "collapsed": false,
    "scrolled": true
   },
   "outputs": [
    {
     "name": "stdout",
     "output_type": "stream",
     "text": [
      "========================================\n",
      "Scoring on Entity-Level Gold Data\n",
      "========================================\n",
      "Corpus Precision 0.54\n",
      "Corpus Recall    0.91\n",
      "Corpus F1        0.678\n",
      "----------------------------------------\n",
      "TP: 141 | FP: 120 | FN: 14\n",
      "========================================\n",
      "\n"
     ]
    }
   ],
   "source": [
    "from snorkel.models import Corpus\n",
    "from snorkel.utils import get_ORM_instance\n",
    "from hardware_utils import entity_level_f1\n",
    "import os\n",
    "\n",
    "dev_corpus = get_ORM_instance(Corpus, session, 'Hardware Development')\n",
    "\n",
    "gold_file = os.environ['SNORKELHOME'] + '/tutorials/tables/data/hardware/hardware_gold.csv'\n",
    "corpus = session.query(Corpus).filter(Corpus.name == 'Hardware Development').one()\n",
    "(TP, FP, FN) = entity_level_f1(tp, fp, tn, fn, gold_file, dev_corpus, 'stg_temp_max')"
   ]
  },
  {
   "cell_type": "code",
   "execution_count": 9,
   "metadata": {
    "collapsed": false
   },
   "outputs": [
    {
     "name": "stdout",
     "output_type": "stream",
     "text": [
      "[(u'2N3906-D', u'1N916', u'150'),\n",
      " (u'2N3906-D', u'2N390D', u'150'),\n",
      " (u'BC546-BC548C(TO-92)', u'BC546-BC548C', u'150'),\n",
      " (u'BC546-BC548C(TO-92)', u'BC546THRU', u'150'),\n",
      " (u'DISES00645-1', u'BC807K', u'150'),\n",
      " (u'DISES00645-1', u'BC807K-16', u'150'),\n",
      " (u'DISES00645-1', u'BC807K-25', u'150'),\n",
      " (u'DISES00645-1', u'BC807K-40', u'150'),\n",
      " (u'DISES00645-1', u'BC807KC', u'150'),\n",
      " (u'DISES00645-1', u'BC808K', u'150'),\n",
      " (u'DISES00645-1', u'BC808K-16', u'150'),\n",
      " (u'DISES00645-1', u'BC808K-25', u'150'),\n",
      " (u'DISES00645-1', u'BC808K-40', u'150'),\n",
      " (u'DISES00645-1', u'BC808KC', u'150'),\n",
      " (u'DISES00645-1', u'BC817K-16C', u'150'),\n",
      " (u'DISES00645-1', u'BC817K-25C', u'150'),\n",
      " (u'DISES00645-1', u'BC817K-40C', u'150'),\n",
      " (u'DISES00645-1', u'BC817KC', u'150'),\n",
      " (u'DISES00645-1', u'BC818K-16C', u'150'),\n",
      " (u'DISES00645-1', u'BC818K-25C', u'150'),\n",
      " (u'DISES00645-1', u'BC818K-40C', u'150'),\n",
      " (u'DISES00645-1', u'BC818KC', u'150'),\n",
      " (u'FAIRS25065-1', u'BC237ABU', u'150'),\n",
      " (u'FAIRS25065-1', u'BC237AFULL', u'150'),\n",
      " (u'FAIRS25065-1', u'BC237ATA', u'150'),\n",
      " (u'FAIRS25065-1', u'BC237BBU', u'150'),\n",
      " (u'FAIRS25065-1', u'BC237BFULL', u'150'),\n",
      " (u'FAIRS25065-1', u'BC237BTA', u'150'),\n",
      " (u'FAIRS25065-1', u'BC237BTAR', u'150'),\n",
      " (u'FAIRS25065-1', u'BC237BTF', u'150'),\n",
      " (u'FAIRS25065-1', u'BC237BTFR', u'150'),\n",
      " (u'FAIRS25065-1', u'BC237BU', u'150'),\n",
      " (u'FAIRS25065-1', u'BC237CBU', u'150'),\n",
      " (u'FAIRS25065-1', u'BC237CTA', u'150'),\n",
      " (u'FAIRS25065-1', u'BC237FULL', u'150'),\n",
      " (u'FAIRS25065-1', u'BC237FULLA', u'150'),\n",
      " (u'FAIRS25065-1', u'BC237FULLB', u'150'),\n",
      " (u'FAIRS25065-1', u'BC237FULLC', u'150'),\n",
      " (u'FAIRS25065-1', u'BC237IS', u'150'),\n",
      " (u'FAIRS25065-1', u'BC237ISA', u'150'),\n",
      " (u'FAIRS25065-1', u'BC237ISB', u'150'),\n",
      " (u'FAIRS25065-1', u'BC237ISC', u'150'),\n",
      " (u'FAIRS25065-1', u'BC237LINE', u'150'),\n",
      " (u'FAIRS25065-1', u'BC237LINE2', u'150'),\n",
      " (u'FAIRS25065-1', u'BC237LINE2A', u'150'),\n",
      " (u'FAIRS25065-1', u'BC237LINE2B', u'150'),\n",
      " (u'FAIRS25065-1', u'BC237LINE2C', u'150'),\n",
      " (u'FAIRS25065-1', u'BC237LINE3', u'150'),\n",
      " (u'FAIRS25065-1', u'BC237LINE3A', u'150'),\n",
      " (u'FAIRS25065-1', u'BC237LINE3B', u'150'),\n",
      " (u'FAIRS25065-1', u'BC237LINE3C', u'150'),\n",
      " (u'FAIRS25065-1', u'BC237LINEA', u'150'),\n",
      " (u'FAIRS25065-1', u'BC237LINEB', u'150'),\n",
      " (u'FAIRS25065-1', u'BC237LINEC', u'150'),\n",
      " (u'FAIRS25065-1', u'BC237TF', u'150'),\n",
      " (u'FAIRS25065-1', u'BC237TFA', u'150'),\n",
      " (u'FAIRS25065-1', u'BC237TFB', u'150'),\n",
      " (u'FAIRS25065-1', u'BC237TFC', u'150'),\n",
      " (u'FAIRS25065-1', u'BC237TFR', u'150'),\n",
      " (u'FAIRS25065-1', u'BC237TFRA', u'150'),\n",
      " (u'FAIRS25065-1', u'BC237TFRB', u'150'),\n",
      " (u'FAIRS25065-1', u'BC237TFRC', u'150'),\n",
      " (u'INFINEON-BC857SERIES_BC858SERIES_BC859SERIES_BC860SERIES-DS-V01_01-EN',\n",
      "  u'BC850',\n",
      "  u'150'),\n",
      " (u'INFINEON-BC857SERIES_BC858SERIES_BC859SERIES_BC860SERIES-DS-V01_01-EN',\n",
      "  u'BC856-BC860',\n",
      "  u'150'),\n",
      " (u'INFINEON-BC857SERIES_BC858SERIES_BC859SERIES_BC860SERIES-DS-V01_01-EN',\n",
      "  u'BC857-BC860',\n",
      "  u'150'),\n",
      " (u'INFINEON-BC857SERIES_BC858SERIES_BC859SERIES_BC860SERIES-DS-V01_01-EN',\n",
      "  u'BC857/W-BC',\n",
      "  u'150'),\n",
      " (u'INFINEON-BC857SERIES_BC858SERIES_BC859SERIES_BC860SERIES-DS-V01_01-EN',\n",
      "  u'BC857W',\n",
      "  u'150'),\n",
      " (u'INFINEON-BC857SERIES_BC858SERIES_BC859SERIES_BC860SERIES-DS-V01_01-EN',\n",
      "  u'BC857W-BC860W',\n",
      "  u'150'),\n",
      " (u'INFINEON-BC857SERIES_BC858SERIES_BC859SERIES_BC860SERIES-DS-V01_01-EN',\n",
      "  u'BC858W',\n",
      "  u'150'),\n",
      " (u'INFINEON-BC857SERIES_BC858SERIES_BC859SERIES_BC860SERIES-DS-V01_01-EN',\n",
      "  u'BC859W',\n",
      "  u'150'),\n",
      " (u'INFINEON-BC857SERIES_BC858SERIES_BC859SERIES_BC860SERIES-DS-V01_01-EN',\n",
      "  u'BC860W',\n",
      "  u'150'),\n",
      " (u'LTSCS02910-1', u'BC818-REV', u'150'),\n",
      " (u'MOTOS03189-1', u'BC337-1', u'150'),\n",
      " (u'MOTOS03189-1', u'BC337-2', u'150'),\n",
      " (u'MOTOS03189-1', u'BC337-4', u'150'),\n",
      " (u'MOTOS03189-1', u'BC337/D', u'150'),\n",
      " (u'PHGLS19500-1', u'MMBT3906', u'150'),\n",
      " (u'PHGLS25601-1', u'BC8461D', u'150'),\n",
      " (u'PHGLS25601-1', u'BC8461DA', u'150'),\n",
      " (u'PHGLS25601-1', u'BC8461DB', u'150'),\n",
      " (u'PHGLS25601-1', u'BC846A1A', u'150'),\n",
      " (u'PHGLS25601-1', u'BC846AT1A', u'150'),\n",
      " (u'PHGLS25601-1', u'BC846AW1A', u'150'),\n",
      " (u'PHGLS25601-1', u'BC846B1B', u'150'),\n",
      " (u'PHGLS25601-1', u'BC846BT1B', u'150'),\n",
      " (u'PHGLS25601-1', u'BC846BW1B', u'150'),\n",
      " (u'PHGLS25601-1', u'BC846T1M', u'150'),\n",
      " (u'PHGLS25601-1', u'BC846TA', u'150'),\n",
      " (u'PHGLS25601-1', u'BC846TB', u'150'),\n",
      " (u'PHGLS25601-1', u'BC846W1D', u'150'),\n",
      " (u'PHGLS25601-1', u'BC846WA', u'150'),\n",
      " (u'PHGLS25601-1', u'BC846WB', u'150'),\n",
      " (u'PHGLS25601-1', u'BC856', u'150'),\n",
      " (u'PHGLS25601-1', u'BC856A', u'150'),\n",
      " (u'PHGLS25601-1', u'BC856B', u'150'),\n",
      " (u'PHGLS25601-1', u'BC856T', u'150'),\n",
      " (u'PHGLS25601-1', u'BC856TA', u'150'),\n",
      " (u'PHGLS25601-1', u'BC856TB', u'150'),\n",
      " (u'PHGLS25601-1', u'BC856W', u'150'),\n",
      " (u'PHGLS25601-1', u'BC856WA', u'150')]\n"
     ]
    }
   ],
   "source": [
    "from pprint import pprint\n",
    "FN_list = sorted(list(FN))\n",
    "FP_list = sorted(list(FP))\n",
    "TP_list = sorted(list(TP))\n",
    "# pprint(FN_list[:])\n",
    "pprint(FP_list[:100])\n",
    "# pprint(TP_list[:10])"
   ]
  },
  {
   "cell_type": "code",
   "execution_count": null,
   "metadata": {
    "collapsed": false,
    "scrolled": true
   },
   "outputs": [],
   "source": [
    "# docs = set()\n",
    "# for doc in corpus.documents:\n",
    "#     docs.add(doc.name.upper())\n",
    "# pprint(docs)"
   ]
  },
  {
   "cell_type": "code",
   "execution_count": null,
   "metadata": {
    "collapsed": false
   },
   "outputs": [],
   "source": [
    "# import itertools\n",
    "# docs = set()\n",
    "# for f in itertools.chain.from_iterable([tp, tn, fp, fn]):\n",
    "#     docs.add(f.part.parent.document.name.upper())\n",
    "# #     if f.part.parent.document.name.upper() == 'AUKCS04635-1':\n",
    "# #         print f\n",
    "# pprint(docs)"
   ]
  },
  {
   "cell_type": "code",
   "execution_count": null,
   "metadata": {
    "collapsed": false,
    "scrolled": false
   },
   "outputs": [],
   "source": [
    "from hardware_utils import entity_to_candidates, part_error_analysis\n",
    "\n",
    "# disc_model.get_feature_weights(F_dev)\n",
    "\n",
    "entity = FN_list[0]\n",
    "matches = entity_to_candidates(entity, dev)\n",
    "print \"Entity: (%d matches)\" % len(matches)\n",
    "print entity\n",
    "\n",
    "stop = False\n",
    "for i, c in enumerate(matches):\n",
    "    part_error_analysis(c)\n",
    "    results = []\n",
    "    for lf in LFs:\n",
    "        name = lf.__name__\n",
    "        result = lf(c)\n",
    "        results.append((name, result))\n",
    "#         if name == 'LF_cb_keywords_all' and result == -1:\n",
    "#             print name\n",
    "#             ngrams = list(get_row_ngrams(c.voltage, spread=[0,3], n_max=3))\n",
    "#             print ngrams\n",
    "#             print overlap(ngrams, cb_words)\n",
    "#             stop = False\n",
    "#         if name == 'LF_cheating_with_another_part' and result == -1:\n",
    "#             print name\n",
    "#             horz_ngrams = list(get_horz_aligned_ngrams(c))\n",
    "#             print horz_ngrams\n",
    "#             print [part_sniffer.match(x) for x in horz_ngrams]\n",
    "#             stop = False\n",
    "        if name == 'LF_i_in_row' and result == -1:\n",
    "            print name\n",
    "            ngrams = list(get_row_ngrams(c.voltage, spread=[0,3], n_max=3))\n",
    "            print ngrams\n",
    "            stop = False\n",
    "        if stop: break\n",
    "    print \"MATCH %d:\" % i\n",
    "    print heuristic(c)\n",
    "    pprint(results)\n",
    "    print \"--------------------------------------------------------------------------------\"\n",
    "    if stop: break\n",
    "    \n",
    "#     if heuristic(candidate):\n",
    "#         print \"\\nCandidate:\"\n",
    "# #         print candidate\n",
    "#         print part_error_analysis(candidate)\n",
    "#     print heuristic(candidate)\n",
    "#     print LF_voltage_not_in_table(candidate)\n",
    "#         print candidate.voltage.parent.table\n",
    "#     print \"\\nScore:\"\n",
    "#     print disc_model.get_candidate_score(candidate, F_dev)\n",
    "\n",
    "#     print \"\\nFeatures:\"\n",
    "#     pprint(disc_model.get_candidate_feature_weights(candidate, F_dev))"
   ]
  },
  {
   "cell_type": "code",
   "execution_count": null,
   "metadata": {
    "collapsed": false
   },
   "outputs": [],
   "source": [
    "print cb_words"
   ]
  },
  {
   "cell_type": "code",
   "execution_count": null,
   "metadata": {
    "collapsed": false
   },
   "outputs": [],
   "source": [
    "candidate[0].parent.text"
   ]
  },
  {
   "cell_type": "code",
   "execution_count": null,
   "metadata": {
    "collapsed": false
   },
   "outputs": [],
   "source": [
    "candidate[0].get_span()"
   ]
  },
  {
   "cell_type": "code",
   "execution_count": null,
   "metadata": {
    "collapsed": true
   },
   "outputs": [],
   "source": [
    "results = []\n",
    "for lf in LFs:\n",
    "    results.append(lf.__name__, lf(candidate))"
   ]
  },
  {
   "cell_type": "code",
   "execution_count": null,
   "metadata": {
    "collapsed": false
   },
   "outputs": [],
   "source": [
    "print F_train.shape\n",
    "print F_dev.shape"
   ]
  },
  {
   "cell_type": "code",
   "execution_count": null,
   "metadata": {
    "collapsed": true
   },
   "outputs": [],
   "source": [
    "import os\n",
    "os.system('cp snorkel.db snorkel.db\\ final');"
   ]
  },
  {
   "cell_type": "code",
   "execution_count": null,
   "metadata": {
    "collapsed": true
   },
   "outputs": [],
   "source": []
  },
  {
   "cell_type": "code",
   "execution_count": null,
   "metadata": {
    "collapsed": false
   },
   "outputs": [],
   "source": []
  },
  {
   "cell_type": "code",
   "execution_count": null,
   "metadata": {
    "collapsed": true
   },
   "outputs": [],
   "source": []
  }
 ],
 "metadata": {
  "anaconda-cloud": {},
  "kernelspec": {
   "display_name": "Python 2",
   "language": "python",
   "name": "python2"
  },
  "language_info": {
   "codemirror_mode": {
    "name": "ipython",
    "version": 2
   },
   "file_extension": ".py",
   "mimetype": "text/x-python",
   "name": "python",
   "nbconvert_exporter": "python",
   "pygments_lexer": "ipython2",
   "version": "2.7.12"
  }
 },
 "nbformat": 4,
 "nbformat_minor": 1
}
