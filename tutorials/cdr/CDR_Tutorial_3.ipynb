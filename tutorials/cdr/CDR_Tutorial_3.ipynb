{
 "cells": [
  {
   "cell_type": "markdown",
   "metadata": {},
   "source": [
    "# Chemical-Disease Relation (CDR) Tutorial\n",
    "\n",
    "In this example, we'll be writing an application to extract *mentions of* **chemical-induced-disease relationships** from Pubmed abstracts, as per the [BioCreative CDR Challenge](http://www.biocreative.org/resources/corpora/biocreative-v-cdr-corpus/).  This tutorial will show off some of the more advanced features of Snorkel, so we'll assume you've followed the Intro tutorial."
   ]
  },
  {
   "cell_type": "markdown",
   "metadata": {},
   "source": [
    "Let's start by reloading from the last notebook."
   ]
  },
  {
   "cell_type": "code",
   "execution_count": 1,
   "metadata": {
    "collapsed": false
   },
   "outputs": [],
   "source": [
    "%load_ext autoreload\n",
    "%autoreload 2\n",
    "%matplotlib inline\n",
    "import os\n",
    "\n",
    "# TO USE A DATABASE OTHER THAN SQLITE, USE THIS LINE\n",
    "# Note that this is necessary for parallel execution amongst other things...\n",
    "os.environ['SNORKELDB'] = 'postgres:///cdr-structure-learning-2'\n",
    "\n",
    "from snorkel import SnorkelSession\n",
    "\n",
    "session = SnorkelSession()"
   ]
  },
  {
   "cell_type": "code",
   "execution_count": 2,
   "metadata": {
    "collapsed": false
   },
   "outputs": [
    {
     "name": "stdout",
     "output_type": "stream",
     "text": [
      "Training set:\t34283 candidates\n",
      "Dev set:\t888 candidates\n",
      "Test set:\t4620 candidates\n"
     ]
    }
   ],
   "source": [
    "from snorkel.models import candidate_subclass\n",
    "\n",
    "ChemicalDisease = candidate_subclass('ChemicalDisease', ['chemical', 'disease'])\n",
    "\n",
    "train = session.query(ChemicalDisease).filter(ChemicalDisease.split == 0).all()\n",
    "dev = session.query(ChemicalDisease).filter(ChemicalDisease.split == 1).all()\n",
    "test = session.query(ChemicalDisease).filter(ChemicalDisease.split == 2).all()\n",
    "\n",
    "print 'Training set:\\t{0} candidates'.format(len(train))\n",
    "print 'Dev set:\\t{0} candidates'.format(len(dev))\n",
    "print 'Test set:\\t{0} candidates'.format(len(test))    "
   ]
  },
  {
   "cell_type": "code",
   "execution_count": 40,
   "metadata": {
    "collapsed": false
   },
   "outputs": [],
   "source": [
    "from snorkel.annotations import load_marginals\n",
    "train_marginals = load_marginals(session, split=0)"
   ]
  },
  {
   "cell_type": "markdown",
   "metadata": {},
   "source": [
    "# Training `SparseLogReg`\n",
    "\n",
    "Instead of LSTM, to start.  First, reloading features:"
   ]
  },
  {
   "cell_type": "code",
   "execution_count": 18,
   "metadata": {
    "collapsed": true
   },
   "outputs": [],
   "source": [
    "from snorkel.annotations import FeatureAnnotator\n",
    "featurizer = FeatureAnnotator()\n",
    "\n",
    "F_train = featurizer.load_matrix(session, split=0)\n",
    "F_dev   = featurizer.load_matrix(session, split=1)\n",
    "F_test  = featurizer.load_matrix(session, split=2)"
   ]
  },
  {
   "cell_type": "code",
   "execution_count": 41,
   "metadata": {
    "collapsed": false
   },
   "outputs": [],
   "source": [
    "from snorkel.learning import SparseLogisticRegression\n",
    "disc_model = SparseLogisticRegression()"
   ]
  },
  {
   "cell_type": "code",
   "execution_count": 42,
   "metadata": {
    "collapsed": false
   },
   "outputs": [
    {
     "name": "stdout",
     "output_type": "stream",
     "text": [
      "Initialized RandomSearch search of size 10. Search space size = 36.\n"
     ]
    }
   ],
   "source": [
    "from snorkel.learning.utils import MentionScorer\n",
    "from snorkel.learning import RandomSearch, ListParameter, RangeParameter\n",
    "\n",
    "# Searching over learning rate\n",
    "rate_param = RangeParameter('lr', 1e-5, 1e-2, step=1, log_base=10)\n",
    "l1_param  = RangeParameter('l1_penalty', 1e-4, 1e-2, step=1, log_base=10)\n",
    "l2_param  = RangeParameter('l2_penalty', 1e-4, 1e-2, step=1, log_base=10)\n",
    "\n",
    "searcher = RandomSearch(session, disc_model, F_train, train_marginals, [rate_param, l1_param, l2_param], n=10)"
   ]
  },
  {
   "cell_type": "code",
   "execution_count": 43,
   "metadata": {
    "collapsed": false
   },
   "outputs": [
    {
     "data": {
      "text/plain": [
       "<888x1 sparse matrix of type '<type 'numpy.float64'>'\n",
       "\twith 888 stored elements in Compressed Sparse Row format>"
      ]
     },
     "execution_count": 43,
     "metadata": {},
     "output_type": "execute_result"
    }
   ],
   "source": [
    "from snorkel.annotations import load_gold_labels\n",
    "L_gold_dev = load_gold_labels(session, annotator_name='gold', split=1)\n",
    "L_gold_dev"
   ]
  },
  {
   "cell_type": "code",
   "execution_count": 49,
   "metadata": {
    "collapsed": false
   },
   "outputs": [
    {
     "name": "stdout",
     "output_type": "stream",
     "text": [
      "============================================================\n",
      "[1] Testing lr = 1.00e-03, l1_penalty = 1.00e-04, l2_penalty = 1.00e-03\n",
      "============================================================\n",
      "[SparseLR] lr=0.001 l1=0.0001 l2=0.001\n",
      "[SparseLR] Building model\n",
      "[SparseLR] Training model\n",
      "[SparseLR] #examples=7524  #epochs=100  batch size=100\n",
      "[SparseLR] Epoch 0 (1.51s)\tAvg. loss=0.693434\tNNZ=434414\n",
      "[SparseLR] Epoch 25 (19.34s)\tAvg. loss=0.594222\tNNZ=434414\n",
      "[SparseLR] Epoch 50 (36.32s)\tAvg. loss=0.548588\tNNZ=434414\n",
      "[SparseLR] Epoch 75 (53.96s)\tAvg. loss=0.519936\tNNZ=434416\n",
      "[SparseLR] Epoch 99 (71.74s)\tAvg. loss=0.500509\tNNZ=434416\n",
      "[SparseLR] Training done (71.74s)\n",
      "[SparseLR] Model saved. To load, use name\n",
      "\t\tSparseLR_0\n",
      "============================================================\n",
      "[2] Testing lr = 1.00e-05, l1_penalty = 1.00e-02, l2_penalty = 1.00e-04\n",
      "============================================================\n",
      "[SparseLR] lr=1e-05 l1=0.01 l2=0.0001\n",
      "[SparseLR] Building model\n",
      "[SparseLR] Training model\n",
      "[SparseLR] #examples=7524  #epochs=100  batch size=100\n",
      "[SparseLR] Epoch 0 (1.40s)\tAvg. loss=0.693786\tNNZ=434415\n",
      "[SparseLR] Epoch 25 (19.20s)\tAvg. loss=0.691744\tNNZ=434413\n",
      "[SparseLR] Epoch 50 (37.06s)\tAvg. loss=0.689984\tNNZ=434414\n",
      "[SparseLR] Epoch 75 (56.33s)\tAvg. loss=0.688312\tNNZ=434416\n",
      "[SparseLR] Epoch 99 (73.33s)\tAvg. loss=0.686752\tNNZ=434413\n",
      "[SparseLR] Training done (73.33s)\n",
      "============================================================\n",
      "[3] Testing lr = 1.00e-03, l1_penalty = 1.00e-04, l2_penalty = 1.00e-03\n",
      "============================================================\n",
      "[SparseLR] lr=0.001 l1=0.0001 l2=0.001\n",
      "[SparseLR] Building model\n",
      "[SparseLR] Training model\n",
      "[SparseLR] #examples=7524  #epochs=100  batch size=100\n",
      "[SparseLR] Epoch 0 (1.38s)\tAvg. loss=0.693460\tNNZ=434415\n",
      "[SparseLR] Epoch 25 (19.59s)\tAvg. loss=0.592838\tNNZ=434415\n",
      "[SparseLR] Epoch 50 (37.79s)\tAvg. loss=0.547037\tNNZ=434414\n",
      "[SparseLR] Epoch 75 (56.68s)\tAvg. loss=0.518530\tNNZ=434415\n",
      "[SparseLR] Epoch 99 (74.53s)\tAvg. loss=0.499304\tNNZ=434416\n",
      "[SparseLR] Training done (74.53s)\n",
      "[SparseLR] Model saved. To load, use name\n",
      "\t\tSparseLR_2\n",
      "============================================================\n",
      "[4] Testing lr = 1.00e-03, l1_penalty = 1.00e-02, l2_penalty = 1.00e-03\n",
      "============================================================\n",
      "[SparseLR] lr=0.001 l1=0.01 l2=0.001\n",
      "[SparseLR] Building model\n",
      "[SparseLR] Training model\n",
      "[SparseLR] #examples=7524  #epochs=100  batch size=100\n",
      "[SparseLR] Epoch 0 (1.50s)\tAvg. loss=0.692964\tNNZ=434280\n",
      "[SparseLR] Epoch 25 (19.10s)\tAvg. loss=0.597529\tNNZ=434306\n",
      "[SparseLR] Epoch 50 (38.23s)\tAvg. loss=0.553330\tNNZ=434303\n",
      "[SparseLR] Epoch 75 (56.87s)\tAvg. loss=0.525521\tNNZ=434230\n",
      "[SparseLR] Epoch 99 (74.76s)\tAvg. loss=0.506599\tNNZ=434126\n",
      "[SparseLR] Training done (74.76s)\n",
      "============================================================\n",
      "[5] Testing lr = 1.00e-03, l1_penalty = 1.00e-02, l2_penalty = 1.00e-04\n",
      "============================================================\n",
      "[SparseLR] lr=0.001 l1=0.01 l2=0.0001\n",
      "[SparseLR] Building model\n",
      "[SparseLR] Training model\n",
      "[SparseLR] #examples=7524  #epochs=100  batch size=100\n",
      "[SparseLR] Epoch 0 (1.45s)\tAvg. loss=0.693500\tNNZ=434284\n",
      "[SparseLR] Epoch 25 (19.39s)\tAvg. loss=0.596597\tNNZ=434300\n",
      "[SparseLR] Epoch 50 (37.78s)\tAvg. loss=0.551985\tNNZ=434292\n",
      "[SparseLR] Epoch 75 (55.81s)\tAvg. loss=0.524045\tNNZ=434218\n",
      "[SparseLR] Epoch 99 (73.67s)\tAvg. loss=0.505118\tNNZ=434107\n",
      "[SparseLR] Training done (73.67s)\n",
      "============================================================\n",
      "[6] Testing lr = 1.00e-02, l1_penalty = 1.00e-04, l2_penalty = 1.00e-03\n",
      "============================================================\n",
      "[SparseLR] lr=0.01 l1=0.0001 l2=0.001\n",
      "[SparseLR] Building model\n",
      "[SparseLR] Training model\n",
      "[SparseLR] #examples=7524  #epochs=100  batch size=100\n",
      "[SparseLR] Epoch 0 (1.54s)\tAvg. loss=0.696609\tNNZ=434405\n",
      "[SparseLR] Epoch 25 (19.76s)\tAvg. loss=0.444931\tNNZ=434414\n",
      "[SparseLR] Epoch 50 (37.16s)\tAvg. loss=0.414020\tNNZ=434413\n",
      "[SparseLR] Epoch 75 (56.01s)\tAvg. loss=0.400692\tNNZ=434414\n",
      "[SparseLR] Epoch 99 (72.63s)\tAvg. loss=0.393296\tNNZ=434415\n",
      "[SparseLR] Training done (72.63s)\n",
      "============================================================\n",
      "[7] Testing lr = 1.00e-02, l1_penalty = 1.00e-02, l2_penalty = 1.00e-04\n",
      "============================================================\n",
      "[SparseLR] lr=0.01 l1=0.01 l2=0.0001\n",
      "[SparseLR] Building model\n",
      "[SparseLR] Training model\n",
      "[SparseLR] #examples=7524  #epochs=100  batch size=100\n",
      "[SparseLR] Epoch 0 (1.49s)\tAvg. loss=0.697144\tNNZ=433249\n",
      "[SparseLR] Epoch 25 (20.90s)\tAvg. loss=0.449970\tNNZ=433122\n",
      "[SparseLR] Epoch 50 (39.13s)\tAvg. loss=0.418849\tNNZ=431189\n",
      "[SparseLR] Epoch 75 (58.47s)\tAvg. loss=0.405258\tNNZ=429541\n",
      "[SparseLR] Epoch 99 (75.97s)\tAvg. loss=0.397682\tNNZ=428028\n",
      "[SparseLR] Training done (75.97s)\n",
      "============================================================\n",
      "[8] Testing lr = 1.00e-04, l1_penalty = 1.00e-02, l2_penalty = 1.00e-04\n",
      "============================================================\n",
      "[SparseLR] lr=0.0001 l1=0.01 l2=0.0001\n",
      "[SparseLR] Building model\n",
      "[SparseLR] Training model\n",
      "[SparseLR] #examples=7524  #epochs=100  batch size=100\n",
      "[SparseLR] Epoch 0 (1.55s)\tAvg. loss=0.693228\tNNZ=434407\n",
      "[SparseLR] Epoch 25 (20.12s)\tAvg. loss=0.677343\tNNZ=434400\n",
      "[SparseLR] Epoch 50 (37.89s)\tAvg. loss=0.664341\tNNZ=434405\n",
      "[SparseLR] Epoch 75 (56.30s)\tAvg. loss=0.653018\tNNZ=434395\n",
      "[SparseLR] Epoch 99 (73.30s)\tAvg. loss=0.643342\tNNZ=434390\n",
      "[SparseLR] Training done (73.30s)\n",
      "============================================================\n",
      "[9] Testing lr = 1.00e-05, l1_penalty = 1.00e-02, l2_penalty = 1.00e-02\n",
      "============================================================\n",
      "[SparseLR] lr=1e-05 l1=0.01 l2=0.01\n",
      "[SparseLR] Building model\n",
      "[SparseLR] Training model\n",
      "[SparseLR] #examples=7524  #epochs=100  batch size=100\n",
      "[SparseLR] Epoch 0 (1.54s)\tAvg. loss=0.693556\tNNZ=434415\n",
      "[SparseLR] Epoch 25 (20.74s)\tAvg. loss=0.691538\tNNZ=434414\n",
      "[SparseLR] Epoch 50 (39.05s)\tAvg. loss=0.689717\tNNZ=434414\n",
      "[SparseLR] Epoch 75 (58.18s)\tAvg. loss=0.687960\tNNZ=434414\n",
      "[SparseLR] Epoch 99 (75.96s)\tAvg. loss=0.686325\tNNZ=434414\n",
      "[SparseLR] Training done (75.96s)\n",
      "============================================================\n",
      "[10] Testing lr = 1.00e-05, l1_penalty = 1.00e-02, l2_penalty = 1.00e-02\n",
      "============================================================\n",
      "[SparseLR] lr=1e-05 l1=0.01 l2=0.01\n",
      "[SparseLR] Building model\n",
      "[SparseLR] Training model\n",
      "[SparseLR] #examples=7524  #epochs=100  batch size=100\n",
      "[SparseLR] Epoch 0 (1.49s)\tAvg. loss=0.694420\tNNZ=434415\n",
      "[SparseLR] Epoch 25 (20.56s)\tAvg. loss=0.692474\tNNZ=434416\n",
      "[SparseLR] Epoch 50 (38.75s)\tAvg. loss=0.690659\tNNZ=434415\n",
      "[SparseLR] Epoch 75 (58.06s)\tAvg. loss=0.688926\tNNZ=434414\n",
      "[SparseLR] Epoch 99 (75.43s)\tAvg. loss=0.687316\tNNZ=434413\n",
      "[SparseLR] Training done (75.43s)\n",
      "[SparseLR] Loaded model <SparseLR_2>\n"
     ]
    },
    {
     "data": {
      "text/html": [
       "<div>\n",
       "<table border=\"1\" class=\"dataframe\">\n",
       "  <thead>\n",
       "    <tr style=\"text-align: right;\">\n",
       "      <th></th>\n",
       "      <th>lr</th>\n",
       "      <th>l1_penalty</th>\n",
       "      <th>l2_penalty</th>\n",
       "      <th>Prec.</th>\n",
       "      <th>Rec.</th>\n",
       "      <th>F1</th>\n",
       "    </tr>\n",
       "  </thead>\n",
       "  <tbody>\n",
       "    <tr>\n",
       "      <th>2</th>\n",
       "      <td>0.00100</td>\n",
       "      <td>0.0001</td>\n",
       "      <td>0.0010</td>\n",
       "      <td>0.382743</td>\n",
       "      <td>0.584459</td>\n",
       "      <td>0.462567</td>\n",
       "    </tr>\n",
       "    <tr>\n",
       "      <th>0</th>\n",
       "      <td>0.00100</td>\n",
       "      <td>0.0001</td>\n",
       "      <td>0.0010</td>\n",
       "      <td>0.391924</td>\n",
       "      <td>0.557432</td>\n",
       "      <td>0.460251</td>\n",
       "    </tr>\n",
       "    <tr>\n",
       "      <th>3</th>\n",
       "      <td>0.00100</td>\n",
       "      <td>0.0100</td>\n",
       "      <td>0.0010</td>\n",
       "      <td>0.377261</td>\n",
       "      <td>0.493243</td>\n",
       "      <td>0.427526</td>\n",
       "    </tr>\n",
       "    <tr>\n",
       "      <th>6</th>\n",
       "      <td>0.01000</td>\n",
       "      <td>0.0100</td>\n",
       "      <td>0.0001</td>\n",
       "      <td>0.375000</td>\n",
       "      <td>0.486486</td>\n",
       "      <td>0.423529</td>\n",
       "    </tr>\n",
       "    <tr>\n",
       "      <th>5</th>\n",
       "      <td>0.01000</td>\n",
       "      <td>0.0001</td>\n",
       "      <td>0.0010</td>\n",
       "      <td>0.370968</td>\n",
       "      <td>0.466216</td>\n",
       "      <td>0.413174</td>\n",
       "    </tr>\n",
       "    <tr>\n",
       "      <th>4</th>\n",
       "      <td>0.00100</td>\n",
       "      <td>0.0100</td>\n",
       "      <td>0.0001</td>\n",
       "      <td>0.349515</td>\n",
       "      <td>0.486486</td>\n",
       "      <td>0.406780</td>\n",
       "    </tr>\n",
       "    <tr>\n",
       "      <th>8</th>\n",
       "      <td>0.00001</td>\n",
       "      <td>0.0100</td>\n",
       "      <td>0.0100</td>\n",
       "      <td>0.375740</td>\n",
       "      <td>0.429054</td>\n",
       "      <td>0.400631</td>\n",
       "    </tr>\n",
       "    <tr>\n",
       "      <th>9</th>\n",
       "      <td>0.00001</td>\n",
       "      <td>0.0100</td>\n",
       "      <td>0.0100</td>\n",
       "      <td>0.385965</td>\n",
       "      <td>0.371622</td>\n",
       "      <td>0.378657</td>\n",
       "    </tr>\n",
       "    <tr>\n",
       "      <th>1</th>\n",
       "      <td>0.00001</td>\n",
       "      <td>0.0100</td>\n",
       "      <td>0.0001</td>\n",
       "      <td>0.348214</td>\n",
       "      <td>0.395270</td>\n",
       "      <td>0.370253</td>\n",
       "    </tr>\n",
       "    <tr>\n",
       "      <th>7</th>\n",
       "      <td>0.00010</td>\n",
       "      <td>0.0100</td>\n",
       "      <td>0.0001</td>\n",
       "      <td>0.326019</td>\n",
       "      <td>0.351351</td>\n",
       "      <td>0.338211</td>\n",
       "    </tr>\n",
       "  </tbody>\n",
       "</table>\n",
       "</div>"
      ],
      "text/plain": [
       "        lr  l1_penalty  l2_penalty     Prec.      Rec.        F1\n",
       "2  0.00100      0.0001      0.0010  0.382743  0.584459  0.462567\n",
       "0  0.00100      0.0001      0.0010  0.391924  0.557432  0.460251\n",
       "3  0.00100      0.0100      0.0010  0.377261  0.493243  0.427526\n",
       "6  0.01000      0.0100      0.0001  0.375000  0.486486  0.423529\n",
       "5  0.01000      0.0001      0.0010  0.370968  0.466216  0.413174\n",
       "4  0.00100      0.0100      0.0001  0.349515  0.486486  0.406780\n",
       "8  0.00001      0.0100      0.0100  0.375740  0.429054  0.400631\n",
       "9  0.00001      0.0100      0.0100  0.385965  0.371622  0.378657\n",
       "1  0.00001      0.0100      0.0001  0.348214  0.395270  0.370253\n",
       "7  0.00010      0.0100      0.0001  0.326019  0.351351  0.338211"
      ]
     },
     "execution_count": 49,
     "metadata": {},
     "output_type": "execute_result"
    }
   ],
   "source": [
    "import numpy as np\n",
    "np.random.seed(1701)\n",
    "searcher.fit(F_dev, L_gold_dev, n_epochs=100, rebalance=0.5, print_freq=25)"
   ]
  },
  {
   "cell_type": "markdown",
   "metadata": {},
   "source": [
    "### Scoring on the test set\n",
    "\n",
    "Finally, we'll evaluate our performance on the blind test set of 500 documents. We'll load labels similar to how we did for the development set, and use the `score` function of our extraction model to see how we did."
   ]
  },
  {
   "cell_type": "code",
   "execution_count": null,
   "metadata": {
    "collapsed": false
   },
   "outputs": [],
   "source": [
    "from load_external_annotations import load_external_labels\n",
    "load_external_labels(session, ChemicalDisease, split=2, annotator='gold')"
   ]
  },
  {
   "cell_type": "code",
   "execution_count": 15,
   "metadata": {
    "collapsed": false
   },
   "outputs": [
    {
     "data": {
      "text/plain": [
       "<4620x1 sparse matrix of type '<type 'numpy.float64'>'\n",
       "\twith 4620 stored elements in Compressed Sparse Row format>"
      ]
     },
     "execution_count": 15,
     "metadata": {},
     "output_type": "execute_result"
    }
   ],
   "source": [
    "from snorkel.annotations import load_gold_labels\n",
    "L_gold_test = load_gold_labels(session, annotator_name='gold', split=2)\n",
    "L_gold_test"
   ]
  },
  {
   "cell_type": "code",
   "execution_count": 51,
   "metadata": {
    "collapsed": false
   },
   "outputs": [
    {
     "name": "stdout",
     "output_type": "stream",
     "text": [
      "========================================\n",
      "Scores (Un-adjusted)\n",
      "========================================\n",
      "Pos. class accuracy: 0.497\n",
      "Neg. class accuracy: 0.48\n",
      "Precision            0.316\n",
      "Recall               0.497\n",
      "F1                   0.386\n",
      "----------------------------------------\n",
      "TP: 748 | FP: 1620 | TN: 1495 | FN: 757\n",
      "========================================\n",
      "\n"
     ]
    }
   ],
   "source": [
    "_, _, _, _ = disc_model.score(session, F_test, L_gold_test, b=0.5)"
   ]
  },
  {
   "cell_type": "markdown",
   "metadata": {},
   "source": [
    "# Part V: Training an LSTM extraction model\n",
    "\n",
    "In the intro tutorial, we automatically featurized the candidates and trained a linear model over these features. Here, we'll train a more complicated model for relation extraction: an LSTM network. You can read more about LSTMs [here](https://en.wikipedia.org/wiki/Long_short-term_memory) or [here](http://colah.github.io/posts/2015-08-Understanding-LSTMs/). An LSTM is a type of recurrent neural network and automatically generates a numerical representation for the candidate based on the sentence text, so no need for featurizing explicitly as in the intro tutorial. LSTMs take longer to train, and Snorkel doesn't currently support hyperparameter searches for them. We'll train a single model here, but feel free to try out other parameter sets. Just make sure to use the development set - and not the test set - for model selection."
   ]
  },
  {
   "cell_type": "code",
   "execution_count": null,
   "metadata": {
    "collapsed": false
   },
   "outputs": [],
   "source": [
    "from snorkel.contrib.learning import reLSTM\n",
    "\n",
    "lstm = reLSTM()\n",
    "lstm.train(\n",
    "    train, train_marginals, lr=0.005, dim=200, n_epochs=30,\n",
    "    dropout_rate=0.5, rebalance=0.25, print_freq=5\n",
    ")"
   ]
  }
 ],
 "metadata": {
  "anaconda-cloud": {},
  "kernelspec": {
   "display_name": "Python 2",
   "language": "python",
   "name": "python2"
  },
  "language_info": {
   "codemirror_mode": {
    "name": "ipython",
    "version": 2
   },
   "file_extension": ".py",
   "mimetype": "text/x-python",
   "name": "python",
   "nbconvert_exporter": "python",
   "pygments_lexer": "ipython2",
   "version": "2.7.6"
  }
 },
 "nbformat": 4,
 "nbformat_minor": 0
}
