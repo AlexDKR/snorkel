{
 "cells": [
  {
   "cell_type": "markdown",
   "metadata": {},
   "source": [
    "# Disease Norm\n",
    "\n",
    "In this example, we'll be writing an application to extract *mentions of* diseases from Pubmed abstracts, using annotations from the [BioCreative CDR Challenge](http://www.biocreative.org/resources/corpora/biocreative-v-cdr-corpus/).  This tutorial, which has 5 parts, walks through the process of constructing a model to classify _candidate_ disease mentions as either true (i.e., that it is truly a mention of a disease) or false."
   ]
  },
  {
   "cell_type": "markdown",
   "metadata": {},
   "source": [
    "# Loading Candidates + Annotations"
   ]
  },
  {
   "cell_type": "code",
   "execution_count": 1,
   "metadata": {
    "collapsed": false,
    "scrolled": true
   },
   "outputs": [
    {
     "name": "stdout",
     "output_type": "stream",
     "text": [
      "The autoreload extension is already loaded. To reload it, use:\n",
      "  %reload_ext autoreload\n"
     ]
    }
   ],
   "source": [
    "%load_ext autoreload\n",
    "%autoreload 2\n",
    "%matplotlib inline\n",
    "\n",
    "import numpy as np\n",
    "from snorkel import SnorkelSession\n",
    "session = SnorkelSession()\n",
    "\n",
    "from snorkel.models import candidate_subclass\n",
    "\n",
    "Disease = candidate_subclass('Disease', ['disease'])"
   ]
  },
  {
   "cell_type": "code",
   "execution_count": 2,
   "metadata": {
    "collapsed": false
   },
   "outputs": [
    {
     "name": "stdout",
     "output_type": "stream",
     "text": [
      "28087\n",
      "27896\n"
     ]
    }
   ],
   "source": [
    "from snorkel.models import CandidateSet\n",
    "\n",
    "train = session.query(CandidateSet).filter(CandidateSet.name == 'CDR Training Candidates').one()\n",
    "print len(train)\n",
    "dev = session.query(CandidateSet).filter(CandidateSet.name == 'CDR Development Candidates').one()\n",
    "print len(dev)"
   ]
  },
  {
   "cell_type": "code",
   "execution_count": 3,
   "metadata": {
    "collapsed": false
   },
   "outputs": [
    {
     "name": "stdout",
     "output_type": "stream",
     "text": [
      "(28087, 1)\n",
      "(27896, 1)\n"
     ]
    }
   ],
   "source": [
    "from snorkel.annotations import LabelManager\n",
    "\n",
    "label_manager = LabelManager()\n",
    "\n",
    "L_gold_train = label_manager.load(session, train, \"CDR Training Label Set\")\n",
    "print L_gold_train.shape\n",
    "L_gold_dev = label_manager.load(session, dev, \"CDR Development Label Set\")\n",
    "print L_gold_dev.shape"
   ]
  },
  {
   "cell_type": "markdown",
   "metadata": {},
   "source": [
    "# Process / Load Features"
   ]
  },
  {
   "cell_type": "code",
   "execution_count": 4,
   "metadata": {
    "collapsed": true
   },
   "outputs": [],
   "source": [
    "from snorkel.annotations import FeatureManager\n",
    "\n",
    "feature_manager = FeatureManager()"
   ]
  },
  {
   "cell_type": "markdown",
   "metadata": {},
   "source": [
    "Process:"
   ]
  },
  {
   "cell_type": "code",
   "execution_count": 5,
   "metadata": {
    "collapsed": false
   },
   "outputs": [
    {
     "name": "stdout",
     "output_type": "stream",
     "text": [
      "[========================================] 100%\n",
      "\n",
      "Loading sparse Feature matrix...\n",
      "CPU times: user 17min 41s, sys: 21.1 s, total: 18min 2s\n",
      "Wall time: 17min 49s\n"
     ]
    }
   ],
   "source": [
    "%time F_train = feature_manager.create(session, train, 'Train Features')"
   ]
  },
  {
   "cell_type": "code",
   "execution_count": 6,
   "metadata": {
    "collapsed": false
   },
   "outputs": [
    {
     "name": "stdout",
     "output_type": "stream",
     "text": [
      "[========================================] 100%\n",
      "\n",
      "Loading sparse Feature matrix...\n",
      "CPU times: user 12min 41s, sys: 22.3 s, total: 13min 3s\n",
      "Wall time: 12min 50s\n"
     ]
    }
   ],
   "source": [
    "%time F_dev = feature_manager.update(session, dev, 'Train Features', False)"
   ]
  },
  {
   "cell_type": "markdown",
   "metadata": {},
   "source": [
    "Or, load if already processed:"
   ]
  },
  {
   "cell_type": "code",
   "execution_count": null,
   "metadata": {
    "collapsed": true
   },
   "outputs": [],
   "source": [
    "%time F_train = feature_manager.load(session, train, 'Train Features')"
   ]
  },
  {
   "cell_type": "code",
   "execution_count": null,
   "metadata": {
    "collapsed": true
   },
   "outputs": [],
   "source": [
    "%time F_dev = feature_manager.load(session, dev, 'Train Features')"
   ]
  },
  {
   "cell_type": "markdown",
   "metadata": {},
   "source": [
    "# Load dictionaries"
   ]
  },
  {
   "cell_type": "markdown",
   "metadata": {},
   "source": [
    "### Load the MESH ID -> CID mapping"
   ]
  },
  {
   "cell_type": "code",
   "execution_count": 7,
   "metadata": {
    "collapsed": true
   },
   "outputs": [],
   "source": [
    "from cPickle import load\n",
    "MESH_to_CID = load(open('MESH_to_CID.pkl', 'rb'))"
   ]
  },
  {
   "cell_type": "markdown",
   "metadata": {},
   "source": [
    "### Create a canonical dictionary (CD)"
   ]
  },
  {
   "cell_type": "code",
   "execution_count": 8,
   "metadata": {
    "collapsed": true
   },
   "outputs": [],
   "source": [
    "from utils import CanonicalDictionary\n",
    "cd = CanonicalDictionary(MESH_to_CID)"
   ]
  },
  {
   "cell_type": "markdown",
   "metadata": {},
   "source": [
    "### Add MESH to CD"
   ]
  },
  {
   "cell_type": "code",
   "execution_count": 9,
   "metadata": {
    "collapsed": false
   },
   "outputs": [
    {
     "name": "stdout",
     "output_type": "stream",
     "text": [
      "Loaded 28472 entries\n"
     ]
    }
   ],
   "source": [
    "# Load MESH\n",
    "from utils import load_mesh_raw\n",
    "mesh_entries = load_mesh_raw('data/desc2017.xml')"
   ]
  },
  {
   "cell_type": "code",
   "execution_count": 10,
   "metadata": {
    "collapsed": false
   },
   "outputs": [
    {
     "data": {
      "text/plain": [
       "152581"
      ]
     },
     "execution_count": 10,
     "metadata": {},
     "output_type": "execute_result"
    }
   ],
   "source": [
    "# Add MESH to cd\n",
    "for entry in mesh_entries:\n",
    "    mid, ps, terms = entry\n",
    "    paths = [[p[0]] + p[1:].split('.') for p in ps]\n",
    "    for term in terms:\n",
    "        cd.add_term(term, mid, tree_paths=paths)\n",
    "\n",
    "len(cd.term_to_sids)"
   ]
  },
  {
   "cell_type": "markdown",
   "metadata": {},
   "source": [
    "### Add MEDIC to CD\n",
    "\n",
    "Custom CTD diseases dictionary made from MESH category C + OMIM"
   ]
  },
  {
   "cell_type": "code",
   "execution_count": 11,
   "metadata": {
    "collapsed": false
   },
   "outputs": [
    {
     "name": "stdout",
     "output_type": "stream",
     "text": [
      "Loaded 11864 MEDIC entries\n"
     ]
    }
   ],
   "source": [
    "from utils import load_MEDIC, load_mesh_raw\n",
    "medic_entries, MEDIC_to_CID = load_MEDIC()"
   ]
  },
  {
   "cell_type": "code",
   "execution_count": 12,
   "metadata": {
    "collapsed": false
   },
   "outputs": [
    {
     "data": {
      "text/plain": [
       "180265"
      ]
     },
     "execution_count": 12,
     "metadata": {},
     "output_type": "execute_result"
    }
   ],
   "source": [
    "# Add MESH to cd\n",
    "for entry in medic_entries:\n",
    "    if entry.id.startswith(\"MESH\"):\n",
    "        mid = entry.id.split(\":\")[1]\n",
    "    elif len(entry.parent_ids) > 0 and entry.parent_ids[0].startswith(\"MESH\"):\n",
    "        mid = entry.parent_ids[0].split(\":\")[1]\n",
    "    else:\n",
    "        raise KeyError(entry)\n",
    "    \n",
    "    paths = []\n",
    "    for p in entry.tree_nums:\n",
    "        x = p.split(\"/\")[0]\n",
    "        paths.append([x[0]] + x[1:].split('.'))\n",
    "    \n",
    "    terms = [entry.name] + entry.synonyms\n",
    "    for term in terms:\n",
    "        cd.add_term(term, mid, tree_paths=paths)\n",
    "        \n",
    "len(cd.term_to_sids)"
   ]
  },
  {
   "cell_type": "markdown",
   "metadata": {},
   "source": [
    "### Add UMLS to CD\n",
    "\n",
    "This may or may not be all of the UMLS... file from Jason"
   ]
  },
  {
   "cell_type": "code",
   "execution_count": 13,
   "metadata": {
    "collapsed": false
   },
   "outputs": [
    {
     "data": {
      "text/plain": [
       "805576"
      ]
     },
     "execution_count": 13,
     "metadata": {},
     "output_type": "execute_result"
    }
   ],
   "source": [
    "with open('cui2mesh.tsv', 'rb') as f:\n",
    "    for line in f:\n",
    "        term, cui, mid = line.rstrip('\\n').split('\\t')\n",
    "        cd.add_term(term, mid)\n",
    "\n",
    "len(cd.term_to_sids)"
   ]
  },
  {
   "cell_type": "markdown",
   "metadata": {},
   "source": [
    "# Writing some multinomial LFs"
   ]
  },
  {
   "cell_type": "markdown",
   "metadata": {},
   "source": [
    "# NOTE: Beware of LF rollback bug!!!"
   ]
  },
  {
   "cell_type": "markdown",
   "metadata": {},
   "source": [
    "## TYPE I LF: Subsets of MESH dictionary"
   ]
  },
  {
   "cell_type": "code",
   "execution_count": 14,
   "metadata": {
    "collapsed": true
   },
   "outputs": [],
   "source": [
    "seen_global = defaultdict(set)"
   ]
  },
  {
   "cell_type": "markdown",
   "metadata": {},
   "source": [
    "## MESH exact match"
   ]
  },
  {
   "cell_type": "code",
   "execution_count": 15,
   "metadata": {
    "collapsed": true
   },
   "outputs": [],
   "source": [
    "def LFG_CD_match(c, p, key_mod=None):\n",
    "    \"\"\"\n",
    "    Given a candidate c, some transformed candidate disease phrase p,\n",
    "    and an optional key name modifier key_mod to be appended, return a generator\n",
    "    of key, value pairs\n",
    "    \"\"\"\n",
    "    if p in cd.term_to_sids:\n",
    "        for sid in cd.term_to_sids[p]:\n",
    "            cid   = cd.sid_to_cid[sid] if sid in cd.sid_to_cid else -1\n",
    "            paths = cd.tree_paths[sid]\n",
    "            for path in paths:\n",
    "                    \n",
    "                # NOTE: path may be shorter than max depth if higher up in the tree (e.g. 'cancer', 'ischemia')!\n",
    "                key = \"-\".join(path[:POS_DEPTH]) if cid > 0 else \"-\".join(path[:NEG_DEPTH])\n",
    "                        \n",
    "                # CHECK AGAINST / ADD TO GLOBAL SEEN SET!\n",
    "                # To make sure that relaxations of an LF don't overlap with each other on any given candidate\n",
    "                if c.id not in seen_global[key]:\n",
    "                    seen_global[key].add(c.id)\n",
    "                    if key_mod:\n",
    "                        key += \"-\" + key_mod\n",
    "                    yield key, cid"
   ]
  },
  {
   "cell_type": "code",
   "execution_count": 16,
   "metadata": {
    "collapsed": false
   },
   "outputs": [],
   "source": [
    "POS_DEPTH = 3\n",
    "NEG_DEPTH = 3\n",
    "\n",
    "def LFG_MESH_exact(c):\n",
    "    p = c.disease.get_span().lower()\n",
    "    return LFG_CD_match(c, p)"
   ]
  },
  {
   "cell_type": "code",
   "execution_count": 18,
   "metadata": {
    "collapsed": false
   },
   "outputs": [
    {
     "name": "stdout",
     "output_type": "stream",
     "text": [
      "[========================================] 100%\n",
      "\n",
      "Loading sparse Label matrix...\n",
      "CPU times: user 1min 24s, sys: 13.9 s, total: 1min 38s\n",
      "Wall time: 1min 28s\n"
     ]
    },
    {
     "data": {
      "text/plain": [
       "<28087x557 sparse matrix of type '<type 'numpy.float64'>'\n",
       "\twith 12891 stored elements in Compressed Sparse Row format>"
      ]
     },
     "execution_count": 18,
     "metadata": {},
     "output_type": "execute_result"
    }
   ],
   "source": [
    "%time L_train = label_manager.create(session, train, 'LF Training Labels -- ALL 1', f=LFG_MESH_exact)\n",
    "L_train"
   ]
  },
  {
   "cell_type": "markdown",
   "metadata": {},
   "source": [
    "### Drop JJs"
   ]
  },
  {
   "cell_type": "code",
   "execution_count": 20,
   "metadata": {
    "collapsed": true
   },
   "outputs": [],
   "source": [
    "def drop_jjs(c):\n",
    "    toks  = []\n",
    "    words = c.disease.get_attrib_tokens()\n",
    "    for i, tag in enumerate(c.disease.get_attrib_tokens('pos_tags')):\n",
    "        if re.match(r'JJ.*', tag) is None:\n",
    "            toks.append(words[i])\n",
    "    return \" \".join(toks).lower()"
   ]
  },
  {
   "cell_type": "code",
   "execution_count": 21,
   "metadata": {
    "collapsed": true
   },
   "outputs": [],
   "source": [
    "POS_DEPTH = 3\n",
    "NEG_DEPTH = 3\n",
    "\n",
    "def LFG_MESH_exact_drop_JJs(c):\n",
    "    p = drop_jjs(c)\n",
    "    return LFG_CD_match(c, p, key_mod=\"DJ\")"
   ]
  },
  {
   "cell_type": "code",
   "execution_count": 22,
   "metadata": {
    "collapsed": false
   },
   "outputs": [
    {
     "name": "stdout",
     "output_type": "stream",
     "text": [
      "[========================================] 100%\n",
      "\n",
      "Loading sparse Label matrix...\n",
      "CPU times: user 1min 22s, sys: 14.3 s, total: 1min 36s\n",
      "Wall time: 1min 26s\n"
     ]
    },
    {
     "data": {
      "text/plain": [
       "<28087x898 sparse matrix of type '<type 'numpy.float64'>'\n",
       "\twith 16690 stored elements in Compressed Sparse Row format>"
      ]
     },
     "execution_count": 22,
     "metadata": {},
     "output_type": "execute_result"
    }
   ],
   "source": [
    "%time L_train = label_manager.update(session, train, 'LF Training Labels -- ALL 1', True, LFG_MESH_exact_drop_JJs)\n",
    "L_train"
   ]
  },
  {
   "cell_type": "markdown",
   "metadata": {},
   "source": [
    "## MESH TF-IDF cosine match"
   ]
  },
  {
   "cell_type": "code",
   "execution_count": 23,
   "metadata": {
    "collapsed": false
   },
   "outputs": [
    {
     "name": "stdout",
     "output_type": "stream",
     "text": [
      "|V| = 271954\n",
      "CPU times: user 6min 18s, sys: 1.82 s, total: 6min 20s\n",
      "Wall time: 6min 19s\n"
     ]
    }
   ],
   "source": [
    "%%time\n",
    "from entity_norm import CanonDictVectorizer\n",
    "\n",
    "# Create a vectorizer based around this \n",
    "cd_vectorizer = CanonDictVectorizer(cd.term_to_sids, other_phrases=[])\n",
    "\n",
    "# Vectorize the dictionary\n",
    "D  = cd_vectorizer.vectorize_phrases(cd.terms)\n",
    "Dt = D.T\n",
    "Dt"
   ]
  },
  {
   "cell_type": "code",
   "execution_count": 25,
   "metadata": {
    "collapsed": false
   },
   "outputs": [],
   "source": [
    "POS_DEPTH = 3\n",
    "NEG_DEPTH = 3\n",
    "\n",
    "THRESHs = [0.75]\n",
    "\n",
    "def LFG_MESH_cosine(c):\n",
    "    mt = min(THRESHs)\n",
    "    \n",
    "    # Vectorize the phrase\n",
    "    p  = c.disease.get_span().lower()\n",
    "    cx = cd_vectorizer.vectorize_phrases([p])\n",
    "    m  = cx * Dt\n",
    "    \n",
    "    # Keep track of the highest-score match so far _for each LF_\n",
    "    highest_score = defaultdict(float)\n",
    "    \n",
    "    # Iterate over non-zero dictionary term matches > THRESH\n",
    "    # Note: changing to COO and iterating over the data direcltly is ~OM faster\n",
    "    m = m.tocoo()\n",
    "    for i, s in enumerate(m.data):\n",
    "        if s > mt:\n",
    "            j   = m.col[i]\n",
    "            for sid in cd.term_to_sids[cd.terms[j]]:\n",
    "                cid = cd.sid_to_cid[sid] if sid in cd.sid_to_cid else -1\n",
    "                for path in cd.tree_paths[sid]:\n",
    "                \n",
    "                    # We define each LF by a tree path code\n",
    "                    key  = \"-\".join(path[:POS_DEPTH]) if cid > 0 else \"-\".join(path[:NEG_DEPTH])\n",
    "                        \n",
    "                    # ADD TO GLOBAL SEEN SET!\n",
    "                    # This is to make sure that relaxations of an LF don't overlap with each other on any\n",
    "                    # given candidate\n",
    "                    if c.id not in seen_global[key]:\n",
    "                        seen_global[key].add(c.id)\n",
    "                        key += \"-c\"\n",
    "                \n",
    "                        # Only yield this value if higher than highest current emitted\n",
    "                        # Note: This will just update the current value in the DB\n",
    "                        if s > highest_score[key]:\n",
    "                            for t in THRESHs:\n",
    "                                if s > t:\n",
    "                                    highest_score[key] = s\n",
    "                                    yield key + \"-%s\" % t, cid"
   ]
  },
  {
   "cell_type": "code",
   "execution_count": 26,
   "metadata": {
    "collapsed": false
   },
   "outputs": [
    {
     "name": "stdout",
     "output_type": "stream",
     "text": [
      "[========================================] 100%\n",
      "\n",
      "Loading sparse Label matrix...\n",
      "CPU times: user 25min 31s, sys: 2min 50s, total: 28min 22s\n",
      "Wall time: 28min 3s\n"
     ]
    },
    {
     "data": {
      "text/plain": [
       "<28087x1849 sparse matrix of type '<type 'numpy.float64'>'\n",
       "\twith 57658 stored elements in Compressed Sparse Row format>"
      ]
     },
     "execution_count": 26,
     "metadata": {},
     "output_type": "execute_result"
    }
   ],
   "source": [
    "%time L_train = label_manager.update(session, train, 'LF Training Labels -- ALL 1', True, LFG_MESH_cosine)\n",
    "L_train"
   ]
  },
  {
   "cell_type": "markdown",
   "metadata": {},
   "source": [
    "# Putting in some negative LFs"
   ]
  },
  {
   "cell_type": "code",
   "execution_count": 27,
   "metadata": {
    "collapsed": true
   },
   "outputs": [],
   "source": [
    "import re\n",
    "from lf_terms import *\n",
    "from snorkel.lf_helpers import get_left_tokens, get_right_tokens\n",
    "from utils import *\n",
    "from Disease_Tagging_Tutorial_LFs import *\n",
    "chemicals = load_chemdner_dictionary()\n",
    "\n",
    "def LF_organs(c):\n",
    "    phrase = \" \".join(c[0].get_attrib_tokens()).lower()\n",
    "    return -1 if phrase in organs else 0      \n",
    "\n",
    "def LF_chemical_name(c):\n",
    "    phrase = \" \".join(c[0].get_attrib_tokens())\n",
    "    return -1 if phrase in chemicals and not phrase.isupper() else 0\n",
    "\n",
    "def LF_bodysym(c):\n",
    "    phrase = \" \".join(c[0].get_attrib_tokens()).lower()\n",
    "    return -1 if phrase in bodysym else 0  \n",
    "\n",
    "def LF_protein_chemical_abbrv(c):\n",
    "    '''Gene/protein/chemical name'''\n",
    "    lemma = \" \".join(c[0].get_attrib_tokens('lemmas'))\n",
    "    return -1 if re.search(\"\\d+\",lemma) else 0\n",
    "\n",
    "def LF_base_pair_seq(c): \n",
    "    lemma = \" \".join(c[0].get_attrib_tokens('lemmas'))\n",
    "    return -1 if re.search(\"^[GACT]{2,}$\",lemma) else 0\n",
    "\n",
    "LFs_false = [LF_chemical_name,\n",
    "             LF_organs,\n",
    "             LF_bodysym,\n",
    "             LF_protein_chemical_abbrv,\n",
    "             LF_base_pair_seq,\n",
    "             LF_too_vague,\n",
    "             LF_neg_surfix,\n",
    "             LF_non_common_disease,\n",
    "             LF_non_disease_acronyms,\n",
    "             LF_pos_in,\n",
    "             LF_gene_chromosome_link,\n",
    "             LF_right_window_incomplete,\n",
    "             LF_negative_indicator\n",
    "            ]"
   ]
  },
  {
   "cell_type": "code",
   "execution_count": 28,
   "metadata": {
    "collapsed": false
   },
   "outputs": [
    {
     "name": "stdout",
     "output_type": "stream",
     "text": [
      "[========================================] 100%\n",
      "\n",
      "Loading sparse Label matrix...\n",
      "CPU times: user 5min 22s, sys: 16.2 s, total: 5min 39s\n",
      "Wall time: 5min 27s\n"
     ]
    },
    {
     "data": {
      "text/plain": [
       "<28087x1862 sparse matrix of type '<type 'numpy.float64'>'\n",
       "\twith 71581 stored elements in Compressed Sparse Row format>"
      ]
     },
     "execution_count": 28,
     "metadata": {},
     "output_type": "execute_result"
    }
   ],
   "source": [
    "%time L_train = label_manager.update(session, train, 'LF Training Labels -- ALL 1', True, LFs_false)\n",
    "L_train"
   ]
  },
  {
   "cell_type": "code",
   "execution_count": null,
   "metadata": {
    "collapsed": false
   },
   "outputs": [],
   "source": [
    "# LOAD if already computed\n",
    "L_train = label_manager.load(session, train, 'LF Training Labels -- ALL 1')\n",
    "L_train"
   ]
  },
  {
   "cell_type": "markdown",
   "metadata": {},
   "source": [
    "# Running gen. model"
   ]
  },
  {
   "cell_type": "code",
   "execution_count": 29,
   "metadata": {
    "collapsed": false
   },
   "outputs": [
    {
     "data": {
      "text/plain": [
       "<28087x1862 sparse matrix of type '<type 'numpy.float64'>'\n",
       "\twith 71581 stored elements in Compressed Sparse Row format>"
      ]
     },
     "execution_count": 29,
     "metadata": {},
     "output_type": "execute_result"
    }
   ],
   "source": [
    "from utils import binarize_LF_matrix, get_binarized_score\n",
    "L_train_b = binarize_LF_matrix(L_train)\n",
    "L_train_b"
   ]
  },
  {
   "cell_type": "code",
   "execution_count": 35,
   "metadata": {
    "collapsed": false
   },
   "outputs": [
    {
     "name": "stdout",
     "output_type": "stream",
     "text": [
      "================================================================================\n",
      "Training marginals (!= 0.5):\t28087\n",
      "Features:\t\t\t1862\n",
      "================================================================================\n",
      "Begin training for rate=0.1, mu=1e-06\n",
      "\tLearning epoch = 0\tGradient mag. = 0.175641\n",
      "\tLearning epoch = 250\tGradient mag. = 0.177829\n",
      "\tLearning epoch = 500\tGradient mag. = 0.165160\n",
      "\tLearning epoch = 750\tGradient mag. = 0.155768\n",
      "\tLearning epoch = 1000\tGradient mag. = 0.145635\n",
      "\tLearning epoch = 1250\tGradient mag. = 0.130910\n",
      "\tLearning epoch = 1500\tGradient mag. = 0.121831\n",
      "\tLearning epoch = 1750\tGradient mag. = 0.116028\n",
      "\tLearning epoch = 2000\tGradient mag. = 0.111482\n",
      "\tLearning epoch = 2250\tGradient mag. = 0.108365\n",
      "\tLearning epoch = 2500\tGradient mag. = 0.105589\n",
      "\tLearning epoch = 2750\tGradient mag. = 0.099150\n",
      "\tLearning epoch = 3000\tGradient mag. = 0.094544\n",
      "\tLearning epoch = 3250\tGradient mag. = 0.090845\n",
      "\tLearning epoch = 3500\tGradient mag. = 0.087891\n",
      "\tLearning epoch = 3750\tGradient mag. = 0.084424\n",
      "\tLearning epoch = 4000\tGradient mag. = 0.081310\n",
      "\tLearning epoch = 4250\tGradient mag. = 0.078674\n",
      "\tLearning epoch = 4500\tGradient mag. = 0.076279\n",
      "\tLearning epoch = 4750\tGradient mag. = 0.074180\n",
      "Final gradient magnitude for rate=0.1, mu=1e-06: 0.072\n",
      "CPU times: user 9.89 s, sys: 52.8 ms, total: 9.95 s\n",
      "Wall time: 9.94 s\n"
     ]
    }
   ],
   "source": [
    "from snorkel.learning import NaiveBayes\n",
    "\n",
    "gen_model = NaiveBayes()\n",
    "%time gen_model.train(L_train_b, n_iter=5000, rate=1e-1, verbose=True)"
   ]
  },
  {
   "cell_type": "code",
   "execution_count": 36,
   "metadata": {
    "collapsed": false
   },
   "outputs": [
    {
     "name": "stdout",
     "output_type": "stream",
     "text": [
      "P :\t0.695609756098\n",
      "R :\t0.554719917012\n",
      "F1:\t0.617226951378\n"
     ]
    }
   ],
   "source": [
    "yp = gen_model.predict(L_train_b)\n",
    "get_binarized_score(yp, L_gold_train)"
   ]
  },
  {
   "cell_type": "code",
   "execution_count": 37,
   "metadata": {
    "collapsed": false
   },
   "outputs": [
    {
     "data": {
      "text/html": [
       "<div>\n",
       "<table border=\"1\" class=\"dataframe\">\n",
       "  <thead>\n",
       "    <tr style=\"text-align: right;\">\n",
       "      <th></th>\n",
       "      <th>j</th>\n",
       "      <th>coverage</th>\n",
       "      <th>overlaps</th>\n",
       "      <th>conflicts</th>\n",
       "      <th>accuracy</th>\n",
       "      <th>Learned Acc.</th>\n",
       "    </tr>\n",
       "  </thead>\n",
       "  <tbody>\n",
       "    <tr>\n",
       "      <th>LF_neg_surfix</th>\n",
       "      <td>1855</td>\n",
       "      <td>0.157689</td>\n",
       "      <td>0.105565</td>\n",
       "      <td>0.028056</td>\n",
       "      <td>0.972228</td>\n",
       "      <td>0.956537</td>\n",
       "    </tr>\n",
       "    <tr>\n",
       "      <th>LF_chemical_name</th>\n",
       "      <td>1849</td>\n",
       "      <td>0.121373</td>\n",
       "      <td>0.112579</td>\n",
       "      <td>0.016484</td>\n",
       "      <td>0.993253</td>\n",
       "      <td>0.985392</td>\n",
       "    </tr>\n",
       "    <tr>\n",
       "      <th>LF_negative_indicator</th>\n",
       "      <td>1861</td>\n",
       "      <td>0.104746</td>\n",
       "      <td>0.084950</td>\n",
       "      <td>0.013779</td>\n",
       "      <td>0.934058</td>\n",
       "      <td>0.991268</td>\n",
       "    </tr>\n",
       "    <tr>\n",
       "      <th>D-12-776-c-0.75</th>\n",
       "      <td>906</td>\n",
       "      <td>0.068822</td>\n",
       "      <td>0.066116</td>\n",
       "      <td>0.014170</td>\n",
       "      <td>0.932230</td>\n",
       "      <td>0.993295</td>\n",
       "    </tr>\n",
       "    <tr>\n",
       "      <th>N-02-421-c-0.75</th>\n",
       "      <td>935</td>\n",
       "      <td>0.046178</td>\n",
       "      <td>0.046071</td>\n",
       "      <td>0.005163</td>\n",
       "      <td>0.946029</td>\n",
       "      <td>0.956691</td>\n",
       "    </tr>\n",
       "    <tr>\n",
       "      <th>LF_too_vague</th>\n",
       "      <td>1854</td>\n",
       "      <td>0.039769</td>\n",
       "      <td>0.029053</td>\n",
       "      <td>0.006765</td>\n",
       "      <td>0.976723</td>\n",
       "      <td>0.999085</td>\n",
       "    </tr>\n",
       "    <tr>\n",
       "      <th>LF_protein_chemical_abbrv</th>\n",
       "      <td>1852</td>\n",
       "      <td>0.036209</td>\n",
       "      <td>0.017802</td>\n",
       "      <td>0.000961</td>\n",
       "      <td>0.971485</td>\n",
       "      <td>0.991914</td>\n",
       "    </tr>\n",
       "    <tr>\n",
       "      <th>N-03-540-c-0.75</th>\n",
       "      <td>936</td>\n",
       "      <td>0.032079</td>\n",
       "      <td>0.031972</td>\n",
       "      <td>0.000463</td>\n",
       "      <td>0.992231</td>\n",
       "      <td>0.999948</td>\n",
       "    </tr>\n",
       "    <tr>\n",
       "      <th>N-05-300-c-0.75</th>\n",
       "      <td>920</td>\n",
       "      <td>0.031758</td>\n",
       "      <td>0.031758</td>\n",
       "      <td>0.001887</td>\n",
       "      <td>0.947309</td>\n",
       "      <td>0.999028</td>\n",
       "    </tr>\n",
       "    <tr>\n",
       "      <th>N-05-715-c-0.75</th>\n",
       "      <td>948</td>\n",
       "      <td>0.029444</td>\n",
       "      <td>0.029444</td>\n",
       "      <td>0.004059</td>\n",
       "      <td>0.997582</td>\n",
       "      <td>0.999952</td>\n",
       "    </tr>\n",
       "    <tr>\n",
       "      <th>D-27-505-c-0.75</th>\n",
       "      <td>946</td>\n",
       "      <td>0.029266</td>\n",
       "      <td>0.026418</td>\n",
       "      <td>0.006693</td>\n",
       "      <td>0.880779</td>\n",
       "      <td>0.870592</td>\n",
       "    </tr>\n",
       "    <tr>\n",
       "      <th>D-08-811-c-0.75</th>\n",
       "      <td>951</td>\n",
       "      <td>0.028447</td>\n",
       "      <td>0.027522</td>\n",
       "      <td>0.002813</td>\n",
       "      <td>0.954944</td>\n",
       "      <td>0.998390</td>\n",
       "    </tr>\n",
       "    <tr>\n",
       "      <th>E-02-365-c-0.75</th>\n",
       "      <td>934</td>\n",
       "      <td>0.028412</td>\n",
       "      <td>0.028376</td>\n",
       "      <td>0.000214</td>\n",
       "      <td>0.992481</td>\n",
       "      <td>0.999952</td>\n",
       "    </tr>\n",
       "    <tr>\n",
       "      <th>M-01-150-c-0.75</th>\n",
       "      <td>932</td>\n",
       "      <td>0.028269</td>\n",
       "      <td>0.028234</td>\n",
       "      <td>0.000142</td>\n",
       "      <td>0.991184</td>\n",
       "      <td>0.999952</td>\n",
       "    </tr>\n",
       "    <tr>\n",
       "      <th>M-01-380-c-0.75</th>\n",
       "      <td>933</td>\n",
       "      <td>0.028091</td>\n",
       "      <td>0.028091</td>\n",
       "      <td>0.000000</td>\n",
       "      <td>0.994930</td>\n",
       "      <td>0.999953</td>\n",
       "    </tr>\n",
       "    <tr>\n",
       "      <th>M-01-643</th>\n",
       "      <td>14</td>\n",
       "      <td>0.027664</td>\n",
       "      <td>0.027557</td>\n",
       "      <td>0.000000</td>\n",
       "      <td>1.000000</td>\n",
       "      <td>0.999952</td>\n",
       "    </tr>\n",
       "    <tr>\n",
       "      <th>N-06-850-c-0.75</th>\n",
       "      <td>905</td>\n",
       "      <td>0.026133</td>\n",
       "      <td>0.026062</td>\n",
       "      <td>0.003988</td>\n",
       "      <td>0.942779</td>\n",
       "      <td>0.981903</td>\n",
       "    </tr>\n",
       "    <tr>\n",
       "      <th>LF_non_common_disease</th>\n",
       "      <td>1856</td>\n",
       "      <td>0.022502</td>\n",
       "      <td>0.021967</td>\n",
       "      <td>0.008260</td>\n",
       "      <td>1.000000</td>\n",
       "      <td>0.949975</td>\n",
       "    </tr>\n",
       "    <tr>\n",
       "      <th>C-16-320-c-0.75</th>\n",
       "      <td>929</td>\n",
       "      <td>0.019974</td>\n",
       "      <td>0.019974</td>\n",
       "      <td>0.011998</td>\n",
       "      <td>0.390374</td>\n",
       "      <td>0.768905</td>\n",
       "    </tr>\n",
       "    <tr>\n",
       "      <th>C-23-888-c-0.75</th>\n",
       "      <td>994</td>\n",
       "      <td>0.018051</td>\n",
       "      <td>0.017837</td>\n",
       "      <td>0.009257</td>\n",
       "      <td>0.372781</td>\n",
       "      <td>0.828221</td>\n",
       "    </tr>\n",
       "    <tr>\n",
       "      <th>C-16-131-c-0.75</th>\n",
       "      <td>943</td>\n",
       "      <td>0.017197</td>\n",
       "      <td>0.017090</td>\n",
       "      <td>0.010467</td>\n",
       "      <td>0.405797</td>\n",
       "      <td>0.782258</td>\n",
       "    </tr>\n",
       "    <tr>\n",
       "      <th>C-10-228-c-0.75</th>\n",
       "      <td>1004</td>\n",
       "      <td>0.016235</td>\n",
       "      <td>0.016057</td>\n",
       "      <td>0.012568</td>\n",
       "      <td>0.241228</td>\n",
       "      <td>0.809019</td>\n",
       "    </tr>\n",
       "    <tr>\n",
       "      <th>D-12-644-c-0.75</th>\n",
       "      <td>962</td>\n",
       "      <td>0.015523</td>\n",
       "      <td>0.015345</td>\n",
       "      <td>0.003525</td>\n",
       "      <td>0.944954</td>\n",
       "      <td>0.994295</td>\n",
       "    </tr>\n",
       "    <tr>\n",
       "      <th>E-05-318-c-0.75</th>\n",
       "      <td>902</td>\n",
       "      <td>0.015381</td>\n",
       "      <td>0.015274</td>\n",
       "      <td>0.000320</td>\n",
       "      <td>1.000000</td>\n",
       "      <td>0.999919</td>\n",
       "    </tr>\n",
       "    <tr>\n",
       "      <th>C-10-597-c-0.75</th>\n",
       "      <td>993</td>\n",
       "      <td>0.014776</td>\n",
       "      <td>0.014776</td>\n",
       "      <td>0.007121</td>\n",
       "      <td>0.359036</td>\n",
       "      <td>0.852860</td>\n",
       "    </tr>\n",
       "    <tr>\n",
       "      <th>D-03-633</th>\n",
       "      <td>21</td>\n",
       "      <td>0.014562</td>\n",
       "      <td>0.013992</td>\n",
       "      <td>0.001460</td>\n",
       "      <td>1.000000</td>\n",
       "      <td>0.999833</td>\n",
       "    </tr>\n",
       "    <tr>\n",
       "      <th>E-01-370-c-0.75</th>\n",
       "      <td>974</td>\n",
       "      <td>0.014206</td>\n",
       "      <td>0.013173</td>\n",
       "      <td>0.005020</td>\n",
       "      <td>0.751880</td>\n",
       "      <td>0.740526</td>\n",
       "    </tr>\n",
       "    <tr>\n",
       "      <th>C-23-888</th>\n",
       "      <td>12</td>\n",
       "      <td>0.013992</td>\n",
       "      <td>0.012711</td>\n",
       "      <td>0.007050</td>\n",
       "      <td>0.849873</td>\n",
       "      <td>0.850491</td>\n",
       "    </tr>\n",
       "    <tr>\n",
       "      <th>B-01-050</th>\n",
       "      <td>32</td>\n",
       "      <td>0.013921</td>\n",
       "      <td>0.003703</td>\n",
       "      <td>0.002492</td>\n",
       "      <td>0.994885</td>\n",
       "      <td>0.838166</td>\n",
       "    </tr>\n",
       "    <tr>\n",
       "      <th>D-03-383</th>\n",
       "      <td>46</td>\n",
       "      <td>0.013850</td>\n",
       "      <td>0.013458</td>\n",
       "      <td>0.001282</td>\n",
       "      <td>1.000000</td>\n",
       "      <td>0.999797</td>\n",
       "    </tr>\n",
       "    <tr>\n",
       "      <th>D-23-050-c-0.75</th>\n",
       "      <td>960</td>\n",
       "      <td>0.013173</td>\n",
       "      <td>0.013067</td>\n",
       "      <td>0.003276</td>\n",
       "      <td>0.818919</td>\n",
       "      <td>0.999478</td>\n",
       "    </tr>\n",
       "    <tr>\n",
       "      <th>I-01-880-c-0.75</th>\n",
       "      <td>913</td>\n",
       "      <td>0.012995</td>\n",
       "      <td>0.012960</td>\n",
       "      <td>0.004308</td>\n",
       "      <td>0.715068</td>\n",
       "      <td>0.800309</td>\n",
       "    </tr>\n",
       "    <tr>\n",
       "      <th>C-18-452-c-0.75</th>\n",
       "      <td>898</td>\n",
       "      <td>0.012711</td>\n",
       "      <td>0.012532</td>\n",
       "      <td>0.007192</td>\n",
       "      <td>0.403361</td>\n",
       "      <td>0.787722</td>\n",
       "    </tr>\n",
       "    <tr>\n",
       "      <th>D-02-092</th>\n",
       "      <td>28</td>\n",
       "      <td>0.012675</td>\n",
       "      <td>0.012604</td>\n",
       "      <td>0.000783</td>\n",
       "      <td>1.000000</td>\n",
       "      <td>0.999847</td>\n",
       "    </tr>\n",
       "    <tr>\n",
       "      <th>N-04-452-c-0.75</th>\n",
       "      <td>931</td>\n",
       "      <td>0.012070</td>\n",
       "      <td>0.010289</td>\n",
       "      <td>0.004593</td>\n",
       "      <td>0.828909</td>\n",
       "      <td>0.715078</td>\n",
       "    </tr>\n",
       "    <tr>\n",
       "      <th>C-23-550-c-0.75</th>\n",
       "      <td>1006</td>\n",
       "      <td>0.011820</td>\n",
       "      <td>0.011714</td>\n",
       "      <td>0.009471</td>\n",
       "      <td>0.219880</td>\n",
       "      <td>0.552017</td>\n",
       "    </tr>\n",
       "    <tr>\n",
       "      <th>E-02-760-c-0.75</th>\n",
       "      <td>995</td>\n",
       "      <td>0.011002</td>\n",
       "      <td>0.011002</td>\n",
       "      <td>0.001389</td>\n",
       "      <td>0.990291</td>\n",
       "      <td>0.999817</td>\n",
       "    </tr>\n",
       "    <tr>\n",
       "      <th>C-25-775-c-0.75</th>\n",
       "      <td>900</td>\n",
       "      <td>0.010645</td>\n",
       "      <td>0.010645</td>\n",
       "      <td>0.010183</td>\n",
       "      <td>0.016722</td>\n",
       "      <td>0.239348</td>\n",
       "    </tr>\n",
       "    <tr>\n",
       "      <th>F-01-829-c-0.75</th>\n",
       "      <td>964</td>\n",
       "      <td>0.010539</td>\n",
       "      <td>0.010396</td>\n",
       "      <td>0.007655</td>\n",
       "      <td>0.000000</td>\n",
       "      <td>0.343025</td>\n",
       "    </tr>\n",
       "    <tr>\n",
       "      <th>D-02-455</th>\n",
       "      <td>53</td>\n",
       "      <td>0.010254</td>\n",
       "      <td>0.010111</td>\n",
       "      <td>0.000463</td>\n",
       "      <td>1.000000</td>\n",
       "      <td>0.999601</td>\n",
       "    </tr>\n",
       "    <tr>\n",
       "      <th>M-01-526-c-0.75</th>\n",
       "      <td>1013</td>\n",
       "      <td>0.010218</td>\n",
       "      <td>0.010147</td>\n",
       "      <td>0.000320</td>\n",
       "      <td>1.000000</td>\n",
       "      <td>0.999683</td>\n",
       "    </tr>\n",
       "    <tr>\n",
       "      <th>F-01-145-c-0.75</th>\n",
       "      <td>911</td>\n",
       "      <td>0.009577</td>\n",
       "      <td>0.009328</td>\n",
       "      <td>0.008830</td>\n",
       "      <td>0.000000</td>\n",
       "      <td>0.208498</td>\n",
       "    </tr>\n",
       "    <tr>\n",
       "      <th>N-04-590-c-0.75</th>\n",
       "      <td>979</td>\n",
       "      <td>0.009328</td>\n",
       "      <td>0.009293</td>\n",
       "      <td>0.001353</td>\n",
       "      <td>1.000000</td>\n",
       "      <td>0.999443</td>\n",
       "    </tr>\n",
       "    <tr>\n",
       "      <th>C-13-351-c-0.75</th>\n",
       "      <td>1001</td>\n",
       "      <td>0.009328</td>\n",
       "      <td>0.009328</td>\n",
       "      <td>0.007192</td>\n",
       "      <td>0.297710</td>\n",
       "      <td>0.798069</td>\n",
       "    </tr>\n",
       "    <tr>\n",
       "      <th>C-10-597</th>\n",
       "      <td>107</td>\n",
       "      <td>0.009221</td>\n",
       "      <td>0.009221</td>\n",
       "      <td>0.005590</td>\n",
       "      <td>0.876448</td>\n",
       "      <td>0.825458</td>\n",
       "    </tr>\n",
       "    <tr>\n",
       "      <th>N-02-360-c-0.75</th>\n",
       "      <td>1014</td>\n",
       "      <td>0.009150</td>\n",
       "      <td>0.009150</td>\n",
       "      <td>0.000249</td>\n",
       "      <td>1.000000</td>\n",
       "      <td>0.999702</td>\n",
       "    </tr>\n",
       "    <tr>\n",
       "      <th>D-27-720-c-0.75</th>\n",
       "      <td>973</td>\n",
       "      <td>0.008901</td>\n",
       "      <td>0.008652</td>\n",
       "      <td>0.001389</td>\n",
       "      <td>0.968000</td>\n",
       "      <td>0.995287</td>\n",
       "    </tr>\n",
       "    <tr>\n",
       "      <th>N-06-850</th>\n",
       "      <td>4</td>\n",
       "      <td>0.008794</td>\n",
       "      <td>0.008794</td>\n",
       "      <td>0.002136</td>\n",
       "      <td>0.995951</td>\n",
       "      <td>0.999641</td>\n",
       "    </tr>\n",
       "    <tr>\n",
       "      <th>G-02-111-c-0.75</th>\n",
       "      <td>1134</td>\n",
       "      <td>0.008794</td>\n",
       "      <td>0.008545</td>\n",
       "      <td>0.002314</td>\n",
       "      <td>0.886640</td>\n",
       "      <td>0.992218</td>\n",
       "    </tr>\n",
       "    <tr>\n",
       "      <th>G-07-345-c-0.75</th>\n",
       "      <td>1061</td>\n",
       "      <td>0.008759</td>\n",
       "      <td>0.008759</td>\n",
       "      <td>0.003240</td>\n",
       "      <td>0.971545</td>\n",
       "      <td>0.931744</td>\n",
       "    </tr>\n",
       "  </tbody>\n",
       "</table>\n",
       "</div>"
      ],
      "text/plain": [
       "                              j  coverage  overlaps  conflicts  accuracy  \\\n",
       "LF_neg_surfix              1855  0.157689  0.105565   0.028056  0.972228   \n",
       "LF_chemical_name           1849  0.121373  0.112579   0.016484  0.993253   \n",
       "LF_negative_indicator      1861  0.104746  0.084950   0.013779  0.934058   \n",
       "D-12-776-c-0.75             906  0.068822  0.066116   0.014170  0.932230   \n",
       "N-02-421-c-0.75             935  0.046178  0.046071   0.005163  0.946029   \n",
       "LF_too_vague               1854  0.039769  0.029053   0.006765  0.976723   \n",
       "LF_protein_chemical_abbrv  1852  0.036209  0.017802   0.000961  0.971485   \n",
       "N-03-540-c-0.75             936  0.032079  0.031972   0.000463  0.992231   \n",
       "N-05-300-c-0.75             920  0.031758  0.031758   0.001887  0.947309   \n",
       "N-05-715-c-0.75             948  0.029444  0.029444   0.004059  0.997582   \n",
       "D-27-505-c-0.75             946  0.029266  0.026418   0.006693  0.880779   \n",
       "D-08-811-c-0.75             951  0.028447  0.027522   0.002813  0.954944   \n",
       "E-02-365-c-0.75             934  0.028412  0.028376   0.000214  0.992481   \n",
       "M-01-150-c-0.75             932  0.028269  0.028234   0.000142  0.991184   \n",
       "M-01-380-c-0.75             933  0.028091  0.028091   0.000000  0.994930   \n",
       "M-01-643                     14  0.027664  0.027557   0.000000  1.000000   \n",
       "N-06-850-c-0.75             905  0.026133  0.026062   0.003988  0.942779   \n",
       "LF_non_common_disease      1856  0.022502  0.021967   0.008260  1.000000   \n",
       "C-16-320-c-0.75             929  0.019974  0.019974   0.011998  0.390374   \n",
       "C-23-888-c-0.75             994  0.018051  0.017837   0.009257  0.372781   \n",
       "C-16-131-c-0.75             943  0.017197  0.017090   0.010467  0.405797   \n",
       "C-10-228-c-0.75            1004  0.016235  0.016057   0.012568  0.241228   \n",
       "D-12-644-c-0.75             962  0.015523  0.015345   0.003525  0.944954   \n",
       "E-05-318-c-0.75             902  0.015381  0.015274   0.000320  1.000000   \n",
       "C-10-597-c-0.75             993  0.014776  0.014776   0.007121  0.359036   \n",
       "D-03-633                     21  0.014562  0.013992   0.001460  1.000000   \n",
       "E-01-370-c-0.75             974  0.014206  0.013173   0.005020  0.751880   \n",
       "C-23-888                     12  0.013992  0.012711   0.007050  0.849873   \n",
       "B-01-050                     32  0.013921  0.003703   0.002492  0.994885   \n",
       "D-03-383                     46  0.013850  0.013458   0.001282  1.000000   \n",
       "D-23-050-c-0.75             960  0.013173  0.013067   0.003276  0.818919   \n",
       "I-01-880-c-0.75             913  0.012995  0.012960   0.004308  0.715068   \n",
       "C-18-452-c-0.75             898  0.012711  0.012532   0.007192  0.403361   \n",
       "D-02-092                     28  0.012675  0.012604   0.000783  1.000000   \n",
       "N-04-452-c-0.75             931  0.012070  0.010289   0.004593  0.828909   \n",
       "C-23-550-c-0.75            1006  0.011820  0.011714   0.009471  0.219880   \n",
       "E-02-760-c-0.75             995  0.011002  0.011002   0.001389  0.990291   \n",
       "C-25-775-c-0.75             900  0.010645  0.010645   0.010183  0.016722   \n",
       "F-01-829-c-0.75             964  0.010539  0.010396   0.007655  0.000000   \n",
       "D-02-455                     53  0.010254  0.010111   0.000463  1.000000   \n",
       "M-01-526-c-0.75            1013  0.010218  0.010147   0.000320  1.000000   \n",
       "F-01-145-c-0.75             911  0.009577  0.009328   0.008830  0.000000   \n",
       "N-04-590-c-0.75             979  0.009328  0.009293   0.001353  1.000000   \n",
       "C-13-351-c-0.75            1001  0.009328  0.009328   0.007192  0.297710   \n",
       "C-10-597                    107  0.009221  0.009221   0.005590  0.876448   \n",
       "N-02-360-c-0.75            1014  0.009150  0.009150   0.000249  1.000000   \n",
       "D-27-720-c-0.75             973  0.008901  0.008652   0.001389  0.968000   \n",
       "N-06-850                      4  0.008794  0.008794   0.002136  0.995951   \n",
       "G-02-111-c-0.75            1134  0.008794  0.008545   0.002314  0.886640   \n",
       "G-07-345-c-0.75            1061  0.008759  0.008759   0.003240  0.971545   \n",
       "\n",
       "                           Learned Acc.  \n",
       "LF_neg_surfix                  0.956537  \n",
       "LF_chemical_name               0.985392  \n",
       "LF_negative_indicator          0.991268  \n",
       "D-12-776-c-0.75                0.993295  \n",
       "N-02-421-c-0.75                0.956691  \n",
       "LF_too_vague                   0.999085  \n",
       "LF_protein_chemical_abbrv      0.991914  \n",
       "N-03-540-c-0.75                0.999948  \n",
       "N-05-300-c-0.75                0.999028  \n",
       "N-05-715-c-0.75                0.999952  \n",
       "D-27-505-c-0.75                0.870592  \n",
       "D-08-811-c-0.75                0.998390  \n",
       "E-02-365-c-0.75                0.999952  \n",
       "M-01-150-c-0.75                0.999952  \n",
       "M-01-380-c-0.75                0.999953  \n",
       "M-01-643                       0.999952  \n",
       "N-06-850-c-0.75                0.981903  \n",
       "LF_non_common_disease          0.949975  \n",
       "C-16-320-c-0.75                0.768905  \n",
       "C-23-888-c-0.75                0.828221  \n",
       "C-16-131-c-0.75                0.782258  \n",
       "C-10-228-c-0.75                0.809019  \n",
       "D-12-644-c-0.75                0.994295  \n",
       "E-05-318-c-0.75                0.999919  \n",
       "C-10-597-c-0.75                0.852860  \n",
       "D-03-633                       0.999833  \n",
       "E-01-370-c-0.75                0.740526  \n",
       "C-23-888                       0.850491  \n",
       "B-01-050                       0.838166  \n",
       "D-03-383                       0.999797  \n",
       "D-23-050-c-0.75                0.999478  \n",
       "I-01-880-c-0.75                0.800309  \n",
       "C-18-452-c-0.75                0.787722  \n",
       "D-02-092                       0.999847  \n",
       "N-04-452-c-0.75                0.715078  \n",
       "C-23-550-c-0.75                0.552017  \n",
       "E-02-760-c-0.75                0.999817  \n",
       "C-25-775-c-0.75                0.239348  \n",
       "F-01-829-c-0.75                0.343025  \n",
       "D-02-455                       0.999601  \n",
       "M-01-526-c-0.75                0.999683  \n",
       "F-01-145-c-0.75                0.208498  \n",
       "N-04-590-c-0.75                0.999443  \n",
       "C-13-351-c-0.75                0.798069  \n",
       "C-10-597                       0.825458  \n",
       "N-02-360-c-0.75                0.999702  \n",
       "D-27-720-c-0.75                0.995287  \n",
       "N-06-850                       0.999641  \n",
       "G-02-111-c-0.75                0.992218  \n",
       "G-07-345-c-0.75                0.931744  "
      ]
     },
     "execution_count": 37,
     "metadata": {},
     "output_type": "execute_result"
    }
   ],
   "source": [
    "# Print LF stats...\n",
    "from snorkel.learning import odds_to_prob\n",
    "lfs = L_train.lf_stats(labels=L_gold_train, est_accs=odds_to_prob(gen_model.w))\n",
    "lfs.nlargest(50, \"coverage\")"
   ]
  },
  {
   "cell_type": "markdown",
   "metadata": {},
   "source": [
    "# Error analysis"
   ]
  },
  {
   "cell_type": "code",
   "execution_count": 38,
   "metadata": {
    "collapsed": false
   },
   "outputs": [
    {
     "name": "stdout",
     "output_type": "stream",
     "text": [
      "936\n",
      "846\n"
     ]
    }
   ],
   "source": [
    "from random import shuffle\n",
    "N_train = L_gold_train.shape[0]\n",
    "\n",
    "fps = []\n",
    "fns = []\n",
    "for i in range(N_train):\n",
    "    if yp[i] > 0 and L_gold_train[i] < 0:\n",
    "        fps.append(i)\n",
    "    elif yp[i] < 0 and L_gold_train[i] > 0:\n",
    "        fns.append(i)\n",
    "\n",
    "shuffle(fps)\n",
    "shuffle(fns)\n",
    "\n",
    "print len(fps)\n",
    "print len(fns)"
   ]
  },
  {
   "cell_type": "code",
   "execution_count": 39,
   "metadata": {
    "collapsed": false
   },
   "outputs": [
    {
     "data": {
      "application/javascript": [
       "require.undef('viewer');\n",
       "\n",
       "// NOTE: all elements should be selected using this.$el.find to avoid collisions with other Viewers\n",
       "\n",
       "define('viewer', [\"jupyter-js-widgets\"], function(widgets) {\n",
       "    var ViewerView = widgets.DOMWidgetView.extend({\n",
       "        render: function() {\n",
       "            this.cids   = this.model.get('cids');\n",
       "            this.nPages = this.cids.length;\n",
       "            this.pid  = 0;\n",
       "            this.cxid = 0;\n",
       "            this.cid  = 0;\n",
       "\n",
       "            // Insert the html payload\n",
       "            this.$el.append(this.model.get('html'));\n",
       "\n",
       "            // Initialize all labels from previous sessions\n",
       "            this.labels = this.deserializeDict(this.model.get('_labels_serialized'));\n",
       "            for (var i=0; i < this.nPages; i++) {\n",
       "                this.pid = i;\n",
       "                for (var j=0; j < this.cids[i].length; j++) {\n",
       "                    this.cxid = j;\n",
       "                    for (var k=0; k < this.cids[i][j].length; k++) {\n",
       "                        this.cid = k;\n",
       "                        if (this.cids[i][j][k] in this.labels) {\n",
       "                            this.markCurrentCandidate(false);\n",
       "                        }\n",
       "                    }\n",
       "                }\n",
       "            }\n",
       "            this.pid  = 0;\n",
       "            this.cxid = 0;\n",
       "            this.cid  = 0;\n",
       "\n",
       "            // Enable button functionality for navigation\n",
       "            var that = this;\n",
       "            this.$el.find(\"#next-cand\").click(function() {\n",
       "                that.switchCandidate(1);\n",
       "            });\n",
       "            this.$el.find(\"#prev-cand\").click(function() {\n",
       "                that.switchCandidate(-1);\n",
       "            });\n",
       "            this.$el.find(\"#next-context\").click(function() {\n",
       "                that.switchContext(1);\n",
       "            });\n",
       "            this.$el.find(\"#prev-context\").click(function() {\n",
       "                that.switchContext(-1);\n",
       "            });\n",
       "            this.$el.find(\"#next-page\").click(function() {\n",
       "                that.switchPage(1);\n",
       "            });\n",
       "            this.$el.find(\"#prev-page\").click(function() {\n",
       "                that.switchPage(-1);\n",
       "            });\n",
       "            this.$el.find(\"#label-true\").click(function() {\n",
       "                that.labelCandidate(true, true);\n",
       "            });\n",
       "            this.$el.find(\"#label-false\").click(function() {\n",
       "                that.labelCandidate(false, true);\n",
       "            });\n",
       "\n",
       "            // Arrow key functionality\n",
       "            this.$el.keydown(function(e) {\n",
       "                switch(e.which) {\n",
       "                    case 74: // j\n",
       "                    that.switchCandidate(-1);\n",
       "                    break;\n",
       "\n",
       "                    case 73: // i\n",
       "                    that.switchPage(-1);\n",
       "                    break;\n",
       "\n",
       "                    case 76: // l\n",
       "                    that.switchCandidate(1);\n",
       "                    break;\n",
       "\n",
       "                    case 75: // k\n",
       "                    that.switchPage(1);\n",
       "                    break;\n",
       "\n",
       "                    case 84: // t\n",
       "                    that.labelCandidate(true, true);\n",
       "                    break;\n",
       "\n",
       "                    case 70: // f\n",
       "                    that.labelCandidate(false, true);\n",
       "                    break;\n",
       "                }\n",
       "            });\n",
       "\n",
       "            // Show the first page and highlight the first candidate\n",
       "            this.$el.find(\"#viewer-page-0\").show();\n",
       "            this.switchCandidate(0);\n",
       "        },\n",
       "\n",
       "        // Get candidate selector for currently selected candidate, escaping id properly\n",
       "        getCandidate: function() {\n",
       "            return this.$el.find(\".\"+this.cids[this.pid][this.cxid][this.cid]);\n",
       "        },  \n",
       "\n",
       "        // Color the candidate correctly according to registered label, as well as set highlighting\n",
       "        markCurrentCandidate: function(highlight) {\n",
       "            var cid  = this.cids[this.pid][this.cxid][this.cid];\n",
       "            var tags = this.$el.find(\".\"+cid);\n",
       "\n",
       "            // Clear color classes\n",
       "            tags.removeClass(\"candidate-h\");\n",
       "            tags.removeClass(\"true-candidate\");\n",
       "            tags.removeClass(\"true-candidate-h\");\n",
       "            tags.removeClass(\"false-candidate\");\n",
       "            tags.removeClass(\"false-candidate-h\");\n",
       "            tags.removeClass(\"highlighted\");\n",
       "\n",
       "            if (highlight) {\n",
       "                if (cid in this.labels) {\n",
       "                    tags.addClass(String(this.labels[cid]) + \"-candidate-h\");\n",
       "                } else {\n",
       "                    tags.addClass(\"candidate-h\");\n",
       "                }\n",
       "            \n",
       "            // If un-highlighting, leave with first non-null coloring\n",
       "            } else {\n",
       "                var that = this;\n",
       "                tags.each(function() {\n",
       "                    var cids = $(this).attr('class').split(/\\s+/).map(function(item) {\n",
       "                        return parseInt(item);\n",
       "                    });\n",
       "                    cids.sort();\n",
       "                    for (var i in cids) {\n",
       "                        if (cids[i] in that.labels) {\n",
       "                            var label = that.labels[cids[i]];\n",
       "                            $(this).addClass(String(label) + \"-candidate\");\n",
       "                            $(this).removeClass(String(!label) + \"-candidate\");\n",
       "                            break;\n",
       "                        }\n",
       "                    }\n",
       "                });\n",
       "            }\n",
       "\n",
       "            // Extra highlighting css\n",
       "            if (highlight) {\n",
       "                tags.addClass(\"highlighted\");\n",
       "            }\n",
       "\n",
       "            // Classes for showing direction of relation\n",
       "            if (highlight) {\n",
       "                this.$el.find(\".\"+cid+\"-0\").addClass(\"left-candidate\");\n",
       "                this.$el.find(\".\"+cid+\"-1\").addClass(\"right-candidate\");\n",
       "            } else {\n",
       "                this.$el.find(\".\"+cid+\"-0\").removeClass(\"left-candidate\");\n",
       "                this.$el.find(\".\"+cid+\"-1\").removeClass(\"right-candidate\");\n",
       "            }\n",
       "        },\n",
       "\n",
       "        // Cycle through candidates and highlight, by increment inc\n",
       "        switchCandidate: function(inc) {\n",
       "            var N = this.cids[this.pid].length\n",
       "            var M = this.cids[this.pid][this.cxid].length;\n",
       "            if (N == 0 || M == 0) { return false; }\n",
       "\n",
       "            // Clear highlighting from previous candidate\n",
       "            if (inc != 0) {\n",
       "                this.markCurrentCandidate(false);\n",
       "\n",
       "                // Increment the cid counter\n",
       "\n",
       "                // Move to next context\n",
       "                if (this.cid + inc >= M) {\n",
       "                    while (this.cid + inc >= M) {\n",
       "                        \n",
       "                        // At last context on page, halt\n",
       "                        if (this.cxid == N - 1) {\n",
       "                            this.cid = M - 1;\n",
       "                            inc = 0;\n",
       "                            break;\n",
       "                        \n",
       "                        // Increment to next context\n",
       "                        } else {\n",
       "                            inc -= M - this.cid;\n",
       "                            this.cxid += 1;\n",
       "                            M = this.cids[this.pid][this.cxid].length;\n",
       "                            this.cid = 0;\n",
       "                        }\n",
       "                    }\n",
       "\n",
       "                // Move to previous context\n",
       "                } else if (this.cid + inc < 0) {\n",
       "                    while (this.cid + inc < 0) {\n",
       "                        \n",
       "                        // At first context on page, halt\n",
       "                        if (this.cxid == 0) {\n",
       "                            this.cid = 0;\n",
       "                            inc = 0;\n",
       "                            break;\n",
       "                        \n",
       "                        // Increment to previous context\n",
       "                        } else {\n",
       "                            inc += this.cid + 1;\n",
       "                            this.cxid -= 1;\n",
       "                            M = this.cids[this.pid][this.cxid].length;\n",
       "                            this.cid = M - 1;\n",
       "                        }\n",
       "                    }\n",
       "                }\n",
       "\n",
       "                // Move within current context\n",
       "                this.cid += inc;\n",
       "            }\n",
       "            this.markCurrentCandidate(true);\n",
       "\n",
       "            // Push this new cid to the model\n",
       "            this.model.set('_selected_cid', this.cids[this.pid][this.cxid][this.cid]);\n",
       "            this.touch();\n",
       "        },\n",
       "\n",
       "        // Switch through contexts\n",
       "        switchContext: function(inc) {\n",
       "            this.markCurrentCandidate(false);\n",
       "\n",
       "            // Iterate context on this page\n",
       "            var M = this.cids[this.pid].length;\n",
       "            if (this.cxid + inc < 0) {\n",
       "                this.cxid = 0;\n",
       "            } else if (this.cxid + inc >= M) {\n",
       "                this.cxid = M - 1;\n",
       "            } else {\n",
       "                this.cxid += inc;\n",
       "            }\n",
       "\n",
       "            // Reset cid and set to first candidate\n",
       "            this.cid = 0;\n",
       "            this.switchCandidate(0);\n",
       "        },\n",
       "\n",
       "        // Switch through pages\n",
       "        switchPage: function(inc) {\n",
       "            this.markCurrentCandidate(false);\n",
       "            this.$el.find(\".viewer-page\").hide();\n",
       "            if (this.pid + inc < 0) {\n",
       "                this.pid = 0;\n",
       "            } else if (this.pid + inc > this.nPages - 1) {\n",
       "                this.pid = this.nPages - 1;\n",
       "            } else {\n",
       "                this.pid += inc;\n",
       "            }\n",
       "            this.$el.find(\"#viewer-page-\"+this.pid).show();\n",
       "\n",
       "            // Show pagination\n",
       "            this.$el.find(\"#page\").html(this.pid);\n",
       "\n",
       "            // Reset cid and set to first candidate\n",
       "            this.cid = 0;\n",
       "            this.cxid = 0;\n",
       "            this.switchCandidate(0);\n",
       "        },\n",
       "\n",
       "        // Label currently-selected candidate\n",
       "        labelCandidate: function(label, highlighted) {\n",
       "            var c    = this.getCandidate();\n",
       "            var cid  = this.cids[this.pid][this.cxid][this.cid];\n",
       "            var cl   = String(label) + \"-candidate\";\n",
       "            var clh  = String(label) + \"-candidate-h\";\n",
       "            var cln  = String(!label) + \"-candidate\";\n",
       "            var clnh = String(!label) + \"-candidate-h\";\n",
       "\n",
       "            // Toggle label highlighting\n",
       "            if (c.hasClass(cl) || c.hasClass(clh)) {\n",
       "                c.removeClass(cl);\n",
       "                c.removeClass(clh);\n",
       "                if (highlighted) {\n",
       "                    c.addClass(\"candidate-h\");\n",
       "                }\n",
       "                this.labels[cid] = null;\n",
       "                this.send({event: 'delete_label', cid: cid});\n",
       "            } else {\n",
       "                c.removeClass(cln);\n",
       "                c.removeClass(clnh);\n",
       "                if (highlighted) {\n",
       "                    c.addClass(clh);\n",
       "                } else {\n",
       "                    c.addClass(cl);\n",
       "                }\n",
       "                this.labels[cid] = label;\n",
       "                this.send({event: 'set_label', cid: cid, value: label});\n",
       "            }\n",
       "\n",
       "            // Set the label and pass back to the model\n",
       "            this.model.set('_labels_serialized', this.serializeDict(this.labels));\n",
       "            this.touch();\n",
       "        },\n",
       "\n",
       "        // Serialization of hash maps, because traitlets Dict doesn't seem to work...\n",
       "        serializeDict: function(d) {\n",
       "            var s = [];\n",
       "            for (var key in d) {\n",
       "                s.push(key+\"~~\"+d[key]);\n",
       "            }\n",
       "            return s.join();\n",
       "        },\n",
       "\n",
       "        // Deserialization of hash maps\n",
       "        deserializeDict: function(s) {\n",
       "            var d = {};\n",
       "            var entries = s.split(/,/);\n",
       "            var kv;\n",
       "            for (var i in entries) {\n",
       "                kv = entries[i].split(/~~/);\n",
       "                if (kv[1] == \"true\") {\n",
       "                    d[kv[0]] = true;\n",
       "                } else if (kv[1] == \"false\") {\n",
       "                    d[kv[0]] = false;\n",
       "                }\n",
       "            }\n",
       "            return d;\n",
       "        },\n",
       "    });\n",
       "\n",
       "    return {\n",
       "        ViewerView: ViewerView\n",
       "    };\n",
       "});\n"
      ],
      "text/plain": [
       "<IPython.core.display.Javascript object>"
      ]
     },
     "metadata": {},
     "output_type": "display_data"
    }
   ],
   "source": [
    "from snorkel.viewer import SentenceNgramViewer\n",
    "fn_cands = [L_train.get_candidate(i) for i in fns[:100]]\n",
    "svn      = SentenceNgramViewer(fn_cands, session)\n",
    "svn"
   ]
  },
  {
   "cell_type": "code",
   "execution_count": 50,
   "metadata": {
    "collapsed": false
   },
   "outputs": [
    {
     "data": {
      "text/plain": [
       "Disease(Span(\"hyperphosphatemia\", parent=728, chars=[118,134], words=[25,25]))"
      ]
     },
     "execution_count": 50,
     "metadata": {},
     "output_type": "execute_result"
    }
   ],
   "source": [
    "c = svn.get_selected()\n",
    "c"
   ]
  },
  {
   "cell_type": "code",
   "execution_count": 51,
   "metadata": {
    "collapsed": false
   },
   "outputs": [
    {
     "data": {
      "text/plain": [
       "[Label (CDR Training Label = 5146),\n",
       " Label (C-18-452 = 5146),\n",
       " Label (C-16-614-c-0.75 = -1),\n",
       " Label (C-05-116-c-0.75 = -1)]"
      ]
     },
     "execution_count": 51,
     "metadata": {},
     "output_type": "execute_result"
    }
   ],
   "source": [
    "from snorkel.models import Label\n",
    "session.query(Label).filter(Label.candidate == c).all()"
   ]
  },
  {
   "cell_type": "code",
   "execution_count": 52,
   "metadata": {
    "collapsed": false
   },
   "outputs": [
    {
     "name": "stdout",
     "output_type": "stream",
     "text": [
      "AnnotationKey (C-18-452) 0.799275428647 5146\n",
      "AnnotationKey (C-16-614-c-0.75) 0.683247128473 -1\n",
      "AnnotationKey (C-05-116-c-0.75) 0.832906032877 -1\n"
     ]
    }
   ],
   "source": [
    "from snorkel.learning.gen_learning import odds_to_prob\n",
    "i = L_train.get_row_index(c)\n",
    "\n",
    "for j in L_train.getrow(i).nonzero()[1]:\n",
    "    print L_train.get_key(j), odds_to_prob(gen_model.w[j]), int(L_train[i,j])"
   ]
  },
  {
   "cell_type": "code",
   "execution_count": 53,
   "metadata": {
    "collapsed": true
   },
   "outputs": [],
   "source": [
    "p  = c.disease.get_span().lower()\n",
    "cx = cd_vectorizer.vectorize_phrases([p])\n",
    "m  = cx * Dt"
   ]
  },
  {
   "cell_type": "code",
   "execution_count": 54,
   "metadata": {
    "collapsed": false
   },
   "outputs": [
    {
     "data": {
      "text/plain": [
       "(array([0, 0, 0, 0, 0, 0, 0, 0, 0, 0, 0, 0], dtype=int32),\n",
       " array([179102, 179101, 179100, 179098, 179097, 165775, 165774, 165708,\n",
       "        165707, 165706, 136590, 136589], dtype=int32))"
      ]
     },
     "execution_count": 54,
     "metadata": {},
     "output_type": "execute_result"
    }
   ],
   "source": [
    "m.nonzero()"
   ]
  },
  {
   "cell_type": "code",
   "execution_count": 56,
   "metadata": {
    "collapsed": false
   },
   "outputs": [
    {
     "name": "stdout",
     "output_type": "stream",
     "text": [
      "hyperphosphatemia tumoral calcinosis set(['C566870'])\n",
      "hyperphosphatemia hyperostosis syndrome set(['C566870'])\n",
      "hyperphosphatemia hyperostosis set(['C566870'])\n",
      "with hyperphosphatemia tumoral calcinosis set(['C566870'])\n",
      "tumoral with hyperphosphatemia calcinosis set(['C566870'])\n",
      "and seizures polyuria hyperphosphatemia set(['C565494'])\n",
      "polyuria and seizures hyperphosphatemia set(['C565494'])\n",
      "hyperostosis with hyperphosphatemia set(['C538381', 'C566870'])\n",
      "cortical hyperostosis with hyperphosphatemia set(['C538381', 'C566870'])\n",
      "hyperostosis-hyperphosphatemia syndrome set(['C538381', 'C566870'])\n",
      "hyperphosphatemias set(['D054559'])\n",
      "hyperphosphatemia set(['D054559'])\n"
     ]
    }
   ],
   "source": [
    "for j in m.nonzero()[1]:\n",
    "    t = cd.terms[j]\n",
    "    print t, cd.term_to_sids[t]"
   ]
  },
  {
   "cell_type": "code",
   "execution_count": 57,
   "metadata": {
    "collapsed": false
   },
   "outputs": [
    {
     "ename": "KeyError",
     "evalue": "'C566870'",
     "output_type": "error",
     "traceback": [
      "\u001b[0;31m---------------------------------------------------------------------------\u001b[0m",
      "\u001b[0;31mKeyError\u001b[0m                                  Traceback (most recent call last)",
      "\u001b[0;32m<ipython-input-57-6bb4fb1f1feb>\u001b[0m in \u001b[0;36m<module>\u001b[0;34m()\u001b[0m\n\u001b[0;32m----> 1\u001b[0;31m \u001b[0mcd\u001b[0m\u001b[0;34m.\u001b[0m\u001b[0msid_to_cid\u001b[0m\u001b[0;34m[\u001b[0m\u001b[0;34m'C566870'\u001b[0m\u001b[0;34m]\u001b[0m\u001b[0;34m\u001b[0m\u001b[0m\n\u001b[0m",
      "\u001b[0;31mKeyError\u001b[0m: 'C566870'"
     ]
    }
   ],
   "source": [
    "cd.sid_to_cid['C566870']"
   ]
  },
  {
   "cell_type": "code",
   "execution_count": null,
   "metadata": {
    "collapsed": false
   },
   "outputs": [],
   "source": [
    "[cd.sid_to_cid[sid] for sid in cd.term_to_sids['toxicity']]"
   ]
  },
  {
   "cell_type": "code",
   "execution_count": 43,
   "metadata": {
    "collapsed": false
   },
   "outputs": [
    {
     "data": {
      "text/plain": [
       "'D064420'"
      ]
     },
     "execution_count": 43,
     "metadata": {},
     "output_type": "execute_result"
    }
   ],
   "source": [
    "cd.cid_to_sid[5593]"
   ]
  },
  {
   "cell_type": "markdown",
   "metadata": {},
   "source": [
    "# TODO:\n",
    "\n",
    "* Re-write the cosine matcher:\n",
    "    - Currently it counts the highest-score match as _seen_, so labels with the next highest one!!!!\n",
    "    - Either need to skip the no-deps check, or get max first before emitting anything (this could be more efficient too!)\n",
    "\n",
    "* Switch to MESH 2016\n",
    "* Add in supplementary records!!!"
   ]
  },
  {
   "cell_type": "markdown",
   "metadata": {},
   "source": [
    "# Training Discriminative model"
   ]
  },
  {
   "cell_type": "code",
   "execution_count": 32,
   "metadata": {
    "collapsed": false
   },
   "outputs": [
    {
     "name": "stdout",
     "output_type": "stream",
     "text": [
      "================================================================================\n",
      "Training marginals (!= 0.5):\t20878\n",
      "Features:\t\t\t69885\n",
      "================================================================================\n",
      "Using gradient descent...\n",
      "\tLearning epoch = 0\tStep size = 0.001\n",
      "\tLoss = 14471.526836\tGradient magnitude = 11440.008285\n",
      "\tLearning epoch = 100\tStep size = 0.000904792147114\n",
      "\tLoss = 5252.705794\tGradient magnitude = 2589.044600\n",
      "\tLearning epoch = 200\tStep size = 0.000818648829479\n",
      "\tLoss = 3633.779540\tGradient magnitude = 1705.518976\n",
      "\tLearning epoch = 300\tStep size = 0.000740707032156\n",
      "\tLoss = 2938.941213\tGradient magnitude = 942.095663\n",
      "\tLearning epoch = 400\tStep size = 0.000670185906007\n",
      "\tLoss = 2667.006219\tGradient magnitude = 47.080719\n",
      "\tLearning epoch = 500\tStep size = 0.000606378944861\n",
      "\tLoss = 2601.234768\tGradient magnitude = 30.086925\n",
      "\tLearning epoch = 600\tStep size = 0.000548646907485\n",
      "\tLoss = 2554.348699\tGradient magnitude = 27.249469\n",
      "\tLearning epoch = 700\tStep size = 0.000496411413431\n",
      "\tLoss = 2518.889631\tGradient magnitude = 25.184339\n",
      "\tLearning epoch = 800\tStep size = 0.00044914914861\n",
      "\tLoss = 2491.162859\tGradient magnitude = 23.596542\n",
      "\tLearning epoch = 900\tStep size = 0.000406386622545\n",
      "\tLoss = 2468.963282\tGradient magnitude = 22.336406\n",
      "\tLearning epoch = 1000\tStep size = 0.000367695424771\n",
      "\tLoss = 2450.865955\tGradient magnitude = 21.314477\n",
      "\tLearning epoch = 1100\tStep size = 0.000332687932862\n",
      "\tLoss = 2435.900176\tGradient magnitude = 20.472258\n",
      "\tLearning epoch = 1200\tStep size = 0.000301013429093\n",
      "\tLoss = 2423.379905\tGradient magnitude = 19.769336\n",
      "\tLearning epoch = 1300\tStep size = 0.000272354586819\n",
      "\tLoss = 2412.804828\tGradient magnitude = 19.176684\n",
      "\tLearning epoch = 1400\tStep size = 0.000246424291385\n",
      "\tLoss = 2403.801576\tGradient magnitude = 18.672821\n",
      "\tLearning epoch = 1500\tStep size = 0.000222962763703\n",
      "\tLoss = 2396.085181\tGradient magnitude = 18.241482\n",
      "\tLearning epoch = 1600\tStep size = 0.000201734957697\n",
      "\tLoss = 2389.434652\tGradient magnitude = 17.870094\n",
      "\tLearning epoch = 1700\tStep size = 0.000182528205523\n",
      "\tLoss = 2383.675835\tGradient magnitude = 17.548777\n",
      "\tLearning epoch = 1800\tStep size = 0.000165150086984\n",
      "\tLoss = 2378.669153\tGradient magnitude = 17.269660\n",
      "\tLearning epoch = 1900\tStep size = 0.000149426501798\n",
      "\tLoss = 2374.301912\tGradient magnitude = 17.026399\n"
     ]
    }
   ],
   "source": [
    "from snorkel.learning import LogReg\n",
    "\n",
    "train_marginals = gen_model.marginals(L_train_b)\n",
    "\n",
    "disc_model = LogReg()\n",
    "disc_model.train(F_train, train_marginals, n_iter=2000, rate=1e-3, mu=1e-6)"
   ]
  },
  {
   "cell_type": "code",
   "execution_count": 33,
   "metadata": {
    "collapsed": false
   },
   "outputs": [
    {
     "name": "stdout",
     "output_type": "stream",
     "text": [
      "P :\t0.744621141254\n",
      "R :\t0.619294605809\n",
      "F1:\t0.67619991505\n"
     ]
    }
   ],
   "source": [
    "yp = disc_model.predict(F_train)\n",
    "get_binarized_score(yp, L_gold_train)"
   ]
  },
  {
   "cell_type": "code",
   "execution_count": 34,
   "metadata": {
    "collapsed": false
   },
   "outputs": [
    {
     "name": "stdout",
     "output_type": "stream",
     "text": [
      "P :\t0.747138047138\n",
      "R :\t0.561487854251\n",
      "F1:\t0.641144177983\n"
     ]
    }
   ],
   "source": [
    "yp = disc_model.predict(F_dev, b=0.5)\n",
    "get_binarized_score(yp, L_gold_dev)"
   ]
  },
  {
   "cell_type": "code",
   "execution_count": null,
   "metadata": {
    "collapsed": false
   },
   "outputs": [],
   "source": [
    "plt.hist(disc_model.marginals(F_dev))"
   ]
  },
  {
   "cell_type": "code",
   "execution_count": null,
   "metadata": {
    "collapsed": false
   },
   "outputs": [],
   "source": [
    "from snorkel.learning.gen_learning import odds_to_prob\n",
    "plt.hist(odds_to_prob(gen_model.w))"
   ]
  },
  {
   "cell_type": "code",
   "execution_count": null,
   "metadata": {
    "collapsed": false
   },
   "outputs": [],
   "source": [
    "L_train.lf_stats(labels=L_gold_train, est_accs=odds_to_prob(gen_model.w))"
   ]
  },
  {
   "cell_type": "markdown",
   "metadata": {},
   "source": [
    "# Hard filtering"
   ]
  },
  {
   "cell_type": "code",
   "execution_count": null,
   "metadata": {
    "collapsed": false
   },
   "outputs": [],
   "source": [
    "# Try overriding with any exact matches...\n",
    "ype = np.zeros(L_gold_train.shape[0])\n",
    "for i,c in enumerate(dev):\n",
    "    if i % 5000 == 0:\n",
    "        print i\n",
    "    pos = 0\n",
    "    neg = 0\n",
    "    for lf_name, label in LFG_MESH_exact(c):\n",
    "        if label > 0:\n",
    "            pos += 1\n",
    "        else:\n",
    "            neg += 1\n",
    "    \n",
    "    for lf_name, label in LFG_MESH_exact_drop_JJs(c):\n",
    "        if label > 0:\n",
    "            pos += 1\n",
    "        else:\n",
    "            neg += 1\n",
    "    \n",
    "    if neg > 0 and pos == 0:\n",
    "        ype[i] = -1\n",
    "    elif pos > 0 and neg == 0:\n",
    "        ype[i] = 1\n",
    "    else:\n",
    "        ype[i] = yp[i]"
   ]
  },
  {
   "cell_type": "code",
   "execution_count": null,
   "metadata": {
    "collapsed": false
   },
   "outputs": [],
   "source": [
    "get_binarized_score(ype, L_gold_dev)"
   ]
  },
  {
   "cell_type": "markdown",
   "metadata": {},
   "source": [
    "# Now, getting CIDs in simple heuristic way"
   ]
  },
  {
   "cell_type": "code",
   "execution_count": null,
   "metadata": {
    "collapsed": false
   },
   "outputs": [],
   "source": [
    "N = L_gold_train.shape[0]"
   ]
  },
  {
   "cell_type": "code",
   "execution_count": null,
   "metadata": {
    "collapsed": false
   },
   "outputs": [],
   "source": [
    "pp_idxs = [i for i in range(N) if yp[i] == 1 and L_gold_train[i] > 0]\n",
    "pp_idxs[:5]"
   ]
  },
  {
   "cell_type": "code",
   "execution_count": null,
   "metadata": {
    "collapsed": false
   },
   "outputs": [],
   "source": [
    "i = 32\n",
    "for j in L_train.getrow(i).nonzero()[1]:\n",
    "    print L_train.get_key(j), gen_model.w[j], L_train[i,j]"
   ]
  },
  {
   "cell_type": "code",
   "execution_count": null,
   "metadata": {
    "collapsed": false
   },
   "outputs": [],
   "source": [
    "i = 53\n",
    "for j in L_train.getrow(i).nonzero()[1]:\n",
    "    print L_train.get_key(j), gen_model.w[j], L_train[i,j]"
   ]
  },
  {
   "cell_type": "code",
   "execution_count": null,
   "metadata": {
    "collapsed": false
   },
   "outputs": [],
   "source": [
    "L_gold_train[53,0]"
   ]
  },
  {
   "cell_type": "code",
   "execution_count": null,
   "metadata": {
    "collapsed": false
   },
   "outputs": [],
   "source": [
    "print L_train.get_key(558)\n",
    "print gen_model.w[558]\n",
    "print L_train[18,558]"
   ]
  },
  {
   "cell_type": "code",
   "execution_count": null,
   "metadata": {
    "collapsed": false
   },
   "outputs": [],
   "source": [
    "correct   = 0\n",
    "predicted = 0\n",
    "total     = 0\n",
    "for i in range(N):\n",
    "    if L_gold_train[i,0] > 0:\n",
    "        total += 1\n",
    "    \n",
    "    if yp[i] > 0:\n",
    "        predicted += 1\n",
    "        \n",
    "        max_w = 0.0\n",
    "        cid   = -1\n",
    "        for j in L_train.getrow(i).nonzero()[1]:\n",
    "            if gen_model.w[j] > max_w:\n",
    "                max_w = gen_model.w[j]\n",
    "                cid   = L_train[i,j]\n",
    "        \n",
    "        if cid == L_gold_train[i,0]:\n",
    "            correct += 1\n",
    "\n",
    "prec   = correct / float(predicted)\n",
    "recall = correct / float(total)\n",
    "\n",
    "print \"P:\\t\", prec\n",
    "print \"R:\\t\", recall\n",
    "print \"F1:\\t\", (2*prec*recall) / (prec+recall)"
   ]
  },
  {
   "cell_type": "code",
   "execution_count": null,
   "metadata": {
    "collapsed": false
   },
   "outputs": [],
   "source": [
    "correct   = 0\n",
    "predicted = 0\n",
    "total     = 0\n",
    "for i in range(N):\n",
    "    if L_gold_train[i,0] > 0:\n",
    "        total += 1\n",
    "        \n",
    "    max_w = 0.0\n",
    "    cid   = -1\n",
    "    for j in L_train.getrow(i).nonzero()[1]:\n",
    "        if gen_model.w[j] > max_w:\n",
    "            max_w = gen_model.w[j]\n",
    "            cid   = L_train[i,j]\n",
    "        \n",
    "    if cid > 0:\n",
    "        predicted += 1  \n",
    "        if cid == L_gold_train[i,0]:\n",
    "            correct += 1\n",
    "\n",
    "prec   = correct / float(predicted)\n",
    "recall = correct / float(total)\n",
    "\n",
    "print \"P:\\t\", prec\n",
    "print \"R:\\t\", recall\n",
    "print \"F1:\\t\", (2*prec*recall) / (prec+recall)"
   ]
  },
  {
   "cell_type": "markdown",
   "metadata": {},
   "source": [
    "# ETC"
   ]
  },
  {
   "cell_type": "markdown",
   "metadata": {},
   "source": [
    "# Different cut levels:\n",
    "\n",
    "Note: G = gen model on training set, D = disc. model on test set\n",
    "\n",
    "* Pos: 1, Neg: 1, Pos-cosine: 1, Neg-cosine: 1, Thresh-cosine: 0.75 = 56 F1 G / 63 F1 D\n",
    "* TODO...\n",
    "* Pos: 3, Neg: 3, Pos-cosine: 3, Neg-cosine: 3, Thresh-cosine: 0.75 = 61 F1 G / 68 F1 D\n",
    "* Pos: 3, Neg: 3, Pos-cosine: 3, Neg-cosine: 3, Thresh-cosine: [0.5, 0.75] = 63 F1 G / 65 F1 D\n",
    "* Pos: 4, Neg: 4, Pos-cosine: 4, Neg-cosine: 4, Thresh-cosine: 0.75 = 60 F1 G / 64 F1 D\n",
    "\n",
    "### Adding in drop_JJs + NEG LFs:\n",
    "\n",
    "* Pos: 2, Neg: 2, Pos-cosine: 2, Neg-cosine: 2, Thresh-cosine: 0.75 = 69 F1 G / 71 F1 D\n",
    "* Pos: 3, Neg: 3, Pos-cosine: 3, Neg-cosine: 3, Thresh-cosine: 0.75 = 70 F1 G / 73 F1 D\n",
    "\n",
    "\n",
    "#### Note: we're not yet dealing with acronyms!!!"
   ]
  },
  {
   "cell_type": "code",
   "execution_count": null,
   "metadata": {
    "collapsed": false
   },
   "outputs": [],
   "source": [
    "hf = np.ones(L_train_b.shape[0])"
   ]
  },
  {
   "cell_type": "code",
   "execution_count": null,
   "metadata": {
    "collapsed": true
   },
   "outputs": [],
   "source": [
    "for i in range(L_train_b.shape[0]):\n",
    "    "
   ]
  },
  {
   "cell_type": "code",
   "execution_count": null,
   "metadata": {
    "collapsed": false
   },
   "outputs": [],
   "source": [
    "L_train_b.getrow(0)"
   ]
  },
  {
   "cell_type": "code",
   "execution_count": null,
   "metadata": {
    "collapsed": false
   },
   "outputs": [],
   "source": [
    "L_train_b.sum(1).shape"
   ]
  },
  {
   "cell_type": "code",
   "execution_count": null,
   "metadata": {
    "collapsed": false
   },
   "outputs": [],
   "source": [
    "from snorkel.utils import sparse_abs\n",
    "sparse_abs(L_train_b).sum(1).shape"
   ]
  },
  {
   "cell_type": "code",
   "execution_count": null,
   "metadata": {
    "collapsed": false
   },
   "outputs": [],
   "source": [
    "hf = np.where(L_train_b.sum(1) == sparse_abs(L_train_b).sum(1), np.sign(L_train_b.sum(1)), 0)"
   ]
  },
  {
   "cell_type": "code",
   "execution_count": null,
   "metadata": {
    "collapsed": false
   },
   "outputs": [],
   "source": [
    "hf.shape"
   ]
  },
  {
   "cell_type": "code",
   "execution_count": null,
   "metadata": {
    "collapsed": false
   },
   "outputs": [],
   "source": [
    "L_gold_train_b = np.sign(L_gold_train.todense())"
   ]
  },
  {
   "cell_type": "code",
   "execution_count": null,
   "metadata": {
    "collapsed": false
   },
   "outputs": [],
   "source": [
    "L_gold_train_b"
   ]
  },
  {
   "cell_type": "code",
   "execution_count": null,
   "metadata": {
    "collapsed": false
   },
   "outputs": [],
   "source": [
    "L_gold_train_b.T.dot(hf)"
   ]
  },
  {
   "cell_type": "code",
   "execution_count": null,
   "metadata": {
    "collapsed": true
   },
   "outputs": [],
   "source": [
    "hf.sum"
   ]
  },
  {
   "cell_type": "code",
   "execution_count": null,
   "metadata": {
    "collapsed": true
   },
   "outputs": [],
   "source": [
    "L_train_b_sum = L_train_b.sum(1)\n",
    "L_train_b_abs_sum = sparse_abs(L_train_b).sum(1)\n",
    "L_train_b_sum_abs = sparse_abs(L_train_b.sum(1))"
   ]
  },
  {
   "cell_type": "code",
   "execution_count": null,
   "metadata": {
    "collapsed": false
   },
   "outputs": [],
   "source": [
    "L_train_b"
   ]
  },
  {
   "cell_type": "code",
   "execution_count": null,
   "metadata": {
    "collapsed": false
   },
   "outputs": [],
   "source": [
    "correct = 0\n",
    "wrong   = 0\n",
    "for i in range(L_train_b.shape[0]):\n",
    "    if L_train_b_sum[i] < 0 and L_train_b_sum_abs[i] == L_train_b_abs_sum[i]:\n",
    "        if L_gold_train[i] < 0:\n",
    "            correct += 1\n",
    "        else:\n",
    "            wrong += 1\n",
    "            \n",
    "print correct\n",
    "print wrong\n",
    "print correct / float(correct + wrong)"
   ]
  },
  {
   "cell_type": "code",
   "execution_count": null,
   "metadata": {
    "collapsed": false
   },
   "outputs": [],
   "source": [
    "N = L_train.shape[0]\n",
    "N"
   ]
  },
  {
   "cell_type": "code",
   "execution_count": null,
   "metadata": {
    "collapsed": false
   },
   "outputs": [],
   "source": [
    "filtered = 0\n",
    "correct  = 0\n",
    "for i,c in enumerate(train):\n",
    "    if i % 1000 == 0:\n",
    "        if filtered > 0:\n",
    "            print i, filtered, correct, correct / float(filtered)\n",
    "        else:\n",
    "            print i, filtered, correct\n",
    "    \n",
    "    pos = 0\n",
    "    neg = 0\n",
    "    for lf_name, label in LFG_MESH_exact(c):\n",
    "        if label > 0:\n",
    "            pos += 1\n",
    "        else:\n",
    "            neg += 1\n",
    "    \n",
    "    for lf_name, label in LFG_MESH_exact_drop_JJs(c):\n",
    "        if label > 0:\n",
    "            pos += 1\n",
    "        else:\n",
    "            neg += 1\n",
    "    \n",
    "    #if neg > 0 and pos == 0:\n",
    "    if neg > pos:\n",
    "        filtered += 1\n",
    "        if L_gold_train[i] < 0:\n",
    "            correct += 1\n",
    "\n",
    "print filtered\n",
    "print correct\n",
    "print correct / float(filtered)"
   ]
  },
  {
   "cell_type": "code",
   "execution_count": null,
   "metadata": {
    "collapsed": false
   },
   "outputs": [],
   "source": [
    "filtered = 0\n",
    "correct  = 0\n",
    "for i,c in enumerate(train):\n",
    "    if i % 1000 == 0:\n",
    "        if filtered > 0:\n",
    "            print i, filtered, correct, correct / float(filtered)\n",
    "        else:\n",
    "            print i, filtered, correct\n",
    "    \n",
    "    if len(c.disease.get_attrib_tokens()) == 1 and c.disease.get_span().lower() not in cd.term_to_sids:\n",
    "        filtered += 1\n",
    "        if L_gold_train[i] < 0:\n",
    "            correct += 1\n",
    "\n",
    "print filtered\n",
    "print correct\n",
    "print correct / float(filtered)"
   ]
  },
  {
   "cell_type": "markdown",
   "metadata": {},
   "source": [
    "# LF STATS ANALYSIS"
   ]
  },
  {
   "cell_type": "code",
   "execution_count": null,
   "metadata": {
    "collapsed": false
   },
   "outputs": [],
   "source": [
    "lfs = L_train.lf_stats(labels=L_gold_train, est_accs=odds_to_prob(gen_model.w))"
   ]
  },
  {
   "cell_type": "code",
   "execution_count": null,
   "metadata": {
    "collapsed": false
   },
   "outputs": [],
   "source": [
    "gen_model.w"
   ]
  },
  {
   "cell_type": "code",
   "execution_count": null,
   "metadata": {
    "collapsed": true
   },
   "outputs": [],
   "source": [
    "BAD_LFs = [578, 627, 603, 687, 573, 579]\n",
    "for i in BAD_LFs:\n",
    "    gen_model.w[i] = 0.0"
   ]
  },
  {
   "cell_type": "code",
   "execution_count": null,
   "metadata": {
    "collapsed": false
   },
   "outputs": [],
   "source": [
    "lfs.nsmallest(50, \"accuracy\")"
   ]
  },
  {
   "cell_type": "code",
   "execution_count": null,
   "metadata": {
    "collapsed": false
   },
   "outputs": [],
   "source": [
    "for lf in lfs.iterrows():\n",
    "    lf_name, s = lf\n",
    "    "
   ]
  },
  {
   "cell_type": "markdown",
   "metadata": {},
   "source": [
    "# ERROR ANALYSIS"
   ]
  },
  {
   "cell_type": "code",
   "execution_count": null,
   "metadata": {
    "collapsed": false
   },
   "outputs": [],
   "source": [
    "from random import shuffle\n",
    "N_dev = L_gold_dev.shape[0]\n",
    "\n",
    "fps = []\n",
    "fns = []\n",
    "for i in range(N_dev):\n",
    "    if yp[i] > 0 and L_gold_dev[i] < 0:\n",
    "        fps.append(i)\n",
    "    elif yp[i] < 0 and L_gold_dev[i] > 0:\n",
    "        fns.append(i)\n",
    "\n",
    "shuffle(fps)\n",
    "shuffle(fns)\n",
    "\n",
    "print len(fps)\n",
    "print len(fns)\n",
    "\n",
    "from snorkel.viewer import SentenceNgramViewer\n",
    "fn_cands = [F_dev.get_candidate(i) for i in fns[:100]]\n",
    "svn      = SentenceNgramViewer(fn_cands, session)\n",
    "svn"
   ]
  },
  {
   "cell_type": "code",
   "execution_count": null,
   "metadata": {
    "collapsed": false
   },
   "outputs": [],
   "source": []
  },
  {
   "cell_type": "code",
   "execution_count": null,
   "metadata": {
    "collapsed": true
   },
   "outputs": [],
   "source": [
    "exact_match = 0\n",
    "for i in fns:\n",
    "    c = F_dev.get_candidate(i)\n",
    "    if c.disease.get_span() in mesh_tree:\n",
    "        exact_match += 1"
   ]
  },
  {
   "cell_type": "code",
   "execution_count": null,
   "metadata": {
    "collapsed": false
   },
   "outputs": [],
   "source": [
    "exact_match"
   ]
  },
  {
   "cell_type": "code",
   "execution_count": null,
   "metadata": {
    "collapsed": false
   },
   "outputs": [],
   "source": [
    "c = svn.get_selected()\n",
    "\n",
    "mesh_tree[c.disease.get_span()]"
   ]
  },
  {
   "cell_type": "code",
   "execution_count": null,
   "metadata": {
    "collapsed": false
   },
   "outputs": [],
   "source": [
    "c.disease.get_attrib_tokens('pos_tags')"
   ]
  },
  {
   "cell_type": "code",
   "execution_count": null,
   "metadata": {
    "collapsed": false
   },
   "outputs": [],
   "source": [
    "mesh_tree['alcohol abuse']"
   ]
  },
  {
   "cell_type": "code",
   "execution_count": null,
   "metadata": {
    "collapsed": false
   },
   "outputs": [],
   "source": [
    "from snorkel.models import Label\n",
    "\n",
    "l = session.query(Label).filter(Label.candidate == c).one()\n",
    "CID_to_MESH[l.value]"
   ]
  },
  {
   "cell_type": "code",
   "execution_count": null,
   "metadata": {
    "collapsed": false
   },
   "outputs": [],
   "source": [
    "i = F_dev.get_row_index(c)\n",
    "[(F_dev.get_key(k), disc_model.w[k]) for k in F_dev.getrow(i).nonzero()[1]]"
   ]
  },
  {
   "cell_type": "code",
   "execution_count": null,
   "metadata": {
    "collapsed": false
   },
   "outputs": [],
   "source": [
    "F_dev.get_key(1)"
   ]
  },
  {
   "cell_type": "markdown",
   "metadata": {},
   "source": [
    "* Why is Parkinson's disease not caught?"
   ]
  },
  {
   "cell_type": "code",
   "execution_count": null,
   "metadata": {
    "collapsed": false
   },
   "outputs": [],
   "source": [
    "from snorkel.viewer import SentenceNgramViewer\n",
    "fp_cands = [F_dev.get_candidate(i) for i in fps[:100]]\n",
    "sv       = SentenceNgramViewer(fp_cands, session)\n",
    "sv"
   ]
  },
  {
   "cell_type": "code",
   "execution_count": null,
   "metadata": {
    "collapsed": true
   },
   "outputs": [],
   "source": [
    "NEG_PHRASES = [\n",
    "    'stenosis',\n",
    "    'further attention',\n",
    "    'presence',\n",
    "    'absence',\n",
    "    'syndrome',\n",
    "    'association',\n",
    "    'strain',\n",
    "    'progression'\n",
    "]\n",
    "\n",
    "NEG_END_WORDS = [\n",
    "    'therapies',\n",
    "    'muscles',\n",
    "    'concentrations',\n",
    "    'normal',\n",
    "    'heart',\n",
    "    'side',\n",
    "    'sinus',\n",
    "    'convulsants',\n",
    "    'latencies',\n",
    "    'findings',\n",
    "    'doses',\n",
    "    'remission'\n",
    "]\n",
    "\n",
    "def end_in_plural(c):\n",
    "    pass\n",
    "\n",
    "def body_part(c):\n",
    "    pass\n",
    "\n",
    "def not_exact_single_word(d):\n",
    "    pass"
   ]
  }
 ],
 "metadata": {
  "kernelspec": {
   "display_name": "Python 2",
   "language": "python",
   "name": "python2"
  },
  "language_info": {
   "codemirror_mode": {
    "name": "ipython",
    "version": 2
   },
   "file_extension": ".py",
   "mimetype": "text/x-python",
   "name": "python",
   "nbconvert_exporter": "python",
   "pygments_lexer": "ipython2",
   "version": "2.7.10"
  },
  "widgets": {
   "state": {
    "15b532f122a84799b678515231305106": {
     "views": [
      {
       "cell_index": 53
      }
     ]
    },
    "c3c2f1f0e068463089335c7f393627dc": {
     "views": [
      {
       "cell_index": 91
      }
     ]
    }
   },
   "version": "1.2.0"
  }
 },
 "nbformat": 4,
 "nbformat_minor": 0
}
