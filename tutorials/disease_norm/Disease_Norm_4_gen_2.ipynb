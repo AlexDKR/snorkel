{
 "cells": [
  {
   "cell_type": "markdown",
   "metadata": {},
   "source": [
    "# Disease Norm\n",
    "\n",
    "In this example, we'll be writing an application to extract *mentions of* diseases from Pubmed abstracts, using annotations from the [BioCreative CDR Challenge](http://www.biocreative.org/resources/corpora/biocreative-v-cdr-corpus/).  This tutorial, which has 5 parts, walks through the process of constructing a model to classify _candidate_ disease mentions as either true (i.e., that it is truly a mention of a disease) or false."
   ]
  },
  {
   "cell_type": "markdown",
   "metadata": {},
   "source": [
    "## Plan of action:\n",
    "\n",
    "Two types of LFs:\n",
    "1. TYPE I: Leveraging sources of WS (e.g. DS)\n",
    "2. TYPE II: Expressing heuristics (e.g. magnifying user effort)\n",
    "\n",
    "TYPE I:\n",
    "- Need to break up MESH into subtrees and have each one be an LF!\n",
    "- Need to provide negative signal\n",
    "\n",
    "TYPE II:\n",
    "- Conduct \"simulated expert\" experiment: go through, label examples, write LFs- what is the effective multiplier over binary labeling??\n",
    "    * E.g. \"renal failure\"; add {\"renal\" -> \"kidney\"} to synonym map"
   ]
  },
  {
   "cell_type": "code",
   "execution_count": 1,
   "metadata": {
    "collapsed": false,
    "scrolled": true
   },
   "outputs": [
    {
     "name": "stdout",
     "output_type": "stream",
     "text": [
      "The autoreload extension is already loaded. To reload it, use:\n",
      "  %reload_ext autoreload\n"
     ]
    }
   ],
   "source": [
    "%load_ext autoreload\n",
    "%autoreload 2\n",
    "%matplotlib inline\n",
    "\n",
    "import numpy as np\n",
    "from snorkel import SnorkelSession\n",
    "session = SnorkelSession()\n",
    "\n",
    "from snorkel.models import candidate_subclass\n",
    "\n",
    "Disease = candidate_subclass('Disease', ['disease'])"
   ]
  },
  {
   "cell_type": "code",
   "execution_count": 2,
   "metadata": {
    "collapsed": false
   },
   "outputs": [
    {
     "name": "stdout",
     "output_type": "stream",
     "text": [
      "28087\n",
      "27896\n"
     ]
    }
   ],
   "source": [
    "from snorkel.models import CandidateSet\n",
    "\n",
    "train = session.query(CandidateSet).filter(CandidateSet.name == 'CDR Training Candidates').one()\n",
    "print len(train)\n",
    "dev = session.query(CandidateSet).filter(CandidateSet.name == 'CDR Development Candidates').one()\n",
    "print len(dev)"
   ]
  },
  {
   "cell_type": "code",
   "execution_count": 3,
   "metadata": {
    "collapsed": false
   },
   "outputs": [
    {
     "name": "stdout",
     "output_type": "stream",
     "text": [
      "(28087, 1)\n",
      "(27896, 1)\n"
     ]
    }
   ],
   "source": [
    "from snorkel.annotations import LabelManager\n",
    "\n",
    "label_manager = LabelManager()\n",
    "\n",
    "L_gold_train = label_manager.load(session, train, \"CDR Training Label Set\")\n",
    "print L_gold_train.shape\n",
    "L_gold_dev = label_manager.load(session, dev, \"CDR Development Label Set\")\n",
    "print L_gold_dev.shape"
   ]
  },
  {
   "cell_type": "markdown",
   "metadata": {},
   "source": [
    "# Writing some multinomial LFs"
   ]
  },
  {
   "cell_type": "markdown",
   "metadata": {},
   "source": [
    "## TYPE I LF: Subsets of MESH dictionary"
   ]
  },
  {
   "cell_type": "code",
   "execution_count": 4,
   "metadata": {
    "collapsed": false
   },
   "outputs": [
    {
     "name": "stdout",
     "output_type": "stream",
     "text": [
      "Loaded 28472 entries\n"
     ]
    }
   ],
   "source": [
    "from cPickle import load\n",
    "from utils import load_mesh_raw\n",
    "\n",
    "MESH_to_CID = load(open('MESH_to_CID.pkl', 'rb'))\n",
    "mesh_entries = load_mesh_raw('data/desc2017.xml')"
   ]
  },
  {
   "cell_type": "markdown",
   "metadata": {},
   "source": [
    "## MESH exact match"
   ]
  },
  {
   "cell_type": "code",
   "execution_count": 34,
   "metadata": {
    "collapsed": false
   },
   "outputs": [],
   "source": [
    "mesh_tree = defaultdict(list)\n",
    "for entry in mesh_entries:\n",
    "    mid, tree_nums, terms = entry\n",
    "    for tn in tree_nums:\n",
    "        path = [tn[0]] + tn[1:].split(\".\")\n",
    "        for term in terms:\n",
    "            mesh_tree[term].append((mid, path))"
   ]
  },
  {
   "cell_type": "markdown",
   "metadata": {},
   "source": [
    "### Augmenting MESH with UMLS"
   ]
  },
  {
   "cell_type": "code",
   "execution_count": 35,
   "metadata": {
    "collapsed": false
   },
   "outputs": [],
   "source": [
    "mid_to_paths = defaultdict(list)\n",
    "for entry in mesh_entries:\n",
    "    mid, tree_nums, terms = entry\n",
    "    for tn in tree_nums:\n",
    "        path = [tn[0]] + tn[1:].split(\".\")\n",
    "        mid_to_paths[mid].append(path)"
   ]
  },
  {
   "cell_type": "code",
   "execution_count": 36,
   "metadata": {
    "collapsed": false
   },
   "outputs": [
    {
     "data": {
      "text/plain": [
       "231579"
      ]
     },
     "execution_count": 36,
     "metadata": {},
     "output_type": "execute_result"
    }
   ],
   "source": [
    "len(mesh_tree)"
   ]
  },
  {
   "cell_type": "code",
   "execution_count": 37,
   "metadata": {
    "collapsed": false
   },
   "outputs": [],
   "source": [
    "with open('cui2mesh.tsv', 'rb') as f:\n",
    "    for line in f:\n",
    "        term, cui, mid = line.rstrip('\\n').split('\\t')\n",
    "        for path in mid_to_paths[mid]:\n",
    "            x = (mid, path)\n",
    "            t = term.lower()\n",
    "            if x not in mesh_tree[t]:\n",
    "                mesh_tree[t].append(x)"
   ]
  },
  {
   "cell_type": "code",
   "execution_count": 38,
   "metadata": {
    "collapsed": false
   },
   "outputs": [
    {
     "data": {
      "text/plain": [
       "260158"
      ]
     },
     "execution_count": 38,
     "metadata": {},
     "output_type": "execute_result"
    }
   ],
   "source": [
    "len(mesh_tree)"
   ]
  },
  {
   "cell_type": "code",
   "execution_count": 252,
   "metadata": {
    "collapsed": true
   },
   "outputs": [],
   "source": [
    "POS_DEPTH = 2\n",
    "NEG_DEPTH = 2\n",
    "\n",
    "def LFG_MESH_exact(c):\n",
    "    p = c.disease.get_span().lower()\n",
    "    if p in mesh_tree:\n",
    "        seen = set()\n",
    "        for mid, path in mesh_tree[p]:\n",
    "            value = MESH_to_CID[mid] if path[0] in ['C', 'F'] else -1\n",
    "            key   = \"_\".join(path[:POS_DEPTH]) if value > 0 else \"_\".join(path[:NEG_DEPTH])\n",
    "            if key not in seen:\n",
    "                seen.add(key)\n",
    "                yield key, value"
   ]
  },
  {
   "cell_type": "code",
   "execution_count": 253,
   "metadata": {
    "collapsed": false
   },
   "outputs": [
    {
     "name": "stdout",
     "output_type": "stream",
     "text": [
      "[========================================] 100%\n",
      "\n",
      "Loading sparse Label matrix...\n",
      "CPU times: user 1min 36s, sys: 16.4 s, total: 1min 53s\n",
      "Wall time: 1min 41s\n"
     ]
    },
    {
     "data": {
      "text/plain": [
       "<28087x105 sparse matrix of type '<type 'numpy.float64'>'\n",
       "\twith 13440 stored elements in Compressed Sparse Row format>"
      ]
     },
     "execution_count": 253,
     "metadata": {},
     "output_type": "execute_result"
    }
   ],
   "source": [
    "%time L_train = label_manager.create(session, train, 'LF Training Labels -- E2/2 + C2/2 + NEGS', f=LFG_MESH_exact)\n",
    "L_train"
   ]
  },
  {
   "cell_type": "code",
   "execution_count": null,
   "metadata": {
    "collapsed": false
   },
   "outputs": [],
   "source": [
    "# LOAD if already computed\n",
    "L_train = label_manager.load(session, train, 'LF Training Labels -- MESH Exact + Cosine')\n",
    "L_train"
   ]
  },
  {
   "cell_type": "code",
   "execution_count": null,
   "metadata": {
    "collapsed": false
   },
   "outputs": [],
   "source": [
    "L_train.lf_stats(labels=L_gold_train)"
   ]
  },
  {
   "cell_type": "markdown",
   "metadata": {},
   "source": [
    "### Drop JJs"
   ]
  },
  {
   "cell_type": "code",
   "execution_count": 168,
   "metadata": {
    "collapsed": true
   },
   "outputs": [],
   "source": [
    "def drop_jjs(c):\n",
    "    toks  = []\n",
    "    words = c.disease.get_attrib_tokens()\n",
    "    for i, tag in enumerate(c.disease.get_attrib_tokens('pos_tags')):\n",
    "        if re.match(r'JJ.*', tag) is None:\n",
    "            toks.append(words[i])\n",
    "    return \" \".join(toks).lower()"
   ]
  },
  {
   "cell_type": "code",
   "execution_count": 254,
   "metadata": {
    "collapsed": true
   },
   "outputs": [],
   "source": [
    "POS_DEPTH = 2\n",
    "NEG_DEPTH = 2\n",
    "\n",
    "def LFG_MESH_exact_drop_JJs(c):\n",
    "    p = drop_jjs(c)\n",
    "    if p in mesh_tree:\n",
    "        seen = set()\n",
    "        for mid, path in mesh_tree[p]:\n",
    "            value = MESH_to_CID[mid] if path[0] in ['C', 'F'] else -1\n",
    "            key   = \"_\".join(path[:POS_DEPTH]) if value > 0 else \"_\".join(path[:NEG_DEPTH])\n",
    "            if key not in seen:\n",
    "                seen.add(key)\n",
    "                yield key, value"
   ]
  },
  {
   "cell_type": "code",
   "execution_count": 255,
   "metadata": {
    "collapsed": false
   },
   "outputs": [
    {
     "name": "stdout",
     "output_type": "stream",
     "text": [
      "[========================================] 100%\n",
      "\n",
      "Loading sparse Label matrix...\n",
      "CPU times: user 1min 39s, sys: 16.4 s, total: 1min 56s\n",
      "Wall time: 1min 44s\n"
     ]
    },
    {
     "data": {
      "text/plain": [
       "<28087x106 sparse matrix of type '<type 'numpy.float64'>'\n",
       "\twith 15368 stored elements in Compressed Sparse Row format>"
      ]
     },
     "execution_count": 255,
     "metadata": {},
     "output_type": "execute_result"
    }
   ],
   "source": [
    "%time L_train = label_manager.update(session, train, 'LF Training Labels -- E2/2 + C2/2 + NEGS', True, LFG_MESH_exact_drop_JJs)\n",
    "L_train"
   ]
  },
  {
   "cell_type": "markdown",
   "metadata": {},
   "source": [
    "## MESH TF-IDF cosine match"
   ]
  },
  {
   "cell_type": "code",
   "execution_count": 40,
   "metadata": {
    "collapsed": false
   },
   "outputs": [
    {
     "name": "stdout",
     "output_type": "stream",
     "text": [
      "|V| = 49753\n",
      "CPU times: user 1min 36s, sys: 525 ms, total: 1min 36s\n",
      "Wall time: 1min 36s\n"
     ]
    }
   ],
   "source": [
    "%%time\n",
    "from entity_norm import CanonDictVectorizer\n",
    "\n",
    "# Compile all terms into one dictionary\n",
    "all_diseases = {}\n",
    "for term, entries in mesh_tree.iteritems():\n",
    "    if len(entries) > 0:\n",
    "        mid, path = entries[0]  # Hack: should take the most frequent?\n",
    "        all_diseases[term] = mid\n",
    "\n",
    "# Create a vectorizer based around this \n",
    "cd_vectorizer = CanonDictVectorizer(all_diseases, other_phrases=[])\n",
    "\n",
    "# Vectorize the dictionary\n",
    "disease_phrases = []\n",
    "disease_cids    = []\n",
    "for term, mid in all_diseases.iteritems():\n",
    "    disease_phrases.append(term)\n",
    "    disease_cids.append(mid)   \n",
    "D  = cd_vectorizer.vectorize_phrases(disease_phrases)\n",
    "Dt = D.T\n",
    "Dt"
   ]
  },
  {
   "cell_type": "code",
   "execution_count": 41,
   "metadata": {
    "collapsed": false
   },
   "outputs": [
    {
     "data": {
      "text/plain": [
       "<49754x260158 sparse matrix of type '<type 'numpy.float64'>'\n",
       "\twith 664037 stored elements in Compressed Sparse Column format>"
      ]
     },
     "execution_count": 41,
     "metadata": {},
     "output_type": "execute_result"
    }
   ],
   "source": [
    "Dt"
   ]
  },
  {
   "cell_type": "code",
   "execution_count": 42,
   "metadata": {
    "collapsed": true
   },
   "outputs": [],
   "source": [
    "mesh_tree_index = []\n",
    "for dp in disease_phrases:\n",
    "    mesh_tree_index.append(mesh_tree[dp])"
   ]
  },
  {
   "cell_type": "code",
   "execution_count": 256,
   "metadata": {
    "collapsed": false
   },
   "outputs": [],
   "source": [
    "POS_DEPTH = 2\n",
    "NEG_DEPTH = 2\n",
    "\n",
    "#THRESHs = [0.5, 0.75]\n",
    "THRESHs = [0.75]\n",
    "\n",
    "def LFG_MESH_cosine(c):\n",
    "    mt = min(THRESHs)\n",
    "    \n",
    "    # Vectorize the phrase\n",
    "    p  = c.disease.get_span().lower()\n",
    "    cx = cd_vectorizer.vectorize_phrases([p])\n",
    "    m  = cx * Dt\n",
    "    \n",
    "    # Keep track of the highest-score match so far _for each LF_\n",
    "    highest_score = defaultdict(float)\n",
    "    \n",
    "    # Iterate over non-zero dictionary term matches > THRESH\n",
    "    # Note: changing to COO and iterating over the data direcltly is ~OM faster\n",
    "    m = m.tocoo()\n",
    "    for i, s in enumerate(m.data):\n",
    "        if s > mt:\n",
    "            j = m.col[i]\n",
    "            for entry in mesh_tree_index[j]:\n",
    "                mid, path = entry\n",
    "                value     = MESH_to_CID[mid] if path[0] in ['C', 'F'] else -1\n",
    "                \n",
    "                # We define each LF by a tree path code\n",
    "                key = \"_\".join(path[:POS_DEPTH]) + \"_c\" if value > 0 else \"_\".join(path[:NEG_DEPTH]) + \"_c\"\n",
    "                \n",
    "                # Only yield this value if higher than highest current emitted\n",
    "                # Note: This will just update the current value in the DB\n",
    "                if s > highest_score[key]:\n",
    "                    for t in THRESHs:\n",
    "                        if s > t:\n",
    "                            highest_score[key] = s\n",
    "                            yield key + \"_%s\" % t, value"
   ]
  },
  {
   "cell_type": "code",
   "execution_count": 257,
   "metadata": {
    "collapsed": false
   },
   "outputs": [
    {
     "name": "stdout",
     "output_type": "stream",
     "text": [
      "[========================================] 100%\n",
      "\n",
      "Loading sparse Label matrix...\n",
      "CPU times: user 8min 1s, sys: 22 s, total: 8min 23s\n",
      "Wall time: 8min 7s\n"
     ]
    },
    {
     "data": {
      "text/plain": [
       "<28087x220 sparse matrix of type '<type 'numpy.float64'>'\n",
       "\twith 58689 stored elements in Compressed Sparse Row format>"
      ]
     },
     "execution_count": 257,
     "metadata": {},
     "output_type": "execute_result"
    }
   ],
   "source": [
    "%time L_train = label_manager.update(session, train, 'LF Training Labels -- E2/2 + C2/2 + NEGS', True, LFG_MESH_cosine)\n",
    "L_train"
   ]
  },
  {
   "cell_type": "code",
   "execution_count": null,
   "metadata": {
    "collapsed": true
   },
   "outputs": [],
   "source": [
    "# LOAD if already computed\n",
    "L_train = label_manager.load(session, train, 'LF Training Labels -- MESH Exact + Cosine')\n",
    "L_train"
   ]
  },
  {
   "cell_type": "markdown",
   "metadata": {},
   "source": [
    "# Putting in some negative LFs"
   ]
  },
  {
   "cell_type": "code",
   "execution_count": 90,
   "metadata": {
    "collapsed": true
   },
   "outputs": [],
   "source": [
    "import re\n",
    "from lf_terms import *\n",
    "from snorkel.lf_helpers import get_left_tokens, get_right_tokens\n",
    "from utils import *\n",
    "from Disease_Tagging_Tutorial_LFs import *\n",
    "chemicals = load_chemdner_dictionary()\n",
    "\n",
    "def LF_organs(c):\n",
    "    phrase = \" \".join(c[0].get_attrib_tokens()).lower()\n",
    "    return -1 if phrase in organs else 0      \n",
    "\n",
    "def LF_chemical_name(c):\n",
    "    phrase = \" \".join(c[0].get_attrib_tokens())\n",
    "    return -1 if phrase in chemicals and not phrase.isupper() else 0\n",
    "\n",
    "def LF_bodysym(c):\n",
    "    phrase = \" \".join(c[0].get_attrib_tokens()).lower()\n",
    "    return -1 if phrase in bodysym else 0  \n",
    "\n",
    "def LF_protein_chemical_abbrv(c):\n",
    "    '''Gene/protein/chemical name'''\n",
    "    lemma = \" \".join(c[0].get_attrib_tokens('lemmas'))\n",
    "    return -1 if re.search(\"\\d+\",lemma) else 0\n",
    "\n",
    "def LF_base_pair_seq(c): \n",
    "    lemma = \" \".join(c[0].get_attrib_tokens('lemmas'))\n",
    "    return -1 if re.search(\"^[GACT]{2,}$\",lemma) else 0\n",
    "\n",
    "LFs_false = [LF_chemical_name,\n",
    "             LF_organs,\n",
    "             LF_bodysym,\n",
    "             LF_protein_chemical_abbrv,\n",
    "             LF_base_pair_seq,\n",
    "             LF_too_vague,\n",
    "             LF_neg_surfix,\n",
    "             LF_non_common_disease,\n",
    "             LF_non_disease_acronyms,\n",
    "             LF_pos_in,\n",
    "             LF_gene_chromosome_link,\n",
    "             LF_right_window_incomplete,\n",
    "             LF_negative_indicator\n",
    "            ]"
   ]
  },
  {
   "cell_type": "code",
   "execution_count": 258,
   "metadata": {
    "collapsed": false
   },
   "outputs": [
    {
     "name": "stdout",
     "output_type": "stream",
     "text": [
      "[========================================] 100%\n",
      "\n",
      "Loading sparse Label matrix...\n",
      "CPU times: user 5min 26s, sys: 17.7 s, total: 5min 43s\n",
      "Wall time: 5min 31s\n"
     ]
    },
    {
     "data": {
      "text/plain": [
       "<28087x233 sparse matrix of type '<type 'numpy.float64'>'\n",
       "\twith 72612 stored elements in Compressed Sparse Row format>"
      ]
     },
     "execution_count": 258,
     "metadata": {},
     "output_type": "execute_result"
    }
   ],
   "source": [
    "%time L_train = label_manager.update(session, train, 'LF Training Labels -- E2/2 + C2/2 + NEGS', True, LFs_false)\n",
    "L_train"
   ]
  },
  {
   "cell_type": "code",
   "execution_count": 269,
   "metadata": {
    "collapsed": false
   },
   "outputs": [
    {
     "data": {
      "text/plain": [
       "<28087x1620 sparse matrix of type '<type 'numpy.float64'>'\n",
       "\twith 98467 stored elements in Compressed Sparse Row format>"
      ]
     },
     "execution_count": 269,
     "metadata": {},
     "output_type": "execute_result"
    }
   ],
   "source": [
    "# LOAD if already computed\n",
    "L_train = label_manager.load(session, train, 'LF Training Labels -- E3/3 + C3/3')\n",
    "L_train"
   ]
  },
  {
   "cell_type": "markdown",
   "metadata": {},
   "source": [
    "# Different cut levels:\n",
    "\n",
    "Note: G = gen model on training set, D = disc. model on test set\n",
    "\n",
    "* Pos: 1, Neg: 1, Pos-cosine: 1, Neg-cosine: 1, Thresh-cosine: 0.75 = 56 F1 G / 63 F1 D\n",
    "* TODO...\n",
    "* Pos: 3, Neg: 3, Pos-cosine: 3, Neg-cosine: 3, Thresh-cosine: 0.75 = 61 F1 G / 68 F1 D\n",
    "* Pos: 3, Neg: 3, Pos-cosine: 3, Neg-cosine: 3, Thresh-cosine: [0.5, 0.75] = 63 F1 G / 65 F1 D\n",
    "* Pos: 4, Neg: 4, Pos-cosine: 4, Neg-cosine: 4, Thresh-cosine: 0.75 = 60 F1 G / 64 F1 D\n",
    "\n",
    "### Adding in drop_JJs + NEG LFs:\n",
    "\n",
    "* Pos: 2, Neg: 2, Pos-cosine: 2, Neg-cosine: 2, Thresh-cosine: 0.75 = 69 F1 G / 71 F1 D\n",
    "* Pos: 3, Neg: 3, Pos-cosine: 3, Neg-cosine: 3, Thresh-cosine: 0.75 = 70 F1 G / 73 F1 D\n",
    "\n",
    "\n",
    "#### Note: we're not yet dealing with acronyms!!!"
   ]
  },
  {
   "cell_type": "code",
   "execution_count": null,
   "metadata": {
    "collapsed": false
   },
   "outputs": [],
   "source": [
    "L_train.lf_stats(labels=L_gold_train)"
   ]
  },
  {
   "cell_type": "markdown",
   "metadata": {},
   "source": [
    "# Running gen. model"
   ]
  },
  {
   "cell_type": "code",
   "execution_count": 17,
   "metadata": {
    "collapsed": true
   },
   "outputs": [],
   "source": [
    "from scipy.sparse import lil_matrix\n",
    "\n",
    "def binarize_LF_matrix(X):\n",
    "    X_b = lil_matrix(X.shape)\n",
    "    for i, j in zip(*X.nonzero()):\n",
    "        X_b[i,j] = np.sign(X[i,j])\n",
    "    return X_b.tocsr()"
   ]
  },
  {
   "cell_type": "code",
   "execution_count": 18,
   "metadata": {
    "collapsed": false
   },
   "outputs": [],
   "source": [
    "def get_score(predicted, gold):\n",
    "    tp = 0\n",
    "    pp = 0\n",
    "    p  = 0\n",
    "    for i in range(gold.shape[0]):\n",
    "        if gold[i] > 0:\n",
    "            p += 1\n",
    "        \n",
    "        if predicted[i] == 1:\n",
    "            pp += 1\n",
    "            if gold[i] > 0:\n",
    "                tp += 1\n",
    "    \n",
    "    prec   = tp / float(pp)\n",
    "    recall = tp / float(p)\n",
    "    f1     = (2*prec*recall) / (prec+recall)\n",
    "    print \"P :\\t\", prec\n",
    "    print \"R :\\t\", recall\n",
    "    print \"F1:\\t\", f1"
   ]
  },
  {
   "cell_type": "code",
   "execution_count": 270,
   "metadata": {
    "collapsed": false
   },
   "outputs": [
    {
     "data": {
      "text/plain": [
       "<28087x1620 sparse matrix of type '<type 'numpy.float64'>'\n",
       "\twith 98467 stored elements in Compressed Sparse Row format>"
      ]
     },
     "execution_count": 270,
     "metadata": {},
     "output_type": "execute_result"
    }
   ],
   "source": [
    "L_train_b = binarize_LF_matrix(L_train)\n",
    "L_train_b"
   ]
  },
  {
   "cell_type": "code",
   "execution_count": 291,
   "metadata": {
    "collapsed": false
   },
   "outputs": [
    {
     "name": "stdout",
     "output_type": "stream",
     "text": [
      "================================================================================\n",
      "Training marginals (!= 0.5):\t28087\n",
      "Features:\t\t\t1620\n",
      "================================================================================\n",
      "Begin training for rate=0.1, mu=1e-06\n",
      "\tLearning epoch = 0\tGradient mag. = 0.177484\n",
      "\tLearning epoch = 250\tGradient mag. = 0.204523\n",
      "\tLearning epoch = 500\tGradient mag. = 0.210193\n",
      "\tLearning epoch = 750\tGradient mag. = 0.200900\n",
      "\tLearning epoch = 1000\tGradient mag. = 0.184622\n",
      "\tLearning epoch = 1250\tGradient mag. = 0.170764\n",
      "\tLearning epoch = 1500\tGradient mag. = 0.154063\n",
      "\tLearning epoch = 1750\tGradient mag. = 0.142462\n",
      "\tLearning epoch = 2000\tGradient mag. = 0.134760\n",
      "\tLearning epoch = 2250\tGradient mag. = 0.128447\n",
      "\tLearning epoch = 2500\tGradient mag. = 0.121980\n",
      "\tLearning epoch = 2750\tGradient mag. = 0.116963\n",
      "\tLearning epoch = 3000\tGradient mag. = 0.112576\n",
      "\tLearning epoch = 3250\tGradient mag. = 0.108866\n",
      "\tLearning epoch = 3500\tGradient mag. = 0.105665\n",
      "\tLearning epoch = 3750\tGradient mag. = 0.102659\n",
      "\tLearning epoch = 4000\tGradient mag. = 0.099811\n",
      "\tLearning epoch = 4250\tGradient mag. = 0.097392\n",
      "\tLearning epoch = 4500\tGradient mag. = 0.095239\n",
      "\tLearning epoch = 4750\tGradient mag. = 0.092862\n",
      "Final gradient magnitude for rate=0.1, mu=1e-06: 0.090\n",
      "CPU times: user 10.4 s, sys: 57.9 ms, total: 10.5 s\n",
      "Wall time: 10.5 s\n"
     ]
    }
   ],
   "source": [
    "from snorkel.learning import NaiveBayes\n",
    "\n",
    "gen_model = NaiveBayes()\n",
    "%time gen_model.train(L_train_b, n_iter=5000, rate=1e-1, verbose=True)"
   ]
  },
  {
   "cell_type": "code",
   "execution_count": 292,
   "metadata": {
    "collapsed": false
   },
   "outputs": [
    {
     "name": "stdout",
     "output_type": "stream",
     "text": [
      "P :\t0.801229508197\n",
      "R :\t0.608402489627\n",
      "F1:\t0.691627358491\n"
     ]
    }
   ],
   "source": [
    "yp = gen_model.predict(L_train_b)\n",
    "get_score(yp, L_gold_train)"
   ]
  },
  {
   "cell_type": "code",
   "execution_count": null,
   "metadata": {
    "collapsed": true
   },
   "outputs": [],
   "source": [
    "rate    = [1e-1, 1e-2]\n",
    "precs   = [0.80, 0.69]\n",
    "recalls = [0.61, 0.65]"
   ]
  },
  {
   "cell_type": "code",
   "execution_count": null,
   "metadata": {
    "collapsed": false
   },
   "outputs": [],
   "source": [
    "from snorkel.learning import odds_to_prob\n",
    "\n",
    "L_dev.lf_stats(labels=L_gold_dev, est_accs=odds_to_prob(gen_model.w))"
   ]
  },
  {
   "cell_type": "markdown",
   "metadata": {},
   "source": [
    "# Error analysis"
   ]
  },
  {
   "cell_type": "code",
   "execution_count": null,
   "metadata": {
    "collapsed": false
   },
   "outputs": [],
   "source": [
    "len(train)"
   ]
  },
  {
   "cell_type": "code",
   "execution_count": null,
   "metadata": {
    "collapsed": false
   },
   "outputs": [],
   "source": [
    "fps = []\n",
    "fns = []\n",
    "for i,c in enumerate(train):\n",
    "    if L_gold_train[i] < 0 and yp[i] > 0:\n",
    "        fps.append(c)\n",
    "    elif L_gold_train[i] > 0 and yp[i] <= 0:\n",
    "        fns.append(c)\n",
    "print \"FPs:\", len(fps)\n",
    "print \"FNs:\", len(fns)\n",
    "\n",
    "from random import shuffle\n",
    "shuffle(fps)\n",
    "shuffle(fns)"
   ]
  },
  {
   "cell_type": "code",
   "execution_count": null,
   "metadata": {
    "collapsed": true
   },
   "outputs": [],
   "source": []
  },
  {
   "cell_type": "code",
   "execution_count": null,
   "metadata": {
    "collapsed": false
   },
   "outputs": [],
   "source": [
    "# Index the gold MESH IDs\n",
    "CID_to_MESH = {}\n",
    "for mid, cid in MESH_to_CID.iteritems():\n",
    "    CID_to_MESH[cid] = mid\n",
    "    \n",
    "mesh_label_by_candidate_id = {}\n",
    "for i, c in enumerate(train):\n",
    "    l = int(L_gold_train[i,0])\n",
    "    mesh_label_by_candidate_id[c.id] = CID_to_MESH[l] if l > 0 else l"
   ]
  },
  {
   "cell_type": "code",
   "execution_count": null,
   "metadata": {
    "collapsed": false
   },
   "outputs": [],
   "source": [
    "mesh_to_terms = defaultdict(set)\n",
    "for term, entries in mesh_tree.iteritems():\n",
    "    for entry in entries:\n",
    "        mid, path = entry\n",
    "        mesh_to_terms[mid].add(term)"
   ]
  },
  {
   "cell_type": "code",
   "execution_count": null,
   "metadata": {
    "collapsed": false
   },
   "outputs": [],
   "source": [
    "from snorkel.viewer import SentenceNgramViewer\n",
    "\n",
    "sv = SentenceNgramViewer(fns[:100], session)"
   ]
  },
  {
   "cell_type": "code",
   "execution_count": null,
   "metadata": {
    "collapsed": true
   },
   "outputs": [],
   "source": [
    "sv"
   ]
  },
  {
   "cell_type": "markdown",
   "metadata": {},
   "source": [
    "# Experiments to run:\n",
    "* Clean up!\n",
    "* Partial matches (first k words)\n",
    "* TF-IDF at various thresholds\n",
    "* Split dictionary more!\n",
    "* Remove JJ?\n",
    "* **NEED TO CORRECT FOR GOLD ANNOTATIONS NOT IN OUR CANDIDATE SET!!!**"
   ]
  },
  {
   "cell_type": "code",
   "execution_count": null,
   "metadata": {
    "collapsed": false
   },
   "outputs": [],
   "source": [
    "c = sv.get_selected()\n",
    "c"
   ]
  },
  {
   "cell_type": "code",
   "execution_count": null,
   "metadata": {
    "collapsed": false
   },
   "outputs": [],
   "source": [
    "mid = mesh_label_by_candidate_id[sv.get_selected().id]\n",
    "print mid\n",
    "mesh_to_terms[mid]"
   ]
  },
  {
   "cell_type": "code",
   "execution_count": null,
   "metadata": {
    "collapsed": false
   },
   "outputs": [],
   "source": [
    "list(LFG_MESH_exact(c))"
   ]
  },
  {
   "cell_type": "code",
   "execution_count": null,
   "metadata": {
    "collapsed": false
   },
   "outputs": [],
   "source": [
    "list(LFG_MESH_cosine(c))"
   ]
  },
  {
   "cell_type": "markdown",
   "metadata": {},
   "source": [
    "### Notes:\n",
    "* Looking at FNs:"
   ]
  },
  {
   "cell_type": "markdown",
   "metadata": {},
   "source": [
    "## Automatically Creating Features\n",
    "Recall that our goal is to distinguish between true and false mentions of chemical-disease relations. To train a model for this task, we first embed our `ChemicalDisease` candidates in a feature space."
   ]
  },
  {
   "cell_type": "code",
   "execution_count": 23,
   "metadata": {
    "collapsed": false
   },
   "outputs": [],
   "source": [
    "from snorkel.annotations import FeatureManager\n",
    "\n",
    "feature_manager = FeatureManager()"
   ]
  },
  {
   "cell_type": "markdown",
   "metadata": {},
   "source": [
    "We can create a new feature set:"
   ]
  },
  {
   "cell_type": "code",
   "execution_count": null,
   "metadata": {
    "collapsed": false,
    "scrolled": true
   },
   "outputs": [],
   "source": [
    "%time F_train = feature_manager.create(session, train, 'Train Features')"
   ]
  },
  {
   "cell_type": "markdown",
   "metadata": {},
   "source": [
    "**OR** if we've already created one, we can simply load as follows:"
   ]
  },
  {
   "cell_type": "code",
   "execution_count": 24,
   "metadata": {
    "collapsed": false
   },
   "outputs": [
    {
     "name": "stdout",
     "output_type": "stream",
     "text": [
      "CPU times: user 2min 9s, sys: 2.46 s, total: 2min 12s\n",
      "Wall time: 2min 13s\n"
     ]
    }
   ],
   "source": [
    "%time F_train = feature_manager.load(session, train, 'Train Features')"
   ]
  },
  {
   "cell_type": "markdown",
   "metadata": {},
   "source": [
    "Note that the returned matrix is a special subclass of the `scipy.sparse.csr_matrix` class, with some special features which we demonstrate below:"
   ]
  },
  {
   "cell_type": "code",
   "execution_count": null,
   "metadata": {
    "collapsed": false
   },
   "outputs": [],
   "source": [
    "F_train"
   ]
  },
  {
   "cell_type": "code",
   "execution_count": null,
   "metadata": {
    "collapsed": false
   },
   "outputs": [],
   "source": [
    "%time F_dev = feature_manager.update(session, dev, 'Train Features', False)"
   ]
  },
  {
   "cell_type": "code",
   "execution_count": 25,
   "metadata": {
    "collapsed": false
   },
   "outputs": [
    {
     "name": "stdout",
     "output_type": "stream",
     "text": [
      "CPU times: user 2min 2s, sys: 2.47 s, total: 2min 5s\n",
      "Wall time: 2min 5s\n"
     ]
    }
   ],
   "source": [
    "%time F_dev = feature_manager.load(session, dev, 'Train Features')"
   ]
  },
  {
   "cell_type": "code",
   "execution_count": null,
   "metadata": {
    "collapsed": false
   },
   "outputs": [],
   "source": [
    "F_train.get_candidate(0)"
   ]
  },
  {
   "cell_type": "code",
   "execution_count": null,
   "metadata": {
    "collapsed": false
   },
   "outputs": [],
   "source": [
    "F_train.get_key(0)"
   ]
  },
  {
   "cell_type": "code",
   "execution_count": 282,
   "metadata": {
    "collapsed": false
   },
   "outputs": [
    {
     "name": "stdout",
     "output_type": "stream",
     "text": [
      "================================================================================\n",
      "Training marginals (!= 0.5):\t21323\n",
      "Features:\t\t\t69885\n",
      "================================================================================\n",
      "Using gradient descent...\n",
      "\tLearning epoch = 0\tStep size = 0.001\n",
      "\tLoss = 14779.977331\tGradient magnitude = 11583.856205\n",
      "\tLearning epoch = 100\tStep size = 0.000904792147114\n",
      "\tLoss = 3032.572053\tGradient magnitude = 1572.516140\n",
      "\tLearning epoch = 200\tStep size = 0.000818648829479\n",
      "\tLoss = 2326.755473\tGradient magnitude = 540.421236\n",
      "\tLearning epoch = 300\tStep size = 0.000740707032156\n",
      "\tLoss = 2147.382169\tGradient magnitude = 44.682792\n",
      "\tLearning epoch = 400\tStep size = 0.000670185906007\n",
      "\tLoss = 2075.731093\tGradient magnitude = 40.051404\n",
      "\tLearning epoch = 500\tStep size = 0.000606378944861\n",
      "\tLoss = 2030.847712\tGradient magnitude = 37.294126\n",
      "\tLearning epoch = 600\tStep size = 0.000548646907485\n",
      "\tLoss = 2001.772264\tGradient magnitude = 35.606543\n",
      "\tLearning epoch = 700\tStep size = 0.000496411413431\n",
      "\tLoss = 1983.051993\tGradient magnitude = 34.616994\n",
      "\tLearning epoch = 800\tStep size = 0.00044914914861\n",
      "\tLoss = 1971.588037\tGradient magnitude = 34.125851\n",
      "\tLearning epoch = 900\tStep size = 0.000406386622545\n",
      "\tLoss = 1965.478086\tGradient magnitude = 34.006221\n",
      "\tLearning epoch = 1000\tStep size = 0.000367695424771\n",
      "\tLoss = 1963.518747\tGradient magnitude = 34.185022\n",
      "\tLearning epoch = 1100\tStep size = 0.000332687932862\n",
      "\tLoss = 1964.874267\tGradient magnitude = 34.606523\n",
      "\tLearning epoch = 1200\tStep size = 0.000301013429093\n",
      "\tLoss = 1968.994833\tGradient magnitude = 35.240309\n",
      "\tLearning epoch = 1300\tStep size = 0.000272354586819\n",
      "\tLoss = 1975.442191\tGradient magnitude = 36.057750\n",
      "\tLearning epoch = 1400\tStep size = 0.000246424291385\n",
      "\tLoss = 1983.929705\tGradient magnitude = 37.050658\n",
      "\tLearning epoch = 1500\tStep size = 0.000222962763703\n",
      "\tLoss = 1994.217424\tGradient magnitude = 38.221603\n",
      "\tLearning epoch = 1600\tStep size = 0.000201734957697\n",
      "\tLoss = 2006.190752\tGradient magnitude = 39.553110\n",
      "\tLearning epoch = 1700\tStep size = 0.000182528205523\n",
      "\tLoss = 2019.728013\tGradient magnitude = 41.049006\n",
      "\tLearning epoch = 1800\tStep size = 0.000165150086984\n",
      "\tLoss = 2034.730034\tGradient magnitude = 42.703617\n",
      "\tLearning epoch = 1900\tStep size = 0.000149426501798\n",
      "\tLoss = 2051.130380\tGradient magnitude = 44.522470\n"
     ]
    }
   ],
   "source": [
    "from snorkel.learning import LogReg\n",
    "\n",
    "train_marginals = gen_model.marginals(L_train_b)\n",
    "\n",
    "disc_model = LogReg()\n",
    "disc_model.train(F_train, train_marginals, n_iter=2000, rate=1e-3, mu=1e-4)"
   ]
  },
  {
   "cell_type": "code",
   "execution_count": 283,
   "metadata": {
    "collapsed": false
   },
   "outputs": [
    {
     "name": "stdout",
     "output_type": "stream",
     "text": [
      "P :\t0.820679012346\n",
      "R :\t0.689574688797\n",
      "F1:\t0.749436302142\n"
     ]
    }
   ],
   "source": [
    "yp = disc_model.predict(F_train)\n",
    "get_score(yp, L_gold_train)"
   ]
  },
  {
   "cell_type": "code",
   "execution_count": 285,
   "metadata": {
    "collapsed": false
   },
   "outputs": [
    {
     "name": "stdout",
     "output_type": "stream",
     "text": [
      "P :\t0.79874025195\n",
      "R :\t0.673836032389\n",
      "F1:\t0.730990941532\n"
     ]
    }
   ],
   "source": [
    "yp = disc_model.predict(F_dev, b=0.4)\n",
    "get_score(yp, L_gold_dev)"
   ]
  },
  {
   "cell_type": "code",
   "execution_count": 286,
   "metadata": {
    "collapsed": false
   },
   "outputs": [
    {
     "data": {
      "text/plain": [
       "(array([ 22095.,   1510.,    570.,    387.,    284.,    273.,    305.,\n",
       "           367.,    609.,   1496.]),\n",
       " array([  1.42409717e-05,   1.00003345e-01,   1.99992448e-01,\n",
       "          2.99981552e-01,   3.99970656e-01,   4.99959760e-01,\n",
       "          5.99948863e-01,   6.99937967e-01,   7.99927071e-01,\n",
       "          8.99916175e-01,   9.99905278e-01]),\n",
       " <a list of 10 Patch objects>)"
      ]
     },
     "execution_count": 286,
     "metadata": {},
     "output_type": "execute_result"
    },
    {
     "data": {
      "image/png": "[encoded data removed]",
      "text/plain": [
       "<matplotlib.figure.Figure at 0x1207aa090>"
      ]
     },
     "metadata": {},
     "output_type": "display_data"
    }
   ],
   "source": [
    "plt.hist(disc_model.marginals(F_dev))"
   ]
  },
  {
   "cell_type": "markdown",
   "metadata": {},
   "source": [
    "### Quickly checking against SKL (w/ hard-thresholded marginals)"
   ]
  },
  {
   "cell_type": "code",
   "execution_count": 222,
   "metadata": {
    "collapsed": false
   },
   "outputs": [
    {
     "name": "stdout",
     "output_type": "stream",
     "text": [
      "CPU times: user 1.53 s, sys: 9.78 ms, total: 1.54 s\n",
      "Wall time: 1.54 s\n"
     ]
    },
    {
     "data": {
      "text/plain": [
       "LogisticRegression(C=100.0, class_weight=None, dual=False, fit_intercept=True,\n",
       "          intercept_scaling=1, penalty='l2', random_state=None, tol=0.0001)"
      ]
     },
     "execution_count": 222,
     "metadata": {},
     "output_type": "execute_result"
    }
   ],
   "source": [
    "from sklearn.linear_model import LogisticRegression\n",
    "\n",
    "covered = np.where(np.abs(train_marginals - 0.5) > 1e-3)[0]\n",
    "tms     = train_marginals[covered]\n",
    "X_cov   = F_train[covered]\n",
    "tms     = np.array([1.0 if x > 0.5 else 0.0 for x in tms])\n",
    "\n",
    "model = LogisticRegression(C=1e2, fit_intercept=True)\n",
    "\n",
    "%time model.fit(X_cov, tms)"
   ]
  },
  {
   "cell_type": "code",
   "execution_count": 223,
   "metadata": {
    "collapsed": false
   },
   "outputs": [
    {
     "name": "stdout",
     "output_type": "stream",
     "text": [
      "P :\t0.793393219357\n",
      "R :\t0.710062240664\n",
      "F1:\t0.74941836595\n"
     ]
    }
   ],
   "source": [
    "yp_sk = model.predict(F_train)\n",
    "get_score(yp_sk, L_gold_train)"
   ]
  },
  {
   "cell_type": "code",
   "execution_count": 224,
   "metadata": {
    "collapsed": false
   },
   "outputs": [
    {
     "name": "stdout",
     "output_type": "stream",
     "text": [
      "P :\t0.791768292683\n",
      "R :\t0.65713562753\n",
      "F1:\t0.718196902655\n"
     ]
    }
   ],
   "source": [
    "yp_sk = model.predict(F_dev)\n",
    "get_score(yp_sk, L_gold_dev)"
   ]
  },
  {
   "cell_type": "code",
   "execution_count": 217,
   "metadata": {
    "collapsed": false
   },
   "outputs": [
    {
     "data": {
      "text/plain": [
       "(array([ 17344.,    401.,    470.,    125.,     89.,   6848.,    133.,\n",
       "           225.,    297.,   2155.]),\n",
       " array([  6.51032556e-46,   1.00000000e-01,   2.00000000e-01,\n",
       "          3.00000000e-01,   4.00000000e-01,   5.00000000e-01,\n",
       "          6.00000000e-01,   7.00000000e-01,   8.00000000e-01,\n",
       "          9.00000000e-01,   1.00000000e+00]),\n",
       " <a list of 10 Patch objects>)"
      ]
     },
     "execution_count": 217,
     "metadata": {},
     "output_type": "execute_result"
    },
    {
     "data": {
      "image/png": "[encoded data removed]",
      "text/plain": [
       "<matplotlib.figure.Figure at 0x123415190>"
      ]
     },
     "metadata": {},
     "output_type": "display_data"
    }
   ],
   "source": [
    "plt.hist(train_marginals)"
   ]
  },
  {
   "cell_type": "code",
   "execution_count": 213,
   "metadata": {
    "collapsed": false
   },
   "outputs": [
    {
     "data": {
      "text/plain": [
       "(array([  3.00000000e+00,   5.00000000e+00,   1.00000000e+00,\n",
       "          4.00000000e+00,   5.00000000e+00,   1.10000000e+01,\n",
       "          1.42000000e+02,   1.08000000e+03,   1.85000000e+02,\n",
       "          1.84000000e+02]),\n",
       " array([ 0.08313505,  0.17481694,  0.26649883,  0.35818072,  0.4498626 ,\n",
       "         0.54154449,  0.63322638,  0.72490827,  0.81659015,  0.90827204,\n",
       "         0.99995393]),\n",
       " <a list of 10 Patch objects>)"
      ]
     },
     "execution_count": 213,
     "metadata": {},
     "output_type": "execute_result"
    },
    {
     "data": {
      "image/png": "[encoded data removed]",
      "text/plain": [
       "<matplotlib.figure.Figure at 0x124683650>"
      ]
     },
     "metadata": {},
     "output_type": "display_data"
    }
   ],
   "source": [
    "from snorkel.learning.gen_learning import odds_to_prob\n",
    "\n",
    "plt.hist(odds_to_prob(gen_model.w))"
   ]
  },
  {
   "cell_type": "code",
   "execution_count": 214,
   "metadata": {
    "collapsed": false
   },
   "outputs": [
    {
     "data": {
      "text/html": [
       "<div>\n",
       "<table border=\"1\" class=\"dataframe\">\n",
       "  <thead>\n",
       "    <tr style=\"text-align: right;\">\n",
       "      <th></th>\n",
       "      <th>j</th>\n",
       "      <th>coverage</th>\n",
       "      <th>overlaps</th>\n",
       "      <th>conflicts</th>\n",
       "      <th>accuracy</th>\n",
       "      <th>Learned Acc.</th>\n",
       "    </tr>\n",
       "  </thead>\n",
       "  <tbody>\n",
       "    <tr>\n",
       "      <th>C_14</th>\n",
       "      <td>0</td>\n",
       "      <td>0.019689</td>\n",
       "      <td>0.018799</td>\n",
       "      <td>0.010788</td>\n",
       "      <td>0.889693</td>\n",
       "      <td>0.978413</td>\n",
       "    </tr>\n",
       "    <tr>\n",
       "      <th>F_03</th>\n",
       "      <td>1</td>\n",
       "      <td>0.004308</td>\n",
       "      <td>0.004130</td>\n",
       "      <td>0.001994</td>\n",
       "      <td>0.834711</td>\n",
       "      <td>0.811415</td>\n",
       "    </tr>\n",
       "    <tr>\n",
       "      <th>C_04</th>\n",
       "      <td>2</td>\n",
       "      <td>0.005839</td>\n",
       "      <td>0.005056</td>\n",
       "      <td>0.003596</td>\n",
       "      <td>0.475610</td>\n",
       "      <td>0.769572</td>\n",
       "    </tr>\n",
       "    <tr>\n",
       "      <th>C_26</th>\n",
       "      <td>3</td>\n",
       "      <td>0.003311</td>\n",
       "      <td>0.002243</td>\n",
       "      <td>0.001816</td>\n",
       "      <td>0.236559</td>\n",
       "      <td>0.694662</td>\n",
       "    </tr>\n",
       "    <tr>\n",
       "      <th>C_02</th>\n",
       "      <td>4</td>\n",
       "      <td>0.000570</td>\n",
       "      <td>0.000570</td>\n",
       "      <td>0.000498</td>\n",
       "      <td>0.625000</td>\n",
       "      <td>0.718046</td>\n",
       "    </tr>\n",
       "    <tr>\n",
       "      <th>E_01_370</th>\n",
       "      <td>5</td>\n",
       "      <td>0.009684</td>\n",
       "      <td>0.009649</td>\n",
       "      <td>0.001816</td>\n",
       "      <td>0.992647</td>\n",
       "      <td>0.999312</td>\n",
       "    </tr>\n",
       "    <tr>\n",
       "      <th>N_02_278</th>\n",
       "      <td>6</td>\n",
       "      <td>0.000926</td>\n",
       "      <td>0.000819</td>\n",
       "      <td>0.000320</td>\n",
       "      <td>1.000000</td>\n",
       "      <td>0.796726</td>\n",
       "    </tr>\n",
       "    <tr>\n",
       "      <th>N_06_230</th>\n",
       "      <td>7</td>\n",
       "      <td>0.000356</td>\n",
       "      <td>0.000320</td>\n",
       "      <td>0.000000</td>\n",
       "      <td>1.000000</td>\n",
       "      <td>0.757897</td>\n",
       "    </tr>\n",
       "    <tr>\n",
       "      <th>G_07_203</th>\n",
       "      <td>8</td>\n",
       "      <td>0.002065</td>\n",
       "      <td>0.001709</td>\n",
       "      <td>0.000214</td>\n",
       "      <td>1.000000</td>\n",
       "      <td>0.839869</td>\n",
       "    </tr>\n",
       "    <tr>\n",
       "      <th>G_10_261</th>\n",
       "      <td>9</td>\n",
       "      <td>0.000534</td>\n",
       "      <td>0.000534</td>\n",
       "      <td>0.000036</td>\n",
       "      <td>1.000000</td>\n",
       "      <td>0.819280</td>\n",
       "    </tr>\n",
       "    <tr>\n",
       "      <th>D_04_345</th>\n",
       "      <td>10</td>\n",
       "      <td>0.001602</td>\n",
       "      <td>0.001602</td>\n",
       "      <td>0.000214</td>\n",
       "      <td>1.000000</td>\n",
       "      <td>0.956519</td>\n",
       "    </tr>\n",
       "    <tr>\n",
       "      <th>D_12_644</th>\n",
       "      <td>11</td>\n",
       "      <td>0.005412</td>\n",
       "      <td>0.005412</td>\n",
       "      <td>0.000071</td>\n",
       "      <td>0.947368</td>\n",
       "      <td>0.997003</td>\n",
       "    </tr>\n",
       "    <tr>\n",
       "      <th>D_04_210</th>\n",
       "      <td>12</td>\n",
       "      <td>0.003952</td>\n",
       "      <td>0.003916</td>\n",
       "      <td>0.000320</td>\n",
       "      <td>1.000000</td>\n",
       "      <td>0.974457</td>\n",
       "    </tr>\n",
       "    <tr>\n",
       "      <th>D_10_570</th>\n",
       "      <td>13</td>\n",
       "      <td>0.000819</td>\n",
       "      <td>0.000819</td>\n",
       "      <td>0.000036</td>\n",
       "      <td>1.000000</td>\n",
       "      <td>0.879306</td>\n",
       "    </tr>\n",
       "    <tr>\n",
       "      <th>C_06_405</th>\n",
       "      <td>14</td>\n",
       "      <td>0.000392</td>\n",
       "      <td>0.000392</td>\n",
       "      <td>0.000142</td>\n",
       "      <td>0.727273</td>\n",
       "      <td>0.733503</td>\n",
       "    </tr>\n",
       "    <tr>\n",
       "      <th>E_02</th>\n",
       "      <td>15</td>\n",
       "      <td>0.010574</td>\n",
       "      <td>0.009720</td>\n",
       "      <td>0.001780</td>\n",
       "      <td>1.000000</td>\n",
       "      <td>0.995288</td>\n",
       "    </tr>\n",
       "    <tr>\n",
       "      <th>F_01_145</th>\n",
       "      <td>16</td>\n",
       "      <td>0.004913</td>\n",
       "      <td>0.004486</td>\n",
       "      <td>0.004023</td>\n",
       "      <td>0.014493</td>\n",
       "      <td>0.525956</td>\n",
       "    </tr>\n",
       "    <tr>\n",
       "      <th>C_10_228</th>\n",
       "      <td>17</td>\n",
       "      <td>0.009364</td>\n",
       "      <td>0.009043</td>\n",
       "      <td>0.004450</td>\n",
       "      <td>0.840304</td>\n",
       "      <td>0.843385</td>\n",
       "    </tr>\n",
       "    <tr>\n",
       "      <th>A_12_207</th>\n",
       "      <td>18</td>\n",
       "      <td>0.001780</td>\n",
       "      <td>0.001709</td>\n",
       "      <td>0.000463</td>\n",
       "      <td>1.000000</td>\n",
       "      <td>0.874770</td>\n",
       "    </tr>\n",
       "    <tr>\n",
       "      <th>A_15_145</th>\n",
       "      <td>19</td>\n",
       "      <td>0.002207</td>\n",
       "      <td>0.002207</td>\n",
       "      <td>0.000356</td>\n",
       "      <td>1.000000</td>\n",
       "      <td>0.934431</td>\n",
       "    </tr>\n",
       "    <tr>\n",
       "      <th>D_26</th>\n",
       "      <td>20</td>\n",
       "      <td>0.002563</td>\n",
       "      <td>0.002065</td>\n",
       "      <td>0.000000</td>\n",
       "      <td>0.986111</td>\n",
       "      <td>0.855621</td>\n",
       "    </tr>\n",
       "    <tr>\n",
       "      <th>M_01_643</th>\n",
       "      <td>21</td>\n",
       "      <td>0.032293</td>\n",
       "      <td>0.031936</td>\n",
       "      <td>0.000748</td>\n",
       "      <td>0.964719</td>\n",
       "      <td>0.999951</td>\n",
       "    </tr>\n",
       "    <tr>\n",
       "      <th>N_04_452</th>\n",
       "      <td>22</td>\n",
       "      <td>0.005056</td>\n",
       "      <td>0.004842</td>\n",
       "      <td>0.000036</td>\n",
       "      <td>1.000000</td>\n",
       "      <td>0.974406</td>\n",
       "    </tr>\n",
       "    <tr>\n",
       "      <th>B_01_050</th>\n",
       "      <td>23</td>\n",
       "      <td>0.020258</td>\n",
       "      <td>0.017019</td>\n",
       "      <td>0.002670</td>\n",
       "      <td>0.977153</td>\n",
       "      <td>0.998739</td>\n",
       "    </tr>\n",
       "    <tr>\n",
       "      <th>C_14_907</th>\n",
       "      <td>24</td>\n",
       "      <td>0.010005</td>\n",
       "      <td>0.010005</td>\n",
       "      <td>0.006872</td>\n",
       "      <td>0.822064</td>\n",
       "      <td>0.970238</td>\n",
       "    </tr>\n",
       "    <tr>\n",
       "      <th>D_03_633</th>\n",
       "      <td>25</td>\n",
       "      <td>0.015950</td>\n",
       "      <td>0.015772</td>\n",
       "      <td>0.001495</td>\n",
       "      <td>1.000000</td>\n",
       "      <td>0.999888</td>\n",
       "    </tr>\n",
       "    <tr>\n",
       "      <th>D_12_776</th>\n",
       "      <td>26</td>\n",
       "      <td>0.006480</td>\n",
       "      <td>0.006266</td>\n",
       "      <td>0.000498</td>\n",
       "      <td>0.956044</td>\n",
       "      <td>0.989023</td>\n",
       "    </tr>\n",
       "    <tr>\n",
       "      <th>C_14_280</th>\n",
       "      <td>27</td>\n",
       "      <td>0.007121</td>\n",
       "      <td>0.007121</td>\n",
       "      <td>0.002741</td>\n",
       "      <td>0.850000</td>\n",
       "      <td>0.994192</td>\n",
       "    </tr>\n",
       "    <tr>\n",
       "      <th>K_01_468</th>\n",
       "      <td>28</td>\n",
       "      <td>0.000285</td>\n",
       "      <td>0.000285</td>\n",
       "      <td>0.000000</td>\n",
       "      <td>1.000000</td>\n",
       "      <td>0.804217</td>\n",
       "    </tr>\n",
       "    <tr>\n",
       "      <th>L_01_535</th>\n",
       "      <td>29</td>\n",
       "      <td>0.000285</td>\n",
       "      <td>0.000285</td>\n",
       "      <td>0.000000</td>\n",
       "      <td>1.000000</td>\n",
       "      <td>0.804217</td>\n",
       "    </tr>\n",
       "    <tr>\n",
       "      <th>...</th>\n",
       "      <td>...</td>\n",
       "      <td>...</td>\n",
       "      <td>...</td>\n",
       "      <td>...</td>\n",
       "      <td>...</td>\n",
       "      <td>...</td>\n",
       "    </tr>\n",
       "    <tr>\n",
       "      <th>M_01_169</th>\n",
       "      <td>1590</td>\n",
       "      <td>0.000036</td>\n",
       "      <td>0.000036</td>\n",
       "      <td>0.000000</td>\n",
       "      <td>1.000000</td>\n",
       "      <td>0.730803</td>\n",
       "    </tr>\n",
       "    <tr>\n",
       "      <th>J_01_897</th>\n",
       "      <td>1591</td>\n",
       "      <td>0.000036</td>\n",
       "      <td>0.000000</td>\n",
       "      <td>0.000000</td>\n",
       "      <td>1.000000</td>\n",
       "      <td>0.729583</td>\n",
       "    </tr>\n",
       "    <tr>\n",
       "      <th>E_07_612</th>\n",
       "      <td>1592</td>\n",
       "      <td>0.000107</td>\n",
       "      <td>0.000071</td>\n",
       "      <td>0.000000</td>\n",
       "      <td>1.000000</td>\n",
       "      <td>0.732495</td>\n",
       "    </tr>\n",
       "    <tr>\n",
       "      <th>E_02_547</th>\n",
       "      <td>1593</td>\n",
       "      <td>0.000036</td>\n",
       "      <td>0.000036</td>\n",
       "      <td>0.000000</td>\n",
       "      <td>1.000000</td>\n",
       "      <td>0.736289</td>\n",
       "    </tr>\n",
       "    <tr>\n",
       "      <th>C_07_793</th>\n",
       "      <td>1594</td>\n",
       "      <td>0.000036</td>\n",
       "      <td>0.000036</td>\n",
       "      <td>0.000000</td>\n",
       "      <td>1.000000</td>\n",
       "      <td>0.730777</td>\n",
       "    </tr>\n",
       "    <tr>\n",
       "      <th>G_04_161</th>\n",
       "      <td>1595</td>\n",
       "      <td>0.000107</td>\n",
       "      <td>0.000107</td>\n",
       "      <td>0.000000</td>\n",
       "      <td>1.000000</td>\n",
       "      <td>0.733420</td>\n",
       "    </tr>\n",
       "    <tr>\n",
       "      <th>V_01_205</th>\n",
       "      <td>1596</td>\n",
       "      <td>0.000036</td>\n",
       "      <td>0.000036</td>\n",
       "      <td>0.000000</td>\n",
       "      <td>1.000000</td>\n",
       "      <td>0.733195</td>\n",
       "    </tr>\n",
       "    <tr>\n",
       "      <th>V_02_267</th>\n",
       "      <td>1597</td>\n",
       "      <td>0.000036</td>\n",
       "      <td>0.000036</td>\n",
       "      <td>0.000000</td>\n",
       "      <td>1.000000</td>\n",
       "      <td>0.733195</td>\n",
       "    </tr>\n",
       "    <tr>\n",
       "      <th>M_01_860</th>\n",
       "      <td>1598</td>\n",
       "      <td>0.000071</td>\n",
       "      <td>0.000071</td>\n",
       "      <td>0.000000</td>\n",
       "      <td>1.000000</td>\n",
       "      <td>0.748092</td>\n",
       "    </tr>\n",
       "    <tr>\n",
       "      <th>N_04_761</th>\n",
       "      <td>1599</td>\n",
       "      <td>0.000071</td>\n",
       "      <td>0.000071</td>\n",
       "      <td>0.000000</td>\n",
       "      <td>1.000000</td>\n",
       "      <td>0.750088</td>\n",
       "    </tr>\n",
       "    <tr>\n",
       "      <th>G_01_015</th>\n",
       "      <td>1600</td>\n",
       "      <td>0.000142</td>\n",
       "      <td>0.000142</td>\n",
       "      <td>0.000000</td>\n",
       "      <td>1.000000</td>\n",
       "      <td>0.757358</td>\n",
       "    </tr>\n",
       "    <tr>\n",
       "      <th>G_02_010</th>\n",
       "      <td>1601</td>\n",
       "      <td>0.000142</td>\n",
       "      <td>0.000142</td>\n",
       "      <td>0.000000</td>\n",
       "      <td>1.000000</td>\n",
       "      <td>0.757358</td>\n",
       "    </tr>\n",
       "    <tr>\n",
       "      <th>E_02_365</th>\n",
       "      <td>1602</td>\n",
       "      <td>0.000036</td>\n",
       "      <td>0.000036</td>\n",
       "      <td>0.000000</td>\n",
       "      <td>1.000000</td>\n",
       "      <td>0.730875</td>\n",
       "    </tr>\n",
       "    <tr>\n",
       "      <th>G_05_695</th>\n",
       "      <td>1603</td>\n",
       "      <td>0.000036</td>\n",
       "      <td>0.000000</td>\n",
       "      <td>0.000000</td>\n",
       "      <td>1.000000</td>\n",
       "      <td>0.729583</td>\n",
       "    </tr>\n",
       "    <tr>\n",
       "      <th>V_02_460</th>\n",
       "      <td>1604</td>\n",
       "      <td>0.000036</td>\n",
       "      <td>0.000036</td>\n",
       "      <td>0.000000</td>\n",
       "      <td>1.000000</td>\n",
       "      <td>0.737406</td>\n",
       "    </tr>\n",
       "    <tr>\n",
       "      <th>E_05_481</th>\n",
       "      <td>1605</td>\n",
       "      <td>0.000036</td>\n",
       "      <td>0.000036</td>\n",
       "      <td>0.000000</td>\n",
       "      <td>1.000000</td>\n",
       "      <td>0.737999</td>\n",
       "    </tr>\n",
       "    <tr>\n",
       "      <th>E_02_831</th>\n",
       "      <td>1606</td>\n",
       "      <td>0.000036</td>\n",
       "      <td>0.000036</td>\n",
       "      <td>0.000000</td>\n",
       "      <td>1.000000</td>\n",
       "      <td>0.740227</td>\n",
       "    </tr>\n",
       "    <tr>\n",
       "      <th>E_02_600</th>\n",
       "      <td>1607</td>\n",
       "      <td>0.000036</td>\n",
       "      <td>0.000036</td>\n",
       "      <td>0.000000</td>\n",
       "      <td>1.000000</td>\n",
       "      <td>0.733195</td>\n",
       "    </tr>\n",
       "    <tr>\n",
       "      <th>E_04_943</th>\n",
       "      <td>1608</td>\n",
       "      <td>0.000036</td>\n",
       "      <td>0.000036</td>\n",
       "      <td>0.000000</td>\n",
       "      <td>1.000000</td>\n",
       "      <td>0.733195</td>\n",
       "    </tr>\n",
       "    <tr>\n",
       "      <th>C_11_525</th>\n",
       "      <td>1609</td>\n",
       "      <td>0.000036</td>\n",
       "      <td>0.000036</td>\n",
       "      <td>0.000036</td>\n",
       "      <td>1.000000</td>\n",
       "      <td>0.730773</td>\n",
       "    </tr>\n",
       "    <tr>\n",
       "      <th>E_07_960</th>\n",
       "      <td>1610</td>\n",
       "      <td>0.000036</td>\n",
       "      <td>0.000036</td>\n",
       "      <td>0.000000</td>\n",
       "      <td>1.000000</td>\n",
       "      <td>0.730783</td>\n",
       "    </tr>\n",
       "    <tr>\n",
       "      <th>F_01_058</th>\n",
       "      <td>1611</td>\n",
       "      <td>0.000036</td>\n",
       "      <td>0.000036</td>\n",
       "      <td>0.000000</td>\n",
       "      <td>0.000000</td>\n",
       "      <td>0.730940</td>\n",
       "    </tr>\n",
       "    <tr>\n",
       "      <th>E_05_519</th>\n",
       "      <td>1612</td>\n",
       "      <td>0.000036</td>\n",
       "      <td>0.000036</td>\n",
       "      <td>0.000000</td>\n",
       "      <td>1.000000</td>\n",
       "      <td>0.733150</td>\n",
       "    </tr>\n",
       "    <tr>\n",
       "      <th>F_01_100</th>\n",
       "      <td>1613</td>\n",
       "      <td>0.000036</td>\n",
       "      <td>0.000036</td>\n",
       "      <td>0.000036</td>\n",
       "      <td>0.000000</td>\n",
       "      <td>0.722421</td>\n",
       "    </tr>\n",
       "    <tr>\n",
       "      <th>C_11_338</th>\n",
       "      <td>1614</td>\n",
       "      <td>0.000036</td>\n",
       "      <td>0.000036</td>\n",
       "      <td>0.000000</td>\n",
       "      <td>1.000000</td>\n",
       "      <td>0.730775</td>\n",
       "    </tr>\n",
       "    <tr>\n",
       "      <th>E_05_284</th>\n",
       "      <td>1615</td>\n",
       "      <td>0.000036</td>\n",
       "      <td>0.000036</td>\n",
       "      <td>0.000000</td>\n",
       "      <td>1.000000</td>\n",
       "      <td>0.738492</td>\n",
       "    </tr>\n",
       "    <tr>\n",
       "      <th>A_13_507</th>\n",
       "      <td>1616</td>\n",
       "      <td>0.000036</td>\n",
       "      <td>0.000000</td>\n",
       "      <td>0.000000</td>\n",
       "      <td>1.000000</td>\n",
       "      <td>0.729583</td>\n",
       "    </tr>\n",
       "    <tr>\n",
       "      <th>A_13_869</th>\n",
       "      <td>1617</td>\n",
       "      <td>0.000071</td>\n",
       "      <td>0.000071</td>\n",
       "      <td>0.000000</td>\n",
       "      <td>1.000000</td>\n",
       "      <td>0.737961</td>\n",
       "    </tr>\n",
       "    <tr>\n",
       "      <th>L_01_178</th>\n",
       "      <td>1618</td>\n",
       "      <td>0.000036</td>\n",
       "      <td>0.000000</td>\n",
       "      <td>0.000000</td>\n",
       "      <td>1.000000</td>\n",
       "      <td>0.729583</td>\n",
       "    </tr>\n",
       "    <tr>\n",
       "      <th>G_16_762</th>\n",
       "      <td>1619</td>\n",
       "      <td>0.000036</td>\n",
       "      <td>0.000036</td>\n",
       "      <td>0.000036</td>\n",
       "      <td>1.000000</td>\n",
       "      <td>0.730771</td>\n",
       "    </tr>\n",
       "  </tbody>\n",
       "</table>\n",
       "<p>1620 rows × 6 columns</p>\n",
       "</div>"
      ],
      "text/plain": [
       "             j  coverage  overlaps  conflicts  accuracy  Learned Acc.\n",
       "C_14         0  0.019689  0.018799   0.010788  0.889693      0.978413\n",
       "F_03         1  0.004308  0.004130   0.001994  0.834711      0.811415\n",
       "C_04         2  0.005839  0.005056   0.003596  0.475610      0.769572\n",
       "C_26         3  0.003311  0.002243   0.001816  0.236559      0.694662\n",
       "C_02         4  0.000570  0.000570   0.000498  0.625000      0.718046\n",
       "E_01_370     5  0.009684  0.009649   0.001816  0.992647      0.999312\n",
       "N_02_278     6  0.000926  0.000819   0.000320  1.000000      0.796726\n",
       "N_06_230     7  0.000356  0.000320   0.000000  1.000000      0.757897\n",
       "G_07_203     8  0.002065  0.001709   0.000214  1.000000      0.839869\n",
       "G_10_261     9  0.000534  0.000534   0.000036  1.000000      0.819280\n",
       "D_04_345    10  0.001602  0.001602   0.000214  1.000000      0.956519\n",
       "D_12_644    11  0.005412  0.005412   0.000071  0.947368      0.997003\n",
       "D_04_210    12  0.003952  0.003916   0.000320  1.000000      0.974457\n",
       "D_10_570    13  0.000819  0.000819   0.000036  1.000000      0.879306\n",
       "C_06_405    14  0.000392  0.000392   0.000142  0.727273      0.733503\n",
       "E_02        15  0.010574  0.009720   0.001780  1.000000      0.995288\n",
       "F_01_145    16  0.004913  0.004486   0.004023  0.014493      0.525956\n",
       "C_10_228    17  0.009364  0.009043   0.004450  0.840304      0.843385\n",
       "A_12_207    18  0.001780  0.001709   0.000463  1.000000      0.874770\n",
       "A_15_145    19  0.002207  0.002207   0.000356  1.000000      0.934431\n",
       "D_26        20  0.002563  0.002065   0.000000  0.986111      0.855621\n",
       "M_01_643    21  0.032293  0.031936   0.000748  0.964719      0.999951\n",
       "N_04_452    22  0.005056  0.004842   0.000036  1.000000      0.974406\n",
       "B_01_050    23  0.020258  0.017019   0.002670  0.977153      0.998739\n",
       "C_14_907    24  0.010005  0.010005   0.006872  0.822064      0.970238\n",
       "D_03_633    25  0.015950  0.015772   0.001495  1.000000      0.999888\n",
       "D_12_776    26  0.006480  0.006266   0.000498  0.956044      0.989023\n",
       "C_14_280    27  0.007121  0.007121   0.002741  0.850000      0.994192\n",
       "K_01_468    28  0.000285  0.000285   0.000000  1.000000      0.804217\n",
       "L_01_535    29  0.000285  0.000285   0.000000  1.000000      0.804217\n",
       "...        ...       ...       ...        ...       ...           ...\n",
       "M_01_169  1590  0.000036  0.000036   0.000000  1.000000      0.730803\n",
       "J_01_897  1591  0.000036  0.000000   0.000000  1.000000      0.729583\n",
       "E_07_612  1592  0.000107  0.000071   0.000000  1.000000      0.732495\n",
       "E_02_547  1593  0.000036  0.000036   0.000000  1.000000      0.736289\n",
       "C_07_793  1594  0.000036  0.000036   0.000000  1.000000      0.730777\n",
       "G_04_161  1595  0.000107  0.000107   0.000000  1.000000      0.733420\n",
       "V_01_205  1596  0.000036  0.000036   0.000000  1.000000      0.733195\n",
       "V_02_267  1597  0.000036  0.000036   0.000000  1.000000      0.733195\n",
       "M_01_860  1598  0.000071  0.000071   0.000000  1.000000      0.748092\n",
       "N_04_761  1599  0.000071  0.000071   0.000000  1.000000      0.750088\n",
       "G_01_015  1600  0.000142  0.000142   0.000000  1.000000      0.757358\n",
       "G_02_010  1601  0.000142  0.000142   0.000000  1.000000      0.757358\n",
       "E_02_365  1602  0.000036  0.000036   0.000000  1.000000      0.730875\n",
       "G_05_695  1603  0.000036  0.000000   0.000000  1.000000      0.729583\n",
       "V_02_460  1604  0.000036  0.000036   0.000000  1.000000      0.737406\n",
       "E_05_481  1605  0.000036  0.000036   0.000000  1.000000      0.737999\n",
       "E_02_831  1606  0.000036  0.000036   0.000000  1.000000      0.740227\n",
       "E_02_600  1607  0.000036  0.000036   0.000000  1.000000      0.733195\n",
       "E_04_943  1608  0.000036  0.000036   0.000000  1.000000      0.733195\n",
       "C_11_525  1609  0.000036  0.000036   0.000036  1.000000      0.730773\n",
       "E_07_960  1610  0.000036  0.000036   0.000000  1.000000      0.730783\n",
       "F_01_058  1611  0.000036  0.000036   0.000000  0.000000      0.730940\n",
       "E_05_519  1612  0.000036  0.000036   0.000000  1.000000      0.733150\n",
       "F_01_100  1613  0.000036  0.000036   0.000036  0.000000      0.722421\n",
       "C_11_338  1614  0.000036  0.000036   0.000000  1.000000      0.730775\n",
       "E_05_284  1615  0.000036  0.000036   0.000000  1.000000      0.738492\n",
       "A_13_507  1616  0.000036  0.000000   0.000000  1.000000      0.729583\n",
       "A_13_869  1617  0.000071  0.000071   0.000000  1.000000      0.737961\n",
       "L_01_178  1618  0.000036  0.000000   0.000000  1.000000      0.729583\n",
       "G_16_762  1619  0.000036  0.000036   0.000036  1.000000      0.730771\n",
       "\n",
       "[1620 rows x 6 columns]"
      ]
     },
     "execution_count": 214,
     "metadata": {},
     "output_type": "execute_result"
    }
   ],
   "source": [
    "L_train.lf_stats(labels=L_gold_train, est_accs=odds_to_prob(gen_model.w))"
   ]
  },
  {
   "cell_type": "markdown",
   "metadata": {},
   "source": [
    "# ERROR ANALYSIS"
   ]
  },
  {
   "cell_type": "code",
   "execution_count": 133,
   "metadata": {
    "collapsed": true
   },
   "outputs": [],
   "source": [
    "CID_to_MESH = {}\n",
    "for mid, cid in MESH_to_CID.iteritems():\n",
    "    CID_to_MESH[cid] = mid"
   ]
  },
  {
   "cell_type": "code",
   "execution_count": 240,
   "metadata": {
    "collapsed": false
   },
   "outputs": [
    {
     "name": "stdout",
     "output_type": "stream",
     "text": [
      "566\n",
      "1388\n"
     ]
    }
   ],
   "source": [
    "from random import shuffle\n",
    "N_dev = L_gold_dev.shape[0]\n",
    "\n",
    "fps = []\n",
    "fns = []\n",
    "for i in range(N_dev):\n",
    "    if yp[i] > 0 and L_gold_dev[i] < 0:\n",
    "        fps.append(i)\n",
    "    elif yp[i] < 0 and L_gold_dev[i] > 0:\n",
    "        fns.append(i)\n",
    "\n",
    "shuffle(fps)\n",
    "shuffle(fns)\n",
    "\n",
    "print len(fps)\n",
    "print len(fns)"
   ]
  },
  {
   "cell_type": "code",
   "execution_count": 241,
   "metadata": {
    "collapsed": false
   },
   "outputs": [
    {
     "data": {
      "application/javascript": [
       "require.undef('viewer');\n",
       "\n",
       "// NOTE: all elements should be selected using this.$el.find to avoid collisions with other Viewers\n",
       "\n",
       "define('viewer', [\"jupyter-js-widgets\"], function(widgets) {\n",
       "    var ViewerView = widgets.DOMWidgetView.extend({\n",
       "        render: function() {\n",
       "            this.cids   = this.model.get('cids');\n",
       "            this.nPages = this.cids.length;\n",
       "            this.pid  = 0;\n",
       "            this.cxid = 0;\n",
       "            this.cid  = 0;\n",
       "\n",
       "            // Insert the html payload\n",
       "            this.$el.append(this.model.get('html'));\n",
       "\n",
       "            // Initialize all labels from previous sessions\n",
       "            this.labels = this.deserializeDict(this.model.get('_labels_serialized'));\n",
       "            for (var i=0; i < this.nPages; i++) {\n",
       "                this.pid = i;\n",
       "                for (var j=0; j < this.cids[i].length; j++) {\n",
       "                    this.cxid = j;\n",
       "                    for (var k=0; k < this.cids[i][j].length; k++) {\n",
       "                        this.cid = k;\n",
       "                        if (this.cids[i][j][k] in this.labels) {\n",
       "                            this.markCurrentCandidate(false);\n",
       "                        }\n",
       "                    }\n",
       "                }\n",
       "            }\n",
       "            this.pid  = 0;\n",
       "            this.cxid = 0;\n",
       "            this.cid  = 0;\n",
       "\n",
       "            // Enable button functionality for navigation\n",
       "            var that = this;\n",
       "            this.$el.find(\"#next-cand\").click(function() {\n",
       "                that.switchCandidate(1);\n",
       "            });\n",
       "            this.$el.find(\"#prev-cand\").click(function() {\n",
       "                that.switchCandidate(-1);\n",
       "            });\n",
       "            this.$el.find(\"#next-context\").click(function() {\n",
       "                that.switchContext(1);\n",
       "            });\n",
       "            this.$el.find(\"#prev-context\").click(function() {\n",
       "                that.switchContext(-1);\n",
       "            });\n",
       "            this.$el.find(\"#next-page\").click(function() {\n",
       "                that.switchPage(1);\n",
       "            });\n",
       "            this.$el.find(\"#prev-page\").click(function() {\n",
       "                that.switchPage(-1);\n",
       "            });\n",
       "            this.$el.find(\"#label-true\").click(function() {\n",
       "                that.labelCandidate(true, true);\n",
       "            });\n",
       "            this.$el.find(\"#label-false\").click(function() {\n",
       "                that.labelCandidate(false, true);\n",
       "            });\n",
       "\n",
       "            // Arrow key functionality\n",
       "            this.$el.keydown(function(e) {\n",
       "                switch(e.which) {\n",
       "                    case 74: // j\n",
       "                    that.switchCandidate(-1);\n",
       "                    break;\n",
       "\n",
       "                    case 73: // i\n",
       "                    that.switchPage(-1);\n",
       "                    break;\n",
       "\n",
       "                    case 76: // l\n",
       "                    that.switchCandidate(1);\n",
       "                    break;\n",
       "\n",
       "                    case 75: // k\n",
       "                    that.switchPage(1);\n",
       "                    break;\n",
       "\n",
       "                    case 84: // t\n",
       "                    that.labelCandidate(true, true);\n",
       "                    break;\n",
       "\n",
       "                    case 70: // f\n",
       "                    that.labelCandidate(false, true);\n",
       "                    break;\n",
       "                }\n",
       "            });\n",
       "\n",
       "            // Show the first page and highlight the first candidate\n",
       "            this.$el.find(\"#viewer-page-0\").show();\n",
       "            this.switchCandidate(0);\n",
       "        },\n",
       "\n",
       "        // Get candidate selector for currently selected candidate, escaping id properly\n",
       "        getCandidate: function() {\n",
       "            return this.$el.find(\".\"+this.cids[this.pid][this.cxid][this.cid]);\n",
       "        },  \n",
       "\n",
       "        // Color the candidate correctly according to registered label, as well as set highlighting\n",
       "        markCurrentCandidate: function(highlight) {\n",
       "            var cid  = this.cids[this.pid][this.cxid][this.cid];\n",
       "            var tags = this.$el.find(\".\"+cid);\n",
       "\n",
       "            // Clear color classes\n",
       "            tags.removeClass(\"candidate-h\");\n",
       "            tags.removeClass(\"true-candidate\");\n",
       "            tags.removeClass(\"true-candidate-h\");\n",
       "            tags.removeClass(\"false-candidate\");\n",
       "            tags.removeClass(\"false-candidate-h\");\n",
       "            tags.removeClass(\"highlighted\");\n",
       "\n",
       "            if (highlight) {\n",
       "                if (cid in this.labels) {\n",
       "                    tags.addClass(String(this.labels[cid]) + \"-candidate-h\");\n",
       "                } else {\n",
       "                    tags.addClass(\"candidate-h\");\n",
       "                }\n",
       "            \n",
       "            // If un-highlighting, leave with first non-null coloring\n",
       "            } else {\n",
       "                var that = this;\n",
       "                tags.each(function() {\n",
       "                    var cids = $(this).attr('class').split(/\\s+/).map(function(item) {\n",
       "                        return parseInt(item);\n",
       "                    });\n",
       "                    cids.sort();\n",
       "                    for (var i in cids) {\n",
       "                        if (cids[i] in that.labels) {\n",
       "                            var label = that.labels[cids[i]];\n",
       "                            $(this).addClass(String(label) + \"-candidate\");\n",
       "                            $(this).removeClass(String(!label) + \"-candidate\");\n",
       "                            break;\n",
       "                        }\n",
       "                    }\n",
       "                });\n",
       "            }\n",
       "\n",
       "            // Extra highlighting css\n",
       "            if (highlight) {\n",
       "                tags.addClass(\"highlighted\");\n",
       "            }\n",
       "\n",
       "            // Classes for showing direction of relation\n",
       "            if (highlight) {\n",
       "                this.$el.find(\".\"+cid+\"-0\").addClass(\"left-candidate\");\n",
       "                this.$el.find(\".\"+cid+\"-1\").addClass(\"right-candidate\");\n",
       "            } else {\n",
       "                this.$el.find(\".\"+cid+\"-0\").removeClass(\"left-candidate\");\n",
       "                this.$el.find(\".\"+cid+\"-1\").removeClass(\"right-candidate\");\n",
       "            }\n",
       "        },\n",
       "\n",
       "        // Cycle through candidates and highlight, by increment inc\n",
       "        switchCandidate: function(inc) {\n",
       "            var N = this.cids[this.pid].length\n",
       "            var M = this.cids[this.pid][this.cxid].length;\n",
       "            if (N == 0 || M == 0) { return false; }\n",
       "\n",
       "            // Clear highlighting from previous candidate\n",
       "            if (inc != 0) {\n",
       "                this.markCurrentCandidate(false);\n",
       "\n",
       "                // Increment the cid counter\n",
       "\n",
       "                // Move to next context\n",
       "                if (this.cid + inc >= M) {\n",
       "                    while (this.cid + inc >= M) {\n",
       "                        \n",
       "                        // At last context on page, halt\n",
       "                        if (this.cxid == N - 1) {\n",
       "                            this.cid = M - 1;\n",
       "                            inc = 0;\n",
       "                            break;\n",
       "                        \n",
       "                        // Increment to next context\n",
       "                        } else {\n",
       "                            inc -= M - this.cid;\n",
       "                            this.cxid += 1;\n",
       "                            M = this.cids[this.pid][this.cxid].length;\n",
       "                            this.cid = 0;\n",
       "                        }\n",
       "                    }\n",
       "\n",
       "                // Move to previous context\n",
       "                } else if (this.cid + inc < 0) {\n",
       "                    while (this.cid + inc < 0) {\n",
       "                        \n",
       "                        // At first context on page, halt\n",
       "                        if (this.cxid == 0) {\n",
       "                            this.cid = 0;\n",
       "                            inc = 0;\n",
       "                            break;\n",
       "                        \n",
       "                        // Increment to previous context\n",
       "                        } else {\n",
       "                            inc += this.cid + 1;\n",
       "                            this.cxid -= 1;\n",
       "                            M = this.cids[this.pid][this.cxid].length;\n",
       "                            this.cid = M - 1;\n",
       "                        }\n",
       "                    }\n",
       "                }\n",
       "\n",
       "                // Move within current context\n",
       "                this.cid += inc;\n",
       "            }\n",
       "            this.markCurrentCandidate(true);\n",
       "\n",
       "            // Push this new cid to the model\n",
       "            this.model.set('_selected_cid', this.cids[this.pid][this.cxid][this.cid]);\n",
       "            this.touch();\n",
       "        },\n",
       "\n",
       "        // Switch through contexts\n",
       "        switchContext: function(inc) {\n",
       "            this.markCurrentCandidate(false);\n",
       "\n",
       "            // Iterate context on this page\n",
       "            var M = this.cids[this.pid].length;\n",
       "            if (this.cxid + inc < 0) {\n",
       "                this.cxid = 0;\n",
       "            } else if (this.cxid + inc >= M) {\n",
       "                this.cxid = M - 1;\n",
       "            } else {\n",
       "                this.cxid += inc;\n",
       "            }\n",
       "\n",
       "            // Reset cid and set to first candidate\n",
       "            this.cid = 0;\n",
       "            this.switchCandidate(0);\n",
       "        },\n",
       "\n",
       "        // Switch through pages\n",
       "        switchPage: function(inc) {\n",
       "            this.markCurrentCandidate(false);\n",
       "            this.$el.find(\".viewer-page\").hide();\n",
       "            if (this.pid + inc < 0) {\n",
       "                this.pid = 0;\n",
       "            } else if (this.pid + inc > this.nPages - 1) {\n",
       "                this.pid = this.nPages - 1;\n",
       "            } else {\n",
       "                this.pid += inc;\n",
       "            }\n",
       "            this.$el.find(\"#viewer-page-\"+this.pid).show();\n",
       "\n",
       "            // Show pagination\n",
       "            this.$el.find(\"#page\").html(this.pid);\n",
       "\n",
       "            // Reset cid and set to first candidate\n",
       "            this.cid = 0;\n",
       "            this.cxid = 0;\n",
       "            this.switchCandidate(0);\n",
       "        },\n",
       "\n",
       "        // Label currently-selected candidate\n",
       "        labelCandidate: function(label, highlighted) {\n",
       "            var c    = this.getCandidate();\n",
       "            var cid  = this.cids[this.pid][this.cxid][this.cid];\n",
       "            var cl   = String(label) + \"-candidate\";\n",
       "            var clh  = String(label) + \"-candidate-h\";\n",
       "            var cln  = String(!label) + \"-candidate\";\n",
       "            var clnh = String(!label) + \"-candidate-h\";\n",
       "\n",
       "            // Toggle label highlighting\n",
       "            if (c.hasClass(cl) || c.hasClass(clh)) {\n",
       "                c.removeClass(cl);\n",
       "                c.removeClass(clh);\n",
       "                if (highlighted) {\n",
       "                    c.addClass(\"candidate-h\");\n",
       "                }\n",
       "                this.labels[cid] = null;\n",
       "                this.send({event: 'delete_label', cid: cid});\n",
       "            } else {\n",
       "                c.removeClass(cln);\n",
       "                c.removeClass(clnh);\n",
       "                if (highlighted) {\n",
       "                    c.addClass(clh);\n",
       "                } else {\n",
       "                    c.addClass(cl);\n",
       "                }\n",
       "                this.labels[cid] = label;\n",
       "                this.send({event: 'set_label', cid: cid, value: label});\n",
       "            }\n",
       "\n",
       "            // Set the label and pass back to the model\n",
       "            this.model.set('_labels_serialized', this.serializeDict(this.labels));\n",
       "            this.touch();\n",
       "        },\n",
       "\n",
       "        // Serialization of hash maps, because traitlets Dict doesn't seem to work...\n",
       "        serializeDict: function(d) {\n",
       "            var s = [];\n",
       "            for (var key in d) {\n",
       "                s.push(key+\"~~\"+d[key]);\n",
       "            }\n",
       "            return s.join();\n",
       "        },\n",
       "\n",
       "        // Deserialization of hash maps\n",
       "        deserializeDict: function(s) {\n",
       "            var d = {};\n",
       "            var entries = s.split(/,/);\n",
       "            var kv;\n",
       "            for (var i in entries) {\n",
       "                kv = entries[i].split(/~~/);\n",
       "                if (kv[1] == \"true\") {\n",
       "                    d[kv[0]] = true;\n",
       "                } else if (kv[1] == \"false\") {\n",
       "                    d[kv[0]] = false;\n",
       "                }\n",
       "            }\n",
       "            return d;\n",
       "        },\n",
       "    });\n",
       "\n",
       "    return {\n",
       "        ViewerView: ViewerView\n",
       "    };\n",
       "});\n"
      ],
      "text/plain": [
       "<IPython.core.display.Javascript object>"
      ]
     },
     "metadata": {},
     "output_type": "display_data"
    }
   ],
   "source": [
    "fn_cands = [F_dev.get_candidate(i) for i in fns[:100]]\n",
    "svn      = SentenceNgramViewer(fn_cands, session)\n",
    "svn"
   ]
  },
  {
   "cell_type": "code",
   "execution_count": 242,
   "metadata": {
    "collapsed": true
   },
   "outputs": [],
   "source": [
    "exact_match = 0\n",
    "for i in fns:\n",
    "    c = F_dev.get_candidate(i)\n",
    "    if c.disease.get_span() in mesh_tree:\n",
    "        exact_match += 1"
   ]
  },
  {
   "cell_type": "code",
   "execution_count": 243,
   "metadata": {
    "collapsed": false
   },
   "outputs": [
    {
     "data": {
      "text/plain": [
       "158"
      ]
     },
     "execution_count": 243,
     "metadata": {},
     "output_type": "execute_result"
    }
   ],
   "source": [
    "exact_match"
   ]
  },
  {
   "cell_type": "code",
   "execution_count": 230,
   "metadata": {
    "collapsed": false
   },
   "outputs": [
    {
     "data": {
      "text/plain": [
       "[('D000437', ['C', '25', '775', '100', '250']),\n",
       " ('D000437', ['F', '03', '900', '100', '350'])]"
      ]
     },
     "execution_count": 230,
     "metadata": {},
     "output_type": "execute_result"
    }
   ],
   "source": [
    "c = svn.get_selected()\n",
    "\n",
    "mesh_tree[c.disease.get_span()]"
   ]
  },
  {
   "cell_type": "code",
   "execution_count": 231,
   "metadata": {
    "collapsed": false
   },
   "outputs": [
    {
     "data": {
      "text/plain": [
       "[u'NN', u'NN']"
      ]
     },
     "execution_count": 231,
     "metadata": {},
     "output_type": "execute_result"
    }
   ],
   "source": [
    "c.disease.get_attrib_tokens('pos_tags')"
   ]
  },
  {
   "cell_type": "code",
   "execution_count": 232,
   "metadata": {
    "collapsed": false
   },
   "outputs": [
    {
     "data": {
      "text/plain": [
       "[('D000437', ['C', '25', '775', '100', '250']),\n",
       " ('D000437', ['F', '03', '900', '100', '350'])]"
      ]
     },
     "execution_count": 232,
     "metadata": {},
     "output_type": "execute_result"
    }
   ],
   "source": [
    "mesh_tree['alcohol abuse']"
   ]
  },
  {
   "cell_type": "code",
   "execution_count": 233,
   "metadata": {
    "collapsed": false
   },
   "outputs": [
    {
     "data": {
      "text/plain": [
       "'D000437'"
      ]
     },
     "execution_count": 233,
     "metadata": {},
     "output_type": "execute_result"
    }
   ],
   "source": [
    "from snorkel.models import Label\n",
    "\n",
    "l = session.query(Label).filter(Label.candidate == c).one()\n",
    "CID_to_MESH[l.value]"
   ]
  },
  {
   "cell_type": "code",
   "execution_count": 234,
   "metadata": {
    "collapsed": false
   },
   "outputs": [
    {
     "data": {
      "text/plain": [
       "[(AnnotationKey (DDL_WORD_POS_[NN]), -1.7737294483334323),\n",
       " (AnnotationKey (DDL_POS_SEQ_[NN NN]), -0.72989789733127697),\n",
       " (AnnotationKey (DDL_WORD_CLASS_[aaaaaaa]), 0.15917115605132481),\n",
       " (AnnotationKey (DDL_CHARACTER_N_GRAM_[co]), -0.065880115125777711),\n",
       " (AnnotationKey (DDL_CHARACTER_N_GRAM_[al]), 0.11240885199177029),\n",
       " (AnnotationKey (DDL_CHARACTER_N_GRAM_[l ]), 0.45953301311312988),\n",
       " (AnnotationKey (DDL_WORD_CLASS_[aaaaa]), -0.02304564826274982),\n",
       " (AnnotationKey (DDL_CHARACTER_N_GRAM_[us]), 0.4446693825948464),\n",
       " (AnnotationKey (DDL_CHARACTER_N_GRAM_[se]), -0.084142970216229837),\n",
       " (AnnotationKey (DDL_CHARACTER_N_GRAM_[use]), 0.11681093303882047),\n",
       " (AnnotationKey (DDL_DEP_SEQ_[compound nmod]), 0.06934625747050284),\n",
       " (AnnotationKey (DDL_WORD_PREFIX_al), 0.065204207089083824),\n",
       " (AnnotationKey (DDL_CHARACTER_N_GRAM_[ a]), 0.18225081140850766),\n",
       " (AnnotationKey (DDL_CHARACTER_N_GRAM_[l a]), -0.19585746767652984),\n",
       " (AnnotationKey (DDL_WORD_SUFFIX_se), -0.7398571784809167),\n",
       " (AnnotationKey (DDL_CHARACTER_N_GRAM_[ol]), -0.54502999590248813),\n",
       " (AnnotationKey (DDL_CHARACTER_N_GRAM_[bu]), 0.084013875475586655),\n",
       " (AnnotationKey (DDL_CHARACTER_N_GRAM_[oh]), -0.0088213750065884357),\n",
       " (AnnotationKey (DDL_WORD_SUFFIX_use), -0.8868740230163058),\n",
       " (AnnotationKey (DDL_WORD_LEMMA_[alcohol]), 0.063369279829724429),\n",
       " (AnnotationKey (DDL_WORD_PREFIX_alc), 0.062357698223964912),\n",
       " (AnnotationKey (DDL_WORD_PREFIX_alco), 0.062357698223964912),\n",
       " (AnnotationKey (DDL_WORD_SUFFIX_ol), -0.70331027251531075),\n",
       " (AnnotationKey (DDL_WORD_SUFFIX_hol), -0.0),\n",
       " (AnnotationKey (DDL_WORD_SUFFIX_ohol), 0.063369279829724429),\n",
       " (AnnotationKey (DDL_CHARACTER_N_GRAM_[lc]), 0.061518872360455244),\n",
       " (AnnotationKey (DDL_CHARACTER_N_GRAM_[ho]), 0.10668475809834864),\n",
       " (AnnotationKey (DDL_CHARACTER_N_GRAM_[alc]), -0.0),\n",
       " (AnnotationKey (DDL_CHARACTER_N_GRAM_[lco]), 0.046519517327621336),\n",
       " (AnnotationKey (DDL_CHARACTER_N_GRAM_[coh]), -0.0),\n",
       " (AnnotationKey (DDL_CHARACTER_N_GRAM_[oho]), -0.0),\n",
       " (AnnotationKey (DDL_CHARACTER_N_GRAM_[hol]), -0.0),\n",
       " (AnnotationKey (DDL_CHARACTER_N_GRAM_[ol ]), 0.59684015709039151),\n",
       " (AnnotationKey (DDL_CHARACTER_N_GRAM_[ab]), 0.15416256863341202),\n",
       " (AnnotationKey (DDL_WORD_PREFIX_ab), -0.29389048921340605),\n",
       " (AnnotationKey (DDL_CHARACTER_N_GRAM_[ ab]), 0.41659707073204039),\n",
       " (AnnotationKey (DDL_WORD_LEMMA_[abuse]), -0.0064154518535408074),\n",
       " (AnnotationKey (DDL_WORD_PREFIX_abu), -0.067671876416201579),\n",
       " (AnnotationKey (DDL_WORD_PREFIX_abus), -0.045432803492335486),\n",
       " (AnnotationKey (DDL_WORD_SUFFIX_buse), -0.0064154518535408074),\n",
       " (AnnotationKey (DDL_CHARACTER_N_GRAM_[abu]), -0.06920646180226081),\n",
       " (AnnotationKey (DDL_CHARACTER_N_GRAM_[bus]), -0.0)]"
      ]
     },
     "execution_count": 234,
     "metadata": {},
     "output_type": "execute_result"
    }
   ],
   "source": [
    "i = F_dev.get_row_index(c)\n",
    "[(F_dev.get_key(k), disc_model.w[k]) for k in F_dev.getrow(i).nonzero()[1]]"
   ]
  },
  {
   "cell_type": "code",
   "execution_count": 140,
   "metadata": {
    "collapsed": false
   },
   "outputs": [
    {
     "data": {
      "text/plain": [
       "AnnotationKey (DDL_WORD_POS_[NN])"
      ]
     },
     "execution_count": 140,
     "metadata": {},
     "output_type": "execute_result"
    }
   ],
   "source": [
    "F_dev.get_key(1)"
   ]
  },
  {
   "cell_type": "markdown",
   "metadata": {},
   "source": [
    "* Why is Parkinson's disease not caught?"
   ]
  },
  {
   "cell_type": "code",
   "execution_count": 88,
   "metadata": {
    "collapsed": false
   },
   "outputs": [
    {
     "data": {
      "application/javascript": [
       "require.undef('viewer');\n",
       "\n",
       "// NOTE: all elements should be selected using this.$el.find to avoid collisions with other Viewers\n",
       "\n",
       "define('viewer', [\"jupyter-js-widgets\"], function(widgets) {\n",
       "    var ViewerView = widgets.DOMWidgetView.extend({\n",
       "        render: function() {\n",
       "            this.cids   = this.model.get('cids');\n",
       "            this.nPages = this.cids.length;\n",
       "            this.pid  = 0;\n",
       "            this.cxid = 0;\n",
       "            this.cid  = 0;\n",
       "\n",
       "            // Insert the html payload\n",
       "            this.$el.append(this.model.get('html'));\n",
       "\n",
       "            // Initialize all labels from previous sessions\n",
       "            this.labels = this.deserializeDict(this.model.get('_labels_serialized'));\n",
       "            for (var i=0; i < this.nPages; i++) {\n",
       "                this.pid = i;\n",
       "                for (var j=0; j < this.cids[i].length; j++) {\n",
       "                    this.cxid = j;\n",
       "                    for (var k=0; k < this.cids[i][j].length; k++) {\n",
       "                        this.cid = k;\n",
       "                        if (this.cids[i][j][k] in this.labels) {\n",
       "                            this.markCurrentCandidate(false);\n",
       "                        }\n",
       "                    }\n",
       "                }\n",
       "            }\n",
       "            this.pid  = 0;\n",
       "            this.cxid = 0;\n",
       "            this.cid  = 0;\n",
       "\n",
       "            // Enable button functionality for navigation\n",
       "            var that = this;\n",
       "            this.$el.find(\"#next-cand\").click(function() {\n",
       "                that.switchCandidate(1);\n",
       "            });\n",
       "            this.$el.find(\"#prev-cand\").click(function() {\n",
       "                that.switchCandidate(-1);\n",
       "            });\n",
       "            this.$el.find(\"#next-context\").click(function() {\n",
       "                that.switchContext(1);\n",
       "            });\n",
       "            this.$el.find(\"#prev-context\").click(function() {\n",
       "                that.switchContext(-1);\n",
       "            });\n",
       "            this.$el.find(\"#next-page\").click(function() {\n",
       "                that.switchPage(1);\n",
       "            });\n",
       "            this.$el.find(\"#prev-page\").click(function() {\n",
       "                that.switchPage(-1);\n",
       "            });\n",
       "            this.$el.find(\"#label-true\").click(function() {\n",
       "                that.labelCandidate(true, true);\n",
       "            });\n",
       "            this.$el.find(\"#label-false\").click(function() {\n",
       "                that.labelCandidate(false, true);\n",
       "            });\n",
       "\n",
       "            // Arrow key functionality\n",
       "            this.$el.keydown(function(e) {\n",
       "                switch(e.which) {\n",
       "                    case 74: // j\n",
       "                    that.switchCandidate(-1);\n",
       "                    break;\n",
       "\n",
       "                    case 73: // i\n",
       "                    that.switchPage(-1);\n",
       "                    break;\n",
       "\n",
       "                    case 76: // l\n",
       "                    that.switchCandidate(1);\n",
       "                    break;\n",
       "\n",
       "                    case 75: // k\n",
       "                    that.switchPage(1);\n",
       "                    break;\n",
       "\n",
       "                    case 84: // t\n",
       "                    that.labelCandidate(true, true);\n",
       "                    break;\n",
       "\n",
       "                    case 70: // f\n",
       "                    that.labelCandidate(false, true);\n",
       "                    break;\n",
       "                }\n",
       "            });\n",
       "\n",
       "            // Show the first page and highlight the first candidate\n",
       "            this.$el.find(\"#viewer-page-0\").show();\n",
       "            this.switchCandidate(0);\n",
       "        },\n",
       "\n",
       "        // Get candidate selector for currently selected candidate, escaping id properly\n",
       "        getCandidate: function() {\n",
       "            return this.$el.find(\".\"+this.cids[this.pid][this.cxid][this.cid]);\n",
       "        },  \n",
       "\n",
       "        // Color the candidate correctly according to registered label, as well as set highlighting\n",
       "        markCurrentCandidate: function(highlight) {\n",
       "            var cid  = this.cids[this.pid][this.cxid][this.cid];\n",
       "            var tags = this.$el.find(\".\"+cid);\n",
       "\n",
       "            // Clear color classes\n",
       "            tags.removeClass(\"candidate-h\");\n",
       "            tags.removeClass(\"true-candidate\");\n",
       "            tags.removeClass(\"true-candidate-h\");\n",
       "            tags.removeClass(\"false-candidate\");\n",
       "            tags.removeClass(\"false-candidate-h\");\n",
       "            tags.removeClass(\"highlighted\");\n",
       "\n",
       "            if (highlight) {\n",
       "                if (cid in this.labels) {\n",
       "                    tags.addClass(String(this.labels[cid]) + \"-candidate-h\");\n",
       "                } else {\n",
       "                    tags.addClass(\"candidate-h\");\n",
       "                }\n",
       "            \n",
       "            // If un-highlighting, leave with first non-null coloring\n",
       "            } else {\n",
       "                var that = this;\n",
       "                tags.each(function() {\n",
       "                    var cids = $(this).attr('class').split(/\\s+/).map(function(item) {\n",
       "                        return parseInt(item);\n",
       "                    });\n",
       "                    cids.sort();\n",
       "                    for (var i in cids) {\n",
       "                        if (cids[i] in that.labels) {\n",
       "                            var label = that.labels[cids[i]];\n",
       "                            $(this).addClass(String(label) + \"-candidate\");\n",
       "                            $(this).removeClass(String(!label) + \"-candidate\");\n",
       "                            break;\n",
       "                        }\n",
       "                    }\n",
       "                });\n",
       "            }\n",
       "\n",
       "            // Extra highlighting css\n",
       "            if (highlight) {\n",
       "                tags.addClass(\"highlighted\");\n",
       "            }\n",
       "\n",
       "            // Classes for showing direction of relation\n",
       "            if (highlight) {\n",
       "                this.$el.find(\".\"+cid+\"-0\").addClass(\"left-candidate\");\n",
       "                this.$el.find(\".\"+cid+\"-1\").addClass(\"right-candidate\");\n",
       "            } else {\n",
       "                this.$el.find(\".\"+cid+\"-0\").removeClass(\"left-candidate\");\n",
       "                this.$el.find(\".\"+cid+\"-1\").removeClass(\"right-candidate\");\n",
       "            }\n",
       "        },\n",
       "\n",
       "        // Cycle through candidates and highlight, by increment inc\n",
       "        switchCandidate: function(inc) {\n",
       "            var N = this.cids[this.pid].length\n",
       "            var M = this.cids[this.pid][this.cxid].length;\n",
       "            if (N == 0 || M == 0) { return false; }\n",
       "\n",
       "            // Clear highlighting from previous candidate\n",
       "            if (inc != 0) {\n",
       "                this.markCurrentCandidate(false);\n",
       "\n",
       "                // Increment the cid counter\n",
       "\n",
       "                // Move to next context\n",
       "                if (this.cid + inc >= M) {\n",
       "                    while (this.cid + inc >= M) {\n",
       "                        \n",
       "                        // At last context on page, halt\n",
       "                        if (this.cxid == N - 1) {\n",
       "                            this.cid = M - 1;\n",
       "                            inc = 0;\n",
       "                            break;\n",
       "                        \n",
       "                        // Increment to next context\n",
       "                        } else {\n",
       "                            inc -= M - this.cid;\n",
       "                            this.cxid += 1;\n",
       "                            M = this.cids[this.pid][this.cxid].length;\n",
       "                            this.cid = 0;\n",
       "                        }\n",
       "                    }\n",
       "\n",
       "                // Move to previous context\n",
       "                } else if (this.cid + inc < 0) {\n",
       "                    while (this.cid + inc < 0) {\n",
       "                        \n",
       "                        // At first context on page, halt\n",
       "                        if (this.cxid == 0) {\n",
       "                            this.cid = 0;\n",
       "                            inc = 0;\n",
       "                            break;\n",
       "                        \n",
       "                        // Increment to previous context\n",
       "                        } else {\n",
       "                            inc += this.cid + 1;\n",
       "                            this.cxid -= 1;\n",
       "                            M = this.cids[this.pid][this.cxid].length;\n",
       "                            this.cid = M - 1;\n",
       "                        }\n",
       "                    }\n",
       "                }\n",
       "\n",
       "                // Move within current context\n",
       "                this.cid += inc;\n",
       "            }\n",
       "            this.markCurrentCandidate(true);\n",
       "\n",
       "            // Push this new cid to the model\n",
       "            this.model.set('_selected_cid', this.cids[this.pid][this.cxid][this.cid]);\n",
       "            this.touch();\n",
       "        },\n",
       "\n",
       "        // Switch through contexts\n",
       "        switchContext: function(inc) {\n",
       "            this.markCurrentCandidate(false);\n",
       "\n",
       "            // Iterate context on this page\n",
       "            var M = this.cids[this.pid].length;\n",
       "            if (this.cxid + inc < 0) {\n",
       "                this.cxid = 0;\n",
       "            } else if (this.cxid + inc >= M) {\n",
       "                this.cxid = M - 1;\n",
       "            } else {\n",
       "                this.cxid += inc;\n",
       "            }\n",
       "\n",
       "            // Reset cid and set to first candidate\n",
       "            this.cid = 0;\n",
       "            this.switchCandidate(0);\n",
       "        },\n",
       "\n",
       "        // Switch through pages\n",
       "        switchPage: function(inc) {\n",
       "            this.markCurrentCandidate(false);\n",
       "            this.$el.find(\".viewer-page\").hide();\n",
       "            if (this.pid + inc < 0) {\n",
       "                this.pid = 0;\n",
       "            } else if (this.pid + inc > this.nPages - 1) {\n",
       "                this.pid = this.nPages - 1;\n",
       "            } else {\n",
       "                this.pid += inc;\n",
       "            }\n",
       "            this.$el.find(\"#viewer-page-\"+this.pid).show();\n",
       "\n",
       "            // Show pagination\n",
       "            this.$el.find(\"#page\").html(this.pid);\n",
       "\n",
       "            // Reset cid and set to first candidate\n",
       "            this.cid = 0;\n",
       "            this.cxid = 0;\n",
       "            this.switchCandidate(0);\n",
       "        },\n",
       "\n",
       "        // Label currently-selected candidate\n",
       "        labelCandidate: function(label, highlighted) {\n",
       "            var c    = this.getCandidate();\n",
       "            var cid  = this.cids[this.pid][this.cxid][this.cid];\n",
       "            var cl   = String(label) + \"-candidate\";\n",
       "            var clh  = String(label) + \"-candidate-h\";\n",
       "            var cln  = String(!label) + \"-candidate\";\n",
       "            var clnh = String(!label) + \"-candidate-h\";\n",
       "\n",
       "            // Toggle label highlighting\n",
       "            if (c.hasClass(cl) || c.hasClass(clh)) {\n",
       "                c.removeClass(cl);\n",
       "                c.removeClass(clh);\n",
       "                if (highlighted) {\n",
       "                    c.addClass(\"candidate-h\");\n",
       "                }\n",
       "                this.labels[cid] = null;\n",
       "                this.send({event: 'delete_label', cid: cid});\n",
       "            } else {\n",
       "                c.removeClass(cln);\n",
       "                c.removeClass(clnh);\n",
       "                if (highlighted) {\n",
       "                    c.addClass(clh);\n",
       "                } else {\n",
       "                    c.addClass(cl);\n",
       "                }\n",
       "                this.labels[cid] = label;\n",
       "                this.send({event: 'set_label', cid: cid, value: label});\n",
       "            }\n",
       "\n",
       "            // Set the label and pass back to the model\n",
       "            this.model.set('_labels_serialized', this.serializeDict(this.labels));\n",
       "            this.touch();\n",
       "        },\n",
       "\n",
       "        // Serialization of hash maps, because traitlets Dict doesn't seem to work...\n",
       "        serializeDict: function(d) {\n",
       "            var s = [];\n",
       "            for (var key in d) {\n",
       "                s.push(key+\"~~\"+d[key]);\n",
       "            }\n",
       "            return s.join();\n",
       "        },\n",
       "\n",
       "        // Deserialization of hash maps\n",
       "        deserializeDict: function(s) {\n",
       "            var d = {};\n",
       "            var entries = s.split(/,/);\n",
       "            var kv;\n",
       "            for (var i in entries) {\n",
       "                kv = entries[i].split(/~~/);\n",
       "                if (kv[1] == \"true\") {\n",
       "                    d[kv[0]] = true;\n",
       "                } else if (kv[1] == \"false\") {\n",
       "                    d[kv[0]] = false;\n",
       "                }\n",
       "            }\n",
       "            return d;\n",
       "        },\n",
       "    });\n",
       "\n",
       "    return {\n",
       "        ViewerView: ViewerView\n",
       "    };\n",
       "});\n"
      ],
      "text/plain": [
       "<IPython.core.display.Javascript object>"
      ]
     },
     "metadata": {},
     "output_type": "display_data"
    }
   ],
   "source": [
    "from snorkel.viewer import SentenceNgramViewer\n",
    "fp_cands = [F_dev.get_candidate(i) for i in fps[:100]]\n",
    "sv       = SentenceNgramViewer(fp_cands, session)\n",
    "sv"
   ]
  },
  {
   "cell_type": "code",
   "execution_count": null,
   "metadata": {
    "collapsed": true
   },
   "outputs": [],
   "source": [
    "NEG_PHRASES = [\n",
    "    'stenosis',\n",
    "    'further attention',\n",
    "    'presence',\n",
    "    'absence',\n",
    "    'syndrome',\n",
    "    'association',\n",
    "    'strain',\n",
    "    'progression'\n",
    "]\n",
    "\n",
    "NEG_END_WORDS = [\n",
    "    'therapies',\n",
    "    'muscles',\n",
    "    'concentrations',\n",
    "    'normal',\n",
    "    'heart',\n",
    "    'side',\n",
    "    'sinus',\n",
    "    'convulsants',\n",
    "    'latencies',\n",
    "    'findings',\n",
    "    'doses',\n",
    "    'remission'\n",
    "]\n",
    "\n",
    "def end_in_plural(c):\n",
    "    pass\n",
    "\n",
    "def body_part(c):\n",
    "    pass\n",
    "\n",
    "def not_exact_single_word(d):\n",
    "    pass"
   ]
  },
  {
   "cell_type": "markdown",
   "metadata": {},
   "source": [
    "# TODO:\n",
    "\n",
    "0. _DONE: Add negative labels to candidates..._\n",
    "1. _DONE: Get empirical LF accs up and running..._\n",
    "2. _DONE: Binarize LFs + run in binary gen model_\n",
    "0. _DONE: Add TF-IDF matching LFs_\n",
    "3. _DONE: Add in simple DDLIB + WS feats from new-features -> run disc. model_\n",
    "2. **Conduct TYPE II \"experiment\"!**"
   ]
  },
  {
   "cell_type": "markdown",
   "metadata": {},
   "source": [
    "## Creating Labeling Functions\n",
    "Labeling functions are a core tool of data programming. They are heuristic functions that aim to classify candidates correctly. Their outputs will be automatically combined and denoised to estimate the probabilities of training labels for the training data."
   ]
  },
  {
   "cell_type": "code",
   "execution_count": null,
   "metadata": {
    "collapsed": true
   },
   "outputs": [],
   "source": [
    "import re\n",
    "from lf_terms import *\n",
    "from snorkel.lf_helpers import get_left_tokens, get_right_tokens\n",
    "from utils import *\n",
    "\n",
    "umls_dict              = load_umls_dictionary()\n",
    "chemicals              = load_chemdner_dictionary()\n",
    "abbrv2text, text2abbrv = load_specialist_abbreviations()"
   ]
  },
  {
   "cell_type": "markdown",
   "metadata": {},
   "source": [
    "We also load some publicly-available biomedical dictionaries, which we will leverage in some of our LFs below as a source of weak supervision:"
   ]
  },
  {
   "cell_type": "code",
   "execution_count": null,
   "metadata": {
    "collapsed": false
   },
   "outputs": [],
   "source": [
    "from utils import *\n",
    "\n",
    "umls_dict              = load_umls_dictionary()\n",
    "chemicals              = load_chemdner_dictionary()\n",
    "abbrv2text, text2abbrv = load_specialist_abbreviations()"
   ]
  },
  {
   "cell_type": "markdown",
   "metadata": {},
   "source": [
    "#### Document-Level Labeling Functions\n",
    "We start with some labeling functions that label candidates based on document-level features."
   ]
  },
  {
   "cell_type": "code",
   "execution_count": null,
   "metadata": {
    "collapsed": true
   },
   "outputs": [],
   "source": [
    "from snorkel.lf_helpers import get_doc_candidate_spans\n",
    "\n",
    "def LF_undefined_abbreviation(c):\n",
    "    '''Candidate is a known abbreviation, but no corresponding full name in document'''\n",
    "    doc_spans = get_doc_candidate_spans(c)\n",
    "    phrase = c[0].get_span().lower()\n",
    "    mentions = set([s.get_span().lower() for s in doc_spans])\n",
    "    if len(phrase) > 1 and phrase in abbrv2text and not set(abbrv2text[phrase].keys()).intersection(mentions):\n",
    "        return -1\n",
    "    return 0"
   ]
  },
  {
   "cell_type": "markdown",
   "metadata": {},
   "source": [
    "#### Sentence-Level Labeling Functions\n",
    "We also include some labeling functions that label candidates based on sentence-level features."
   ]
  },
  {
   "cell_type": "code",
   "execution_count": null,
   "metadata": {
    "collapsed": true
   },
   "outputs": [],
   "source": [
    "from snorkel.lf_helpers import get_sent_candidate_spans\n",
    "\n",
    "def LF_contiguous_mentions(c):\n",
    "    '''Contiguous candidates are likely wrong'''\n",
    "    neighbor_spans = get_sent_candidate_spans(c)\n",
    "    start, end = c[0].get_word_start(), c[0].get_word_end()\n",
    "    for s in neighbor_spans:\n",
    "        if s.get_word_end() + 1 == start or s.get_word_start() - 1 == end:\n",
    "            return -1\n",
    "    return 0"
   ]
  },
  {
   "cell_type": "markdown",
   "metadata": {},
   "source": [
    "#### Mention-Level Labeling Functions\n",
    "We now define a number of labeling functions that label candidates based on attributes related to the mention."
   ]
  },
  {
   "cell_type": "code",
   "execution_count": null,
   "metadata": {
    "collapsed": false
   },
   "outputs": [],
   "source": [
    "from snorkel.lf_helpers import get_left_tokens, get_right_tokens\n",
    "\n",
    "def LF_tumors_growths(c):\n",
    "    phrase = \" \".join(c[0].get_attrib_tokens('lemmas'))\n",
    "    return 1 if re.search(\"^(\\w* ){0,2}(['] )*(tumor|tumour|polyp|pilomatricoma|cyst|lipoma)$\", phrase) else 0\n",
    "\n",
    "def LF_cancer(c):\n",
    "    '''<TYPE> cancer'''\n",
    "    phrase = \" \".join(c[0].get_attrib_tokens('lemmas'))\n",
    "    return 1 if re.search(\"\\w* cancer\",phrase) else 0\n",
    "\n",
    "def LF_disease_syndrome(c):\n",
    "    '''<TYPE> disease or <TYPE> syndrome'''\n",
    "    phrase = \" \".join(c[0].get_attrib_tokens('lemmas'))\n",
    "    return 1 if re.search(\"\\w* (disease|syndrome)+\",phrase) else 0\n",
    "\n",
    "def LF_indicators(c):\n",
    "    '''Indicator words'''\n",
    "    return 1 if \" \".join(c[0].get_attrib_tokens()).lower() in indicators else 0\n",
    "\n",
    "def LF_common_disease(c):\n",
    "    '''Common disease'''\n",
    "    return 1 if \" \".join(c[0].get_attrib_tokens()).lower() in common_disease else 0"
   ]
  },
  {
   "cell_type": "markdown",
   "metadata": {},
   "source": [
    "*For a few more examples of LFs of this style that we'll use, see [Disease_Tagging_Tutorial_LFs.py](Disease_Tagging_Tutorial_LFs.py).*"
   ]
  },
  {
   "cell_type": "markdown",
   "metadata": {},
   "source": [
    "#### Dictionary Labeling Functions\n",
    "We can use existing dictionaries for distant supervision."
   ]
  },
  {
   "cell_type": "code",
   "execution_count": null,
   "metadata": {
    "collapsed": true
   },
   "outputs": [],
   "source": [
    "def LF_SNOWMED_CT_sign_or_symptom(c):\n",
    "    return 1 if c[0].get_span() in umls_dict[\"snomedct\"][\"sign_or_symptom\"] else 0\n",
    "\n",
    "def LF_SNOWMED_CT_disease_or_syndrome(c):\n",
    "    return 1 if c[0].get_span() in umls_dict[\"snomedct\"][\"disease_or_syndrome\"] else 0\n",
    "\n",
    "def LF_MESH_disease_or_syndrome(c):\n",
    "    return 1 if c[0].get_span() in umls_dict[\"mesh\"][\"disease_or_syndrome\"] else 0\n",
    "\n",
    "def LF_MESH_sign_or_symptom(c):\n",
    "    return 1 if c[0].get_span() in umls_dict[\"mesh\"][\"sign_or_symptom\"] else 0"
   ]
  },
  {
   "cell_type": "markdown",
   "metadata": {},
   "source": [
    "#### Negative Labeling Functions\n",
    "When writing labeling functions, it is important to provide negative supervision in addition to positive supervision."
   ]
  },
  {
   "cell_type": "code",
   "execution_count": null,
   "metadata": {
    "collapsed": true
   },
   "outputs": [],
   "source": [
    "def LF_organs(c):\n",
    "    phrase = \" \".join(c[0].get_attrib_tokens()).lower()\n",
    "    return -1 if phrase in organs else 0      \n",
    "\n",
    "def LF_chemical_name(c):\n",
    "    phrase = \" \".join(c[0].get_attrib_tokens())\n",
    "    return -1 if phrase in chemicals and not phrase.isupper() else 0\n",
    "\n",
    "def LF_bodysym(c):\n",
    "    phrase = \" \".join(c[0].get_attrib_tokens()).lower()\n",
    "    return -1 if phrase in bodysym else 0  \n",
    "\n",
    "def LF_protein_chemical_abbrv(c):\n",
    "    '''Gene/protein/chemical name'''\n",
    "    lemma = \" \".join(c[0].get_attrib_tokens('lemmas'))\n",
    "    return -1 if re.search(\"\\d+\",lemma) else 0\n",
    "\n",
    "def LF_base_pair_seq(c): \n",
    "    lemma = \" \".join(c[0].get_attrib_tokens('lemmas'))\n",
    "    return -1 if re.search(\"^[GACT]{2,}$\",lemma) else 0"
   ]
  },
  {
   "cell_type": "markdown",
   "metadata": {},
   "source": [
    "*For a few more examples of LFs of this style that we'll use, see [Disease_Tagging_Tutorial_LFs.py](Disease_Tagging_Tutorial_LFs.py).*"
   ]
  },
  {
   "cell_type": "markdown",
   "metadata": {},
   "source": [
    "We maintain a list of all LFs for convenience."
   ]
  },
  {
   "cell_type": "code",
   "execution_count": null,
   "metadata": {
    "collapsed": false
   },
   "outputs": [],
   "source": [
    "from Disease_Tagging_Tutorial_LFs import *\n",
    "\n",
    "LFs_doc = [LF_undefined_abbreviation]\n",
    "\n",
    "LFs_sent = [LF_contiguous_mentions]\n",
    "\n",
    "LFs_mention = [LF_tumors_growths,\n",
    "               LF_cancer,\n",
    "               LF_disease_syndrome,\n",
    "               LF_indicators,\n",
    "               LF_common_disease,\n",
    "               LF_common_disease_acronyms,\n",
    "               LF_deficiency_of,\n",
    "               LF_positive_indicator,\n",
    "               LF_left_positive_argument,\n",
    "               LF_right_negative_argument,\n",
    "               LF_medical_afixes,\n",
    "               LF_adj_diseases\n",
    "              ]\n",
    "\n",
    "LFs_dicts =  [LF_SNOWMED_CT_sign_or_symptom,\n",
    "              LF_SNOWMED_CT_disease_or_syndrome,\n",
    "              LF_MESH_disease_or_syndrome,\n",
    "              LF_MESH_sign_or_symptom\n",
    "            ]\n",
    "\n",
    "LFs_false = [LF_chemical_name,\n",
    "             LF_organs,\n",
    "             LF_bodysym,\n",
    "             LF_protein_chemical_abbrv,\n",
    "             LF_base_pair_seq,\n",
    "             LF_too_vague,\n",
    "             LF_neg_surfix,\n",
    "             LF_non_common_disease,\n",
    "             LF_non_disease_acronyms,\n",
    "             LF_pos_in,\n",
    "             LF_gene_chromosome_link,\n",
    "             LF_right_window_incomplete,\n",
    "             LF_negative_indicator\n",
    "            ]"
   ]
  },
  {
   "cell_type": "markdown",
   "metadata": {},
   "source": [
    "## Applying Labeling Functions"
   ]
  },
  {
   "cell_type": "markdown",
   "metadata": {},
   "source": [
    "First we construct a `CandidateLabeler`."
   ]
  },
  {
   "cell_type": "code",
   "execution_count": null,
   "metadata": {
    "collapsed": false
   },
   "outputs": [],
   "source": [
    "from snorkel.annotations import LabelManager\n",
    "\n",
    "label_manager = LabelManager()"
   ]
  },
  {
   "cell_type": "markdown",
   "metadata": {},
   "source": [
    "Next we run the `CandidateLabeler` to to apply the labeling functions to the training `CandidateSet`.  We'll start with some of our labeling functions:"
   ]
  },
  {
   "cell_type": "code",
   "execution_count": null,
   "metadata": {
    "collapsed": false,
    "scrolled": true
   },
   "outputs": [],
   "source": [
    "LFs = LFs_mention + LFs_dicts + LFs_false\n",
    "%time L_train = label_manager.create(session, train, 'LF Labels', f=LFs)\n",
    "L_train"
   ]
  },
  {
   "cell_type": "markdown",
   "metadata": {},
   "source": [
    "**OR** load if we've already created:"
   ]
  },
  {
   "cell_type": "code",
   "execution_count": null,
   "metadata": {
    "collapsed": false
   },
   "outputs": [],
   "source": [
    "%time L_train = label_manager.load(session, train, 'LF Labels')\n",
    "L_train"
   ]
  },
  {
   "cell_type": "markdown",
   "metadata": {},
   "source": [
    "We can also add or rerun a single labeling function (or more!) with the below command. Note that we set the argument `expand_key_set` to `True` to indicate that the set of matrix columns should be allowed to expand:"
   ]
  },
  {
   "cell_type": "code",
   "execution_count": null,
   "metadata": {
    "collapsed": false
   },
   "outputs": [],
   "source": [
    "LFs_2   = LFs_doc + LFs_sent\n",
    "L_train = label_manager.update(session, train, 'LF Labels', True, f=LFs_2)\n",
    "L_train"
   ]
  },
  {
   "cell_type": "markdown",
   "metadata": {},
   "source": [
    "We can view statistics about the resulting label matrix:"
   ]
  },
  {
   "cell_type": "code",
   "execution_count": null,
   "metadata": {
    "collapsed": false
   },
   "outputs": [],
   "source": [
    "L_train.lf_stats()"
   ]
  },
  {
   "cell_type": "markdown",
   "metadata": {},
   "source": [
    "## Fitting the Generative Model\n",
    "We estimate the accuracies of the labeling functions without supervision. Specifically, we estimate the parameters of a `NaiveBayes` generative model."
   ]
  },
  {
   "cell_type": "code",
   "execution_count": null,
   "metadata": {
    "collapsed": false
   },
   "outputs": [],
   "source": [
    "from snorkel.learning import GenerativeModel\n",
    "\n",
    "gen_model = GenerativeModel()\n",
    "gen_model.train(L_train)"
   ]
  },
  {
   "cell_type": "code",
   "execution_count": null,
   "metadata": {
    "collapsed": false
   },
   "outputs": [],
   "source": [
    "gen_model.save(session, 'Generative Params')"
   ]
  },
  {
   "cell_type": "markdown",
   "metadata": {},
   "source": [
    "We now apply the generative model to the training candidates."
   ]
  },
  {
   "cell_type": "code",
   "execution_count": null,
   "metadata": {
    "collapsed": false
   },
   "outputs": [],
   "source": [
    "train_marginals = gen_model.marginals(L_train)"
   ]
  },
  {
   "cell_type": "markdown",
   "metadata": {},
   "source": [
    "## Training the Discriminative Model\n",
    "We use the estimated probabilites to train a discriminative model that classifies each `Candidate` as a true or false mention."
   ]
  },
  {
   "cell_type": "code",
   "execution_count": null,
   "metadata": {
    "collapsed": false
   },
   "outputs": [],
   "source": [
    "from snorkel.learning import LogReg\n",
    "\n",
    "disc_model = LogReg()\n",
    "disc_model.train(F_train, train_marginals, n_iter=5000, rate=1e-3)"
   ]
  },
  {
   "cell_type": "code",
   "execution_count": null,
   "metadata": {
    "collapsed": false
   },
   "outputs": [],
   "source": [
    "disc_model.w.shape"
   ]
  },
  {
   "cell_type": "code",
   "execution_count": null,
   "metadata": {
    "collapsed": false
   },
   "outputs": [],
   "source": [
    "%time disc_model.save(session, \"Discriminative Params\")"
   ]
  },
  {
   "cell_type": "markdown",
   "metadata": {},
   "source": [
    "## Evaluating on the Development `CandidateSet`"
   ]
  },
  {
   "cell_type": "markdown",
   "metadata": {},
   "source": [
    "First, we create features for the development set.\n",
    "\n",
    "Note that we use the training features feature set, because those are the only features for which we have learned parameters. Features that were not encountered during training, e.g., a token that does not appear in the training set, are ignored, because we do not have any information about them.\n",
    "\n",
    "To do so with the `FeatureManager`, we call update with the new `CandidateSet`, the name of the training `AnnotationKeySet`, and the value `False` for the parameter `extend_key_set` to indicate that the `AnnotationKeySet` should not be expanded with new `Feature` keys encountered during processing."
   ]
  },
  {
   "cell_type": "code",
   "execution_count": null,
   "metadata": {
    "collapsed": false
   },
   "outputs": [],
   "source": [
    "%time F_dev = feature_manager.update(session, dev, 'Train Features', False)"
   ]
  },
  {
   "cell_type": "markdown",
   "metadata": {},
   "source": [
    "**OR** if we've already created one, we can simply load as follows:"
   ]
  },
  {
   "cell_type": "code",
   "execution_count": null,
   "metadata": {
    "collapsed": false
   },
   "outputs": [],
   "source": [
    "%time F_dev = feature_manager.load(session, dev, 'Train Features')"
   ]
  },
  {
   "cell_type": "markdown",
   "metadata": {},
   "source": [
    "Next, we load the development set labels and gold candidates we made in Part III."
   ]
  },
  {
   "cell_type": "code",
   "execution_count": null,
   "metadata": {
    "collapsed": false,
    "scrolled": true
   },
   "outputs": [],
   "source": [
    "L_gold_dev = label_manager.load(session, dev, \"CDR Development Labels -- Gold\")"
   ]
  },
  {
   "cell_type": "code",
   "execution_count": null,
   "metadata": {
    "collapsed": true
   },
   "outputs": [],
   "source": [
    "gold_dev_set = session.query(CandidateSet).filter(CandidateSet.name == 'CDR Development Candidates -- Gold').one()"
   ]
  },
  {
   "cell_type": "markdown",
   "metadata": {},
   "source": [
    "Now we can evaluate the discriminative model on the development set."
   ]
  },
  {
   "cell_type": "code",
   "execution_count": null,
   "metadata": {
    "collapsed": false
   },
   "outputs": [],
   "source": [
    "tp, fp, tn, fn = disc_model.score(F_dev, L_gold_dev, gold_dev_set)"
   ]
  },
  {
   "cell_type": "markdown",
   "metadata": {},
   "source": [
    "## Viewing Examples\n",
    "After evaluating on the development `CandidateSet`, the labeling functions can be modified. Try changing the labeling functions to improve performance. You can view the true positives, false positives, true negatives, and false negatives using the `Viewer`."
   ]
  },
  {
   "cell_type": "code",
   "execution_count": null,
   "metadata": {
    "collapsed": false
   },
   "outputs": [],
   "source": [
    "from snorkel.viewer import SentenceNgramViewer\n",
    "\n",
    "# NOTE: This if-then statement is only to avoid opening the viewer during automated testing of this notebook\n",
    "# You should ignore this!\n",
    "import os\n",
    "if 'CI' not in os.environ:\n",
    "    sv = SentenceNgramViewer(tp, session, annotator_name=\"Tutorial Part IV User\")\n",
    "else:\n",
    "    sv = None"
   ]
  },
  {
   "cell_type": "code",
   "execution_count": null,
   "metadata": {
    "collapsed": false
   },
   "outputs": [],
   "source": [
    "sv"
   ]
  },
  {
   "cell_type": "markdown",
   "metadata": {},
   "source": [
    "Next, in Part V, we will test our model on the test `CandidateSet`."
   ]
  }
 ],
 "metadata": {
  "kernelspec": {
   "display_name": "Python 2",
   "language": "python",
   "name": "python2"
  },
  "language_info": {
   "codemirror_mode": {
    "name": "ipython",
    "version": 2
   },
   "file_extension": ".py",
   "mimetype": "text/x-python",
   "name": "python",
   "nbconvert_exporter": "python",
   "pygments_lexer": "ipython2",
   "version": "2.7.10"
  },
  "widgets": {
   "state": {
    "427b7c739f284d7eaeb922ca957ae132": {
     "views": [
      {
       "cell_index": 82
      }
     ]
    },
    "f42dc123250143fd877dc553497702a8": {
     "views": [
      {
       "cell_index": 68
      }
     ]
    }
   },
   "version": "1.2.0"
  }
 },
 "nbformat": 4,
 "nbformat_minor": 0
}
