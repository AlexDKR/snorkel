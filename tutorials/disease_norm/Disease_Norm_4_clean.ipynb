{
 "cells": [
  {
   "cell_type": "markdown",
   "metadata": {},
   "source": [
    "# Disease Norm\n",
    "\n",
    "In this example, we'll be writing an application to extract *mentions of* diseases from Pubmed abstracts, using annotations from the [BioCreative CDR Challenge](http://www.biocreative.org/resources/corpora/biocreative-v-cdr-corpus/).  This tutorial, which has 5 parts, walks through the process of constructing a model to classify _candidate_ disease mentions as either true (i.e., that it is truly a mention of a disease) or false."
   ]
  },
  {
   "cell_type": "markdown",
   "metadata": {},
   "source": [
    "# Loading Candidates + Annotations"
   ]
  },
  {
   "cell_type": "code",
   "execution_count": 1,
   "metadata": {
    "collapsed": false,
    "scrolled": true
   },
   "outputs": [],
   "source": [
    "%load_ext autoreload\n",
    "%autoreload 2\n",
    "%matplotlib inline\n",
    "\n",
    "import numpy as np\n",
    "from snorkel import SnorkelSession\n",
    "session = SnorkelSession()\n",
    "\n",
    "from snorkel.models import candidate_subclass\n",
    "\n",
    "Disease = candidate_subclass('Disease', ['disease'])"
   ]
  },
  {
   "cell_type": "code",
   "execution_count": 2,
   "metadata": {
    "collapsed": false
   },
   "outputs": [
    {
     "name": "stdout",
     "output_type": "stream",
     "text": [
      "28087\n",
      "27896\n"
     ]
    }
   ],
   "source": [
    "from snorkel.models import CandidateSet\n",
    "\n",
    "train = session.query(CandidateSet).filter(CandidateSet.name == 'CDR Training Candidates').one()\n",
    "print len(train)\n",
    "dev = session.query(CandidateSet).filter(CandidateSet.name == 'CDR Development Candidates').one()\n",
    "print len(dev)"
   ]
  },
  {
   "cell_type": "code",
   "execution_count": 3,
   "metadata": {
    "collapsed": false
   },
   "outputs": [
    {
     "name": "stdout",
     "output_type": "stream",
     "text": [
      "(28087, 1)\n",
      "(27896, 1)\n"
     ]
    }
   ],
   "source": [
    "from snorkel.annotations import LabelManager\n",
    "\n",
    "label_manager = LabelManager()\n",
    "\n",
    "L_gold_train = label_manager.load(session, train, \"CDR Training Label Set\")\n",
    "print L_gold_train.shape\n",
    "L_gold_dev = label_manager.load(session, dev, \"CDR Development Label Set\")\n",
    "print L_gold_dev.shape"
   ]
  },
  {
   "cell_type": "code",
   "execution_count": null,
   "metadata": {
    "collapsed": true
   },
   "outputs": [],
   "source": []
  },
  {
   "cell_type": "code",
   "execution_count": 28,
   "metadata": {
    "collapsed": false
   },
   "outputs": [
    {
     "name": "stderr",
     "output_type": "stream",
     "text": [
      "/usr/local/lib/python2.7/dist-packages/sqlalchemy/orm/persistence.py:925: SAWarning: DELETE statement on table 'label' expected to delete 1 row(s); 0 were matched.  Please set confirm_deleted_rows=False within the mapper configuration to prevent this warning.\n",
      "  (table.description, expected, rows_matched)\n"
     ]
    },
    {
     "ename": "NoResultFound",
     "evalue": "No row was found for one()",
     "output_type": "error",
     "traceback": [
      "\u001b[0;31m---------------------------------------------------------------------------\u001b[0m",
      "\u001b[0;31mNoResultFound\u001b[0m                             Traceback (most recent call last)",
      "\u001b[0;32m<ipython-input-28-4b52720b2c64>\u001b[0m in \u001b[0;36m<module>\u001b[0;34m()\u001b[0m\n\u001b[1;32m      2\u001b[0m \u001b[0;34m\u001b[0m\u001b[0m\n\u001b[1;32m      3\u001b[0m \u001b[0;31m# Get the AnnotationKeySet\u001b[0m\u001b[0;34m\u001b[0m\u001b[0;34m\u001b[0m\u001b[0m\n\u001b[0;32m----> 4\u001b[0;31m \u001b[0mlks\u001b[0m \u001b[0;34m=\u001b[0m \u001b[0msession\u001b[0m\u001b[0;34m.\u001b[0m\u001b[0mquery\u001b[0m\u001b[0;34m(\u001b[0m\u001b[0mAnnotationKeySet\u001b[0m\u001b[0;34m)\u001b[0m\u001b[0;34m.\u001b[0m\u001b[0mfilter\u001b[0m\u001b[0;34m(\u001b[0m\u001b[0mAnnotationKeySet\u001b[0m\u001b[0;34m.\u001b[0m\u001b[0mname\u001b[0m \u001b[0;34m==\u001b[0m \u001b[0;34m'LF Development Labels 1'\u001b[0m\u001b[0;34m)\u001b[0m\u001b[0;34m.\u001b[0m\u001b[0mone\u001b[0m\u001b[0;34m(\u001b[0m\u001b[0;34m)\u001b[0m\u001b[0;34m\u001b[0m\u001b[0m\n\u001b[0m\u001b[1;32m      5\u001b[0m \u001b[0mlks\u001b[0m\u001b[0;34m\u001b[0m\u001b[0m\n",
      "\u001b[0;32m/usr/local/lib/python2.7/dist-packages/sqlalchemy/orm/query.pyc\u001b[0m in \u001b[0;36mone\u001b[0;34m(self)\u001b[0m\n\u001b[1;32m   2697\u001b[0m             \u001b[0;32mreturn\u001b[0m \u001b[0mret\u001b[0m\u001b[0;34m[\u001b[0m\u001b[0;36m0\u001b[0m\u001b[0;34m]\u001b[0m\u001b[0;34m\u001b[0m\u001b[0m\n\u001b[1;32m   2698\u001b[0m         \u001b[0;32melif\u001b[0m \u001b[0ml\u001b[0m \u001b[0;34m==\u001b[0m \u001b[0;36m0\u001b[0m\u001b[0;34m:\u001b[0m\u001b[0;34m\u001b[0m\u001b[0m\n\u001b[0;32m-> 2699\u001b[0;31m             \u001b[0;32mraise\u001b[0m \u001b[0morm_exc\u001b[0m\u001b[0;34m.\u001b[0m\u001b[0mNoResultFound\u001b[0m\u001b[0;34m(\u001b[0m\u001b[0;34m\"No row was found for one()\"\u001b[0m\u001b[0;34m)\u001b[0m\u001b[0;34m\u001b[0m\u001b[0m\n\u001b[0m\u001b[1;32m   2700\u001b[0m         \u001b[0;32melse\u001b[0m\u001b[0;34m:\u001b[0m\u001b[0;34m\u001b[0m\u001b[0m\n\u001b[1;32m   2701\u001b[0m             raise orm_exc.MultipleResultsFound(\n",
      "\u001b[0;31mNoResultFound\u001b[0m: No row was found for one()"
     ]
    }
   ],
   "source": [
    "from snorkel.models import AnnotationKeySet, AnnotationKey, Label\n",
    "\n",
    "# Get the AnnotationKeySet\n",
    "lks = session.query(AnnotationKeySet).filter(AnnotationKeySet.name == 'LF Development Labels 1').one()\n",
    "lks"
   ]
  },
  {
   "cell_type": "code",
   "execution_count": 29,
   "metadata": {
    "collapsed": false
   },
   "outputs": [
    {
     "ename": "ArgumentError",
     "evalue": "SQL expression object or string expected, got object of type <class 'sqlalchemy.orm.collections.InstrumentedList'> instead",
     "output_type": "error",
     "traceback": [
      "\u001b[0;31m---------------------------------------------------------------------------\u001b[0m",
      "\u001b[0;31mArgumentError\u001b[0m                             Traceback (most recent call last)",
      "\u001b[0;32m<ipython-input-29-adeb2109b4bf>\u001b[0m in \u001b[0;36m<module>\u001b[0;34m()\u001b[0m\n\u001b[0;32m----> 1\u001b[0;31m \u001b[0msession\u001b[0m\u001b[0;34m.\u001b[0m\u001b[0mquery\u001b[0m\u001b[0;34m(\u001b[0m\u001b[0mAnnotationKey\u001b[0m\u001b[0;34m)\u001b[0m\u001b[0;34m.\u001b[0m\u001b[0mfilter\u001b[0m\u001b[0;34m(\u001b[0m\u001b[0mlks\u001b[0m\u001b[0;34m.\u001b[0m\u001b[0mkeys\u001b[0m\u001b[0;34m)\u001b[0m\u001b[0;34m.\u001b[0m\u001b[0mcount\u001b[0m\u001b[0;34m(\u001b[0m\u001b[0;34m)\u001b[0m\u001b[0;34m\u001b[0m\u001b[0m\n\u001b[0m",
      "\u001b[0;32m<string>\u001b[0m in \u001b[0;36mfilter\u001b[0;34m(self, *criterion)\u001b[0m\n",
      "\u001b[0;32m/usr/local/lib/python2.7/dist-packages/sqlalchemy/orm/base.pyc\u001b[0m in \u001b[0;36mgenerate\u001b[0;34m(fn, *args, **kw)\u001b[0m\n\u001b[1;32m    199\u001b[0m         \u001b[0;32mfor\u001b[0m \u001b[0massertion\u001b[0m \u001b[0;32min\u001b[0m \u001b[0massertions\u001b[0m\u001b[0;34m:\u001b[0m\u001b[0;34m\u001b[0m\u001b[0m\n\u001b[1;32m    200\u001b[0m             \u001b[0massertion\u001b[0m\u001b[0;34m(\u001b[0m\u001b[0mself\u001b[0m\u001b[0;34m,\u001b[0m \u001b[0mfn\u001b[0m\u001b[0;34m.\u001b[0m\u001b[0m__name__\u001b[0m\u001b[0;34m)\u001b[0m\u001b[0;34m\u001b[0m\u001b[0m\n\u001b[0;32m--> 201\u001b[0;31m         \u001b[0mfn\u001b[0m\u001b[0;34m(\u001b[0m\u001b[0mself\u001b[0m\u001b[0;34m,\u001b[0m \u001b[0;34m*\u001b[0m\u001b[0margs\u001b[0m\u001b[0;34m[\u001b[0m\u001b[0;36m1\u001b[0m\u001b[0;34m:\u001b[0m\u001b[0;34m]\u001b[0m\u001b[0;34m,\u001b[0m \u001b[0;34m**\u001b[0m\u001b[0mkw\u001b[0m\u001b[0;34m)\u001b[0m\u001b[0;34m\u001b[0m\u001b[0m\n\u001b[0m\u001b[1;32m    202\u001b[0m         \u001b[0;32mreturn\u001b[0m \u001b[0mself\u001b[0m\u001b[0;34m\u001b[0m\u001b[0m\n\u001b[1;32m    203\u001b[0m     \u001b[0;32mreturn\u001b[0m \u001b[0mgenerate\u001b[0m\u001b[0;34m\u001b[0m\u001b[0m\n",
      "\u001b[0;32m/usr/local/lib/python2.7/dist-packages/sqlalchemy/orm/query.pyc\u001b[0m in \u001b[0;36mfilter\u001b[0;34m(self, *criterion)\u001b[0m\n\u001b[1;32m   1473\u001b[0m         \"\"\"\n\u001b[1;32m   1474\u001b[0m         \u001b[0;32mfor\u001b[0m \u001b[0mcriterion\u001b[0m \u001b[0;32min\u001b[0m \u001b[0mlist\u001b[0m\u001b[0;34m(\u001b[0m\u001b[0mcriterion\u001b[0m\u001b[0;34m)\u001b[0m\u001b[0;34m:\u001b[0m\u001b[0;34m\u001b[0m\u001b[0m\n\u001b[0;32m-> 1475\u001b[0;31m             \u001b[0mcriterion\u001b[0m \u001b[0;34m=\u001b[0m \u001b[0mexpression\u001b[0m\u001b[0;34m.\u001b[0m\u001b[0m_expression_literal_as_text\u001b[0m\u001b[0;34m(\u001b[0m\u001b[0mcriterion\u001b[0m\u001b[0;34m)\u001b[0m\u001b[0;34m\u001b[0m\u001b[0m\n\u001b[0m\u001b[1;32m   1476\u001b[0m \u001b[0;34m\u001b[0m\u001b[0m\n\u001b[1;32m   1477\u001b[0m             \u001b[0mcriterion\u001b[0m \u001b[0;34m=\u001b[0m \u001b[0mself\u001b[0m\u001b[0;34m.\u001b[0m\u001b[0m_adapt_clause\u001b[0m\u001b[0;34m(\u001b[0m\u001b[0mcriterion\u001b[0m\u001b[0;34m,\u001b[0m \u001b[0mTrue\u001b[0m\u001b[0;34m,\u001b[0m \u001b[0mTrue\u001b[0m\u001b[0;34m)\u001b[0m\u001b[0;34m\u001b[0m\u001b[0m\n",
      "\u001b[0;32m/usr/local/lib/python2.7/dist-packages/sqlalchemy/sql/elements.pyc\u001b[0m in \u001b[0;36m_expression_literal_as_text\u001b[0;34m(element)\u001b[0m\n\u001b[1;32m   3764\u001b[0m \u001b[0;34m\u001b[0m\u001b[0m\n\u001b[1;32m   3765\u001b[0m \u001b[0;32mdef\u001b[0m \u001b[0m_expression_literal_as_text\u001b[0m\u001b[0;34m(\u001b[0m\u001b[0melement\u001b[0m\u001b[0;34m)\u001b[0m\u001b[0;34m:\u001b[0m\u001b[0;34m\u001b[0m\u001b[0m\n\u001b[0;32m-> 3766\u001b[0;31m     \u001b[0;32mreturn\u001b[0m \u001b[0m_literal_as_text\u001b[0m\u001b[0;34m(\u001b[0m\u001b[0melement\u001b[0m\u001b[0;34m,\u001b[0m \u001b[0mwarn\u001b[0m\u001b[0;34m=\u001b[0m\u001b[0mTrue\u001b[0m\u001b[0;34m)\u001b[0m\u001b[0;34m\u001b[0m\u001b[0m\n\u001b[0m\u001b[1;32m   3767\u001b[0m \u001b[0;34m\u001b[0m\u001b[0m\n\u001b[1;32m   3768\u001b[0m \u001b[0;34m\u001b[0m\u001b[0m\n",
      "\u001b[0;32m/usr/local/lib/python2.7/dist-packages/sqlalchemy/sql/elements.pyc\u001b[0m in \u001b[0;36m_literal_as_text\u001b[0;34m(element, warn)\u001b[0m\n\u001b[1;32m   3785\u001b[0m         raise exc.ArgumentError(\n\u001b[1;32m   3786\u001b[0m             \u001b[0;34m\"SQL expression object or string expected, got object of type %r \"\u001b[0m\u001b[0;34m\u001b[0m\u001b[0m\n\u001b[0;32m-> 3787\u001b[0;31m             \u001b[0;34m\"instead\"\u001b[0m \u001b[0;34m%\u001b[0m \u001b[0mtype\u001b[0m\u001b[0;34m(\u001b[0m\u001b[0melement\u001b[0m\u001b[0;34m)\u001b[0m\u001b[0;34m\u001b[0m\u001b[0m\n\u001b[0m\u001b[1;32m   3788\u001b[0m         )\n\u001b[1;32m   3789\u001b[0m \u001b[0;34m\u001b[0m\u001b[0m\n",
      "\u001b[0;31mArgumentError\u001b[0m: SQL expression object or string expected, got object of type <class 'sqlalchemy.orm.collections.InstrumentedList'> instead"
     ]
    }
   ],
   "source": [
    "session.query(AnnotationKey).filter(lks.keys).count()"
   ]
  },
  {
   "cell_type": "code",
   "execution_count": 16,
   "metadata": {
    "collapsed": false
   },
   "outputs": [
    {
     "data": {
      "text/plain": [
       "0"
      ]
     },
     "execution_count": 16,
     "metadata": {},
     "output_type": "execute_result"
    }
   ],
   "source": [
    "session.query(Label).filter(Label.key in lks.keys).count()"
   ]
  },
  {
   "cell_type": "code",
   "execution_count": 30,
   "metadata": {
    "collapsed": false
   },
   "outputs": [
    {
     "data": {
      "text/plain": [
       "[Label (D-27-505 = -1),\n",
       " Label (D-27-505 = -1),\n",
       " Label (D-27-505 = -1),\n",
       " Label (D-27-505 = -1),\n",
       " Label (D-27-505 = -1),\n",
       " Label (D-27-505 = -1),\n",
       " Label (D-27-505 = -1),\n",
       " Label (D-27-505 = -1),\n",
       " Label (D-27-505 = -1),\n",
       " Label (D-27-505 = -1),\n",
       " Label (D-27-505 = -1),\n",
       " Label (D-27-505 = -1),\n",
       " Label (D-27-505 = -1),\n",
       " Label (D-27-505 = -1),\n",
       " Label (D-27-505 = -1),\n",
       " Label (D-27-505 = -1),\n",
       " Label (D-27-505 = -1),\n",
       " Label (D-27-505 = -1),\n",
       " Label (D-27-505 = -1),\n",
       " Label (D-27-505 = -1),\n",
       " Label (D-27-505 = -1),\n",
       " Label (D-27-505 = -1),\n",
       " Label (D-27-505 = -1),\n",
       " Label (D-27-505 = -1),\n",
       " Label (D-27-505 = -1),\n",
       " Label (D-27-505 = -1),\n",
       " Label (D-27-505 = -1),\n",
       " Label (D-27-505 = -1),\n",
       " Label (D-27-505 = -1),\n",
       " Label (D-27-505 = -1),\n",
       " Label (D-27-505 = -1),\n",
       " Label (D-27-505 = -1),\n",
       " Label (D-27-505 = -1),\n",
       " Label (D-27-505 = -1),\n",
       " Label (D-27-505 = -1),\n",
       " Label (D-27-505 = -1),\n",
       " Label (D-27-505 = -1),\n",
       " Label (D-27-505 = -1),\n",
       " Label (D-27-505 = -1),\n",
       " Label (D-27-505 = -1),\n",
       " Label (D-27-505 = -1),\n",
       " Label (D-27-505 = -1),\n",
       " Label (D-27-505 = -1),\n",
       " Label (D-27-505 = -1),\n",
       " Label (D-27-505 = -1),\n",
       " Label (D-27-505 = -1),\n",
       " Label (D-27-505 = -1),\n",
       " Label (D-27-505 = -1),\n",
       " Label (D-27-505 = -1),\n",
       " Label (D-27-505 = -1),\n",
       " Label (D-27-505 = -1),\n",
       " Label (D-27-505 = -1),\n",
       " Label (D-27-505 = -1),\n",
       " Label (D-27-505 = -1),\n",
       " Label (D-27-505 = -1),\n",
       " Label (D-27-505 = -1),\n",
       " Label (D-27-505 = -1),\n",
       " Label (D-27-505 = -1),\n",
       " Label (D-27-505 = -1),\n",
       " Label (D-27-505 = -1),\n",
       " Label (D-27-505 = -1),\n",
       " Label (D-27-505 = -1),\n",
       " Label (D-27-505 = -1),\n",
       " Label (D-27-505 = -1),\n",
       " Label (D-27-505 = -1),\n",
       " Label (D-27-505 = -1),\n",
       " Label (D-27-505 = -1),\n",
       " Label (D-27-505 = -1),\n",
       " Label (D-27-505 = -1),\n",
       " Label (D-27-505 = -1),\n",
       " Label (D-27-505 = -1),\n",
       " Label (D-27-505 = -1),\n",
       " Label (D-27-505 = -1),\n",
       " Label (D-27-505 = -1),\n",
       " Label (D-27-505 = -1),\n",
       " Label (D-27-505 = -1),\n",
       " Label (D-27-505 = -1),\n",
       " Label (D-27-505 = -1),\n",
       " Label (D-27-505 = -1),\n",
       " Label (D-27-505 = -1),\n",
       " Label (D-27-505 = -1),\n",
       " Label (D-27-505 = -1),\n",
       " Label (D-27-505 = -1),\n",
       " Label (D-27-505 = -1),\n",
       " Label (D-27-505 = -1),\n",
       " Label (D-27-505 = -1),\n",
       " Label (D-27-505 = -1),\n",
       " Label (D-27-505 = -1),\n",
       " Label (D-27-505 = -1),\n",
       " Label (D-27-505 = -1),\n",
       " Label (D-27-505 = -1),\n",
       " Label (D-27-505 = -1),\n",
       " Label (D-27-505 = -1),\n",
       " Label (D-27-505 = -1),\n",
       " Label (D-27-505 = -1),\n",
       " Label (D-27-505 = -1),\n",
       " Label (D-27-505 = -1),\n",
       " Label (D-27-505 = -1),\n",
       " Label (D-27-505 = -1),\n",
       " Label (D-27-505 = -1),\n",
       " Label (D-27-505 = -1),\n",
       " Label (D-27-505 = -1),\n",
       " Label (D-27-505 = -1),\n",
       " Label (D-27-505 = -1),\n",
       " Label (D-27-505 = -1),\n",
       " Label (D-27-505 = -1),\n",
       " Label (D-27-505 = -1),\n",
       " Label (D-27-505 = -1),\n",
       " Label (D-27-505 = -1),\n",
       " Label (D-27-505 = -1),\n",
       " Label (D-27-505 = -1),\n",
       " Label (D-27-505 = -1),\n",
       " Label (D-27-505 = -1),\n",
       " Label (D-27-505 = -1),\n",
       " Label (D-27-505 = -1),\n",
       " Label (D-27-505 = -1),\n",
       " Label (D-27-505 = -1),\n",
       " Label (D-27-505 = -1),\n",
       " Label (D-27-505 = -1),\n",
       " Label (D-27-505 = -1),\n",
       " Label (D-27-505 = -1),\n",
       " Label (D-27-505 = -1),\n",
       " Label (D-27-505 = -1),\n",
       " Label (D-27-505 = -1),\n",
       " Label (D-27-505 = -1),\n",
       " Label (D-27-505 = -1),\n",
       " Label (D-27-505 = -1),\n",
       " Label (D-27-505 = -1),\n",
       " Label (D-27-505 = -1),\n",
       " Label (D-27-505 = -1),\n",
       " Label (D-27-505 = -1),\n",
       " Label (D-27-505 = -1),\n",
       " Label (D-27-505 = -1),\n",
       " Label (D-27-505 = -1),\n",
       " Label (D-27-505 = -1),\n",
       " Label (D-27-505 = -1),\n",
       " Label (D-27-505 = -1),\n",
       " Label (D-27-505 = -1),\n",
       " Label (D-27-505 = -1),\n",
       " Label (D-27-505 = -1),\n",
       " Label (D-27-505 = -1),\n",
       " Label (D-27-505 = -1),\n",
       " Label (D-27-505 = -1),\n",
       " Label (D-27-505 = -1),\n",
       " Label (D-27-505 = -1),\n",
       " Label (D-27-505 = -1),\n",
       " Label (D-27-505 = -1),\n",
       " Label (D-27-505 = -1),\n",
       " Label (D-27-505 = -1),\n",
       " Label (D-27-505 = -1),\n",
       " Label (D-27-505 = -1),\n",
       " Label (D-27-505 = -1),\n",
       " Label (D-27-505 = -1),\n",
       " Label (D-27-505 = -1),\n",
       " Label (D-27-505 = -1),\n",
       " Label (D-27-505 = -1),\n",
       " Label (D-27-505 = -1),\n",
       " Label (D-27-505 = -1),\n",
       " Label (D-27-505 = -1),\n",
       " Label (D-27-505 = -1),\n",
       " Label (D-27-505 = -1),\n",
       " Label (D-27-505 = -1),\n",
       " Label (D-27-505 = -1),\n",
       " Label (D-27-505 = -1),\n",
       " Label (D-27-505 = -1),\n",
       " Label (D-27-505 = -1),\n",
       " Label (D-27-505 = -1),\n",
       " Label (D-27-505 = -1),\n",
       " Label (D-27-505 = -1),\n",
       " Label (D-27-505 = -1),\n",
       " Label (D-27-505 = -1),\n",
       " Label (D-27-505 = -1),\n",
       " Label (D-27-505 = -1),\n",
       " Label (D-27-505 = -1),\n",
       " Label (D-27-505 = -1),\n",
       " Label (D-27-505 = -1),\n",
       " Label (D-27-505 = -1),\n",
       " Label (D-27-505 = -1),\n",
       " Label (D-27-505 = -1),\n",
       " Label (D-27-505 = -1),\n",
       " Label (D-27-505 = -1),\n",
       " Label (D-27-505 = -1),\n",
       " Label (D-27-505 = -1),\n",
       " Label (D-27-505 = -1),\n",
       " Label (D-27-505 = -1),\n",
       " Label (D-27-505 = -1),\n",
       " Label (D-27-505 = -1),\n",
       " Label (D-27-505 = -1),\n",
       " Label (D-27-505 = -1),\n",
       " Label (D-27-505 = -1),\n",
       " Label (D-27-505 = -1),\n",
       " Label (D-27-505 = -1),\n",
       " Label (D-27-505 = -1),\n",
       " Label (D-27-505 = -1),\n",
       " Label (D-27-505 = -1),\n",
       " Label (D-27-505 = -1),\n",
       " Label (D-27-505 = -1)]"
      ]
     },
     "execution_count": 30,
     "metadata": {},
     "output_type": "execute_result"
    }
   ],
   "source": [
    "lks.keys[0].labels"
   ]
  },
  {
   "cell_type": "code",
   "execution_count": 26,
   "metadata": {
    "collapsed": false
   },
   "outputs": [],
   "source": [
    "def delete_LF_set(name):\n",
    "    lks = session.query(AnnotationKeySet).filter(AnnotationKeySet.name == name).one()\n",
    "    for key in lks.keys:\n",
    "        for label in key.labels:\n",
    "            session.delete(label)\n",
    "        session.delete(key)\n",
    "    session.delete(lks)\n",
    "    session.commit()"
   ]
  },
  {
   "cell_type": "code",
   "execution_count": 27,
   "metadata": {
    "collapsed": false
   },
   "outputs": [
    {
     "name": "stderr",
     "output_type": "stream",
     "text": [
      "/usr/local/lib/python2.7/dist-packages/sqlalchemy/orm/persistence.py:925: SAWarning: DELETE statement on table 'label' expected to delete 673 row(s); 476 were matched.  Please set confirm_deleted_rows=False within the mapper configuration to prevent this warning.\n",
      "  (table.description, expected, rows_matched)\n",
      "/usr/local/lib/python2.7/dist-packages/sqlalchemy/orm/persistence.py:925: SAWarning: DELETE statement on table 'label' expected to delete 594 row(s); 118 were matched.  Please set confirm_deleted_rows=False within the mapper configuration to prevent this warning.\n",
      "  (table.description, expected, rows_matched)\n",
      "/usr/local/lib/python2.7/dist-packages/sqlalchemy/orm/persistence.py:925: SAWarning: DELETE statement on table 'label' expected to delete 128 row(s); 10 were matched.  Please set confirm_deleted_rows=False within the mapper configuration to prevent this warning.\n",
      "  (table.description, expected, rows_matched)\n",
      "/usr/local/lib/python2.7/dist-packages/sqlalchemy/orm/persistence.py:925: SAWarning: DELETE statement on table 'label' expected to delete 196 row(s); 186 were matched.  Please set confirm_deleted_rows=False within the mapper configuration to prevent this warning.\n",
      "  (table.description, expected, rows_matched)\n",
      "/usr/local/lib/python2.7/dist-packages/sqlalchemy/orm/persistence.py:925: SAWarning: DELETE statement on table 'label' expected to delete 232 row(s); 46 were matched.  Please set confirm_deleted_rows=False within the mapper configuration to prevent this warning.\n",
      "  (table.description, expected, rows_matched)\n",
      "/usr/local/lib/python2.7/dist-packages/sqlalchemy/orm/persistence.py:925: SAWarning: DELETE statement on table 'label' expected to delete 281 row(s); 235 were matched.  Please set confirm_deleted_rows=False within the mapper configuration to prevent this warning.\n",
      "  (table.description, expected, rows_matched)\n",
      "/usr/local/lib/python2.7/dist-packages/sqlalchemy/orm/persistence.py:925: SAWarning: DELETE statement on table 'label' expected to delete 1742 row(s); 1507 were matched.  Please set confirm_deleted_rows=False within the mapper configuration to prevent this warning.\n",
      "  (table.description, expected, rows_matched)\n",
      "/usr/local/lib/python2.7/dist-packages/sqlalchemy/orm/persistence.py:925: SAWarning: DELETE statement on table 'label' expected to delete 1646 row(s); 139 were matched.  Please set confirm_deleted_rows=False within the mapper configuration to prevent this warning.\n",
      "  (table.description, expected, rows_matched)\n",
      "/usr/local/lib/python2.7/dist-packages/sqlalchemy/orm/persistence.py:925: SAWarning: DELETE statement on table 'label' expected to delete 146 row(s); 7 were matched.  Please set confirm_deleted_rows=False within the mapper configuration to prevent this warning.\n",
      "  (table.description, expected, rows_matched)\n",
      "/usr/local/lib/python2.7/dist-packages/sqlalchemy/orm/persistence.py:925: SAWarning: DELETE statement on table 'label' expected to delete 426 row(s); 419 were matched.  Please set confirm_deleted_rows=False within the mapper configuration to prevent this warning.\n",
      "  (table.description, expected, rows_matched)\n",
      "/usr/local/lib/python2.7/dist-packages/sqlalchemy/orm/persistence.py:925: SAWarning: DELETE statement on table 'label' expected to delete 430 row(s); 11 were matched.  Please set confirm_deleted_rows=False within the mapper configuration to prevent this warning.\n",
      "  (table.description, expected, rows_matched)\n",
      "/usr/local/lib/python2.7/dist-packages/sqlalchemy/orm/persistence.py:925: SAWarning: DELETE statement on table 'label' expected to delete 300 row(s); 289 were matched.  Please set confirm_deleted_rows=False within the mapper configuration to prevent this warning.\n",
      "  (table.description, expected, rows_matched)\n",
      "/usr/local/lib/python2.7/dist-packages/sqlalchemy/orm/persistence.py:925: SAWarning: DELETE statement on table 'label' expected to delete 668 row(s); 379 were matched.  Please set confirm_deleted_rows=False within the mapper configuration to prevent this warning.\n",
      "  (table.description, expected, rows_matched)\n",
      "/usr/local/lib/python2.7/dist-packages/sqlalchemy/orm/persistence.py:925: SAWarning: DELETE statement on table 'label' expected to delete 627 row(s); 248 were matched.  Please set confirm_deleted_rows=False within the mapper configuration to prevent this warning.\n",
      "  (table.description, expected, rows_matched)\n",
      "/usr/local/lib/python2.7/dist-packages/sqlalchemy/orm/persistence.py:925: SAWarning: DELETE statement on table 'label' expected to delete 629 row(s); 381 were matched.  Please set confirm_deleted_rows=False within the mapper configuration to prevent this warning.\n",
      "  (table.description, expected, rows_matched)\n",
      "/usr/local/lib/python2.7/dist-packages/sqlalchemy/orm/persistence.py:925: SAWarning: DELETE statement on table 'label' expected to delete 1184 row(s); 803 were matched.  Please set confirm_deleted_rows=False within the mapper configuration to prevent this warning.\n",
      "  (table.description, expected, rows_matched)\n",
      "/usr/local/lib/python2.7/dist-packages/sqlalchemy/orm/persistence.py:925: SAWarning: DELETE statement on table 'label' expected to delete 844 row(s); 41 were matched.  Please set confirm_deleted_rows=False within the mapper configuration to prevent this warning.\n",
      "  (table.description, expected, rows_matched)\n",
      "/usr/local/lib/python2.7/dist-packages/sqlalchemy/orm/persistence.py:925: SAWarning: DELETE statement on table 'label' expected to delete 209 row(s); 168 were matched.  Please set confirm_deleted_rows=False within the mapper configuration to prevent this warning.\n",
      "  (table.description, expected, rows_matched)\n",
      "/usr/local/lib/python2.7/dist-packages/sqlalchemy/orm/persistence.py:925: SAWarning: DELETE statement on table 'label' expected to delete 185 row(s); 17 were matched.  Please set confirm_deleted_rows=False within the mapper configuration to prevent this warning.\n",
      "  (table.description, expected, rows_matched)\n",
      "/usr/local/lib/python2.7/dist-packages/sqlalchemy/orm/persistence.py:925: SAWarning: DELETE statement on table 'label' expected to delete 215 row(s); 198 were matched.  Please set confirm_deleted_rows=False within the mapper configuration to prevent this warning.\n",
      "  (table.description, expected, rows_matched)\n",
      "/usr/local/lib/python2.7/dist-packages/sqlalchemy/orm/persistence.py:925: SAWarning: DELETE statement on table 'label' expected to delete 435 row(s); 237 were matched.  Please set confirm_deleted_rows=False within the mapper configuration to prevent this warning.\n",
      "  (table.description, expected, rows_matched)\n",
      "/usr/local/lib/python2.7/dist-packages/sqlalchemy/orm/persistence.py:925: SAWarning: DELETE statement on table 'label' expected to delete 270 row(s); 33 were matched.  Please set confirm_deleted_rows=False within the mapper configuration to prevent this warning.\n",
      "  (table.description, expected, rows_matched)\n",
      "/usr/local/lib/python2.7/dist-packages/sqlalchemy/orm/persistence.py:925: SAWarning: DELETE statement on table 'label' expected to delete 164 row(s); 131 were matched.  Please set confirm_deleted_rows=False within the mapper configuration to prevent this warning.\n",
      "  (table.description, expected, rows_matched)\n",
      "/usr/local/lib/python2.7/dist-packages/sqlalchemy/orm/persistence.py:925: SAWarning: DELETE statement on table 'label' expected to delete 303 row(s); 172 were matched.  Please set confirm_deleted_rows=False within the mapper configuration to prevent this warning.\n",
      "  (table.description, expected, rows_matched)\n",
      "/usr/local/lib/python2.7/dist-packages/sqlalchemy/orm/persistence.py:925: SAWarning: DELETE statement on table 'label' expected to delete 274 row(s); 102 were matched.  Please set confirm_deleted_rows=False within the mapper configuration to prevent this warning.\n",
      "  (table.description, expected, rows_matched)\n",
      "/usr/local/lib/python2.7/dist-packages/sqlalchemy/orm/persistence.py:925: SAWarning: DELETE statement on table 'label' expected to delete 357 row(s); 255 were matched.  Please set confirm_deleted_rows=False within the mapper configuration to prevent this warning.\n",
      "  (table.description, expected, rows_matched)\n",
      "/usr/local/lib/python2.7/dist-packages/sqlalchemy/orm/persistence.py:925: SAWarning: DELETE statement on table 'label' expected to delete 742 row(s); 487 were matched.  Please set confirm_deleted_rows=False within the mapper configuration to prevent this warning.\n",
      "  (table.description, expected, rows_matched)\n",
      "/usr/local/lib/python2.7/dist-packages/sqlalchemy/orm/persistence.py:925: SAWarning: DELETE statement on table 'label' expected to delete 505 row(s); 18 were matched.  Please set confirm_deleted_rows=False within the mapper configuration to prevent this warning.\n",
      "  (table.description, expected, rows_matched)\n",
      "/usr/local/lib/python2.7/dist-packages/sqlalchemy/orm/persistence.py:925: SAWarning: DELETE statement on table 'label' expected to delete 166 row(s); 148 were matched.  Please set confirm_deleted_rows=False within the mapper configuration to prevent this warning.\n",
      "  (table.description, expected, rows_matched)\n",
      "/usr/local/lib/python2.7/dist-packages/sqlalchemy/orm/persistence.py:925: SAWarning: DELETE statement on table 'label' expected to delete 662 row(s); 514 were matched.  Please set confirm_deleted_rows=False within the mapper configuration to prevent this warning.\n",
      "  (table.description, expected, rows_matched)\n",
      "/usr/local/lib/python2.7/dist-packages/sqlalchemy/orm/persistence.py:925: SAWarning: DELETE statement on table 'label' expected to delete 617 row(s); 103 were matched.  Please set confirm_deleted_rows=False within the mapper configuration to prevent this warning.\n",
      "  (table.description, expected, rows_matched)\n",
      "/usr/local/lib/python2.7/dist-packages/sqlalchemy/orm/persistence.py:925: SAWarning: DELETE statement on table 'label' expected to delete 516 row(s); 413 were matched.  Please set confirm_deleted_rows=False within the mapper configuration to prevent this warning.\n",
      "  (table.description, expected, rows_matched)\n",
      "/usr/local/lib/python2.7/dist-packages/sqlalchemy/orm/persistence.py:925: SAWarning: DELETE statement on table 'label' expected to delete 547 row(s); 134 were matched.  Please set confirm_deleted_rows=False within the mapper configuration to prevent this warning.\n",
      "  (table.description, expected, rows_matched)\n",
      "/usr/local/lib/python2.7/dist-packages/sqlalchemy/orm/persistence.py:925: SAWarning: DELETE statement on table 'label' expected to delete 157 row(s); 23 were matched.  Please set confirm_deleted_rows=False within the mapper configuration to prevent this warning.\n",
      "  (table.description, expected, rows_matched)\n",
      "/usr/local/lib/python2.7/dist-packages/sqlalchemy/orm/persistence.py:925: SAWarning: DELETE statement on table 'label' expected to delete 113 row(s); 90 were matched.  Please set confirm_deleted_rows=False within the mapper configuration to prevent this warning.\n",
      "  (table.description, expected, rows_matched)\n",
      "/usr/local/lib/python2.7/dist-packages/sqlalchemy/orm/persistence.py:925: SAWarning: DELETE statement on table 'label' expected to delete 99 row(s); 9 were matched.  Please set confirm_deleted_rows=False within the mapper configuration to prevent this warning.\n",
      "  (table.description, expected, rows_matched)\n",
      "/usr/local/lib/python2.7/dist-packages/sqlalchemy/orm/persistence.py:925: SAWarning: DELETE statement on table 'label' expected to delete 87 row(s); 78 were matched.  Please set confirm_deleted_rows=False within the mapper configuration to prevent this warning.\n",
      "  (table.description, expected, rows_matched)\n",
      "/usr/local/lib/python2.7/dist-packages/sqlalchemy/orm/persistence.py:925: SAWarning: DELETE statement on table 'label' expected to delete 122 row(s); 44 were matched.  Please set confirm_deleted_rows=False within the mapper configuration to prevent this warning.\n",
      "  (table.description, expected, rows_matched)\n",
      "/usr/local/lib/python2.7/dist-packages/sqlalchemy/orm/persistence.py:925: SAWarning: DELETE statement on table 'label' expected to delete 85 row(s); 41 were matched.  Please set confirm_deleted_rows=False within the mapper configuration to prevent this warning.\n",
      "  (table.description, expected, rows_matched)\n",
      "/usr/local/lib/python2.7/dist-packages/sqlalchemy/orm/persistence.py:925: SAWarning: DELETE statement on table 'label' expected to delete 80 row(s); 39 were matched.  Please set confirm_deleted_rows=False within the mapper configuration to prevent this warning.\n",
      "  (table.description, expected, rows_matched)\n",
      "/usr/local/lib/python2.7/dist-packages/sqlalchemy/orm/persistence.py:925: SAWarning: DELETE statement on table 'label' expected to delete 241 row(s); 202 were matched.  Please set confirm_deleted_rows=False within the mapper configuration to prevent this warning.\n",
      "  (table.description, expected, rows_matched)\n",
      "/usr/local/lib/python2.7/dist-packages/sqlalchemy/orm/persistence.py:925: SAWarning: DELETE statement on table 'label' expected to delete 327 row(s); 125 were matched.  Please set confirm_deleted_rows=False within the mapper configuration to prevent this warning.\n",
      "  (table.description, expected, rows_matched)\n",
      "/usr/local/lib/python2.7/dist-packages/sqlalchemy/orm/persistence.py:925: SAWarning: DELETE statement on table 'label' expected to delete 129 row(s); 4 were matched.  Please set confirm_deleted_rows=False within the mapper configuration to prevent this warning.\n",
      "  (table.description, expected, rows_matched)\n",
      "/usr/local/lib/python2.7/dist-packages/sqlalchemy/orm/persistence.py:925: SAWarning: DELETE statement on table 'label' expected to delete 60 row(s); 56 were matched.  Please set confirm_deleted_rows=False within the mapper configuration to prevent this warning.\n",
      "  (table.description, expected, rows_matched)\n",
      "/usr/local/lib/python2.7/dist-packages/sqlalchemy/orm/persistence.py:925: SAWarning: DELETE statement on table 'label' expected to delete 169 row(s); 113 were matched.  Please set confirm_deleted_rows=False within the mapper configuration to prevent this warning.\n",
      "  (table.description, expected, rows_matched)\n",
      "/usr/local/lib/python2.7/dist-packages/sqlalchemy/orm/persistence.py:925: SAWarning: DELETE statement on table 'label' expected to delete 116 row(s); 3 were matched.  Please set confirm_deleted_rows=False within the mapper configuration to prevent this warning.\n",
      "  (table.description, expected, rows_matched)\n",
      "/usr/local/lib/python2.7/dist-packages/sqlalchemy/orm/persistence.py:925: SAWarning: DELETE statement on table 'label' expected to delete 78 row(s); 75 were matched.  Please set confirm_deleted_rows=False within the mapper configuration to prevent this warning.\n",
      "  (table.description, expected, rows_matched)\n",
      "/usr/local/lib/python2.7/dist-packages/sqlalchemy/orm/persistence.py:925: SAWarning: DELETE statement on table 'label' expected to delete 197 row(s); 122 were matched.  Please set confirm_deleted_rows=False within the mapper configuration to prevent this warning.\n",
      "  (table.description, expected, rows_matched)\n",
      "/usr/local/lib/python2.7/dist-packages/sqlalchemy/orm/persistence.py:925: SAWarning: DELETE statement on table 'label' expected to delete 157 row(s); 35 were matched.  Please set confirm_deleted_rows=False within the mapper configuration to prevent this warning.\n",
      "  (table.description, expected, rows_matched)\n",
      "/usr/local/lib/python2.7/dist-packages/sqlalchemy/orm/persistence.py:925: SAWarning: DELETE statement on table 'label' expected to delete 111 row(s); 76 were matched.  Please set confirm_deleted_rows=False within the mapper configuration to prevent this warning.\n",
      "  (table.description, expected, rows_matched)\n",
      "/usr/local/lib/python2.7/dist-packages/sqlalchemy/orm/persistence.py:925: SAWarning: DELETE statement on table 'label' expected to delete 84 row(s); 8 were matched.  Please set confirm_deleted_rows=False within the mapper configuration to prevent this warning.\n",
      "  (table.description, expected, rows_matched)\n",
      "/usr/local/lib/python2.7/dist-packages/sqlalchemy/orm/persistence.py:925: SAWarning: DELETE statement on table 'label' expected to delete 28 row(s); 20 were matched.  Please set confirm_deleted_rows=False within the mapper configuration to prevent this warning.\n",
      "  (table.description, expected, rows_matched)\n",
      "/usr/local/lib/python2.7/dist-packages/sqlalchemy/orm/persistence.py:925: SAWarning: DELETE statement on table 'label' expected to delete 296 row(s); 276 were matched.  Please set confirm_deleted_rows=False within the mapper configuration to prevent this warning.\n",
      "  (table.description, expected, rows_matched)\n",
      "/usr/local/lib/python2.7/dist-packages/sqlalchemy/orm/persistence.py:925: SAWarning: DELETE statement on table 'label' expected to delete 287 row(s); 11 were matched.  Please set confirm_deleted_rows=False within the mapper configuration to prevent this warning.\n",
      "  (table.description, expected, rows_matched)\n",
      "/usr/local/lib/python2.7/dist-packages/sqlalchemy/orm/persistence.py:925: SAWarning: DELETE statement on table 'label' expected to delete 21 row(s); 10 were matched.  Please set confirm_deleted_rows=False within the mapper configuration to prevent this warning.\n",
      "  (table.description, expected, rows_matched)\n",
      "/usr/local/lib/python2.7/dist-packages/sqlalchemy/orm/persistence.py:925: SAWarning: DELETE statement on table 'label' expected to delete 30 row(s); 20 were matched.  Please set confirm_deleted_rows=False within the mapper configuration to prevent this warning.\n",
      "  (table.description, expected, rows_matched)\n",
      "/usr/local/lib/python2.7/dist-packages/sqlalchemy/orm/persistence.py:925: SAWarning: DELETE statement on table 'label' expected to delete 99 row(s); 79 were matched.  Please set confirm_deleted_rows=False within the mapper configuration to prevent this warning.\n",
      "  (table.description, expected, rows_matched)\n",
      "/usr/local/lib/python2.7/dist-packages/sqlalchemy/orm/persistence.py:925: SAWarning: DELETE statement on table 'label' expected to delete 87 row(s); 8 were matched.  Please set confirm_deleted_rows=False within the mapper configuration to prevent this warning.\n",
      "  (table.description, expected, rows_matched)\n",
      "/usr/local/lib/python2.7/dist-packages/sqlalchemy/orm/persistence.py:925: SAWarning: DELETE statement on table 'label' expected to delete 34 row(s); 26 were matched.  Please set confirm_deleted_rows=False within the mapper configuration to prevent this warning.\n",
      "  (table.description, expected, rows_matched)\n",
      "/usr/local/lib/python2.7/dist-packages/sqlalchemy/orm/persistence.py:925: SAWarning: DELETE statement on table 'label' expected to delete 310 row(s); 284 were matched.  Please set confirm_deleted_rows=False within the mapper configuration to prevent this warning.\n",
      "  (table.description, expected, rows_matched)\n",
      "/usr/local/lib/python2.7/dist-packages/sqlalchemy/orm/persistence.py:925: SAWarning: DELETE statement on table 'label' expected to delete 295 row(s); 11 were matched.  Please set confirm_deleted_rows=False within the mapper configuration to prevent this warning.\n",
      "  (table.description, expected, rows_matched)\n",
      "/usr/local/lib/python2.7/dist-packages/sqlalchemy/orm/persistence.py:925: SAWarning: DELETE statement on table 'label' expected to delete 39 row(s); 28 were matched.  Please set confirm_deleted_rows=False within the mapper configuration to prevent this warning.\n",
      "  (table.description, expected, rows_matched)\n",
      "/usr/local/lib/python2.7/dist-packages/sqlalchemy/orm/persistence.py:925: SAWarning: DELETE statement on table 'label' expected to delete 89 row(s); 61 were matched.  Please set confirm_deleted_rows=False within the mapper configuration to prevent this warning.\n",
      "  (table.description, expected, rows_matched)\n",
      "/usr/local/lib/python2.7/dist-packages/sqlalchemy/orm/persistence.py:925: SAWarning: DELETE statement on table 'label' expected to delete 397 row(s); 336 were matched.  Please set confirm_deleted_rows=False within the mapper configuration to prevent this warning.\n",
      "  (table.description, expected, rows_matched)\n",
      "/usr/local/lib/python2.7/dist-packages/sqlalchemy/orm/persistence.py:925: SAWarning: DELETE statement on table 'label' expected to delete 380 row(s); 44 were matched.  Please set confirm_deleted_rows=False within the mapper configuration to prevent this warning.\n",
      "  (table.description, expected, rows_matched)\n",
      "/usr/local/lib/python2.7/dist-packages/sqlalchemy/orm/persistence.py:925: SAWarning: DELETE statement on table 'label' expected to delete 60 row(s); 16 were matched.  Please set confirm_deleted_rows=False within the mapper configuration to prevent this warning.\n",
      "  (table.description, expected, rows_matched)\n",
      "/usr/local/lib/python2.7/dist-packages/sqlalchemy/orm/persistence.py:925: SAWarning: DELETE statement on table 'label' expected to delete 55 row(s); 39 were matched.  Please set confirm_deleted_rows=False within the mapper configuration to prevent this warning.\n",
      "  (table.description, expected, rows_matched)\n",
      "/usr/local/lib/python2.7/dist-packages/sqlalchemy/orm/persistence.py:925: SAWarning: DELETE statement on table 'label' expected to delete 147 row(s); 108 were matched.  Please set confirm_deleted_rows=False within the mapper configuration to prevent this warning.\n",
      "  (table.description, expected, rows_matched)\n",
      "/usr/local/lib/python2.7/dist-packages/sqlalchemy/orm/persistence.py:925: SAWarning: DELETE statement on table 'label' expected to delete 237 row(s); 129 were matched.  Please set confirm_deleted_rows=False within the mapper configuration to prevent this warning.\n",
      "  (table.description, expected, rows_matched)\n",
      "/usr/local/lib/python2.7/dist-packages/sqlalchemy/orm/persistence.py:925: SAWarning: DELETE statement on table 'label' expected to delete 141 row(s); 12 were matched.  Please set confirm_deleted_rows=False within the mapper configuration to prevent this warning.\n",
      "  (table.description, expected, rows_matched)\n",
      "/usr/local/lib/python2.7/dist-packages/sqlalchemy/orm/persistence.py:925: SAWarning: DELETE statement on table 'label' expected to delete 188 row(s); 176 were matched.  Please set confirm_deleted_rows=False within the mapper configuration to prevent this warning.\n",
      "  (table.description, expected, rows_matched)\n",
      "/usr/local/lib/python2.7/dist-packages/sqlalchemy/orm/persistence.py:925: SAWarning: DELETE statement on table 'label' expected to delete 237 row(s); 61 were matched.  Please set confirm_deleted_rows=False within the mapper configuration to prevent this warning.\n",
      "  (table.description, expected, rows_matched)\n",
      "/usr/local/lib/python2.7/dist-packages/sqlalchemy/orm/persistence.py:925: SAWarning: DELETE statement on table 'label' expected to delete 77 row(s); 16 were matched.  Please set confirm_deleted_rows=False within the mapper configuration to prevent this warning.\n",
      "  (table.description, expected, rows_matched)\n",
      "/usr/local/lib/python2.7/dist-packages/sqlalchemy/orm/persistence.py:925: SAWarning: DELETE statement on table 'label' expected to delete 71 row(s); 55 were matched.  Please set confirm_deleted_rows=False within the mapper configuration to prevent this warning.\n",
      "  (table.description, expected, rows_matched)\n",
      "/usr/local/lib/python2.7/dist-packages/sqlalchemy/orm/persistence.py:925: SAWarning: DELETE statement on table 'label' expected to delete 129 row(s); 74 were matched.  Please set confirm_deleted_rows=False within the mapper configuration to prevent this warning.\n",
      "  (table.description, expected, rows_matched)\n",
      "/usr/local/lib/python2.7/dist-packages/sqlalchemy/orm/persistence.py:925: SAWarning: DELETE statement on table 'label' expected to delete 113 row(s); 39 were matched.  Please set confirm_deleted_rows=False within the mapper configuration to prevent this warning.\n",
      "  (table.description, expected, rows_matched)\n",
      "/usr/local/lib/python2.7/dist-packages/sqlalchemy/orm/persistence.py:925: SAWarning: DELETE statement on table 'label' expected to delete 74 row(s); 35 were matched.  Please set confirm_deleted_rows=False within the mapper configuration to prevent this warning.\n",
      "  (table.description, expected, rows_matched)\n",
      "/usr/local/lib/python2.7/dist-packages/sqlalchemy/orm/persistence.py:925: SAWarning: DELETE statement on table 'label' expected to delete 68 row(s); 33 were matched.  Please set confirm_deleted_rows=False within the mapper configuration to prevent this warning.\n",
      "  (table.description, expected, rows_matched)\n",
      "/usr/local/lib/python2.7/dist-packages/sqlalchemy/orm/persistence.py:925: SAWarning: DELETE statement on table 'label' expected to delete 36 row(s); 3 were matched.  Please set confirm_deleted_rows=False within the mapper configuration to prevent this warning.\n",
      "  (table.description, expected, rows_matched)\n",
      "/usr/local/lib/python2.7/dist-packages/sqlalchemy/orm/persistence.py:925: SAWarning: DELETE statement on table 'label' expected to delete 12 row(s); 9 were matched.  Please set confirm_deleted_rows=False within the mapper configuration to prevent this warning.\n",
      "  (table.description, expected, rows_matched)\n",
      "/usr/local/lib/python2.7/dist-packages/sqlalchemy/orm/persistence.py:925: SAWarning: DELETE statement on table 'label' expected to delete 34 row(s); 25 were matched.  Please set confirm_deleted_rows=False within the mapper configuration to prevent this warning.\n",
      "  (table.description, expected, rows_matched)\n",
      "/usr/local/lib/python2.7/dist-packages/sqlalchemy/orm/persistence.py:925: SAWarning: DELETE statement on table 'label' expected to delete 34 row(s); 9 were matched.  Please set confirm_deleted_rows=False within the mapper configuration to prevent this warning.\n",
      "  (table.description, expected, rows_matched)\n",
      "/usr/local/lib/python2.7/dist-packages/sqlalchemy/orm/persistence.py:925: SAWarning: DELETE statement on table 'label' expected to delete 17 row(s); 8 were matched.  Please set confirm_deleted_rows=False within the mapper configuration to prevent this warning.\n",
      "  (table.description, expected, rows_matched)\n",
      "/usr/local/lib/python2.7/dist-packages/sqlalchemy/orm/persistence.py:925: SAWarning: DELETE statement on table 'label' expected to delete 73 row(s); 65 were matched.  Please set confirm_deleted_rows=False within the mapper configuration to prevent this warning.\n",
      "  (table.description, expected, rows_matched)\n",
      "/usr/local/lib/python2.7/dist-packages/sqlalchemy/orm/persistence.py:925: SAWarning: DELETE statement on table 'label' expected to delete 132 row(s); 67 were matched.  Please set confirm_deleted_rows=False within the mapper configuration to prevent this warning.\n",
      "  (table.description, expected, rows_matched)\n",
      "/usr/local/lib/python2.7/dist-packages/sqlalchemy/orm/persistence.py:925: SAWarning: DELETE statement on table 'label' expected to delete 126 row(s); 59 were matched.  Please set confirm_deleted_rows=False within the mapper configuration to prevent this warning.\n",
      "  (table.description, expected, rows_matched)\n",
      "/usr/local/lib/python2.7/dist-packages/sqlalchemy/orm/persistence.py:925: SAWarning: DELETE statement on table 'label' expected to delete 64 row(s); 5 were matched.  Please set confirm_deleted_rows=False within the mapper configuration to prevent this warning.\n",
      "  (table.description, expected, rows_matched)\n",
      "/usr/local/lib/python2.7/dist-packages/sqlalchemy/orm/persistence.py:925: SAWarning: DELETE statement on table 'label' expected to delete 10 row(s); 5 were matched.  Please set confirm_deleted_rows=False within the mapper configuration to prevent this warning.\n",
      "  (table.description, expected, rows_matched)\n",
      "/usr/local/lib/python2.7/dist-packages/sqlalchemy/orm/persistence.py:925: SAWarning: DELETE statement on table 'label' expected to delete 23 row(s); 18 were matched.  Please set confirm_deleted_rows=False within the mapper configuration to prevent this warning.\n",
      "  (table.description, expected, rows_matched)\n",
      "/usr/local/lib/python2.7/dist-packages/sqlalchemy/orm/persistence.py:925: SAWarning: DELETE statement on table 'label' expected to delete 29 row(s); 11 were matched.  Please set confirm_deleted_rows=False within the mapper configuration to prevent this warning.\n",
      "  (table.description, expected, rows_matched)\n",
      "/usr/local/lib/python2.7/dist-packages/sqlalchemy/orm/persistence.py:925: SAWarning: DELETE statement on table 'label' expected to delete 136 row(s); 125 were matched.  Please set confirm_deleted_rows=False within the mapper configuration to prevent this warning.\n",
      "  (table.description, expected, rows_matched)\n",
      "/usr/local/lib/python2.7/dist-packages/sqlalchemy/orm/persistence.py:925: SAWarning: DELETE statement on table 'label' expected to delete 148 row(s); 23 were matched.  Please set confirm_deleted_rows=False within the mapper configuration to prevent this warning.\n",
      "  (table.description, expected, rows_matched)\n",
      "/usr/local/lib/python2.7/dist-packages/sqlalchemy/orm/persistence.py:925: SAWarning: DELETE statement on table 'label' expected to delete 139 row(s); 116 were matched.  Please set confirm_deleted_rows=False within the mapper configuration to prevent this warning.\n",
      "  (table.description, expected, rows_matched)\n",
      "/usr/local/lib/python2.7/dist-packages/sqlalchemy/orm/persistence.py:925: SAWarning: DELETE statement on table 'label' expected to delete 154 row(s); 38 were matched.  Please set confirm_deleted_rows=False within the mapper configuration to prevent this warning.\n",
      "  (table.description, expected, rows_matched)\n",
      "/usr/local/lib/python2.7/dist-packages/sqlalchemy/orm/persistence.py:925: SAWarning: DELETE statement on table 'label' expected to delete 53 row(s); 15 were matched.  Please set confirm_deleted_rows=False within the mapper configuration to prevent this warning.\n",
      "  (table.description, expected, rows_matched)\n",
      "/usr/local/lib/python2.7/dist-packages/sqlalchemy/orm/persistence.py:925: SAWarning: DELETE statement on table 'label' expected to delete 17 row(s); 2 were matched.  Please set confirm_deleted_rows=False within the mapper configuration to prevent this warning.\n",
      "  (table.description, expected, rows_matched)\n",
      "/usr/local/lib/python2.7/dist-packages/sqlalchemy/orm/persistence.py:925: SAWarning: DELETE statement on table 'label' expected to delete 82 row(s); 80 were matched.  Please set confirm_deleted_rows=False within the mapper configuration to prevent this warning.\n",
      "  (table.description, expected, rows_matched)\n",
      "/usr/local/lib/python2.7/dist-packages/sqlalchemy/orm/persistence.py:925: SAWarning: DELETE statement on table 'label' expected to delete 83 row(s); 3 were matched.  Please set confirm_deleted_rows=False within the mapper configuration to prevent this warning.\n",
      "  (table.description, expected, rows_matched)\n",
      "/usr/local/lib/python2.7/dist-packages/sqlalchemy/orm/persistence.py:925: SAWarning: DELETE statement on table 'label' expected to delete 25 row(s); 22 were matched.  Please set confirm_deleted_rows=False within the mapper configuration to prevent this warning.\n",
      "  (table.description, expected, rows_matched)\n",
      "/usr/local/lib/python2.7/dist-packages/sqlalchemy/orm/persistence.py:925: SAWarning: DELETE statement on table 'label' expected to delete 31 row(s); 9 were matched.  Please set confirm_deleted_rows=False within the mapper configuration to prevent this warning.\n",
      "  (table.description, expected, rows_matched)\n",
      "/usr/local/lib/python2.7/dist-packages/sqlalchemy/orm/persistence.py:925: SAWarning: DELETE statement on table 'label' expected to delete 28 row(s); 19 were matched.  Please set confirm_deleted_rows=False within the mapper configuration to prevent this warning.\n",
      "  (table.description, expected, rows_matched)\n",
      "/usr/local/lib/python2.7/dist-packages/sqlalchemy/orm/persistence.py:925: SAWarning: DELETE statement on table 'label' expected to delete 43 row(s); 24 were matched.  Please set confirm_deleted_rows=False within the mapper configuration to prevent this warning.\n",
      "  (table.description, expected, rows_matched)\n",
      "/usr/local/lib/python2.7/dist-packages/sqlalchemy/orm/persistence.py:925: SAWarning: DELETE statement on table 'label' expected to delete 58 row(s); 34 were matched.  Please set confirm_deleted_rows=False within the mapper configuration to prevent this warning.\n",
      "  (table.description, expected, rows_matched)\n",
      "/usr/local/lib/python2.7/dist-packages/sqlalchemy/orm/persistence.py:925: SAWarning: DELETE statement on table 'label' expected to delete 49 row(s); 15 were matched.  Please set confirm_deleted_rows=False within the mapper configuration to prevent this warning.\n",
      "  (table.description, expected, rows_matched)\n",
      "/usr/local/lib/python2.7/dist-packages/sqlalchemy/orm/persistence.py:925: SAWarning: DELETE statement on table 'label' expected to delete 39 row(s); 24 were matched.  Please set confirm_deleted_rows=False within the mapper configuration to prevent this warning.\n",
      "  (table.description, expected, rows_matched)\n",
      "/usr/local/lib/python2.7/dist-packages/sqlalchemy/orm/persistence.py:925: SAWarning: DELETE statement on table 'label' expected to delete 37 row(s); 13 were matched.  Please set confirm_deleted_rows=False within the mapper configuration to prevent this warning.\n",
      "  (table.description, expected, rows_matched)\n",
      "/usr/local/lib/python2.7/dist-packages/sqlalchemy/orm/persistence.py:925: SAWarning: DELETE statement on table 'label' expected to delete 45 row(s); 32 were matched.  Please set confirm_deleted_rows=False within the mapper configuration to prevent this warning.\n",
      "  (table.description, expected, rows_matched)\n",
      "/usr/local/lib/python2.7/dist-packages/sqlalchemy/orm/persistence.py:925: SAWarning: DELETE statement on table 'label' expected to delete 63 row(s); 31 were matched.  Please set confirm_deleted_rows=False within the mapper configuration to prevent this warning.\n",
      "  (table.description, expected, rows_matched)\n",
      "/usr/local/lib/python2.7/dist-packages/sqlalchemy/orm/persistence.py:925: SAWarning: DELETE statement on table 'label' expected to delete 69 row(s); 38 were matched.  Please set confirm_deleted_rows=False within the mapper configuration to prevent this warning.\n",
      "  (table.description, expected, rows_matched)\n",
      "/usr/local/lib/python2.7/dist-packages/sqlalchemy/orm/persistence.py:925: SAWarning: DELETE statement on table 'label' expected to delete 92 row(s); 54 were matched.  Please set confirm_deleted_rows=False within the mapper configuration to prevent this warning.\n",
      "  (table.description, expected, rows_matched)\n",
      "/usr/local/lib/python2.7/dist-packages/sqlalchemy/orm/persistence.py:925: SAWarning: DELETE statement on table 'label' expected to delete 61 row(s); 7 were matched.  Please set confirm_deleted_rows=False within the mapper configuration to prevent this warning.\n",
      "  (table.description, expected, rows_matched)\n",
      "/usr/local/lib/python2.7/dist-packages/sqlalchemy/orm/persistence.py:925: SAWarning: DELETE statement on table 'label' expected to delete 15 row(s); 8 were matched.  Please set confirm_deleted_rows=False within the mapper configuration to prevent this warning.\n",
      "  (table.description, expected, rows_matched)\n",
      "/usr/local/lib/python2.7/dist-packages/sqlalchemy/orm/persistence.py:925: SAWarning: DELETE statement on table 'label' expected to delete 35 row(s); 27 were matched.  Please set confirm_deleted_rows=False within the mapper configuration to prevent this warning.\n",
      "  (table.description, expected, rows_matched)\n",
      "/usr/local/lib/python2.7/dist-packages/sqlalchemy/orm/persistence.py:925: SAWarning: DELETE statement on table 'label' expected to delete 45 row(s); 18 were matched.  Please set confirm_deleted_rows=False within the mapper configuration to prevent this warning.\n",
      "  (table.description, expected, rows_matched)\n",
      "/usr/local/lib/python2.7/dist-packages/sqlalchemy/orm/persistence.py:925: SAWarning: DELETE statement on table 'label' expected to delete 40 row(s); 22 were matched.  Please set confirm_deleted_rows=False within the mapper configuration to prevent this warning.\n",
      "  (table.description, expected, rows_matched)\n",
      "/usr/local/lib/python2.7/dist-packages/sqlalchemy/orm/persistence.py:925: SAWarning: DELETE statement on table 'label' expected to delete 30 row(s); 8 were matched.  Please set confirm_deleted_rows=False within the mapper configuration to prevent this warning.\n",
      "  (table.description, expected, rows_matched)\n",
      "/usr/local/lib/python2.7/dist-packages/sqlalchemy/orm/persistence.py:925: SAWarning: DELETE statement on table 'label' expected to delete 12 row(s); 4 were matched.  Please set confirm_deleted_rows=False within the mapper configuration to prevent this warning.\n",
      "  (table.description, expected, rows_matched)\n",
      "/usr/local/lib/python2.7/dist-packages/sqlalchemy/orm/persistence.py:925: SAWarning: DELETE statement on table 'label' expected to delete 14 row(s); 10 were matched.  Please set confirm_deleted_rows=False within the mapper configuration to prevent this warning.\n",
      "  (table.description, expected, rows_matched)\n",
      "/usr/local/lib/python2.7/dist-packages/sqlalchemy/orm/persistence.py:925: SAWarning: DELETE statement on table 'label' expected to delete 42 row(s); 32 were matched.  Please set confirm_deleted_rows=False within the mapper configuration to prevent this warning.\n",
      "  (table.description, expected, rows_matched)\n",
      "/usr/local/lib/python2.7/dist-packages/sqlalchemy/orm/persistence.py:925: SAWarning: DELETE statement on table 'label' expected to delete 45 row(s); 13 were matched.  Please set confirm_deleted_rows=False within the mapper configuration to prevent this warning.\n",
      "  (table.description, expected, rows_matched)\n",
      "/usr/local/lib/python2.7/dist-packages/sqlalchemy/orm/persistence.py:925: SAWarning: DELETE statement on table 'label' expected to delete 21 row(s); 8 were matched.  Please set confirm_deleted_rows=False within the mapper configuration to prevent this warning.\n",
      "  (table.description, expected, rows_matched)\n",
      "/usr/local/lib/python2.7/dist-packages/sqlalchemy/orm/persistence.py:925: SAWarning: DELETE statement on table 'label' expected to delete 38 row(s); 30 were matched.  Please set confirm_deleted_rows=False within the mapper configuration to prevent this warning.\n",
      "  (table.description, expected, rows_matched)\n",
      "/usr/local/lib/python2.7/dist-packages/sqlalchemy/orm/persistence.py:925: SAWarning: DELETE statement on table 'label' expected to delete 40 row(s); 10 were matched.  Please set confirm_deleted_rows=False within the mapper configuration to prevent this warning.\n",
      "  (table.description, expected, rows_matched)\n",
      "/usr/local/lib/python2.7/dist-packages/sqlalchemy/orm/persistence.py:925: SAWarning: DELETE statement on table 'label' expected to delete 14 row(s); 4 were matched.  Please set confirm_deleted_rows=False within the mapper configuration to prevent this warning.\n",
      "  (table.description, expected, rows_matched)\n",
      "/usr/local/lib/python2.7/dist-packages/sqlalchemy/orm/persistence.py:925: SAWarning: DELETE statement on table 'label' expected to delete 15 row(s); 11 were matched.  Please set confirm_deleted_rows=False within the mapper configuration to prevent this warning.\n",
      "  (table.description, expected, rows_matched)\n",
      "/usr/local/lib/python2.7/dist-packages/sqlalchemy/orm/persistence.py:925: SAWarning: DELETE statement on table 'label' expected to delete 38 row(s); 27 were matched.  Please set confirm_deleted_rows=False within the mapper configuration to prevent this warning.\n",
      "  (table.description, expected, rows_matched)\n",
      "/usr/local/lib/python2.7/dist-packages/sqlalchemy/orm/persistence.py:925: SAWarning: DELETE statement on table 'label' expected to delete 34 row(s); 7 were matched.  Please set confirm_deleted_rows=False within the mapper configuration to prevent this warning.\n",
      "  (table.description, expected, rows_matched)\n",
      "/usr/local/lib/python2.7/dist-packages/sqlalchemy/orm/persistence.py:925: SAWarning: DELETE statement on table 'label' expected to delete 28 row(s); 21 were matched.  Please set confirm_deleted_rows=False within the mapper configuration to prevent this warning.\n",
      "  (table.description, expected, rows_matched)\n",
      "/usr/local/lib/python2.7/dist-packages/sqlalchemy/orm/persistence.py:925: SAWarning: DELETE statement on table 'label' expected to delete 31 row(s); 10 were matched.  Please set confirm_deleted_rows=False within the mapper configuration to prevent this warning.\n",
      "  (table.description, expected, rows_matched)\n",
      "/usr/local/lib/python2.7/dist-packages/sqlalchemy/orm/persistence.py:925: SAWarning: DELETE statement on table 'label' expected to delete 25 row(s); 15 were matched.  Please set confirm_deleted_rows=False within the mapper configuration to prevent this warning.\n",
      "  (table.description, expected, rows_matched)\n",
      "/usr/local/lib/python2.7/dist-packages/sqlalchemy/orm/persistence.py:925: SAWarning: DELETE statement on table 'label' expected to delete 89 row(s); 65 were matched.  Please set confirm_deleted_rows=False within the mapper configuration to prevent this warning.\n",
      "  (table.description, expected, rows_matched)\n",
      "/usr/local/lib/python2.7/dist-packages/sqlalchemy/orm/persistence.py:925: SAWarning: DELETE statement on table 'label' expected to delete 71 row(s); 6 were matched.  Please set confirm_deleted_rows=False within the mapper configuration to prevent this warning.\n",
      "  (table.description, expected, rows_matched)\n",
      "/usr/local/lib/python2.7/dist-packages/sqlalchemy/orm/persistence.py:925: SAWarning: DELETE statement on table 'label' expected to delete 14 row(s); 8 were matched.  Please set confirm_deleted_rows=False within the mapper configuration to prevent this warning.\n",
      "  (table.description, expected, rows_matched)\n",
      "/usr/local/lib/python2.7/dist-packages/sqlalchemy/orm/persistence.py:925: SAWarning: DELETE statement on table 'label' expected to delete 19 row(s); 11 were matched.  Please set confirm_deleted_rows=False within the mapper configuration to prevent this warning.\n",
      "  (table.description, expected, rows_matched)\n",
      "/usr/local/lib/python2.7/dist-packages/sqlalchemy/orm/persistence.py:925: SAWarning: DELETE statement on table 'label' expected to delete 35 row(s); 24 were matched.  Please set confirm_deleted_rows=False within the mapper configuration to prevent this warning.\n",
      "  (table.description, expected, rows_matched)\n",
      "/usr/local/lib/python2.7/dist-packages/sqlalchemy/orm/persistence.py:925: SAWarning: DELETE statement on table 'label' expected to delete 34 row(s); 10 were matched.  Please set confirm_deleted_rows=False within the mapper configuration to prevent this warning.\n",
      "  (table.description, expected, rows_matched)\n",
      "/usr/local/lib/python2.7/dist-packages/sqlalchemy/orm/persistence.py:925: SAWarning: DELETE statement on table 'label' expected to delete 22 row(s); 12 were matched.  Please set confirm_deleted_rows=False within the mapper configuration to prevent this warning.\n",
      "  (table.description, expected, rows_matched)\n",
      "/usr/local/lib/python2.7/dist-packages/sqlalchemy/orm/persistence.py:925: SAWarning: DELETE statement on table 'label' expected to delete 20 row(s); 8 were matched.  Please set confirm_deleted_rows=False within the mapper configuration to prevent this warning.\n",
      "  (table.description, expected, rows_matched)\n",
      "/usr/local/lib/python2.7/dist-packages/sqlalchemy/orm/persistence.py:925: SAWarning: DELETE statement on table 'label' expected to delete 21 row(s); 13 were matched.  Please set confirm_deleted_rows=False within the mapper configuration to prevent this warning.\n",
      "  (table.description, expected, rows_matched)\n",
      "/usr/local/lib/python2.7/dist-packages/sqlalchemy/orm/persistence.py:925: SAWarning: DELETE statement on table 'label' expected to delete 88 row(s); 75 were matched.  Please set confirm_deleted_rows=False within the mapper configuration to prevent this warning.\n",
      "  (table.description, expected, rows_matched)\n",
      "/usr/local/lib/python2.7/dist-packages/sqlalchemy/orm/persistence.py:925: SAWarning: DELETE statement on table 'label' expected to delete 173 row(s); 98 were matched.  Please set confirm_deleted_rows=False within the mapper configuration to prevent this warning.\n",
      "  (table.description, expected, rows_matched)\n",
      "/usr/local/lib/python2.7/dist-packages/sqlalchemy/orm/persistence.py:925: SAWarning: DELETE statement on table 'label' expected to delete 117 row(s); 19 were matched.  Please set confirm_deleted_rows=False within the mapper configuration to prevent this warning.\n",
      "  (table.description, expected, rows_matched)\n",
      "/usr/local/lib/python2.7/dist-packages/sqlalchemy/orm/persistence.py:925: SAWarning: DELETE statement on table 'label' expected to delete 46 row(s); 27 were matched.  Please set confirm_deleted_rows=False within the mapper configuration to prevent this warning.\n",
      "  (table.description, expected, rows_matched)\n",
      "/usr/local/lib/python2.7/dist-packages/sqlalchemy/orm/persistence.py:925: SAWarning: DELETE statement on table 'label' expected to delete 44 row(s); 17 were matched.  Please set confirm_deleted_rows=False within the mapper configuration to prevent this warning.\n",
      "  (table.description, expected, rows_matched)\n",
      "/usr/local/lib/python2.7/dist-packages/sqlalchemy/orm/persistence.py:925: SAWarning: DELETE statement on table 'label' expected to delete 27 row(s); 10 were matched.  Please set confirm_deleted_rows=False within the mapper configuration to prevent this warning.\n",
      "  (table.description, expected, rows_matched)\n",
      "/usr/local/lib/python2.7/dist-packages/sqlalchemy/orm/persistence.py:925: SAWarning: DELETE statement on table 'label' expected to delete 19 row(s); 9 were matched.  Please set confirm_deleted_rows=False within the mapper configuration to prevent this warning.\n",
      "  (table.description, expected, rows_matched)\n",
      "/usr/local/lib/python2.7/dist-packages/sqlalchemy/orm/persistence.py:925: SAWarning: DELETE statement on table 'label' expected to delete 54 row(s); 45 were matched.  Please set confirm_deleted_rows=False within the mapper configuration to prevent this warning.\n",
      "  (table.description, expected, rows_matched)\n",
      "/usr/local/lib/python2.7/dist-packages/sqlalchemy/orm/persistence.py:925: SAWarning: DELETE statement on table 'label' expected to delete 122 row(s); 77 were matched.  Please set confirm_deleted_rows=False within the mapper configuration to prevent this warning.\n",
      "  (table.description, expected, rows_matched)\n",
      "/usr/local/lib/python2.7/dist-packages/sqlalchemy/orm/persistence.py:925: SAWarning: DELETE statement on table 'label' expected to delete 113 row(s); 36 were matched.  Please set confirm_deleted_rows=False within the mapper configuration to prevent this warning.\n",
      "  (table.description, expected, rows_matched)\n",
      "/usr/local/lib/python2.7/dist-packages/sqlalchemy/orm/persistence.py:925: SAWarning: DELETE statement on table 'label' expected to delete 47 row(s); 11 were matched.  Please set confirm_deleted_rows=False within the mapper configuration to prevent this warning.\n",
      "  (table.description, expected, rows_matched)\n",
      "/usr/local/lib/python2.7/dist-packages/sqlalchemy/orm/persistence.py:925: SAWarning: DELETE statement on table 'label' expected to delete 17 row(s); 6 were matched.  Please set confirm_deleted_rows=False within the mapper configuration to prevent this warning.\n",
      "  (table.description, expected, rows_matched)\n",
      "/usr/local/lib/python2.7/dist-packages/sqlalchemy/orm/persistence.py:925: SAWarning: DELETE statement on table 'label' expected to delete 40 row(s); 34 were matched.  Please set confirm_deleted_rows=False within the mapper configuration to prevent this warning.\n",
      "  (table.description, expected, rows_matched)\n",
      "/usr/local/lib/python2.7/dist-packages/sqlalchemy/orm/persistence.py:925: SAWarning: DELETE statement on table 'label' expected to delete 43 row(s); 9 were matched.  Please set confirm_deleted_rows=False within the mapper configuration to prevent this warning.\n",
      "  (table.description, expected, rows_matched)\n",
      "/usr/local/lib/python2.7/dist-packages/sqlalchemy/orm/persistence.py:925: SAWarning: DELETE statement on table 'label' expected to delete 13 row(s); 4 were matched.  Please set confirm_deleted_rows=False within the mapper configuration to prevent this warning.\n",
      "  (table.description, expected, rows_matched)\n",
      "/usr/local/lib/python2.7/dist-packages/sqlalchemy/orm/persistence.py:925: SAWarning: DELETE statement on table 'label' expected to delete 27 row(s); 23 were matched.  Please set confirm_deleted_rows=False within the mapper configuration to prevent this warning.\n",
      "  (table.description, expected, rows_matched)\n",
      "/usr/local/lib/python2.7/dist-packages/sqlalchemy/orm/persistence.py:925: SAWarning: DELETE statement on table 'label' expected to delete 25 row(s); 2 were matched.  Please set confirm_deleted_rows=False within the mapper configuration to prevent this warning.\n",
      "  (table.description, expected, rows_matched)\n",
      "/usr/local/lib/python2.7/dist-packages/sqlalchemy/orm/persistence.py:925: SAWarning: DELETE statement on table 'label' expected to delete 14 row(s); 12 were matched.  Please set confirm_deleted_rows=False within the mapper configuration to prevent this warning.\n",
      "  (table.description, expected, rows_matched)\n",
      "/usr/local/lib/python2.7/dist-packages/sqlalchemy/orm/persistence.py:925: SAWarning: DELETE statement on table 'label' expected to delete 15 row(s); 3 were matched.  Please set confirm_deleted_rows=False within the mapper configuration to prevent this warning.\n",
      "  (table.description, expected, rows_matched)\n",
      "/usr/local/lib/python2.7/dist-packages/sqlalchemy/orm/persistence.py:925: SAWarning: DELETE statement on table 'label' expected to delete 28 row(s); 25 were matched.  Please set confirm_deleted_rows=False within the mapper configuration to prevent this warning.\n",
      "  (table.description, expected, rows_matched)\n",
      "/usr/local/lib/python2.7/dist-packages/sqlalchemy/orm/persistence.py:925: SAWarning: DELETE statement on table 'label' expected to delete 58 row(s); 33 were matched.  Please set confirm_deleted_rows=False within the mapper configuration to prevent this warning.\n",
      "  (table.description, expected, rows_matched)\n",
      "/usr/local/lib/python2.7/dist-packages/sqlalchemy/orm/persistence.py:925: SAWarning: DELETE statement on table 'label' expected to delete 47 row(s); 14 were matched.  Please set confirm_deleted_rows=False within the mapper configuration to prevent this warning.\n",
      "  (table.description, expected, rows_matched)\n",
      "/usr/local/lib/python2.7/dist-packages/sqlalchemy/orm/persistence.py:925: SAWarning: DELETE statement on table 'label' expected to delete 25 row(s); 11 were matched.  Please set confirm_deleted_rows=False within the mapper configuration to prevent this warning.\n",
      "  (table.description, expected, rows_matched)\n",
      "/usr/local/lib/python2.7/dist-packages/sqlalchemy/orm/persistence.py:925: SAWarning: DELETE statement on table 'label' expected to delete 29 row(s); 18 were matched.  Please set confirm_deleted_rows=False within the mapper configuration to prevent this warning.\n",
      "  (table.description, expected, rows_matched)\n",
      "/usr/local/lib/python2.7/dist-packages/sqlalchemy/orm/persistence.py:925: SAWarning: DELETE statement on table 'label' expected to delete 26 row(s); 15 were matched.  Please set confirm_deleted_rows=False within the mapper configuration to prevent this warning.\n",
      "  (table.description, expected, rows_matched)\n",
      "/usr/local/lib/python2.7/dist-packages/sqlalchemy/orm/persistence.py:925: SAWarning: DELETE statement on table 'label' expected to delete 24 row(s); 9 were matched.  Please set confirm_deleted_rows=False within the mapper configuration to prevent this warning.\n",
      "  (table.description, expected, rows_matched)\n",
      "/usr/local/lib/python2.7/dist-packages/sqlalchemy/orm/persistence.py:925: SAWarning: DELETE statement on table 'label' expected to delete 16 row(s); 7 were matched.  Please set confirm_deleted_rows=False within the mapper configuration to prevent this warning.\n",
      "  (table.description, expected, rows_matched)\n",
      "/usr/local/lib/python2.7/dist-packages/sqlalchemy/orm/persistence.py:925: SAWarning: DELETE statement on table 'label' expected to delete 45 row(s); 38 were matched.  Please set confirm_deleted_rows=False within the mapper configuration to prevent this warning.\n",
      "  (table.description, expected, rows_matched)\n",
      "/usr/local/lib/python2.7/dist-packages/sqlalchemy/orm/persistence.py:925: SAWarning: DELETE statement on table 'label' expected to delete 93 row(s); 55 were matched.  Please set confirm_deleted_rows=False within the mapper configuration to prevent this warning.\n",
      "  (table.description, expected, rows_matched)\n",
      "/usr/local/lib/python2.7/dist-packages/sqlalchemy/orm/persistence.py:925: SAWarning: DELETE statement on table 'label' expected to delete 65 row(s); 10 were matched.  Please set confirm_deleted_rows=False within the mapper configuration to prevent this warning.\n",
      "  (table.description, expected, rows_matched)\n",
      "/usr/local/lib/python2.7/dist-packages/sqlalchemy/orm/persistence.py:925: SAWarning: DELETE statement on table 'label' expected to delete 32 row(s); 22 were matched.  Please set confirm_deleted_rows=False within the mapper configuration to prevent this warning.\n",
      "  (table.description, expected, rows_matched)\n",
      "/usr/local/lib/python2.7/dist-packages/sqlalchemy/orm/persistence.py:925: SAWarning: DELETE statement on table 'label' expected to delete 35 row(s); 13 were matched.  Please set confirm_deleted_rows=False within the mapper configuration to prevent this warning.\n",
      "  (table.description, expected, rows_matched)\n",
      "/usr/local/lib/python2.7/dist-packages/sqlalchemy/orm/persistence.py:925: SAWarning: DELETE statement on table 'label' expected to delete 40 row(s); 27 were matched.  Please set confirm_deleted_rows=False within the mapper configuration to prevent this warning.\n",
      "  (table.description, expected, rows_matched)\n",
      "/usr/local/lib/python2.7/dist-packages/sqlalchemy/orm/persistence.py:925: SAWarning: DELETE statement on table 'label' expected to delete 33 row(s); 6 were matched.  Please set confirm_deleted_rows=False within the mapper configuration to prevent this warning.\n",
      "  (table.description, expected, rows_matched)\n",
      "/usr/local/lib/python2.7/dist-packages/sqlalchemy/orm/persistence.py:925: SAWarning: DELETE statement on table 'label' expected to delete 10 row(s); 4 were matched.  Please set confirm_deleted_rows=False within the mapper configuration to prevent this warning.\n",
      "  (table.description, expected, rows_matched)\n",
      "/usr/local/lib/python2.7/dist-packages/sqlalchemy/orm/persistence.py:925: SAWarning: DELETE statement on table 'label' expected to delete 11 row(s); 7 were matched.  Please set confirm_deleted_rows=False within the mapper configuration to prevent this warning.\n",
      "  (table.description, expected, rows_matched)\n",
      "/usr/local/lib/python2.7/dist-packages/sqlalchemy/orm/persistence.py:925: SAWarning: DELETE statement on table 'label' expected to delete 95 row(s); 88 were matched.  Please set confirm_deleted_rows=False within the mapper configuration to prevent this warning.\n",
      "  (table.description, expected, rows_matched)\n",
      "/usr/local/lib/python2.7/dist-packages/sqlalchemy/orm/persistence.py:925: SAWarning: DELETE statement on table 'label' expected to delete 108 row(s); 20 were matched.  Please set confirm_deleted_rows=False within the mapper configuration to prevent this warning.\n",
      "  (table.description, expected, rows_matched)\n",
      "/usr/local/lib/python2.7/dist-packages/sqlalchemy/orm/persistence.py:925: SAWarning: DELETE statement on table 'label' expected to delete 65 row(s); 45 were matched.  Please set confirm_deleted_rows=False within the mapper configuration to prevent this warning.\n",
      "  (table.description, expected, rows_matched)\n",
      "/usr/local/lib/python2.7/dist-packages/sqlalchemy/orm/persistence.py:925: SAWarning: DELETE statement on table 'label' expected to delete 52 row(s); 7 were matched.  Please set confirm_deleted_rows=False within the mapper configuration to prevent this warning.\n",
      "  (table.description, expected, rows_matched)\n",
      "/usr/local/lib/python2.7/dist-packages/sqlalchemy/orm/persistence.py:925: SAWarning: DELETE statement on table 'label' expected to delete 13 row(s); 6 were matched.  Please set confirm_deleted_rows=False within the mapper configuration to prevent this warning.\n",
      "  (table.description, expected, rows_matched)\n",
      "/usr/local/lib/python2.7/dist-packages/sqlalchemy/orm/persistence.py:925: SAWarning: DELETE statement on table 'label' expected to delete 8 row(s); 2 were matched.  Please set confirm_deleted_rows=False within the mapper configuration to prevent this warning.\n",
      "  (table.description, expected, rows_matched)\n",
      "/usr/local/lib/python2.7/dist-packages/sqlalchemy/orm/persistence.py:925: SAWarning: DELETE statement on table 'label' expected to delete 15 row(s); 13 were matched.  Please set confirm_deleted_rows=False within the mapper configuration to prevent this warning.\n",
      "  (table.description, expected, rows_matched)\n",
      "/usr/local/lib/python2.7/dist-packages/sqlalchemy/orm/persistence.py:925: SAWarning: DELETE statement on table 'label' expected to delete 19 row(s); 6 were matched.  Please set confirm_deleted_rows=False within the mapper configuration to prevent this warning.\n",
      "  (table.description, expected, rows_matched)\n",
      "/usr/local/lib/python2.7/dist-packages/sqlalchemy/orm/persistence.py:925: SAWarning: DELETE statement on table 'label' expected to delete 18 row(s); 12 were matched.  Please set confirm_deleted_rows=False within the mapper configuration to prevent this warning.\n",
      "  (table.description, expected, rows_matched)\n",
      "/usr/local/lib/python2.7/dist-packages/sqlalchemy/orm/persistence.py:925: SAWarning: DELETE statement on table 'label' expected to delete 24 row(s); 21 were matched.  Please set confirm_deleted_rows=False within the mapper configuration to prevent this warning.\n",
      "  (table.description, expected, rows_matched)\n",
      "/usr/local/lib/python2.7/dist-packages/sqlalchemy/orm/persistence.py:925: SAWarning: DELETE statement on table 'label' expected to delete 28 row(s); 7 were matched.  Please set confirm_deleted_rows=False within the mapper configuration to prevent this warning.\n",
      "  (table.description, expected, rows_matched)\n",
      "/usr/local/lib/python2.7/dist-packages/sqlalchemy/orm/persistence.py:925: SAWarning: DELETE statement on table 'label' expected to delete 14 row(s); 7 were matched.  Please set confirm_deleted_rows=False within the mapper configuration to prevent this warning.\n",
      "  (table.description, expected, rows_matched)\n",
      "/usr/local/lib/python2.7/dist-packages/sqlalchemy/orm/persistence.py:925: SAWarning: DELETE statement on table 'label' expected to delete 20 row(s); 13 were matched.  Please set confirm_deleted_rows=False within the mapper configuration to prevent this warning.\n",
      "  (table.description, expected, rows_matched)\n",
      "/usr/local/lib/python2.7/dist-packages/sqlalchemy/orm/persistence.py:925: SAWarning: DELETE statement on table 'label' expected to delete 27 row(s); 14 were matched.  Please set confirm_deleted_rows=False within the mapper configuration to prevent this warning.\n",
      "  (table.description, expected, rows_matched)\n",
      "/usr/local/lib/python2.7/dist-packages/sqlalchemy/orm/persistence.py:925: SAWarning: DELETE statement on table 'label' expected to delete 16 row(s); 2 were matched.  Please set confirm_deleted_rows=False within the mapper configuration to prevent this warning.\n",
      "  (table.description, expected, rows_matched)\n",
      "/usr/local/lib/python2.7/dist-packages/sqlalchemy/orm/persistence.py:925: SAWarning: DELETE statement on table 'label' expected to delete 16 row(s); 14 were matched.  Please set confirm_deleted_rows=False within the mapper configuration to prevent this warning.\n",
      "  (table.description, expected, rows_matched)\n",
      "/usr/local/lib/python2.7/dist-packages/sqlalchemy/orm/persistence.py:925: SAWarning: DELETE statement on table 'label' expected to delete 18 row(s); 4 were matched.  Please set confirm_deleted_rows=False within the mapper configuration to prevent this warning.\n",
      "  (table.description, expected, rows_matched)\n",
      "/usr/local/lib/python2.7/dist-packages/sqlalchemy/orm/persistence.py:925: SAWarning: DELETE statement on table 'label' expected to delete 10 row(s); 6 were matched.  Please set confirm_deleted_rows=False within the mapper configuration to prevent this warning.\n",
      "  (table.description, expected, rows_matched)\n",
      "/usr/local/lib/python2.7/dist-packages/sqlalchemy/orm/persistence.py:925: SAWarning: DELETE statement on table 'label' expected to delete 39 row(s); 33 were matched.  Please set confirm_deleted_rows=False within the mapper configuration to prevent this warning.\n",
      "  (table.description, expected, rows_matched)\n",
      "/usr/local/lib/python2.7/dist-packages/sqlalchemy/orm/persistence.py:925: SAWarning: DELETE statement on table 'label' expected to delete 38 row(s); 5 were matched.  Please set confirm_deleted_rows=False within the mapper configuration to prevent this warning.\n",
      "  (table.description, expected, rows_matched)\n",
      "/usr/local/lib/python2.7/dist-packages/sqlalchemy/orm/persistence.py:925: SAWarning: DELETE statement on table 'label' expected to delete 20 row(s); 15 were matched.  Please set confirm_deleted_rows=False within the mapper configuration to prevent this warning.\n",
      "  (table.description, expected, rows_matched)\n",
      "/usr/local/lib/python2.7/dist-packages/sqlalchemy/orm/persistence.py:925: SAWarning: DELETE statement on table 'label' expected to delete 54 row(s); 39 were matched.  Please set confirm_deleted_rows=False within the mapper configuration to prevent this warning.\n",
      "  (table.description, expected, rows_matched)\n",
      "/usr/local/lib/python2.7/dist-packages/sqlalchemy/orm/persistence.py:925: SAWarning: DELETE statement on table 'label' expected to delete 51 row(s); 12 were matched.  Please set confirm_deleted_rows=False within the mapper configuration to prevent this warning.\n",
      "  (table.description, expected, rows_matched)\n",
      "/usr/local/lib/python2.7/dist-packages/sqlalchemy/orm/persistence.py:925: SAWarning: DELETE statement on table 'label' expected to delete 11 row(s); 2 were matched.  Please set confirm_deleted_rows=False within the mapper configuration to prevent this warning.\n",
      "  (table.description, expected, rows_matched)\n",
      "/usr/local/lib/python2.7/dist-packages/sqlalchemy/orm/persistence.py:925: SAWarning: DELETE statement on table 'label' expected to delete 17 row(s); 15 were matched.  Please set confirm_deleted_rows=False within the mapper configuration to prevent this warning.\n",
      "  (table.description, expected, rows_matched)\n",
      "/usr/local/lib/python2.7/dist-packages/sqlalchemy/orm/persistence.py:925: SAWarning: DELETE statement on table 'label' expected to delete 19 row(s); 4 were matched.  Please set confirm_deleted_rows=False within the mapper configuration to prevent this warning.\n",
      "  (table.description, expected, rows_matched)\n",
      "/usr/local/lib/python2.7/dist-packages/sqlalchemy/orm/persistence.py:925: SAWarning: DELETE statement on table 'label' expected to delete 12 row(s); 8 were matched.  Please set confirm_deleted_rows=False within the mapper configuration to prevent this warning.\n",
      "  (table.description, expected, rows_matched)\n",
      "/usr/local/lib/python2.7/dist-packages/sqlalchemy/orm/persistence.py:925: SAWarning: DELETE statement on table 'label' expected to delete 10 row(s); 2 were matched.  Please set confirm_deleted_rows=False within the mapper configuration to prevent this warning.\n",
      "  (table.description, expected, rows_matched)\n",
      "/usr/local/lib/python2.7/dist-packages/sqlalchemy/orm/persistence.py:925: SAWarning: DELETE statement on table 'label' expected to delete 9 row(s); 7 were matched.  Please set confirm_deleted_rows=False within the mapper configuration to prevent this warning.\n",
      "  (table.description, expected, rows_matched)\n",
      "/usr/local/lib/python2.7/dist-packages/sqlalchemy/orm/persistence.py:925: SAWarning: DELETE statement on table 'label' expected to delete 16 row(s); 3 were matched.  Please set confirm_deleted_rows=False within the mapper configuration to prevent this warning.\n",
      "  (table.description, expected, rows_matched)\n",
      "/usr/local/lib/python2.7/dist-packages/sqlalchemy/orm/persistence.py:925: SAWarning: DELETE statement on table 'label' expected to delete 8 row(s); 5 were matched.  Please set confirm_deleted_rows=False within the mapper configuration to prevent this warning.\n",
      "  (table.description, expected, rows_matched)\n",
      "/usr/local/lib/python2.7/dist-packages/sqlalchemy/orm/persistence.py:925: SAWarning: DELETE statement on table 'label' expected to delete 8 row(s); 3 were matched.  Please set confirm_deleted_rows=False within the mapper configuration to prevent this warning.\n",
      "  (table.description, expected, rows_matched)\n",
      "/usr/local/lib/python2.7/dist-packages/sqlalchemy/orm/persistence.py:925: SAWarning: DELETE statement on table 'label' expected to delete 17 row(s); 14 were matched.  Please set confirm_deleted_rows=False within the mapper configuration to prevent this warning.\n",
      "  (table.description, expected, rows_matched)\n",
      "/usr/local/lib/python2.7/dist-packages/sqlalchemy/orm/persistence.py:925: SAWarning: DELETE statement on table 'label' expected to delete 17 row(s); 3 were matched.  Please set confirm_deleted_rows=False within the mapper configuration to prevent this warning.\n",
      "  (table.description, expected, rows_matched)\n",
      "/usr/local/lib/python2.7/dist-packages/sqlalchemy/orm/persistence.py:925: SAWarning: DELETE statement on table 'label' expected to delete 14 row(s); 5 were matched.  Please set confirm_deleted_rows=False within the mapper configuration to prevent this warning.\n",
      "  (table.description, expected, rows_matched)\n",
      "/usr/local/lib/python2.7/dist-packages/sqlalchemy/orm/persistence.py:925: SAWarning: DELETE statement on table 'label' expected to delete 11 row(s); 6 were matched.  Please set confirm_deleted_rows=False within the mapper configuration to prevent this warning.\n",
      "  (table.description, expected, rows_matched)\n",
      "/usr/local/lib/python2.7/dist-packages/sqlalchemy/orm/persistence.py:925: SAWarning: DELETE statement on table 'label' expected to delete 12 row(s); 6 were matched.  Please set confirm_deleted_rows=False within the mapper configuration to prevent this warning.\n",
      "  (table.description, expected, rows_matched)\n",
      "/usr/local/lib/python2.7/dist-packages/sqlalchemy/orm/persistence.py:925: SAWarning: DELETE statement on table 'label' expected to delete 27 row(s); 21 were matched.  Please set confirm_deleted_rows=False within the mapper configuration to prevent this warning.\n",
      "  (table.description, expected, rows_matched)\n",
      "/usr/local/lib/python2.7/dist-packages/sqlalchemy/orm/persistence.py:925: SAWarning: DELETE statement on table 'label' expected to delete 25 row(s); 4 were matched.  Please set confirm_deleted_rows=False within the mapper configuration to prevent this warning.\n",
      "  (table.description, expected, rows_matched)\n",
      "/usr/local/lib/python2.7/dist-packages/sqlalchemy/orm/persistence.py:925: SAWarning: DELETE statement on table 'label' expected to delete 8 row(s); 4 were matched.  Please set confirm_deleted_rows=False within the mapper configuration to prevent this warning.\n",
      "  (table.description, expected, rows_matched)\n",
      "/usr/local/lib/python2.7/dist-packages/sqlalchemy/orm/persistence.py:925: SAWarning: DELETE statement on table 'label' expected to delete 6 row(s); 2 were matched.  Please set confirm_deleted_rows=False within the mapper configuration to prevent this warning.\n",
      "  (table.description, expected, rows_matched)\n",
      "/usr/local/lib/python2.7/dist-packages/sqlalchemy/orm/persistence.py:925: SAWarning: DELETE statement on table 'label' expected to delete 22 row(s); 20 were matched.  Please set confirm_deleted_rows=False within the mapper configuration to prevent this warning.\n",
      "  (table.description, expected, rows_matched)\n",
      "/usr/local/lib/python2.7/dist-packages/sqlalchemy/orm/persistence.py:925: SAWarning: DELETE statement on table 'label' expected to delete 26 row(s); 6 were matched.  Please set confirm_deleted_rows=False within the mapper configuration to prevent this warning.\n",
      "  (table.description, expected, rows_matched)\n",
      "/usr/local/lib/python2.7/dist-packages/sqlalchemy/orm/persistence.py:925: SAWarning: DELETE statement on table 'label' expected to delete 11 row(s); 4 were matched.  Please set confirm_deleted_rows=False within the mapper configuration to prevent this warning.\n",
      "  (table.description, expected, rows_matched)\n",
      "/usr/local/lib/python2.7/dist-packages/sqlalchemy/orm/persistence.py:925: SAWarning: DELETE statement on table 'label' expected to delete 14 row(s); 3 were matched.  Please set confirm_deleted_rows=False within the mapper configuration to prevent this warning.\n",
      "  (table.description, expected, rows_matched)\n",
      "/usr/local/lib/python2.7/dist-packages/sqlalchemy/orm/persistence.py:925: SAWarning: DELETE statement on table 'label' expected to delete 20 row(s); 17 were matched.  Please set confirm_deleted_rows=False within the mapper configuration to prevent this warning.\n",
      "  (table.description, expected, rows_matched)\n",
      "/usr/local/lib/python2.7/dist-packages/sqlalchemy/orm/persistence.py:925: SAWarning: DELETE statement on table 'label' expected to delete 19 row(s); 2 were matched.  Please set confirm_deleted_rows=False within the mapper configuration to prevent this warning.\n",
      "  (table.description, expected, rows_matched)\n",
      "/usr/local/lib/python2.7/dist-packages/sqlalchemy/orm/persistence.py:925: SAWarning: DELETE statement on table 'label' expected to delete 11 row(s); 9 were matched.  Please set confirm_deleted_rows=False within the mapper configuration to prevent this warning.\n",
      "  (table.description, expected, rows_matched)\n",
      "/usr/local/lib/python2.7/dist-packages/sqlalchemy/orm/persistence.py:925: SAWarning: DELETE statement on table 'label' expected to delete 34 row(s); 27 were matched.  Please set confirm_deleted_rows=False within the mapper configuration to prevent this warning.\n",
      "  (table.description, expected, rows_matched)\n",
      "/usr/local/lib/python2.7/dist-packages/sqlalchemy/orm/persistence.py:925: SAWarning: DELETE statement on table 'label' expected to delete 29 row(s); 2 were matched.  Please set confirm_deleted_rows=False within the mapper configuration to prevent this warning.\n",
      "  (table.description, expected, rows_matched)\n",
      "/usr/local/lib/python2.7/dist-packages/sqlalchemy/orm/persistence.py:925: SAWarning: DELETE statement on table 'label' expected to delete 8 row(s); 6 were matched.  Please set confirm_deleted_rows=False within the mapper configuration to prevent this warning.\n",
      "  (table.description, expected, rows_matched)\n",
      "/usr/local/lib/python2.7/dist-packages/sqlalchemy/orm/persistence.py:925: SAWarning: DELETE statement on table 'label' expected to delete 9 row(s); 3 were matched.  Please set confirm_deleted_rows=False within the mapper configuration to prevent this warning.\n",
      "  (table.description, expected, rows_matched)\n",
      "/usr/local/lib/python2.7/dist-packages/sqlalchemy/orm/persistence.py:925: SAWarning: DELETE statement on table 'label' expected to delete 11 row(s); 8 were matched.  Please set confirm_deleted_rows=False within the mapper configuration to prevent this warning.\n",
      "  (table.description, expected, rows_matched)\n",
      "/usr/local/lib/python2.7/dist-packages/sqlalchemy/orm/persistence.py:925: SAWarning: DELETE statement on table 'label' expected to delete 14 row(s); 6 were matched.  Please set confirm_deleted_rows=False within the mapper configuration to prevent this warning.\n",
      "  (table.description, expected, rows_matched)\n",
      "/usr/local/lib/python2.7/dist-packages/sqlalchemy/orm/persistence.py:925: SAWarning: DELETE statement on table 'label' expected to delete 20 row(s); 12 were matched.  Please set confirm_deleted_rows=False within the mapper configuration to prevent this warning.\n",
      "  (table.description, expected, rows_matched)\n",
      "/usr/local/lib/python2.7/dist-packages/sqlalchemy/orm/persistence.py:925: SAWarning: DELETE statement on table 'label' expected to delete 17 row(s); 5 were matched.  Please set confirm_deleted_rows=False within the mapper configuration to prevent this warning.\n",
      "  (table.description, expected, rows_matched)\n",
      "/usr/local/lib/python2.7/dist-packages/sqlalchemy/orm/persistence.py:925: SAWarning: DELETE statement on table 'label' expected to delete 19 row(s); 14 were matched.  Please set confirm_deleted_rows=False within the mapper configuration to prevent this warning.\n",
      "  (table.description, expected, rows_matched)\n",
      "/usr/local/lib/python2.7/dist-packages/sqlalchemy/orm/persistence.py:925: SAWarning: DELETE statement on table 'label' expected to delete 30 row(s); 16 were matched.  Please set confirm_deleted_rows=False within the mapper configuration to prevent this warning.\n",
      "  (table.description, expected, rows_matched)\n",
      "/usr/local/lib/python2.7/dist-packages/sqlalchemy/orm/persistence.py:925: SAWarning: DELETE statement on table 'label' expected to delete 19 row(s); 3 were matched.  Please set confirm_deleted_rows=False within the mapper configuration to prevent this warning.\n",
      "  (table.description, expected, rows_matched)\n",
      "/usr/local/lib/python2.7/dist-packages/sqlalchemy/orm/persistence.py:925: SAWarning: DELETE statement on table 'label' expected to delete 18 row(s); 15 were matched.  Please set confirm_deleted_rows=False within the mapper configuration to prevent this warning.\n",
      "  (table.description, expected, rows_matched)\n",
      "/usr/local/lib/python2.7/dist-packages/sqlalchemy/orm/persistence.py:925: SAWarning: DELETE statement on table 'label' expected to delete 20 row(s); 5 were matched.  Please set confirm_deleted_rows=False within the mapper configuration to prevent this warning.\n",
      "  (table.description, expected, rows_matched)\n",
      "/usr/local/lib/python2.7/dist-packages/sqlalchemy/orm/persistence.py:925: SAWarning: DELETE statement on table 'label' expected to delete 7 row(s); 2 were matched.  Please set confirm_deleted_rows=False within the mapper configuration to prevent this warning.\n",
      "  (table.description, expected, rows_matched)\n",
      "/usr/local/lib/python2.7/dist-packages/sqlalchemy/orm/persistence.py:925: SAWarning: DELETE statement on table 'label' expected to delete 7 row(s); 5 were matched.  Please set confirm_deleted_rows=False within the mapper configuration to prevent this warning.\n",
      "  (table.description, expected, rows_matched)\n",
      "/usr/local/lib/python2.7/dist-packages/sqlalchemy/orm/persistence.py:925: SAWarning: DELETE statement on table 'label' expected to delete 7 row(s); 4 were matched.  Please set confirm_deleted_rows=False within the mapper configuration to prevent this warning.\n",
      "  (table.description, expected, rows_matched)\n",
      "/usr/local/lib/python2.7/dist-packages/sqlalchemy/orm/persistence.py:925: SAWarning: DELETE statement on table 'label' expected to delete 13 row(s); 3 were matched.  Please set confirm_deleted_rows=False within the mapper configuration to prevent this warning.\n",
      "  (table.description, expected, rows_matched)\n",
      "/usr/local/lib/python2.7/dist-packages/sqlalchemy/orm/persistence.py:925: SAWarning: DELETE statement on table 'label' expected to delete 14 row(s); 11 were matched.  Please set confirm_deleted_rows=False within the mapper configuration to prevent this warning.\n",
      "  (table.description, expected, rows_matched)\n",
      "/usr/local/lib/python2.7/dist-packages/sqlalchemy/orm/persistence.py:925: SAWarning: DELETE statement on table 'label' expected to delete 19 row(s); 8 were matched.  Please set confirm_deleted_rows=False within the mapper configuration to prevent this warning.\n",
      "  (table.description, expected, rows_matched)\n",
      "/usr/local/lib/python2.7/dist-packages/sqlalchemy/orm/persistence.py:925: SAWarning: DELETE statement on table 'label' expected to delete 4 row(s); 2 were matched.  Please set confirm_deleted_rows=False within the mapper configuration to prevent this warning.\n",
      "  (table.description, expected, rows_matched)\n",
      "/usr/local/lib/python2.7/dist-packages/sqlalchemy/orm/persistence.py:925: SAWarning: DELETE statement on table 'label' expected to delete 9 row(s); 4 were matched.  Please set confirm_deleted_rows=False within the mapper configuration to prevent this warning.\n",
      "  (table.description, expected, rows_matched)\n",
      "/usr/local/lib/python2.7/dist-packages/sqlalchemy/orm/persistence.py:925: SAWarning: DELETE statement on table 'label' expected to delete 9 row(s); 2 were matched.  Please set confirm_deleted_rows=False within the mapper configuration to prevent this warning.\n",
      "  (table.description, expected, rows_matched)\n",
      "/usr/local/lib/python2.7/dist-packages/sqlalchemy/orm/persistence.py:925: SAWarning: DELETE statement on table 'label' expected to delete 5 row(s); 3 were matched.  Please set confirm_deleted_rows=False within the mapper configuration to prevent this warning.\n",
      "  (table.description, expected, rows_matched)\n",
      "/usr/local/lib/python2.7/dist-packages/sqlalchemy/orm/persistence.py:925: SAWarning: DELETE statement on table 'label' expected to delete 6 row(s); 3 were matched.  Please set confirm_deleted_rows=False within the mapper configuration to prevent this warning.\n",
      "  (table.description, expected, rows_matched)\n",
      "/usr/local/lib/python2.7/dist-packages/sqlalchemy/orm/persistence.py:925: SAWarning: DELETE statement on table 'label' expected to delete 7 row(s); 3 were matched.  Please set confirm_deleted_rows=False within the mapper configuration to prevent this warning.\n",
      "  (table.description, expected, rows_matched)\n",
      "/usr/local/lib/python2.7/dist-packages/sqlalchemy/orm/persistence.py:925: SAWarning: DELETE statement on table 'label' expected to delete 5 row(s); 2 were matched.  Please set confirm_deleted_rows=False within the mapper configuration to prevent this warning.\n",
      "  (table.description, expected, rows_matched)\n",
      "/usr/local/lib/python2.7/dist-packages/sqlalchemy/orm/persistence.py:925: SAWarning: DELETE statement on table 'label' expected to delete 24 row(s); 22 were matched.  Please set confirm_deleted_rows=False within the mapper configuration to prevent this warning.\n",
      "  (table.description, expected, rows_matched)\n",
      "/usr/local/lib/python2.7/dist-packages/sqlalchemy/orm/persistence.py:925: SAWarning: DELETE statement on table 'label' expected to delete 32 row(s); 10 were matched.  Please set confirm_deleted_rows=False within the mapper configuration to prevent this warning.\n",
      "  (table.description, expected, rows_matched)\n",
      "/usr/local/lib/python2.7/dist-packages/sqlalchemy/orm/persistence.py:925: SAWarning: DELETE statement on table 'label' expected to delete 11 row(s); 1 were matched.  Please set confirm_deleted_rows=False within the mapper configuration to prevent this warning.\n",
      "  (table.description, expected, rows_matched)\n",
      "/usr/local/lib/python2.7/dist-packages/sqlalchemy/orm/persistence.py:925: SAWarning: DELETE statement on table 'label' expected to delete 8 row(s); 7 were matched.  Please set confirm_deleted_rows=False within the mapper configuration to prevent this warning.\n",
      "  (table.description, expected, rows_matched)\n",
      "/usr/local/lib/python2.7/dist-packages/sqlalchemy/orm/persistence.py:925: SAWarning: DELETE statement on table 'label' expected to delete 10 row(s); 1 were matched.  Please set confirm_deleted_rows=False within the mapper configuration to prevent this warning.\n",
      "  (table.description, expected, rows_matched)\n",
      "/usr/local/lib/python2.7/dist-packages/sqlalchemy/orm/persistence.py:925: SAWarning: DELETE statement on table 'label' expected to delete 3 row(s); 2 were matched.  Please set confirm_deleted_rows=False within the mapper configuration to prevent this warning.\n",
      "  (table.description, expected, rows_matched)\n",
      "/usr/local/lib/python2.7/dist-packages/sqlalchemy/orm/persistence.py:925: SAWarning: DELETE statement on table 'label' expected to delete 3 row(s); 1 were matched.  Please set confirm_deleted_rows=False within the mapper configuration to prevent this warning.\n",
      "  (table.description, expected, rows_matched)\n",
      "/usr/local/lib/python2.7/dist-packages/sqlalchemy/orm/persistence.py:925: SAWarning: DELETE statement on table 'label' expected to delete 6 row(s); 4 were matched.  Please set confirm_deleted_rows=False within the mapper configuration to prevent this warning.\n",
      "  (table.description, expected, rows_matched)\n",
      "/usr/local/lib/python2.7/dist-packages/sqlalchemy/orm/persistence.py:925: SAWarning: DELETE statement on table 'label' expected to delete 4 row(s); 1 were matched.  Please set confirm_deleted_rows=False within the mapper configuration to prevent this warning.\n",
      "  (table.description, expected, rows_matched)\n",
      "/usr/local/lib/python2.7/dist-packages/sqlalchemy/orm/persistence.py:925: SAWarning: DELETE statement on table 'label' expected to delete 2 row(s); 1 were matched.  Please set confirm_deleted_rows=False within the mapper configuration to prevent this warning.\n",
      "  (table.description, expected, rows_matched)\n",
      "/usr/local/lib/python2.7/dist-packages/sqlalchemy/orm/persistence.py:925: SAWarning: DELETE statement on table 'label' expected to delete 7 row(s); 1 were matched.  Please set confirm_deleted_rows=False within the mapper configuration to prevent this warning.\n",
      "  (table.description, expected, rows_matched)\n",
      "/usr/local/lib/python2.7/dist-packages/sqlalchemy/orm/persistence.py:925: SAWarning: DELETE statement on table 'label' expected to delete 4 row(s); 3 were matched.  Please set confirm_deleted_rows=False within the mapper configuration to prevent this warning.\n",
      "  (table.description, expected, rows_matched)\n",
      "/usr/local/lib/python2.7/dist-packages/sqlalchemy/orm/persistence.py:925: SAWarning: DELETE statement on table 'label' expected to delete 5 row(s); 4 were matched.  Please set confirm_deleted_rows=False within the mapper configuration to prevent this warning.\n",
      "  (table.description, expected, rows_matched)\n"
     ]
    }
   ],
   "source": [
    "delete_LF_set('LF Development Labels 1')"
   ]
  },
  {
   "cell_type": "code",
   "execution_count": 31,
   "metadata": {
    "collapsed": true
   },
   "outputs": [],
   "source": [
    "session.commit()"
   ]
  },
  {
   "cell_type": "markdown",
   "metadata": {},
   "source": [
    "# Process / Load Features"
   ]
  },
  {
   "cell_type": "code",
   "execution_count": 4,
   "metadata": {
    "collapsed": true
   },
   "outputs": [],
   "source": [
    "from snorkel.annotations import FeatureManager\n",
    "\n",
    "feature_manager = FeatureManager()"
   ]
  },
  {
   "cell_type": "markdown",
   "metadata": {},
   "source": [
    "Process:"
   ]
  },
  {
   "cell_type": "code",
   "execution_count": null,
   "metadata": {
    "collapsed": true
   },
   "outputs": [],
   "source": [
    "%%time\n",
    "try:\n",
    "    F_train = feature_manager.load(session, train, 'Train Features')\n",
    "    F_dev   = feature_manager.load(session, dev, 'Train Features')\n",
    "except:\n",
    "    F_train = feature_manager.create(session, train, 'Train Features')\n",
    "    F_dev   = feature_manager.update(session, dev, 'Train Features', False)"
   ]
  },
  {
   "cell_type": "markdown",
   "metadata": {},
   "source": [
    "# Create canonical dictionary"
   ]
  },
  {
   "cell_type": "markdown",
   "metadata": {},
   "source": [
    "### Load the MESH ID -> CID mapping"
   ]
  },
  {
   "cell_type": "code",
   "execution_count": null,
   "metadata": {
    "collapsed": false
   },
   "outputs": [],
   "source": [
    "from cPickle import load\n",
    "MESH_to_CID = load(open('MESH_to_CID.pkl', 'rb'))\n",
    "diseases    = load(open('diseases.pkl', 'rb'))"
   ]
  },
  {
   "cell_type": "markdown",
   "metadata": {},
   "source": [
    "### Create a canonical dictionary (CD)"
   ]
  },
  {
   "cell_type": "code",
   "execution_count": null,
   "metadata": {
    "collapsed": true
   },
   "outputs": [],
   "source": [
    "from utils import CanonicalDictionary\n",
    "cd = CanonicalDictionary(MESH_to_CID)"
   ]
  },
  {
   "cell_type": "markdown",
   "metadata": {},
   "source": [
    "### Add MESH to CD"
   ]
  },
  {
   "cell_type": "code",
   "execution_count": null,
   "metadata": {
    "collapsed": false
   },
   "outputs": [],
   "source": [
    "# Load MESH\n",
    "from utils import load_mesh_raw\n",
    "mesh_entries = load_mesh_raw('data/desc2016.xml')"
   ]
  },
  {
   "cell_type": "code",
   "execution_count": null,
   "metadata": {
    "collapsed": false
   },
   "outputs": [],
   "source": [
    "# Add MESH to cd\n",
    "for entry in mesh_entries:\n",
    "    mid, ps, terms = entry\n",
    "    paths = [[p[0]] + p[1:].split('.') for p in ps]\n",
    "    for term in terms:\n",
    "        cd.add_term(term, mid, tree_paths=paths)\n",
    "\n",
    "len(cd.term_to_sids)"
   ]
  },
  {
   "cell_type": "markdown",
   "metadata": {},
   "source": [
    "### Add MEDIC to CD\n",
    "\n",
    "Custom CTD diseases dictionary made from MESH category C + OMIM"
   ]
  },
  {
   "cell_type": "code",
   "execution_count": null,
   "metadata": {
    "collapsed": false
   },
   "outputs": [],
   "source": [
    "from utils import load_MEDIC, load_mesh_raw\n",
    "medic_entries, MEDIC_to_CID = load_MEDIC()"
   ]
  },
  {
   "cell_type": "code",
   "execution_count": null,
   "metadata": {
    "collapsed": false
   },
   "outputs": [],
   "source": [
    "# Add MESH to cd\n",
    "for entry in medic_entries:\n",
    "    if entry.id.startswith(\"MESH\"):\n",
    "        mid = entry.id.split(\":\")[1]\n",
    "    elif len(entry.parent_ids) > 0 and entry.parent_ids[0].startswith(\"MESH\"):\n",
    "        mid = entry.parent_ids[0].split(\":\")[1]\n",
    "    else:\n",
    "        raise KeyError(entry)\n",
    "    \n",
    "    paths = []\n",
    "    for p in entry.tree_nums:\n",
    "        x = p.split(\"/\")[0]\n",
    "        paths.append([x[0]] + x[1:].split('.'))\n",
    "    \n",
    "    terms = [entry.name] + entry.synonyms\n",
    "    for term in terms:\n",
    "        cd.add_term(term, mid, tree_paths=paths)\n",
    "        \n",
    "len(cd.term_to_sids)"
   ]
  },
  {
   "cell_type": "markdown",
   "metadata": {},
   "source": [
    "### Add UMLS to CD\n",
    "\n",
    "This may or may not be all of the UMLS... file from Jason"
   ]
  },
  {
   "cell_type": "code",
   "execution_count": null,
   "metadata": {
    "collapsed": false
   },
   "outputs": [],
   "source": [
    "with open('cui2mesh.tsv', 'rb') as f:\n",
    "    for line in f:\n",
    "        term, cui, mid = line.rstrip('\\n').split('\\t')\n",
    "        cd.add_term(term, mid)\n",
    "\n",
    "len(cd.term_to_sids)"
   ]
  },
  {
   "cell_type": "code",
   "execution_count": null,
   "metadata": {
    "collapsed": true
   },
   "outputs": [],
   "source": [
    "from cPickle import dump\n",
    "dump(cd, open('cd.pkl', 'wb'))"
   ]
  },
  {
   "cell_type": "markdown",
   "metadata": {},
   "source": [
    "# Writing some multinomial LFs"
   ]
  },
  {
   "cell_type": "markdown",
   "metadata": {},
   "source": [
    "# NOTE: Beware of LF rollback bug!!!"
   ]
  },
  {
   "cell_type": "markdown",
   "metadata": {},
   "source": [
    "## TYPE I LF: Subsets of MESH dictionary"
   ]
  },
  {
   "cell_type": "code",
   "execution_count": null,
   "metadata": {
    "collapsed": true
   },
   "outputs": [],
   "source": [
    "SEEN_GLOBAL = defaultdict(set)"
   ]
  },
  {
   "cell_type": "markdown",
   "metadata": {},
   "source": [
    "## MESH exact match"
   ]
  },
  {
   "cell_type": "code",
   "execution_count": null,
   "metadata": {
    "collapsed": true
   },
   "outputs": [],
   "source": [
    "POS_DEPTH = 3\n",
    "NEG_DEPTH = 3\n",
    "def LFG_CD_match(c, p, key_mod=None, seen_global=None, max_paths_per_sid=1):\n",
    "    \"\"\"\n",
    "    Given a candidate c, some transformed candidate disease phrase p,\n",
    "    and an optional key name modifier key_mod to be appended, return a generator\n",
    "    of key, value pairs\n",
    "    \"\"\"\n",
    "    if p in cd.term_to_sids:\n",
    "        for sid in cd.term_to_sids[p]:\n",
    "            cid   = cd.sid_to_cid[sid] if sid in cd.sid_to_cid else -1\n",
    "            paths = cd.tree_paths[sid]\n",
    "            for path in paths[:max_paths_per_sid]:\n",
    "                    \n",
    "                # NOTE: path may be shorter than max depth if higher up in the tree (e.g. 'cancer', 'ischemia')!\n",
    "                key = \"-\".join(path[:POS_DEPTH]) if cid > 0 else \"-\".join(path[:NEG_DEPTH])\n",
    "                        \n",
    "                # CHECK AGAINST / ADD TO GLOBAL SEEN SET!\n",
    "                # To make sure that relaxations of an LF don't overlap with each other on any given candidate\n",
    "                if seen_global is None or c.id not in seen_global[key]:\n",
    "                    if seen_global is not None:\n",
    "                        seen_global[key].add(c.id)\n",
    "                    if key_mod:\n",
    "                        key += \"-\" + key_mod\n",
    "                    yield key, cid"
   ]
  },
  {
   "cell_type": "code",
   "execution_count": null,
   "metadata": {
    "collapsed": false
   },
   "outputs": [],
   "source": [
    "def LFG_MESH_exact(c):\n",
    "    p = c.disease.get_span().lower()\n",
    "    return LFG_CD_match(c, p)"
   ]
  },
  {
   "cell_type": "code",
   "execution_count": null,
   "metadata": {
    "collapsed": false
   },
   "outputs": [],
   "source": [
    "%%time\n",
    "try:\n",
    "    L_train_exact_match = label_manager.load(session, train, 'LF Training Labels -- Exact Match')\n",
    "except:\n",
    "    L_train_exact_match = label_manager.create(\n",
    "        session, train, 'LF Training Labels -- Exact Match', LFG_MESH_exact)"
   ]
  },
  {
   "cell_type": "markdown",
   "metadata": {},
   "source": [
    "### Drop leading modifiers"
   ]
  },
  {
   "cell_type": "code",
   "execution_count": null,
   "metadata": {
    "collapsed": true
   },
   "outputs": [],
   "source": [
    "MOD_RGX = r'JJ.*|VB.*|RB.*'\n",
    "\n",
    "def LFG_drop_leading_modifiers(c):\n",
    "    words    = c.disease.get_attrib_tokens()\n",
    "    pos_tags = c.disease.get_attrib_tokens('pos_tags')\n",
    "    while re.match(MOD_RGX, pos_tags[0]):\n",
    "        words    = words[1:]\n",
    "        pos_tags = pos_tags[1:]\n",
    "        p   = \" \".join(words)\n",
    "        \n",
    "        # Hackey, but works for now...\n",
    "        g = LFG_CD_match(c, p, key_mod=\"DJ\")\n",
    "        if len(list(g)) > 0:\n",
    "            for key, cid in LFG_CD_match(c, p, key_mod=\"DJ\"):\n",
    "                yield key, cid"
   ]
  },
  {
   "cell_type": "code",
   "execution_count": null,
   "metadata": {
    "collapsed": false
   },
   "outputs": [],
   "source": [
    "%%time\n",
    "try:\n",
    "    L_train_drop_leading = label_manager.load(session, train, 'LF Training Labels -- Drop Leading')\n",
    "except:\n",
    "    L_train_drop_leading = label_manager.create(\n",
    "        session, train, 'LF Training Labels -- Drop Leading', LFG_drop_leading_modifiers)"
   ]
  },
  {
   "cell_type": "markdown",
   "metadata": {},
   "source": [
    "### Remove common words"
   ]
  },
  {
   "cell_type": "code",
   "execution_count": null,
   "metadata": {
    "collapsed": true
   },
   "outputs": [],
   "source": [
    "REMOVE_COMMON = r'.*induced|patient.*|drug|inhibitor|\\d+|human|mouse|mice|rats?|with|syndrome|famil.*|s$|low(er)?|upper|left|right|top|bottom|subjects?'\n",
    "def remove_common(c):\n",
    "    p = re.sub(r'\\s\\s+', ' ', re.sub(REMOVE_COMMON, '', c.disease.get_span().lower())).strip()\n",
    "    return p"
   ]
  },
  {
   "cell_type": "code",
   "execution_count": null,
   "metadata": {
    "collapsed": true
   },
   "outputs": [],
   "source": [
    "def LFG_MESH_exact_remove_common(c):\n",
    "    p = remove_common(c)\n",
    "    return LFG_CD_match(c, p, key_mod=\"RC\")"
   ]
  },
  {
   "cell_type": "code",
   "execution_count": null,
   "metadata": {
    "collapsed": true
   },
   "outputs": [],
   "source": [
    "%%time\n",
    "try:\n",
    "    L_train_remove_common = label_manager.load(session, train, 'LF Training Labels -- Remove Common')\n",
    "except:\n",
    "    L_train_remove_common = label_manager.create(\n",
    "        session, train, 'LF Training Labels -- Remove Common', LFG_MESH_exact_remove_common)"
   ]
  },
  {
   "cell_type": "markdown",
   "metadata": {},
   "source": [
    "## MESH TF-IDF cosine match: POSITIVE terms\n",
    "\n",
    "Only cosine match with _positive_ (i.e. C, F03 MESH disease terms) here!\n",
    "\n",
    "**Note: we want to avoid positive reinforcement amongst these, so track seen / only emit one:**"
   ]
  },
  {
   "cell_type": "code",
   "execution_count": null,
   "metadata": {
    "collapsed": true
   },
   "outputs": [],
   "source": [
    "SEEN_COSINE_POS = defaultdict(set)"
   ]
  },
  {
   "cell_type": "code",
   "execution_count": null,
   "metadata": {
    "collapsed": false
   },
   "outputs": [],
   "source": [
    "%%time\n",
    "from entity_norm import CanonDictVectorizer \n",
    "\n",
    "# Create a vectorizer based around this \n",
    "cd_vectorizer = CanonDictVectorizer(cd.term_to_sids, other_phrases=[])\n",
    "\n",
    "# Vectorize the dictionary\n",
    "D_pos   = cd_vectorizer.vectorize_phrases(cd.pos_terms)\n",
    "D_pos_t = D_pos.T\n",
    "D_pos_t"
   ]
  },
  {
   "cell_type": "code",
   "execution_count": null,
   "metadata": {
    "collapsed": false
   },
   "outputs": [],
   "source": [
    "POS_DEPTH = 3\n",
    "NEG_DEPTH = 3\n",
    "THRESH    = 0.75\n",
    "def LFG_CD_cosine_match(c, p, vectorizer, D_t, terms, thresh=THRESH, seen_global=None, max_paths_per_sid=1, key_mod=None):\n",
    "    cx = vectorizer.vectorize_phrases([p])\n",
    "    m  = cx * D_t\n",
    "    m  = m.tocoo()\n",
    "\n",
    "    best_match = defaultdict(lambda : (0, None))\n",
    "    for i, s in enumerate(m.data):\n",
    "        if s > thresh:\n",
    "            j = m.col[i]\n",
    "            t = terms[j]\n",
    "            for sid in cd.term_to_sids[t]:\n",
    "                cid = cd.sid_to_cid[sid] if sid in cd.sid_to_cid else -1\n",
    "                for path in cd.tree_paths[sid][:max_paths_per_sid]:\n",
    "                    key  = \"-\".join(path[:POS_DEPTH]) if cid > 0 else \"-\".join(path[:NEG_DEPTH])\n",
    "                    if s > best_match[key][0]:\n",
    "                        best_match[key] = (s, cid)\n",
    "\n",
    "    for key, x in best_match.iteritems():\n",
    "        s, cid = x\n",
    "        \n",
    "        # CHECK AGAINST / ADD TO GLOBAL SEEN SET!\n",
    "        # To make sure that relaxations of an LF don't overlap with each other on any given candidate\n",
    "        if seen_global is None or c.id not in seen_global[key]:\n",
    "            if seen_global is not None:\n",
    "                seen_global[key].add(c.id)\n",
    "            key += \"-c\"\n",
    "            if key_mod:\n",
    "                key += key_mod\n",
    "            yield key, cid"
   ]
  },
  {
   "cell_type": "code",
   "execution_count": null,
   "metadata": {
    "collapsed": true
   },
   "outputs": [],
   "source": [
    "def LFG_CD_cosine_match_pos(c):\n",
    "    p = c.disease.get_span().lower()\n",
    "    return LFG_CD_cosine_match(c,p, cd_vectorizer, D_pos_t, cd.pos_terms, seen_global=SEEN_COSINE_POS)"
   ]
  },
  {
   "cell_type": "code",
   "execution_count": null,
   "metadata": {
    "collapsed": true
   },
   "outputs": [],
   "source": [
    "%%time\n",
    "try:\n",
    "    L_train_cosine_pos = label_manager.load(session, train, 'LF Training Labels -- TF-IDF Pos Terms')\n",
    "except:\n",
    "    L_train_cosine_pos = label_manager.create(\n",
    "        session, train, 'LF Training Labels -- TF-IDF Pos Terms', LFG_CD_cosine_match_pos)"
   ]
  },
  {
   "cell_type": "markdown",
   "metadata": {},
   "source": [
    "## Transform (T) -> pos. cosine match"
   ]
  },
  {
   "cell_type": "code",
   "execution_count": null,
   "metadata": {
    "collapsed": true
   },
   "outputs": [],
   "source": [
    "def LFG_CD_cosine_match_RC(c):\n",
    "    p = remove_common(c)\n",
    "    if p != c.disease.get_span().lower():\n",
    "        for key, cid in LFG_CD_cosine_match(c, p, cd_vectorizer, D_pos_t, cd.pos_terms, key_mod=\"-RC\", seen_global=SEEN_COSINE_POS):\n",
    "            yield key, cid"
   ]
  },
  {
   "cell_type": "code",
   "execution_count": null,
   "metadata": {
    "collapsed": true
   },
   "outputs": [],
   "source": [
    "%%time\n",
    "try:\n",
    "    L_train_cosine_pos_T1 = label_manager.load(session, train, 'LF Training Labels -- TF-IDF Pos Terms T1')\n",
    "except:\n",
    "    L_train_cosine_pos_T1 = label_manager.create(\n",
    "        session, train, 'LF Training Labels -- TF-IDF Pos Terms T1', LFG_CD_cosine_match_RC)"
   ]
  },
  {
   "cell_type": "markdown",
   "metadata": {},
   "source": [
    "## Neg cosine match"
   ]
  },
  {
   "cell_type": "code",
   "execution_count": null,
   "metadata": {
    "collapsed": false
   },
   "outputs": [],
   "source": [
    "# Vectorize the dictionary\n",
    "D_neg   = cd_vectorizer.vectorize_phrases(cd.neg_terms)\n",
    "D_neg_t = D_neg.T\n",
    "D_neg_t"
   ]
  },
  {
   "cell_type": "code",
   "execution_count": null,
   "metadata": {
    "collapsed": true
   },
   "outputs": [],
   "source": [
    "def LFG_CD_cosine_match_neg(c):\n",
    "    p = c.disease.get_span().lower()\n",
    "    return LFG_CD_cosine_match(c, p, cd_vectorizer, D_neg_t, cd.neg_terms, thresh=0.85)"
   ]
  },
  {
   "cell_type": "code",
   "execution_count": null,
   "metadata": {
    "collapsed": true
   },
   "outputs": [],
   "source": [
    "%%time\n",
    "try:\n",
    "    L_train_cosine_neg = label_manager.load(session, train, 'LF Training Labels -- TF-IDF Neg Terms')\n",
    "except:\n",
    "    L_train_cosine_neg = label_manager.create(\n",
    "        session, train, 'LF Training Labels -- TF-IDF Neg Terms', LFG_CD_cosine_match_neg)"
   ]
  },
  {
   "cell_type": "markdown",
   "metadata": {},
   "source": [
    "# Putting in some negative LFs"
   ]
  },
  {
   "cell_type": "code",
   "execution_count": null,
   "metadata": {
    "collapsed": false
   },
   "outputs": [],
   "source": [
    "import re\n",
    "from lf_terms import *\n",
    "from snorkel.lf_helpers import get_left_tokens, get_right_tokens\n",
    "from utils import *\n",
    "from Disease_Tagging_Tutorial_LFs import *\n",
    "chemicals = load_chemdner_dictionary()\n",
    "\n",
    "def LF_organs(c):\n",
    "    phrase = \" \".join(c[0].get_attrib_tokens()).lower()\n",
    "    return -1 if phrase in organs else 0      \n",
    "\n",
    "def LF_chemical_name(c):\n",
    "    phrase = \" \".join(c[0].get_attrib_tokens())\n",
    "    return -1 if phrase in chemicals and not phrase.isupper() and phrase.lower() not in cd.term_to_sids else 0\n",
    "\n",
    "def LF_bodypart(c):\n",
    "    phrase = re.sub(r's$', '', \" \".join(c[0].get_attrib_tokens()).lower())\n",
    "    return -1 if phrase in bodypart else 0  \n",
    "\n",
    "def LF_protein_chemical_abbrv(c):\n",
    "    '''Gene/protein/chemical name'''\n",
    "    lemma = \" \".join(c[0].get_attrib_tokens('lemmas'))\n",
    "    return -1 if re.search(\"\\d+\",lemma) else 0\n",
    "\n",
    "def LF_base_pair_seq(c): \n",
    "    lemma = \" \".join(c[0].get_attrib_tokens('lemmas'))\n",
    "    return -1 if re.search(\"^[GACT]{2,}$\",lemma) else 0\n",
    "\n",
    "LFs_false = [LF_chemical_name,\n",
    "             LF_organs,\n",
    "             LF_bodypart,\n",
    "             LF_protein_chemical_abbrv,\n",
    "             LF_base_pair_seq,\n",
    "             #LF_too_vague,\n",
    "             #LF_neg_surfix,\n",
    "             LF_non_common_disease,\n",
    "             LF_non_disease_acronyms,\n",
    "             #LF_pos_in,\n",
    "             LF_gene_chromosome_link,\n",
    "             LF_right_window_incomplete,\n",
    "             #LF_negative_indicator\n",
    "            ]"
   ]
  },
  {
   "cell_type": "code",
   "execution_count": null,
   "metadata": {
    "collapsed": true
   },
   "outputs": [],
   "source": [
    "%%time\n",
    "try:\n",
    "    L_train_false_1 = label_manager.load(session, train, 'LF Training Labels -- False 1')\n",
    "except:\n",
    "    L_train_false_1 = label_manager.create(\n",
    "        session, train, 'LF Training Labels -- False 1', LFs_false)"
   ]
  },
  {
   "cell_type": "markdown",
   "metadata": {},
   "source": [
    "### More neg. LFs"
   ]
  },
  {
   "cell_type": "code",
   "execution_count": null,
   "metadata": {
    "collapsed": false
   },
   "outputs": [],
   "source": [
    "NEG_COMMON_RGX = r'(finding|disease|syndrome|marker|defecit|.*event|mean|median|mg)s?'\n",
    "def LF_common_neg_phrases(c):\n",
    "    p = c.disease.get_span().lower()\n",
    "    return -1 if re.match(NEG_COMMON_RGX, p) else 0\n",
    "\n",
    "NEG_AFTER_WORDS = frozenset(['of', 'to'])\n",
    "def LF_neg_after(c):\n",
    "    rw = get_right_tokens(c, window=1, attrib='lemmas')\n",
    "    return -1 if len(rw) > 0 and rw[0] in NEG_AFTER_WORDS and c.disease.get_span().lower() not in cd.term_to_sids else 0\n",
    "\n",
    "def LF_after_num(c):\n",
    "    lw = get_left_tokens(c, window=1, attrib='lemmas')\n",
    "    return -1 if len(lw) > 0 and re.match(r'\\d+', lw[0]) else 0\n",
    "\n",
    "def LF_too_short(c):\n",
    "    p = c.disease.get_span().lower()\n",
    "    return -1 if len(p) < 3 else 0\n",
    "\n",
    "BAD_ENDINGS_RGX = r'(type|trait|cell)s?$'\n",
    "def LF_bad_endings(c):\n",
    "    p = c.disease.get_span().lower()\n",
    "    return -1 if re.search(BAD_ENDINGS_RGX, p) else 0\n",
    "\n",
    "BAD_MESH_TERMS = frozenset(['disease', 'diseases', 'conversion'])\n",
    "def LF_bad_MESH_entries(c):\n",
    "    p = c.disease.get_span().lower()\n",
    "    return -1 if p in BAD_MESH_TERMS else 0\n",
    "\n",
    "LFs_false_2 = [\n",
    "    LF_common_neg_phrases,\n",
    "    LF_neg_after,\n",
    "    LF_after_num,\n",
    "    LF_too_short,\n",
    "    LF_bad_endings,\n",
    "    LF_bad_MESH_entries\n",
    "]"
   ]
  },
  {
   "cell_type": "code",
   "execution_count": null,
   "metadata": {
    "collapsed": true
   },
   "outputs": [],
   "source": [
    "%%time\n",
    "try:\n",
    "    L_train_false_2 = label_manager.load(session, train, 'LF Training Labels -- False 2')\n",
    "except:\n",
    "    L_train_false_2 = label_manager.create(\n",
    "        session, train, 'LF Training Labels -- False 2', LFs_false_2)"
   ]
  },
  {
   "cell_type": "markdown",
   "metadata": {},
   "source": [
    "# Combine all the LFs\n",
    "\n",
    "Also form the binarized version of the LF matrix for doing DISEASE vs. OTHER tagging"
   ]
  },
  {
   "cell_type": "code",
   "execution_count": null,
   "metadata": {
    "collapsed": false
   },
   "outputs": [],
   "source": [
    "from utils import binarize_LF_matrix, get_binarized_score\n",
    "from snorkel.annotations import merge_annotations\n",
    "\n",
    "L_train = merge_annotations([\n",
    "        L_train_exact_match\n",
    "        , L_train_drop_leading\n",
    "        , L_train_remove_common\n",
    "        , L_train_cosine_pos\n",
    "        , L_train_cosine_pos_T1\n",
    "        , L_train_cosine_neg\n",
    "        , L_train_false_1\n",
    "        , L_train_false_2\n",
    "    ])\n",
    "\n",
    "L_train_b = binarize_LF_matrix(L_train)\n",
    "L_train_b"
   ]
  },
  {
   "cell_type": "markdown",
   "metadata": {},
   "source": [
    "# Run the generative model\n",
    "\n",
    "For DISEASE vs. OTHER tagging"
   ]
  },
  {
   "cell_type": "code",
   "execution_count": null,
   "metadata": {
    "collapsed": false
   },
   "outputs": [],
   "source": [
    "from snorkel.learning import NaiveBayes\n",
    "\n",
    "gen_model_train = NaiveBayes()\n",
    "%time gen_model_train.train(L_train_b, n_iter=10000, rate=1e-1, verbose=True)"
   ]
  },
  {
   "cell_type": "code",
   "execution_count": null,
   "metadata": {
    "collapsed": false
   },
   "outputs": [],
   "source": [
    "yp_gt_train = gen_model_train.predict(L_train_b, b=0.5)\n",
    "get_binarized_score(yp_gt_train, L_gold_train)"
   ]
  },
  {
   "cell_type": "markdown",
   "metadata": {},
   "source": [
    "### Printing LF stats"
   ]
  },
  {
   "cell_type": "code",
   "execution_count": null,
   "metadata": {
    "collapsed": false
   },
   "outputs": [],
   "source": [
    "# Print LF stats...\n",
    "from snorkel.learning import odds_to_prob\n",
    "lfs = L_train.lf_stats(labels=L_gold_train, est_accs=odds_to_prob(gen_model.w))\n",
    "lfs.nlargest(50, \"coverage\")"
   ]
  },
  {
   "cell_type": "markdown",
   "metadata": {},
   "source": [
    "# Error analysis"
   ]
  },
  {
   "cell_type": "markdown",
   "metadata": {},
   "source": [
    "First, collect error buckets:"
   ]
  },
  {
   "cell_type": "code",
   "execution_count": null,
   "metadata": {
    "collapsed": false
   },
   "outputs": [],
   "source": [
    "from random import shuffle\n",
    "N_train = L_gold_train.shape[0]\n",
    "\n",
    "fps    = []\n",
    "fns    = []\n",
    "fns_na = []\n",
    "for i in range(N_train):\n",
    "    if yp[i] > 0 and L_gold_train[i] < 0:\n",
    "        fps.append(i)\n",
    "    elif yp[i] <= 0 and L_gold_train[i] > 0:\n",
    "        if yp[i] == 0:\n",
    "            fns_na.append(i)\n",
    "        else:\n",
    "            fns.append(i)\n",
    "\n",
    "shuffle(fps)\n",
    "shuffle(fns)\n",
    "shuffle(fns_na)\n",
    "\n",
    "print len(fps)\n",
    "print len(fns)\n",
    "print len(fns_na)"
   ]
  },
  {
   "cell_type": "markdown",
   "metadata": {},
   "source": [
    "Next, visualize in the `Viewer`:"
   ]
  },
  {
   "cell_type": "code",
   "execution_count": null,
   "metadata": {
    "collapsed": false
   },
   "outputs": [],
   "source": [
    "from snorkel.viewer import SentenceNgramViewer\n",
    "fp_cands = [L_train.get_candidate(i) for i in fps[:100]]\n",
    "svp      = SentenceNgramViewer(fp_cands, session)\n",
    "svp"
   ]
  },
  {
   "cell_type": "code",
   "execution_count": null,
   "metadata": {
    "collapsed": false
   },
   "outputs": [],
   "source": [
    "c = svp.get_selected()\n",
    "c"
   ]
  },
  {
   "cell_type": "markdown",
   "metadata": {},
   "source": [
    "Get all the associated labels:"
   ]
  },
  {
   "cell_type": "code",
   "execution_count": null,
   "metadata": {
    "collapsed": false
   },
   "outputs": [],
   "source": [
    "from snorkel.models import Label\n",
    "session.query(Label).filter(Label.candidate == c).all()"
   ]
  },
  {
   "cell_type": "code",
   "execution_count": null,
   "metadata": {
    "collapsed": false
   },
   "outputs": [],
   "source": [
    "from snorkel.learning.gen_learning import odds_to_prob\n",
    "i = L_train.get_row_index(c)\n",
    "\n",
    "for j in L_train.getrow(i).nonzero()[1]:\n",
    "    print L_train.get_key(j), odds_to_prob(gen_model.w[j]), int(L_train[i,j])"
   ]
  },
  {
   "cell_type": "markdown",
   "metadata": {},
   "source": [
    "# Training the Discriminative Model"
   ]
  },
  {
   "cell_type": "code",
   "execution_count": null,
   "metadata": {
    "collapsed": false
   },
   "outputs": [],
   "source": [
    "from snorkel.learning import LogReg\n",
    "\n",
    "train_marginals = gen_model_train.marginals(L_train_b)\n",
    "\n",
    "disc_model = LogReg()\n",
    "disc_model.train(F_train, train_marginals, n_iter=2000, rate=1e-3, mu=1e-6)"
   ]
  },
  {
   "cell_type": "code",
   "execution_count": null,
   "metadata": {
    "collapsed": false
   },
   "outputs": [],
   "source": [
    "yp_d_train = disc_model.predict(F_train)\n",
    "get_binarized_score(yp_d_train, L_gold_train)"
   ]
  },
  {
   "cell_type": "code",
   "execution_count": null,
   "metadata": {
    "collapsed": false
   },
   "outputs": [],
   "source": [
    "yp_d_dev = disc_model.predict(F_dev, b=0.5)\n",
    "get_binarized_score(yp_d_dev, L_gold_dev)"
   ]
  },
  {
   "cell_type": "markdown",
   "metadata": {},
   "source": [
    "## What happens if we override all _unambiguous_ direct matches?"
   ]
  },
  {
   "cell_type": "code",
   "execution_count": null,
   "metadata": {
    "collapsed": false
   },
   "outputs": [],
   "source": [
    "# Try overriding with any exact matches...\n",
    "yp_d_dev_um = np.zeros(L_gold_dev.shape[0])\n",
    "for i,c in enumerate(dev):\n",
    "    pos = 0\n",
    "    neg = 0\n",
    "    for lf_name, label in LFG_MESH_exact(c):\n",
    "        if label > 0:\n",
    "            pos += 1\n",
    "        else:\n",
    "            neg += 1\n",
    "    \n",
    "    for lf_name, label in LFG_drop_leading_modifiers(c):\n",
    "        if label > 0:\n",
    "            pos += 1\n",
    "        else:\n",
    "            neg += 1\n",
    "    \n",
    "    for lf_name, label in LFG_MESH_exact_remove_common(c):\n",
    "        if label > 0:\n",
    "            pos += 1\n",
    "        else:\n",
    "            neg += 1\n",
    "    \n",
    "    if neg > 0 and pos == 0:\n",
    "        yp_d_dev_um[i] = -1\n",
    "    elif pos > 0 and neg == 0:\n",
    "        yp_d_dev_um[i] = 1\n",
    "    else:\n",
    "        yp_d_dev_um[i] = yp_d_dev[i]"
   ]
  },
  {
   "cell_type": "code",
   "execution_count": null,
   "metadata": {
    "collapsed": false
   },
   "outputs": [],
   "source": [
    "get_binarized_score(yp_d_dev_um, L_gold_dev)"
   ]
  },
  {
   "cell_type": "markdown",
   "metadata": {},
   "source": [
    "# We can also train the multinomial generative model..."
   ]
  },
  {
   "cell_type": "code",
   "execution_count": null,
   "metadata": {
    "collapsed": true
   },
   "outputs": [],
   "source": [
    "from snorkel.learning.learning_mn import assemble_mn_format, LogReg\n",
    "\n",
    "# Get data in the correct format\n",
    "Xs, mn_maps, mn_inv_maps, nz_idxs = assemble_mn_format(L_train)\n",
    "\n",
    "# Run multinomial model\n",
    "gen_model = LogReg()\n",
    "gen_model.train(Xs, n_iter=100, rate=1e-2, w0=np.ones(L_train.shape[1]))"
   ]
  },
  {
   "cell_type": "code",
   "execution_count": null,
   "metadata": {
    "collapsed": true
   },
   "outputs": [],
   "source": [
    "from utils import get_mn_score\n",
    "\n",
    "train_marginals = gen_model.marginals(Xs)\n",
    "N_pos_train     = sum([1 for i in range(L_gold_train.shape[0]) if L_gold_train[i,0] > 0])\n",
    "predicted       = [mn_inv_maps[i][np.argmax(m)] for i,m in enumerate(train_marginals)]\n",
    "get_mn_score(predicted, L_gold_train[nz_idxs], N_total_pos=N_pos_train)"
   ]
  }
 ],
 "metadata": {
  "kernelspec": {
   "display_name": "Python 2",
   "language": "python",
   "name": "python2"
  },
  "language_info": {
   "codemirror_mode": {
    "name": "ipython",
    "version": 2
   },
   "file_extension": ".py",
   "mimetype": "text/x-python",
   "name": "python",
   "nbconvert_exporter": "python",
   "pygments_lexer": "ipython2",
   "version": "2.7.6"
  }
 },
 "nbformat": 4,
 "nbformat_minor": 0
}
