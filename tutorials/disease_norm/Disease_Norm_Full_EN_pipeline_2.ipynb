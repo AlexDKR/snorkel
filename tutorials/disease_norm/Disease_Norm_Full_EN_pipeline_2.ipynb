{
 "cells": [
  {
   "cell_type": "code",
   "execution_count": 1,
   "metadata": {
    "collapsed": false
   },
   "outputs": [
    {
     "name": "stdout",
     "output_type": "stream",
     "text": [
      "The autoreload extension is already loaded. To reload it, use:\n",
      "  %reload_ext autoreload\n"
     ]
    }
   ],
   "source": [
    "%load_ext autoreload\n",
    "%autoreload 2\n",
    "%matplotlib inline\n",
    "\n",
    "import numpy as np\n",
    "from snorkel import SnorkelSession\n",
    "session = SnorkelSession()\n",
    "\n",
    "from snorkel.models import candidate_subclass\n",
    "\n",
    "Disease = candidate_subclass('Disease', ['disease'])"
   ]
  },
  {
   "cell_type": "code",
   "execution_count": 2,
   "metadata": {
    "collapsed": false
   },
   "outputs": [
    {
     "name": "stdout",
     "output_type": "stream",
     "text": [
      "28087\n",
      "27896\n"
     ]
    }
   ],
   "source": [
    "from snorkel.models import CandidateSet\n",
    "\n",
    "train = session.query(CandidateSet).filter(CandidateSet.name == 'CDR Training Candidates').one()\n",
    "print len(train)\n",
    "dev = session.query(CandidateSet).filter(CandidateSet.name == 'CDR Development Candidates').one()\n",
    "print len(dev)"
   ]
  },
  {
   "cell_type": "code",
   "execution_count": 3,
   "metadata": {
    "collapsed": false
   },
   "outputs": [
    {
     "name": "stdout",
     "output_type": "stream",
     "text": [
      "(28087, 1)\n",
      "(27896, 1)\n"
     ]
    }
   ],
   "source": [
    "from snorkel.annotations import LabelManager\n",
    "\n",
    "label_manager = LabelManager()\n",
    "\n",
    "L_gold_train = label_manager.load(session, train, \"CDR Training Label Set\")\n",
    "print L_gold_train.shape\n",
    "L_gold_dev = label_manager.load(session, dev, \"CDR Development Label Set\")\n",
    "print L_gold_dev.shape"
   ]
  },
  {
   "cell_type": "markdown",
   "metadata": {},
   "source": [
    "# Load `L_train` and `L_dev`"
   ]
  },
  {
   "cell_type": "code",
   "execution_count": 4,
   "metadata": {
    "collapsed": false
   },
   "outputs": [
    {
     "name": "stdout",
     "output_type": "stream",
     "text": [
      "(28087, 1645)\n",
      "(27896, 1557)\n",
      "CPU times: user 53.1 s, sys: 1.21 s, total: 54.3 s\n",
      "Wall time: 54 s\n"
     ]
    }
   ],
   "source": [
    "%%time\n",
    "from snorkel.annotations import merge_annotations\n",
    "from utils import binarize_LF_matrix, get_binarized_score\n",
    "\n",
    "L_TRAIN_BLOCKS = ['1', '2', '3', '4.1', '4 T2', '4 N', '5', '6']\n",
    "L_DEV_BLOCKS   = ['1', '2', '3.1', '4', '4 T2', '4 N', '5', '6']\n",
    "\n",
    "L_train_blocks = [label_manager.load(session, train, 'LF Training Labels %s' % lfn) for lfn in L_TRAIN_BLOCKS]\n",
    "L_dev_blocks   = [label_manager.load(session, dev, 'LF Development Labels %s' % lfn) for lfn in L_DEV_BLOCKS]\n",
    "\n",
    "L_train   = merge_annotations(L_train_blocks)\n",
    "L_train_b = binarize_LF_matrix(L_train)\n",
    "L_dev     = merge_annotations(L_dev_blocks)\n",
    "L_dev_b   = binarize_LF_matrix(L_dev)\n",
    "print L_train.shape\n",
    "print L_dev.shape"
   ]
  },
  {
   "cell_type": "markdown",
   "metadata": {},
   "source": [
    "# Load `F_train` and `F_dev`"
   ]
  },
  {
   "cell_type": "code",
   "execution_count": 5,
   "metadata": {
    "collapsed": false
   },
   "outputs": [
    {
     "name": "stdout",
     "output_type": "stream",
     "text": [
      "(28087, 69885)\n",
      "(27896, 69885)\n",
      "CPU times: user 4min 49s, sys: 3.7 s, total: 4min 52s\n",
      "Wall time: 4min 52s\n"
     ]
    }
   ],
   "source": [
    "%%time\n",
    "from snorkel.annotations import FeatureManager\n",
    "\n",
    "feature_manager = FeatureManager()\n",
    "\n",
    "F_train = feature_manager.load(session, train, 'Train Features')\n",
    "F_dev   = feature_manager.load(session, dev, 'Train Features')\n",
    "print F_train.shape\n",
    "print F_dev.shape"
   ]
  },
  {
   "cell_type": "markdown",
   "metadata": {},
   "source": [
    "# Load canonical & secondary dictionaries"
   ]
  },
  {
   "cell_type": "code",
   "execution_count": 6,
   "metadata": {
    "collapsed": true
   },
   "outputs": [],
   "source": [
    "cd = load(open('cd.pkl', 'rb'))"
   ]
  },
  {
   "cell_type": "markdown",
   "metadata": {},
   "source": [
    "# Setup 1.iii: Using the Gen. Model directly"
   ]
  },
  {
   "cell_type": "markdown",
   "metadata": {},
   "source": [
    "### Using the multinomial version"
   ]
  },
  {
   "cell_type": "code",
   "execution_count": null,
   "metadata": {
    "collapsed": false
   },
   "outputs": [],
   "source": [
    "from scipy.sparse import lil_matrix\n",
    "\n",
    "N, M        = L_dev.shape\n",
    "mn_maps     = []\n",
    "mn_inv_maps = []\n",
    "nz_idxs     = []\n",
    "Xs          = []\n",
    "for i in range(N):\n",
    "    nz = L_dev.getrow(i).nonzero()[1]\n",
    "    if len(nz) > 0:\n",
    "        nz_idxs.append(i)\n",
    "    \n",
    "        # Construct the map from CID -> column index, and reverse\n",
    "        mn_map     = {}\n",
    "        mn_inv_map = []\n",
    "        for j in nz:\n",
    "            label = L_dev[i,j]\n",
    "            if label not in mn_map:\n",
    "                mn_map[label] = len(mn_map)\n",
    "                mn_inv_map.append(label)\n",
    "        mn_maps.append(mn_map)\n",
    "        mn_inv_maps.append(mn_inv_map)\n",
    "    \n",
    "        # Construct the candidate label matrix\n",
    "        X = np.zeros((M, len(mn_map)))\n",
    "        for j in nz:\n",
    "            k = mn_map[L_dev[i,j]]\n",
    "            X[j, k] = 1\n",
    "        Xs.append(X)"
   ]
  },
  {
   "cell_type": "code",
   "execution_count": null,
   "metadata": {
    "collapsed": false
   },
   "outputs": [],
   "source": [
    "from snorkel.learning.learning_mn import LogReg\n",
    "\n",
    "gen_model = LogReg()\n",
    "gen_model.train(Xs, n_iter=100, rate=1e-2, w0=np.ones(M))"
   ]
  },
  {
   "cell_type": "code",
   "execution_count": null,
   "metadata": {
    "collapsed": true
   },
   "outputs": [],
   "source": [
    "marginals = gen_model.marginals(Xs)"
   ]
  },
  {
   "cell_type": "code",
   "execution_count": null,
   "metadata": {
    "collapsed": false
   },
   "outputs": [],
   "source": [
    "predicted = 0\n",
    "correct   = 0\n",
    "for i,m in enumerate(marginals):\n",
    "    cid = mn_inv_maps[i][np.argmax(m)]\n",
    "    if cid > 0:\n",
    "        predicted += 1\n",
    "        if cid == L_gold_dev[nz_idxs][i,0]:\n",
    "            correct += 1\n",
    "            \n",
    "prec   = correct / float(predicted)\n",
    "recall = correct / float(N_pos_dev)\n",
    "\n",
    "print \"P:\\t\", prec\n",
    "print \"R:\\t\", recall\n",
    "print \"F1:\\t\", (2*prec*recall) / (prec+recall)"
   ]
  },
  {
   "cell_type": "markdown",
   "metadata": {},
   "source": [
    "# Setup 2: DP LR Pre-filtering"
   ]
  },
  {
   "cell_type": "code",
   "execution_count": null,
   "metadata": {
    "collapsed": false
   },
   "outputs": [],
   "source": [
    "from snorkel.learning import LogReg, NaiveBayes\n",
    "\n",
    "gen_model_b = NaiveBayes()\n",
    "%time gen_model_b.train(L_train_b, n_iter=10000, rate=1e-1, verbose=False)\n",
    "\n",
    "train_marginals = gen_model_b.marginals(L_train_b)\n",
    "\n",
    "disc_model = LogReg()\n",
    "disc_model.train(F_train, train_marginals, n_iter=2000, rate=1e-3, mu=1e-6)"
   ]
  },
  {
   "cell_type": "code",
   "execution_count": null,
   "metadata": {
    "collapsed": false
   },
   "outputs": [],
   "source": [
    "yp = disc_model.predict(F_dev, b=0.5)\n",
    "get_binarized_score(yp, L_gold_dev)"
   ]
  },
  {
   "cell_type": "markdown",
   "metadata": {},
   "source": [
    "# Setup 2.i: Exact Match"
   ]
  },
  {
   "cell_type": "code",
   "execution_count": null,
   "metadata": {
    "collapsed": false
   },
   "outputs": [],
   "source": [
    "correct   = 0\n",
    "predicted = 0\n",
    "total_pos = 0\n",
    "for i,c in enumerate(dev):\n",
    "    if L_gold_dev[i,0] > 0:\n",
    "        total_pos += 1\n",
    "    \n",
    "    # Check for exact *positive* matches to the canonical dictionary\n",
    "    if yp[i] > 0:\n",
    "        p    = c.disease.get_span().lower()\n",
    "        sids = cd.term_to_sids[p]\n",
    "        cids = set([cd.sid_to_cid[sid] for sid in sids if sid in cd.sid_to_cid])\n",
    "        if len(cids) > 0:\n",
    "            predicted += 1\n",
    "            cid = list(cids)[0]\n",
    "            if cid == L_gold_dev[i,0]:\n",
    "                correct += 1\n",
    "\n",
    "prec   = correct / float(predicted)\n",
    "recall = correct / float(total_pos)\n",
    "\n",
    "print \"P:\\t\", prec\n",
    "print \"R:\\t\", recall\n",
    "print \"F1:\\t\", (2*prec*recall) / (prec+recall)"
   ]
  },
  {
   "cell_type": "markdown",
   "metadata": {},
   "source": [
    "# Setup 2.ii: TF-IDF"
   ]
  },
  {
   "cell_type": "code",
   "execution_count": null,
   "metadata": {
    "collapsed": false
   },
   "outputs": [],
   "source": [
    "%%time\n",
    "from entity_norm import CanonDictVectorizer \n",
    "\n",
    "# Create a vectorizer based around this \n",
    "cd_vectorizer = CanonDictVectorizer(cd.term_to_sids, other_phrases=[])\n",
    "\n",
    "# Vectorize the dictionary\n",
    "D_pos   = cd_vectorizer.vectorize_phrases(cd.pos_terms)\n",
    "D_pos_t = D_pos.T\n",
    "D_pos_t"
   ]
  },
  {
   "cell_type": "code",
   "execution_count": null,
   "metadata": {
    "collapsed": false
   },
   "outputs": [],
   "source": [
    "%time best_match = get_pos_vector_matches(dev)"
   ]
  },
  {
   "cell_type": "code",
   "execution_count": null,
   "metadata": {
    "collapsed": false
   },
   "outputs": [],
   "source": [
    "correct   = 0\n",
    "predicted = 0\n",
    "for i,c in enumerate(dev):\n",
    "    if yp[i] > 0:\n",
    "        s, cid = best_match[c.id]\n",
    "        predicted += 1\n",
    "        if cid == L_gold_dev[i,0]:\n",
    "            correct += 1\n",
    "    \n",
    "prec   = correct / float(predicted)\n",
    "recall = correct / float(N_pos_dev)\n",
    "f1     = (2*prec*recall) / (prec+recall)\n",
    "\n",
    "print \"P:\\t\", prec\n",
    "print \"R:\\t\", recall\n",
    "print \"F1:\\t\", f1"
   ]
  },
  {
   "cell_type": "markdown",
   "metadata": {},
   "source": [
    "# Setup 2.iii: Using the Gen. Model directly"
   ]
  },
  {
   "cell_type": "code",
   "execution_count": null,
   "metadata": {
    "collapsed": true
   },
   "outputs": [],
   "source": []
  }
 ],
 "metadata": {
  "kernelspec": {
   "display_name": "Python 2",
   "language": "python",
   "name": "python2"
  },
  "language_info": {
   "codemirror_mode": {
    "name": "ipython",
    "version": 2
   },
   "file_extension": ".py",
   "mimetype": "text/x-python",
   "name": "python",
   "nbconvert_exporter": "python",
   "pygments_lexer": "ipython2",
   "version": "2.7.10"
  }
 },
 "nbformat": 4,
 "nbformat_minor": 0
}
