{
 "cells": [
  {
   "cell_type": "code",
   "execution_count": 1,
   "metadata": {
    "collapsed": false
   },
   "outputs": [],
   "source": [
    "%load_ext autoreload\n",
    "%autoreload 2\n",
    "%matplotlib inline\n",
    "%load_ext line_profiler\n",
    "\n",
    "import numpy as np\n",
    "from snorkel import SnorkelSession\n",
    "session = SnorkelSession()\n",
    "\n",
    "from snorkel.models import candidate_subclass\n",
    "\n",
    "Disease = candidate_subclass('Disease', ['disease'])"
   ]
  },
  {
   "cell_type": "code",
   "execution_count": 2,
   "metadata": {
    "collapsed": false
   },
   "outputs": [
    {
     "name": "stdout",
     "output_type": "stream",
     "text": [
      "28087\n",
      "27896\n"
     ]
    }
   ],
   "source": [
    "from snorkel.models import CandidateSet\n",
    "\n",
    "train = session.query(CandidateSet).filter(CandidateSet.name == 'CDR Training Candidates').one()\n",
    "print len(train)\n",
    "dev = session.query(CandidateSet).filter(CandidateSet.name == 'CDR Development Candidates').one()\n",
    "print len(dev)"
   ]
  },
  {
   "cell_type": "code",
   "execution_count": 3,
   "metadata": {
    "collapsed": false
   },
   "outputs": [
    {
     "name": "stdout",
     "output_type": "stream",
     "text": [
      "(28087, 1)\n",
      "(27896, 1)\n"
     ]
    }
   ],
   "source": [
    "from snorkel.annotations import LabelManager\n",
    "\n",
    "label_manager = LabelManager()\n",
    "\n",
    "L_gold_train = label_manager.load(session, train, \"CDR Training Label Set\")\n",
    "print L_gold_train.shape\n",
    "L_gold_dev = label_manager.load(session, dev, \"CDR Development Label Set\")\n",
    "print L_gold_dev.shape"
   ]
  },
  {
   "cell_type": "markdown",
   "metadata": {},
   "source": [
    "# Load `L_train` and `L_dev`"
   ]
  },
  {
   "cell_type": "code",
   "execution_count": 4,
   "metadata": {
    "collapsed": false
   },
   "outputs": [
    {
     "name": "stdout",
     "output_type": "stream",
     "text": [
      "(28087, 1645)\n",
      "(27896, 1557)\n",
      "CPU times: user 21.3 s, sys: 712 ms, total: 22 s\n",
      "Wall time: 21.9 s\n"
     ]
    }
   ],
   "source": [
    "%%time\n",
    "from snorkel.annotations import merge_annotations\n",
    "from utils import binarize_LF_matrix, get_binarized_score\n",
    "\n",
    "L_TRAIN_BLOCKS = ['1', '2', '3', '4.1', '4 T2', '4 N', '5', '6']\n",
    "L_DEV_BLOCKS   = ['1', '2', '3.1', '4', '4 T2', '4 N', '5', '6']\n",
    "\n",
    "L_train_blocks = [label_manager.load(session, train, 'LF Training Labels %s' % lfn) for lfn in L_TRAIN_BLOCKS]\n",
    "L_dev_blocks   = [label_manager.load(session, dev, 'LF Development Labels %s' % lfn) for lfn in L_DEV_BLOCKS]\n",
    "\n",
    "L_train   = merge_annotations(L_train_blocks)\n",
    "L_train_b = binarize_LF_matrix(L_train)\n",
    "L_dev     = merge_annotations(L_dev_blocks)\n",
    "L_dev_b   = binarize_LF_matrix(L_dev)\n",
    "print L_train.shape\n",
    "print L_dev.shape"
   ]
  },
  {
   "cell_type": "markdown",
   "metadata": {},
   "source": [
    "# Load `F_train` and `F_dev`"
   ]
  },
  {
   "cell_type": "code",
   "execution_count": 5,
   "metadata": {
    "collapsed": false
   },
   "outputs": [
    {
     "name": "stdout",
     "output_type": "stream",
     "text": [
      "(28087, 69885)\n",
      "(27896, 69885)\n",
      "CPU times: user 35.4 s, sys: 3.16 s, total: 38.6 s\n",
      "Wall time: 38.4 s\n"
     ]
    }
   ],
   "source": [
    "%%time\n",
    "from snorkel.annotations import FeatureManager\n",
    "\n",
    "feature_manager = FeatureManager()\n",
    "\n",
    "F_train = feature_manager.load(session, train, 'Train Features')\n",
    "F_dev   = feature_manager.load(session, dev, 'Train Features')\n",
    "print F_train.shape\n",
    "print F_dev.shape"
   ]
  },
  {
   "cell_type": "markdown",
   "metadata": {},
   "source": [
    "# Load canonical & secondary dictionaries"
   ]
  },
  {
   "cell_type": "code",
   "execution_count": 283,
   "metadata": {
    "collapsed": false
   },
   "outputs": [],
   "source": [
    "from cPickle import load\n",
    "cd = load(open('cd.pkl', 'rb'))"
   ]
  },
  {
   "cell_type": "markdown",
   "metadata": {},
   "source": [
    "# Setup 2: DP LR Pre-filtering"
   ]
  },
  {
   "cell_type": "code",
   "execution_count": 7,
   "metadata": {
    "collapsed": false
   },
   "outputs": [
    {
     "name": "stderr",
     "output_type": "stream",
     "text": [
      "/usr/lib/pymodules/python2.7/matplotlib/__init__.py:1173: UserWarning:  This call to matplotlib.use() has no effect\n",
      "because the backend has already been chosen;\n",
      "matplotlib.use() must be called *before* pylab, matplotlib.pyplot,\n",
      "or matplotlib.backends is imported for the first time.\n",
      "\n",
      "  warnings.warn(_use_error_msg)\n"
     ]
    },
    {
     "name": "stdout",
     "output_type": "stream",
     "text": [
      "================================================================================\n",
      "Training marginals (!= 0.5):\t28087\n",
      "Features:\t\t\t1645\n",
      "================================================================================\n",
      "CPU times: user 28 s, sys: 28 ms, total: 28 s\n",
      "Wall time: 28 s\n",
      "================================================================================\n",
      "Training marginals (!= 0.5):\t20038\n",
      "Features:\t\t\t69885\n",
      "================================================================================\n",
      "Using gradient descent...\n",
      "\tLearning epoch = 0\tStep size = 0.001\n",
      "\tLoss = 13889.283204\tGradient magnitude = 9832.035530\n",
      "\tLearning epoch = 100\tStep size = 0.000904792147114\n",
      "\tLoss = 3078.241784\tGradient magnitude = 379.275662\n",
      "\tLearning epoch = 200\tStep size = 0.000818648829479\n",
      "\tLoss = 2894.743086\tGradient magnitude = 1296.907839\n",
      "\tLearning epoch = 300\tStep size = 0.000740707032156\n",
      "\tLoss = 2494.032915\tGradient magnitude = 297.457588\n",
      "\tLearning epoch = 400\tStep size = 0.000670185906007\n",
      "\tLoss = 2394.454863\tGradient magnitude = 31.977057\n",
      "\tLearning epoch = 500\tStep size = 0.000606378944861\n",
      "\tLoss = 2337.136536\tGradient magnitude = 28.324998\n",
      "\tLearning epoch = 600\tStep size = 0.000548646907485\n",
      "\tLoss = 2295.414531\tGradient magnitude = 25.754725\n",
      "\tLearning epoch = 700\tStep size = 0.000496411413431\n",
      "\tLoss = 2263.718238\tGradient magnitude = 23.827790\n",
      "\tLearning epoch = 800\tStep size = 0.00044914914861\n",
      "\tLoss = 2238.906221\tGradient magnitude = 22.330616\n",
      "\tLearning epoch = 900\tStep size = 0.000406386622545\n",
      "\tLoss = 2219.038251\tGradient magnitude = 21.137956\n",
      "\tLearning epoch = 1000\tStep size = 0.000367695424771\n",
      "\tLoss = 2202.843808\tGradient magnitude = 20.169672\n",
      "\tLearning epoch = 1100\tStep size = 0.000332687932862\n",
      "\tLoss = 2189.454311\tGradient magnitude = 19.371671\n",
      "\tLearning epoch = 1200\tStep size = 0.000301013429093\n",
      "\tLoss = 2178.254659\tGradient magnitude = 18.705967\n",
      "\tLearning epoch = 1300\tStep size = 0.000272354586819\n",
      "\tLoss = 2168.796602\tGradient magnitude = 18.145076\n",
      "\tLearning epoch = 1400\tStep size = 0.000246424291385\n",
      "\tLoss = 2160.745394\tGradient magnitude = 17.668571\n",
      "\tLearning epoch = 1500\tStep size = 0.000222962763703\n",
      "\tLoss = 2153.845745\tGradient magnitude = 17.260959\n",
      "\tLearning epoch = 1600\tStep size = 0.000201734957697\n",
      "\tLoss = 2147.899787\tGradient magnitude = 16.910263\n",
      "\tLearning epoch = 1700\tStep size = 0.000182528205523\n",
      "\tLoss = 2142.751331\tGradient magnitude = 16.607075\n",
      "\tLearning epoch = 1800\tStep size = 0.000165150086984\n",
      "\tLoss = 2138.275687\tGradient magnitude = 16.343897\n",
      "\tLearning epoch = 1900\tStep size = 0.000149426501798\n",
      "\tLoss = 2134.372054\tGradient magnitude = 16.114692\n"
     ]
    }
   ],
   "source": [
    "from snorkel.learning import LogReg, NaiveBayes\n",
    "\n",
    "gen_model_b = NaiveBayes()\n",
    "%time gen_model_b.train(L_train_b, n_iter=10000, rate=1e-1, verbose=False)\n",
    "\n",
    "train_marginals = gen_model_b.marginals(L_train_b)\n",
    "\n",
    "disc_model = LogReg()\n",
    "disc_model.train(F_train, train_marginals, n_iter=2000, rate=1e-3, mu=1e-6)"
   ]
  },
  {
   "cell_type": "code",
   "execution_count": 8,
   "metadata": {
    "collapsed": false
   },
   "outputs": [
    {
     "name": "stdout",
     "output_type": "stream",
     "text": [
      "P :\t0.838600797791\n",
      "R :\t0.687374245473\n",
      "F1:\t0.755494125777\n"
     ]
    }
   ],
   "source": [
    "yp = disc_model.predict(F_dev, b=0.5)\n",
    "get_binarized_score(yp, L_gold_dev)"
   ]
  },
  {
   "cell_type": "markdown",
   "metadata": {},
   "source": [
    "# Setup 2.i: Exact Match"
   ]
  },
  {
   "cell_type": "code",
   "execution_count": null,
   "metadata": {
    "collapsed": false
   },
   "outputs": [],
   "source": [
    "from utils import get_mn_score\n",
    "\n",
    "N = L_gold_dev.shape[0]\n",
    "\n",
    "# Check for exact *positive* matches to the canonical dictionary\n",
    "exact_match_predictions = -1 * np.ones(N)\n",
    "for i,c in enumerate(dev):\n",
    "    if yp[i] > 0:\n",
    "        p    = c.disease.get_span().lower()\n",
    "        sids = cd.term_to_sids[p]\n",
    "        cids = set([cd.sid_to_cid[sid] for sid in sids if sid in cd.sid_to_cid])\n",
    "        if len(cids) > 0:\n",
    "            exact_match_predictions[i] = list(cids)[0]\n",
    "\n",
    "get_mn_score(exact_match_predictions, L_gold_dev)"
   ]
  },
  {
   "cell_type": "markdown",
   "metadata": {},
   "source": [
    "# Setup 2.ii: TF-IDF"
   ]
  },
  {
   "cell_type": "code",
   "execution_count": 17,
   "metadata": {
    "collapsed": false
   },
   "outputs": [
    {
     "name": "stdout",
     "output_type": "stream",
     "text": [
      "|V| = 271512\n",
      "CPU times: user 47.9 s, sys: 3.52 s, total: 51.5 s\n",
      "Wall time: 51.1 s\n"
     ]
    }
   ],
   "source": [
    "%%time\n",
    "from entity_norm import CanonDictVectorizer \n",
    "\n",
    "# Create a vectorizer based around this \n",
    "cd_vectorizer = CanonDictVectorizer(cd.term_to_sids, other_phrases=[])\n",
    "\n",
    "# Vectorize the dictionary\n",
    "D_pos = cd_vectorizer.vectorize_phrases(cd.pos_terms)\n",
    "D_pos"
   ]
  },
  {
   "cell_type": "code",
   "execution_count": null,
   "metadata": {
    "collapsed": false
   },
   "outputs": [],
   "source": [
    "from utils import get_pos_vector_matches\n",
    "%time best_match = get_pos_vector_matches(dev, cd, cd_vectorizer, D_pos)"
   ]
  },
  {
   "cell_type": "code",
   "execution_count": null,
   "metadata": {
    "collapsed": false
   },
   "outputs": [],
   "source": [
    "predicted = [best_match[c.id][1] if yp[i] > 0 else -1 for i,c in enumerate(dev)]\n",
    "get_mn_score(predicted, L_gold_dev)"
   ]
  },
  {
   "cell_type": "markdown",
   "metadata": {},
   "source": [
    "# Setup 2.iii: Using the Gen. Model directly"
   ]
  },
  {
   "cell_type": "markdown",
   "metadata": {},
   "source": [
    "Only consider the points predicted positive by the discriminative model:"
   ]
  },
  {
   "cell_type": "code",
   "execution_count": null,
   "metadata": {
    "collapsed": false
   },
   "outputs": [],
   "source": [
    "from snorkel.learning.learning_mn import assemble_mn_format, LogReg\n",
    "\n",
    "Xs, mn_maps, mn_inv_maps, nz_idxs = assemble_mn_format(L_dev, mask=yp)\n",
    "\n",
    "gen_model = LogReg()\n",
    "gen_model.train(Xs, n_iter=100, rate=1e-2, w0=np.ones(L_dev.shape[1]))"
   ]
  },
  {
   "cell_type": "code",
   "execution_count": null,
   "metadata": {
    "collapsed": false
   },
   "outputs": [],
   "source": [
    "N_pos_dev = sum([1 for i in range(L_gold_dev.shape[0]) if L_gold_dev[i,0] > 0])\n",
    "predicted = [mn_inv_maps[i][np.argmax(m)] for i,m in enumerate(gen_model.marginals(Xs))]\n",
    "get_mn_score(predicted, L_gold_dev[nz_idxs], N_total_pos=N_pos_dev)"
   ]
  },
  {
   "cell_type": "markdown",
   "metadata": {},
   "source": [
    "# Setup 2.iv: SSI"
   ]
  },
  {
   "cell_type": "markdown",
   "metadata": {},
   "source": [
    "### Step 1:\n",
    "\n",
    "We used the discriminative model, trained using the training_marginals from the binary gen model over the training set, to filter both the training and test sets to predicted positives"
   ]
  },
  {
   "cell_type": "code",
   "execution_count": 9,
   "metadata": {
    "collapsed": false
   },
   "outputs": [
    {
     "name": "stdout",
     "output_type": "stream",
     "text": [
      "P :\t0.845507246377\n",
      "R :\t0.753746770026\n",
      "F1:\t0.796994535519\n"
     ]
    }
   ],
   "source": [
    "yp_d_train = disc_model.predict(F_train, b=0.5)\n",
    "get_binarized_score(yp_d_train, L_gold_train)"
   ]
  },
  {
   "cell_type": "code",
   "execution_count": 10,
   "metadata": {
    "collapsed": false
   },
   "outputs": [
    {
     "name": "stdout",
     "output_type": "stream",
     "text": [
      "P :\t0.838600797791\n",
      "R :\t0.687374245473\n",
      "F1:\t0.755494125777\n"
     ]
    }
   ],
   "source": [
    "yp_d_dev = disc_model.predict(F_dev, b=0.5)\n",
    "get_binarized_score(yp_d_dev, L_gold_dev)"
   ]
  },
  {
   "cell_type": "markdown",
   "metadata": {},
   "source": [
    "### Step 2:\n",
    "\n",
    "We run the multinomial generative model over the training set"
   ]
  },
  {
   "cell_type": "code",
   "execution_count": null,
   "metadata": {
    "collapsed": false
   },
   "outputs": [],
   "source": [
    "from snorkel.learning.learning_mn import assemble_mn_format, LogReg\n",
    "\n",
    "Xs, mn_maps, mn_inv_maps, nz_idxs = assemble_mn_format(L_train) #mask=yp_d_train)\n",
    "gen_model = LogReg()\n",
    "gen_model.train(Xs, n_iter=100, rate=1e-2, w0=np.ones(L_train.shape[1]))"
   ]
  },
  {
   "cell_type": "code",
   "execution_count": null,
   "metadata": {
    "collapsed": false
   },
   "outputs": [],
   "source": [
    "from utils import get_mn_score\n",
    "\n",
    "N_pos_train     = sum([1 for i in range(L_gold_train.shape[0]) if L_gold_train[i,0] > 0])\n",
    "train_marginals = gen_model.marginals(Xs)\n",
    "predicted       = [mn_inv_maps[i][np.argmax(m)] for i,m in enumerate(train_marginals)]\n",
    "get_mn_score(predicted, L_gold_train[nz_idxs], N_total_pos=N_pos_train)"
   ]
  },
  {
   "cell_type": "code",
   "execution_count": 18,
   "metadata": {
    "collapsed": false
   },
   "outputs": [
    {
     "data": {
      "text/plain": [
       "<2896x271513 sparse matrix of type '<type 'numpy.float64'>'\n",
       "\twith 5984 stored elements in Compressed Sparse Row format>"
      ]
     },
     "execution_count": 18,
     "metadata": {},
     "output_type": "execute_result"
    }
   ],
   "source": [
    "X_train = cd_vectorizer.vectorize_phrases([train[i].disease.get_span().lower() for i in nz_idxs])\n",
    "X_train"
   ]
  },
  {
   "cell_type": "markdown",
   "metadata": {},
   "source": [
    "## TODO: Why such a big gap between len(tm) and N???"
   ]
  },
  {
   "cell_type": "code",
   "execution_count": 20,
   "metadata": {
    "collapsed": false
   },
   "outputs": [
    {
     "data": {
      "text/plain": [
       "2896"
      ]
     },
     "execution_count": 20,
     "metadata": {},
     "output_type": "execute_result"
    }
   ],
   "source": [
    "len(train_marginals)"
   ]
  },
  {
   "cell_type": "markdown",
   "metadata": {},
   "source": [
    "### Step 3:\n",
    "\n",
    "We construct the training marginals as sparse matrix"
   ]
  },
  {
   "cell_type": "code",
   "execution_count": 21,
   "metadata": {
    "collapsed": false
   },
   "outputs": [
    {
     "data": {
      "text/plain": [
       "<2896x4790 sparse matrix of type '<type 'numpy.float64'>'\n",
       "\twith 4556 stored elements in Compressed Sparse Row format>"
      ]
     },
     "execution_count": 21,
     "metadata": {},
     "output_type": "execute_result"
    }
   ],
   "source": [
    "from scipy.sparse import lil_matrix\n",
    "\n",
    "Np = len(train_marginals)\n",
    "K  = len(set(cd.sid_to_cid.values()))\n",
    "Y  = lil_matrix((Np, K))\n",
    "\n",
    "for i in range(Np):\n",
    "    for j in range(len(train_marginals[i])):\n",
    "        Y[i, int(mn_inv_maps[i][j])] = train_marginals[i][j]\n",
    "Y = Y.tocsr()\n",
    "Y"
   ]
  },
  {
   "cell_type": "markdown",
   "metadata": {},
   "source": [
    "### Step 4:\n",
    "\n",
    "We train the SSI model using the training marginals"
   ]
  },
  {
   "cell_type": "code",
   "execution_count": 22,
   "metadata": {
    "collapsed": false
   },
   "outputs": [],
   "source": [
    "#cids = [cd.sid_to_cid[list(sid for sid in cd.term_to_sids[t] if sid in cd.sid_to_cid)[0]] for t in cd.pos_terms]"
   ]
  },
  {
   "cell_type": "code",
   "execution_count": 219,
   "metadata": {
    "collapsed": true
   },
   "outputs": [],
   "source": [
    "cid_sets = [set([cd.sid_to_cid[sid] for sid in cd.term_to_sids[t] if sid in cd.sid_to_cid]) for t in cd.pos_terms]"
   ]
  },
  {
   "cell_type": "code",
   "execution_count": 220,
   "metadata": {
    "collapsed": false
   },
   "outputs": [
    {
     "data": {
      "text/plain": [
       "defaultdict(int, {1: 63394, 2: 395, 3: 4, 7: 1})"
      ]
     },
     "execution_count": 220,
     "metadata": {},
     "output_type": "execute_result"
    }
   ],
   "source": [
    "from collections import defaultdict\n",
    "counts = defaultdict(int)\n",
    "for cid in cids:\n",
    "    counts[len(cid)] += 1\n",
    "counts"
   ]
  },
  {
   "cell_type": "code",
   "execution_count": 239,
   "metadata": {
    "collapsed": false
   },
   "outputs": [],
   "source": [
    "from entity_norm import SSIModel\n",
    "\n",
    "model = SSIModel(D_pos, cid_sets)"
   ]
  },
  {
   "cell_type": "code",
   "execution_count": null,
   "metadata": {
    "collapsed": false
   },
   "outputs": [],
   "source": [
    "%lprun -f model.train model.train(X_train, Y, rate=1e-2, n_iter=5, n_iter_sample=5)"
   ]
  },
  {
   "cell_type": "code",
   "execution_count": 251,
   "metadata": {
    "collapsed": false
   },
   "outputs": [
    {
     "name": "stdout",
     "output_type": "stream",
     "text": [
      "Iteration: 0\n",
      "\t0\n",
      "\n",
      "d= 1.0\n",
      "i: 2592\n",
      "cid: 2692\n",
      "p: 56562\n",
      "n: 56554\n",
      "\n",
      "\n",
      "d= 1.0\n",
      "i: 2592\n",
      "cid: 2692\n",
      "p: 56562\n",
      "n: 56554\n",
      "\n",
      "\n",
      "d= 1.0\n",
      "i: 2592\n",
      "cid: 2692\n",
      "p: 56562\n",
      "n: 56554\n",
      "\n",
      "\n",
      "d= 1.0\n",
      "i: 2592\n",
      "cid: 2692\n",
      "p: 56562\n",
      "n: 56554\n",
      "\n",
      "\n",
      "d= 1.0\n",
      "i: 2592\n",
      "cid: 2692\n",
      "p: 56562\n",
      "n: 56554\n",
      "\n",
      "\n",
      "d= 0.803030180745\n",
      "i: 308\n",
      "cid: 2765\n",
      "p: 17189\n",
      "n: 24022\n",
      "\n",
      "\n",
      "d= 0.802823511649\n",
      "i: 308\n",
      "cid: 2765\n",
      "p: 17189\n",
      "n: 24022\n",
      "\n",
      "\n",
      "d= 0.802616842552\n",
      "i: 308\n",
      "cid: 2765\n",
      "p: 17189\n",
      "n: 24022\n",
      "\n",
      "\n",
      "d= 0.802410173455\n",
      "i: 308\n",
      "cid: 2765\n",
      "p: 17189\n",
      "n: 24022\n",
      "\n",
      "\n",
      "d= 0.802203504359\n",
      "i: 308\n",
      "cid: 2765\n",
      "p: 17189\n",
      "n: 24022\n",
      "\n",
      "\n",
      "d= 0.44542600017\n",
      "i: 489\n",
      "cid: 1891\n",
      "p: 11910\n",
      "n: 53053\n",
      "\n",
      "\n",
      "d= 0.444794712447\n",
      "i: 489\n",
      "cid: 1891\n",
      "p: 11910\n",
      "n: 53053\n",
      "\n",
      "\n",
      "d= 0.444163424724\n",
      "i: 489\n",
      "cid: 1891\n",
      "p: 11910\n",
      "n: 53053\n",
      "\n",
      "\n",
      "d= 0.443532137\n",
      "i: 489\n",
      "cid: 1891\n",
      "p: 11910\n",
      "n: 53053\n",
      "\n",
      "\n",
      "d= 0.442900849277\n",
      "i: 489\n",
      "cid: 1891\n",
      "p: 11910\n",
      "n: 53053\n",
      "\n",
      "\n",
      "d= 0.501950826921\n",
      "i: 1878\n",
      "cid: 2036\n",
      "p: 13031\n",
      "n: 60660\n",
      "\n",
      "\n",
      "d= 0.501262672303\n",
      "i: 1878\n",
      "cid: 2036\n",
      "p: 13031\n",
      "n: 60660\n",
      "\n",
      "\n",
      "d= 0.500574517685\n",
      "i: 1878\n",
      "cid: 2036\n",
      "p: 13031\n",
      "n: 60660\n",
      "\n",
      "\n",
      "d= 0.499886363068\n",
      "i: 1878\n",
      "cid: 2036\n",
      "p: 13031\n",
      "n: 60660\n",
      "\n",
      "\n",
      "d= 0.49919820845\n",
      "i: 1878\n",
      "cid: 2036\n",
      "p: 13031\n",
      "n: 60660\n",
      "\n",
      "\n",
      "d= 1.45645506658\n",
      "i: 617\n",
      "cid: 885\n",
      "p: 5440\n",
      "n: 24094\n",
      "\n",
      "\n",
      "d= 1.4559473972\n",
      "i: 617\n",
      "cid: 885\n",
      "p: 5440\n",
      "n: 24094\n",
      "\n",
      "\n",
      "d= 1.45543972782\n",
      "i: 617\n",
      "cid: 885\n",
      "p: 5440\n",
      "n: 24094\n",
      "\n",
      "\n",
      "d= 0.54506794156\n",
      "i: 617\n",
      "cid: 3848\n",
      "p: 24094\n",
      "n: 5440\n",
      "\n",
      "\n",
      "d= 0.54456027218\n",
      "i: 617\n",
      "cid: 3848\n",
      "p: 24094\n",
      "n: 5440\n",
      "\n",
      "\n",
      "d= 0.0127824354295\n",
      "i: 2608\n",
      "cid: 4785\n",
      "p: 30658\n",
      "n: 25\n",
      "\n",
      "\n",
      "d= 0.0105394892857\n",
      "i: 2608\n",
      "cid: 4785\n",
      "p: 30658\n",
      "n: 25\n",
      "\n",
      "\n",
      "d= 0.0082965431419\n",
      "i: 2608\n",
      "cid: 4785\n",
      "p: 30658\n",
      "n: 25\n",
      "\n",
      "\n",
      "d= 0.00605359699807\n",
      "i: 2608\n",
      "cid: 4785\n",
      "p: 30658\n",
      "n: 25\n",
      "\n",
      "\n",
      "d= 0.00381065085424\n",
      "i: 2608\n",
      "cid: 4785\n",
      "p: 30658\n",
      "n: 25\n",
      "\n",
      "\n",
      "d= 0.859796882378\n",
      "i: 2362\n",
      "cid: 2475\n",
      "p: 15550\n",
      "n: 41301\n",
      "\n",
      "\n",
      "d= 0.859532389085\n",
      "i: 2362\n",
      "cid: 2475\n",
      "p: 15550\n",
      "n: 41301\n",
      "\n",
      "\n",
      "d= 0.859267895793\n",
      "i: 2362\n",
      "cid: 2475\n",
      "p: 15550\n",
      "n: 41301\n",
      "\n",
      "\n",
      "d= 0.8590034025\n",
      "i: 2362\n",
      "cid: 2475\n",
      "p: 15550\n",
      "n: 41301\n",
      "\n",
      "\n",
      "d= 0.858738909207\n",
      "i: 2362\n",
      "cid: 2475\n",
      "p: 15550\n",
      "n: 41301\n",
      "\n",
      "\n",
      "d= 1.19911115965\n",
      "i: 2303\n",
      "cid: 1271\n",
      "p: 7927\n",
      "n: 20487\n",
      "\n",
      "\n",
      "d= 0.860070826877\n",
      "i: 2303\n",
      "cid: 3266\n",
      "p: 20487\n",
      "n: 52662\n",
      "\n",
      "\n",
      "d= 0.859195246425\n",
      "i: 2303\n",
      "cid: 3266\n",
      "p: 20487\n",
      "n: 52662\n",
      "\n",
      "\n",
      "d= 0.858319665972\n",
      "i: 2303\n",
      "cid: 3266\n",
      "p: 20487\n",
      "n: 52662\n",
      "\n",
      "\n",
      "d= 0.857444085519\n",
      "i: 2303\n",
      "cid: 3266\n",
      "p: 20487\n",
      "n: 52662\n",
      "\n",
      "\n",
      "d= 0.550106853656\n",
      "i: 2600\n",
      "cid: 3610\n",
      "p: 22188\n",
      "n: 40715\n",
      "\n",
      "\n",
      "d= 0.549510603039\n",
      "i: 2600\n",
      "cid: 3610\n",
      "p: 22188\n",
      "n: 40715\n",
      "\n",
      "\n",
      "d= 0.548914352421\n",
      "i: 2600\n",
      "cid: 3610\n",
      "p: 22188\n",
      "n: 40715\n",
      "\n",
      "\n",
      "d= 0.548318101803\n",
      "i: 2600\n",
      "cid: 3610\n",
      "p: 22188\n",
      "n: 40715\n",
      "\n",
      "\n",
      "d= 0.547721851185\n",
      "i: 2600\n",
      "cid: 3610\n",
      "p: 22188\n",
      "n: 40715\n",
      "\n",
      "\n",
      "d= 0.657250055263\n",
      "i: 1213\n",
      "cid: 2138\n",
      "p: 13606\n",
      "n: 23772\n",
      "\n",
      "\n",
      "d= 0.656779351069\n",
      "i: 1213\n",
      "cid: 2138\n",
      "p: 13606\n",
      "n: 23772\n",
      "\n",
      "\n",
      "d= 0.656308646875\n",
      "i: 1213\n",
      "cid: 2138\n",
      "p: 13606\n",
      "n: 23772\n",
      "\n",
      "\n",
      "d= 0.655837942681\n",
      "i: 1213\n",
      "cid: 2138\n",
      "p: 13606\n",
      "n: 23772\n",
      "\n",
      "\n",
      "d= 0.655367238486\n",
      "i: 1213\n",
      "cid: 2138\n",
      "p: 13606\n",
      "n: 23772\n",
      "\n",
      "\n",
      "d= 0.570776772374\n",
      "i: 577\n",
      "cid: 2546\n",
      "p: 15916\n",
      "n: 15926\n",
      "\n",
      "\n",
      "d= 0.570303532042\n",
      "i: 577\n",
      "cid: 2546\n",
      "p: 15916\n",
      "n: 15926\n",
      "\n",
      "\n",
      "d= 0.56983029171\n",
      "i: 577\n",
      "cid: 2546\n",
      "p: 15916\n",
      "n: 15926\n",
      "\n",
      "\n",
      "d= 0.569357051378\n",
      "i: 577\n",
      "cid: 2546\n",
      "p: 15916\n",
      "n: 15926\n",
      "\n",
      "\n",
      "d= 0.568883811046\n",
      "i: 577\n",
      "cid: 2546\n",
      "p: 15916\n",
      "n: 15926\n",
      "\n",
      "\n",
      "d= 0.318155100899\n",
      "i: 384\n",
      "cid: 2876\n",
      "p: 17710\n",
      "n: 25764\n",
      "\n",
      "\n",
      "d= 0.317157175001\n",
      "i: 384\n",
      "cid: 2876\n",
      "p: 17710\n",
      "n: 25764\n",
      "\n",
      "\n",
      "d= 0.316159249103\n",
      "i: 384\n",
      "cid: 2876\n",
      "p: 17710\n",
      "n: 25764\n",
      "\n",
      "\n",
      "d= 0.315161323205\n",
      "i: 384\n",
      "cid: 2876\n",
      "p: 17710\n",
      "n: 25764\n",
      "\n",
      "\n",
      "d= 0.314163397306\n",
      "i: 384\n",
      "cid: 2876\n",
      "p: 17710\n",
      "n: 25764\n",
      "\n",
      "\n",
      "d= 0.743375896145\n",
      "i: 2283\n",
      "cid: 253\n",
      "p: 1555\n",
      "n: 1538\n",
      "\n",
      "\n",
      "d= 0.743104338343\n",
      "i: 2283\n",
      "cid: 253\n",
      "p: 1555\n",
      "n: 1538\n",
      "\n",
      "\n",
      "d= 0.74283278054\n",
      "i: 2283\n",
      "cid: 253\n",
      "p: 1555\n",
      "n: 1538\n",
      "\n",
      "\n",
      "d= 0.742561222738\n",
      "i: 2283\n",
      "cid: 253\n",
      "p: 1555\n",
      "n: 1538\n",
      "\n",
      "\n",
      "d= 0.742289664935\n",
      "i: 2283\n",
      "cid: 253\n",
      "p: 1555\n",
      "n: 1538\n",
      "\n",
      "\n",
      "d= 0.410913373602\n",
      "i: 42\n",
      "cid: 500\n",
      "p: 35487\n",
      "n: 24526\n",
      "\n",
      "\n",
      "d= 0.410241800727\n",
      "i: 42\n",
      "cid: 500\n",
      "p: 35487\n",
      "n: 24526\n",
      "\n",
      "\n",
      "d= 0.409570227852\n",
      "i: 42\n",
      "cid: 500\n",
      "p: 35487\n",
      "n: 24526\n",
      "\n",
      "\n",
      "d= 0.408898654976\n",
      "i: 42\n",
      "cid: 500\n",
      "p: 35487\n",
      "n: 24526\n",
      "\n",
      "\n",
      "d= 0.408227082101\n",
      "i: 42\n",
      "cid: 500\n",
      "p: 35487\n",
      "n: 24526\n",
      "\n",
      "\n",
      "d= 1.19986672896\n",
      "i: 49\n",
      "cid: 488\n",
      "p: 62226\n",
      "n: 58508\n",
      "\n",
      "\n",
      "d= 1.13492303331\n",
      "i: 49\n",
      "cid: 3170\n",
      "p: 59561\n",
      "n: 58508\n",
      "\n",
      "\n",
      "d= 1.19887177566\n",
      "i: 49\n",
      "cid: 488\n",
      "p: 62226\n",
      "n: 58508\n",
      "\n",
      "\n",
      "d= 1.19815741204\n",
      "i: 49\n",
      "cid: 488\n",
      "p: 62226\n",
      "n: 58508\n",
      "\n",
      "\n",
      "d= 1.19744304841\n",
      "i: 49\n",
      "cid: 488\n",
      "p: 62226\n",
      "n: 58508\n",
      "\n",
      "\n",
      "d= 0.275835815227\n",
      "i: 2715\n",
      "cid: 56\n",
      "p: 245\n",
      "n: 271\n",
      "\n",
      "\n",
      "d= 0.274851125577\n",
      "i: 2715\n",
      "cid: 56\n",
      "p: 245\n",
      "n: 271\n",
      "\n",
      "\n",
      "d= 0.273866435927\n",
      "i: 2715\n",
      "cid: 56\n",
      "p: 245\n",
      "n: 271\n",
      "\n",
      "\n",
      "d= 0.272881746277\n",
      "i: 2715\n",
      "cid: 56\n",
      "p: 245\n",
      "n: 271\n",
      "\n",
      "\n",
      "d= 0.271897056627\n",
      "i: 2715\n",
      "cid: 56\n",
      "p: 245\n",
      "n: 271\n",
      "\n",
      "\n",
      "d= 1.07362495276\n",
      "i: 2311\n",
      "cid: 1271\n",
      "p: 7927\n",
      "n: 28341\n",
      "\n",
      "\n",
      "d= 1.07293058524\n",
      "i: 2311\n",
      "cid: 1271\n",
      "p: 7927\n",
      "n: 28341\n",
      "\n",
      "\n",
      "d= 1.07223621772\n",
      "i: 2311\n",
      "cid: 1271\n",
      "p: 7927\n",
      "n: 28341\n",
      "\n",
      "\n",
      "d= 1.0715418502\n",
      "i: 2311\n",
      "cid: 1271\n",
      "p: 7927\n",
      "n: 28341\n",
      "\n",
      "\n",
      "d= 1.07084748268\n",
      "i: 2311\n",
      "cid: 1271\n",
      "p: 7927\n",
      "n: 28341\n",
      "\n",
      "\n",
      "d= 0.756152102394\n",
      "i: 912\n",
      "cid: 386\n",
      "p: 2402\n",
      "n: 54586\n",
      "\n",
      "\n",
      "d= 0.755773296875\n",
      "i: 912\n",
      "cid: 386\n",
      "p: 2402\n",
      "n: 54586\n",
      "\n",
      "\n",
      "d= 0.755394491357\n",
      "i: 912\n",
      "cid: 386\n",
      "p: 2402\n",
      "n: 54586\n",
      "\n",
      "\n",
      "d= 0.755015685839\n",
      "i: 912\n",
      "cid: 386\n",
      "p: 2402\n",
      "n: 54586\n",
      "\n",
      "\n",
      "d= 0.75463688032\n",
      "i: 912\n",
      "cid: 386\n",
      "p: 2402\n",
      "n: 54586\n",
      "\n",
      "\n",
      "d= 0.665375806303\n",
      "i: 1562\n",
      "cid: 2065\n",
      "p: 13190\n",
      "n: 12444\n",
      "\n",
      "\n",
      "d= 0.664862550535\n",
      "i: 1562\n",
      "cid: 2065\n",
      "p: 13190\n",
      "n: 12444\n",
      "\n",
      "\n",
      "d= 0.664349294767\n",
      "i: 1562\n",
      "cid: 2065\n",
      "p: 13190\n",
      "n: 12444\n",
      "\n",
      "\n",
      "d= 0.663836038999\n",
      "i: 1562\n",
      "cid: 2065\n",
      "p: 13190\n",
      "n: 12444\n",
      "\n",
      "\n",
      "d= 0.66332278323\n",
      "i: 1562\n",
      "cid: 2065\n",
      "p: 13190\n",
      "n: 12444\n",
      "\n",
      "\n",
      "d= 0.391304750495\n",
      "i: 2790\n",
      "cid: 789\n",
      "p: 4842\n",
      "n: 25033\n",
      "\n",
      "\n",
      "d= 0.390609457496\n",
      "i: 2790\n",
      "cid: 789\n",
      "p: 4842\n",
      "n: 25033\n",
      "\n",
      "\n",
      "d= 0.389914164498\n",
      "i: 2790\n",
      "cid: 789\n",
      "p: 4842\n",
      "n: 25033\n",
      "\n",
      "\n",
      "d= 0.3892188715\n",
      "i: 2790\n",
      "cid: 789\n",
      "p: 4842\n",
      "n: 25033\n",
      "\n",
      "\n",
      "d= 0.388523578501\n",
      "i: 2790\n",
      "cid: 789\n",
      "p: 4842\n",
      "n: 25033\n",
      "\n",
      "\n",
      "d= 1.47237215674\n",
      "i: 1110\n",
      "cid: 4042\n",
      "p: 25846\n",
      "n: 7538\n",
      "\n",
      "\n",
      "d= 1.47184886948\n",
      "i: 1110\n",
      "cid: 4042\n",
      "p: 25846\n",
      "n: 7538\n",
      "\n",
      "\n",
      "d= 0.528674417778\n",
      "i: 1110\n",
      "cid: 1199\n",
      "p: 7538\n",
      "n: 25846\n",
      "\n",
      "\n",
      "d= 0.528151130517\n",
      "i: 1110\n",
      "cid: 1199\n",
      "p: 7538\n",
      "n: 25846\n",
      "\n",
      "\n",
      "d= 0.527627843255\n",
      "i: 1110\n",
      "cid: 1199\n",
      "p: 7538\n",
      "n: 25846\n",
      "\n",
      "\n",
      "d= 1.30654052805\n",
      "i: 299\n",
      "cid: 1519\n",
      "p: 37261\n",
      "n: 14365\n",
      "\n",
      "\n",
      "d= 1.0\n",
      "i: 299\n",
      "cid: 3735\n",
      "p: 22867\n",
      "n: 14365\n",
      "\n",
      "\n",
      "d= 1.0\n",
      "i: 299\n",
      "cid: 2270\n",
      "p: 14365\n",
      "n: 21834\n",
      "\n",
      "\n",
      "d= 1.30610301114\n",
      "i: 299\n",
      "cid: 1437\n",
      "p: 37257\n",
      "n: 14365\n",
      "\n",
      "\n",
      "d= 1.30566549424\n",
      "i: 299\n",
      "cid: 1519\n",
      "p: 37261\n",
      "n: 14365\n",
      "\n",
      "\n",
      "d= 0.422897969792\n",
      "i: 198\n",
      "cid: 1891\n",
      "p: 11907\n",
      "n: 9014\n",
      "\n",
      "\n",
      "d= 0.422243724482\n",
      "i: 198\n",
      "cid: 1891\n",
      "p: 11907\n",
      "n: 9014\n",
      "\n",
      "\n",
      "d= 0.421589479172\n",
      "i: 198\n",
      "cid: 1891\n",
      "p: 11907\n",
      "n: 9014\n",
      "\n",
      "\n",
      "d= 0.420935233861\n",
      "i: 198\n",
      "cid: 1891\n",
      "p: 11907\n",
      "n: 9014\n",
      "\n",
      "\n",
      "d= 0.420280988551\n",
      "i: 198\n",
      "cid: 1891\n",
      "p: 11907\n",
      "n: 9014\n",
      "\n",
      "\n",
      "d= 0.449446095181\n",
      "i: 1152\n",
      "cid: 374\n",
      "p: 2233\n",
      "n: 54874\n",
      "\n",
      "\n",
      "d= 0.448826033695\n",
      "i: 1152\n",
      "cid: 374\n",
      "p: 2233\n",
      "n: 54874\n",
      "\n",
      "\n",
      "d= 0.448205972208\n",
      "i: 1152\n",
      "cid: 374\n",
      "p: 2233\n",
      "n: 54874\n",
      "\n",
      "\n",
      "d= 0.447585910721\n",
      "i: 1152\n",
      "cid: 374\n",
      "p: 2233\n",
      "n: 54874\n",
      "\n",
      "\n",
      "d= 0.446965849234\n",
      "i: 1152\n",
      "cid: 374\n",
      "p: 2233\n",
      "n: 54874\n",
      "\n",
      "\n",
      "d= 0.560717173209\n",
      "i: 2861\n",
      "cid: 1420\n",
      "p: 8769\n",
      "n: 15711\n",
      "\n",
      "\n",
      "d= 0.560234791262\n",
      "i: 2861\n",
      "cid: 1420\n",
      "p: 8769\n",
      "n: 15711\n",
      "\n",
      "\n",
      "d= 0.559752409316\n",
      "i: 2861\n",
      "cid: 1420\n",
      "p: 8769\n",
      "n: 15711\n",
      "\n",
      "\n",
      "d= 0.559270027369\n",
      "i: 2861\n",
      "cid: 1420\n",
      "p: 8769\n",
      "n: 15711\n",
      "\n",
      "\n",
      "d= 0.558787645423\n",
      "i: 2861\n",
      "cid: 1420\n",
      "p: 8769\n",
      "n: 15711\n",
      "\n",
      "\n",
      "d= 0.776505234141\n",
      "i: 1224\n",
      "cid: 2114\n",
      "p: 13480\n",
      "n: 13486\n",
      "\n",
      "\n",
      "d= 0.776257348985\n",
      "i: 1224\n",
      "cid: 2114\n",
      "p: 13480\n",
      "n: 13486\n",
      "\n",
      "\n",
      "d= 0.776009463829\n",
      "i: 1224\n",
      "cid: 2114\n",
      "p: 13480\n",
      "n: 13486\n",
      "\n",
      "\n",
      "d= 0.775761578673\n",
      "i: 1224\n",
      "cid: 2114\n",
      "p: 13480\n",
      "n: 13486\n",
      "\n",
      "\n",
      "d= 0.775513693518\n",
      "i: 1224\n",
      "cid: 2114\n",
      "p: 13480\n",
      "n: 13486\n",
      "\n",
      "\n",
      "d= 0.642777129739\n",
      "i: 2709\n",
      "cid: 2292\n",
      "p: 14487\n",
      "n: 20476\n",
      "\n",
      "\n",
      "d= 0.642392385131\n",
      "i: 2709\n",
      "cid: 2292\n",
      "p: 14487\n",
      "n: 20476\n",
      "\n",
      "\n",
      "d= 0.642007640523\n",
      "i: 2709\n",
      "cid: 2292\n",
      "p: 14487\n",
      "n: 20476\n",
      "\n",
      "\n",
      "d= 0.641622895914\n",
      "i: 2709\n",
      "cid: 2292\n",
      "p: 14487\n",
      "n: 20476\n",
      "\n",
      "\n",
      "d= 0.641238151306\n",
      "i: 2709\n",
      "cid: 2292\n",
      "p: 14487\n",
      "n: 20476\n",
      "\n",
      "\n",
      "d= 0.710292624176\n",
      "i: 1596\n",
      "cid: 668\n",
      "p: 4134\n",
      "n: 22092\n",
      "\n",
      "\n",
      "d= 0.709870856812\n",
      "i: 1596\n",
      "cid: 668\n",
      "p: 4134\n",
      "n: 22092\n",
      "\n",
      "\n",
      "d= 0.709449089447\n",
      "i: 1596\n",
      "cid: 668\n",
      "p: 4134\n",
      "n: 22092\n",
      "\n",
      "\n",
      "d= 0.709027322083\n",
      "i: 1596\n",
      "cid: 668\n",
      "p: 4134\n",
      "n: 22092\n",
      "\n",
      "\n",
      "d= 0.708605554718\n",
      "i: 1596\n",
      "cid: 668\n",
      "p: 4134\n",
      "n: 22092\n",
      "\n",
      "\n",
      "d= 0.581556852635\n",
      "i: 1027\n",
      "cid: 176\n",
      "p: 1076\n",
      "n: 2980\n",
      "\n",
      "\n",
      "d= 0.581100294883\n",
      "i: 1027\n",
      "cid: 176\n",
      "p: 1076\n",
      "n: 2980\n",
      "\n",
      "\n",
      "d= 1.41935626287\n",
      "i: 1027\n",
      "cid: 493\n",
      "p: 2980\n",
      "n: 1076\n",
      "\n",
      "\n",
      "d= 1.42118218055\n",
      "i: 1027\n",
      "cid: 178\n",
      "p: 62793\n",
      "n: 1076\n",
      "\n",
      "\n",
      "d= 0.581186435694\n",
      "i: 1027\n",
      "cid: 176\n",
      "p: 1076\n",
      "n: 2980\n",
      "\n",
      "\n",
      "d= -1.02284899844\n",
      "i: 1179\n",
      "cid: 2216\n",
      "p: 52439\n",
      "n: 29811\n",
      "\n",
      "\n",
      "d= -1.02284899844\n",
      "i: 1179\n",
      "cid: 2216\n",
      "p: 52439\n",
      "n: 26887\n",
      "\n",
      "\n",
      "d= -1.02284899844\n",
      "i: 1179\n",
      "cid: 2216\n",
      "p: 52439\n",
      "n: 13161\n",
      "\n",
      "\n",
      "d= -1.02284899844\n",
      "i: 1179\n",
      "cid: 2216\n",
      "p: 52439\n",
      "n: 7051\n",
      "\n",
      "\n",
      "d= -1.02284899844\n",
      "i: 1179\n",
      "cid: 2216\n",
      "p: 52439\n",
      "n: 2320\n",
      "\n",
      "\n",
      "d= 0.0570189137626\n",
      "i: 2622\n",
      "cid: 4046\n",
      "p: 59064\n",
      "n: 16476\n",
      "\n",
      "\n",
      "d= 1.9451983959\n",
      "i: 2622\n",
      "cid: 2636\n",
      "p: 16476\n",
      "n: 59064\n",
      "\n",
      "\n",
      "d= 1.94298108624\n",
      "i: 2622\n",
      "cid: 2636\n",
      "p: 16476\n",
      "n: 59064\n",
      "\n",
      "\n",
      "d= 0.0592362234237\n",
      "i: 2622\n",
      "cid: 4046\n",
      "p: 59064\n",
      "n: 16476\n",
      "\n",
      "\n",
      "d= 1.94298108624\n",
      "i: 2622\n",
      "cid: 2636\n",
      "p: 16476\n",
      "n: 59064\n",
      "\n",
      "\n",
      "d= -1.0223828336\n",
      "i: 2557\n",
      "cid: 2330\n",
      "p: 14727\n",
      "n: 26428\n",
      "\n",
      "\n",
      "d= -1.0223828336\n",
      "i: 2557\n",
      "cid: 2330\n",
      "p: 14727\n",
      "n: 10032\n",
      "\n",
      "\n",
      "d= -1.0223828336\n",
      "i: 2557\n",
      "cid: 2330\n",
      "p: 14727\n",
      "n: 53519\n",
      "\n",
      "\n",
      "d= -1.0223828336\n",
      "i: 2557\n",
      "cid: 2330\n",
      "p: 14727\n",
      "n: 47259\n",
      "\n",
      "\n",
      "d= -1.0223828336\n",
      "i: 2557\n",
      "cid: 2330\n",
      "p: 14727\n",
      "n: 37951\n",
      "\n",
      "\n",
      "d= -0.723928320301\n",
      "i: 1459\n",
      "cid: 3987\n",
      "p: 38463\n",
      "n: 47277\n",
      "\n",
      "\n",
      "d= -0.723928320301\n",
      "i: 1459\n",
      "cid: 3987\n",
      "p: 38463\n",
      "n: 37699\n",
      "\n",
      "\n",
      "d= -0.723928320301\n",
      "i: 1459\n",
      "cid: 3987\n",
      "p: 38463\n",
      "n: 16174\n",
      "\n",
      "\n",
      "d= -0.723928320301\n",
      "i: 1459\n",
      "cid: 3987\n",
      "p: 38463\n",
      "n: 52221\n",
      "\n",
      "\n",
      "d= -0.723928320301\n",
      "i: 1459\n",
      "cid: 3987\n",
      "p: 38463\n",
      "n: 24373\n",
      "\n",
      "\n",
      "d= 0.75156983441\n",
      "i: 125\n",
      "cid: 2040\n",
      "p: 13058\n",
      "n: 51488\n"
     ]
    },
    {
     "ename": "KeyboardInterrupt",
     "evalue": "",
     "output_type": "error",
     "traceback": [
      "\u001b[0;31m---------------------------------------------------------------------------\u001b[0m",
      "\u001b[0;31mKeyboardInterrupt\u001b[0m                         Traceback (most recent call last)",
      "\u001b[0;32m<ipython-input-251-460e83f81be8>\u001b[0m in \u001b[0;36m<module>\u001b[0;34m()\u001b[0m\n\u001b[0;32m----> 1\u001b[0;31m \u001b[0mget_ipython\u001b[0m\u001b[0;34m(\u001b[0m\u001b[0;34m)\u001b[0m\u001b[0;34m.\u001b[0m\u001b[0mmagic\u001b[0m\u001b[0;34m(\u001b[0m\u001b[0;34mu'time model.train(X_train, Y, rate=1e-3, n_iter=1, n_iter_sample=5)'\u001b[0m\u001b[0;34m)\u001b[0m\u001b[0;34m\u001b[0m\u001b[0m\n\u001b[0m",
      "\u001b[0;32m/usr/local/lib/python2.7/dist-packages/IPython/core/interactiveshell.pyc\u001b[0m in \u001b[0;36mmagic\u001b[0;34m(self, arg_s)\u001b[0m\n\u001b[1;32m   2156\u001b[0m         \u001b[0mmagic_name\u001b[0m\u001b[0;34m,\u001b[0m \u001b[0m_\u001b[0m\u001b[0;34m,\u001b[0m \u001b[0mmagic_arg_s\u001b[0m \u001b[0;34m=\u001b[0m \u001b[0marg_s\u001b[0m\u001b[0;34m.\u001b[0m\u001b[0mpartition\u001b[0m\u001b[0;34m(\u001b[0m\u001b[0;34m' '\u001b[0m\u001b[0;34m)\u001b[0m\u001b[0;34m\u001b[0m\u001b[0m\n\u001b[1;32m   2157\u001b[0m         \u001b[0mmagic_name\u001b[0m \u001b[0;34m=\u001b[0m \u001b[0mmagic_name\u001b[0m\u001b[0;34m.\u001b[0m\u001b[0mlstrip\u001b[0m\u001b[0;34m(\u001b[0m\u001b[0mprefilter\u001b[0m\u001b[0;34m.\u001b[0m\u001b[0mESC_MAGIC\u001b[0m\u001b[0;34m)\u001b[0m\u001b[0;34m\u001b[0m\u001b[0m\n\u001b[0;32m-> 2158\u001b[0;31m         \u001b[0;32mreturn\u001b[0m \u001b[0mself\u001b[0m\u001b[0;34m.\u001b[0m\u001b[0mrun_line_magic\u001b[0m\u001b[0;34m(\u001b[0m\u001b[0mmagic_name\u001b[0m\u001b[0;34m,\u001b[0m \u001b[0mmagic_arg_s\u001b[0m\u001b[0;34m)\u001b[0m\u001b[0;34m\u001b[0m\u001b[0m\n\u001b[0m\u001b[1;32m   2159\u001b[0m \u001b[0;34m\u001b[0m\u001b[0m\n\u001b[1;32m   2160\u001b[0m     \u001b[0;31m#-------------------------------------------------------------------------\u001b[0m\u001b[0;34m\u001b[0m\u001b[0;34m\u001b[0m\u001b[0m\n",
      "\u001b[0;32m/usr/local/lib/python2.7/dist-packages/IPython/core/interactiveshell.pyc\u001b[0m in \u001b[0;36mrun_line_magic\u001b[0;34m(self, magic_name, line)\u001b[0m\n\u001b[1;32m   2077\u001b[0m                 \u001b[0mkwargs\u001b[0m\u001b[0;34m[\u001b[0m\u001b[0;34m'local_ns'\u001b[0m\u001b[0;34m]\u001b[0m \u001b[0;34m=\u001b[0m \u001b[0msys\u001b[0m\u001b[0;34m.\u001b[0m\u001b[0m_getframe\u001b[0m\u001b[0;34m(\u001b[0m\u001b[0mstack_depth\u001b[0m\u001b[0;34m)\u001b[0m\u001b[0;34m.\u001b[0m\u001b[0mf_locals\u001b[0m\u001b[0;34m\u001b[0m\u001b[0m\n\u001b[1;32m   2078\u001b[0m             \u001b[0;32mwith\u001b[0m \u001b[0mself\u001b[0m\u001b[0;34m.\u001b[0m\u001b[0mbuiltin_trap\u001b[0m\u001b[0;34m:\u001b[0m\u001b[0;34m\u001b[0m\u001b[0m\n\u001b[0;32m-> 2079\u001b[0;31m                 \u001b[0mresult\u001b[0m \u001b[0;34m=\u001b[0m \u001b[0mfn\u001b[0m\u001b[0;34m(\u001b[0m\u001b[0;34m*\u001b[0m\u001b[0margs\u001b[0m\u001b[0;34m,\u001b[0m\u001b[0;34m**\u001b[0m\u001b[0mkwargs\u001b[0m\u001b[0;34m)\u001b[0m\u001b[0;34m\u001b[0m\u001b[0m\n\u001b[0m\u001b[1;32m   2080\u001b[0m             \u001b[0;32mreturn\u001b[0m \u001b[0mresult\u001b[0m\u001b[0;34m\u001b[0m\u001b[0m\n\u001b[1;32m   2081\u001b[0m \u001b[0;34m\u001b[0m\u001b[0m\n",
      "\u001b[0;32m<decorator-gen-59>\u001b[0m in \u001b[0;36mtime\u001b[0;34m(self, line, cell, local_ns)\u001b[0m\n",
      "\u001b[0;32m/usr/local/lib/python2.7/dist-packages/IPython/core/magic.pyc\u001b[0m in \u001b[0;36m<lambda>\u001b[0;34m(f, *a, **k)\u001b[0m\n\u001b[1;32m    186\u001b[0m     \u001b[0;31m# but it's overkill for just that one bit of state.\u001b[0m\u001b[0;34m\u001b[0m\u001b[0;34m\u001b[0m\u001b[0m\n\u001b[1;32m    187\u001b[0m     \u001b[0;32mdef\u001b[0m \u001b[0mmagic_deco\u001b[0m\u001b[0;34m(\u001b[0m\u001b[0marg\u001b[0m\u001b[0;34m)\u001b[0m\u001b[0;34m:\u001b[0m\u001b[0;34m\u001b[0m\u001b[0m\n\u001b[0;32m--> 188\u001b[0;31m         \u001b[0mcall\u001b[0m \u001b[0;34m=\u001b[0m \u001b[0;32mlambda\u001b[0m \u001b[0mf\u001b[0m\u001b[0;34m,\u001b[0m \u001b[0;34m*\u001b[0m\u001b[0ma\u001b[0m\u001b[0;34m,\u001b[0m \u001b[0;34m**\u001b[0m\u001b[0mk\u001b[0m\u001b[0;34m:\u001b[0m \u001b[0mf\u001b[0m\u001b[0;34m(\u001b[0m\u001b[0;34m*\u001b[0m\u001b[0ma\u001b[0m\u001b[0;34m,\u001b[0m \u001b[0;34m**\u001b[0m\u001b[0mk\u001b[0m\u001b[0;34m)\u001b[0m\u001b[0;34m\u001b[0m\u001b[0m\n\u001b[0m\u001b[1;32m    189\u001b[0m \u001b[0;34m\u001b[0m\u001b[0m\n\u001b[1;32m    190\u001b[0m         \u001b[0;32mif\u001b[0m \u001b[0mcallable\u001b[0m\u001b[0;34m(\u001b[0m\u001b[0marg\u001b[0m\u001b[0;34m)\u001b[0m\u001b[0;34m:\u001b[0m\u001b[0;34m\u001b[0m\u001b[0m\n",
      "\u001b[0;32m/usr/local/lib/python2.7/dist-packages/IPython/core/magics/execution.pyc\u001b[0m in \u001b[0;36mtime\u001b[0;34m(self, line, cell, local_ns)\u001b[0m\n\u001b[1;32m   1174\u001b[0m         \u001b[0;32mif\u001b[0m \u001b[0mmode\u001b[0m\u001b[0;34m==\u001b[0m\u001b[0;34m'eval'\u001b[0m\u001b[0;34m:\u001b[0m\u001b[0;34m\u001b[0m\u001b[0m\n\u001b[1;32m   1175\u001b[0m             \u001b[0mst\u001b[0m \u001b[0;34m=\u001b[0m \u001b[0mclock2\u001b[0m\u001b[0;34m(\u001b[0m\u001b[0;34m)\u001b[0m\u001b[0;34m\u001b[0m\u001b[0m\n\u001b[0;32m-> 1176\u001b[0;31m             \u001b[0mout\u001b[0m \u001b[0;34m=\u001b[0m \u001b[0meval\u001b[0m\u001b[0;34m(\u001b[0m\u001b[0mcode\u001b[0m\u001b[0;34m,\u001b[0m \u001b[0mglob\u001b[0m\u001b[0;34m,\u001b[0m \u001b[0mlocal_ns\u001b[0m\u001b[0;34m)\u001b[0m\u001b[0;34m\u001b[0m\u001b[0m\n\u001b[0m\u001b[1;32m   1177\u001b[0m             \u001b[0mend\u001b[0m \u001b[0;34m=\u001b[0m \u001b[0mclock2\u001b[0m\u001b[0;34m(\u001b[0m\u001b[0;34m)\u001b[0m\u001b[0;34m\u001b[0m\u001b[0m\n\u001b[1;32m   1178\u001b[0m         \u001b[0;32melse\u001b[0m\u001b[0;34m:\u001b[0m\u001b[0;34m\u001b[0m\u001b[0m\n",
      "\u001b[0;32m<timed eval>\u001b[0m in \u001b[0;36m<module>\u001b[0;34m()\u001b[0m\n",
      "\u001b[0;32m/lfs/raiders7/hdd/ajratner/snorkel/tutorials/disease_norm/entity_norm.py\u001b[0m in \u001b[0;36mtrain\u001b[0;34m(self, X, Y, rate, n_iter, n_iter_sample, verbose)\u001b[0m\n\u001b[1;32m    242\u001b[0m                     \u001b[0;32mprint\u001b[0m \u001b[0;34m\"n:\"\u001b[0m\u001b[0;34m,\u001b[0m \u001b[0mn\u001b[0m\u001b[0;34m\u001b[0m\u001b[0m\n\u001b[1;32m    243\u001b[0m                     \u001b[0;32mif\u001b[0m \u001b[0md\u001b[0m \u001b[0;34m>\u001b[0m \u001b[0;36m0\u001b[0m\u001b[0;34m:\u001b[0m\u001b[0;34m\u001b[0m\u001b[0m\n\u001b[0;32m--> 244\u001b[0;31m                         \u001b[0mW\u001b[0m \u001b[0;34m=\u001b[0m \u001b[0mW\u001b[0m \u001b[0;34m+\u001b[0m \u001b[0mrate\u001b[0m \u001b[0;34m*\u001b[0m \u001b[0;34m(\u001b[0m\u001b[0mx\u001b[0m\u001b[0;34m.\u001b[0m\u001b[0mT\u001b[0m \u001b[0;34m*\u001b[0m \u001b[0mtp\u001b[0m \u001b[0;34m-\u001b[0m \u001b[0mx\u001b[0m\u001b[0;34m.\u001b[0m\u001b[0mT\u001b[0m \u001b[0;34m*\u001b[0m \u001b[0mtn\u001b[0m\u001b[0;34m)\u001b[0m\u001b[0;34m\u001b[0m\u001b[0m\n\u001b[0m\u001b[1;32m    245\u001b[0m                         \u001b[0mb\u001b[0m \u001b[0;34m=\u001b[0m \u001b[0mb\u001b[0m \u001b[0;34m+\u001b[0m \u001b[0mrate\u001b[0m \u001b[0;34m*\u001b[0m \u001b[0;34m(\u001b[0m\u001b[0mxtp\u001b[0m \u001b[0;34m-\u001b[0m \u001b[0mxtn\u001b[0m\u001b[0;34m)\u001b[0m\u001b[0;34m\u001b[0m\u001b[0m\n\u001b[1;32m    246\u001b[0m \u001b[0;34m\u001b[0m\u001b[0m\n",
      "\u001b[0;32m/afs/cs.stanford.edu/u/ajratner/.local/lib/python2.7/site-packages/scipy-0.15.1-py2.7-linux-x86_64.egg/scipy/sparse/base.pyc\u001b[0m in \u001b[0;36m__mul__\u001b[0;34m(self, other)\u001b[0m\n\u001b[1;32m    307\u001b[0m             \u001b[0;32mif\u001b[0m \u001b[0mself\u001b[0m\u001b[0;34m.\u001b[0m\u001b[0mshape\u001b[0m\u001b[0;34m[\u001b[0m\u001b[0;36m1\u001b[0m\u001b[0;34m]\u001b[0m \u001b[0;34m!=\u001b[0m \u001b[0mother\u001b[0m\u001b[0;34m.\u001b[0m\u001b[0mshape\u001b[0m\u001b[0;34m[\u001b[0m\u001b[0;36m0\u001b[0m\u001b[0;34m]\u001b[0m\u001b[0;34m:\u001b[0m\u001b[0;34m\u001b[0m\u001b[0m\n\u001b[1;32m    308\u001b[0m                 \u001b[0;32mraise\u001b[0m \u001b[0mValueError\u001b[0m\u001b[0;34m(\u001b[0m\u001b[0;34m'dimension mismatch'\u001b[0m\u001b[0;34m)\u001b[0m\u001b[0;34m\u001b[0m\u001b[0m\n\u001b[0;32m--> 309\u001b[0;31m             \u001b[0;32mreturn\u001b[0m \u001b[0mself\u001b[0m\u001b[0;34m.\u001b[0m\u001b[0m_mul_sparse_matrix\u001b[0m\u001b[0;34m(\u001b[0m\u001b[0mother\u001b[0m\u001b[0;34m)\u001b[0m\u001b[0;34m\u001b[0m\u001b[0m\n\u001b[0m\u001b[1;32m    310\u001b[0m \u001b[0;34m\u001b[0m\u001b[0m\n\u001b[1;32m    311\u001b[0m         \u001b[0;32mtry\u001b[0m\u001b[0;34m:\u001b[0m\u001b[0;34m\u001b[0m\u001b[0m\n",
      "\u001b[0;32m/afs/cs.stanford.edu/u/ajratner/.local/lib/python2.7/site-packages/scipy-0.15.1-py2.7-linux-x86_64.egg/scipy/sparse/compressed.pyc\u001b[0m in \u001b[0;36m_mul_sparse_matrix\u001b[0;34m(self, other)\u001b[0m\n\u001b[1;32m    487\u001b[0m            \u001b[0mnp\u001b[0m\u001b[0;34m.\u001b[0m\u001b[0masarray\u001b[0m\u001b[0;34m(\u001b[0m\u001b[0mself\u001b[0m\u001b[0;34m.\u001b[0m\u001b[0mindptr\u001b[0m\u001b[0;34m,\u001b[0m \u001b[0mdtype\u001b[0m\u001b[0;34m=\u001b[0m\u001b[0midx_dtype\u001b[0m\u001b[0;34m)\u001b[0m\u001b[0;34m,\u001b[0m\u001b[0;34m\u001b[0m\u001b[0m\n\u001b[1;32m    488\u001b[0m            \u001b[0mnp\u001b[0m\u001b[0;34m.\u001b[0m\u001b[0masarray\u001b[0m\u001b[0;34m(\u001b[0m\u001b[0mself\u001b[0m\u001b[0;34m.\u001b[0m\u001b[0mindices\u001b[0m\u001b[0;34m,\u001b[0m \u001b[0mdtype\u001b[0m\u001b[0;34m=\u001b[0m\u001b[0midx_dtype\u001b[0m\u001b[0;34m)\u001b[0m\u001b[0;34m,\u001b[0m\u001b[0;34m\u001b[0m\u001b[0m\n\u001b[0;32m--> 489\u001b[0;31m            \u001b[0mnp\u001b[0m\u001b[0;34m.\u001b[0m\u001b[0masarray\u001b[0m\u001b[0;34m(\u001b[0m\u001b[0mother\u001b[0m\u001b[0;34m.\u001b[0m\u001b[0mindptr\u001b[0m\u001b[0;34m,\u001b[0m \u001b[0mdtype\u001b[0m\u001b[0;34m=\u001b[0m\u001b[0midx_dtype\u001b[0m\u001b[0;34m)\u001b[0m\u001b[0;34m,\u001b[0m\u001b[0;34m\u001b[0m\u001b[0m\n\u001b[0m\u001b[1;32m    490\u001b[0m            \u001b[0mnp\u001b[0m\u001b[0;34m.\u001b[0m\u001b[0masarray\u001b[0m\u001b[0;34m(\u001b[0m\u001b[0mother\u001b[0m\u001b[0;34m.\u001b[0m\u001b[0mindices\u001b[0m\u001b[0;34m,\u001b[0m \u001b[0mdtype\u001b[0m\u001b[0;34m=\u001b[0m\u001b[0midx_dtype\u001b[0m\u001b[0;34m)\u001b[0m\u001b[0;34m,\u001b[0m\u001b[0;34m\u001b[0m\u001b[0m\n\u001b[1;32m    491\u001b[0m            indptr)\n",
      "\u001b[0;32m/usr/local/lib/python2.7/dist-packages/numpy/core/numeric.pyc\u001b[0m in \u001b[0;36masarray\u001b[0;34m(a, dtype, order)\u001b[0m\n\u001b[1;32m    480\u001b[0m \u001b[0;34m\u001b[0m\u001b[0m\n\u001b[1;32m    481\u001b[0m     \"\"\"\n\u001b[0;32m--> 482\u001b[0;31m     \u001b[0;32mreturn\u001b[0m \u001b[0marray\u001b[0m\u001b[0;34m(\u001b[0m\u001b[0ma\u001b[0m\u001b[0;34m,\u001b[0m \u001b[0mdtype\u001b[0m\u001b[0;34m,\u001b[0m \u001b[0mcopy\u001b[0m\u001b[0;34m=\u001b[0m\u001b[0mFalse\u001b[0m\u001b[0;34m,\u001b[0m \u001b[0morder\u001b[0m\u001b[0;34m=\u001b[0m\u001b[0morder\u001b[0m\u001b[0;34m)\u001b[0m\u001b[0;34m\u001b[0m\u001b[0m\n\u001b[0m\u001b[1;32m    483\u001b[0m \u001b[0;34m\u001b[0m\u001b[0m\n\u001b[1;32m    484\u001b[0m \u001b[0;32mdef\u001b[0m \u001b[0masanyarray\u001b[0m\u001b[0;34m(\u001b[0m\u001b[0ma\u001b[0m\u001b[0;34m,\u001b[0m \u001b[0mdtype\u001b[0m\u001b[0;34m=\u001b[0m\u001b[0mNone\u001b[0m\u001b[0;34m,\u001b[0m \u001b[0morder\u001b[0m\u001b[0;34m=\u001b[0m\u001b[0mNone\u001b[0m\u001b[0;34m)\u001b[0m\u001b[0;34m:\u001b[0m\u001b[0;34m\u001b[0m\u001b[0m\n",
      "\u001b[0;31mKeyboardInterrupt\u001b[0m: "
     ]
    }
   ],
   "source": [
    "%time model.train(X_train, Y, rate=1e-3, n_iter=1, n_iter_sample=5)"
   ]
  },
  {
   "cell_type": "code",
   "execution_count": 353,
   "metadata": {
    "collapsed": false
   },
   "outputs": [
    {
     "data": {
      "text/plain": [
       "<1x271513 sparse matrix of type '<type 'numpy.float64'>'\n",
       "\twith 2 stored elements in Compressed Sparse Row format>"
      ]
     },
     "execution_count": 353,
     "metadata": {},
     "output_type": "execute_result"
    }
   ],
   "source": [
    "i = 617\n",
    "x = X_train.getrow(i)\n",
    "x"
   ]
  },
  {
   "cell_type": "code",
   "execution_count": 366,
   "metadata": {
    "collapsed": false
   },
   "outputs": [
    {
     "data": {
      "text/plain": [
       "{'D020345'}"
      ]
     },
     "execution_count": 366,
     "metadata": {},
     "output_type": "execute_result"
    }
   ],
   "source": [
    "cd.cid_to_sids[L_gold_train[nz_idxs][i,0]]"
   ]
  },
  {
   "cell_type": "code",
   "execution_count": 369,
   "metadata": {
    "collapsed": false
   },
   "outputs": [
    {
     "data": {
      "text/plain": [
       "array([ 3848.,   885.,  3848.])"
      ]
     },
     "execution_count": 369,
     "metadata": {},
     "output_type": "execute_result"
    }
   ],
   "source": [
    "L_train[nz_idxs].getrow(i).data"
   ]
  },
  {
   "cell_type": "code",
   "execution_count": 371,
   "metadata": {
    "collapsed": false
   },
   "outputs": [
    {
     "data": {
      "text/plain": [
       "array([ 0.26812765,  0.73187235])"
      ]
     },
     "execution_count": 371,
     "metadata": {},
     "output_type": "execute_result"
    }
   ],
   "source": [
    "Y[i].data"
   ]
  },
  {
   "cell_type": "code",
   "execution_count": 374,
   "metadata": {
    "collapsed": false
   },
   "outputs": [
    {
     "name": "stdout",
     "output_type": "stream",
     "text": [
      "3848\n",
      "3848\n",
      "3848\n",
      "3848\n",
      "3848\n",
      "885\n",
      "885\n",
      "3848\n",
      "3848\n",
      "3848\n"
     ]
    }
   ],
   "source": [
    "import random\n",
    "\n",
    "for it in range(10):\n",
    "    t = random.random()\n",
    "    for cid in Y[i].nonzero()[1]:\n",
    "        t -= Y[i,cid]\n",
    "        if t < 0:\n",
    "            break\n",
    "    print cid\n",
    "    "
   ]
  },
  {
   "cell_type": "code",
   "execution_count": 354,
   "metadata": {
    "collapsed": false
   },
   "outputs": [
    {
     "data": {
      "text/plain": [
       "u'necrotizing enterocolitis'"
      ]
     },
     "execution_count": 354,
     "metadata": {},
     "output_type": "execute_result"
    }
   ],
   "source": [
    "train[nz_idxs[i]].disease.get_span().lower()"
   ]
  },
  {
   "cell_type": "code",
   "execution_count": 355,
   "metadata": {
    "collapsed": false
   },
   "outputs": [
    {
     "name": "stdout",
     "output_type": "stream",
     "text": [
      "necrot\n",
      "enterocol\n"
     ]
    }
   ],
   "source": [
    "for j in x.nonzero()[1]:\n",
    "    print cd_vectorizer.inv_word_index[j]"
   ]
  },
  {
   "cell_type": "code",
   "execution_count": 357,
   "metadata": {
    "collapsed": false
   },
   "outputs": [
    {
     "data": {
      "text/plain": [
       "{'D004760'}"
      ]
     },
     "execution_count": 357,
     "metadata": {},
     "output_type": "execute_result"
    }
   ],
   "source": [
    "CID = 885\n",
    "cd.cid_to_sids[CID]"
   ]
  },
  {
   "cell_type": "code",
   "execution_count": 358,
   "metadata": {
    "collapsed": false
   },
   "outputs": [
    {
     "data": {
      "text/plain": [
       "[885]"
      ]
     },
     "execution_count": 358,
     "metadata": {},
     "output_type": "execute_result"
    }
   ],
   "source": [
    "[cd.sid_to_cid[sid] for sid in cd.cid_to_sids[CID]]"
   ]
  },
  {
   "cell_type": "code",
   "execution_count": 359,
   "metadata": {
    "collapsed": false
   },
   "outputs": [
    {
     "name": "stdout",
     "output_type": "stream",
     "text": [
      "enterocol\n"
     ]
    }
   ],
   "source": [
    "p  = 5440\n",
    "tp = D_pos.getrow(p)\n",
    "for j in tp.nonzero()[1]:\n",
    "    print cd_vectorizer.inv_word_index[j]"
   ]
  },
  {
   "cell_type": "code",
   "execution_count": 360,
   "metadata": {
    "collapsed": false
   },
   "outputs": [
    {
     "name": "stdout",
     "output_type": "stream",
     "text": [
      "necrot\n",
      "enterocol\n"
     ]
    }
   ],
   "source": [
    "n  = 24094\n",
    "tn = D_pos.getrow(n)\n",
    "for j in tn.nonzero()[1]:\n",
    "    print cd_vectorizer.inv_word_index[j]"
   ]
  },
  {
   "cell_type": "code",
   "execution_count": 361,
   "metadata": {
    "collapsed": false
   },
   "outputs": [
    {
     "data": {
      "text/plain": [
       "1.6135501521893609"
      ]
     },
     "execution_count": 361,
     "metadata": {},
     "output_type": "execute_result"
    }
   ],
   "source": [
    "1 - (x * model.W * tp.T)[0,0] - model.b * (x * tp.T)[0,0] + (x * model.W * tn.T)[0,0] + model.b * (x * tn.T)[0,0] "
   ]
  },
  {
   "cell_type": "code",
   "execution_count": 362,
   "metadata": {
    "collapsed": false
   },
   "outputs": [
    {
     "data": {
      "text/plain": [
       "[{'D004760'}]"
      ]
     },
     "execution_count": 362,
     "metadata": {},
     "output_type": "execute_result"
    }
   ],
   "source": [
    "[cd.cid_to_sids[cid] for cid in cid_sets[p]]"
   ]
  },
  {
   "cell_type": "code",
   "execution_count": 363,
   "metadata": {
    "collapsed": false
   },
   "outputs": [
    {
     "data": {
      "text/plain": [
       "[{'D020345'}]"
      ]
     },
     "execution_count": 363,
     "metadata": {},
     "output_type": "execute_result"
    }
   ],
   "source": [
    "[cd.cid_to_sids[cid] for cid in cid_sets[n]]"
   ]
  },
  {
   "cell_type": "code",
   "execution_count": 346,
   "metadata": {
    "collapsed": false
   },
   "outputs": [],
   "source": [
    "W_delta = 1e-3 * (x.T * tp - x.T * tn)"
   ]
  },
  {
   "cell_type": "code",
   "execution_count": 347,
   "metadata": {
    "collapsed": false
   },
   "outputs": [
    {
     "data": {
      "text/plain": [
       "(array([ 430,  430,  430,  431,  431,  431, 6082, 6082, 6082], dtype=int32),\n",
       " array([227, 430, 431, 227, 430, 431, 227, 430, 431], dtype=int32))"
      ]
     },
     "execution_count": 347,
     "metadata": {},
     "output_type": "execute_result"
    }
   ],
   "source": [
    "W_delta.nonzero()"
   ]
  },
  {
   "cell_type": "code",
   "execution_count": 348,
   "metadata": {
    "collapsed": false
   },
   "outputs": [
    {
     "data": {
      "text/plain": [
       "array([ -3.04324828e-04,  -2.38895810e-04,  -2.96490983e-04,\n",
       "        -5.40490376e-05,  -4.24286402e-05,  -5.26577224e-05,\n",
       "         3.85515115e-04,   3.02630405e-04,   3.75591293e-04])"
      ]
     },
     "execution_count": 348,
     "metadata": {},
     "output_type": "execute_result"
    }
   ],
   "source": [
    "W_delta.data"
   ]
  },
  {
   "cell_type": "code",
   "execution_count": 324,
   "metadata": {
    "collapsed": false
   },
   "outputs": [
    {
     "name": "stdout",
     "output_type": "stream",
     "text": [
      "-0.000432747665309\n",
      "tremor\n",
      "famili\n"
     ]
    }
   ],
   "source": [
    "print W_delta[10703, 428]\n",
    "print cd_vectorizer.inv_word_index[10703]\n",
    "print cd_vectorizer.inv_word_index[428]"
   ]
  },
  {
   "cell_type": "code",
   "execution_count": null,
   "metadata": {
    "collapsed": true
   },
   "outputs": [],
   "source": [
    "cd.word_inde"
   ]
  },
  {
   "cell_type": "markdown",
   "metadata": {},
   "source": [
    "Let's find all dictionary terms..."
   ]
  },
  {
   "cell_type": "code",
   "execution_count": 292,
   "metadata": {
    "collapsed": false
   },
   "outputs": [],
   "source": [
    "m          = x * D_pos.T\n",
    "match_rows = m.nonzero()[1]"
   ]
  },
  {
   "cell_type": "code",
   "execution_count": 293,
   "metadata": {
    "collapsed": false
   },
   "outputs": [],
   "source": [
    "row_to_cids = defaultdict(set)\n",
    "for cid, rows in model.cid_to_rows.iteritems():\n",
    "    for row in rows:\n",
    "        row_to_cids[row].add(cid)"
   ]
  },
  {
   "cell_type": "code",
   "execution_count": 309,
   "metadata": {
    "collapsed": false
   },
   "outputs": [
    {
     "name": "stdout",
     "output_type": "stream",
     "text": [
      "56592 [['D000742']]\n",
      "56591 [['D000742']]\n",
      "56590 [['D040181']]\n",
      "56589 [['D040181']]\n",
      "56588 [['D013921']]\n",
      "56586 [['D061085']]\n",
      "56584 [['D040181']]\n",
      "56583 [['D040181']]\n",
      "56582 [['D040181']]\n",
      "56581 [['D054868']]\n",
      "56578 [['D054868']]\n",
      "56577 [['D013921']]\n",
      "56576 [['D025063']]\n",
      "56574 [['D025063']]\n",
      "56573 [['D013921']]\n",
      "56572 [['D013921']]\n",
      "56571 [['D013921']]\n",
      "56569 [['D013921']]\n",
      "56568 [['D013921']]\n",
      "56567 [['D013921']]\n",
      "56566 [['D013921']]\n",
      "56565 [['D025063'], ['D013921']]\n",
      "56564 [['D025063'], ['D013921']]\n",
      "56562 [['D025063'], ['D013921']]\n",
      "56560 [['D040181']]\n",
      "56559 [['D040181']]\n",
      "56558 [['D040181']]\n",
      "56557 [['D040181']]\n",
      "56556 [['D040181']]\n",
      "56554 [['D040181']]\n",
      "56547 [['D013921']]\n",
      "56471 [['D013921']]\n",
      "53459 [['D013921']]\n",
      "53458 [['D013921']]\n",
      "53455 [['D013921']]\n",
      "53453 [['D013921']]\n",
      "52337 [['D025861']]\n",
      "52336 [['D025861']]\n",
      "51197 [['D061085']]\n",
      "51196 [['D061085']]\n",
      "50753 [['D013921']]\n",
      "50752 [['D013921']]\n",
      "42014 [['D013921']]\n",
      "41860 [['D013921']]\n",
      "41622 [['D002658']]\n",
      "40837 [['D013921']]\n",
      "39624 [['D040181']]\n",
      "39623 [['D040181']]\n",
      "39428 [['D014564']]\n",
      "39427 [['D014564']]\n",
      "37372 [['D013921']]\n",
      "32360 [['D040181']]\n",
      "32359 [['D040181']]\n",
      "31257 [['D011696']]\n",
      "31126 [['D038062']]\n",
      "31125 [['D038062']]\n",
      "31124 [['D038062']]\n",
      "31121 [['D038062']]\n",
      "31120 [['D038062']]\n",
      "31118 [['D038062']]\n",
      "29595 [['D059885']]\n",
      "29594 [['D059885']]\n",
      "29593 [['D059885']]\n",
      "29592 [['D059885']]\n",
      "29591 [['D059885']]\n",
      "29590 [['D059885']]\n",
      "27827 [['D054868']]\n",
      "27826 [['D054868']]\n",
      "27825 [['D054868']]\n",
      "27497 [['D054098']]\n",
      "27496 [['D054098']]\n",
      "27495 [['D054098']]\n",
      "27494 [['D054098']]\n",
      "19854 [['D016553']]\n",
      "19853 [['D016553']]\n",
      "19848 [['D016553']]\n",
      "19847 [['D016553']]\n",
      "18022 [['D014923']]\n",
      "18021 [['D014923']]\n",
      "18020 [['D014923']]\n",
      "16862 [['D013921']]\n",
      "16861 [['D013921']]\n",
      "14690 [['D011697']]\n"
     ]
    }
   ],
   "source": [
    "for r in match_rows:\n",
    "    print r, [filter(lambda sid : sid[0] == 'D', list(cd.cid_to_sids[cid])) for cid in row_to_cids[r]]"
   ]
  },
  {
   "cell_type": "code",
   "execution_count": 295,
   "metadata": {
    "collapsed": false
   },
   "outputs": [
    {
     "data": {
      "text/plain": [
       "<1x271513 sparse matrix of type '<type 'numpy.float64'>'\n",
       "\twith 1 stored elements in Compressed Sparse Row format>"
      ]
     },
     "execution_count": 295,
     "metadata": {},
     "output_type": "execute_result"
    }
   ],
   "source": [
    "p  = 56562\n",
    "tp = D_pos.getrow(p)\n",
    "tp"
   ]
  },
  {
   "cell_type": "code",
   "execution_count": 296,
   "metadata": {
    "collapsed": false
   },
   "outputs": [
    {
     "data": {
      "text/plain": [
       "(array([0], dtype=int32), array([13057], dtype=int32))"
      ]
     },
     "execution_count": 296,
     "metadata": {},
     "output_type": "execute_result"
    }
   ],
   "source": [
    "tp.nonzero()"
   ]
  },
  {
   "cell_type": "code",
   "execution_count": 297,
   "metadata": {
    "collapsed": false
   },
   "outputs": [
    {
     "name": "stdout",
     "output_type": "stream",
     "text": [
      "thrombocytopenia\n"
     ]
    }
   ],
   "source": [
    "for j in tp.nonzero()[1]:\n",
    "    print cd_vectorizer.inv_word_index[j]"
   ]
  },
  {
   "cell_type": "markdown",
   "metadata": {},
   "source": [
    "The CID links to a **C** entry which links to _D013921 Thrombocytopenia_...\n",
    "\n",
    "**cd.cid_to_sid should be cd.cid_to_sids...!**  How could this be affecting performance?"
   ]
  },
  {
   "cell_type": "code",
   "execution_count": 298,
   "metadata": {
    "collapsed": false
   },
   "outputs": [
    {
     "data": {
      "text/plain": [
       "<1x271513 sparse matrix of type '<type 'numpy.float64'>'\n",
       "\twith 1 stored elements in Compressed Sparse Row format>"
      ]
     },
     "execution_count": 298,
     "metadata": {},
     "output_type": "execute_result"
    }
   ],
   "source": [
    "n  = 56554\n",
    "tn = D_pos.getrow(n)\n",
    "tn"
   ]
  },
  {
   "cell_type": "code",
   "execution_count": 299,
   "metadata": {
    "collapsed": false
   },
   "outputs": [
    {
     "data": {
      "text/plain": [
       "(array([0], dtype=int32), array([13057], dtype=int32))"
      ]
     },
     "execution_count": 299,
     "metadata": {},
     "output_type": "execute_result"
    }
   ],
   "source": [
    "tn.nonzero()"
   ]
  },
  {
   "cell_type": "code",
   "execution_count": 300,
   "metadata": {
    "collapsed": false
   },
   "outputs": [
    {
     "name": "stdout",
     "output_type": "stream",
     "text": [
      "thrombocytopenia\n"
     ]
    }
   ],
   "source": [
    "for j in tn.nonzero()[1]:\n",
    "    print cd_vectorizer.inv_word_index[j]"
   ]
  },
  {
   "cell_type": "code",
   "execution_count": 301,
   "metadata": {
    "collapsed": false
   },
   "outputs": [
    {
     "data": {
      "text/plain": [
       "{'D013921'}"
      ]
     },
     "execution_count": 301,
     "metadata": {},
     "output_type": "execute_result"
    }
   ],
   "source": [
    "cd.term_to_sids['thrombocytopenia']"
   ]
  },
  {
   "cell_type": "code",
   "execution_count": 302,
   "metadata": {
    "collapsed": false
   },
   "outputs": [
    {
     "data": {
      "text/plain": [
       "[{'C535296',\n",
       "  'C535362',\n",
       "  'C535449',\n",
       "  'C535484',\n",
       "  'C535486',\n",
       "  'C535733',\n",
       "  'C535918',\n",
       "  'C536305',\n",
       "  'C536519',\n",
       "  'C536580',\n",
       "  'C536682',\n",
       "  'C536796',\n",
       "  'C536798',\n",
       "  'C536801',\n",
       "  'C536803',\n",
       "  'C536987',\n",
       "  'C537635',\n",
       "  'C537636',\n",
       "  'C537639',\n",
       "  'C537641',\n",
       "  'C537643',\n",
       "  'C537763',\n",
       "  'C537804',\n",
       "  'C537810',\n",
       "  'C537813',\n",
       "  'C537818',\n",
       "  'C538036',\n",
       "  'C538087',\n",
       "  'C538105',\n",
       "  'C538288',\n",
       "  'C538309',\n",
       "  'C538356',\n",
       "  'C563051',\n",
       "  'C563382',\n",
       "  'C563482',\n",
       "  'C564508',\n",
       "  'C565001',\n",
       "  'C565160',\n",
       "  'C565370',\n",
       "  'C566980',\n",
       "  'C567439',\n",
       "  'C567810',\n",
       "  'C579849',\n",
       "  'C579850',\n",
       "  'C579873',\n",
       "  'C580205',\n",
       "  'D025063'},\n",
       " {'C535507',\n",
       "  'C535544',\n",
       "  'C535643',\n",
       "  'C535982',\n",
       "  'C536380',\n",
       "  'C536899',\n",
       "  'C536944',\n",
       "  'C537831',\n",
       "  'C538176',\n",
       "  'C564051',\n",
       "  'C564237',\n",
       "  'C564771',\n",
       "  'C565328',\n",
       "  'C566000',\n",
       "  'C566060',\n",
       "  'C567438',\n",
       "  'C567487',\n",
       "  'C567747',\n",
       "  'D013921'}]"
      ]
     },
     "execution_count": 302,
     "metadata": {},
     "output_type": "execute_result"
    }
   ],
   "source": [
    "[cd.cid_to_sids[cid] for cid in model.cid_sets[p]]"
   ]
  },
  {
   "cell_type": "code",
   "execution_count": 304,
   "metadata": {
    "collapsed": false
   },
   "outputs": [
    {
     "data": {
      "text/plain": [
       "[{'C535281',\n",
       "  'C535331',\n",
       "  'C535338',\n",
       "  'C535380',\n",
       "  'C535532',\n",
       "  'C535559',\n",
       "  'C535576',\n",
       "  'C535941',\n",
       "  'C535975',\n",
       "  'C535981',\n",
       "  'C536029',\n",
       "  'C536078',\n",
       "  'C536122',\n",
       "  'C536159',\n",
       "  'C536181',\n",
       "  'C536197',\n",
       "  'C536358',\n",
       "  'C536359',\n",
       "  'C536366',\n",
       "  'C536410',\n",
       "  'C536424',\n",
       "  'C536426',\n",
       "  'C536497',\n",
       "  'C536533',\n",
       "  'C536643',\n",
       "  'C536671',\n",
       "  'C536692',\n",
       "  'C536703',\n",
       "  'C536757',\n",
       "  'C536761',\n",
       "  'C536857',\n",
       "  'C536970',\n",
       "  'C537102',\n",
       "  'C537125',\n",
       "  'C537149',\n",
       "  'C537179',\n",
       "  'C537241',\n",
       "  'C537315',\n",
       "  'C537340',\n",
       "  'C537409',\n",
       "  'C537466',\n",
       "  'C537849',\n",
       "  'C537921',\n",
       "  'C538057',\n",
       "  'C538165',\n",
       "  'C538326',\n",
       "  'C538336',\n",
       "  'C538337',\n",
       "  'C538362',\n",
       "  'C538388',\n",
       "  'C538399',\n",
       "  'C538416',\n",
       "  'C538613',\n",
       "  'C562478',\n",
       "  'C562515',\n",
       "  'C562664',\n",
       "  'C562782',\n",
       "  'C562829',\n",
       "  'C563023',\n",
       "  'C563065',\n",
       "  'C563124',\n",
       "  'C563134',\n",
       "  'C563156',\n",
       "  'C563238',\n",
       "  'C563670',\n",
       "  'C564041',\n",
       "  'C564042',\n",
       "  'C564048',\n",
       "  'C564049',\n",
       "  'C564050',\n",
       "  'C564052',\n",
       "  'C564053',\n",
       "  'C564054',\n",
       "  'C564056',\n",
       "  'C564065',\n",
       "  'C564066',\n",
       "  'C564072',\n",
       "  'C564075',\n",
       "  'C564076',\n",
       "  'C564087',\n",
       "  'C564090',\n",
       "  'C564091',\n",
       "  'C564092',\n",
       "  'C564093',\n",
       "  'C564095',\n",
       "  'C564098',\n",
       "  'C564101',\n",
       "  'C564106',\n",
       "  'C564108',\n",
       "  'C564110',\n",
       "  'C564114',\n",
       "  'C564120',\n",
       "  'C564407',\n",
       "  'C564408',\n",
       "  'C564421',\n",
       "  'C564423',\n",
       "  'C564428',\n",
       "  'C564429',\n",
       "  'C564430',\n",
       "  'C564432',\n",
       "  'C564433',\n",
       "  'C564438',\n",
       "  'C564439',\n",
       "  'C564442',\n",
       "  'C564459',\n",
       "  'C564461',\n",
       "  'C564467',\n",
       "  'C564469',\n",
       "  'C564472',\n",
       "  'C564473',\n",
       "  'C564474',\n",
       "  'C564475',\n",
       "  'C564478',\n",
       "  'C564479',\n",
       "  'C564480',\n",
       "  'C564485',\n",
       "  'C564486',\n",
       "  'C564491',\n",
       "  'C564495',\n",
       "  'C564498',\n",
       "  'C564499',\n",
       "  'C564505',\n",
       "  'C564506',\n",
       "  'C564507',\n",
       "  'C564519',\n",
       "  'C564520',\n",
       "  'C564523',\n",
       "  'C564525',\n",
       "  'C564526',\n",
       "  'C564531',\n",
       "  'C564532',\n",
       "  'C564538',\n",
       "  'C564539',\n",
       "  'C564553',\n",
       "  'C564554',\n",
       "  'C564559',\n",
       "  'C564565',\n",
       "  'C564567',\n",
       "  'C564568',\n",
       "  'C564570',\n",
       "  'C564572',\n",
       "  'C564574',\n",
       "  'C564714',\n",
       "  'C564715',\n",
       "  'C564716',\n",
       "  'C564717',\n",
       "  'C564721',\n",
       "  'C564723',\n",
       "  'C564727',\n",
       "  'C564751',\n",
       "  'C567060',\n",
       "  'C567067',\n",
       "  'C567068',\n",
       "  'C567070',\n",
       "  'C567443',\n",
       "  'C567444',\n",
       "  'C567461',\n",
       "  'C567462',\n",
       "  'C567463',\n",
       "  'C567465',\n",
       "  'C567468',\n",
       "  'C567469',\n",
       "  'C567471',\n",
       "  'C567477',\n",
       "  'C567478',\n",
       "  'C567482',\n",
       "  'C567484',\n",
       "  'C567485',\n",
       "  'C567533',\n",
       "  'C567579',\n",
       "  'C567581',\n",
       "  'C567582',\n",
       "  'C567583',\n",
       "  'C567586',\n",
       "  'C567595',\n",
       "  'C567932',\n",
       "  'C580192',\n",
       "  'C580533',\n",
       "  'C580539',\n",
       "  'D040181'}]"
      ]
     },
     "execution_count": 304,
     "metadata": {},
     "output_type": "execute_result"
    }
   ],
   "source": [
    "[cd.cid_to_sids[cid] for cid in model.cid_sets[n]]"
   ]
  },
  {
   "cell_type": "code",
   "execution_count": 262,
   "metadata": {
    "collapsed": false
   },
   "outputs": [
    {
     "data": {
      "text/plain": [
       "True"
      ]
     },
     "execution_count": 262,
     "metadata": {},
     "output_type": "execute_result"
    }
   ],
   "source": [
    "ps = model.cid_to_rows[CID]\n",
    "p in ps"
   ]
  },
  {
   "cell_type": "code",
   "execution_count": 263,
   "metadata": {
    "collapsed": false
   },
   "outputs": [
    {
     "data": {
      "text/plain": [
       "False"
      ]
     },
     "execution_count": 263,
     "metadata": {},
     "output_type": "execute_result"
    }
   ],
   "source": [
    "n in ps"
   ]
  },
  {
   "cell_type": "code",
   "execution_count": 73,
   "metadata": {
    "collapsed": false
   },
   "outputs": [],
   "source": [
    "ns = list(set(range(model.T)).difference(ps))"
   ]
  },
  {
   "cell_type": "code",
   "execution_count": 76,
   "metadata": {
    "collapsed": false
   },
   "outputs": [
    {
     "data": {
      "text/plain": [
       "<63794x1 sparse matrix of type '<type 'numpy.float64'>'\n",
       "\twith 388 stored elements in Compressed Sparse Row format>"
      ]
     },
     "execution_count": 76,
     "metadata": {},
     "output_type": "execute_result"
    }
   ],
   "source": [
    "Z = model.D * x.T\n",
    "Z"
   ]
  },
  {
   "cell_type": "code",
   "execution_count": 78,
   "metadata": {
    "collapsed": false
   },
   "outputs": [],
   "source": [
    "matches = Z.data.argsort()"
   ]
  },
  {
   "cell_type": "code",
   "execution_count": 79,
   "metadata": {
    "collapsed": false
   },
   "outputs": [
    {
     "data": {
      "text/plain": [
       "<63774x1 sparse matrix of type '<type 'numpy.float64'>'\n",
       "\twith 378 stored elements in Compressed Sparse Row format>"
      ]
     },
     "execution_count": 79,
     "metadata": {},
     "output_type": "execute_result"
    }
   ],
   "source": [
    "Zn = Z[ns]\n",
    "Zn"
   ]
  },
  {
   "cell_type": "code",
   "execution_count": 80,
   "metadata": {
    "collapsed": true
   },
   "outputs": [],
   "source": [
    "Zn = Zn.tocoo()"
   ]
  },
  {
   "cell_type": "code",
   "execution_count": 86,
   "metadata": {
    "collapsed": false
   },
   "outputs": [
    {
     "data": {
      "text/plain": [
       "<1x271513 sparse matrix of type '<type 'numpy.float64'>'\n",
       "\twith 2 stored elements in Compressed Sparse Row format>"
      ]
     },
     "execution_count": 86,
     "metadata": {},
     "output_type": "execute_result"
    }
   ],
   "source": [
    "tn = D_pos.getrow(ns[Zn.row[Zn.data.argmax()]])\n",
    "tn"
   ]
  },
  {
   "cell_type": "code",
   "execution_count": 87,
   "metadata": {
    "collapsed": false
   },
   "outputs": [
    {
     "name": "stdout",
     "output_type": "stream",
     "text": [
      "depend\n",
      "cocain\n"
     ]
    }
   ],
   "source": [
    "for j in tn.nonzero()[1]:\n",
    "    print cd_vectorizer.inv_word_index[j]"
   ]
  },
  {
   "cell_type": "markdown",
   "metadata": {},
   "source": [
    "### More debugging below..."
   ]
  },
  {
   "cell_type": "code",
   "execution_count": 95,
   "metadata": {
    "collapsed": false
   },
   "outputs": [
    {
     "data": {
      "text/plain": [
       "<271513x271513 sparse matrix of type '<type 'numpy.float64'>'\n",
       "\twith 271513 stored elements in Compressed Sparse Row format>"
      ]
     },
     "execution_count": 95,
     "metadata": {},
     "output_type": "execute_result"
    }
   ],
   "source": [
    "I = sparse.identity(X_dev.shape[1], format='csr')\n",
    "I"
   ]
  },
  {
   "cell_type": "code",
   "execution_count": 231,
   "metadata": {
    "collapsed": false
   },
   "outputs": [
    {
     "data": {
      "text/plain": [
       "<3259x271513 sparse matrix of type '<type 'numpy.float64'>'\n",
       "\twith 7448 stored elements in Compressed Sparse Row format>"
      ]
     },
     "execution_count": 231,
     "metadata": {},
     "output_type": "execute_result"
    }
   ],
   "source": [
    "X_dev = cd_vectorizer.vectorize_phrases([c.disease.get_span().lower() for i,c in enumerate(dev) if yp_d_dev[i] > 0])"
   ]
  },
  {
   "cell_type": "code",
   "execution_count": 232,
   "metadata": {
    "collapsed": true
   },
   "outputs": [],
   "source": [
    "X_train_labels = np.array([L_gold_train[i,0] for i in nz_idxs])"
   ]
  },
  {
   "cell_type": "code",
   "execution_count": 247,
   "metadata": {
    "collapsed": false
   },
   "outputs": [
    {
     "name": "stdout",
     "output_type": "stream",
     "text": [
      "P:\t0.757251381215\n",
      "R:\t0.566666666667\n",
      "F1:\t0.64824120603\n"
     ]
    }
   ],
   "source": [
    "predicted = 0\n",
    "correct   = 0\n",
    "for i in range(X_train.shape[0]):\n",
    "    yp = model.predict(X_train.getrow(i))\n",
    "    if yp is not None:\n",
    "        predicted += 1\n",
    "        \n",
    "        # NOTE: we assume we're doing disambiguation perfectly here!!!\n",
    "        if X_train_labels[i] in yp:\n",
    "            correct += 1\n",
    "\n",
    "prec   = correct / float(predicted)\n",
    "recall = correct / float(N_pos_train)\n",
    "f1     = (2 * prec * recall) / (prec +  recall)\n",
    "print \"P:\\t\", prec\n",
    "print \"R:\\t\", recall\n",
    "print \"F1:\\t\", f1"
   ]
  },
  {
   "cell_type": "code",
   "execution_count": 248,
   "metadata": {
    "collapsed": false
   },
   "outputs": [
    {
     "name": "stdout",
     "output_type": "stream",
     "text": [
      "P:\t0.75717744725\n",
      "R:\t0.565633074935\n",
      "F1:\t0.647537346546\n"
     ]
    }
   ],
   "source": [
    "predicted = 0\n",
    "correct   = 0\n",
    "for i in range(X_train.shape[0]):\n",
    "    yp = model.predict(X_train.getrow(i), W=I)\n",
    "    if yp is not None:\n",
    "        predicted += 1\n",
    "        \n",
    "        # NOTE: we assume we're doing disambiguation perfectly here!!!\n",
    "        if X_train_labels[i] in yp:\n",
    "            correct += 1\n",
    "\n",
    "prec   = correct / float(predicted)\n",
    "recall = correct / float(N_pos_train)\n",
    "f1     = (2 * prec * recall) / (prec +  recall)\n",
    "print \"P:\\t\", prec\n",
    "print \"R:\\t\", recall\n",
    "print \"F1:\\t\", f1"
   ]
  },
  {
   "cell_type": "code",
   "execution_count": 235,
   "metadata": {
    "collapsed": true
   },
   "outputs": [],
   "source": [
    "X_dev_labels = np.array([L_gold_dev[i,0] for i in range(len(dev)) if yp_d_dev[i] > 0])"
   ]
  },
  {
   "cell_type": "code",
   "execution_count": 249,
   "metadata": {
    "collapsed": false
   },
   "outputs": [
    {
     "name": "stdout",
     "output_type": "stream",
     "text": [
      "P:\t0.687674635206\n",
      "R:\t0.557092555332\n",
      "F1:\t0.615534250382\n"
     ]
    }
   ],
   "source": [
    "N_pos_dev = sum([1 for i in range(L_gold_dev.shape[0]) if L_gold_dev[i,0] > 0])\n",
    "\n",
    "predicted = 0\n",
    "correct   = 0\n",
    "for i in range(X_dev.shape[0]):\n",
    "    yp = model.predict(X_dev.getrow(i))\n",
    "    if yp is not None:\n",
    "        predicted += 1\n",
    "        \n",
    "        # NOTE: we assume we're doing disambiguation perfectly here!!!\n",
    "        if X_dev_labels[i] in yp:\n",
    "            correct += 1\n",
    "\n",
    "prec   = correct / float(predicted)\n",
    "recall = correct / float(N_pos_dev)\n",
    "f1     = (2 * prec * recall) / (prec +  recall)\n",
    "print \"P:\\t\", prec\n",
    "print \"R:\\t\", recall\n",
    "print \"F1:\\t\", f1"
   ]
  },
  {
   "cell_type": "code",
   "execution_count": 250,
   "metadata": {
    "collapsed": false
   },
   "outputs": [
    {
     "name": "stdout",
     "output_type": "stream",
     "text": [
      "P:\t0.690721649485\n",
      "R:\t0.556086519115\n",
      "F1:\t0.616134875296\n"
     ]
    }
   ],
   "source": [
    "N_pos_dev = sum([1 for i in range(L_gold_dev.shape[0]) if L_gold_dev[i,0] > 0])\n",
    "\n",
    "predicted = 0\n",
    "correct   = 0\n",
    "for i in range(X_dev.shape[0]):\n",
    "    yp = model.predict(X_dev.getrow(i), W=I, b=0.0)\n",
    "    if yp is not None:\n",
    "        predicted += 1\n",
    "        \n",
    "        # NOTE: we assume we're doing disambiguation perfectly here!!!\n",
    "        if X_dev_labels[i] in yp:\n",
    "            correct += 1\n",
    "\n",
    "prec   = correct / float(predicted)\n",
    "recall = correct / float(N_pos_dev)\n",
    "f1     = (2 * prec * recall) / (prec +  recall)\n",
    "print \"P:\\t\", prec\n",
    "print \"R:\\t\", recall\n",
    "print \"F1:\\t\", f1"
   ]
  },
  {
   "cell_type": "markdown",
   "metadata": {},
   "source": [
    "### Debugging..."
   ]
  },
  {
   "cell_type": "markdown",
   "metadata": {},
   "source": [
    "# How much does disambiguation matter??"
   ]
  },
  {
   "cell_type": "code",
   "execution_count": 195,
   "metadata": {
    "collapsed": false
   },
   "outputs": [
    {
     "name": "stdout",
     "output_type": "stream",
     "text": [
      "0\n",
      "100\n",
      "200\n",
      "300\n",
      "400\n",
      "500\n",
      "600\n",
      "700\n",
      "800\n",
      "900\n",
      "1000\n",
      "1100\n",
      "1200\n",
      "1300\n",
      "1400\n",
      "1500\n",
      "1600\n",
      "1700\n",
      "1800\n",
      "1900\n",
      "2000\n",
      "2100\n",
      "2200\n",
      "2300\n",
      "2400\n",
      "2500\n",
      "2600\n",
      "2700\n",
      "2800\n",
      "2900\n",
      "3000\n",
      "3100\n",
      "3200\n"
     ]
    }
   ],
   "source": [
    "incorrect = []\n",
    "for i in range(X_dev.shape[0]):\n",
    "    if i % 100 == 0:\n",
    "        print i\n",
    "    yp = model.predict(X_dev.getrow(i))\n",
    "    if yp is not None:\n",
    "        if X_dev_labels[i] not in yp:\n",
    "            incorrect.append(i)"
   ]
  },
  {
   "cell_type": "code",
   "execution_count": 196,
   "metadata": {
    "collapsed": false
   },
   "outputs": [
    {
     "data": {
      "text/plain": [
       "1080"
      ]
     },
     "execution_count": 196,
     "metadata": {},
     "output_type": "execute_result"
    }
   ],
   "source": [
    "len(incorrect)"
   ]
  },
  {
   "cell_type": "code",
   "execution_count": 102,
   "metadata": {
    "collapsed": false
   },
   "outputs": [
    {
     "data": {
      "text/plain": [
       "1133"
      ]
     },
     "execution_count": 102,
     "metadata": {},
     "output_type": "execute_result"
    }
   ],
   "source": [
    "len(incorrectorrect)"
   ]
  },
  {
   "cell_type": "code",
   "execution_count": 208,
   "metadata": {
    "collapsed": false
   },
   "outputs": [],
   "source": [
    "ic = incorrect[0]"
   ]
  },
  {
   "cell_type": "code",
   "execution_count": 209,
   "metadata": {
    "collapsed": false
   },
   "outputs": [
    {
     "data": {
      "text/plain": [
       "<1x271513 sparse matrix of type '<type 'numpy.float64'>'\n",
       "\twith 1 stored elements in Compressed Sparse Row format>"
      ]
     },
     "execution_count": 209,
     "metadata": {},
     "output_type": "execute_result"
    }
   ],
   "source": [
    "x = X_dev.getrow(ic)\n",
    "x"
   ]
  },
  {
   "cell_type": "code",
   "execution_count": 210,
   "metadata": {
    "collapsed": false
   },
   "outputs": [
    {
     "name": "stdout",
     "output_type": "stream",
     "text": [
      "parkinson\n"
     ]
    }
   ],
   "source": [
    "for j in x.nonzero()[1]:\n",
    "    print cd_vectorizer.inv_word_index[j]"
   ]
  },
  {
   "cell_type": "code",
   "execution_count": 226,
   "metadata": {
    "collapsed": false
   },
   "outputs": [
    {
     "data": {
      "text/plain": [
       "'D010302'"
      ]
     },
     "execution_count": 226,
     "metadata": {},
     "output_type": "execute_result"
    }
   ],
   "source": [
    "cd.cid_to_sid[X_dev_labels[ic]]"
   ]
  },
  {
   "cell_type": "code",
   "execution_count": 212,
   "metadata": {
    "collapsed": false
   },
   "outputs": [
    {
     "data": {
      "text/plain": [
       "'C537177'"
      ]
     },
     "execution_count": 212,
     "metadata": {},
     "output_type": "execute_result"
    }
   ],
   "source": [
    "cd.cid_to_sid[model.predict(x)]"
   ]
  },
  {
   "cell_type": "code",
   "execution_count": 224,
   "metadata": {
    "collapsed": false
   },
   "outputs": [
    {
     "data": {
      "text/plain": [
       "3896"
      ]
     },
     "execution_count": 224,
     "metadata": {},
     "output_type": "execute_result"
    }
   ],
   "source": [
    "cd.sid_to_cid['C537177']"
   ]
  },
  {
   "cell_type": "code",
   "execution_count": 227,
   "metadata": {
    "collapsed": false
   },
   "outputs": [
    {
     "data": {
      "text/plain": [
       "set()"
      ]
     },
     "execution_count": 227,
     "metadata": {},
     "output_type": "execute_result"
    }
   ],
   "source": [
    "model.cid_to_rows[X_dev_labels[ic]].intersection(model.cid_to_rows[3896])"
   ]
  },
  {
   "cell_type": "code",
   "execution_count": 228,
   "metadata": {
    "collapsed": false
   },
   "outputs": [
    {
     "data": {
      "text/plain": [
       "{24611,\n",
       " 24612,\n",
       " 24613,\n",
       " 24614,\n",
       " 24615,\n",
       " 24616,\n",
       " 24617,\n",
       " 24618,\n",
       " 24619,\n",
       " 24620,\n",
       " 24621,\n",
       " 24622,\n",
       " 24623,\n",
       " 24624,\n",
       " 24625,\n",
       " 24626,\n",
       " 24627,\n",
       " 24628,\n",
       " 24629,\n",
       " 24630,\n",
       " 24631,\n",
       " 24632,\n",
       " 24633,\n",
       " 24634,\n",
       " 24635,\n",
       " 24636,\n",
       " 24637,\n",
       " 24638,\n",
       " 24639,\n",
       " 24640,\n",
       " 24641,\n",
       " 24642,\n",
       " 24643,\n",
       " 24644,\n",
       " 24645,\n",
       " 24646,\n",
       " 24647,\n",
       " 24648,\n",
       " 24649,\n",
       " 45610,\n",
       " 45611,\n",
       " 45612,\n",
       " 45613,\n",
       " 45614,\n",
       " 45615,\n",
       " 45616,\n",
       " 45617,\n",
       " 45618,\n",
       " 51730,\n",
       " 51745,\n",
       " 51756,\n",
       " 51757,\n",
       " 51758,\n",
       " 52102,\n",
       " 52103,\n",
       " 59020,\n",
       " 59021,\n",
       " 59022,\n",
       " 59697,\n",
       " 59698,\n",
       " 59699,\n",
       " 60319,\n",
       " 60320,\n",
       " 60929,\n",
       " 60930,\n",
       " 61510,\n",
       " 61511,\n",
       " 61512,\n",
       " 61513,\n",
       " 62117,\n",
       " 62714,\n",
       " 63334}"
      ]
     },
     "execution_count": 228,
     "metadata": {},
     "output_type": "execute_result"
    }
   ],
   "source": [
    "model.cid_to_rows[3896]"
   ]
  },
  {
   "cell_type": "code",
   "execution_count": 190,
   "metadata": {
    "collapsed": false
   },
   "outputs": [],
   "source": [
    "s = x * model.W * model.D.T\n",
    "s = s.tocoo()"
   ]
  },
  {
   "cell_type": "code",
   "execution_count": 191,
   "metadata": {
    "collapsed": false
   },
   "outputs": [
    {
     "data": {
      "text/plain": [
       "array([ 0.0011054 ,  0.0011054 ,  0.0011054 , ...,  0.30884806,\n",
       "        0.30884806,  0.30884806])"
      ]
     },
     "execution_count": 191,
     "metadata": {},
     "output_type": "execute_result"
    }
   ],
   "source": [
    "s.data"
   ]
  },
  {
   "cell_type": "markdown",
   "metadata": {},
   "source": [
    "### TF-IDF baseline..."
   ]
  },
  {
   "cell_type": "code",
   "execution_count": 200,
   "metadata": {
    "collapsed": false
   },
   "outputs": [
    {
     "name": "stdout",
     "output_type": "stream",
     "text": [
      "P :\t0.747838118298\n",
      "R :\t0.558656330749\n",
      "F1:\t0.639550362372\n"
     ]
    }
   ],
   "source": [
    "from scipy import sparse\n",
    "I = sparse.identity(X_train.shape[1], format='csr')\n",
    "\n",
    "predicted = -1 * np.ones(X_train.shape[0])\n",
    "for i in range(X_train.shape[0]):\n",
    "    yp = model.predict(X_train.getrow(i), W=I, b=0.0)\n",
    "    if yp is not None and yp > 0:\n",
    "        predicted[i] = yp\n",
    "\n",
    "get_mn_score(predicted, X_train_labels, N_total_pos=N_pos_train)"
   ]
  },
  {
   "cell_type": "code",
   "execution_count": 201,
   "metadata": {
    "collapsed": false
   },
   "outputs": [
    {
     "name": "stdout",
     "output_type": "stream",
     "text": [
      "P :\t0.676038737894\n",
      "R :\t0.544265593561\n",
      "F1:\t0.603037480842\n"
     ]
    }
   ],
   "source": [
    "from scipy import sparse\n",
    "I = sparse.identity(X_dev.shape[1], format='csr')\n",
    "\n",
    "predicted = -1 * np.ones(X_dev.shape[0])\n",
    "for i in range(X_dev.shape[0]):\n",
    "    yp = model.predict(X_dev.getrow(i), W=I, b=0.0)\n",
    "    if yp is not None and yp > 0:\n",
    "        predicted[i] = yp\n",
    "\n",
    "get_mn_score(predicted, X_dev_labels, N_total_pos=N_pos_dev)"
   ]
  },
  {
   "cell_type": "code",
   "execution_count": 336,
   "metadata": {
    "collapsed": false
   },
   "outputs": [
    {
     "data": {
      "text/plain": [
       "63794"
      ]
     },
     "execution_count": 336,
     "metadata": {},
     "output_type": "execute_result"
    }
   ],
   "source": [
    "len(cd.pos_terms)"
   ]
  },
  {
   "cell_type": "code",
   "execution_count": 337,
   "metadata": {
    "collapsed": false
   },
   "outputs": [
    {
     "data": {
      "text/plain": [
       "63794"
      ]
     },
     "execution_count": 337,
     "metadata": {},
     "output_type": "execute_result"
    }
   ],
   "source": [
    "len(set(cd.pos_terms))"
   ]
  },
  {
   "cell_type": "code",
   "execution_count": null,
   "metadata": {
    "collapsed": true
   },
   "outputs": [],
   "source": []
  }
 ],
 "metadata": {
  "kernelspec": {
   "display_name": "Python 2",
   "language": "python",
   "name": "python2"
  },
  "language_info": {
   "codemirror_mode": {
    "name": "ipython",
    "version": 2
   },
   "file_extension": ".py",
   "mimetype": "text/x-python",
   "name": "python",
   "nbconvert_exporter": "python",
   "pygments_lexer": "ipython2",
   "version": "2.7.6"
  }
 },
 "nbformat": 4,
 "nbformat_minor": 0
}
