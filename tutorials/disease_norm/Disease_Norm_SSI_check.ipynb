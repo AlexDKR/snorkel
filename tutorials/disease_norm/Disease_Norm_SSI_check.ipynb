{
 "cells": [
  {
   "cell_type": "markdown",
   "metadata": {},
   "source": [
    "# Check the SSI model in directly-supervised setting..."
   ]
  },
  {
   "cell_type": "code",
   "execution_count": 1,
   "metadata": {
    "collapsed": false
   },
   "outputs": [],
   "source": [
    "%load_ext autoreload\n",
    "%autoreload 2\n",
    "%matplotlib inline\n",
    "%load_ext line_profiler\n",
    "\n",
    "import numpy as np\n",
    "from snorkel import SnorkelSession\n",
    "session = SnorkelSession()\n",
    "\n",
    "from snorkel.models import candidate_subclass\n",
    "\n",
    "Disease = candidate_subclass('Disease', ['disease'])"
   ]
  },
  {
   "cell_type": "code",
   "execution_count": 2,
   "metadata": {
    "collapsed": false
   },
   "outputs": [
    {
     "name": "stdout",
     "output_type": "stream",
     "text": [
      "28087\n",
      "27896\n"
     ]
    }
   ],
   "source": [
    "from snorkel.models import CandidateSet\n",
    "\n",
    "train = session.query(CandidateSet).filter(CandidateSet.name == 'CDR Training Candidates').one()\n",
    "print len(train)\n",
    "dev = session.query(CandidateSet).filter(CandidateSet.name == 'CDR Development Candidates').one()\n",
    "print len(dev)"
   ]
  },
  {
   "cell_type": "code",
   "execution_count": 3,
   "metadata": {
    "collapsed": false
   },
   "outputs": [
    {
     "name": "stdout",
     "output_type": "stream",
     "text": [
      "(28087, 1)\n",
      "(27896, 1)\n"
     ]
    }
   ],
   "source": [
    "from snorkel.annotations import LabelManager\n",
    "\n",
    "label_manager = LabelManager()\n",
    "\n",
    "L_gold_train = label_manager.load(session, train, \"CDR Training Label Set\")\n",
    "print L_gold_train.shape\n",
    "L_gold_dev = label_manager.load(session, dev, \"CDR Development Label Set\")\n",
    "print L_gold_dev.shape"
   ]
  },
  {
   "cell_type": "markdown",
   "metadata": {},
   "source": [
    "# Load canonical & secondary dictionaries"
   ]
  },
  {
   "cell_type": "code",
   "execution_count": 4,
   "metadata": {
    "collapsed": false
   },
   "outputs": [],
   "source": [
    "from cPickle import load\n",
    "cd = load(open('cd.pkl', 'rb'))"
   ]
  },
  {
   "cell_type": "code",
   "execution_count": 5,
   "metadata": {
    "collapsed": false
   },
   "outputs": [
    {
     "name": "stdout",
     "output_type": "stream",
     "text": [
      "|V| = 271512\n",
      "CPU times: user 39.6 s, sys: 1.65 s, total: 41.3 s\n",
      "Wall time: 40.5 s\n"
     ]
    }
   ],
   "source": [
    "%%time\n",
    "from entity_norm import CanonDictVectorizer \n",
    "\n",
    "# Create a vectorizer based around this \n",
    "cd_vectorizer = CanonDictVectorizer(cd.term_to_sids, other_phrases=[])\n",
    "\n",
    "# Vectorize the dictionary\n",
    "D_pos = cd_vectorizer.vectorize_phrases(cd.pos_terms)\n",
    "D_pos"
   ]
  },
  {
   "cell_type": "markdown",
   "metadata": {},
   "source": [
    "# Directly-Supervised SSI\n",
    "\n",
    "Let's assume we have **only positives** and **ground truth CIDs**, and see if the model works!!!"
   ]
  },
  {
   "cell_type": "code",
   "execution_count": 6,
   "metadata": {
    "collapsed": false
   },
   "outputs": [
    {
     "data": {
      "text/plain": [
       "<3870x271513 sparse matrix of type '<type 'numpy.float64'>'\n",
       "\twith 8502 stored elements in Compressed Sparse Row format>"
      ]
     },
     "execution_count": 6,
     "metadata": {},
     "output_type": "execute_result"
    }
   ],
   "source": [
    "N_train           = L_gold_train.shape[0]\n",
    "train_pos_phrases = []\n",
    "train_pos_labels  = []\n",
    "for i in range(N_train):\n",
    "    if L_gold_train[i,0] > 0:\n",
    "        train_pos_phrases.append(train[i].disease.get_span().lower())\n",
    "        train_pos_labels.append(L_gold_train[i,0])\n",
    "        \n",
    "X_train = cd_vectorizer.vectorize_phrases(train_pos_phrases)\n",
    "X_train"
   ]
  },
  {
   "cell_type": "code",
   "execution_count": 7,
   "metadata": {
    "collapsed": false
   },
   "outputs": [
    {
     "data": {
      "text/plain": [
       "<3870x4790 sparse matrix of type '<type 'numpy.float64'>'\n",
       "\twith 3870 stored elements in Compressed Sparse Row format>"
      ]
     },
     "execution_count": 7,
     "metadata": {},
     "output_type": "execute_result"
    }
   ],
   "source": [
    "from scipy.sparse import lil_matrix\n",
    "\n",
    "N_train_pos = X_train.shape[0]\n",
    "K           = len(set(cd.sid_to_cid.values()))\n",
    "Y           = lil_matrix((N_train_pos, K))\n",
    "\n",
    "for i in range(N_train_pos):\n",
    "    Y[i, int(train_pos_labels[i])] = 1.0\n",
    "Y = Y.tocsr()\n",
    "Y"
   ]
  },
  {
   "cell_type": "code",
   "execution_count": 8,
   "metadata": {
    "collapsed": true
   },
   "outputs": [],
   "source": [
    "cid_sets = [set([cd.sid_to_cid[sid] for sid in cd.term_to_sids[t] if sid in cd.sid_to_cid]) for t in cd.pos_terms]"
   ]
  },
  {
   "cell_type": "code",
   "execution_count": 27,
   "metadata": {
    "collapsed": false
   },
   "outputs": [],
   "source": [
    "from entity_norm import SSIModel\n",
    "\n",
    "model = SSIModel(D_pos, cid_sets)"
   ]
  },
  {
   "cell_type": "code",
   "execution_count": 33,
   "metadata": {
    "collapsed": false
   },
   "outputs": [
    {
     "name": "stdout",
     "output_type": "stream",
     "text": [
      "Iteration: 0\n",
      "\t3750Iteration: 1\n",
      "\t3750Iteration: 2\n",
      "\t3750Iteration: 3\n",
      "\t3750Iteration: 4\n",
      "\t3750Iteration: 5\n",
      "\t3750Iteration: 6\n",
      "\t3750Iteration: 7\n",
      "\t3750Iteration: 8\n",
      "\t3750Iteration: 9\n",
      "\t3750Iteration: 10\n",
      "\t3750Iteration: 11\n",
      "\t3750Iteration: 12\n",
      "\t3750Iteration: 13\n",
      "\t3750Iteration: 14\n",
      "\t3750Iteration: 15\n",
      "\t3750Iteration: 16\n",
      "\t3750Iteration: 17\n",
      "\t3750Iteration: 18\n",
      "\t3750Iteration: 19\n",
      "\t3750Iteration: 20\n",
      "\t3750Iteration: 21\n",
      "\t3750Iteration: 22\n",
      "\t3750Iteration: 23\n",
      "\t3750Iteration: 24\n",
      "\t3750Iteration: 25\n",
      "\t3750Iteration: 26\n",
      "\t3750Iteration: 27\n",
      "\t3750Iteration: 28\n",
      "\t3750Iteration: 29\n",
      "\t3750\n",
      "\n",
      "CPU times: user 44min 26s, sys: 588 ms, total: 44min 27s\n",
      "Wall time: 44min 23s\n"
     ]
    }
   ],
   "source": [
    "%time model.train(X_train, Y, rate=1e-2, n_iter=30, n_iter_sample=1)"
   ]
  },
  {
   "cell_type": "markdown",
   "metadata": {},
   "source": [
    "### Eval"
   ]
  },
  {
   "cell_type": "code",
   "execution_count": 11,
   "metadata": {
    "collapsed": false
   },
   "outputs": [
    {
     "data": {
      "text/plain": [
       "<3976x271513 sparse matrix of type '<type 'numpy.float64'>'\n",
       "\twith 8910 stored elements in Compressed Sparse Row format>"
      ]
     },
     "execution_count": 11,
     "metadata": {},
     "output_type": "execute_result"
    }
   ],
   "source": [
    "N_dev           = L_gold_dev.shape[0]\n",
    "dev_pos_phrases = []\n",
    "dev_pos_labels  = []\n",
    "for i in range(N_dev):\n",
    "    if L_gold_dev[i,0] > 0:\n",
    "        dev_pos_phrases.append(dev[i].disease.get_span().lower())\n",
    "        dev_pos_labels.append(L_gold_dev[i,0])\n",
    "        \n",
    "X_dev = cd_vectorizer.vectorize_phrases(dev_pos_phrases)\n",
    "X_dev"
   ]
  },
  {
   "cell_type": "code",
   "execution_count": 23,
   "metadata": {
    "collapsed": false
   },
   "outputs": [],
   "source": [
    "def get_set_scores(model, X, X_labels, N_pos, W=None, b=None, display=True):\n",
    "    predicted = 0\n",
    "    correct   = 0\n",
    "    for i in range(X.shape[0]):\n",
    "        yp = model.predict(X.getrow(i), W=W, b=b)\n",
    "        if yp is not None:\n",
    "            predicted += 1\n",
    "        \n",
    "            # NOTE: we assume we're doing disambiguation perfectly here!!!\n",
    "            if X_labels[i] in yp:\n",
    "                correct += 1\n",
    "\n",
    "    prec   = correct / float(predicted)\n",
    "    recall = correct / float(N_pos)\n",
    "    f1     = (2 * prec * recall) / (prec +  recall)\n",
    "    if display:\n",
    "        print \"P:\\t\", prec\n",
    "        print \"R:\\t\", recall\n",
    "        print \"F1:\\t\", f1\n",
    "    return prec, recall, f1"
   ]
  },
  {
   "cell_type": "code",
   "execution_count": 13,
   "metadata": {
    "collapsed": true
   },
   "outputs": [],
   "source": [
    "from scipy import sparse\n",
    "I = sparse.identity(X_train.shape[1], format='csr')"
   ]
  },
  {
   "cell_type": "code",
   "execution_count": 34,
   "metadata": {
    "collapsed": false
   },
   "outputs": [],
   "source": [
    "import matplotlib.pyplot as plt\n",
    "\n",
    "train_f1s = []\n",
    "dev_f1s   = []\n",
    "for W, b in zip(model.Ws, model.bs):\n",
    "    prec, recall, f1 = get_set_scores(model, X_train, train_pos_labels, N_train_pos, W=W, b=b, display=False)\n",
    "    train_f1s.append(f1)\n",
    "    prec, recall, f1 = get_set_scores(model, X_dev, dev_pos_labels, X_dev.shape[0], W=W, b=b, display=False)\n",
    "    dev_f1s.append(f1)"
   ]
  },
  {
   "cell_type": "code",
   "execution_count": 35,
   "metadata": {
    "collapsed": false
   },
   "outputs": [
    {
     "data": {
      "text/plain": [
       "[<matplotlib.lines.Line2D at 0x7fca4bc6d750>]"
      ]
     },
     "execution_count": 35,
     "metadata": {},
     "output_type": "execute_result"
    },
    {
     "data": {
      "image/png": "[encoded data removed]",
      "text/plain": [
       "<matplotlib.figure.Figure at 0x7fca4bc47190>"
      ]
     },
     "metadata": {},
     "output_type": "display_data"
    }
   ],
   "source": [
    "iters = range(len(model.Ws))\n",
    "plt.plot(iters, train_f1s)\n",
    "plt.plot(iters, dev_f1s)"
   ]
  }
 ],
 "metadata": {
  "kernelspec": {
   "display_name": "Python 2",
   "language": "python",
   "name": "python2"
  },
  "language_info": {
   "codemirror_mode": {
    "name": "ipython",
    "version": 2
   },
   "file_extension": ".py",
   "mimetype": "text/x-python",
   "name": "python",
   "nbconvert_exporter": "python",
   "pygments_lexer": "ipython2",
   "version": "2.7.6"
  }
 },
 "nbformat": 4,
 "nbformat_minor": 0
}
