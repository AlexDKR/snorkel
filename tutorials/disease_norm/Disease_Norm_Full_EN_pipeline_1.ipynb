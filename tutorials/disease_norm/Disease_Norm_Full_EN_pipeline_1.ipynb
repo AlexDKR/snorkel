{
 "cells": [
  {
   "cell_type": "code",
   "execution_count": 1,
   "metadata": {
    "collapsed": false
   },
   "outputs": [
    {
     "name": "stdout",
     "output_type": "stream",
     "text": [
      "The autoreload extension is already loaded. To reload it, use:\n",
      "  %reload_ext autoreload\n"
     ]
    }
   ],
   "source": [
    "%load_ext autoreload\n",
    "%autoreload 2\n",
    "%matplotlib inline\n",
    "\n",
    "import numpy as np\n",
    "from snorkel import SnorkelSession\n",
    "session = SnorkelSession()\n",
    "\n",
    "from snorkel.models import candidate_subclass\n",
    "\n",
    "Disease = candidate_subclass('Disease', ['disease'])"
   ]
  },
  {
   "cell_type": "code",
   "execution_count": 2,
   "metadata": {
    "collapsed": false
   },
   "outputs": [
    {
     "name": "stdout",
     "output_type": "stream",
     "text": [
      "28087\n",
      "27896\n"
     ]
    }
   ],
   "source": [
    "from snorkel.models import CandidateSet\n",
    "\n",
    "train = session.query(CandidateSet).filter(CandidateSet.name == 'CDR Training Candidates').one()\n",
    "print len(train)\n",
    "dev = session.query(CandidateSet).filter(CandidateSet.name == 'CDR Development Candidates').one()\n",
    "print len(dev)"
   ]
  },
  {
   "cell_type": "code",
   "execution_count": 3,
   "metadata": {
    "collapsed": false
   },
   "outputs": [
    {
     "name": "stdout",
     "output_type": "stream",
     "text": [
      "(28087, 1)\n",
      "(27896, 1)\n"
     ]
    }
   ],
   "source": [
    "from snorkel.annotations import LabelManager\n",
    "\n",
    "label_manager = LabelManager()\n",
    "\n",
    "L_gold_train = label_manager.load(session, train, \"CDR Training Label Set\")\n",
    "print L_gold_train.shape\n",
    "L_gold_dev = label_manager.load(session, dev, \"CDR Development Label Set\")\n",
    "print L_gold_dev.shape"
   ]
  },
  {
   "cell_type": "markdown",
   "metadata": {},
   "source": [
    "# Load `L_train` and `L_dev`"
   ]
  },
  {
   "cell_type": "code",
   "execution_count": 4,
   "metadata": {
    "collapsed": false
   },
   "outputs": [
    {
     "name": "stdout",
     "output_type": "stream",
     "text": [
      "(28087, 1645)\n",
      "(27896, 1557)\n",
      "CPU times: user 52 s, sys: 1.17 s, total: 53.1 s\n",
      "Wall time: 52.9 s\n"
     ]
    }
   ],
   "source": [
    "%%time\n",
    "from snorkel.annotations import merge_annotations\n",
    "from utils import binarize_LF_matrix, get_binarized_score\n",
    "\n",
    "L_TRAIN_BLOCKS = ['1', '2', '3', '4.1', '4 T2', '4 N', '5', '6']\n",
    "L_DEV_BLOCKS   = ['1', '2', '3.1', '4', '4 T2', '4 N', '5', '6']\n",
    "\n",
    "L_train_blocks = [label_manager.load(session, train, 'LF Training Labels %s' % lfn) for lfn in L_TRAIN_BLOCKS]\n",
    "L_dev_blocks   = [label_manager.load(session, dev, 'LF Development Labels %s' % lfn) for lfn in L_DEV_BLOCKS]\n",
    "\n",
    "L_train   = merge_annotations(L_train_blocks)\n",
    "L_train_b = binarize_LF_matrix(L_train)\n",
    "L_dev     = merge_annotations(L_dev_blocks)\n",
    "L_dev_b   = binarize_LF_matrix(L_dev)\n",
    "print L_train.shape\n",
    "print L_dev.shape"
   ]
  },
  {
   "cell_type": "markdown",
   "metadata": {},
   "source": [
    "# Load `F_train` and `F_dev`"
   ]
  },
  {
   "cell_type": "code",
   "execution_count": 5,
   "metadata": {
    "collapsed": false
   },
   "outputs": [
    {
     "name": "stdout",
     "output_type": "stream",
     "text": [
      "(28087, 69885)\n",
      "(27896, 69885)\n",
      "CPU times: user 4min 42s, sys: 3.74 s, total: 4min 45s\n",
      "Wall time: 4min 45s\n"
     ]
    }
   ],
   "source": [
    "%%time\n",
    "from snorkel.annotations import FeatureManager\n",
    "\n",
    "feature_manager = FeatureManager()\n",
    "\n",
    "F_train = feature_manager.load(session, train, 'Train Features')\n",
    "F_dev   = feature_manager.load(session, dev, 'Train Features')\n",
    "print F_train.shape\n",
    "print F_dev.shape"
   ]
  },
  {
   "cell_type": "markdown",
   "metadata": {},
   "source": [
    "# Load canonical & secondary dictionaries"
   ]
  },
  {
   "cell_type": "code",
   "execution_count": 6,
   "metadata": {
    "collapsed": true
   },
   "outputs": [],
   "source": [
    "cd = load(open('cd.pkl', 'rb'))"
   ]
  },
  {
   "cell_type": "markdown",
   "metadata": {},
   "source": [
    "# Setup 1: Direct EN"
   ]
  },
  {
   "cell_type": "markdown",
   "metadata": {},
   "source": [
    "# Setup 1.i: Exact Match\n",
    "\n",
    "In this first setup, we simply try to do exact matching on noun phrases"
   ]
  },
  {
   "cell_type": "code",
   "execution_count": 7,
   "metadata": {
    "collapsed": false
   },
   "outputs": [
    {
     "name": "stdout",
     "output_type": "stream",
     "text": [
      "P:\t0.825947334618\n",
      "R:\t0.323440643863\n",
      "F1:\t0.464847279957\n"
     ]
    }
   ],
   "source": [
    "correct   = 0\n",
    "predicted = 0\n",
    "total_pos = 0\n",
    "for i,c in enumerate(dev):\n",
    "    if L_gold_dev[i,0] > 0:\n",
    "        total_pos += 1\n",
    "    \n",
    "    # Check for exact *positive* matches to the canonical dictionary\n",
    "    p    = c.disease.get_span().lower()\n",
    "    sids = cd.term_to_sids[p]\n",
    "    cids = set([cd.sid_to_cid[sid] for sid in sids if sid in cd.sid_to_cid])\n",
    "    if len(cids) > 0:\n",
    "        predicted += 1\n",
    "        cid = list(cids)[0]\n",
    "        if cid == L_gold_dev[i,0]:\n",
    "            correct += 1\n",
    "\n",
    "prec   = correct / float(predicted)\n",
    "recall = correct / float(total_pos)\n",
    "\n",
    "print \"P:\\t\", prec\n",
    "print \"R:\\t\", recall\n",
    "print \"F1:\\t\", (2*prec*recall) / (prec+recall)"
   ]
  },
  {
   "cell_type": "markdown",
   "metadata": {},
   "source": [
    "# Setup 1.ii: TF-IDF\n",
    "\n",
    "We tune the accept threshold on the training set"
   ]
  },
  {
   "cell_type": "code",
   "execution_count": 8,
   "metadata": {
    "collapsed": false
   },
   "outputs": [
    {
     "name": "stdout",
     "output_type": "stream",
     "text": [
      "|V| = 272295\n",
      "CPU times: user 1min 19s, sys: 1.34 s, total: 1min 20s\n",
      "Wall time: 1min 19s\n"
     ]
    }
   ],
   "source": [
    "%%time\n",
    "from entity_norm import CanonDictVectorizer \n",
    "\n",
    "# Create a vectorizer based around this \n",
    "cd_vectorizer = CanonDictVectorizer(cd.term_to_sids, other_phrases=[])\n",
    "\n",
    "# Vectorize the dictionary\n",
    "D_pos   = cd_vectorizer.vectorize_phrases(cd.pos_terms)\n",
    "D_pos_t = D_pos.T\n",
    "D_pos_t"
   ]
  },
  {
   "cell_type": "code",
   "execution_count": 9,
   "metadata": {
    "collapsed": true
   },
   "outputs": [],
   "source": [
    "def get_pos_vector_matches(candidates):\n",
    "    best_match = defaultdict(lambda : (0.0, -1))\n",
    "    for c in candidates:\n",
    "        p  = c.disease.get_span().lower()\n",
    "        cx = cd_vectorizer.vectorize_phrases([p])\n",
    "        m  = cx * D_pos_t\n",
    "        m  = m.tocoo()\n",
    "        for i, s in enumerate(m.data):\n",
    "            j    = m.col[i]\n",
    "            t    = cd.pos_terms[j]\n",
    "            sids = cd.term_to_sids[t]\n",
    "            cid  = list(set([cd.sid_to_cid[sid] for sid in sids if sid in cd.sid_to_cid]))[0]\n",
    "            if s > best_match[c.id][0]:\n",
    "                best_match[c.id] = (s, cid)\n",
    "    return best_match"
   ]
  },
  {
   "cell_type": "code",
   "execution_count": 10,
   "metadata": {
    "collapsed": false
   },
   "outputs": [
    {
     "name": "stdout",
     "output_type": "stream",
     "text": [
      "CPU times: user 2min 46s, sys: 2.74 s, total: 2min 49s\n",
      "Wall time: 2min 49s\n"
     ]
    }
   ],
   "source": [
    "%time best_match = get_pos_vector_matches(train)"
   ]
  },
  {
   "cell_type": "code",
   "execution_count": 11,
   "metadata": {
    "collapsed": false
   },
   "outputs": [
    {
     "data": {
      "text/plain": [
       "(array([  105.,   232.,   983.,  1938.,  2960.,  3814.,  2730.,  2432.,\n",
       "         1170.,  2194.]),\n",
       " array([ 0.02316691,  0.12085022,  0.21853353,  0.31621683,  0.41390014,\n",
       "         0.51158345,  0.60926676,  0.70695007,  0.80463338,  0.90231669,  1.        ]),\n",
       " <a list of 10 Patch objects>)"
      ]
     },
     "execution_count": 11,
     "metadata": {},
     "output_type": "execute_result"
    },
    {
     "data": {
      "image/png": "[encoded data removed]",
      "text/plain": [
       "<matplotlib.figure.Figure at 0x1484d3e90>"
      ]
     },
     "metadata": {},
     "output_type": "display_data"
    }
   ],
   "source": [
    "plt.hist([x[0] for x in best_match.values()])"
   ]
  },
  {
   "cell_type": "code",
   "execution_count": 12,
   "metadata": {
    "collapsed": false
   },
   "outputs": [
    {
     "data": {
      "text/plain": [
       "3870"
      ]
     },
     "execution_count": 12,
     "metadata": {},
     "output_type": "execute_result"
    }
   ],
   "source": [
    "N_pos_train = sum([1 for i in range(L_gold_train.shape[0]) if L_gold_train[i,0] > 0])\n",
    "N_pos_train"
   ]
  },
  {
   "cell_type": "code",
   "execution_count": 13,
   "metadata": {
    "collapsed": false
   },
   "outputs": [],
   "source": [
    "GRID = xrange(0, 20)\n",
    "f1s  = []\n",
    "\n",
    "# Grid search over threshold using training set labels\n",
    "for t in GRID:\n",
    "    thresh = 0.05 * t\n",
    "    \n",
    "    correct   = 0\n",
    "    predicted = 0\n",
    "    for i,c in enumerate(train):\n",
    "        s, cid = best_match[c.id]\n",
    "        if s > thresh:\n",
    "            predicted += 1\n",
    "            if cid == L_gold_train[i,0]:\n",
    "                correct += 1\n",
    "    \n",
    "    prec   = correct / float(predicted)\n",
    "    recall = correct / float(N_pos_train)\n",
    "    f1     = (2*prec*recall) / (prec+recall)\n",
    "    f1s.append(f1)"
   ]
  },
  {
   "cell_type": "code",
   "execution_count": 14,
   "metadata": {
    "collapsed": false
   },
   "outputs": [
    {
     "data": {
      "text/plain": [
       "[<matplotlib.lines.Line2D at 0x13c0f68d0>]"
      ]
     },
     "execution_count": 14,
     "metadata": {},
     "output_type": "execute_result"
    },
    {
     "data": {
      "image/png": "[encoded data removed]",
      "text/plain": [
       "<matplotlib.figure.Figure at 0x15e389d50>"
      ]
     },
     "metadata": {},
     "output_type": "display_data"
    }
   ],
   "source": [
    "plt.plot(GRID, f1s)"
   ]
  },
  {
   "cell_type": "code",
   "execution_count": null,
   "metadata": {
    "collapsed": false
   },
   "outputs": [],
   "source": [
    "THRESH = GRID[np.argmax(f1s)]*0.05"
   ]
  },
  {
   "cell_type": "code",
   "execution_count": null,
   "metadata": {
    "collapsed": false
   },
   "outputs": [],
   "source": [
    "%time best_match = get_pos_vector_matches(dev)"
   ]
  },
  {
   "cell_type": "code",
   "execution_count": null,
   "metadata": {
    "collapsed": false
   },
   "outputs": [],
   "source": [
    "N_pos_dev = sum([1 for i in range(L_gold_dev.shape[0]) if L_gold_dev[i,0] > 0])\n",
    "correct   = 0\n",
    "predicted = 0\n",
    "for i,c in enumerate(dev):\n",
    "    s, cid = best_match[c.id]\n",
    "    if s > THRESH:\n",
    "        predicted += 1\n",
    "        if cid == L_gold_dev[i,0]:\n",
    "            correct += 1\n",
    "    \n",
    "prec   = correct / float(predicted)\n",
    "recall = correct / float(N_pos_dev)\n",
    "f1     = (2*prec*recall) / (prec+recall)\n",
    "print \"P:\\t\", prec\n",
    "print \"R:\\t\", recall\n",
    "print \"F1:\\t\", f1"
   ]
  },
  {
   "cell_type": "markdown",
   "metadata": {},
   "source": [
    "# Setup 1.iii: Using the Gen. Model directly"
   ]
  },
  {
   "cell_type": "markdown",
   "metadata": {},
   "source": [
    "### Using the multinomial version"
   ]
  },
  {
   "cell_type": "code",
   "execution_count": null,
   "metadata": {
    "collapsed": false
   },
   "outputs": [],
   "source": [
    "from scipy.sparse import lil_matrix\n",
    "\n",
    "N, M        = L_dev.shape\n",
    "mn_maps     = []\n",
    "mn_inv_maps = []\n",
    "nz_idxs     = []\n",
    "Xs          = []\n",
    "for i in range(N):\n",
    "    nz = L_dev.getrow(i).nonzero()[1]\n",
    "    if len(nz) > 0:\n",
    "        nz_idxs.append(i)\n",
    "    \n",
    "        # Construct the map from CID -> column index, and reverse\n",
    "        mn_map     = {}\n",
    "        mn_inv_map = []\n",
    "        for j in nz:\n",
    "            label = L_dev[i,j]\n",
    "            if label not in mn_map:\n",
    "                mn_map[label] = len(mn_map)\n",
    "                mn_inv_map.append(label)\n",
    "        mn_maps.append(mn_map)\n",
    "        mn_inv_maps.append(mn_inv_map)\n",
    "    \n",
    "        # Construct the candidate label matrix\n",
    "        X = np.zeros((M, len(mn_map)))\n",
    "        for j in nz:\n",
    "            k = mn_map[L_dev[i,j]]\n",
    "            X[j, k] = 1\n",
    "        Xs.append(X)"
   ]
  },
  {
   "cell_type": "code",
   "execution_count": null,
   "metadata": {
    "collapsed": false
   },
   "outputs": [],
   "source": [
    "from snorkel.learning.learning_mn import LogReg\n",
    "\n",
    "gen_model = LogReg()\n",
    "gen_model.train(Xs, n_iter=100, rate=1e-2, w0=np.ones(M))"
   ]
  },
  {
   "cell_type": "code",
   "execution_count": null,
   "metadata": {
    "collapsed": true
   },
   "outputs": [],
   "source": [
    "marginals = gen_model.marginals(Xs)"
   ]
  },
  {
   "cell_type": "code",
   "execution_count": null,
   "metadata": {
    "collapsed": false
   },
   "outputs": [],
   "source": [
    "predicted = 0\n",
    "correct   = 0\n",
    "for i,m in enumerate(marginals):\n",
    "    cid = mn_inv_maps[i][np.argmax(m)]\n",
    "    if cid > 0:\n",
    "        predicted += 1\n",
    "        if cid == L_gold_dev[nz_idxs][i,0]:\n",
    "            correct += 1\n",
    "            \n",
    "prec   = correct / float(predicted)\n",
    "recall = correct / float(N_pos_dev)\n",
    "\n",
    "print \"P:\\t\", prec\n",
    "print \"R:\\t\", recall\n",
    "print \"F1:\\t\", (2*prec*recall) / (prec+recall)"
   ]
  },
  {
   "cell_type": "markdown",
   "metadata": {},
   "source": [
    "# Setup 1.iv: DP -> SSI"
   ]
  },
  {
   "cell_type": "code",
   "execution_count": null,
   "metadata": {
    "collapsed": true
   },
   "outputs": [],
   "source": [
    "%%time\n",
    "# Vectorize the train & dev sets\n",
    "X_train = cd_vectorizer.vectorize([c.disease.get_span().lower() for c in train])\n",
    "X_dev   = cd_vectorizer.vectorize([c.disease.get_span().lower() for c in dev])"
   ]
  },
  {
   "cell_type": "code",
   "execution_count": null,
   "metadata": {
    "collapsed": true
   },
   "outputs": [],
   "source": [
    "from entity_norm import SSIModel\n",
    "\n",
    "model = SSIModel(D, cids)"
   ]
  }
 ],
 "metadata": {
  "kernelspec": {
   "display_name": "Python 2",
   "language": "python",
   "name": "python2"
  },
  "language_info": {
   "codemirror_mode": {
    "name": "ipython",
    "version": 2
   },
   "file_extension": ".py",
   "mimetype": "text/x-python",
   "name": "python",
   "nbconvert_exporter": "python",
   "pygments_lexer": "ipython2",
   "version": "2.7.10"
  }
 },
 "nbformat": 4,
 "nbformat_minor": 0
}
