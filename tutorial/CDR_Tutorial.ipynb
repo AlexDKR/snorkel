{
 "cells": [
  {
   "cell_type": "markdown",
   "metadata": {},
   "source": [
    "# Tutorial, Part I: Candidate Extraction\n",
    "\n",
    "In this example, we'll be writing an application to extract **chemical-induced-disease relationships** from Pubmed abstracts, as per the [BioCreative CDR Challenge](http://www.biocreative.org/resources/corpora/biocreative-v-cdr-corpus/).  At core, we will be constructing a model to classify _candidate chemical-disease (C-D) relation mentions_ as either true or false.  To do this, we first need a set of such candidates- in this notebook, we'll use `DDLite` utilities to extract these candidates."
   ]
  },
  {
   "cell_type": "markdown",
   "metadata": {},
   "source": [
    "## Loading the Corpus\n",
    "\n",
    "First, we will load and pre-process the corpus, storing it for convenience in a `Corpus` object"
   ]
  },
  {
   "cell_type": "markdown",
   "metadata": {},
   "source": [
    "### Configuring a document parser\n",
    "\n",
    "We'll start by defining a `DocParser` class to read in Pubmed abstracts from [Pubtator]([Pubtator](http://www.ncbi.nlm.nih.gov/CBBresearch/Lu/Demo/PubTator/index.cgi)), where they are stored along with \"gold\" (i.e. hand-annotated by experts) *chemical* and *disease mention* annotations. We'll use the `XMLDocParser` class, which allows us to use [XPath queries](https://en.wikipedia.org/wiki/XPath) to specify the relevant sections of the XML format.\n",
    "\n",
    "_Note that we are newline-concatenating text from the title and abstract together for simplicity, but if we wanted to, we could easily extend the `DocParser` classes to preserve information about document structure._"
   ]
  },
  {
   "cell_type": "code",
   "execution_count": 1,
   "metadata": {
    "collapsed": false
   },
   "outputs": [
    {
     "name": "stdout",
     "output_type": "stream",
     "text": [
      "The autoreload extension is already loaded. To reload it, use:\n",
      "  %reload_ext autoreload\n"
     ]
    }
   ],
   "source": [
    "%load_ext autoreload\n",
    "%autoreload 2"
   ]
  },
  {
   "cell_type": "code",
   "execution_count": 2,
   "metadata": {
    "collapsed": false
   },
   "outputs": [],
   "source": [
    "from ddlite_parser import XMLDocParser\n",
    "xml_parser = XMLDocParser(\n",
    "    path='data/CDR_DevelopmentSet.xml',\n",
    "    doc='.//document',\n",
    "    text='.//passage/text/text()',\n",
    "    id='.//id/text()',\n",
    "    keep_xml_tree=True)"
   ]
  },
  {
   "cell_type": "markdown",
   "metadata": {},
   "source": [
    "### Selecting a sentence parser\n",
    "\n",
    "Next, we'll use an NLP preprocessing tool to split the `Document` objects into sentences, tokens, and provide annotations--part-of-speech tags, dependency parse structure, lemmatized word forms, etc.--for these sentences.  Here we use the default `SentenceParser` class."
   ]
  },
  {
   "cell_type": "code",
   "execution_count": 3,
   "metadata": {
    "collapsed": false
   },
   "outputs": [],
   "source": [
    "from ddlite_parser import SentenceParser\n",
    "sent_parser = SentenceParser()"
   ]
  },
  {
   "cell_type": "markdown",
   "metadata": {},
   "source": [
    "### Pre-processing & loading the corpus\n",
    "\n",
    "Finally, we'll put this all together using a `Corpus` object, which will execute the parsers and store the results as an iterator:"
   ]
  },
  {
   "cell_type": "code",
   "execution_count": 5,
   "metadata": {
    "collapsed": false
   },
   "outputs": [
    {
     "name": "stdout",
     "output_type": "stream",
     "text": [
      "Parsing documents...\n",
      "Parsing contexts...\n",
      "CPU times: user 4.51 s, sys: 151 ms, total: 4.66 s\n",
      "Wall time: 35.5 s\n"
     ]
    }
   ],
   "source": [
    "from ddlite_parser import Corpus\n",
    "%time corpus = Corpus(xml_parser, sent_parser)"
   ]
  },
  {
   "cell_type": "code",
   "execution_count": 6,
   "metadata": {
    "collapsed": false
   },
   "outputs": [
    {
     "name": "stdout",
     "output_type": "stream",
     "text": [
      "Document(id='1445986', file='CDR_DevelopmentSet.xml', text=\"Cefotetan-induced immune hemolytic anemia.\\nImmune hemolytic anemia due to a drug-adsorption mechanism has been described primarily in patients receiving penicillins and first-generation cephalosporins. We describe a patient who developed anemia while receiving intravenous cefotetan. Cefotetan-dependent antibodies were detected in the patient's serum and in an eluate prepared from his red blood cells. The eluate also reacted weakly with red blood cells in the absence of cefotetan, suggesting the concomitant formation of warm-reactive autoantibodies. These observations, in conjunction with clinical and laboratory evidence of extravascular hemolysis, are consistent with drug-induced hemolytic anemia, possibly involving both drug-adsorption and autoantibody formation mechanisms. This case emphasizes the need for increased awareness of hemolytic reactions to all cephalosporins.\", attribs={'root': <Element document at 0x103da89e0>})\n"
     ]
    }
   ],
   "source": [
    "doc  = corpus.get_docs()[2]\n",
    "print doc"
   ]
  },
  {
   "cell_type": "code",
   "execution_count": 7,
   "metadata": {
    "collapsed": false
   },
   "outputs": [
    {
     "name": "stdout",
     "output_type": "stream",
     "text": [
      "Sentence(id='1445986-0', doc_id='1445986', doc_name='CDR_DevelopmentSet.xml', sent_id=0, words=[u'Cefotetan-induced', u'immune', u'hemolytic', u'anemia', u'.'], lemmas=[u'cefotetan-induced', u'immune', u'hemolytic', u'anemia', u'.'], poses=[u'JJ', u'JJ', u'JJ', u'NN', u'.'], dep_parents=[4, 4, 4, 0, 4], dep_labels=[u'amod', u'amod', u'amod', u'ROOT', u'punct'], char_offsets=[0, 18, 25, 35, 41], text=u'Cefotetan-induced immune hemolytic anemia.')\n"
     ]
    }
   ],
   "source": [
    "sent = corpus.get_sentences_in(doc.id)[0]\n",
    "print sent"
   ]
  },
  {
   "cell_type": "markdown",
   "metadata": {},
   "source": [
    "## Writing a basic candidate extractor\n",
    "\n",
    "Next, we'll write a basic function to extract **candidate disease mentions** from the corpus.  For this first attempt, we'll just write a function that checks for matches against a list (or _\"dictionary\"_) of disease phrases, constructed using some pre-compiled ontologies ([UMLS](https://www.nlm.nih.gov/research/umls/), [ORDO](http://www.orphadata.org/cgi-bin/inc/ordo_orphanet.inc.php), [DOID](http://www.obofoundry.org/ontology/doid.html), [NCBI Diseases](http://www.ncbi.nlm.nih.gov/CBBresearch/Dogan/DISEASE/); see `tutorial/data/diseases.py`).\n",
    "\n",
    "We'll do this using a `CandidateSpace` object--which defines the basic candidates we consider, in this case n-grams up to a certain length--and a `Matcher` object, which filters this candidate space down."
   ]
  },
  {
   "cell_type": "code",
   "execution_count": 23,
   "metadata": {
    "collapsed": false
   },
   "outputs": [
    {
     "name": "stdout",
     "output_type": "stream",
     "text": [
      "Loaded 507899 disease phrases!\n"
     ]
    }
   ],
   "source": [
    "from load_dictionaries import load_disease_dictionary\n",
    "from ddlite_candidates import Ngrams\n",
    "from ddlite_matchers import DictionaryMatch\n",
    "\n",
    "# Load the disease phrase dictionary\n",
    "diseases = load_disease_dictionary()\n",
    "print \"Loaded %s disease phrases!\" % len(diseases)\n",
    "\n",
    "# Define a candidate space\n",
    "ngrams = Ngrams(n_max=3)\n",
    "\n",
    "# Define a matcher\n",
    "matcher = DictionaryMatch(d=diseases, longest_match_only=False)"
   ]
  },
  {
   "cell_type": "markdown",
   "metadata": {},
   "source": [
    "Note that we set `longest_match_only=False`, which means that we _will_ consider subsequences of phrases that match our dictionary.\n",
    "\n",
    "The `Ngrams` operator is applied over our `Sentence` objects and returns `Ngram` objects, and the `Matcher` then filters these, so we apply our operators over the sentences in the corpus, storing the results in a `Candidates` object for convenience:"
   ]
  },
  {
   "cell_type": "code",
   "execution_count": 46,
   "metadata": {
    "collapsed": false
   },
   "outputs": [
    {
     "name": "stdout",
     "output_type": "stream",
     "text": [
      "Extracting candidates...\n",
      "CPU times: user 27.6 s, sys: 534 ms, total: 28.1 s\n",
      "Wall time: 27.8 s\n"
     ]
    }
   ],
   "source": [
    "from ddlite_candidates import Candidates\n",
    "%time c = Candidates(ngrams, matcher, corpus.get_sentences())\n",
    "a = c.get_candidates()[0]"
   ]
  },
  {
   "cell_type": "code",
   "execution_count": 47,
   "metadata": {
    "collapsed": false
   },
   "outputs": [
    {
     "data": {
      "text/plain": [
       "[u'amod', u'nmod']"
      ]
     },
     "execution_count": 47,
     "metadata": {},
     "output_type": "execute_result"
    }
   ],
   "source": [
    "a.get_attrib_tokens(\"dep_labels\")"
   ]
  },
  {
   "cell_type": "markdown",
   "metadata": {},
   "source": [
    "## Evaluating our candidate recall on gold annotations\n",
    "\n",
    "Next, we'll test our _candidate recall_--in other words, how many of the true disease mentions we picked up in our candidate set--using the gold annotations in our dataset.\n",
    "\n",
    "The XML documents that we loaded using the `XMLDocParser` also contained annotations (this is why we kept the full xml tree using `keep_xml_tree=True`).  We'll load these annotations and map them to `Ngram` objects over our parsed sentences, that way we can easily compare our extracted candidate set with the gold annotations.  The code is fairly simple (see `tutorial/util.py`); note that we filter to only keep _disease_ annotations, and that the candidates should be uniquely identified by their `id` attribute:"
   ]
  },
  {
   "cell_type": "code",
   "execution_count": 26,
   "metadata": {
    "collapsed": false
   },
   "outputs": [],
   "source": [
    "from utils import collect_pubtator_annotations\n",
    "gold = []\n",
    "for doc, sents in corpus:\n",
    "    gold += [a for a in collect_pubtator_annotations(doc, sents) if a.metadata['type'] == 'Disease']\n",
    "gold = frozenset(gold)"
   ]
  },
  {
   "cell_type": "markdown",
   "metadata": {},
   "source": [
    "Now, we have a set of gold annotations of the same type as our candidates (`Ngram`), and can use set operations (where candidate objects are hashed by their `id` attribute), e.g.:"
   ]
  },
  {
   "cell_type": "code",
   "execution_count": 27,
   "metadata": {
    "collapsed": false
   },
   "outputs": [
    {
     "data": {
      "text/plain": [
       "3039"
      ]
     },
     "execution_count": 27,
     "metadata": {},
     "output_type": "execute_result"
    }
   ],
   "source": [
    "len(gold.intersection(c.get_candidates()))"
   ]
  },
  {
   "cell_type": "markdown",
   "metadata": {},
   "source": [
    "For convenience, we'll use a basic helper method of the `Candidates` object:"
   ]
  },
  {
   "cell_type": "code",
   "execution_count": 28,
   "metadata": {
    "collapsed": false
   },
   "outputs": [
    {
     "name": "stdout",
     "output_type": "stream",
     "text": [
      "# of gold annotations\t= 4244\n",
      "# of candidates\t\t= 6944\n",
      "Candidate recall\t= 0.716\n",
      "Candidate precision\t= 0.438\n"
     ]
    }
   ],
   "source": [
    "c.gold_stats(gold)"
   ]
  },
  {
   "cell_type": "markdown",
   "metadata": {},
   "source": [
    "We note that our focus in this stage is on **acheiving high candidate recall, without considering an impractically large candidate set**.  Our main focus after this stage will be on training a classifier to select which candidates are true; this will raise precision while hopefully keeping recall high.  _Note however that candidate recall is an upper bound for the recall of this classifier!_\n",
    "\n",
    "So, we have some work to do."
   ]
  },
  {
   "cell_type": "markdown",
   "metadata": {},
   "source": [
    "## Using the `Viewer` to inspect data\n",
    "\n",
    "Next, we'll use the `Viewer` class--here, specifically, the `SentenceNgramViewer`--to inspect the data.\n",
    "\n",
    "To start, we'll assemble a random set of all the sentences where there are gold annotations _not in our candidate set_, i.e. where we missed something, and then inspect these in the `Viewer`:"
   ]
  },
  {
   "cell_type": "code",
   "execution_count": 29,
   "metadata": {
    "collapsed": false
   },
   "outputs": [],
   "source": [
    "from collections import defaultdict\n",
    "from random import shuffle\n",
    "\n",
    "# Index the gold annotations by sentence id\n",
    "gold_by_sid = defaultdict(list)\n",
    "for g in gold:\n",
    "    gold_by_sid[g.sent_id].append(g)\n",
    "\n",
    "# Get sentences\n",
    "view_sents = [s for s in corpus.get_sentences() if len(c.get_candidates_in(s.id)) < len(gold_by_sid[s.id])]\n",
    "shuffle(view_sents)\n",
    "view_sents = view_sents[:50]"
   ]
  },
  {
   "cell_type": "markdown",
   "metadata": {},
   "source": [
    "Now, we instantiate and render the `Viewer` object; note we're being a bit sloppy, passing in _all_ the candidates and gold labels, but the `Viewer` object will take care of indexing them by sentence, and will only render the sentences we pass in:"
   ]
  },
  {
   "cell_type": "code",
   "execution_count": 30,
   "metadata": {
    "collapsed": false,
    "scrolled": true
   },
   "outputs": [
    {
     "data": {
      "text/html": [
       "<link href=\"../viewer/bootstrap/css/bootstrap.min.css\" rel=\"stylesheet\" />\n",
       "<link href=\"../viewer/viewer.css\" type=\"text/css\" rel=\"stylesheet\" />\n",
       "<div id=\"viewer-5029\" class=\"viewer-pane panel panel-default\" tabindex=\"0\">\n",
       "    <div class=\"panel-heading\">\n",
       "        <h3 class=\"panel-title\">Viewer</h3>\n",
       "        <div id=\"candidate-caption-5029\" class=\"panel-left-justify\"></div>\n",
       "    </div>\n",
       "    <div class=\"panel-body\" style=\"height:225px\">\n",
       "        <div class=\"viewer-page viewer-page-5029\" id=\"viewer-page-5029-0\" data-nc=\"0\">\n",
       "            <ul class=\"list-group\">\n",
       "        <li class=\"list-group-item\" data-toggle=\"tooltip\" data-placement=\"top\" title=\"16225977-4\"><span class=\"\">The </span><span class=\"gold-annotation\">tic-like symptoms</span><span class=\"\"> resolved completely after we reduced the dose of amisulpride down to 800 mg per day.</span></li>\n",
       "        \n",
       "        <li class=\"list-group-item\" data-toggle=\"tooltip\" data-placement=\"top\" title=\"11860495-4\"><span class=\"\">Moreover, PREGS is able to reverse the </span><span class=\"gold-annotation\">amnesic</span><span class=\"\">-like effects of NMDAR and GABA(A)R ligands.</span></li>\n",
       "        \n",
       "        <li class=\"list-group-item\" data-toggle=\"tooltip\" data-placement=\"top\" title=\"14633084-10\"><span class=\"\">However, the replacement of last two doses of mesna with saline or all of the mesna doses with dexamethasone did not prevent </span><span class=\"gold-annotation\">HC</span><span class=\"\">.</span></li>\n",
       "        </ul>\n",
       "        </div>\n",
       "        \n",
       "        <div class=\"viewer-page viewer-page-5029\" id=\"viewer-page-5029-1\" data-nc=\"4\">\n",
       "            <ul class=\"list-group\">\n",
       "        <li class=\"list-group-item\" data-toggle=\"tooltip\" data-placement=\"top\" title=\"11302406-5\"><div class=\"candidate-data\" id=\"cdata-5029-1-0\" caption=\"CID: 11302406-5:1163-1174\"></div><span class=\"\">In our patient, there was no other etiology identified that could explain </span><span class=\"gold-annotation\">QT prolongation</span><span class=\"\"> or </span><span class=\"gold-annotation\">TDP</span><span class=\"\"> The complete disappearance of </span><span class=\"gold-annotation\">NSVT</span><span class=\"\"> and </span><span class=\"gold-annotation\">premature ventricular </span><span class=\"candidate gold-annotation c-5029-1-0\">contractions</span><span class=\"\"> followed by normalization of QT interval after the drug was stopped strongly suggests fluconazole as the etiology.</span></li>\n",
       "        \n",
       "        <li class=\"list-group-item\" data-toggle=\"tooltip\" data-placement=\"top\" title=\"17042884-0\"><div class=\"candidate-data\" id=\"cdata-5029-1-1\" caption=\"CID: 17042884-0:27-49\"></div><div class=\"candidate-data\" id=\"cdata-5029-1-2\" caption=\"CID: 17042884-0:120-124\"></div><span class=\"\">Placebo-level incidence of </span><span class=\"candidate gold-annotation c-5029-1-1\">extrapyramidal symptoms</span><span class=\"\"> (</span><span class=\"gold-annotation\">EPS</span><span class=\"\">) with quetiapine in controlled studies of patients with </span><span class=\"gold-annotation\">bipolar </span><span class=\"candidate gold-annotation c-5029-1-2\">mania</span><span class=\"\">.</span></li>\n",
       "        \n",
       "        <li class=\"list-group-item\" data-toggle=\"tooltip\" data-placement=\"top\" title=\"133615-2\"><div class=\"candidate-data\" id=\"cdata-5029-1-3\" caption=\"CID: 133615-2:75-87\"></div><span class=\"gold-annotation\">Thromboembolic</span><span class=\"\"> and other </span><span class=\"candidate c-5029-1-3\">complications</span><span class=\"\"> of oral contraceptive therapy in relationship to pretreatment levels of </span><span class=\"gold-annotation\">blood coagulation</span><span class=\"\"> factors: summary report of a ten-year study.</span></li>\n",
       "        </ul>\n",
       "        </div>\n",
       "        \n",
       "        <div class=\"viewer-page viewer-page-5029\" id=\"viewer-page-5029-2\" data-nc=\"0\">\n",
       "            <ul class=\"list-group\">\n",
       "        <li class=\"list-group-item\" data-toggle=\"tooltip\" data-placement=\"top\" title=\"7803371-7\"><span class=\"\">This report describes a case of </span><span class=\"gold-annotation\">cognitive deterioration</span><span class=\"\"> resulting from prolonged use of DM.</span></li>\n",
       "        \n",
       "        <li class=\"list-group-item\" data-toggle=\"tooltip\" data-placement=\"top\" title=\"8475949-7\"><span class=\"\">When </span><span class=\"gold-annotation\">QTc interval prolongation</span><span class=\"\"> is observed, early magnesium supplementation is advocated.</span></li>\n",
       "        \n",
       "        <li class=\"list-group-item\" data-toggle=\"tooltip\" data-placement=\"top\" title=\"11705128-5\"><span class=\"\">Decision-analytic techniques were used to estimate the cost of treating </span><span class=\"gold-annotation\">RIHA</span><span class=\"\">.</span></li>\n",
       "        </ul>\n",
       "        </div>\n",
       "        \n",
       "        <div class=\"viewer-page viewer-page-5029\" id=\"viewer-page-5029-3\" data-nc=\"1\">\n",
       "            <ul class=\"list-group\">\n",
       "        <li class=\"list-group-item\" data-toggle=\"tooltip\" data-placement=\"top\" title=\"16116131-0\"><div class=\"candidate-data\" id=\"cdata-5029-3-0\" caption=\"CID: 16116131-0:84-90\"></div><span class=\"\">rTMS of supplementary motor area modulates therapy-induced </span><span class=\"gold-annotation\">dyskinesias</span><span class=\"\"> in </span><span class=\"gold-annotation\">Parkinson </span><span class=\"candidate gold-annotation c-5029-3-0\">disease</span><span class=\"\">.</span></li>\n",
       "        \n",
       "        <li class=\"list-group-item\" data-toggle=\"tooltip\" data-placement=\"top\" title=\"16710500-4\"><span class=\"\">All 3 patients had </span><span class=\"gold-annotation\">loss of central visual acuity, colour vision (Ishihara) and visual field</span><span class=\"\">.</span></li>\n",
       "        \n",
       "        <li class=\"list-group-item\" data-toggle=\"tooltip\" data-placement=\"top\" title=\"9270571-3\"><span class=\"\">We therefore conducted the present acute dose-response study in four 1-methyl-4-phenyl-1,2,3,6-tetrahydropyridine (MPTP)-exposed cynomolgus monkeys primed to exhibit levodopa-induced </span><span class=\"gold-annotation\">dyskinesias</span><span class=\"\"> to evaluate the locomotor and </span><span class=\"gold-annotation\">dyskinetic</span><span class=\"\"> effects on challenge with four doses (from 0.03 to 1.0 mg/kg) of A-86929 ([-]-[5aR,11bS]-4,5,5a,6,7,11b-hexahydro-2-propyl-3-thia-5-+ ++azacyclopent-1- ena[c]phenathrene-9-10-diol), a selective and full DA D1-like receptor agonist with an intermediate duration of action.</span></li>\n",
       "        </ul>\n",
       "        </div>\n",
       "        \n",
       "        <div class=\"viewer-page viewer-page-5029\" id=\"viewer-page-5029-4\" data-nc=\"2\">\n",
       "            <ul class=\"list-group\">\n",
       "        <li class=\"list-group-item\" data-toggle=\"tooltip\" data-placement=\"top\" title=\"19319147-13\"><span class=\"\">Future studies are needed to assess the therapeutic potential emerging from our finding for human W-</span><span class=\"gold-annotation\">ICH</span><span class=\"\">.</span></li>\n",
       "        \n",
       "        <li class=\"list-group-item\" data-toggle=\"tooltip\" data-placement=\"top\" title=\"7066357-12\"><span class=\"\">It is likely that the early and striking increase of plasma HDL found in </span><span class=\"gold-annotation\">nephrotic</span><span class=\"\"> rats is related to a direct effect of the drug on HDL metabolism.</span></li>\n",
       "        \n",
       "        <li class=\"list-group-item\" data-toggle=\"tooltip\" data-placement=\"top\" title=\"17965424-9\"><div class=\"candidate-data\" id=\"cdata-5029-4-0\" caption=\"CID: 17965424-9:1579-1590\"></div><div class=\"candidate-data\" id=\"cdata-5029-4-1\" caption=\"CID: 17965424-9:1607-1612\"></div><span class=\"\">The incidence of discontinuations for </span><span class=\"gold-annotation\">hypertension</span><span class=\"\">-related and </span><span class=\"gold-annotation\">oedema</span><span class=\"\">-related AEs were significantly higher with etoricoxib (2.5% and 1.1% respectively) compared with diclofenac (1.5% and 0.4% respectively; p<0.001 for </span><span class=\"candidate gold-annotation c-5029-4-0\">hypertension</span><span class=\"\"> and p<0.01 for </span><span class=\"candidate gold-annotation c-5029-4-1\">oedema</span><span class=\"\">).</span></li>\n",
       "        </ul>\n",
       "        </div>\n",
       "        \n",
       "        <div class=\"viewer-page viewer-page-5029\" id=\"viewer-page-5029-5\" data-nc=\"4\">\n",
       "            <ul class=\"list-group\">\n",
       "        <li class=\"list-group-item\" data-toggle=\"tooltip\" data-placement=\"top\" title=\"11999899-11\"><div class=\"candidate-data\" id=\"cdata-5029-5-0\" caption=\"CID: 11999899-11:1661-1678\"></div><div class=\"candidate-data\" id=\"cdata-5029-5-1\" caption=\"CID: 11999899-11:1720-1727\"></div><span class=\"\">These results show that reserpine produces different and </span><span class=\"candidate gold-annotation c-5029-5-0\">abnormal movements</span><span class=\"\">, which are related to dose and schedule </span><span class=\"candidate c-5029-5-1\">employed</span><span class=\"\"> and can be considered as </span><span class=\"gold-annotation\">parkinsonian</span><span class=\"\">-like and </span><span class=\"gold-annotation\">tardive dsykinesia</span><span class=\"\"> signs.</span></li>\n",
       "        \n",
       "        <li class=\"list-group-item\" data-toggle=\"tooltip\" data-placement=\"top\" title=\"12852481-12\"><div class=\"candidate-data\" id=\"cdata-5029-5-2\" caption=\"CID: 12852481-12:2127-2129\"></div><div class=\"candidate-data\" id=\"cdata-5029-5-3\" caption=\"CID: 12852481-12:2150-2162\"></div><span class=\"\">CONCLUSIONS: High concordance in major </span><span class=\"gold-annotation\">developmental anomalies</span><span class=\"\"> between Wistar and SD rats were noted with the exception of </span><span class=\"candidate gold-annotation c-5029-5-2\">VSD</span><span class=\"\"> in the SD rats and </span><span class=\"candidate gold-annotation c-5029-5-3\">hydrocephalus</span><span class=\"\"> in the Wistar rats.</span></li>\n",
       "        \n",
       "        <li class=\"list-group-item\" data-toggle=\"tooltip\" data-placement=\"top\" title=\"10539815-2\"><span class=\"\">OBJECTIVE: To quantify specific clinical predictors of </span><span class=\"gold-annotation\">reduction in renal function</span><span class=\"\"> in patients with </span><span class=\"gold-annotation\">CHF</span><span class=\"\"> who are prescribed angiotensin-converting enzyme inhibitor therapy.</span></li>\n",
       "        </ul>\n",
       "        </div>\n",
       "        \n",
       "        <div class=\"viewer-page viewer-page-5029\" id=\"viewer-page-5029-6\" data-nc=\"2\">\n",
       "            <ul class=\"list-group\">\n",
       "        <li class=\"list-group-item\" data-toggle=\"tooltip\" data-placement=\"top\" title=\"9061311-7\"><span class=\"\">Serum C3 complement levels were significantly reduced in </span><span class=\"gold-annotation\">ALF</span><span class=\"\"> patients compared with control subjects (P < 0.0005).</span></li>\n",
       "        \n",
       "        <li class=\"list-group-item\" data-toggle=\"tooltip\" data-placement=\"top\" title=\"8045270-2\"><span class=\"\">Oral administration of KF17837 (2.5, 10.0 and 30.0 mg/kg) significantly ameliorated the </span><span class=\"gold-annotation\">cataleptic</span><span class=\"\"> responses induced by intracerebroventricular administration of an adenosine A2A receptor agonist, CGS 21680 (10 micrograms), in a dose-dependent manner.</span></li>\n",
       "        \n",
       "        <li class=\"list-group-item\" data-toggle=\"tooltip\" data-placement=\"top\" title=\"9669632-10\"><div class=\"candidate-data\" id=\"cdata-5029-6-0\" caption=\"CID: 9669632-10:1582-1588\"></div><div class=\"candidate-data\" id=\"cdata-5029-6-1\" caption=\"CID: 9669632-10:1625-1636\"></div><span class=\"candidate c-5029-6-0\">Symptom</span><span class=\"\"> scores relating to the severity of </span><span class=\"candidate gold-annotation c-5029-6-1\">constipation</span><span class=\"\"> were lower in cisapride-treated </span><span class=\"gold-annotation\">constipation</span><span class=\"\">-predominant </span><span class=\"gold-annotation\">IBS</span><span class=\"\"> patients [score, 54 +/- 5 versus 67 +/- 14 mm, cisapride versus placebo (P < 0.05); pretreatment, 62 +/- 19 mm].</span></li>\n",
       "        </ul>\n",
       "        </div>\n",
       "        \n",
       "        <div class=\"viewer-page viewer-page-5029\" id=\"viewer-page-5029-7\" data-nc=\"0\">\n",
       "            <ul class=\"list-group\">\n",
       "        <li class=\"list-group-item\" data-toggle=\"tooltip\" data-placement=\"top\" title=\"9326871-6\"><span class=\"\">The </span><span class=\"gold-annotation\">dysrhythmias</span><span class=\"\"> resolved after discontinuation of the drug.</span></li>\n",
       "        \n",
       "        <li class=\"list-group-item\" data-toggle=\"tooltip\" data-placement=\"top\" title=\"16225977-0\"><span class=\"\">Amisulpride related </span><span class=\"gold-annotation\">tic-like symptoms</span><span class=\"\"> in an adolescent </span><span class=\"gold-annotation\">schizophrenic</span><span class=\"\">.</span></li>\n",
       "        \n",
       "        <li class=\"list-group-item\" data-toggle=\"tooltip\" data-placement=\"top\" title=\"17344330-11\"><span class=\"\">Among the subjects treated with methadone, 28% men and 32% women had </span><span class=\"gold-annotation\">prolonged QTc interval</span><span class=\"\">.</span></li>\n",
       "        </ul>\n",
       "        </div>\n",
       "        \n",
       "        <div class=\"viewer-page viewer-page-5029\" id=\"viewer-page-5029-8\" data-nc=\"2\">\n",
       "            <ul class=\"list-group\">\n",
       "        <li class=\"list-group-item\" data-toggle=\"tooltip\" data-placement=\"top\" title=\"3461217-3\"><span class=\"\">Within the same timeframe, no L-W rat developed a similar palpable </span><span class=\"gold-annotation\">PA</span><span class=\"\"> when treated only with TP.</span></li>\n",
       "        \n",
       "        <li class=\"list-group-item\" data-toggle=\"tooltip\" data-placement=\"top\" title=\"11245434-1\"><div class=\"candidate-data\" id=\"cdata-5029-8-0\" caption=\"CID: 11245434-1:152-157\"></div><div class=\"candidate-data\" id=\"cdata-5029-8-1\" caption=\"CID: 11245434-1:287-292\"></div><span class=\"\">The aim of this study was to examine the impact of </span><span class=\"candidate gold-annotation c-5029-8-0\">anemia</span><span class=\"\"> prevention by recombinant human erythropoietin (rHuEPO) treatment on the </span><span class=\"gold-annotation\">cytotoxicity</span><span class=\"\"> of cyclophosphamide in solid experimental </span><span class=\"candidate gold-annotation c-5029-8-1\">tumors</span><span class=\"\">.</span></li>\n",
       "        \n",
       "        <li class=\"list-group-item\" data-toggle=\"tooltip\" data-placement=\"top\" title=\"18589141-13\"><span class=\"\">The percentage of </span><span class=\"gold-annotation\">HIT</span><span class=\"\"> antibody-positive patients was 0.5% preoperatively, 5.6% on POD 7, and 5.6% on POD 14.</span></li>\n",
       "        </ul>\n",
       "        </div>\n",
       "        \n",
       "        <div class=\"viewer-page viewer-page-5029\" id=\"viewer-page-5029-9\" data-nc=\"0\">\n",
       "            <ul class=\"list-group\">\n",
       "        <li class=\"list-group-item\" data-toggle=\"tooltip\" data-placement=\"top\" title=\"16710500-5\"><span class=\"\">The </span><span class=\"gold-annotation\">visual field loss</span><span class=\"\"> had a bitemporal flavour, suggesting involvement of the optic chiasm.</span></li>\n",
       "        \n",
       "        <li class=\"list-group-item\" data-toggle=\"tooltip\" data-placement=\"top\" title=\"19300240-7\"><span class=\"\">Echocardiography revealed a wall-motion abnormality involving the apical and periapical segments which appeared </span><span class=\"gold-annotation\">akinetic</span><span class=\"\">.</span></li>\n",
       "        \n",
       "        <li class=\"list-group-item\" data-toggle=\"tooltip\" data-placement=\"top\" title=\"7542793-6\"><span class=\"\">These results suggest that the </span><span class=\"gold-annotation\">nephrotoxic</span><span class=\"\"> effects of CsA and FK506 is likely mediated through binding to renal immunophilin and inhibiting calcineurin phosphatase.</span></li>\n",
       "        </ul>\n",
       "        </div>\n",
       "        \n",
       "        <div class=\"viewer-page viewer-page-5029\" id=\"viewer-page-5029-10\" data-nc=\"0\">\n",
       "            <ul class=\"list-group\">\n",
       "        <li class=\"list-group-item\" data-toggle=\"tooltip\" data-placement=\"top\" title=\"11282081-13\"><span class=\"\">CONCLUSIONS: Verapamil promotes </span><span class=\"gold-annotation\">AF</span><span class=\"\"> in normal dogs by promoting multiple circuit reentry, an effect dependent on intact autonomic tone and not shared by diltiazem.</span></li>\n",
       "        \n",
       "        <li class=\"list-group-item\" data-toggle=\"tooltip\" data-placement=\"top\" title=\"9067481-4\"><span class=\"\">A 24-h pretreatment of both rats and mice with a single dose of CS (100mg/kg, i.p.), resulted in significant protection against the </span><span class=\"gold-annotation\">hepatotoxic</span><span class=\"\"> effects of CCl4, CHCl3, acetaminophen and galactosamine and against the lethal (and presumably </span><span class=\"gold-annotation\">cardiotoxic</span><span class=\"\">) effect of adriamycin administration.</span></li>\n",
       "        \n",
       "        <li class=\"list-group-item\" data-toggle=\"tooltip\" data-placement=\"top\" title=\"18657397-5\"><span class=\"\">Basal activity, latent period and the penicillin-induced </span><span class=\"gold-annotation\">epileptiform activity</span><span class=\"\"> periods were then analyzed using both conventional methods and spectral analysis.</span></li>\n",
       "        </ul>\n",
       "        </div>\n",
       "        \n",
       "        <div class=\"viewer-page viewer-page-5029\" id=\"viewer-page-5029-11\" data-nc=\"0\">\n",
       "            <ul class=\"list-group\">\n",
       "        <li class=\"list-group-item\" data-toggle=\"tooltip\" data-placement=\"top\" title=\"10414674-11\"><span class=\"\">Ketoprofen but not acetaminophen impaired platelet function in patients with </span><span class=\"gold-annotation\">SAH</span><span class=\"\">.</span></li>\n",
       "        \n",
       "        <li class=\"list-group-item\" data-toggle=\"tooltip\" data-placement=\"top\" title=\"12600698-6\"><span class=\"\">These results suggest that edaravone suppresses streptomycin-induced </span><span class=\"gold-annotation\">vestibulotoxicity</span><span class=\"\">.</span></li>\n",
       "        \n",
       "        <li class=\"list-group-item\" data-toggle=\"tooltip\" data-placement=\"top\" title=\"12852481-2\"><span class=\"\">Aspirin (acetylsalicylic acid [ASA]), an irreversible cyclooxygenase 1 and 2 inhibitor, induces </span><span class=\"gold-annotation\">developmental anomalies</span><span class=\"\"> when administered to Wistar rats on gestational day (GD) 9, 10, or 11 (Kimmel CA, Wilson JG, Schumacher HJ.</span></li>\n",
       "        </ul>\n",
       "        </div>\n",
       "        \n",
       "        <div class=\"viewer-page viewer-page-5029\" id=\"viewer-page-5029-12\" data-nc=\"1\">\n",
       "            <ul class=\"list-group\">\n",
       "        <li class=\"list-group-item\" data-toggle=\"tooltip\" data-placement=\"top\" title=\"19105845-10\"><div class=\"candidate-data\" id=\"cdata-5029-12-0\" caption=\"CID: 19105845-10:1819-1829\"></div><span class=\"\">CONCLUSION: In conclusion, the demonstration of an inverse relationship between infusion time of a fixed and </span><span class=\"gold-annotation\">convulsive</span><span class=\"\"> dose of bupropion and the risk of </span><span class=\"candidate gold-annotation c-5029-12-0\">convulsions</span><span class=\"\"> in a prospective study is novel.</span></li>\n",
       "        \n",
       "        <li class=\"list-group-item\" data-toggle=\"tooltip\" data-placement=\"top\" title=\"9848575-7\"><span class=\"\">The low-grade </span><span class=\"gold-annotation\">cardiotoxic</span><span class=\"\"> changes were enhanced by the additional doxorubicin treatment.</span></li>\n",
       "        \n",
       "        <li class=\"list-group-item\" data-toggle=\"tooltip\" data-placement=\"top\" title=\"16600756-10\"><span class=\"\">In patients with </span><span class=\"gold-annotation\">OAB</span><span class=\"\"> urinary PGE2 positively correlated with volume at first desire to void and maximum cystometric capacity (p <0.05).</span></li>\n",
       "        </ul>\n",
       "        </div>\n",
       "        \n",
       "        <div class=\"viewer-page viewer-page-5029\" id=\"viewer-page-5029-13\" data-nc=\"2\">\n",
       "            <ul class=\"list-group\">\n",
       "        <li class=\"list-group-item\" data-toggle=\"tooltip\" data-placement=\"top\" title=\"15096016-2\"><span class=\"\">Laitinen's procedure improved most symptoms in drug-resistant </span><span class=\"gold-annotation\">PD</span><span class=\"\">, which engendered wide interest in the neurosurgical community.</span></li>\n",
       "        \n",
       "        <li class=\"list-group-item\" data-toggle=\"tooltip\" data-placement=\"top\" title=\"9154656-4\"><span class=\"\">Although a great urinary excretion and half-normal plasma levels of Ao were observed on day 6 after PAN injection, when </span><span class=\"gold-annotation\">NS</span><span class=\"\"> was clearly established, hepatic Ao mRNA levels did not change.</span></li>\n",
       "        \n",
       "        <li class=\"list-group-item\" data-toggle=\"tooltip\" data-placement=\"top\" title=\"1423339-1\"><div class=\"candidate-data\" id=\"cdata-5029-13-0\" caption=\"CID: 1423339-1:125-132\"></div><div class=\"candidate-data\" id=\"cdata-5029-13-1\" caption=\"CID: 1423339-1:161-168\"></div><span class=\"\">An elderly woman developed an </span><span class=\"gold-annotation\">Alzheimer</span><span class=\"\">-like subacute </span><span class=\"candidate gold-annotation c-5029-13-0\">dementia</span><span class=\"\"> as a result of propranolol </span><span class=\"candidate gold-annotation c-5029-13-1\">toxicity</span><span class=\"\">.</span></li>\n",
       "        </ul>\n",
       "        </div>\n",
       "        \n",
       "        <div class=\"viewer-page viewer-page-5029\" id=\"viewer-page-5029-14\" data-nc=\"0\">\n",
       "            <ul class=\"list-group\">\n",
       "        <li class=\"list-group-item\" data-toggle=\"tooltip\" data-placement=\"top\" title=\"12851669-2\"><span class=\"\">METHODS: From the Danish National Register of Patients (NRP), 1996 to 1998, the records of 1.1 million Danish women, ages 15 to 44 years, were searched for evidence of </span><span class=\"gold-annotation\">VTE</span><span class=\"\">.</span></li>\n",
       "        \n",
       "        <li class=\"list-group-item\" data-toggle=\"tooltip\" data-placement=\"top\" title=\"2466960-6\"><span class=\"\">The incidence of </span><span class=\"gold-annotation\">ischemic</span><span class=\"\"> episodes per patient per hour was 0.05 +/- 0.02 prior to 5-FU infusion v 0.13 +/- 0.03 during 5-FU infusion (P less than .001); the duration of ECG changes was 0.6 +/- 0.3 minutes per patient per hour before 5-FU v 1.9 +/- 0.5 minutes per patient per hour during 5-FU (P less than .01).</span></li>\n",
       "        \n",
       "        <li class=\"list-group-item\" data-toggle=\"tooltip\" data-placement=\"top\" title=\"1728915-0\"><span class=\"\">Carbamazepine-induced </span><span class=\"gold-annotation\">cardiac dysfunction</span><span class=\"\">.</span></li>\n",
       "        </ul>\n",
       "        </div>\n",
       "        \n",
       "        <div class=\"viewer-page viewer-page-5029\" id=\"viewer-page-5029-15\" data-nc=\"0\">\n",
       "            <ul class=\"list-group\">\n",
       "        <li class=\"list-group-item\" data-toggle=\"tooltip\" data-placement=\"top\" title=\"3137399-1\"><span class=\"\">Since 1975 mitomycin C (MMC) has been suggested to be </span><span class=\"gold-annotation\">cardiotoxic</span><span class=\"\">, especially when combined with or given following doxorubicin.</span></li>\n",
       "        \n",
       "        <li class=\"list-group-item\" data-toggle=\"tooltip\" data-placement=\"top\" title=\"7803371-0\"><span class=\"gold-annotation\">Cognitive deterioration</span><span class=\"\"> from long-term abuse of dextromethorphan: a case report.</span></li>\n",
       "        \n",
       "        <li class=\"list-group-item\" data-toggle=\"tooltip\" data-placement=\"top\" title=\"17965424-11\"><span class=\"\">CONCLUSIONS: Etoricoxib 90 mg demonstrated a significantly lower risk for discontinuing treatment due to </span><span class=\"gold-annotation\">GI AEs</span><span class=\"\"> compared with diclofenac 150 mg.</span></li>\n",
       "        </ul>\n",
       "        </div>\n",
       "        \n",
       "        <div class=\"viewer-page viewer-page-5029\" id=\"viewer-page-5029-16\" data-nc=\"0\">\n",
       "            <ul class=\"list-group\">\n",
       "        <li class=\"list-group-item\" data-toggle=\"tooltip\" data-placement=\"top\" title=\"14633084-9\"><span class=\"\">CONCLUSION: Dexamethasone in combination with mesna was efficient in blocking IFS-induced </span><span class=\"gold-annotation\">HC</span><span class=\"\">.</span></li>\n",
       "        \n",
       "        <li class=\"list-group-item\" data-toggle=\"tooltip\" data-placement=\"top\" title=\"2320800-5\"><span class=\"\">Ifosfamide is a known </span><span class=\"gold-annotation\">nephrotoxic</span><span class=\"\"> drug with demonstrated </span><span class=\"gold-annotation\">tubulopathies</span><span class=\"\">.</span></li>\n",
       "        </ul>\n",
       "        </div>\n",
       "        </div>\n",
       "    <div class=\"panel-footer\">\n",
       "        <div class=\"btn-group\" role=\"group\" aria-label=\"...\">\n",
       "            <button id=\"prev-page-5029\" type=\"button\" class=\"btn btn-default\">\n",
       "                <span class=\"glyphicon glyphicon-left-arrow\" aria-hidden=\"true\"></span> Prev. Page (i)\n",
       "            </button>\n",
       "            <button id=\"prev-cand-5029\" type=\"button\" class=\"btn btn-default\">\n",
       "                <span class=\"glyphicon glyphicon-down-arrow\" aria-hidden=\"true\"></span> Prev. Cand. (j)\n",
       "            </button>\n",
       "            <button id=\"next-cand-5029\" type=\"button\" class=\"btn btn-default\">\n",
       "                <span class=\"glyphicon glyphicon-up-arrow\" aria-hidden=\"true\"></span> Next Cand. (l)\n",
       "            </button>\n",
       "            <button id=\"next-page-5029\" type=\"button\" class=\"btn btn-default\">\n",
       "                <span class=\"glyphicon glyphicon-right-arrow\" aria-hidden=\"true\"></span> Next Page (k)\n",
       "            </button>\n",
       "        </div>\n",
       "        <span><i>  Viewer must be focused for keyboard control</i></span>\n",
       "        <div class=\"page-num panel-left-justify\">Page <span id=\"page-5029\">0</span></div>\n",
       "    </div>\n",
       "</div>\n"
      ]
     },
     "metadata": {
      "text/html": {
       "isolated": false
      }
     },
     "output_type": "display_data"
    },
    {
     "data": {
      "application/javascript": [
       "$.getScript(\"http://d3js.org/d3.v3.min.js\", function () {\n",
       "$.getScript(\"https://ajax.googleapis.com/ajax/libs/jquery/1.11.3/jquery.min.js\", function () {\n",
       "var vid    = 5029;\n",
       "var nPages = 17;\n",
       "var cid    = 0;\n",
       "var pid    = 0;\n",
       "\n",
       "// Enable tooltip functionality\n",
       "$(function () {\n",
       "    $('[data-toggle=\"tooltip\"]').tooltip()\n",
       "});\n",
       "\n",
       "// Get the selector for a given candidate by number (w.r.t. to entire page group)\n",
       "function candidateSelector(cid) {\n",
       "    return $(\"span.c-\" + vid + \"-\" + pid + \"-\" + cid);\n",
       "}\n",
       "\n",
       "// Cycle through candidates and highlight, by increment inc\n",
       "function switchCandidate(inc) {\n",
       "    var nC = parseInt($(\"#viewer-page-\"+vid+\"-\"+pid).attr(\"data-nc\"));\n",
       "\n",
       "    // Clear highlighting and highlight new candidate\n",
       "    $(\"span.candidate\").removeClass(\"highlighted-candidate\");\n",
       "    if (cid + inc < 0) {\n",
       "        cid = nC + (cid + inc);\n",
       "    } else if (cid + inc > nC - 1) {\n",
       "        cid = (cid + inc) - nC;\n",
       "    } else {\n",
       "        cid += inc;\n",
       "    }\n",
       "    candidateSelector(cid).addClass(\"highlighted-candidate\");\n",
       "\n",
       "    // Fill in caption\n",
       "    $(\"#candidate-caption-\"+vid).html($(\"#cdata-\"+vid+\"-\"+pid+\"-\"+cid).attr(\"caption\"));\n",
       "};\n",
       "\n",
       "$(\"#next-cand-\" + vid).click(function() {\n",
       "    switchCandidate(1);\n",
       "});\n",
       "\n",
       "$(\"#prev-cand-\" + vid).click(function() {\n",
       "    switchCandidate(-1);\n",
       "});\n",
       "\n",
       "// Switch through pages\n",
       "function switchPage(inc) {\n",
       "    $(\".viewer-page-\"+vid).hide();\n",
       "    if (pid + inc < 0) {\n",
       "        pid = 0;\n",
       "    } else if (pid + inc > nPages - 1) {\n",
       "        pid = nPages - 1;\n",
       "    } else {\n",
       "        pid += inc;\n",
       "    }\n",
       "    $(\"#viewer-page-\"+vid+\"-\"+pid).show();\n",
       "\n",
       "    // Show pagination\n",
       "    $(\"#page-\"+vid).html(pid);\n",
       "\n",
       "    // Reset cid and set to first candidate\n",
       "    cid = 0;\n",
       "    switchCandidate(0);\n",
       "}\n",
       "\n",
       "$(\"#next-page-\" + vid).click(function() {\n",
       "    switchPage(1);\n",
       "});\n",
       "\n",
       "$(\"#prev-page-\" + vid).click(function() {\n",
       "    switchPage(-1);\n",
       "});\n",
       "\n",
       "// Arrow key functionality\n",
       "$(document).keydown(function(e) {\n",
       "\n",
       "    // Check that the Jupyter notebook cell the viewer is in is selected\n",
       "    if ($(\"#viewer-\"+vid).parents(\".cell\").hasClass(\"selected\")) {\n",
       "        switch(e.which) {\n",
       "            case 74: // j\n",
       "            switchCandidate(-1);\n",
       "            break;\n",
       "\n",
       "            case 73: // i\n",
       "            switchPage(-1);\n",
       "            break;\n",
       "\n",
       "            case 76: // l\n",
       "            switchCandidate(1);\n",
       "            break;\n",
       "\n",
       "            case 75: // k\n",
       "            switchPage(1);\n",
       "            break;\n",
       "        }\n",
       "    }\n",
       "});\n",
       "\n",
       "// Show the first page and highlight the first candidate\n",
       "$(\"#viewer-page-\"+vid+\"-0\").show();\n",
       "switchCandidate(0);\n",
       "});\n",
       "});\n"
      ]
     },
     "metadata": {},
     "output_type": "display_data"
    }
   ],
   "source": [
    "from ddlite_viewer import SentenceNgramViewer\n",
    "sv = SentenceNgramViewer(view_sents, c.get_candidates(), gold=gold)\n",
    "sv.render(n_per_page=3, height=225)"
   ]
  },
  {
   "cell_type": "markdown",
   "metadata": {},
   "source": [
    "## Composing a better candidate extractor\n",
    "\n",
    "Let's try to increase our candidate recall using more of the `Matcher` operators and their functionalities.  First, let's turn on **Porter stemming** in our dictionary matcher; Porter stemming is an aggressive rules-based method for normalizing word endings."
   ]
  },
  {
   "cell_type": "code",
   "execution_count": 31,
   "metadata": {
    "collapsed": false
   },
   "outputs": [
    {
     "name": "stdout",
     "output_type": "stream",
     "text": [
      "Extracting candidates...\n",
      "CPU times: user 12.7 s, sys: 285 ms, total: 13 s\n",
      "Wall time: 12.8 s\n",
      "# of gold annotations\t= 4244\n",
      "# of candidates\t\t= 9266\n",
      "Candidate recall\t= 0.749\n",
      "Candidate precision\t= 0.343\n"
     ]
    },
    {
     "name": "stderr",
     "output_type": "stream",
     "text": [
      "/Users/bradenhancock/anaconda/lib/python2.7/site-packages/nltk/stem/porter.py:274: UnicodeWarning: Unicode equal comparison failed to convert both arguments to Unicode - interpreting them as being unequal\n",
      "  if word[-1] == 's':\n"
     ]
    }
   ],
   "source": [
    "# Define a new matcher\n",
    "matcher = DictionaryMatch(d=diseases, longest_match_only=False, stemmer='porter')\n",
    "\n",
    "# Extract a new set of candidates\n",
    "%time c = Candidates(ngrams, matcher, corpus.get_sentences())\n",
    "c.gold_stats(gold)"
   ]
  },
  {
   "cell_type": "markdown",
   "metadata": {},
   "source": [
    "Next, note that *`Matcher` objects are compositional*. Observing in the `Viewer` that we are missing all of the acronyms, let's start with the `Union` operator, to integrate a dictionary for this:"
   ]
  },
  {
   "cell_type": "code",
   "execution_count": 32,
   "metadata": {
    "collapsed": false
   },
   "outputs": [
    {
     "name": "stdout",
     "output_type": "stream",
     "text": [
      "Loaded 36904 acronyms!\n",
      "Extracting candidates...\n",
      "CPU times: user 14.2 s, sys: 107 ms, total: 14.3 s\n",
      "Wall time: 14.3 s\n",
      "# of gold annotations\t= 4244\n",
      "# of candidates\t\t= 9811\n",
      "Candidate recall\t= 0.778\n",
      "Candidate precision\t= 0.336\n"
     ]
    }
   ],
   "source": [
    "from ddlite_matchers import Union\n",
    "from load_dictionaries import load_acronym_dictionary\n",
    "\n",
    "# Load the disease phrase dictionary\n",
    "acronyms = load_acronym_dictionary()\n",
    "print \"Loaded %s acronyms!\" % len(acronyms)\n",
    "\n",
    "# Define a new matcher\n",
    "matcher = Union(\n",
    "    DictionaryMatch(d=diseases, longest_match_only=False, stemmer='porter'),\n",
    "    DictionaryMatch(d=acronyms, ignore_case=False))\n",
    "\n",
    "# Extract a new set of candidates\n",
    "%time c = Candidates(ngrams, matcher, corpus.get_sentences())\n",
    "c.gold_stats(gold)"
   ]
  },
  {
   "cell_type": "markdown",
   "metadata": {},
   "source": [
    "Next, we try using the `Concat` and `RegexMatch` operators to find candidate mentions composed of an _adjective followed by a term matching our diseases dictionary_.  Note in particular that we set `left_required=False` so that exact matches to our dictionary (with no adjective prepended) will still work:"
   ]
  },
  {
   "cell_type": "code",
   "execution_count": 33,
   "metadata": {
    "collapsed": false
   },
   "outputs": [
    {
     "name": "stdout",
     "output_type": "stream",
     "text": [
      "Extracting candidates...\n",
      "CPU times: user 27.2 s, sys: 416 ms, total: 27.6 s\n",
      "Wall time: 27.4 s\n",
      "# of gold annotations\t= 4244\n",
      "# of candidates\t\t= 12292\n",
      "Candidate recall\t= 0.821\n",
      "Candidate precision\t= 0.284\n"
     ]
    }
   ],
   "source": [
    "from ddlite_matchers import Concat, RegexMatchEach\n",
    "matcher = Union(\n",
    "    Concat(\n",
    "        RegexMatchEach(rgx=r'JJ*', attrib='poses'),\n",
    "        DictionaryMatch(d=diseases, longest_match_only=False, stemmer='porter'),\n",
    "        left_required=False),\n",
    "    DictionaryMatch(d=acronyms, ignore_case=False))\n",
    "\n",
    "# Extract a new set of candidates\n",
    "%time c = Candidates(ngrams, matcher, corpus.get_sentences())\n",
    "c.gold_stats(gold)"
   ]
  },
  {
   "cell_type": "markdown",
   "metadata": {},
   "source": [
    "### Running candidate extraction in parallel\n",
    "\n",
    "Note that **the candidate extraction procedure can be parallelized across multiple cores using the `parallelism=N`** optional argument to the `Candidates` object."
   ]
  },
  {
   "cell_type": "markdown",
   "metadata": {},
   "source": [
    "### More coming here...\n",
    "\n",
    "We've increased the candidate recall (on the development set) by 7.3% using some simple compositional `Matcher` operators.  We'll be adding more here soon!"
   ]
  },
  {
   "cell_type": "markdown",
   "metadata": {},
   "source": [
    "## Connecting with the rest of the `DDLite` workflow\n",
    "\n",
    "We are in the process of a big code refactor!  For now, to connect the candidates derived as in above to the rest of the `DDLite` workflow, create a `CandidateExtractor` class as follows:"
   ]
  },
  {
   "cell_type": "code",
   "execution_count": null,
   "metadata": {
    "collapsed": true
   },
   "outputs": [],
   "source": [
    "from ddlite_matchers import CandidateExtractor\n",
    "ce = CandidateExtractor(ngrams, matcher)"
   ]
  },
  {
   "cell_type": "markdown",
   "metadata": {},
   "source": [
    "This object can now be used in place of the candidate extractors in the other tutorials!"
   ]
  }
 ],
 "metadata": {
  "kernelspec": {
   "display_name": "Python 2",
   "language": "python",
   "name": "python2"
  },
  "language_info": {
   "codemirror_mode": {
    "name": "ipython",
    "version": 2
   },
   "file_extension": ".py",
   "mimetype": "text/x-python",
   "name": "python",
   "nbconvert_exporter": "python",
   "pygments_lexer": "ipython2",
   "version": "2.7.12"
  }
 },
 "nbformat": 4,
 "nbformat_minor": 0
}
