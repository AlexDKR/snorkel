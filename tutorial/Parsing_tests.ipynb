{
 "cells": [
  {
   "cell_type": "code",
   "execution_count": 54,
   "metadata": {
    "collapsed": true
   },
   "outputs": [],
   "source": [
    "from ddlite_parser import HTMLTableParser, TableParser\n",
    "from ddlite_parser import Corpus\n",
    "from bs4 import BeautifulSoup"
   ]
  },
  {
   "cell_type": "code",
   "execution_count": 58,
   "metadata": {
    "collapsed": true
   },
   "outputs": [],
   "source": [
    "doc_parser = HTMLTableParser(\"data/diseases.xml\")\n",
    "context_parser = TableParser()"
   ]
  },
  {
   "cell_type": "code",
   "execution_count": 63,
   "metadata": {
    "collapsed": false
   },
   "outputs": [
    {
     "name": "stdout",
     "output_type": "stream",
     "text": [
      "Parsing documents...\n",
      "Parsing contexts...\n",
      "CPU times: user 59.3 ms, sys: 4.71 ms, total: 64 ms\n",
      "Wall time: 330 ms\n"
     ]
    }
   ],
   "source": [
    "%time corpus = Corpus(doc_parser, context_parser)"
   ]
  },
  {
   "cell_type": "code",
   "execution_count": 73,
   "metadata": {
    "collapsed": false
   },
   "outputs": [
    {
     "data": {
      "text/plain": [
       "<table>\\n<tbody font=\"blue\">\\n<tr align=\"left\" size=\"5\">\\n<th cell_id=\"0\">\\n      Disease\\n     </th>\\n<th cell_id=\"1\">\\n      Location\\n     </th>\\n<th cell_id=\"2\">\\n      Year\\n     </th>\\n</tr>\\n<tr>\\n<th cell_id=\"3\">\\n      Polio\\n     </th>\\n<td cell_id=\"4\">\\n      New York\\n     </td>\\n<td cell_id=\"5\">\\n      1914\\n     </td>\\n</tr>\\n<tr>\\n<th cell_id=\"6\">\\n      Chicken Pox\\n     </th>\\n<td cell_id=\"7\">\\n      Boston\\n     </td>\\n<td cell_id=\"8\">\\n      2001\\n     </td>\\n</tr>\\n<tr>\\n<th cell_id=\"9\">\\n      Scurvy\\n     </th>\\n<td cell_id=\"10\">\\n      Annapolis\\n     </td>\\n<td cell_id=\"11\">\\n      1901\\n     </td>\\n</tr>\\n</tbody>\\n<caption>\\n    Table 1: Infectious diseases and where to find them.\\n   </caption>\\n</table>"
      ]
     },
     "execution_count": 73,
     "metadata": {},
     "output_type": "execute_result"
    }
   ],
   "source": [
    "corpus.get_sentences()[0].xhtml"
   ]
  },
  {
   "cell_type": "code",
   "execution_count": 16,
   "metadata": {
    "collapsed": false
   },
   "outputs": [],
   "source": [
    "with open(\"data/diseases.xml\", 'r') as f:\n",
    "    soup = BeautifulSoup(f, 'xml')"
   ]
  },
  {
   "cell_type": "code",
   "execution_count": 33,
   "metadata": {
    "collapsed": false
   },
   "outputs": [
    {
     "name": "stdout",
     "output_type": "stream",
     "text": [
      "<type 'unicode'>\n"
     ]
    }
   ],
   "source": [
    "for doc in soup.find_all('html'):\n",
    "    print type(unicode(doc))"
   ]
  },
  {
   "cell_type": "code",
   "execution_count": 34,
   "metadata": {
    "collapsed": true
   },
   "outputs": [],
   "source": [
    "doc = soup.html"
   ]
  },
  {
   "cell_type": "code",
   "execution_count": 36,
   "metadata": {
    "collapsed": false
   },
   "outputs": [
    {
     "name": "stdout",
     "output_type": "stream",
     "text": [
      "0-<tr>\n",
      "<th>\n",
      "      Disease\n",
      "     </th>\n",
      "<th>\n",
      "      Location\n",
      "     </th>\n",
      "<th>\n",
      "      Year\n",
      "     </th>\n",
      "</tr>\n",
      "1-<tr>\n",
      "<th>\n",
      "      Polio\n",
      "     </th>\n",
      "<td>\n",
      "      New York\n",
      "     </td>\n",
      "<td>\n",
      "      1914\n",
      "     </td>\n",
      "</tr>\n",
      "2-<tr>\n",
      "<th>\n",
      "      Chicken Pox\n",
      "     </th>\n",
      "<td>\n",
      "      Boston\n",
      "     </td>\n",
      "<td>\n",
      "      2001\n",
      "     </td>\n",
      "</tr>\n",
      "3-<tr>\n",
      "<th>\n",
      "      Scurvy\n",
      "     </th>\n",
      "<td>\n",
      "      Annapolis\n",
      "     </td>\n",
      "<td>\n",
      "      1901\n",
      "     </td>\n",
      "</tr>\n",
      "4-<tr>\n",
      "<th>\n",
      "      Problem\n",
      "     </th>\n",
      "<th>\n",
      "      Cause\n",
      "     </th>\n",
      "<th>\n",
      "      Cost\n",
      "     </th>\n",
      "</tr>\n",
      "5-<tr>\n",
      "<th>\n",
      "      Arthritis\n",
      "     </th>\n",
      "<td>\n",
      "      Pokemon Go\n",
      "     </td>\n",
      "<td>\n",
      "      Free\n",
      "     </td>\n",
      "</tr>\n",
      "6-<tr>\n",
      "<th>\n",
      "      Yellow Fever\n",
      "     </th>\n",
      "<td>\n",
      "      Unicorns\n",
      "     </td>\n",
      "<td>\n",
      "      $17.75\n",
      "     </td>\n",
      "</tr>\n",
      "7-<tr>\n",
      "<th>\n",
      "      Hypochondria\n",
      "     </th>\n",
      "<td>\n",
      "      Fear\n",
      "     </td>\n",
      "<td>\n",
      "      $100\n",
      "     </td>\n",
      "</tr>\n"
     ]
    }
   ],
   "source": [
    "for row_num, row in enumerate(doc.find_all('tr')):\n",
    "    print \"%s-%s\" % (row_num, row)"
   ]
  },
  {
   "cell_type": "code",
   "execution_count": 41,
   "metadata": {
    "collapsed": true
   },
   "outputs": [],
   "source": [
    "b = [1,2,3,4]"
   ]
  },
  {
   "cell_type": "code",
   "execution_count": 42,
   "metadata": {
    "collapsed": false
   },
   "outputs": [
    {
     "data": {
      "text/plain": [
       "[1, 2]"
      ]
     },
     "execution_count": 42,
     "metadata": {},
     "output_type": "execute_result"
    }
   ],
   "source": [
    "b[:-2]"
   ]
  },
  {
   "cell_type": "code",
   "execution_count": null,
   "metadata": {
    "collapsed": true
   },
   "outputs": [],
   "source": []
  }
 ],
 "metadata": {
  "kernelspec": {
   "display_name": "Python 2",
   "language": "python",
   "name": "python2"
  },
  "language_info": {
   "codemirror_mode": {
    "name": "ipython",
    "version": 2
   },
   "file_extension": ".py",
   "mimetype": "text/x-python",
   "name": "python",
   "nbconvert_exporter": "python",
   "pygments_lexer": "ipython2",
   "version": "2.7.12"
  }
 },
 "nbformat": 4,
 "nbformat_minor": 0
}
