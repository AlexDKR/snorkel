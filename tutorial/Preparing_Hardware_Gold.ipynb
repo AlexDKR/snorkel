{
 "cells": [
  {
   "cell_type": "code",
   "execution_count": 71,
   "metadata": {
    "collapsed": false
   },
   "outputs": [
    {
     "name": "stdout",
     "output_type": "stream",
     "text": [
      "The autoreload extension is already loaded. To reload it, use:\n",
      "  %reload_ext autoreload\n"
     ]
    }
   ],
   "source": [
    "%load_ext autoreload\n",
    "%autoreload 2"
   ]
  },
  {
   "cell_type": "markdown",
   "metadata": {},
   "source": [
    "First, prep the candidates:"
   ]
  },
  {
   "cell_type": "code",
   "execution_count": 1,
   "metadata": {
    "collapsed": true
   },
   "outputs": [],
   "source": [
    "from snorkel.parser import HTMLParser\n",
    "html_parser = HTMLParser(path='data/hardware_docs/')"
   ]
  },
  {
   "cell_type": "code",
   "execution_count": 2,
   "metadata": {
    "collapsed": true
   },
   "outputs": [],
   "source": [
    "from snorkel.parser import TableParser\n",
    "table_parser = TableParser()"
   ]
  },
  {
   "cell_type": "code",
   "execution_count": 40,
   "metadata": {
    "collapsed": false
   },
   "outputs": [
    {
     "name": "stdout",
     "output_type": "stream",
     "text": [
      "Parsing documents...\n",
      "Parsing contexts...\n",
      "Parsed 98 documents and 630 contexts\n",
      "CPU times: user 1min 6s, sys: 3.31 s, total: 1min 9s\n",
      "Wall time: 1min 44s\n"
     ]
    }
   ],
   "source": [
    "from snorkel.parser import Corpus\n",
    "%time corpus = Corpus(html_parser, table_parser, max_docs=1000)"
   ]
  },
  {
   "cell_type": "code",
   "execution_count": 86,
   "metadata": {
    "collapsed": true
   },
   "outputs": [],
   "source": [
    "from snorkel.candidates import TableNgrams\n",
    "from snorkel.matchers import NumberMatcher, RangeMatcher\n",
    "\n",
    "table_ngrams = TableNgrams(n_max=2)\n",
    "number_matcher = RangeMatcher(low=-80,high=-40)"
   ]
  },
  {
   "cell_type": "code",
   "execution_count": 87,
   "metadata": {
    "collapsed": false
   },
   "outputs": [
    {
     "name": "stdout",
     "output_type": "stream",
     "text": [
      "Extracting candidates...\n",
      "CPU times: user 4.6 s, sys: 64 ms, total: 4.66 s\n",
      "Wall time: 4.63 s\n"
     ]
    }
   ],
   "source": [
    "from snorkel.candidates import Candidates\n",
    "%time candidates = Candidates(table_ngrams, number_matcher, corpus.get_contexts())"
   ]
  },
  {
   "cell_type": "markdown",
   "metadata": {},
   "source": [
    "Next, prep the gold data:"
   ]
  },
  {
   "cell_type": "code",
   "execution_count": 102,
   "metadata": {
    "collapsed": false
   },
   "outputs": [
    {
     "name": "stdout",
     "output_type": "stream",
     "text": [
      "gold_train: 73 annotations\n",
      "gold_validation: 25 annotations\n",
      "('PHGLS20125-1', '-65')\n"
     ]
    }
   ],
   "source": [
    "import csv\n",
    "with open('data/gold_stg_temp_min.csv', 'rb') as csvfile:\n",
    "    gold_reader = csv.reader(csvfile)\n",
    "    gold = []\n",
    "    for row in gold_reader:\n",
    "        (doc, part, temp, label) = row\n",
    "        if label=='stg_temp_min':\n",
    "            gold.append((doc,temp))\n",
    "validation = 0.25\n",
    "train = 1 - validation\n",
    "gold = list(set(gold))\n",
    "gold_validation = gold[int(len(gold)*train):]\n",
    "gold_train = gold[:int(len(gold)*(train))]\n",
    "print \"gold_train: %s annotations\" % len(gold_train)\n",
    "print \"gold_validation: %s annotations\" % len(gold_validation)\n",
    "print gold_train[0]"
   ]
  },
  {
   "cell_type": "markdown",
   "metadata": {},
   "source": [
    "In the end, we want a dictionary with {candidate UID : boolean}"
   ]
  },
  {
   "cell_type": "code",
   "execution_count": 103,
   "metadata": {
    "collapsed": false
   },
   "outputs": [
    {
     "name": "stdout",
     "output_type": "stream",
     "text": [
      "('93-1-9-0:0-2', False)\n",
      "47 out of 163 candidates are True\n"
     ]
    }
   ],
   "source": [
    "gt_dict = {}\n",
    "for c in candidates.get_candidates():\n",
    "    filename = (corpus.get_doc(c.doc_id).file).split('.')[0]\n",
    "    temp = c.get_attrib_span('words')\n",
    "    label = (filename, temp) in gold_train\n",
    "    gt_dict[c.uid] = label\n",
    "print gt_dict.items()[0]\n",
    "print \"%s out of %s candidates are True\" % (sum(gt_dict.values()), len(gt_dict))"
   ]
  },
  {
   "cell_type": "markdown",
   "metadata": {},
   "source": [
    "Save the results as a pickle"
   ]
  },
  {
   "cell_type": "code",
   "execution_count": 105,
   "metadata": {
    "collapsed": true
   },
   "outputs": [],
   "source": [
    "import cPickle\n",
    "pkl_f = 'data/hardware_gold_train.pkl'\n",
    "with open(pkl_f, 'w+') as f:\n",
    "    cPickle.dump(gt_dict, f)"
   ]
  },
  {
   "cell_type": "code",
   "execution_count": null,
   "metadata": {
    "collapsed": true
   },
   "outputs": [],
   "source": []
  }
 ],
 "metadata": {
  "kernelspec": {
   "display_name": "Python 2",
   "language": "python",
   "name": "python2"
  },
  "language_info": {
   "codemirror_mode": {
    "name": "ipython",
    "version": 2
   },
   "file_extension": ".py",
   "mimetype": "text/x-python",
   "name": "python",
   "nbconvert_exporter": "python",
   "pygments_lexer": "ipython2",
   "version": "2.7.12"
  }
 },
 "nbformat": 4,
 "nbformat_minor": 0
}
