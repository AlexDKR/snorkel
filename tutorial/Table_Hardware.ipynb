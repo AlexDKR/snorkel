{
 "cells": [
  {
   "cell_type": "markdown",
   "metadata": {},
   "source": [
    "# Episode 2: The [Table] Clone Wars\n",
    "\n",
    "This notebook demonstrates the full entity extraction process on transistor data sheets, extracting min/max storage temperatures."
   ]
  },
  {
   "cell_type": "code",
   "execution_count": 1,
   "metadata": {
    "collapsed": false
   },
   "outputs": [
    {
     "name": "stdout",
     "output_type": "stream",
     "text": [
      "The autoreload extension is already loaded. To reload it, use:\n",
      "  %reload_ext autoreload\n"
     ]
    }
   ],
   "source": [
    "%load_ext autoreload\n",
    "%autoreload 2"
   ]
  },
  {
   "cell_type": "code",
   "execution_count": 100,
   "metadata": {
    "collapsed": false
   },
   "outputs": [],
   "source": [
    "from snorkel.parser import HTMLParser\n",
    "html_parser = HTMLParser(path='data/hardware_docs/')"
   ]
  },
  {
   "cell_type": "code",
   "execution_count": 101,
   "metadata": {
    "collapsed": true
   },
   "outputs": [],
   "source": [
    "from snorkel.parser import TableParser\n",
    "table_parser = TableParser()"
   ]
  },
  {
   "cell_type": "code",
   "execution_count": 102,
   "metadata": {
    "collapsed": false
   },
   "outputs": [
    {
     "name": "stdout",
     "output_type": "stream",
     "text": [
      "Parsing documents...\n",
      "Parsing contexts...\n",
      "Parsed 5 documents and 54 contexts\n",
      "CPU times: user 4.5 s, sys: 229 ms, total: 4.73 s\n",
      "Wall time: 7.21 s\n"
     ]
    }
   ],
   "source": [
    "from snorkel.parser import Corpus\n",
    "%time corpus = Corpus(html_parser, table_parser, max_docs=5)"
   ]
  },
  {
   "cell_type": "code",
   "execution_count": 148,
   "metadata": {
    "collapsed": false
   },
   "outputs": [],
   "source": [
    "from snorkel.candidates import TableNgrams\n",
    "from snorkel.matchers import NumberMatcher, RangeMatcher\n",
    "\n",
    "# Define a candidate space\n",
    "table_ngrams = TableNgrams(n_max=3)\n",
    "\n",
    "# Define a matcher\n",
    "number_matcher = RangeMatcher(low=-80,high=-40)\n",
    "# number_matcher = NumberMatcher()"
   ]
  },
  {
   "cell_type": "code",
   "execution_count": 149,
   "metadata": {
    "collapsed": false
   },
   "outputs": [
    {
     "name": "stdout",
     "output_type": "stream",
     "text": [
      "Extracting candidates...\n",
      "CPU times: user 404 ms, sys: 53.1 ms, total: 457 ms\n",
      "Wall time: 421 ms\n",
      "<TableNgram(\"-40\", id=2-3-10-0:0-2, chars=[0,2], (row,col)=(2,3), tag=td)\n",
      "<TableNgram(\"-50\", id=2-3-29-0:0-2, chars=[0,2], (row,col)=(5,4), tag=td)\n",
      "<TableNgram(\"-55\", id=4-0-22-0:0-2, chars=[0,2], (row,col)=(5,2), tag=td)\n",
      "<TableNgram(\"-40\", id=2-1-10-0:0-2, chars=[0,2], (row,col)=(2,2), tag=td)\n",
      "<TableNgram(\"-50\", id=2-3-62-0:4-6, chars=[4,6], (row,col)=(14,0), tag=td)\n",
      "<TableNgram(\"-50\", id=2-3-71-0:4-6, chars=[4,6], (row,col)=(16,0), tag=td)\n",
      "<TableNgram(\"-40\", id=2-1-6-0:0-2, chars=[0,2], (row,col)=(1,2), tag=td)\n",
      "<TableNgram(\"-40\", id=2-3-16-0:0-2, chars=[0,2], (row,col)=(3,3), tag=td)\n",
      "<TableNgram(\"-50\", id=2-3-35-0:0-2, chars=[0,2], (row,col)=(6,4), tag=td)\n",
      "<TableNgram(\"-55\", id=2-1-22-0:0-2, chars=[0,2], (row,col)=(5,2), tag=td)\n"
     ]
    }
   ],
   "source": [
    "from snorkel.candidates import Candidates\n",
    "%time candidates = Candidates(table_ngrams, number_matcher, corpus.get_contexts())\n",
    "for c in candidates.get_candidates()[:10]: print c"
   ]
  },
  {
   "cell_type": "code",
   "execution_count": 150,
   "metadata": {
    "collapsed": false,
    "scrolled": true
   },
   "outputs": [],
   "source": [
    "# from snorkel.snorkel import Entities\n",
    "# from snorkel.matchers import CandidateExtractor\n",
    "# tables = corpus.get_contexts()\n",
    "# CE = CandidateExtractor(table_ngrams, number_matcher)\n",
    "# E = Entities(tables, CE)"
   ]
  },
  {
   "cell_type": "code",
   "execution_count": 151,
   "metadata": {
    "collapsed": false
   },
   "outputs": [
    {
     "name": "stdout",
     "output_type": "stream",
     "text": [
      "Extracting features...\n",
      "Extracted 317 features for each of 11 mentions\n"
     ]
    }
   ],
   "source": [
    "from snorkel.features import TableNgramFeaturizer\n",
    "\n",
    "featurizer = TableNgramFeaturizer(candidates, corpus)"
   ]
  },
  {
   "cell_type": "code",
   "execution_count": 153,
   "metadata": {
    "collapsed": false
   },
   "outputs": [
    {
     "data": {
      "text/plain": [
       "[u'BASIC_NGRAM_-55',\n",
       " 'TABLE_ROW_NUM_5',\n",
       " 'TABLE_COL_NUM_2',\n",
       " 'TABLE_HTML_TAG_td',\n",
       " 'TABLE_HTML_ATTR_style=width:72pt;border-top-style:solid;border-top-width:1pt;border-left-style:solid;border-left-width:1pt;border-bottom-style:solid;border-bottom-width:2pt;border-right-style:solid;border-right-width:1pt',\n",
       " 'TABLE_HTML_ANC_TAG_tr',\n",
       " 'TABLE_HTML_ANC_TAG_table',\n",
       " 'TABLE_HTML_ANC_TAG_body',\n",
       " 'TABLE_HTML_ANC_ATTR_style=height:14pt',\n",
       " 'TABLE_HTML_ANC_ATTR_style=border-collapse:collapse;margin-left:39.55pt',\n",
       " 'TABLE_HTML_ANC_ATTR_cellspacing=0',\n",
       " u'TABLE_ROW_NGRAM_\\\\',\n",
       " u'TABLE_ROW_NGRAM_\\\\_uf0b0C',\n",
       " u'TABLE_ROW_NGRAM_uf0b0C',\n",
       " u'TABLE_ROW_NGRAM_Operating',\n",
       " u'TABLE_ROW_NGRAM_Operating_and',\n",
       " u'TABLE_ROW_NGRAM_Operating_and_Storage',\n",
       " u'TABLE_ROW_NGRAM_and',\n",
       " u'TABLE_ROW_NGRAM_and_Storage',\n",
       " u'TABLE_ROW_NGRAM_and_Storage_Junction',\n",
       " u'TABLE_ROW_NGRAM_Storage',\n",
       " u'TABLE_ROW_NGRAM_Storage_Junction',\n",
       " u'TABLE_ROW_NGRAM_Storage_Junction_Temperature',\n",
       " u'TABLE_ROW_NGRAM_Junction',\n",
       " u'TABLE_ROW_NGRAM_Junction_Temperature',\n",
       " u'TABLE_ROW_NGRAM_Junction_Temperature_Range',\n",
       " u'TABLE_ROW_NGRAM_Temperature',\n",
       " u'TABLE_ROW_NGRAM_Temperature_Range',\n",
       " u'TABLE_ROW_NGRAM_Range',\n",
       " u'TABLE_ROW_NGRAM_-55',\n",
       " u'TABLE_ROW_NGRAM_-55_to',\n",
       " u'TABLE_ROW_NGRAM_-55_to_+150',\n",
       " u'TABLE_ROW_NGRAM_to',\n",
       " u'TABLE_ROW_NGRAM_to_+150',\n",
       " u'TABLE_ROW_NGRAM_+150',\n",
       " u'TABLE_ROW_NGRAM_TJ',\n",
       " u'TABLE_ROW_NGRAM_TJ_,',\n",
       " u'TABLE_ROW_NGRAM_TJ_,_Tstg',\n",
       " u'TABLE_ROW_NGRAM_,',\n",
       " u'TABLE_ROW_NGRAM_,_Tstg',\n",
       " u'TABLE_ROW_NGRAM_Tstg',\n",
       " u'TABLE_COL_NGRAM_5.0',\n",
       " u'TABLE_COL_NGRAM_-55',\n",
       " u'TABLE_COL_NGRAM_-55_to',\n",
       " u'TABLE_COL_NGRAM_-55_to_+150',\n",
       " u'TABLE_COL_NGRAM_to',\n",
       " u'TABLE_COL_NGRAM_to_+150',\n",
       " u'TABLE_COL_NGRAM_+150',\n",
       " u'TABLE_COL_NGRAM_Value',\n",
       " u'TABLE_COL_NGRAM_25',\n",
       " u'TABLE_COL_NGRAM_30',\n",
       " u'TABLE_COL_NGRAM_200']"
      ]
     },
     "execution_count": 153,
     "metadata": {},
     "output_type": "execute_result"
    }
   ],
   "source": [
    "featurizer.get_features_by_id(candidates.get_candidates()[2].id)"
   ]
  },
  {
   "cell_type": "markdown",
   "metadata": {},
   "source": [
    "We now build a legacy DDLiteModel with which we will do the learning stages."
   ]
  },
  {
   "cell_type": "code",
   "execution_count": 142,
   "metadata": {
    "collapsed": false
   },
   "outputs": [],
   "source": [
    "from snorkel.snorkel import DDLiteModel\n",
    "DDL = DDLiteModel(candidates.get_candidates(), featurizer.get_features())"
   ]
  },
  {
   "cell_type": "code",
   "execution_count": 155,
   "metadata": {
    "collapsed": true
   },
   "outputs": [],
   "source": [
    "# in line with storage, tstg, temp, temperature\n",
    "# followed by 'to' \n",
    "\n",
    "def LF_to(m):\n",
    "    return 1 if 'to' in m.post_window('lemmas') else 0\n",
    "\n",
    "# def LF_storage(m):\n",
    "#     return 1 if ('storage' in m.)\n",
    "\n",
    "# def LF_gene(m):\n",
    "#     return 1 if ('gene' in m.post_window('lemmas')) or ('gene' in m.pre_window('lemmas')) else 0\n",
    "# def LF_gene_dp(m):\n",
    "#     return 1 if 'gene' in [m.lemmas[m.dep_parents[i] - 1] for i in m.idxs] else 0\n",
    "# def LF_genotype_dp(m):\n",
    "#     return 1 if 'genotype' in [m.lemmas[m.dep_parents[i] - 1] for i in m.idxs] else 0\n",
    "# def LF_mutant(m):\n",
    "#     return 1 if ('mutant' in m.post_window('lemmas')) or ('mutant' in m.pre_window('lemmas')) else 0\n",
    "# def LF_variant(m):\n",
    "#     return 1 if ('variant' in m.post_window('lemmas')) or ('variant' in m.pre_window('lemmas')) else 0\n",
    "# def LF_express(m):\n",
    "#     return 1 if ('express' in m.post_window('lemmas')) or ('express' in m.pre_window('lemmas')) else 0\n",
    "# def LF_mutation(m):\n",
    "#     return 1 if 'mutation' in [m.lemmas[m.dep_parents[i] - 1] for i in m.idxs] else 0\n",
    "# def LF_JJ(m):\n",
    "#     return 1 if 'JJ' in m.post_window('poses') else 0\n",
    "# def LF_IN(m):\n",
    "#     return 1 if 'IN' in m.pre_window('poses', 1) else 0"
   ]
  },
  {
   "cell_type": "code",
   "execution_count": 156,
   "metadata": {
    "collapsed": false
   },
   "outputs": [
    {
     "ename": "AttributeError",
     "evalue": "'TableNgram' object has no attribute 'post_window'",
     "output_type": "error",
     "traceback": [
      "\u001b[0;31m---------------------------------------------------------------------------\u001b[0m",
      "\u001b[0;31mAttributeError\u001b[0m                            Traceback (most recent call last)",
      "\u001b[0;32m<ipython-input-156-cd1d36961a15>\u001b[0m in \u001b[0;36m<module>\u001b[0;34m()\u001b[0m\n\u001b[1;32m      1\u001b[0m \u001b[0mLFs\u001b[0m \u001b[0;34m=\u001b[0m \u001b[0;34m[\u001b[0m\u001b[0mLF_to\u001b[0m\u001b[0;34m]\u001b[0m\u001b[0;34m\u001b[0m\u001b[0m\n\u001b[0;32m----> 2\u001b[0;31m \u001b[0mDDL\u001b[0m\u001b[0;34m.\u001b[0m\u001b[0mapply_lfs\u001b[0m\u001b[0;34m(\u001b[0m\u001b[0mLFs\u001b[0m\u001b[0;34m,\u001b[0m \u001b[0mclear\u001b[0m\u001b[0;34m=\u001b[0m\u001b[0mFalse\u001b[0m\u001b[0;34m)\u001b[0m\u001b[0;34m\u001b[0m\u001b[0m\n\u001b[0m",
      "\u001b[0;32m/Users/bradenhancock/snorkel/snorkel/snorkel.py\u001b[0m in \u001b[0;36mapply_lfs\u001b[0;34m(self, lfs_f, clear)\u001b[0m\n\u001b[1;32m    782\u001b[0m     \u001b[0;32mfor\u001b[0m \u001b[0mi\u001b[0m\u001b[0;34m,\u001b[0m\u001b[0mc\u001b[0m \u001b[0;32min\u001b[0m \u001b[0menumerate\u001b[0m\u001b[0;34m(\u001b[0m\u001b[0mself\u001b[0m\u001b[0;34m.\u001b[0m\u001b[0mC\u001b[0m\u001b[0;34m)\u001b[0m\u001b[0;34m:\u001b[0m\u001b[0;34m\u001b[0m\u001b[0m\n\u001b[1;32m    783\u001b[0m       \u001b[0;32mfor\u001b[0m \u001b[0mj\u001b[0m\u001b[0;34m,\u001b[0m\u001b[0mlf\u001b[0m \u001b[0;32min\u001b[0m \u001b[0menumerate\u001b[0m\u001b[0;34m(\u001b[0m\u001b[0mlfs_f\u001b[0m\u001b[0;34m)\u001b[0m\u001b[0;34m:\u001b[0m\u001b[0;34m\u001b[0m\u001b[0m\n\u001b[0;32m--> 784\u001b[0;31m         \u001b[0madd\u001b[0m\u001b[0;34m[\u001b[0m\u001b[0mi\u001b[0m\u001b[0;34m,\u001b[0m\u001b[0mj\u001b[0m\u001b[0;34m]\u001b[0m \u001b[0;34m=\u001b[0m \u001b[0mlf\u001b[0m\u001b[0;34m(\u001b[0m\u001b[0mc\u001b[0m\u001b[0;34m)\u001b[0m\u001b[0;34m\u001b[0m\u001b[0m\n\u001b[0m\u001b[1;32m    785\u001b[0m     \u001b[0madd_names\u001b[0m \u001b[0;34m=\u001b[0m \u001b[0;34m[\u001b[0m\u001b[0mlab\u001b[0m\u001b[0;34m.\u001b[0m\u001b[0m__name__\u001b[0m \u001b[0;32mfor\u001b[0m \u001b[0mlab\u001b[0m \u001b[0;32min\u001b[0m \u001b[0mlfs_f\u001b[0m\u001b[0;34m]\u001b[0m\u001b[0;34m\u001b[0m\u001b[0m\n\u001b[1;32m    786\u001b[0m     \u001b[0mself\u001b[0m\u001b[0;34m.\u001b[0m\u001b[0mset_lf_matrix\u001b[0m\u001b[0;34m(\u001b[0m\u001b[0madd\u001b[0m\u001b[0;34m,\u001b[0m \u001b[0madd_names\u001b[0m\u001b[0;34m,\u001b[0m \u001b[0mclear\u001b[0m\u001b[0;34m)\u001b[0m\u001b[0;34m\u001b[0m\u001b[0m\n",
      "\u001b[0;32m<ipython-input-155-a00c9cb66544>\u001b[0m in \u001b[0;36mLF_to\u001b[0;34m(m)\u001b[0m\n\u001b[1;32m      3\u001b[0m \u001b[0;34m\u001b[0m\u001b[0m\n\u001b[1;32m      4\u001b[0m \u001b[0;32mdef\u001b[0m \u001b[0mLF_to\u001b[0m\u001b[0;34m(\u001b[0m\u001b[0mm\u001b[0m\u001b[0;34m)\u001b[0m\u001b[0;34m:\u001b[0m\u001b[0;34m\u001b[0m\u001b[0m\n\u001b[0;32m----> 5\u001b[0;31m     \u001b[0;32mreturn\u001b[0m \u001b[0;36m1\u001b[0m \u001b[0;32mif\u001b[0m \u001b[0;34m'to'\u001b[0m \u001b[0;32min\u001b[0m \u001b[0mm\u001b[0m\u001b[0;34m.\u001b[0m\u001b[0mpost_window\u001b[0m\u001b[0;34m(\u001b[0m\u001b[0;34m'lemmas'\u001b[0m\u001b[0;34m)\u001b[0m \u001b[0;32melse\u001b[0m \u001b[0;36m0\u001b[0m\u001b[0;34m\u001b[0m\u001b[0m\n\u001b[0m\u001b[1;32m      6\u001b[0m \u001b[0;34m\u001b[0m\u001b[0m\n\u001b[1;32m      7\u001b[0m \u001b[0;31m# def LF_storage(m):\u001b[0m\u001b[0;34m\u001b[0m\u001b[0;34m\u001b[0m\u001b[0m\n",
      "\u001b[0;31mAttributeError\u001b[0m: 'TableNgram' object has no attribute 'post_window'"
     ]
    }
   ],
   "source": [
    "LFs = [LF_to]\n",
    "DDL.apply_lfs(LFs, clear=False)"
   ]
  },
  {
   "cell_type": "code",
   "execution_count": null,
   "metadata": {
    "collapsed": true
   },
   "outputs": [],
   "source": []
  }
 ],
 "metadata": {
  "kernelspec": {
   "display_name": "Python 2",
   "language": "python",
   "name": "python2"
  },
  "language_info": {
   "codemirror_mode": {
    "name": "ipython",
    "version": 2
   },
   "file_extension": ".py",
   "mimetype": "text/x-python",
   "name": "python",
   "nbconvert_exporter": "python",
   "pygments_lexer": "ipython2",
   "version": "2.7.12"
  }
 },
 "nbformat": 4,
 "nbformat_minor": 0
}
