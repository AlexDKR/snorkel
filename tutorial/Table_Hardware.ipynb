{
 "cells": [
  {
   "cell_type": "markdown",
   "metadata": {},
   "source": [
    "# Episode 2: The [Table] Clone Wars\n",
    "\n",
    "This notebook demonstrates the full entity extraction process on transistor data sheets, extracting min/max storage temperatures."
   ]
  },
  {
   "cell_type": "code",
   "execution_count": null,
   "metadata": {
    "collapsed": false
   },
   "outputs": [],
   "source": [
    "%load_ext autoreload\n",
    "%autoreload 2"
   ]
  },
  {
   "cell_type": "code",
   "execution_count": 1,
   "metadata": {
    "collapsed": false
   },
   "outputs": [],
   "source": [
    "from snorkel.parser import HTMLParser\n",
    "html_parser = HTMLParser(path='data/hardware_docs/')"
   ]
  },
  {
   "cell_type": "code",
   "execution_count": 2,
   "metadata": {
    "collapsed": true
   },
   "outputs": [],
   "source": [
    "from snorkel.parser import TableParser\n",
    "table_parser = TableParser()"
   ]
  },
  {
   "cell_type": "code",
   "execution_count": 30,
   "metadata": {
    "collapsed": false
   },
   "outputs": [
    {
     "name": "stdout",
     "output_type": "stream",
     "text": [
      "Parsing documents...\n",
      "Parsing contexts...\n",
      "Parsed 20 documents and 156 contexts\n",
      "CPU times: user 13 s, sys: 726 ms, total: 13.7 s\n",
      "Wall time: 21.6 s\n"
     ]
    }
   ],
   "source": [
    "from snorkel.parser import Corpus\n",
    "%time corpus = Corpus(html_parser, table_parser, max_docs=20)"
   ]
  },
  {
   "cell_type": "code",
   "execution_count": 31,
   "metadata": {
    "collapsed": false
   },
   "outputs": [],
   "source": [
    "from snorkel.candidates import TableNgrams\n",
    "from snorkel.matchers import NumberMatcher, RangeMatcher\n",
    "\n",
    "# Define a candidate space\n",
    "table_ngrams = TableNgrams(n_max=3)\n",
    "\n",
    "# Define a matcher\n",
    "number_matcher = RangeMatcher(low=-80,high=-40)\n",
    "# number_matcher = NumberMatcher()"
   ]
  },
  {
   "cell_type": "code",
   "execution_count": 32,
   "metadata": {
    "collapsed": false
   },
   "outputs": [
    {
     "name": "stdout",
     "output_type": "stream",
     "text": [
      "Extracting candidates...\n",
      "CPU times: user 1.31 s, sys: 59 ms, total: 1.37 s\n",
      "Wall time: 1.33 s\n",
      "<TableNgram(\"-55\", id=17-0-38-0:0-2, chars=[0,2], (row,col)=(9,2), tag=td)\n",
      "<TableNgram(\"-65\", id=19-1-43-0:0-2, chars=[0,2], (row,col)=(12,2), tag=td)\n",
      "<TableNgram(\"-40\", id=7-1-10-0:0-2, chars=[0,2], (row,col)=(2,2), tag=td)\n",
      "<TableNgram(\"-50\", id=7-3-35-0:0-2, chars=[0,2], (row,col)=(6,4), tag=td)\n",
      "<TableNgram(\"-50\", id=12-1-33-0:0-2, chars=[0,2], (row,col)=(4,5), tag=td)\n",
      "<TableNgram(\"-55\", id=9-0-22-0:0-2, chars=[0,2], (row,col)=(5,2), tag=td)\n",
      "<TableNgram(\"-50\", id=7-3-29-0:0-2, chars=[0,2], (row,col)=(5,4), tag=td)\n",
      "<TableNgram(\"-50\", id=12-1-44-0:3-5, chars=[3,5], (row,col)=(6,2), tag=td)\n",
      "<TableNgram(\"-65\", id=21-0-46-0:0-2, chars=[0,2], (row,col)=(14,2), tag=td)\n",
      "<TableNgram(\"-65\", id=22-1-43-0:0-2, chars=[0,2], (row,col)=(12,2), tag=td)\n"
     ]
    }
   ],
   "source": [
    "from snorkel.candidates import Candidates\n",
    "%time candidates = Candidates(table_ngrams, number_matcher, corpus.get_contexts())\n",
    "for c in candidates.get_candidates()[:10]: print c"
   ]
  },
  {
   "cell_type": "code",
   "execution_count": 33,
   "metadata": {
    "collapsed": false,
    "scrolled": true
   },
   "outputs": [],
   "source": [
    "# from snorkel.snorkel import Entities\n",
    "# from snorkel.matchers import CandidateExtractor\n",
    "# tables = corpus.get_contexts()\n",
    "# CE = CandidateExtractor(table_ngrams, number_matcher)\n",
    "# E = Entities(tables, CE)"
   ]
  },
  {
   "cell_type": "code",
   "execution_count": 34,
   "metadata": {
    "collapsed": false
   },
   "outputs": [
    {
     "name": "stdout",
     "output_type": "stream",
     "text": [
      "Extracting features...\n",
      "Extracted 679 features for each of 26 mentions\n"
     ]
    }
   ],
   "source": [
    "from snorkel.features import TableNgramFeaturizer\n",
    "\n",
    "featurizer = TableNgramFeaturizer(candidates, corpus)"
   ]
  },
  {
   "cell_type": "code",
   "execution_count": 35,
   "metadata": {
    "collapsed": false
   },
   "outputs": [
    {
     "data": {
      "text/plain": [
       "[u'BASIC_NGRAM_-40',\n",
       " 'TABLE_ROW_NUM_2',\n",
       " 'TABLE_COL_NUM_2',\n",
       " 'TABLE_HTML_TAG_td',\n",
       " 'TABLE_HTML_ATTR_style=width:108pt;border-top-style:solid;border-top-width:1pt;border-left-style:solid;border-left-width:1pt;border-bottom-style:solid;border-bottom-width:1pt;border-right-style:solid;border-right-width:1pt',\n",
       " 'TABLE_HTML_ANC_TAG_tr',\n",
       " 'TABLE_HTML_ANC_TAG_table',\n",
       " 'TABLE_HTML_ANC_TAG_body',\n",
       " 'TABLE_HTML_ANC_ATTR_style=height:16pt',\n",
       " 'TABLE_HTML_ANC_ATTR_style=border-collapse:collapse;margin-left:23.7102pt']"
      ]
     },
     "execution_count": 35,
     "metadata": {},
     "output_type": "execute_result"
    }
   ],
   "source": [
    "featurizer.get_features_by_id(candidates.get_candidates()[2].id)[:10]"
   ]
  },
  {
   "cell_type": "markdown",
   "metadata": {},
   "source": [
    "We now build a legacy DDLiteModel with which we will do the learning stages."
   ]
  },
  {
   "cell_type": "code",
   "execution_count": 36,
   "metadata": {
    "collapsed": false
   },
   "outputs": [],
   "source": [
    "import cPickle\n",
    "pkl_f = 'data/hardware_gold_train.pkl'\n",
    "with open(pkl_f, 'rb') as f:\n",
    "    gt_dict = cPickle.load(f)\n",
    "    \n",
    "from snorkel.snorkel import DDLiteModel\n",
    "DDL = DDLiteModel(candidates.get_candidates(), featurizer.get_features(), gt_dict=gt_dict)    "
   ]
  },
  {
   "cell_type": "code",
   "execution_count": 44,
   "metadata": {
    "collapsed": false
   },
   "outputs": [
    {
     "name": "stdout",
     "output_type": "stream",
     "text": [
      "<TableNgram(\"-40\", id=7-1-10-0:0-2, chars=[0,2], (row,col)=(2,2), tag=td)\n"
     ]
    }
   ],
   "source": [
    "c = candidates.get_candidates()[2]\n",
    "print c"
   ]
  },
  {
   "cell_type": "code",
   "execution_count": 45,
   "metadata": {
    "collapsed": true
   },
   "outputs": [],
   "source": [
    "# NOTE: make sure that these are made case insensitive\n",
    "def LF_to(m):\n",
    "    return 1 if 'to' in m.post_window('words') else 0\n",
    "def LF_storage(m):\n",
    "    return 1 if 'Storage' in m.aligned('words') else 0\n",
    "def LF_tstg(m):\n",
    "    return 1 if 'Tstg' in m.aligned('words') else 0\n",
    "def LF_temperature(m):\n",
    "    return 1 if 'Temperature' in m.aligned('words') else 0\n",
    "\n",
    "def LF_n(m):\n",
    "    return -1 if m.n > 1 else 0"
   ]
  },
  {
   "cell_type": "code",
   "execution_count": 46,
   "metadata": {
    "collapsed": false
   },
   "outputs": [
    {
     "name": "stdout",
     "output_type": "stream",
     "text": [
      "0\n",
      "0\n",
      "0\n",
      "0\n",
      "0\n"
     ]
    }
   ],
   "source": [
    "LFs = [LF_to, LF_storage, LF_tstg, LF_temperature, LF_n]\n",
    "DDL.apply_lfs(LFs, clear=False)\n",
    "for lf in LFs:\n",
    "    print lf(c)"
   ]
  },
  {
   "cell_type": "code",
   "execution_count": 47,
   "metadata": {
    "collapsed": false
   },
   "outputs": [
    {
     "name": "stdout",
     "output_type": "stream",
     "text": [
      "LF stats on training set\n",
      "Coverage:\t42.308%\n",
      "Overlap:\t42.308%\n",
      "Conflict:\t0.000%\n"
     ]
    }
   ],
   "source": [
    "DDL.print_lf_stats()"
   ]
  },
  {
   "cell_type": "code",
   "execution_count": 41,
   "metadata": {
    "collapsed": false
   },
   "outputs": [],
   "source": [
    "import matplotlib\n",
    "import numpy as np\n",
    "%matplotlib inline\n",
    "matplotlib.rcParams['figure.figsize'] = (12,4)"
   ]
  },
  {
   "cell_type": "code",
   "execution_count": 42,
   "metadata": {
    "collapsed": false
   },
   "outputs": [
    {
     "name": "stdout",
     "output_type": "stream",
     "text": [
      "Begin training for rate=0.01, mu=1e-07\n",
      "\tLearning epoch = 0\tGradient mag. = 0.884019\n",
      "\tLearning epoch = 250\tGradient mag. = 2.108481\n",
      "Final gradient magnitude for rate=0.01, mu=1e-07: 1.713\n",
      "Running in False mode...\n",
      "Begin training for rate=0.01, mu=1e-09\n",
      "\tLearning epoch = 0\tGradient mag. = 0.731533\n",
      "\tLearning epoch = 250\tGradient mag. = 0.746927\n",
      "\tLearning epoch = 500\tGradient mag. = 0.724804\n",
      "\tLearning epoch = 750\tGradient mag. = 0.703627\n",
      "\tLearning epoch = 1000\tGradient mag. = 0.683352\n",
      "\tLearning epoch = 1250\tGradient mag. = 0.663936\n",
      "\tLearning epoch = 1500\tGradient mag. = 0.645339\n",
      "\tLearning epoch = 1750\tGradient mag. = 0.627523\n",
      "\tLearning epoch = 2000\tGradient mag. = 0.610449\n",
      "\tLearning epoch = 2250\tGradient mag. = 0.594083\n",
      "\tLearning epoch = 2500\tGradient mag. = 0.578392\n",
      "\tLearning epoch = 2750\tGradient mag. = 0.563344\n",
      "Final gradient magnitude for rate=0.01, mu=1e-09: 0.549\n",
      "Begin training for rate=0.01, mu=1e-05\n",
      "\tLearning epoch = 0\tGradient mag. = 0.731533\n",
      "\tLearning epoch = 250\tGradient mag. = 0.746929\n",
      "\tLearning epoch = 500\tGradient mag. = 0.724807\n",
      "\tLearning epoch = 750\tGradient mag. = 0.703631\n",
      "\tLearning epoch = 1000\tGradient mag. = 0.683358\n",
      "\tLearning epoch = 1250\tGradient mag. = 0.663945\n",
      "\tLearning epoch = 1500\tGradient mag. = 0.645350\n",
      "\tLearning epoch = 1750\tGradient mag. = 0.627535\n",
      "\tLearning epoch = 2000\tGradient mag. = 0.610464\n",
      "\tLearning epoch = 2250\tGradient mag. = 0.594101\n",
      "\tLearning epoch = 2500\tGradient mag. = 0.578413\n",
      "\tLearning epoch = 2750\tGradient mag. = 0.563367\n",
      "Final gradient magnitude for rate=0.01, mu=1e-05: 0.549\n",
      "Begin training for rate=0.01, mu=0.001\n",
      "\tLearning epoch = 0\tGradient mag. = 0.731533\n",
      "\tLearning epoch = 250\tGradient mag. = 0.747052\n",
      "\tLearning epoch = 500\tGradient mag. = 0.725077\n",
      "\tLearning epoch = 750\tGradient mag. = 0.704068\n",
      "\tLearning epoch = 1000\tGradient mag. = 0.683980\n",
      "\tLearning epoch = 1250\tGradient mag. = 0.664768\n",
      "\tLearning epoch = 1500\tGradient mag. = 0.646388\n",
      "\tLearning epoch = 1750\tGradient mag. = 0.628801\n",
      "\tLearning epoch = 2000\tGradient mag. = 0.611969\n",
      "\tLearning epoch = 2250\tGradient mag. = 0.595854\n",
      "\tLearning epoch = 2500\tGradient mag. = 0.580421\n",
      "\tLearning epoch = 2750\tGradient mag. = 0.565638\n",
      "Final gradient magnitude for rate=0.01, mu=0.001: 0.552\n",
      "Begin training for rate=0.01, mu=0.1\n",
      "\tLearning epoch = 0\tGradient mag. = 0.731533\n",
      "\tLearning epoch = 250\tGradient mag. = 0.758111\n",
      "\tLearning epoch = 500\tGradient mag. = 0.748077\n",
      "\tLearning epoch = 750\tGradient mag. = 0.739628\n",
      "\tLearning epoch = 1000\tGradient mag. = 0.732507\n",
      "\tLearning epoch = 1250\tGradient mag. = 0.726499\n",
      "\tLearning epoch = 1500\tGradient mag. = 0.721427\n",
      "\tLearning epoch = 1750\tGradient mag. = 0.717140\n",
      "\tLearning epoch = 2000\tGradient mag. = 0.713516\n",
      "\tLearning epoch = 2250\tGradient mag. = 0.710450\n",
      "\tLearning epoch = 2500\tGradient mag. = 0.707854\n",
      "\tLearning epoch = 2750\tGradient mag. = 0.705656\n",
      "Final gradient magnitude for rate=0.01, mu=0.1: 0.704\n"
     ]
    },
    {
     "data": {
      "image/png": "[encoded data removed]",
      "text/plain": [
       "<matplotlib.figure.Figure at 0x10a336790>"
      ]
     },
     "metadata": {},
     "output_type": "display_data"
    },
    {
     "name": "stdout",
     "output_type": "stream",
     "text": [
      "CPU times: user 3.46 s, sys: 67.2 ms, total: 3.53 s\n",
      "Wall time: 3.6 s\n"
     ]
    },
    {
     "data": {
      "text/html": [
       "<table><tr><td><b>ID</b></td><td><b># LFs</b></td><td><b>Test set size</b></td><td><b>Model</b></td><td><b>Precision</b></td><td><b>Recall</b></td><td><b>F1</b></td></tr><tr><td>0</td><td>4</td><td>0</td><td>Logistic regression</td><td>0.000</td><td>0.000</td><td>0.000</td></tr></table><table><tr><td><b>LF</b></td></tr><tr><td>LF_to</td></tr><tr><td>LF_storage</td></tr><tr><td>LF_tstg</td></tr><tr><td>LF_temperature</td></tr></table>"
      ],
      "text/plain": [
       "<snorkel.snorkel.ModelLog instance at 0x115e47fc8>"
      ]
     },
     "execution_count": 42,
     "metadata": {},
     "output_type": "execute_result"
    }
   ],
   "source": [
    "mu_seq = np.ravel([1e-9, 1e-5, 1e-3, 1e-1])\n",
    "lf_opts = {'sample': False, 'verbose': True}\n",
    "model_opts = {'sample': False, 'n_iter': 3000, 'alpha': 0.5, 'mu': mu_seq, 'bias': False, 'verbose': True}\n",
    "%time DDL.train_model(method='lr', lf_opts=lf_opts, model_opts=model_opts)"
   ]
  },
  {
   "cell_type": "code",
   "execution_count": null,
   "metadata": {
    "collapsed": true
   },
   "outputs": [],
   "source": []
  }
 ],
 "metadata": {
  "kernelspec": {
   "display_name": "Python 2",
   "language": "python",
   "name": "python2"
  },
  "language_info": {
   "codemirror_mode": {
    "name": "ipython",
    "version": 2
   },
   "file_extension": ".py",
   "mimetype": "text/x-python",
   "name": "python",
   "nbconvert_exporter": "python",
   "pygments_lexer": "ipython2",
   "version": "2.7.12"
  }
 },
 "nbformat": 4,
 "nbformat_minor": 0
}
