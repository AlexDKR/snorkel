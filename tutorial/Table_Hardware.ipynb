{
 "cells": [
  {
   "cell_type": "markdown",
   "metadata": {},
   "source": [
    "# Extraction + Learning : Hardware Spec Sheets\n",
    "\n",
    "This notebook demonstrates the full entity extraction process on transistor data sheets, extracting min/max storage temperatures."
   ]
  },
  {
   "cell_type": "code",
   "execution_count": 1,
   "metadata": {
    "collapsed": false
   },
   "outputs": [
    {
     "name": "stdout",
     "output_type": "stream",
     "text": [
      "The autoreload extension is already loaded. To reload it, use:\n",
      "  %reload_ext autoreload\n"
     ]
    }
   ],
   "source": [
    "%load_ext autoreload\n",
    "%autoreload 2"
   ]
  },
  {
   "cell_type": "code",
   "execution_count": 2,
   "metadata": {
    "collapsed": false
   },
   "outputs": [],
   "source": [
    "from snorkel.parser import HTMLParser\n",
    "html_parser = HTMLParser(path='data/hardware_docs/')"
   ]
  },
  {
   "cell_type": "code",
   "execution_count": 3,
   "metadata": {
    "collapsed": true
   },
   "outputs": [],
   "source": [
    "from snorkel.parser import TableParser\n",
    "table_parser = TableParser()"
   ]
  },
  {
   "cell_type": "code",
   "execution_count": 4,
   "metadata": {
    "collapsed": false
   },
   "outputs": [
    {
     "name": "stdout",
     "output_type": "stream",
     "text": [
      "Parsing documents...\n",
      "Parsing contexts...\n",
      "Parsed 98 documents and 630 contexts\n",
      "CPU times: user 1min 11s, sys: 3.55 s, total: 1min 14s\n",
      "Wall time: 1min 51s\n"
     ]
    }
   ],
   "source": [
    "from snorkel.parser import Corpus\n",
    "%time corpus = Corpus(html_parser, table_parser, max_docs=100)"
   ]
  },
  {
   "cell_type": "code",
   "execution_count": 5,
   "metadata": {
    "collapsed": false
   },
   "outputs": [],
   "source": [
    "from snorkel.candidates import TableNgrams\n",
    "from snorkel.matchers import NumberMatcher, RangeMatcher\n",
    "\n",
    "# Define a candidate space\n",
    "table_ngrams = TableNgrams(n_max=3)\n",
    "\n",
    "# Define a matcher\n",
    "number_matcher = RangeMatcher(low=-80,high=-40)\n",
    "# number_matcher = NumberMatcher()"
   ]
  },
  {
   "cell_type": "code",
   "execution_count": 50,
   "metadata": {
    "collapsed": false
   },
   "outputs": [
    {
     "name": "stdout",
     "output_type": "stream",
     "text": [
      "Extracting candidates...\n",
      "CPU times: user 5.66 s, sys: 105 ms, total: 5.76 s\n",
      "Wall time: 5.71 s\n",
      "<TableNgram(\"-50\", id=71-0-10-0:0-2, chars=[0,2], (row,col)=(2,2), tag=td)\n",
      "<TableNgram(\"-50\", id=97-1-22-0:0-2, chars=[0,2], (row,col)=(2,6), tag=td)\n",
      "<TableNgram(\"-65\", id=37-0-37-0:0-2, chars=[0,2], (row,col)=(10,2), tag=td)\n",
      "<TableNgram(\"-65\", id=37-0-17-0:0-2, chars=[0,2], (row,col)=(5,2), tag=td)\n",
      "<TableNgram(\"-50\", id=2-3-71-0:4-6, chars=[4,6], (row,col)=(16,0), tag=td)\n"
     ]
    }
   ],
   "source": [
    "from snorkel.candidates import Candidates\n",
    "%time candidates = Candidates(table_ngrams, number_matcher, corpus.get_contexts())\n",
    "for c in candidates.get_candidates()[:5]: print c"
   ]
  },
  {
   "cell_type": "markdown",
   "metadata": {},
   "source": [
    "Now make gold data:"
   ]
  },
  {
   "cell_type": "code",
   "execution_count": 52,
   "metadata": {
    "collapsed": false
   },
   "outputs": [
    {
     "name": "stdout",
     "output_type": "stream",
     "text": [
      "98 gold annotations\n",
      "63 out of 163 candidates are positive\n"
     ]
    }
   ],
   "source": [
    "import csv\n",
    "with open('data/gold_stg_temp_min.csv', 'rb') as csvfile:\n",
    "    gold_reader = csv.reader(csvfile)\n",
    "    gold = []\n",
    "    for row in gold_reader:\n",
    "        (doc, part, temp, label) = row\n",
    "        if label=='stg_temp_min':\n",
    "            gold.append((doc,temp))\n",
    "validation = 0\n",
    "train = 1 - validation\n",
    "gold = list(set(gold))\n",
    "print \"%s gold annotations\" % len(gold)\n",
    "gt_dict = {}\n",
    "for c in candidates.get_candidates():\n",
    "    filename = (corpus.get_doc(c.doc_id).file).split('.')[0]\n",
    "    temp = c.get_attrib_span('words')\n",
    "    label = 1 if (filename, temp) in gold else -1\n",
    "    gt_dict[c.uid] = label\n",
    "print \"%s out of %s candidates are positive\" % (gt_dict.values().count(1), len(gt_dict))"
   ]
  },
  {
   "cell_type": "markdown",
   "metadata": {},
   "source": [
    "Confirm that features work:"
   ]
  },
  {
   "cell_type": "code",
   "execution_count": 10,
   "metadata": {
    "collapsed": false
   },
   "outputs": [
    {
     "name": "stdout",
     "output_type": "stream",
     "text": [
      "Extracting features...\n",
      "Extracted 1951 features for each of 163 candidates\n"
     ]
    },
    {
     "data": {
      "text/plain": [
       "[u'BASIC_NGRAM_-50',\n",
       " 'TABLE_ROW_NUM_2',\n",
       " 'TABLE_COL_NUM_2',\n",
       " 'TABLE_HTML_TAG_td',\n",
       " 'TABLE_HTML_ATTR_style=width:89pt',\n",
       " 'TABLE_HTML_ANC_TAG_tr',\n",
       " 'TABLE_HTML_ANC_TAG_table',\n",
       " 'TABLE_HTML_ANC_TAG_li',\n",
       " 'TABLE_HTML_ANC_TAG_ul',\n",
       " 'TABLE_HTML_ANC_TAG_body']"
      ]
     },
     "execution_count": 10,
     "metadata": {},
     "output_type": "execute_result"
    }
   ],
   "source": [
    "from snorkel.features import TableNgramFeaturizer\n",
    "featurizer = TableNgramFeaturizer(candidates, corpus)\n",
    "featurizer.get_features_by_id(candidates.get_candidates()[0].id)[:10]"
   ]
  },
  {
   "cell_type": "markdown",
   "metadata": {},
   "source": [
    "We now build a legacy DDLiteModel with which we will do the learning stages."
   ]
  },
  {
   "cell_type": "code",
   "execution_count": 54,
   "metadata": {
    "collapsed": false,
    "scrolled": true
   },
   "outputs": [
    {
     "name": "stdout",
     "output_type": "stream",
     "text": [
      "113 training data\n",
      "25 test data\n",
      "25 validation data\n"
     ]
    }
   ],
   "source": [
    "# import cPickle\n",
    "# pkl_f = 'data/hardware_gold_train.pkl'\n",
    "# with open(pkl_f, 'rb') as f:\n",
    "#     gt_dict = cPickle.load(f)\n",
    "\n",
    "\n",
    "from snorkel.snorkel import DDLiteModel\n",
    "DDL = DDLiteModel(candidates.get_candidates(), featurizer.get_features(), gt_dict)\n",
    "\n",
    "DDL.set_holdout(idxs=range(50), validation_frac=0.5)\n",
    "print \"%s training data\" % len(gt.get_labeled_ground_truth('training')[0])\n",
    "print \"%s test data\" % len(gt.get_labeled_ground_truth('test')[0])\n",
    "print \"%s validation data\" % len(gt.get_labeled_ground_truth('validation')[0])"
   ]
  },
  {
   "cell_type": "code",
   "execution_count": 43,
   "metadata": {
    "collapsed": true
   },
   "outputs": [],
   "source": [
    "# NOTE: make sure that these are made case insensitive\n",
    "def LF_to(m):\n",
    "    return 1 if 'to' in m.post_window('words') else 0\n",
    "def LF_storage(m):\n",
    "    return 1 if 'Storage' in m.aligned('words') else 0\n",
    "def LF_tstg(m):\n",
    "    return 1 if 'Tstg' in m.aligned('words') else 0\n",
    "def LF_temperature(m):\n",
    "    return 1 if 'Temperature' in m.aligned('words') else 0\n",
    "\n",
    "def LF_n(m):\n",
    "    return -1 if m.n > 1 else 0"
   ]
  },
  {
   "cell_type": "code",
   "execution_count": 56,
   "metadata": {
    "collapsed": false
   },
   "outputs": [],
   "source": [
    "LFs = [LF_to, LF_storage, LF_tstg, LF_temperature, LF_n]\n",
    "DDL.apply_lfs(LFs, clear=True)"
   ]
  },
  {
   "cell_type": "code",
   "execution_count": 57,
   "metadata": {
    "collapsed": false
   },
   "outputs": [
    {
     "name": "stdout",
     "output_type": "stream",
     "text": [
      "<TableNgram(\"-55\", id=80-1-33-0:0-2, chars=[0,2], (row,col)=(6,3), tag=td)\n",
      "0\n",
      "1\n",
      "1\n",
      "0\n",
      "0\n"
     ]
    }
   ],
   "source": [
    "# View LF performance on a particular candidate\n",
    "c = candidates.get_candidates()[8]\n",
    "print c\n",
    "for lf in LFs:\n",
    "    print lf(c)"
   ]
  },
  {
   "cell_type": "code",
   "execution_count": 58,
   "metadata": {
    "collapsed": false,
    "scrolled": true
   },
   "outputs": [
    {
     "name": "stdout",
     "output_type": "stream",
     "text": [
      "['LF_to', 'LF_storage', 'LF_tstg', 'LF_temperature', 'LF_n']\n",
      "LF stats on training set\n",
      "Coverage:\t40.708%\n",
      "Overlap:\t32.743%\n",
      "Conflict:\t0.000%\n"
     ]
    }
   ],
   "source": [
    "print DDL.lf_names\n",
    "DDL.print_lf_stats()"
   ]
  },
  {
   "cell_type": "code",
   "execution_count": 59,
   "metadata": {
    "collapsed": false
   },
   "outputs": [
    {
     "data": {
      "text/html": [
       "<table><tr><td><b>Labeling function</b></td><td><b>Percent candidates where LF has conflict</b></td></tr><tr><td>LF_n</td><td>0.00%</td></tr><tr><td>LF_storage</td><td>0.00%</td></tr><tr><td>LF_temperature</td><td>0.00%</td></tr></table>"
      ],
      "text/plain": [
       "OrderedDict([('LF_n', ['0.00%']),\n",
       "             ('LF_storage', ['0.00%']),\n",
       "             ('LF_temperature', ['0.00%']),\n",
       "             ('LF_tstg', ['0.00%']),\n",
       "             ('LF_to', ['0.00%'])])"
      ]
     },
     "execution_count": 59,
     "metadata": {},
     "output_type": "execute_result"
    }
   ],
   "source": [
    "DDL.top_conflict_lfs(n=3)"
   ]
  },
  {
   "cell_type": "code",
   "execution_count": 60,
   "metadata": {
    "collapsed": false
   },
   "outputs": [
    {
     "data": {
      "text/html": [
       "<table><tr><td><b>Labeling function</b></td><td><b>Candidate coverage</b></td></tr><tr><td>LF_n</td><td>0.00%</td></tr><tr><td>LF_tstg</td><td>15.04%</td></tr><tr><td>LF_to</td><td>22.12%</td></tr></table>"
      ],
      "text/plain": [
       "OrderedDict([('LF_n', ['0.00%']),\n",
       "             ('LF_tstg', ['15.04%']),\n",
       "             ('LF_to', ['22.12%']),\n",
       "             ('LF_temperature', ['27.43%']),\n",
       "             ('LF_storage', ['34.51%'])])"
      ]
     },
     "execution_count": 60,
     "metadata": {},
     "output_type": "execute_result"
    }
   ],
   "source": [
    "DDL.lowest_coverage_lfs(n=3)"
   ]
  },
  {
   "cell_type": "code",
   "execution_count": 62,
   "metadata": {
    "collapsed": false
   },
   "outputs": [
    {
     "name": "stdout",
     "output_type": "stream",
     "text": [
      "Begin training for rate=0.01, mu=1e-07\n",
      "\tLearning epoch = 0\tGradient mag. = 0.740326\n",
      "\tLearning epoch = 250\tGradient mag. = 1.298773\n",
      "Final gradient magnitude for rate=0.01, mu=1e-07: 1.529\n",
      "Running in False mode...\n",
      "Begin training for rate=0.01, mu=1e-09\n",
      "\tLearning epoch = 0\tGradient mag. = 0.473189\n",
      "\tLearning epoch = 250\tGradient mag. = 0.484603\n",
      "\tLearning epoch = 500\tGradient mag. = 0.471709\n",
      "\tLearning epoch = 750\tGradient mag. = 0.459387\n",
      "\tLearning epoch = 1000\tGradient mag. = 0.447609\n",
      "\tLearning epoch = 1250\tGradient mag. = 0.436347\n",
      "\tLearning epoch = 1500\tGradient mag. = 0.425575\n",
      "\tLearning epoch = 1750\tGradient mag. = 0.415270\n",
      "\tLearning epoch = 2000\tGradient mag. = 0.405407\n",
      "\tLearning epoch = 2250\tGradient mag. = 0.395965\n",
      "\tLearning epoch = 2500\tGradient mag. = 0.386922\n",
      "\tLearning epoch = 2750\tGradient mag. = 0.378260\n",
      "Final gradient magnitude for rate=0.01, mu=1e-09: 0.370\n",
      "Begin training for rate=0.01, mu=1e-05\n",
      "\tLearning epoch = 0\tGradient mag. = 0.473189\n",
      "\tLearning epoch = 250\tGradient mag. = 0.484604\n",
      "\tLearning epoch = 500\tGradient mag. = 0.471711\n",
      "\tLearning epoch = 750\tGradient mag. = 0.459391\n",
      "\tLearning epoch = 1000\tGradient mag. = 0.447614\n",
      "\tLearning epoch = 1250\tGradient mag. = 0.436353\n",
      "\tLearning epoch = 1500\tGradient mag. = 0.425583\n",
      "\tLearning epoch = 1750\tGradient mag. = 0.415279\n",
      "\tLearning epoch = 2000\tGradient mag. = 0.405418\n",
      "\tLearning epoch = 2250\tGradient mag. = 0.395977\n",
      "\tLearning epoch = 2500\tGradient mag. = 0.386937\n",
      "\tLearning epoch = 2750\tGradient mag. = 0.378276\n",
      "Final gradient magnitude for rate=0.01, mu=1e-05: 0.370\n",
      "Begin training for rate=0.01, mu=0.001\n",
      "\tLearning epoch = 0\tGradient mag. = 0.473189\n",
      "\tLearning epoch = 250\tGradient mag. = 0.484704\n",
      "\tLearning epoch = 500\tGradient mag. = 0.471924\n",
      "\tLearning epoch = 750\tGradient mag. = 0.459726\n",
      "\tLearning epoch = 1000\tGradient mag. = 0.448082\n",
      "\tLearning epoch = 1250\tGradient mag. = 0.436962\n",
      "\tLearning epoch = 1500\tGradient mag. = 0.426339\n",
      "\tLearning epoch = 1750\tGradient mag. = 0.416189\n",
      "\tLearning epoch = 2000\tGradient mag. = 0.406486\n",
      "\tLearning epoch = 2250\tGradient mag. = 0.397209\n",
      "\tLearning epoch = 2500\tGradient mag. = 0.388334\n",
      "\tLearning epoch = 2750\tGradient mag. = 0.379842\n",
      "Final gradient magnitude for rate=0.01, mu=0.001: 0.372\n",
      "Begin training for rate=0.01, mu=0.1\n",
      "\tLearning epoch = 0\tGradient mag. = 0.473189\n",
      "\tLearning epoch = 250\tGradient mag. = 0.493123\n",
      "\tLearning epoch = 500\tGradient mag. = 0.488947\n",
      "\tLearning epoch = 750\tGradient mag. = 0.485436\n",
      "\tLearning epoch = 1000\tGradient mag. = 0.482480\n",
      "\tLearning epoch = 1250\tGradient mag. = 0.479989\n",
      "\tLearning epoch = 1500\tGradient mag. = 0.477889\n",
      "\tLearning epoch = 1750\tGradient mag. = 0.476115\n",
      "\tLearning epoch = 2000\tGradient mag. = 0.474618\n",
      "\tLearning epoch = 2250\tGradient mag. = 0.473352\n",
      "\tLearning epoch = 2500\tGradient mag. = 0.472281\n",
      "\tLearning epoch = 2750\tGradient mag. = 0.471375\n",
      "Final gradient magnitude for rate=0.01, mu=0.1: 0.471\n"
     ]
    },
    {
     "data": {
      "image/png": "[encoded data removed]",
      "text/plain": [
       "<matplotlib.figure.Figure at 0x119f1ac10>"
      ]
     },
     "metadata": {},
     "output_type": "display_data"
    },
    {
     "name": "stdout",
     "output_type": "stream",
     "text": [
      "CPU times: user 4.21 s, sys: 60.4 ms, total: 4.27 s\n",
      "Wall time: 4.3 s\n"
     ]
    },
    {
     "data": {
      "text/html": [
       "<table><tr><td><b>ID</b></td><td><b># LFs</b></td><td><b>Test set size</b></td><td><b>Model</b></td><td><b>Precision</b></td><td><b>Recall</b></td><td><b>F1</b></td></tr><tr><td>0</td><td>5</td><td>25</td><td>Logistic regression</td><td>0.360</td><td>1.000</td><td>0.529</td></tr></table><table><tr><td><b>LF</b></td></tr><tr><td>LF_to</td></tr><tr><td>LF_storage</td></tr><tr><td>LF_tstg</td></tr><tr><td>LF_temperature</td></tr><tr><td>LF_n</td></tr></table>"
      ],
      "text/plain": [
       "<snorkel.snorkel.ModelLog instance at 0x11b0220e0>"
      ]
     },
     "execution_count": 62,
     "metadata": {},
     "output_type": "execute_result"
    }
   ],
   "source": [
    "import matplotlib\n",
    "import numpy as np\n",
    "%matplotlib inline\n",
    "matplotlib.rcParams['figure.figsize'] = (12,4)\n",
    "mu_seq = np.ravel([1e-9, 1e-5, 1e-3, 1e-1])\n",
    "lf_opts = {'sample': False, 'verbose': True}\n",
    "model_opts = {'sample': False, 'n_iter': 3000, 'alpha': 0.5, 'mu': mu_seq, 'bias': False, 'verbose': True}\n",
    "%time DDL.train_model(method='lr', lf_opts=lf_opts, model_opts=model_opts)"
   ]
  },
  {
   "cell_type": "code",
   "execution_count": null,
   "metadata": {
    "collapsed": true
   },
   "outputs": [],
   "source": []
  }
 ],
 "metadata": {
  "kernelspec": {
   "display_name": "Python 2",
   "language": "python",
   "name": "python2"
  },
  "language_info": {
   "codemirror_mode": {
    "name": "ipython",
    "version": 2
   },
   "file_extension": ".py",
   "mimetype": "text/x-python",
   "name": "python",
   "nbconvert_exporter": "python",
   "pygments_lexer": "ipython2",
   "version": "2.7.12"
  }
 },
 "nbformat": 4,
 "nbformat_minor": 0
}
