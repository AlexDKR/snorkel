{
 "cells": [
  {
   "cell_type": "markdown",
   "metadata": {},
   "source": [
    "# Episode 2: The [Table] Clone Wars\n",
    "\n",
    "This notebook demonstrates the full entity extraction process on transistor data sheets, extracting min/max storage temperatures."
   ]
  },
  {
   "cell_type": "code",
   "execution_count": 1,
   "metadata": {
    "collapsed": false
   },
   "outputs": [
    {
     "name": "stdout",
     "output_type": "stream",
     "text": [
      "The autoreload extension is already loaded. To reload it, use:\n",
      "  %reload_ext autoreload\n"
     ]
    }
   ],
   "source": [
    "%load_ext autoreload\n",
    "%autoreload 2"
   ]
  },
  {
   "cell_type": "code",
   "execution_count": 86,
   "metadata": {
    "collapsed": false
   },
   "outputs": [],
   "source": [
    "from snorkel.parser import HTMLParser\n",
    "html_parser = HTMLParser(path='data/hardware_large/')"
   ]
  },
  {
   "cell_type": "code",
   "execution_count": 87,
   "metadata": {
    "collapsed": true
   },
   "outputs": [],
   "source": [
    "from snorkel.parser import TableParser\n",
    "table_parser = TableParser()"
   ]
  },
  {
   "cell_type": "code",
   "execution_count": 88,
   "metadata": {
    "collapsed": false
   },
   "outputs": [
    {
     "name": "stdout",
     "output_type": "stream",
     "text": [
      "Parsing documents...\n",
      "Parsing contexts...\n",
      "Parsed 98 documents and 630 contexts\n",
      "CPU times: user 1min 10s, sys: 3.21 s, total: 1min 13s\n",
      "Wall time: 1min 50s\n"
     ]
    }
   ],
   "source": [
    "from snorkel.parser import Corpus\n",
    "%time corpus = Corpus(html_parser, table_parser)"
   ]
  },
  {
   "cell_type": "code",
   "execution_count": 89,
   "metadata": {
    "collapsed": false
   },
   "outputs": [],
   "source": [
    "from snorkel.candidates import TableNgrams\n",
    "from snorkel.matchers import NumberMatcher, RangeMatcher\n",
    "\n",
    "# Define a candidate space\n",
    "table_ngrams = TableNgrams(n_max=3)\n",
    "\n",
    "# Define a matcher\n",
    "number_matcher = RangeMatcher(low=-80,high=0)\n",
    "# number_matcher = NumberMatcher()"
   ]
  },
  {
   "cell_type": "code",
   "execution_count": 90,
   "metadata": {
    "collapsed": false
   },
   "outputs": [
    {
     "name": "stdout",
     "output_type": "stream",
     "text": [
      "Extracting candidates...\n",
      "CPU times: user 5.59 s, sys: 72.9 ms, total: 5.66 s\n",
      "Wall time: 5.63 s\n",
      "<TableNgram(\"0\", id=55-4-245-0:12-12, chars=[12,12], (row,col)=(14,17), tag=td)\n",
      "<TableNgram(\"-10\", id=79-0-11-0:41-43, chars=[41,43], (row,col)=(3,0), tag=td)\n",
      "<TableNgram(\"-1.0\", id=2-3-44-0:4-7, chars=[4,7], (row,col)=(9,0), tag=td)\n",
      "<TableNgram(\"-5\", id=51-2-43-0:4-5, chars=[4,5], (row,col)=(6,1), tag=td)\n",
      "<TableNgram(\"0\", id=84-3-82-0:4-4, chars=[4,4], (row,col)=(14,2), tag=td)\n",
      "<TableNgram(\"0\", id=91-2-22-0:14-14, chars=[14,14], (row,col)=(3,2), tag=td)\n",
      "<TableNgram(\"-0.01\", id=97-4-27-0:3-7, chars=[3,7], (row,col)=(2,8), tag=td)\n",
      "<TableNgram(\"0\", id=61-3-37-0:16-16, chars=[16,16], (row,col)=(8,0), tag=td)\n",
      "<TableNgram(\"-10\", id=43-3-70-0:13-15, chars=[13,15], (row,col)=(11,2), tag=td)\n",
      "<TableNgram(\"0\", id=9-2-23-0:15-15, chars=[15,15], (row,col)=(3,2), tag=td)\n"
     ]
    }
   ],
   "source": [
    "from snorkel.candidates import Candidates\n",
    "%time candidates = Candidates(table_ngrams, number_matcher, corpus.get_contexts())\n",
    "for c in candidates.get_candidates()[:10]: print c"
   ]
  },
  {
   "cell_type": "code",
   "execution_count": 91,
   "metadata": {
    "collapsed": false,
    "scrolled": true
   },
   "outputs": [
    {
     "name": "stdout",
     "output_type": "stream",
     "text": [
      "Extracting features...\n",
      "Extracted 8669 features for each of 1074 mentions\n"
     ]
    }
   ],
   "source": [
    "from snorkel.features import TableNgramFeaturizer\n",
    "featurizer = TableNgramFeaturizer(candidates, corpus)"
   ]
  },
  {
   "cell_type": "code",
   "execution_count": 92,
   "metadata": {
    "collapsed": false
   },
   "outputs": [
    {
     "data": {
      "text/plain": [
       "['Ngram_features_to_come',\n",
       " 'TABLE_ROW_NUM_14',\n",
       " 'TABLE_COL_NUM_17',\n",
       " 'TABLE_HTML_TAG_td',\n",
       " 'TABLE_HTML_ATTR_style=border-right: #000000 1px solid;border-bottom: #000000 1px solid;padding: 0px;margin: 0px;width: 180px;vertical-align: bottom;height: 15px;',\n",
       " 'TABLE_HTML_ATTR_class=tr10',\n",
       " 'TABLE_HTML_ATTR_class=td65',\n",
       " 'TABLE_HTML_ANC_TAG_tr',\n",
       " 'TABLE_HTML_ANC_TAG_table',\n",
       " 'TABLE_HTML_ANC_TAG_div',\n",
       " 'TABLE_HTML_ANC_TAG_div',\n",
       " 'TABLE_HTML_ANC_TAG_div',\n",
       " 'TABLE_HTML_ANC_TAG_body',\n",
       " 'TABLE_HTML_ANC_ATTR_cellpadding=0',\n",
       " \"TABLE_HTML_ANC_ATTR_style=width: 661px;margin-left: 37px;margin-top: 1px;font: 12px 'Helvetica';\",\n",
       " 'TABLE_HTML_ANC_ATTR_cellspacing=0',\n",
       " 'TABLE_HTML_ANC_ATTR_class=t4',\n",
       " 'TABLE_HTML_ANC_ATTR_style=position: absolute;top: 0px;left: 0px;z-index: -1;width: 734px;height: 1046px;',\n",
       " 'TABLE_HTML_ANC_ATTR_id=dimg1',\n",
       " 'TABLE_HTML_ANC_ATTR_style=position: relative;overflow: hidden;margin: 35px 0px 27px 29px;padding: 0px;border: none;width: 764px;',\n",
       " 'TABLE_HTML_ANC_ATTR_id=page_2',\n",
       " 'TABLE_HTML_ANC_ATTR_style=position: relative;overflow: hidden;margin: 35px 0px 27px 0px;padding: 0px;border: none;width: 793px;',\n",
       " 'TABLE_HTML_ANC_ATTR_id=page_1',\n",
       " u'TABLE_ROW_NGRAM_-',\n",
       " u'TABLE_ROW_NGRAM_-',\n",
       " u'TABLE_ROW_NGRAM_0.1',\n",
       " u'TABLE_ROW_NGRAM_VCB',\n",
       " u'TABLE_ROW_NGRAM_VCB_=',\n",
       " u'TABLE_ROW_NGRAM_VCB_=_30V',\n",
       " u'TABLE_ROW_NGRAM_=',\n",
       " u'TABLE_ROW_NGRAM_=_30V',\n",
       " u'TABLE_ROW_NGRAM_=_30V_,',\n",
       " u'TABLE_ROW_NGRAM_30V',\n",
       " u'TABLE_ROW_NGRAM_30V_,',\n",
       " u'TABLE_ROW_NGRAM_30V_,_IE',\n",
       " u'TABLE_ROW_NGRAM_,',\n",
       " u'TABLE_ROW_NGRAM_,_IE',\n",
       " u'TABLE_ROW_NGRAM_,_IE_=',\n",
       " u'TABLE_ROW_NGRAM_IE',\n",
       " u'TABLE_ROW_NGRAM_IE_=',\n",
       " u'TABLE_ROW_NGRAM_IE_=_0',\n",
       " u'TABLE_ROW_NGRAM_=',\n",
       " u'TABLE_ROW_NGRAM_=_0',\n",
       " u'TABLE_ROW_NGRAM_0',\n",
       " u'TABLE_ROW_NGRAM_BC548',\n",
       " u'TABLE_COL_NGRAM_VEB',\n",
       " u'TABLE_COL_NGRAM_VEB_=',\n",
       " u'TABLE_COL_NGRAM_VEB_=_5V',\n",
       " u'TABLE_COL_NGRAM_=',\n",
       " u'TABLE_COL_NGRAM_=_5V',\n",
       " u'TABLE_COL_NGRAM_=_5V_,',\n",
       " u'TABLE_COL_NGRAM_5V',\n",
       " u'TABLE_COL_NGRAM_5V_,',\n",
       " u'TABLE_COL_NGRAM_5V_,_IC',\n",
       " u'TABLE_COL_NGRAM_,',\n",
       " u'TABLE_COL_NGRAM_,_IC',\n",
       " u'TABLE_COL_NGRAM_,_IC_=',\n",
       " u'TABLE_COL_NGRAM_IC',\n",
       " u'TABLE_COL_NGRAM_IC_=',\n",
       " u'TABLE_COL_NGRAM_IC_=_0',\n",
       " u'TABLE_COL_NGRAM_=',\n",
       " u'TABLE_COL_NGRAM_=_0',\n",
       " u'TABLE_COL_NGRAM_0',\n",
       " u'TABLE_COL_NGRAM_Test',\n",
       " u'TABLE_COL_NGRAM_Test_Conditions',\n",
       " u'TABLE_COL_NGRAM_Conditions',\n",
       " u'TABLE_COL_NGRAM_VCE',\n",
       " u'TABLE_COL_NGRAM_VCE_=',\n",
       " u'TABLE_COL_NGRAM_VCE_=_5V',\n",
       " u'TABLE_COL_NGRAM_=',\n",
       " u'TABLE_COL_NGRAM_=_5V',\n",
       " u'TABLE_COL_NGRAM_=_5V_,',\n",
       " u'TABLE_COL_NGRAM_5V',\n",
       " u'TABLE_COL_NGRAM_5V_,',\n",
       " u'TABLE_COL_NGRAM_5V_,_IC',\n",
       " u'TABLE_COL_NGRAM_,',\n",
       " u'TABLE_COL_NGRAM_,_IC',\n",
       " u'TABLE_COL_NGRAM_,_IC_=',\n",
       " u'TABLE_COL_NGRAM_IC',\n",
       " u'TABLE_COL_NGRAM_IC_=',\n",
       " u'TABLE_COL_NGRAM_IC_=_10mA',\n",
       " u'TABLE_COL_NGRAM_=',\n",
       " u'TABLE_COL_NGRAM_=_10mA',\n",
       " u'TABLE_COL_NGRAM_=_10mA_,',\n",
       " u'TABLE_COL_NGRAM_10mA',\n",
       " u'TABLE_COL_NGRAM_10mA_,',\n",
       " u'TABLE_COL_NGRAM_10mA_,_f',\n",
       " u'TABLE_COL_NGRAM_,',\n",
       " u'TABLE_COL_NGRAM_,_f',\n",
       " u'TABLE_COL_NGRAM_,_f_=',\n",
       " u'TABLE_COL_NGRAM_f',\n",
       " u'TABLE_COL_NGRAM_f_=',\n",
       " u'TABLE_COL_NGRAM_f_=_100MHz',\n",
       " u'TABLE_COL_NGRAM_=',\n",
       " u'TABLE_COL_NGRAM_=_100MHz',\n",
       " u'TABLE_COL_NGRAM_100MHz',\n",
       " u'TABLE_COL_NGRAM_VCE',\n",
       " u'TABLE_COL_NGRAM_VCE_=',\n",
       " u'TABLE_COL_NGRAM_VCE_=_60V',\n",
       " u'TABLE_COL_NGRAM_=',\n",
       " u'TABLE_COL_NGRAM_=_60V',\n",
       " u'TABLE_COL_NGRAM_=_60V_,',\n",
       " u'TABLE_COL_NGRAM_60V',\n",
       " u'TABLE_COL_NGRAM_60V_,',\n",
       " u'TABLE_COL_NGRAM_60V_,_IB',\n",
       " u'TABLE_COL_NGRAM_,',\n",
       " u'TABLE_COL_NGRAM_,_IB',\n",
       " u'TABLE_COL_NGRAM_,_IB_=',\n",
       " u'TABLE_COL_NGRAM_IB',\n",
       " u'TABLE_COL_NGRAM_IB_=',\n",
       " u'TABLE_COL_NGRAM_IB_=_0',\n",
       " u'TABLE_COL_NGRAM_=',\n",
       " u'TABLE_COL_NGRAM_=_0',\n",
       " u'TABLE_COL_NGRAM_0',\n",
       " u'TABLE_COL_NGRAM_IC',\n",
       " u'TABLE_COL_NGRAM_IC_=',\n",
       " u'TABLE_COL_NGRAM_IC_=_100mA',\n",
       " u'TABLE_COL_NGRAM_=',\n",
       " u'TABLE_COL_NGRAM_=_100mA',\n",
       " u'TABLE_COL_NGRAM_=_100mA_,',\n",
       " u'TABLE_COL_NGRAM_100mA',\n",
       " u'TABLE_COL_NGRAM_100mA_,',\n",
       " u'TABLE_COL_NGRAM_100mA_,_IB',\n",
       " u'TABLE_COL_NGRAM_,',\n",
       " u'TABLE_COL_NGRAM_,_IB',\n",
       " u'TABLE_COL_NGRAM_,_IB_=',\n",
       " u'TABLE_COL_NGRAM_IB',\n",
       " u'TABLE_COL_NGRAM_IB_=',\n",
       " u'TABLE_COL_NGRAM_IB_=_5mA',\n",
       " u'TABLE_COL_NGRAM_=',\n",
       " u'TABLE_COL_NGRAM_=_5mA',\n",
       " u'TABLE_COL_NGRAM_5mA',\n",
       " u'TABLE_COL_NGRAM_VCB',\n",
       " u'TABLE_COL_NGRAM_VCB_=',\n",
       " u'TABLE_COL_NGRAM_VCB_=_70V',\n",
       " u'TABLE_COL_NGRAM_=',\n",
       " u'TABLE_COL_NGRAM_=_70V',\n",
       " u'TABLE_COL_NGRAM_=_70V_,',\n",
       " u'TABLE_COL_NGRAM_70V',\n",
       " u'TABLE_COL_NGRAM_70V_,',\n",
       " u'TABLE_COL_NGRAM_70V_,_IE',\n",
       " u'TABLE_COL_NGRAM_,',\n",
       " u'TABLE_COL_NGRAM_,_IE',\n",
       " u'TABLE_COL_NGRAM_,_IE_=',\n",
       " u'TABLE_COL_NGRAM_IE',\n",
       " u'TABLE_COL_NGRAM_IE_=',\n",
       " u'TABLE_COL_NGRAM_IE_=_0',\n",
       " u'TABLE_COL_NGRAM_=',\n",
       " u'TABLE_COL_NGRAM_=_0',\n",
       " u'TABLE_COL_NGRAM_0',\n",
       " u'TABLE_COL_NGRAM_VCE',\n",
       " u'TABLE_COL_NGRAM_VCE_=',\n",
       " u'TABLE_COL_NGRAM_VCE_=_30V',\n",
       " u'TABLE_COL_NGRAM_=',\n",
       " u'TABLE_COL_NGRAM_=_30V',\n",
       " u'TABLE_COL_NGRAM_=_30V_,',\n",
       " u'TABLE_COL_NGRAM_30V',\n",
       " u'TABLE_COL_NGRAM_30V_,',\n",
       " u'TABLE_COL_NGRAM_30V_,_IB',\n",
       " u'TABLE_COL_NGRAM_,',\n",
       " u'TABLE_COL_NGRAM_,_IB',\n",
       " u'TABLE_COL_NGRAM_,_IB_=',\n",
       " u'TABLE_COL_NGRAM_IB',\n",
       " u'TABLE_COL_NGRAM_IB_=',\n",
       " u'TABLE_COL_NGRAM_IB_=_0',\n",
       " u'TABLE_COL_NGRAM_=',\n",
       " u'TABLE_COL_NGRAM_=_0',\n",
       " u'TABLE_COL_NGRAM_0',\n",
       " u'TABLE_COL_NGRAM_VCB',\n",
       " u'TABLE_COL_NGRAM_VCB_=',\n",
       " u'TABLE_COL_NGRAM_VCB_=_50V',\n",
       " u'TABLE_COL_NGRAM_=',\n",
       " u'TABLE_COL_NGRAM_=_50V',\n",
       " u'TABLE_COL_NGRAM_=_50V_,',\n",
       " u'TABLE_COL_NGRAM_50V',\n",
       " u'TABLE_COL_NGRAM_50V_,',\n",
       " u'TABLE_COL_NGRAM_50V_,_IE',\n",
       " u'TABLE_COL_NGRAM_,',\n",
       " u'TABLE_COL_NGRAM_,_IE',\n",
       " u'TABLE_COL_NGRAM_,_IE_=',\n",
       " u'TABLE_COL_NGRAM_IE',\n",
       " u'TABLE_COL_NGRAM_IE_=',\n",
       " u'TABLE_COL_NGRAM_IE_=_0',\n",
       " u'TABLE_COL_NGRAM_=',\n",
       " u'TABLE_COL_NGRAM_=_0',\n",
       " u'TABLE_COL_NGRAM_0',\n",
       " u'TABLE_COL_NGRAM_VCE',\n",
       " u'TABLE_COL_NGRAM_VCE_=',\n",
       " u'TABLE_COL_NGRAM_VCE_=_45V',\n",
       " u'TABLE_COL_NGRAM_=',\n",
       " u'TABLE_COL_NGRAM_=_45V',\n",
       " u'TABLE_COL_NGRAM_=_45V_,',\n",
       " u'TABLE_COL_NGRAM_45V',\n",
       " u'TABLE_COL_NGRAM_45V_,',\n",
       " u'TABLE_COL_NGRAM_45V_,_IB',\n",
       " u'TABLE_COL_NGRAM_,',\n",
       " u'TABLE_COL_NGRAM_,_IB',\n",
       " u'TABLE_COL_NGRAM_,_IB_=',\n",
       " u'TABLE_COL_NGRAM_IB',\n",
       " u'TABLE_COL_NGRAM_IB_=',\n",
       " u'TABLE_COL_NGRAM_IB_=_0',\n",
       " u'TABLE_COL_NGRAM_=',\n",
       " u'TABLE_COL_NGRAM_=_0',\n",
       " u'TABLE_COL_NGRAM_0',\n",
       " u'TABLE_COL_NGRAM_VCE',\n",
       " u'TABLE_COL_NGRAM_VCE_=',\n",
       " u'TABLE_COL_NGRAM_VCE_=_5V',\n",
       " u'TABLE_COL_NGRAM_=',\n",
       " u'TABLE_COL_NGRAM_=_5V',\n",
       " u'TABLE_COL_NGRAM_=_5V_,',\n",
       " u'TABLE_COL_NGRAM_5V',\n",
       " u'TABLE_COL_NGRAM_5V_,',\n",
       " u'TABLE_COL_NGRAM_5V_,_IC',\n",
       " u'TABLE_COL_NGRAM_,',\n",
       " u'TABLE_COL_NGRAM_,_IC',\n",
       " u'TABLE_COL_NGRAM_,_IC_=',\n",
       " u'TABLE_COL_NGRAM_IC',\n",
       " u'TABLE_COL_NGRAM_IC_=',\n",
       " u'TABLE_COL_NGRAM_IC_=_2mA',\n",
       " u'TABLE_COL_NGRAM_=',\n",
       " u'TABLE_COL_NGRAM_=_2mA',\n",
       " u'TABLE_COL_NGRAM_2mA',\n",
       " u'TABLE_COL_NGRAM_VCB',\n",
       " u'TABLE_COL_NGRAM_VCB_=',\n",
       " u'TABLE_COL_NGRAM_VCB_=_30V',\n",
       " u'TABLE_COL_NGRAM_=',\n",
       " u'TABLE_COL_NGRAM_=_30V',\n",
       " u'TABLE_COL_NGRAM_=_30V_,',\n",
       " u'TABLE_COL_NGRAM_30V',\n",
       " u'TABLE_COL_NGRAM_30V_,',\n",
       " u'TABLE_COL_NGRAM_30V_,_IE',\n",
       " u'TABLE_COL_NGRAM_,',\n",
       " u'TABLE_COL_NGRAM_,_IE',\n",
       " u'TABLE_COL_NGRAM_,_IE_=',\n",
       " u'TABLE_COL_NGRAM_IE',\n",
       " u'TABLE_COL_NGRAM_IE_=',\n",
       " u'TABLE_COL_NGRAM_IE_=_0',\n",
       " u'TABLE_COL_NGRAM_=',\n",
       " u'TABLE_COL_NGRAM_=_0',\n",
       " u'TABLE_COL_NGRAM_0']"
      ]
     },
     "execution_count": 92,
     "metadata": {},
     "output_type": "execute_result"
    }
   ],
   "source": [
    "featurizer.get_features_by_id(candidates.get_candidates()[0].id)"
   ]
  },
  {
   "cell_type": "code",
   "execution_count": null,
   "metadata": {
    "collapsed": true
   },
   "outputs": [],
   "source": []
  }
 ],
 "metadata": {
  "kernelspec": {
   "display_name": "Python 2",
   "language": "python",
   "name": "python2"
  },
  "language_info": {
   "codemirror_mode": {
    "name": "ipython",
    "version": 2
   },
   "file_extension": ".py",
   "mimetype": "text/x-python",
   "name": "python",
   "nbconvert_exporter": "python",
   "pygments_lexer": "ipython2",
   "version": "2.7.12"
  }
 },
 "nbformat": 4,
 "nbformat_minor": 0
}
