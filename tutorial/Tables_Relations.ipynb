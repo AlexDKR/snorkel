{
 "cells": [
  {
   "cell_type": "markdown",
   "metadata": {},
   "source": [
    "# Relation Extraction from Tables\n",
    "\n",
    "This notebook demonstrates the full extraction and learning process for _relations_ in tables with a data set of transistor spec sheets, extracting (temperature label, min storage temperature) pairs. (Eventually, this tutorial will be updated to extract (part number, min storage temperature) pairs."
   ]
  },
  {
   "cell_type": "code",
   "execution_count": 1,
   "metadata": {
    "collapsed": false
   },
   "outputs": [
    {
     "name": "stdout",
     "output_type": "stream",
     "text": [
      "The autoreload extension is already loaded. To reload it, use:\n",
      "  %reload_ext autoreload\n"
     ]
    }
   ],
   "source": [
    "%load_ext autoreload\n",
    "%autoreload 2\n",
    "\n",
    "import numpy as np\n",
    "import cPickle, os, sys\n",
    "np.random.seed(seed=1701)\n",
    "import matplotlib\n",
    "%matplotlib inline\n",
    "matplotlib.rcParams['figure.figsize'] = (18,6)"
   ]
  },
  {
   "cell_type": "markdown",
   "metadata": {},
   "source": [
    "### Extraction"
   ]
  },
  {
   "cell_type": "markdown",
   "metadata": {},
   "source": [
    "Use this option if you would like to unpickle a previously parsed corpus, (i.e., the corpus from the Entity Extraction notebook)."
   ]
  },
  {
   "cell_type": "code",
   "execution_count": 2,
   "metadata": {
    "collapsed": false
   },
   "outputs": [
    {
     "name": "stdout",
     "output_type": "stream",
     "text": [
      "CPU times: user 12.6 s, sys: 571 ms, total: 13.2 s\n",
      "Wall time: 13.5 s\n",
      "Corpus has been loaded.\n"
     ]
    }
   ],
   "source": [
    "load_pickle = True\n",
    "\n",
    "corpus_loaded = False\n",
    "if load_pickle:\n",
    "    try:\n",
    "        import cPickle\n",
    "        with open(\"data/hardware/hardware_corpus.pkl\",\"r\") as pkl:\n",
    "            %time corpus = cPickle.load(pkl)\n",
    "        corpus_loaded = True\n",
    "        print \"Corpus has been loaded.\"\n",
    "    except:\n",
    "        print \"Corpus could not be loaded.\"\n",
    "        print \"Corpus will be parsed instead...\"\n",
    "if not corpus_loaded:\n",
    "    from snorkel.parser import CorpusParser\n",
    "    from snorkel.parser import HTMLParser\n",
    "    from snorkel.parser import TableParser\n",
    "\n",
    "    html_parser = HTMLParser(path='data/hardware/hardware_html/')\n",
    "    table_parser = TableParser()\n",
    "\n",
    "    cp = CorpusParser(html_parser, table_parser, max_docs=30)\n",
    "    %time corpus = cp.parse_corpus(name='Hardware Corpus')\n",
    "    print \"Corpus has been parsed.\""
   ]
  },
  {
   "cell_type": "markdown",
   "metadata": {},
   "source": [
    "We now create two EntityExtractor objects, one for each component in the relation."
   ]
  },
  {
   "cell_type": "code",
   "execution_count": 3,
   "metadata": {
    "collapsed": false,
    "scrolled": true
   },
   "outputs": [
    {
     "name": "stdout",
     "output_type": "stream",
     "text": [
      "Loaded 179 part numbers.\n"
     ]
    }
   ],
   "source": [
    "from snorkel.candidates import TableNgrams, EntityExtractor, RelationExtractor\n",
    "from snorkel.matchers import RegexMatchEach, DictionaryMatch, RangeMatcher\n",
    "from load_dictionaries import load_hardware_dictionary\n",
    "\n",
    "# Select a CandidateSpace\n",
    "table_ngrams = TableNgrams(n_max=2)\n",
    "\n",
    "# Entity Extractor 1: Part numbers\n",
    "parts = load_hardware_dictionary()\n",
    "print \"Loaded %s part numbers.\" % len(parts)\n",
    "\n",
    "# NOTE: this will not catch items in ranges (e.g., BC546-BC548) or lists (e.g., BC546/547/548)\n",
    "part_matcher = DictionaryMatch(d=parts, longest_match_only=False)\n",
    "part_extractor = EntityExtractor(table_ngrams, part_matcher)\n",
    "\n",
    "# Entity Extractor 2: Temperatures (min storage temperature)\n",
    "# temp_matcher = RangeMatcher(low=140,high=160)\n",
    "temp_matcher = RegexMatchEach(rgx=r'1[3-7][05]', attrib='words')\n",
    "temp_extractor = EntityExtractor(table_ngrams, temp_matcher)\n",
    "\n",
    "# Relation Extractor:\n",
    "relation_extractor = RelationExtractor(part_extractor, temp_extractor)"
   ]
  },
  {
   "cell_type": "code",
   "execution_count": 4,
   "metadata": {
    "collapsed": false
   },
   "outputs": [
    {
     "name": "stdout",
     "output_type": "stream",
     "text": [
      "CPU times: user 3.61 s, sys: 49.5 ms, total: 3.66 s\n",
      "Wall time: 3.88 s\n",
      "Span(\"150\", context=None, chars=[0,2], words=[0,0])\n",
      "Span(\"150\", context=None, chars=[0,2], words=[0,0])\n",
      "Span(\"150\", context=None, chars=[0,2], words=[0,0])\n",
      "Span(\"150\", context=None, chars=[0,2], words=[0,0])\n",
      "Span(\"150\", context=None, chars=[0,2], words=[0,0])\n",
      "Span(\"150\", context=None, chars=[4,6], words=[2,2])\n",
      "Span(\"150\", context=None, chars=[0,2], words=[0,0])\n",
      "Span(\"150\", context=None, chars=[7,9], words=[3,3])\n",
      "Span(\"150\", context=None, chars=[0,2], words=[0,0])\n",
      "Span(\"150\", context=None, chars=[0,2], words=[0,0])\n",
      "295 candidates extracted\n"
     ]
    }
   ],
   "source": [
    "from snorkel.candidates import TableNgrams\n",
    "from snorkel.matchers import NumberMatcher, RangeMatcher\n",
    "\n",
    "# Define a candidate space\n",
    "ngrams = TableNgrams(n_max=2)\n",
    "\n",
    "# Define a matcher\n",
    "# number_matcher = RangeMatcher(low=-70,high=-50)\n",
    "temp_matcher = RegexMatchEach(rgx=r'1[3-7][05]', attrib='words')\n",
    "from snorkel.candidates import EntityExtractor\n",
    "ce = EntityExtractor(ngrams, temp_matcher)\n",
    "%time candidates = ce.extract(corpus.get_tables(), name='all')\n",
    "for cand in candidates[:10]: \n",
    "    print cand\n",
    "print \"%s candidates extracted\" % len(candidates)"
   ]
  },
  {
   "cell_type": "code",
   "execution_count": 5,
   "metadata": {
    "collapsed": false,
    "scrolled": true
   },
   "outputs": [
    {
     "name": "stdout",
     "output_type": "stream",
     "text": [
      "CPU times: user 11.8 s, sys: 239 ms, total: 12 s\n",
      "Wall time: 13.5 s\n",
      "SpanPair(Span(\"BC546\", context=None, chars=[112,116], words=[22,22]), Span(\"150\", context=None, chars=[0,2], words=[0,0]))\n",
      "SpanPair(Span(\"BC546\", context=None, chars=[112,116], words=[22,22]), Span(\"150\", context=None, chars=[0,2], words=[0,0]))\n",
      "SpanPair(Span(\"BC546\", context=None, chars=[112,116], words=[22,22]), Span(\"150\", context=None, chars=[0,2], words=[0,0]))\n",
      "SpanPair(Span(\"BC547\", context=None, chars=[0,4], words=[0,0]), Span(\"150\", context=None, chars=[0,2], words=[0,0]))\n",
      "SpanPair(Span(\"BC547\", context=None, chars=[0,4], words=[0,0]), Span(\"150\", context=None, chars=[0,2], words=[0,0]))\n",
      "SpanPair(Span(\"BC547\", context=None, chars=[0,4], words=[0,0]), Span(\"150\", context=None, chars=[0,2], words=[0,0]))\n",
      "SpanPair(Span(\"BC548\", context=None, chars=[0,4], words=[0,0]), Span(\"150\", context=None, chars=[0,2], words=[0,0]))\n",
      "SpanPair(Span(\"BC548\", context=None, chars=[0,4], words=[0,0]), Span(\"150\", context=None, chars=[0,2], words=[0,0]))\n",
      "SpanPair(Span(\"BC548\", context=None, chars=[0,4], words=[0,0]), Span(\"150\", context=None, chars=[0,2], words=[0,0]))\n",
      "SpanPair(Span(\"BC546\", context=None, chars=[107,111], words=[21,21]), Span(\"150\", context=None, chars=[0,2], words=[0,0]))\n",
      "764 part numbers extracted\n"
     ]
    }
   ],
   "source": [
    "# %time candidates = temp_extractor.extract(corpus.get_tables(), name='all')\n",
    "%time candidates = relation_extractor.extract(corpus.get_tables(), name='all')\n",
    "\n",
    "for cand in candidates[:10]: \n",
    "    print cand\n",
    "print \"%s part numbers extracted\" % len(candidates)"
   ]
  },
  {
   "cell_type": "code",
   "execution_count": 27,
   "metadata": {
    "collapsed": false
   },
   "outputs": [
    {
     "name": "stdout",
     "output_type": "stream",
     "text": [
      "179 gold annotations available\n",
      "764 out of 764 candidates have gold labels\n",
      "591 out of 764 labeled candidates have positive label\n",
      "Training set size: 382\n",
      "Gold set size: 1146\n",
      "Positive labels in gold set: 921\n",
      "Negative labels in gold set: 225\n"
     ]
    }
   ],
   "source": [
    "from utils import collect_hardware_relation_gold\n",
    "filename='data/hardware/gold_all.csv'\n",
    "(gold_candidates, gold_labels) = collect_hardware_relation_gold(filename, 'stg_temp_max', candidates)\n",
    "print \"%s out of %s candidates have gold labels\" % (len(gold_candidates), len(candidates))\n",
    "print \"%s out of %s labeled candidates have positive label\" % (gold_labels.count(1), len(gold_candidates))\n",
    "\n",
    "# Split into train and test set\n",
    "training_candidates = []\n",
    "n_half = len(candidates)/2\n",
    "for idx, c in enumerate(candidates[:n_half]):\n",
    "    if c in gold_candidates:\n",
    "        gold_candidates.append(c)\n",
    "        gold_labels.append(gold_labels[idx])\n",
    "    else:\n",
    "        training_candidates.append(c)\n",
    "training_candidates.extend(candidates[n_half:])\n",
    "gold_labels = np.array(gold_labels)\n",
    "print \"Training set size: %s\" % len(training_candidates)\n",
    "print \"Gold set size: %s\" % len(gold_candidates)\n",
    "print \"Positive labels in gold set: %s\" % sum(gold_labels==1)\n",
    "print \"Negative labels in gold set: %s\" % sum(gold_labels==-1)"
   ]
  },
  {
   "cell_type": "code",
   "execution_count": 28,
   "metadata": {
    "collapsed": false
   },
   "outputs": [
    {
     "name": "stdout",
     "output_type": "stream",
     "text": [
      "Building feature index...\n",
      "Extracting features...\n",
      "0/12830\n",
      "5000/12830\n",
      "10000/12830\n",
      "e0_DDLIB_WORD_SEQ_[BC546]\n",
      "e0_DDLIB_LEMMA_SEQ_[bc546]\n",
      "e0_DDLIB_POS_SEQ_[NN]\n",
      "e0_DDLIB_DEP_SEQ_[appos]\n",
      "e0_DDLIB_W_LEFT_1_[-rrb-]\n",
      "e0_DDLIB_W_LEFT_POS_1_[-RRB-]\n",
      "e0_DDLIB_W_LEFT_2_[mhz -rrb-]\n",
      "e0_DDLIB_W_LEFT_POS_2_[NN -RRB-]\n",
      "e0_DDLIB_W_LEFT_3_[_NUMBER mhz -rrb-]\n",
      "e0_DDLIB_W_LEFT_POS_3_[CD NN -RRB-]\n"
     ]
    }
   ],
   "source": [
    "from snorkel.features import TableNgramPairFeaturizer\n",
    "featurizer = TableNgramPairFeaturizer()\n",
    "featurizer.fit_transform(candidates)\n",
    "for f in featurizer.get_features_by_candidate(candidates[0])[:10]: print f"
   ]
  },
  {
   "cell_type": "code",
   "execution_count": 29,
   "metadata": {
    "collapsed": false
   },
   "outputs": [],
   "source": [
    "# Part number LFs\n",
    "# TODO\n",
    "\n",
    "# Temperature LFs\n",
    "def LF_to_range(m):\n",
    "    return 1 if 'to' in m.span1.pre_window('words') else 0\n",
    "def LF_tilde_range(m):\n",
    "    return 1 if '~' in m.span1.pre_window('words') else 0\n",
    "def LF_storage(m):\n",
    "    return 1 if 'storage' in m.span1.aligned_ngrams('words') else -1\n",
    "def LF_tstg(m):\n",
    "    return 1 if 'tstg' in m.span1.aligned_ngrams('words') else -1\n",
    "def LF_tj(m):\n",
    "    return 1 if 'tj' in m.span1.aligned_ngrams('words') else -1\n",
    "def LF_temperature(m):\n",
    "    return 1 if 'temperature' in m.span1.aligned_ngrams('words') else -1\n",
    "def LF_celsius(m):\n",
    "    return 1 if 'c' in m.span1.aligned_ngrams('words') else 0\n",
    "def LF_max(m):\n",
    "    return 1 if 'max' in m.span1.aligned_ngrams('lemmas') else 0\n",
    "def LF_min(m):\n",
    "    return 1 if 'min' in m.span1.aligned_ngrams('lemmas') else 0\n",
    "\n",
    "# Combined LFs\n",
    "def LF_same_row(m):\n",
    "    return 1 if m.span0.context.row_num == m.span1.context.row_num else 0\n",
    "def LF_same_col(m):\n",
    "    return 1 if m.span0.context.col_num == m.span1.context.col_num else 0\n",
    "\n",
    "# NOTE: don't forget to add LF name to LFs below"
   ]
  },
  {
   "cell_type": "code",
   "execution_count": 30,
   "metadata": {
    "collapsed": false
   },
   "outputs": [],
   "source": [
    "LFs = [LF_to_range, LF_tilde_range, LF_storage, LF_tstg, LF_tj, LF_temperature, \n",
    "       LF_max, LF_min, LF_same_row, LF_same_col]"
   ]
  },
  {
   "cell_type": "code",
   "execution_count": 31,
   "metadata": {
    "collapsed": false
   },
   "outputs": [
    {
     "name": "stdout",
     "output_type": "stream",
     "text": [
      "Applying LFs...\n",
      "Featurizing...\n",
      "Building feature index...\n",
      "Extracting features...\n",
      "0/8479\n",
      "5000/8479\n",
      "============================================================\n",
      "LF Summary Statistics: 10 LFs applied to 382 candidates\n",
      "------------------------------------------------------------\n",
      "Coverage (candidates w/ > 0 labels):\t\t79.84%\n",
      "Overlap (candidates w/ > 1 labels):\t\t100.00%\n",
      "Conflict (candidates w/ conflicting labels):\t82.98%\n",
      "============================================================\n"
     ]
    }
   ],
   "source": [
    "from snorkel.snorkel import TrainingSet\n",
    "from snorkel.features import NgramFeaturizer\n",
    "\n",
    "training_set = TrainingSet(training_candidates, LFs, featurizer=TableNgramPairFeaturizer())"
   ]
  },
  {
   "cell_type": "code",
   "execution_count": 32,
   "metadata": {
    "collapsed": false
   },
   "outputs": [
    {
     "data": {
      "text/html": [
       "<div>\n",
       "<table border=\"1\" class=\"dataframe\">\n",
       "  <thead>\n",
       "    <tr style=\"text-align: right;\">\n",
       "      <th></th>\n",
       "      <th>conflicts</th>\n",
       "      <th>coverage</th>\n",
       "      <th>j</th>\n",
       "      <th>overlaps</th>\n",
       "    </tr>\n",
       "  </thead>\n",
       "  <tbody>\n",
       "    <tr>\n",
       "      <th>LF_to_range</th>\n",
       "      <td>0.000000</td>\n",
       "      <td>0.000000</td>\n",
       "      <td>0</td>\n",
       "      <td>0.000000</td>\n",
       "    </tr>\n",
       "    <tr>\n",
       "      <th>LF_tilde_range</th>\n",
       "      <td>0.000000</td>\n",
       "      <td>0.031414</td>\n",
       "      <td>1</td>\n",
       "      <td>0.031414</td>\n",
       "    </tr>\n",
       "    <tr>\n",
       "      <th>LF_storage</th>\n",
       "      <td>0.829843</td>\n",
       "      <td>1.000000</td>\n",
       "      <td>2</td>\n",
       "      <td>1.000000</td>\n",
       "    </tr>\n",
       "    <tr>\n",
       "      <th>LF_tstg</th>\n",
       "      <td>0.829843</td>\n",
       "      <td>1.000000</td>\n",
       "      <td>3</td>\n",
       "      <td>1.000000</td>\n",
       "    </tr>\n",
       "    <tr>\n",
       "      <th>LF_tj</th>\n",
       "      <td>0.829843</td>\n",
       "      <td>1.000000</td>\n",
       "      <td>4</td>\n",
       "      <td>1.000000</td>\n",
       "    </tr>\n",
       "  </tbody>\n",
       "</table>\n",
       "</div>"
      ],
      "text/plain": [
       "                conflicts  coverage  j  overlaps\n",
       "LF_to_range      0.000000  0.000000  0  0.000000\n",
       "LF_tilde_range   0.000000  0.031414  1  0.031414\n",
       "LF_storage       0.829843  1.000000  2  1.000000\n",
       "LF_tstg          0.829843  1.000000  3  1.000000\n",
       "LF_tj            0.829843  1.000000  4  1.000000"
      ]
     },
     "execution_count": 32,
     "metadata": {},
     "output_type": "execute_result"
    }
   ],
   "source": [
    "lf_stats = training_set.lf_stats()\n",
    "lf_stats[:5]"
   ]
  },
  {
   "cell_type": "code",
   "execution_count": 33,
   "metadata": {
    "collapsed": false
   },
   "outputs": [
    {
     "data": {
      "text/plain": [
       "array([[<matplotlib.axes._subplots.AxesSubplot object at 0x12c8e34d0>]], dtype=object)"
      ]
     },
     "execution_count": 33,
     "metadata": {},
     "output_type": "execute_result"
    },
    {
     "data": {
      "image/png": "[encoded data removed]",
      "text/plain": [
       "<matplotlib.figure.Figure at 0x11a54ab90>"
      ]
     },
     "metadata": {},
     "output_type": "display_data"
    }
   ],
   "source": [
    "lf_stats.hist(\"coverage\")"
   ]
  },
  {
   "cell_type": "code",
   "execution_count": 34,
   "metadata": {
    "collapsed": true
   },
   "outputs": [],
   "source": [
    "from snorkel.snorkel import Learner\n",
    "from snorkel.learning import LogReg\n",
    "\n",
    "learner = Learner(training_set, model=LogReg(bias_term=True))"
   ]
  },
  {
   "cell_type": "code",
   "execution_count": 35,
   "metadata": {
    "collapsed": true
   },
   "outputs": [],
   "source": [
    "# Splitting into CV and test set\n",
    "n_half = len(gold_candidates)/2\n",
    "test_candidates = gold_candidates[:n_half]\n",
    "test_labels     = gold_labels[:n_half]\n",
    "cv_candidates   = gold_candidates[n_half:]\n",
    "cv_labels       = gold_labels[n_half:]"
   ]
  },
  {
   "cell_type": "code",
   "execution_count": 36,
   "metadata": {
    "collapsed": false
   },
   "outputs": [
    {
     "name": "stdout",
     "output_type": "stream",
     "text": [
      "============================================================\n",
      "Testing mu = 1.00e-05, lf_w0 = 1.00e+00\n",
      "============================================================\n",
      "Begin training for rate=0.01, mu=1e-05\n",
      "\tLearning epoch = 0\tGradient mag. = 0.020181\n",
      "\tLearning epoch = 250\tGradient mag. = 0.026390\n",
      "\tLearning epoch = 500\tGradient mag. = 0.032909\n",
      "\tLearning epoch = 750\tGradient mag. = 0.040883\n",
      "Final gradient magnitude for rate=0.01, mu=1e-05: 0.051\n",
      "Applying LFs...\n",
      "Featurizing...\n",
      "============================================================\n",
      "Testing mu = 1.00e-05, lf_w0 = 2.00e+00\n",
      "============================================================\n",
      "Begin training for rate=0.01, mu=1e-05\n",
      "\tLearning epoch = 0\tGradient mag. = 0.034650\n",
      "\tLearning epoch = 250\tGradient mag. = 0.043592\n",
      "\tLearning epoch = 500\tGradient mag. = 0.052239\n",
      "\tLearning epoch = 750\tGradient mag. = 0.062530\n",
      "Final gradient magnitude for rate=0.01, mu=1e-05: 0.065\n",
      "============================================================\n",
      "Testing mu = 1.00e-07, lf_w0 = 1.00e+00\n",
      "============================================================\n",
      "Begin training for rate=0.01, mu=1e-07\n",
      "\tLearning epoch = 0\tGradient mag. = 0.020181\n",
      "\tLearning epoch = 250\tGradient mag. = 0.026456\n",
      "\tLearning epoch = 500\tGradient mag. = 0.033057\n",
      "\tLearning epoch = 750\tGradient mag. = 0.041137\n",
      "Final gradient magnitude for rate=0.01, mu=1e-07: 0.051\n",
      "============================================================\n",
      "Testing mu = 1.00e-07, lf_w0 = 2.00e+00\n",
      "============================================================\n",
      "Begin training for rate=0.01, mu=1e-07\n",
      "\tLearning epoch = 0\tGradient mag. = 0.034650\n",
      "\tLearning epoch = 250\tGradient mag. = 0.043647\n",
      "\tLearning epoch = 500\tGradient mag. = 0.052361\n",
      "\tLearning epoch = 750\tGradient mag. = 0.062632\n",
      "Final gradient magnitude for rate=0.01, mu=1e-07: 0.065\n"
     ]
    }
   ],
   "source": [
    "from snorkel.learning_utils import GridSearch\n",
    "\n",
    "gs       = GridSearch(learner, ['mu', 'lf_w0'], [[1e-5, 1e-7],[1.0,2.0]])\n",
    "gs_stats = gs.fit(cv_candidates, cv_labels)"
   ]
  },
  {
   "cell_type": "code",
   "execution_count": 37,
   "metadata": {
    "collapsed": false
   },
   "outputs": [
    {
     "data": {
      "text/html": [
       "<div>\n",
       "<table border=\"1\" class=\"dataframe\">\n",
       "  <thead>\n",
       "    <tr style=\"text-align: right;\">\n",
       "      <th></th>\n",
       "      <th>mu</th>\n",
       "      <th>lf_w0</th>\n",
       "      <th>Prec.</th>\n",
       "      <th>Rec.</th>\n",
       "      <th>F1</th>\n",
       "    </tr>\n",
       "  </thead>\n",
       "  <tbody>\n",
       "    <tr>\n",
       "      <th>0</th>\n",
       "      <td>1.000000e-05</td>\n",
       "      <td>1.0</td>\n",
       "      <td>0.773371</td>\n",
       "      <td>0.6</td>\n",
       "      <td>0.675743</td>\n",
       "    </tr>\n",
       "    <tr>\n",
       "      <th>1</th>\n",
       "      <td>1.000000e-05</td>\n",
       "      <td>2.0</td>\n",
       "      <td>0.773371</td>\n",
       "      <td>0.6</td>\n",
       "      <td>0.675743</td>\n",
       "    </tr>\n",
       "    <tr>\n",
       "      <th>2</th>\n",
       "      <td>1.000000e-07</td>\n",
       "      <td>1.0</td>\n",
       "      <td>0.771186</td>\n",
       "      <td>0.6</td>\n",
       "      <td>0.674907</td>\n",
       "    </tr>\n",
       "    <tr>\n",
       "      <th>3</th>\n",
       "      <td>1.000000e-07</td>\n",
       "      <td>2.0</td>\n",
       "      <td>0.773371</td>\n",
       "      <td>0.6</td>\n",
       "      <td>0.675743</td>\n",
       "    </tr>\n",
       "  </tbody>\n",
       "</table>\n",
       "</div>"
      ],
      "text/plain": [
       "             mu  lf_w0     Prec.  Rec.        F1\n",
       "0  1.000000e-05    1.0  0.773371   0.6  0.675743\n",
       "1  1.000000e-05    2.0  0.773371   0.6  0.675743\n",
       "2  1.000000e-07    1.0  0.771186   0.6  0.674907\n",
       "3  1.000000e-07    2.0  0.773371   0.6  0.675743"
      ]
     },
     "execution_count": 37,
     "metadata": {},
     "output_type": "execute_result"
    }
   ],
   "source": [
    "gs_stats"
   ]
  },
  {
   "cell_type": "code",
   "execution_count": 38,
   "metadata": {
    "collapsed": false
   },
   "outputs": [
    {
     "name": "stdout",
     "output_type": "stream",
     "text": [
      "Applying LFs...\n",
      "Featurizing...\n"
     ]
    },
    {
     "data": {
      "image/png": "[encoded data removed]",
      "text/plain": [
       "<matplotlib.figure.Figure at 0x1198f4b90>"
      ]
     },
     "metadata": {},
     "output_type": "display_data"
    },
    {
     "name": "stdout",
     "output_type": "stream",
     "text": [
      "========================================\n",
      "Test set size:\t573\n",
      "----------------------------------------\n",
      "Precision:\t0.930327868852\n",
      "Recall:\t\t0.487124463519\n",
      "F1 Score:\t0.639436619718\n",
      "----------------------------------------\n",
      "TP: 227 | FP: 17 | TN: 90 | FN: 239\n",
      "========================================\n"
     ]
    }
   ],
   "source": [
    "learner.test(test_candidates, test_labels)"
   ]
  },
  {
   "cell_type": "code",
   "execution_count": 39,
   "metadata": {
    "collapsed": false,
    "scrolled": true
   },
   "outputs": [
    {
     "data": {
      "text/html": [
       "<div>\n",
       "<table border=\"1\" class=\"dataframe\">\n",
       "  <thead>\n",
       "    <tr style=\"text-align: right;\">\n",
       "      <th></th>\n",
       "      <th>j</th>\n",
       "      <th>w</th>\n",
       "    </tr>\n",
       "  </thead>\n",
       "  <tbody>\n",
       "    <tr>\n",
       "      <th>e0_TABLE_ROW_WORDS_temperature</th>\n",
       "      <td>1407</td>\n",
       "      <td>0.017558</td>\n",
       "    </tr>\n",
       "    <tr>\n",
       "      <th>e1_TABLE_ROW_WORDS_temperature</th>\n",
       "      <td>3687</td>\n",
       "      <td>0.017558</td>\n",
       "    </tr>\n",
       "    <tr>\n",
       "      <th>e1_TABLE_COL_WORDS_temperature</th>\n",
       "      <td>3910</td>\n",
       "      <td>0.017558</td>\n",
       "    </tr>\n",
       "    <tr>\n",
       "      <th>e0_TABLE_COL_WORDS_junction</th>\n",
       "      <td>1499</td>\n",
       "      <td>0.017558</td>\n",
       "    </tr>\n",
       "    <tr>\n",
       "      <th>e0_TABLE_ROW_WORDS_junction</th>\n",
       "      <td>3721</td>\n",
       "      <td>0.017558</td>\n",
       "    </tr>\n",
       "    <tr>\n",
       "      <th>e0_TABLE_COL_WORDS_temperature</th>\n",
       "      <td>4650</td>\n",
       "      <td>0.017558</td>\n",
       "    </tr>\n",
       "    <tr>\n",
       "      <th>e0_TABLE_COL_WORDS_storage</th>\n",
       "      <td>5360</td>\n",
       "      <td>0.017257</td>\n",
       "    </tr>\n",
       "    <tr>\n",
       "      <th>e1_TABLE_ROW_WORDS_storage</th>\n",
       "      <td>424</td>\n",
       "      <td>0.017257</td>\n",
       "    </tr>\n",
       "    <tr>\n",
       "      <th>e1_TABLE_COL_WORDS_storage</th>\n",
       "      <td>4547</td>\n",
       "      <td>0.017257</td>\n",
       "    </tr>\n",
       "    <tr>\n",
       "      <th>e0_TABLE_ROW_WORDS_storage</th>\n",
       "      <td>1191</td>\n",
       "      <td>0.017257</td>\n",
       "    </tr>\n",
       "  </tbody>\n",
       "</table>\n",
       "</div>"
      ],
      "text/plain": [
       "                                   j         w\n",
       "e0_TABLE_ROW_WORDS_temperature  1407  0.017558\n",
       "e1_TABLE_ROW_WORDS_temperature  3687  0.017558\n",
       "e1_TABLE_COL_WORDS_temperature  3910  0.017558\n",
       "e0_TABLE_COL_WORDS_junction     1499  0.017558\n",
       "e0_TABLE_ROW_WORDS_junction     3721  0.017558\n",
       "e0_TABLE_COL_WORDS_temperature  4650  0.017558\n",
       "e0_TABLE_COL_WORDS_storage      5360  0.017257\n",
       "e1_TABLE_ROW_WORDS_storage       424  0.017257\n",
       "e1_TABLE_COL_WORDS_storage      4547  0.017257\n",
       "e0_TABLE_ROW_WORDS_storage      1191  0.017257"
      ]
     },
     "execution_count": 39,
     "metadata": {},
     "output_type": "execute_result"
    }
   ],
   "source": [
    "learner.feature_stats(n_max=10)"
   ]
  },
  {
   "cell_type": "code",
   "execution_count": null,
   "metadata": {
    "collapsed": true
   },
   "outputs": [],
   "source": []
  }
 ],
 "metadata": {
  "kernelspec": {
   "display_name": "Python 2",
   "language": "python",
   "name": "python2"
  },
  "language_info": {
   "codemirror_mode": {
    "name": "ipython",
    "version": 2
   },
   "file_extension": ".py",
   "mimetype": "text/x-python",
   "name": "python",
   "nbconvert_exporter": "python",
   "pygments_lexer": "ipython2",
   "version": "2.7.12"
  }
 },
 "nbformat": 4,
 "nbformat_minor": 0
}
