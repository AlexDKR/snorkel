{
 "cells": [
  {
   "cell_type": "markdown",
   "metadata": {},
   "source": [
    "# Relation Extraction from Tables\n",
    "\n",
    "This notebook demonstrates the full extraction and learning process for _relations_ in tables with a data set of transistor spec sheets, extracting (temperature label, min storage temperature) pairs. (Eventually, this tutorial will be updated to extract (part number, min storage temperature) pairs."
   ]
  },
  {
   "cell_type": "code",
   "execution_count": 1,
   "metadata": {
    "collapsed": false
   },
   "outputs": [],
   "source": [
    "%load_ext autoreload\n",
    "%autoreload 2"
   ]
  },
  {
   "cell_type": "markdown",
   "metadata": {},
   "source": [
    "### Extraction"
   ]
  },
  {
   "cell_type": "markdown",
   "metadata": {},
   "source": [
    "Use this option if you would like to unpickle a previously parsed corpus, (i.e., the corpus from the Entity Extraction notebook)."
   ]
  },
  {
   "cell_type": "code",
   "execution_count": 35,
   "metadata": {
    "collapsed": false
   },
   "outputs": [
    {
     "name": "stdout",
     "output_type": "stream",
     "text": [
      "CPU times: user 7.81 s, sys: 630 ms, total: 8.44 s\n",
      "Wall time: 15.1 s\n",
      "Corpus has been parsed.\n"
     ]
    }
   ],
   "source": [
    "load_pickle = False\n",
    "corpus_loaded = False\n",
    "\n",
    "if load_pickle:\n",
    "    try:\n",
    "        import cPickle\n",
    "        with open(\"data/hardware/hardware_corpus.pkl\",\"r\") as pkl:\n",
    "            %time corpus = cPickle.load(pkl)\n",
    "        corpus_loaded = True\n",
    "        print \"Corpus has been loaded.\"\n",
    "    except:\n",
    "        print \"Corpus could not be loaded.\"\n",
    "        print \"Corpus will be parsed instead...\"\n",
    "if not corpus_loaded:\n",
    "    from snorkel.parser import CorpusParser\n",
    "    from snorkel.parser import HTMLParser\n",
    "    from snorkel.parser import TableParser\n",
    "\n",
    "    html_parser = HTMLParser(path='data/hardware/hardware_html/')\n",
    "    table_parser = TableParser()\n",
    "\n",
    "    cp = CorpusParser(html_parser, table_parser, max_docs=15)\n",
    "    %time corpus = cp.parse_corpus(name='Hardware Corpus')\n",
    "    print \"Corpus has been parsed.\""
   ]
  },
  {
   "cell_type": "markdown",
   "metadata": {},
   "source": [
    "We now create two EntityExtractor objects, one for each component in the relation."
   ]
  },
  {
   "cell_type": "code",
   "execution_count": 36,
   "metadata": {
    "collapsed": false,
    "scrolled": true
   },
   "outputs": [
    {
     "name": "stdout",
     "output_type": "stream",
     "text": [
      "Loaded 179 part numbers.\n"
     ]
    }
   ],
   "source": [
    "from snorkel.candidates import TableNgrams, EntityExtractor, RelationExtractor\n",
    "from snorkel.matchers import RegexMatchEach, DictionaryMatch, RangeMatcher\n",
    "from load_dictionaries import load_hardware_dictionary\n",
    "\n",
    "# Select a CandidateSpace\n",
    "table_ngrams = TableNgrams(n_max=2)\n",
    "\n",
    "# Entity Extractor 1: Part numbers\n",
    "parts = load_hardware_dictionary()\n",
    "print \"Loaded %s part numbers.\" % len(parts)\n",
    "\n",
    "# NOTE: this will not catch items in ranges (e.g., BC546-BC548) or lists (e.g., BC546/547/548)\n",
    "part_matcher = DictionaryMatch(d=parts, longest_match_only=False)\n",
    "part_extractor = EntityExtractor(table_ngrams, part_matcher)\n",
    "\n",
    "# Entity Extractor 2: Temperatures (min storage temperature)\n",
    "# temp_matcher = RangeMatcher(low=140,high=160)\n",
    "temp_matcher = RegexMatchEach(rgx=r'1[3-7][05]', attrib='words')\n",
    "temp_extractor = EntityExtractor(table_ngrams, temp_matcher)\n",
    "\n",
    "# Relation Extractor:\n",
    "relation_extractor = RelationExtractor(part_extractor, temp_extractor)"
   ]
  },
  {
   "cell_type": "code",
   "execution_count": 31,
   "metadata": {
    "collapsed": false
   },
   "outputs": [
    {
     "name": "stdout",
     "output_type": "stream",
     "text": [
      "CPU times: user 591 ms, sys: 21 ms, total: 612 ms\n",
      "Wall time: 610 ms\n",
      "Span(\"150\", context=None, chars=[0,2], words=[0,0])\n",
      "Span(\"150\", context=None, chars=[0,2], words=[0,0])\n",
      "Span(\"150\", context=None, chars=[0,2], words=[0,0])\n",
      "Span(\"150\", context=None, chars=[0,2], words=[0,0])\n",
      "Span(\"150\", context=None, chars=[0,2], words=[0,0])\n",
      "Span(\"150\", context=None, chars=[4,6], words=[2,2])\n",
      "Span(\"150\", context=None, chars=[0,2], words=[0,0])\n",
      "Span(\"150\", context=None, chars=[7,9], words=[3,3])\n",
      "Span(\"150\", context=None, chars=[0,2], words=[0,0])\n",
      "Span(\"150\", context=None, chars=[0,2], words=[0,0])\n",
      "22 candidates extracted\n"
     ]
    }
   ],
   "source": [
    "from snorkel.candidates import TableNgrams\n",
    "from snorkel.matchers import NumberMatcher, RangeMatcher\n",
    "\n",
    "# Define a candidate space\n",
    "ngrams = TableNgrams(n_max=2)\n",
    "\n",
    "# Define a matcher\n",
    "# number_matcher = RangeMatcher(low=-70,high=-50)\n",
    "temp_matcher = RegexMatchEach(rgx=r'1[3-7][05]', attrib='words')\n",
    "from snorkel.candidates import EntityExtractor\n",
    "ce = EntityExtractor(ngrams, temp_matcher)\n",
    "%time candidates = ce.extract(corpus.get_tables(), name='all')\n",
    "for cand in candidates[:10]: \n",
    "    print cand\n",
    "print \"%s candidates extracted\" % len(candidates)"
   ]
  },
  {
   "cell_type": "code",
   "execution_count": 32,
   "metadata": {
    "collapsed": false
   },
   "outputs": [
    {
     "data": {
      "text/plain": [
       "Phrase('0', 5, 0, 2, u'150')"
      ]
     },
     "execution_count": 32,
     "metadata": {},
     "output_type": "execute_result"
    }
   ],
   "source": [
    "candidates[0].context"
   ]
  },
  {
   "cell_type": "code",
   "execution_count": 33,
   "metadata": {
    "collapsed": false
   },
   "outputs": [
    {
     "data": {
      "text/plain": [
       "True"
      ]
     },
     "execution_count": 33,
     "metadata": {},
     "output_type": "execute_result"
    }
   ],
   "source": [
    "temp_matcher._f(candidates[0])"
   ]
  },
  {
   "cell_type": "code",
   "execution_count": 34,
   "metadata": {
    "collapsed": false
   },
   "outputs": [
    {
     "data": {
      "text/plain": [
       "[u'150']"
      ]
     },
     "execution_count": 34,
     "metadata": {},
     "output_type": "execute_result"
    }
   ],
   "source": [
    "candidates[0].get_attrib_tokens('words')"
   ]
  },
  {
   "cell_type": "code",
   "execution_count": 27,
   "metadata": {
    "collapsed": false
   },
   "outputs": [
    {
     "data": {
      "text/plain": [
       "True"
      ]
     },
     "execution_count": 27,
     "metadata": {},
     "output_type": "execute_result"
    }
   ],
   "source": [
    "all([])"
   ]
  },
  {
   "cell_type": "code",
   "execution_count": 30,
   "metadata": {
    "collapsed": false
   },
   "outputs": [
    {
     "name": "stdout",
     "output_type": "stream",
     "text": [
      "None\n"
     ]
    }
   ],
   "source": [
    "import re\n",
    "print re.match(r'1[3-7][05]', \"\")"
   ]
  },
  {
   "cell_type": "code",
   "execution_count": 37,
   "metadata": {
    "collapsed": false,
    "scrolled": true
   },
   "outputs": [
    {
     "name": "stdout",
     "output_type": "stream",
     "text": [
      "CPU times: user 1.92 s, sys: 19 ms, total: 1.94 s\n",
      "Wall time: 1.94 s\n",
      "SpanPair(Span(\"BC546\", context=None, chars=[122,126], words=[24,24]), Span(\"150\", context=None, chars=[0,2], words=[0,0]))\n",
      "SpanPair(Span(\"BC546\", context=None, chars=[122,126], words=[24,24]), Span(\"150\", context=None, chars=[0,2], words=[0,0]))\n",
      "SpanPair(Span(\"BC546\", context=None, chars=[122,126], words=[24,24]), Span(\"150\", context=None, chars=[0,2], words=[0,0]))\n",
      "SpanPair(Span(\"BC547\", context=None, chars=[0,4], words=[0,0]), Span(\"150\", context=None, chars=[0,2], words=[0,0]))\n",
      "SpanPair(Span(\"BC547\", context=None, chars=[0,4], words=[0,0]), Span(\"150\", context=None, chars=[0,2], words=[0,0]))\n",
      "SpanPair(Span(\"BC547\", context=None, chars=[0,4], words=[0,0]), Span(\"150\", context=None, chars=[0,2], words=[0,0]))\n",
      "SpanPair(Span(\"BC548\", context=None, chars=[0,4], words=[0,0]), Span(\"150\", context=None, chars=[0,2], words=[0,0]))\n",
      "SpanPair(Span(\"BC548\", context=None, chars=[0,4], words=[0,0]), Span(\"150\", context=None, chars=[0,2], words=[0,0]))\n",
      "SpanPair(Span(\"BC548\", context=None, chars=[0,4], words=[0,0]), Span(\"150\", context=None, chars=[0,2], words=[0,0]))\n",
      "SpanPair(Span(\"BC546\", context=None, chars=[112,116], words=[22,22]), Span(\"150\", context=None, chars=[0,2], words=[0,0]))\n",
      "99 part numbers extracted\n"
     ]
    }
   ],
   "source": [
    "# %time candidates = temp_extractor.extract(corpus.get_tables(), name='all')\n",
    "%time candidates = relation_extractor.extract(corpus.get_tables(), name='all')\n",
    "\n",
    "for cand in candidates[:10]: \n",
    "    print cand\n",
    "print \"%s part numbers extracted\" % len(candidates)"
   ]
  },
  {
   "cell_type": "code",
   "execution_count": 44,
   "metadata": {
    "collapsed": false
   },
   "outputs": [
    {
     "name": "stdout",
     "output_type": "stream",
     "text": [
      "179 gold annotations available\n",
      "99 out of 99 candidates have gold labels\n",
      "99 out of 99 labeled candidates have positive label\n"
     ]
    }
   ],
   "source": [
    "from utils import collect_hardware_relation_gold\n",
    "filename = 'data/hardware/gold_all.csv'\n",
    "gt_dict = collect_hardware_relation_gold(filename, 'stg_temp_max', candidates)\n",
    "print \"%s out of %s candidates have gold labels\" % (len(gt_dict),len(candidates))\n",
    "print \"%s out of %s labeled candidates have positive label\" \\\n",
    "        % (gt_dict.values().count(1), len(gt_dict))"
   ]
  },
  {
   "cell_type": "code",
   "execution_count": 7,
   "metadata": {
    "collapsed": false
   },
   "outputs": [
    {
     "name": "stdout",
     "output_type": "stream",
     "text": [
      "e0_DDLIB_WORD_SEQ_[BC547]\n",
      "e0_DDLIB_LEMMA_SEQ_[bc547]\n",
      "e0_DDLIB_POS_SEQ_[NN]\n",
      "e0_DDLIB_DEP_SEQ_[ROOT]\n",
      "e0_DDLIB_W_LEFT_1_[bc547]\n",
      "e0_DDLIB_W_LEFT_POS_1_[NN]\n",
      "e0_DDLIB_NUM_WORDS_1\n",
      "e0_TABLE_ROW_NUM_[0]\n",
      "e0_TABLE_COL_NUM_[0]\n",
      "e0_TABLE_HTML_TAG_td\n"
     ]
    }
   ],
   "source": [
    "from snorkel.features import TableNgramPairFeaturizer\n",
    "featurizer = TableNgramPairFeaturizer()\n",
    "featurizer.fit_transform(candidates)\n",
    "for f in featurizer.get_features_by_candidate(candidates[0])[:10]: print f"
   ]
  },
  {
   "cell_type": "code",
   "execution_count": 45,
   "metadata": {
    "collapsed": false
   },
   "outputs": [
    {
     "name": "stdout",
     "output_type": "stream",
     "text": [
      "50 training data\n",
      "25 test data\n",
      "24 validation data\n"
     ]
    }
   ],
   "source": [
    "from snorkel.snorkel import DDLiteModel\n",
    "DDL = DDLiteModel(candidates, featurizer.fit_transform(candidates), gt_dict)\n",
    "\n",
    "DDL.set_holdout(idxs=range(int(len(gt_dict)*.5)), validation_frac=0.5)\n",
    "print \"%s training data\" % len(DDL.gt.get_labeled_ground_truth('training')[0])\n",
    "print \"%s test data\" % len(DDL.gt.get_labeled_ground_truth('test')[0])\n",
    "print \"%s validation data\" % len(DDL.gt.get_labeled_ground_truth('validation')[0])"
   ]
  },
  {
   "cell_type": "code",
   "execution_count": 49,
   "metadata": {
    "collapsed": false
   },
   "outputs": [],
   "source": [
    "# Part number LFs\n",
    "# TODO\n",
    "\n",
    "# Temperature LFs\n",
    "def LF_to_range(m):\n",
    "    return 1 if 'to' in m.span1.pre_window('words') else 0\n",
    "def LF_tilde_range(m):\n",
    "    return 1 if '~' in m.span1.pre_window('words') else 0\n",
    "def LF_storage(m):\n",
    "    return 1 if 'storage' in m.span1.aligned_ngrams('words') else -1\n",
    "def LF_tstg(m):\n",
    "    return 1 if 'tstg' in m.span1.aligned_ngrams('words') else -1\n",
    "def LF_tj(m):\n",
    "    return 1 if 'tj' in m.span1.aligned_ngrams('words') else -1\n",
    "def LF_temperature(m):\n",
    "    return 1 if 'temperature' in m.span1.aligned_ngrams('words') else -1\n",
    "def LF_celsius(m):\n",
    "    return 1 if 'c' in m.span1.aligned_ngrams('words') else 0\n",
    "def LF_max(m):\n",
    "    return 1 if 'max' in m.span1.aligned_ngrams('lemmas') else 0\n",
    "def LF_min(m):\n",
    "    return 1 if 'min' in m.span1.aligned_ngrams('lemmas') else 0\n",
    "\n",
    "# Combined LFs\n",
    "def LF_same_row(m):\n",
    "    return 1 if m.span0.context.row_num == m.span1.context.row_num else 0\n",
    "def LF_same_col(m):\n",
    "    return 1 if m.span0.context.col_num == m.span1.context.col_num else 0\n",
    "\n",
    "# NOTE: don't forget to add LF name to LFs below"
   ]
  },
  {
   "cell_type": "code",
   "execution_count": 50,
   "metadata": {
    "collapsed": false
   },
   "outputs": [],
   "source": [
    "LFs = [LF_to_range, LF_tilde_range, LF_storage, LF_tstg, LF_tj, LF_temperature, \n",
    "       LF_max, LF_min, LF_same_row, LF_same_col]\n",
    "DDL.apply_lfs(LFs, clear=True)"
   ]
  },
  {
   "cell_type": "code",
   "execution_count": 51,
   "metadata": {
    "collapsed": false
   },
   "outputs": [
    {
     "name": "stdout",
     "output_type": "stream",
     "text": [
      "['LF_to_range', 'LF_tilde_range', 'LF_storage', 'LF_tstg', 'LF_tj', 'LF_temperature', 'LF_max', 'LF_min', 'LF_same_row', 'LF_same_col']\n",
      "LF stats on training set\n",
      "Coverage:\t100.000%\n",
      "Overlap:\t100.000%\n",
      "Conflict:\t70.000%\n"
     ]
    }
   ],
   "source": [
    "print DDL.lf_names\n",
    "DDL.print_lf_stats()"
   ]
  },
  {
   "cell_type": "code",
   "execution_count": 52,
   "metadata": {
    "collapsed": false
   },
   "outputs": [
    {
     "data": {
      "text/html": [
       "<table><tr><td><b>Labeling function</b></td><td><b>Candidate coverage</b></td></tr><tr><td>LF_max</td><td>0.00%</td></tr><tr><td>LF_tilde_range</td><td>0.00%</td></tr><tr><td>LF_min</td><td>0.00%</td></tr><tr><td>LF_to_range</td><td>0.00%</td></tr><tr><td>LF_storage</td><td>100.00%</td></tr><tr><td>LF_same_col</td><td>100.00%</td></tr><tr><td>LF_tj</td><td>100.00%</td></tr><tr><td>LF_temperature</td><td>100.00%</td></tr><tr><td>LF_tstg</td><td>100.00%</td></tr><tr><td>LF_same_row</td><td>100.00%</td></tr></table>"
      ],
      "text/plain": [
       "DictTable([('LF_max', ['0.00%']),\n",
       "           ('LF_tilde_range', ['0.00%']),\n",
       "           ('LF_min', ['0.00%']),\n",
       "           ('LF_to_range', ['0.00%']),\n",
       "           ('LF_storage', ['100.00%']),\n",
       "           ('LF_same_col', ['100.00%']),\n",
       "           ('LF_tj', ['100.00%']),\n",
       "           ('LF_temperature', ['100.00%']),\n",
       "           ('LF_tstg', ['100.00%']),\n",
       "           ('LF_same_row', ['100.00%'])])"
      ]
     },
     "execution_count": 52,
     "metadata": {},
     "output_type": "execute_result"
    }
   ],
   "source": [
    "DDL.lowest_coverage_lfs(n=10)"
   ]
  },
  {
   "cell_type": "code",
   "execution_count": 53,
   "metadata": {
    "collapsed": false
   },
   "outputs": [
    {
     "name": "stdout",
     "output_type": "stream",
     "text": [
      "Begin training for rate=0.01, mu=1e-07\n",
      "\tLearning epoch = 0\tGradient mag. = 0.549911\n",
      "\tLearning epoch = 250\tGradient mag. = 2.362587\n",
      "Final gradient magnitude for rate=0.01, mu=1e-07: 1.658\n",
      "Running in False mode...\n",
      "Begin training for rate=0.01, mu=1e-09\n",
      "\tLearning epoch = 0\tGradient mag. = 0.262364\n",
      "\tLearning epoch = 250\tGradient mag. = 0.275522\n",
      "\tLearning epoch = 500\tGradient mag. = 0.274873\n",
      "\tLearning epoch = 750\tGradient mag. = 0.274225\n",
      "\tLearning epoch = 1000\tGradient mag. = 0.273579\n",
      "\tLearning epoch = 1250\tGradient mag. = 0.272935\n",
      "\tLearning epoch = 1500\tGradient mag. = 0.272292\n",
      "\tLearning epoch = 1750\tGradient mag. = 0.271651\n",
      "\tLearning epoch = 2000\tGradient mag. = 0.271012\n",
      "\tLearning epoch = 2250\tGradient mag. = 0.270374\n",
      "\tLearning epoch = 2500\tGradient mag. = 0.269738\n",
      "\tLearning epoch = 2750\tGradient mag. = 0.269103\n",
      "Final gradient magnitude for rate=0.01, mu=1e-09: 0.268\n",
      "Begin training for rate=0.01, mu=1e-05\n",
      "\tLearning epoch = 0\tGradient mag. = 0.262364\n",
      "\tLearning epoch = 250\tGradient mag. = 0.275522\n",
      "\tLearning epoch = 500\tGradient mag. = 0.274873\n",
      "\tLearning epoch = 750\tGradient mag. = 0.274226\n",
      "\tLearning epoch = 1000\tGradient mag. = 0.273581\n",
      "\tLearning epoch = 1250\tGradient mag. = 0.272937\n",
      "\tLearning epoch = 1500\tGradient mag. = 0.272294\n",
      "\tLearning epoch = 1750\tGradient mag. = 0.271654\n",
      "\tLearning epoch = 2000\tGradient mag. = 0.271015\n",
      "\tLearning epoch = 2250\tGradient mag. = 0.270378\n",
      "\tLearning epoch = 2500\tGradient mag. = 0.269742\n",
      "\tLearning epoch = 2750\tGradient mag. = 0.269108\n",
      "Final gradient magnitude for rate=0.01, mu=1e-05: 0.268\n",
      "Begin training for rate=0.01, mu=0.001\n",
      "\tLearning epoch = 0\tGradient mag. = 0.262364\n",
      "\tLearning epoch = 250\tGradient mag. = 0.275557\n",
      "\tLearning epoch = 500\tGradient mag. = 0.274944\n",
      "\tLearning epoch = 750\tGradient mag. = 0.274334\n",
      "\tLearning epoch = 1000\tGradient mag. = 0.273725\n",
      "\tLearning epoch = 1250\tGradient mag. = 0.273119\n",
      "\tLearning epoch = 1500\tGradient mag. = 0.272515\n",
      "\tLearning epoch = 1750\tGradient mag. = 0.271914\n",
      "\tLearning epoch = 2000\tGradient mag. = 0.271315\n",
      "\tLearning epoch = 2250\tGradient mag. = 0.270718\n",
      "\tLearning epoch = 2500\tGradient mag. = 0.270123\n",
      "\tLearning epoch = 2750\tGradient mag. = 0.269531\n",
      "Final gradient magnitude for rate=0.01, mu=0.001: 0.269\n",
      "Begin training for rate=0.01, mu=0.1\n",
      "\tLearning epoch = 0\tGradient mag. = 0.262364\n",
      "SGD converged for mu=0.1 after 10 steps\n"
     ]
    },
    {
     "data": {
      "image/png": "[encoded data removed]",
      "text/plain": [
       "<matplotlib.figure.Figure at 0x1169b0950>"
      ]
     },
     "metadata": {},
     "output_type": "display_data"
    },
    {
     "name": "stdout",
     "output_type": "stream",
     "text": [
      "CPU times: user 6.14 s, sys: 42.8 ms, total: 6.18 s\n",
      "Wall time: 6.31 s\n"
     ]
    },
    {
     "data": {
      "text/html": [
       "<table><tr><td><b>ID</b></td><td><b># LFs</b></td><td><b>Test set size</b></td><td><b>Model</b></td><td><b>Precision</b></td><td><b>Recall</b></td><td><b>F1</b></td></tr><tr><td>0</td><td>10</td><td>25</td><td>Logistic regression</td><td>0.000</td><td>0.000</td><td>0.000</td></tr></table><table><tr><td><b>LF</b></td></tr><tr><td>LF_to_range</td></tr><tr><td>LF_tilde_range</td></tr><tr><td>LF_storage</td></tr><tr><td>LF_tstg</td></tr><tr><td>LF_tj</td></tr><tr><td>LF_temperature</td></tr><tr><td>LF_max</td></tr><tr><td>LF_min</td></tr><tr><td>LF_same_row</td></tr><tr><td>LF_same_col</td></tr></table>"
      ],
      "text/plain": [
       "<snorkel.snorkel.ModelLog instance at 0x116ca4f80>"
      ]
     },
     "execution_count": 53,
     "metadata": {},
     "output_type": "execute_result"
    }
   ],
   "source": [
    "import matplotlib\n",
    "import numpy as np\n",
    "%matplotlib inline\n",
    "matplotlib.rcParams['figure.figsize'] = (12,4)\n",
    "mu_seq = np.ravel([1e-9, 1e-5, 1e-3, 1e-1])\n",
    "lf_opts = {'sample': False, 'verbose': True}\n",
    "model_opts = {'sample': False, 'n_iter': 3000, 'alpha': 0.5, 'mu': mu_seq, 'bias': False, 'verbose': True}\n",
    "%time DDL.train_model(method='lr', lf_opts=lf_opts, model_opts=model_opts)"
   ]
  },
  {
   "cell_type": "code",
   "execution_count": null,
   "metadata": {
    "collapsed": true
   },
   "outputs": [],
   "source": []
  }
 ],
 "metadata": {
  "kernelspec": {
   "display_name": "Python 2",
   "language": "python",
   "name": "python2"
  },
  "language_info": {
   "codemirror_mode": {
    "name": "ipython",
    "version": 2
   },
   "file_extension": ".py",
   "mimetype": "text/x-python",
   "name": "python",
   "nbconvert_exporter": "python",
   "pygments_lexer": "ipython2",
   "version": "2.7.2"
  }
 },
 "nbformat": 4,
 "nbformat_minor": 0
}
