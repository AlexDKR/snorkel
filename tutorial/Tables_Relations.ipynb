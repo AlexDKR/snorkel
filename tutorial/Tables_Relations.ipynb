{
 "cells": [
  {
   "cell_type": "markdown",
   "metadata": {},
   "source": [
    "# Relation Extraction from Tables\n",
    "\n",
    "This notebook demonstrates the full extraction and learning process for _relations_ in tables with a data set of transistor spec sheets, extracting (temperature label, min storage temperature) pairs. (Eventually, this tutorial will be updated to extract (part number, min storage temperature) pairs."
   ]
  },
  {
   "cell_type": "code",
   "execution_count": 41,
   "metadata": {
    "collapsed": false
   },
   "outputs": [
    {
     "name": "stdout",
     "output_type": "stream",
     "text": [
      "The autoreload extension is already loaded. To reload it, use:\n",
      "  %reload_ext autoreload\n"
     ]
    }
   ],
   "source": [
    "%load_ext autoreload\n",
    "%autoreload 2"
   ]
  },
  {
   "cell_type": "markdown",
   "metadata": {},
   "source": [
    "### Extraction"
   ]
  },
  {
   "cell_type": "markdown",
   "metadata": {},
   "source": [
    "Use this option if you would like to unpickle a previously parsed corpus, (i.e., the corpus from the Entity Extraction notebook)."
   ]
  },
  {
   "cell_type": "code",
   "execution_count": 2,
   "metadata": {
    "collapsed": false
   },
   "outputs": [
    {
     "name": "stdout",
     "output_type": "stream",
     "text": [
      "CPU times: user 7.3 s, sys: 146 ms, total: 7.45 s\n",
      "Wall time: 21.5 s\n",
      "Corpus has been parsed.\n"
     ]
    }
   ],
   "source": [
    "load_pickle = False\n",
    "corpus_loaded = False\n",
    "\n",
    "if load_pickle:\n",
    "    try:\n",
    "        import cPickle\n",
    "        with open(\"data/hardware/hardware_corpus.pkl\",\"r\") as pkl:\n",
    "            %time corpus = cPickle.load(pkl)\n",
    "        corpus_loaded = True\n",
    "        print \"Corpus has been loaded.\"\n",
    "    except:\n",
    "        print \"Corpus could not be loaded.\"\n",
    "        print \"Corpus will be parsed instead...\"\n",
    "if not corpus_loaded:\n",
    "    from snorkel.parser import CorpusParser\n",
    "    from snorkel.parser import HTMLParser\n",
    "    from snorkel.parser import TableParser\n",
    "\n",
    "    html_parser = HTMLParser(path='data/hardware/hardware_html/')\n",
    "    table_parser = TableParser()\n",
    "\n",
    "    cp = CorpusParser(html_parser, table_parser, max_docs=15)\n",
    "    %time corpus = cp.parse_corpus(name='Hardware Corpus')\n",
    "    print \"Corpus has been parsed.\""
   ]
  },
  {
   "cell_type": "markdown",
   "metadata": {},
   "source": [
    "We now create two EntityExtractor objects, one for each component in the relation."
   ]
  },
  {
   "cell_type": "code",
   "execution_count": 3,
   "metadata": {
    "collapsed": false,
    "scrolled": true
   },
   "outputs": [
    {
     "name": "stdout",
     "output_type": "stream",
     "text": [
      "Loaded 179 part numbers.\n"
     ]
    }
   ],
   "source": [
    "from snorkel.candidates import TableNgrams, EntityExtractor, RelationExtractor\n",
    "from snorkel.matchers import RegexMatchEach, DictionaryMatch, RangeMatcher\n",
    "from load_dictionaries import load_hardware_dictionary\n",
    "\n",
    "# Select a CandidateSpace\n",
    "table_ngrams = TableNgrams(n_max=2)\n",
    "\n",
    "# Entity Extractor 1: Part numbers\n",
    "parts = load_hardware_dictionary()\n",
    "print \"Loaded %s part numbers.\" % len(parts)\n",
    "\n",
    "# NOTE: this will not catch items in ranges (e.g., BC546-BC548) or lists (e.g., BC546/547/548)\n",
    "part_matcher = DictionaryMatch(d=parts, longest_match_only=False)\n",
    "part_extractor = EntityExtractor(table_ngrams, part_matcher)\n",
    "\n",
    "# Entity Extractor 2: Temperatures (min storage temperature)\n",
    "# temp_matcher = RangeMatcher(low=140,high=160)\n",
    "temp_matcher = RegexMatchEach(rgx=r'1[3-7][05]', attrib='words')\n",
    "temp_extractor = EntityExtractor(table_ngrams, temp_matcher)\n",
    "\n",
    "# Relation Extractor:\n",
    "relation_extractor = RelationExtractor(part_extractor, temp_extractor)"
   ]
  },
  {
   "cell_type": "code",
   "execution_count": 4,
   "metadata": {
    "collapsed": false
   },
   "outputs": [
    {
     "name": "stdout",
     "output_type": "stream",
     "text": [
      "CPU times: user 629 ms, sys: 8.59 ms, total: 638 ms\n",
      "Wall time: 647 ms\n",
      "Span(\"150\", context=None, chars=[0,2], words=[0,0])\n",
      "Span(\"150\", context=None, chars=[0,2], words=[0,0])\n",
      "Span(\"150\", context=None, chars=[0,2], words=[0,0])\n",
      "Span(\"150\", context=None, chars=[0,2], words=[0,0])\n",
      "Span(\"150\", context=None, chars=[0,2], words=[0,0])\n",
      "Span(\"150\", context=None, chars=[4,6], words=[2,2])\n",
      "Span(\"150\", context=None, chars=[0,2], words=[0,0])\n",
      "Span(\"150\", context=None, chars=[7,9], words=[3,3])\n",
      "Span(\"150\", context=None, chars=[0,2], words=[0,0])\n",
      "Span(\"150\", context=None, chars=[0,2], words=[0,0])\n",
      "22 candidates extracted\n"
     ]
    }
   ],
   "source": [
    "from snorkel.candidates import TableNgrams\n",
    "from snorkel.matchers import NumberMatcher, RangeMatcher\n",
    "\n",
    "# Define a candidate space\n",
    "ngrams = TableNgrams(n_max=2)\n",
    "\n",
    "# Define a matcher\n",
    "# number_matcher = RangeMatcher(low=-70,high=-50)\n",
    "temp_matcher = RegexMatchEach(rgx=r'1[3-7][05]', attrib='words')\n",
    "from snorkel.candidates import EntityExtractor\n",
    "ce = EntityExtractor(ngrams, temp_matcher)\n",
    "%time candidates = ce.extract(corpus.get_tables(), name='all')\n",
    "for cand in candidates[:10]: \n",
    "    print cand\n",
    "print \"%s candidates extracted\" % len(candidates)"
   ]
  },
  {
   "cell_type": "code",
   "execution_count": 5,
   "metadata": {
    "collapsed": false
   },
   "outputs": [
    {
     "data": {
      "text/plain": [
       "Phrase('0', 5, 0, 2, u'150')"
      ]
     },
     "execution_count": 5,
     "metadata": {},
     "output_type": "execute_result"
    }
   ],
   "source": [
    "candidates[0].context"
   ]
  },
  {
   "cell_type": "code",
   "execution_count": 6,
   "metadata": {
    "collapsed": false
   },
   "outputs": [
    {
     "data": {
      "text/plain": [
       "True"
      ]
     },
     "execution_count": 6,
     "metadata": {},
     "output_type": "execute_result"
    }
   ],
   "source": [
    "temp_matcher._f(candidates[0])"
   ]
  },
  {
   "cell_type": "code",
   "execution_count": 7,
   "metadata": {
    "collapsed": false
   },
   "outputs": [
    {
     "data": {
      "text/plain": [
       "[u'150']"
      ]
     },
     "execution_count": 7,
     "metadata": {},
     "output_type": "execute_result"
    }
   ],
   "source": [
    "candidates[0].get_attrib_tokens('words')"
   ]
  },
  {
   "cell_type": "code",
   "execution_count": 8,
   "metadata": {
    "collapsed": false
   },
   "outputs": [
    {
     "data": {
      "text/plain": [
       "True"
      ]
     },
     "execution_count": 8,
     "metadata": {},
     "output_type": "execute_result"
    }
   ],
   "source": [
    "all([])"
   ]
  },
  {
   "cell_type": "code",
   "execution_count": 9,
   "metadata": {
    "collapsed": false
   },
   "outputs": [
    {
     "name": "stdout",
     "output_type": "stream",
     "text": [
      "None\n"
     ]
    }
   ],
   "source": [
    "import re\n",
    "print re.match(r'1[3-7][05]', \"\")"
   ]
  },
  {
   "cell_type": "code",
   "execution_count": 10,
   "metadata": {
    "collapsed": false,
    "scrolled": true
   },
   "outputs": [
    {
     "name": "stdout",
     "output_type": "stream",
     "text": [
      "CPU times: user 1.92 s, sys: 23.7 ms, total: 1.94 s\n",
      "Wall time: 1.96 s\n",
      "SpanPair(Span(\"BC546\", context=None, chars=[122,126], words=[24,24]), Span(\"150\", context=None, chars=[0,2], words=[0,0]))\n",
      "SpanPair(Span(\"BC546\", context=None, chars=[122,126], words=[24,24]), Span(\"150\", context=None, chars=[0,2], words=[0,0]))\n",
      "SpanPair(Span(\"BC546\", context=None, chars=[122,126], words=[24,24]), Span(\"150\", context=None, chars=[0,2], words=[0,0]))\n",
      "SpanPair(Span(\"BC547\", context=None, chars=[0,4], words=[0,0]), Span(\"150\", context=None, chars=[0,2], words=[0,0]))\n",
      "SpanPair(Span(\"BC547\", context=None, chars=[0,4], words=[0,0]), Span(\"150\", context=None, chars=[0,2], words=[0,0]))\n",
      "SpanPair(Span(\"BC547\", context=None, chars=[0,4], words=[0,0]), Span(\"150\", context=None, chars=[0,2], words=[0,0]))\n",
      "SpanPair(Span(\"BC548\", context=None, chars=[0,4], words=[0,0]), Span(\"150\", context=None, chars=[0,2], words=[0,0]))\n",
      "SpanPair(Span(\"BC548\", context=None, chars=[0,4], words=[0,0]), Span(\"150\", context=None, chars=[0,2], words=[0,0]))\n",
      "SpanPair(Span(\"BC548\", context=None, chars=[0,4], words=[0,0]), Span(\"150\", context=None, chars=[0,2], words=[0,0]))\n",
      "SpanPair(Span(\"BC546\", context=None, chars=[112,116], words=[22,22]), Span(\"150\", context=None, chars=[0,2], words=[0,0]))\n",
      "99 part numbers extracted\n"
     ]
    }
   ],
   "source": [
    "# %time candidates = temp_extractor.extract(corpus.get_tables(), name='all')\n",
    "%time candidates = relation_extractor.extract(corpus.get_tables(), name='all')\n",
    "\n",
    "for cand in candidates[:10]: \n",
    "    print cand\n",
    "print \"%s part numbers extracted\" % len(candidates)"
   ]
  },
  {
   "cell_type": "code",
   "execution_count": 11,
   "metadata": {
    "collapsed": false
   },
   "outputs": [
    {
     "name": "stdout",
     "output_type": "stream",
     "text": [
      "179 gold annotations available\n",
      "99 out of 99 candidates have gold labels\n",
      "99 out of 99 labeled candidates have positive label\n"
     ]
    }
   ],
   "source": [
    "from utils import collect_hardware_relation_gold\n",
    "filename = 'data/hardware/gold_all.csv'\n",
    "gt_dict = collect_hardware_relation_gold(filename, 'stg_temp_max', candidates)\n",
    "print \"%s out of %s candidates have gold labels\" % (len(gt_dict),len(candidates))\n",
    "print \"%s out of %s labeled candidates have positive label\" \\\n",
    "        % (gt_dict.values().count(1), len(gt_dict))"
   ]
  },
  {
   "cell_type": "code",
   "execution_count": 12,
   "metadata": {
    "collapsed": false
   },
   "outputs": [
    {
     "name": "stdout",
     "output_type": "stream",
     "text": [
      "e0_DDLIB_WORD_SEQ_[BC546]\n",
      "e0_DDLIB_LEMMA_SEQ_[bc546]\n",
      "e0_DDLIB_POS_SEQ_[NN]\n",
      "e0_DDLIB_DEP_SEQ_[appos]\n",
      "e0_DDLIB_W_LEFT_1_[-rrb-]\n",
      "e0_DDLIB_W_LEFT_POS_1_[-RRB-]\n",
      "e0_DDLIB_W_LEFT_2_[mhz -rrb-]\n",
      "e0_DDLIB_W_LEFT_POS_2_[NN -RRB-]\n",
      "e0_DDLIB_W_LEFT_3_[_NUMBER mhz -rrb-]\n",
      "e0_DDLIB_W_LEFT_POS_3_[CD NN -RRB-]\n"
     ]
    }
   ],
   "source": [
    "from snorkel.features import TableNgramPairFeaturizer\n",
    "featurizer = TableNgramPairFeaturizer()\n",
    "featurizer.fit_transform(candidates)\n",
    "for f in featurizer.get_features_by_candidate(candidates[0])[:10]: print f"
   ]
  },
  {
   "cell_type": "code",
   "execution_count": 77,
   "metadata": {
    "collapsed": false
   },
   "outputs": [
    {
     "name": "stdout",
     "output_type": "stream",
     "text": [
      "Training set size: 50\n",
      "Gold set size: 49\n",
      "Positive labels in gold set: 49\n",
      "Negative labels in gold set: 0\n"
     ]
    }
   ],
   "source": [
    "import numpy as np\n",
    "\n",
    "# Split into train and test set\n",
    "training_candidates = []\n",
    "gold_candidates     = []\n",
    "gold_labels         = []\n",
    "n_half = len(candidates)/2\n",
    "for c in candidates[:n_half]:\n",
    "    if c.uid in gt_dict:\n",
    "        gold_candidates.append(c)\n",
    "        gold_labels.append(gt_dict[c.uid])\n",
    "    else:\n",
    "        training_candidates.append(c)\n",
    "training_candidates.extend(candidates[n_half:])\n",
    "gold_labels = np.array(gold_labels)\n",
    "print \"Training set size: %s\" % len(training_candidates)\n",
    "print \"Gold set size: %s\" % len(gold_candidates)\n",
    "print \"Positive labels in gold set: %s\" % len([c for c in gold_candidates if gt_dict[c.uid]==1])\n",
    "print \"Negative labels in gold set: %s\" % len([c for c in gold_candidates if gt_dict[c.uid]==-1])"
   ]
  },
  {
   "cell_type": "code",
   "execution_count": 32,
   "metadata": {
    "collapsed": false
   },
   "outputs": [],
   "source": [
    "# Part number LFs\n",
    "# TODO\n",
    "\n",
    "# Temperature LFs\n",
    "def LF_to_range(m):\n",
    "    return 1 if 'to' in m.span1.pre_window('words') else 0\n",
    "def LF_tilde_range(m):\n",
    "    return 1 if '~' in m.span1.pre_window('words') else 0\n",
    "def LF_storage(m):\n",
    "    return 1 if 'storage' in m.span1.aligned_ngrams('words') else -1\n",
    "def LF_tstg(m):\n",
    "    return 1 if 'tstg' in m.span1.aligned_ngrams('words') else -1\n",
    "def LF_tj(m):\n",
    "    return 1 if 'tj' in m.span1.aligned_ngrams('words') else -1\n",
    "def LF_temperature(m):\n",
    "    return 1 if 'temperature' in m.span1.aligned_ngrams('words') else -1\n",
    "def LF_celsius(m):\n",
    "    return 1 if 'c' in m.span1.aligned_ngrams('words') else 0\n",
    "def LF_max(m):\n",
    "    return 1 if 'max' in m.span1.aligned_ngrams('lemmas') else 0\n",
    "def LF_min(m):\n",
    "    return 1 if 'min' in m.span1.aligned_ngrams('lemmas') else 0\n",
    "\n",
    "# Combined LFs\n",
    "def LF_same_row(m):\n",
    "    return 1 if m.span0.context.row_num == m.span1.context.row_num else 0\n",
    "def LF_same_col(m):\n",
    "    return 1 if m.span0.context.col_num == m.span1.context.col_num else 0\n",
    "\n",
    "# NOTE: don't forget to add LF name to LFs below"
   ]
  },
  {
   "cell_type": "code",
   "execution_count": 33,
   "metadata": {
    "collapsed": false
   },
   "outputs": [],
   "source": [
    "LFs = [LF_to_range, LF_tilde_range, LF_storage, LF_tstg, LF_tj, LF_temperature, \n",
    "       LF_max, LF_min, LF_same_row, LF_same_col]"
   ]
  },
  {
   "cell_type": "code",
   "execution_count": 34,
   "metadata": {
    "collapsed": false
   },
   "outputs": [
    {
     "name": "stdout",
     "output_type": "stream",
     "text": [
      "Applying LFs...\n",
      "Featurizing...\n",
      "============================================================\n",
      "LF Summary Statistics: 10 LFs applied to 50 candidates\n",
      "------------------------------------------------------------\n",
      "Coverage (candidates w/ > 0 labels):\t\t100.00%\n",
      "Overlap (candidates w/ > 1 labels):\t\t100.00%\n",
      "Conflict (candidates w/ conflicting labels):\t70.00%\n",
      "============================================================\n"
     ]
    }
   ],
   "source": [
    "from snorkel.snorkel import TrainingSet\n",
    "from snorkel.features import NgramFeaturizer\n",
    "\n",
    "training_set = TrainingSet(training_candidates, LFs, featurizer=TableNgramPairFeaturizer())"
   ]
  },
  {
   "cell_type": "code",
   "execution_count": 35,
   "metadata": {
    "collapsed": false
   },
   "outputs": [
    {
     "data": {
      "text/html": [
       "<div style=\"max-height:1000px;max-width:1500px;overflow:auto;\">\n",
       "<table border=\"1\" class=\"dataframe\">\n",
       "  <thead>\n",
       "    <tr style=\"text-align: right;\">\n",
       "      <th></th>\n",
       "      <th>conflicts</th>\n",
       "      <th>coverage</th>\n",
       "      <th>j</th>\n",
       "      <th>overlaps</th>\n",
       "    </tr>\n",
       "  </thead>\n",
       "  <tbody>\n",
       "    <tr>\n",
       "      <th>LF_to_range</th>\n",
       "      <td> 0.0</td>\n",
       "      <td> 0</td>\n",
       "      <td> 0</td>\n",
       "      <td> 0</td>\n",
       "    </tr>\n",
       "    <tr>\n",
       "      <th>LF_tilde_range</th>\n",
       "      <td> 0.0</td>\n",
       "      <td> 0</td>\n",
       "      <td> 1</td>\n",
       "      <td> 0</td>\n",
       "    </tr>\n",
       "    <tr>\n",
       "      <th>LF_storage</th>\n",
       "      <td> 0.7</td>\n",
       "      <td> 1</td>\n",
       "      <td> 2</td>\n",
       "      <td> 1</td>\n",
       "    </tr>\n",
       "    <tr>\n",
       "      <th>LF_tstg</th>\n",
       "      <td> 0.7</td>\n",
       "      <td> 1</td>\n",
       "      <td> 3</td>\n",
       "      <td> 1</td>\n",
       "    </tr>\n",
       "    <tr>\n",
       "      <th>LF_tj</th>\n",
       "      <td> 0.7</td>\n",
       "      <td> 1</td>\n",
       "      <td> 4</td>\n",
       "      <td> 1</td>\n",
       "    </tr>\n",
       "  </tbody>\n",
       "</table>\n",
       "<p>5 rows × 4 columns</p>\n",
       "</div>"
      ],
      "text/plain": [
       "                conflicts  coverage  j  overlaps\n",
       "LF_to_range           0.0         0  0         0\n",
       "LF_tilde_range        0.0         0  1         0\n",
       "LF_storage            0.7         1  2         1\n",
       "LF_tstg               0.7         1  3         1\n",
       "LF_tj                 0.7         1  4         1\n",
       "\n",
       "[5 rows x 4 columns]"
      ]
     },
     "execution_count": 35,
     "metadata": {},
     "output_type": "execute_result"
    }
   ],
   "source": [
    "lf_stats = training_set.lf_stats()\n",
    "lf_stats[:5]"
   ]
  },
  {
   "cell_type": "code",
   "execution_count": 36,
   "metadata": {
    "collapsed": false
   },
   "outputs": [
    {
     "data": {
      "text/plain": [
       "array([[<matplotlib.axes.AxesSubplot object at 0x10c3ca9d0>]], dtype=object)"
      ]
     },
     "execution_count": 36,
     "metadata": {},
     "output_type": "execute_result"
    }
   ],
   "source": [
    "lf_stats.hist(\"coverage\")"
   ]
  },
  {
   "cell_type": "code",
   "execution_count": 42,
   "metadata": {
    "collapsed": true
   },
   "outputs": [],
   "source": [
    "from snorkel.snorkel import Learner\n",
    "from snorkel.learning import LogReg\n",
    "\n",
    "learner = Learner(training_set, model=LogReg(bias_term=True))"
   ]
  },
  {
   "cell_type": "code",
   "execution_count": 65,
   "metadata": {
    "collapsed": true
   },
   "outputs": [],
   "source": [
    "# Splitting into CV and test set\n",
    "n_half = len(gold_candidates)/2\n",
    "test_candidates = gold_candidates[:n_half]\n",
    "test_labels     = gold_labels[:n_half]\n",
    "cv_candidates   = gold_candidates[n_half:]\n",
    "cv_labels       = gold_labels[n_half:]"
   ]
  },
  {
   "cell_type": "code",
   "execution_count": 66,
   "metadata": {
    "collapsed": false
   },
   "outputs": [
    {
     "name": "stdout",
     "output_type": "stream",
     "text": [
      "============================================================\n",
      "Testing mu = 1.00e-05, lf_w0 = 1.00e+00\n",
      "============================================================\n",
      "Begin training for rate=0.01, mu=1e-05\n",
      "\tLearning epoch = 0\tGradient mag. = 0.065703\n",
      "\tLearning epoch = 250\tGradient mag. = 0.270417\n",
      "\tLearning epoch = 500\tGradient mag. = 0.273650\n",
      "\tLearning epoch = 750\tGradient mag. = 0.273008\n",
      "Final gradient magnitude for rate=0.01, mu=1e-05: 0.272\n",
      "Applying LFs...\n",
      "Featurizing...\n",
      "25\n",
      "(25, 10)\n",
      "(25, 1319)\n",
      "============================================================\n",
      "Testing mu = 1.00e-05, lf_w0 = 2.00e+00\n",
      "============================================================\n",
      "Begin training for rate=0.01, mu=1e-05\n",
      "\tLearning epoch = 0\tGradient mag. = 0.122672\n",
      "\tLearning epoch = 250\tGradient mag. = 0.273886\n",
      "\tLearning epoch = 500\tGradient mag. = 0.273244\n",
      "\tLearning epoch = 750\tGradient mag. = 0.272605\n",
      "Final gradient magnitude for rate=0.01, mu=1e-05: 0.272\n",
      "============================================================\n",
      "Testing mu = 1.00e-07, lf_w0 = 1.00e+00\n",
      "============================================================\n",
      "Begin training for rate=0.01, mu=1e-07\n",
      "\tLearning epoch = 0\tGradient mag. = 0.065703\n",
      "\tLearning epoch = 250\tGradient mag. = 0.270423\n",
      "\tLearning epoch = 500\tGradient mag. = 0.273648\n",
      "\tLearning epoch = 750\tGradient mag. = 0.273007\n",
      "Final gradient magnitude for rate=0.01, mu=1e-07: 0.272\n",
      "============================================================\n",
      "Testing mu = 1.00e-07, lf_w0 = 2.00e+00\n",
      "============================================================\n",
      "Begin training for rate=0.01, mu=1e-07\n",
      "\tLearning epoch = 0\tGradient mag. = 0.122672\n",
      "\tLearning epoch = 250\tGradient mag. = 0.273885\n",
      "\tLearning epoch = 500\tGradient mag. = 0.273244\n",
      "\tLearning epoch = 750\tGradient mag. = 0.272604\n",
      "Final gradient magnitude for rate=0.01, mu=1e-07: 0.272\n"
     ]
    }
   ],
   "source": [
    "from snorkel.learning_utils import GridSearch\n",
    "\n",
    "gs       = GridSearch(learner, ['mu', 'lf_w0'], [[1e-5, 1e-7],[1.0,2.0]])\n",
    "gs_stats = gs.fit(cv_candidates, cv_labels)"
   ]
  },
  {
   "cell_type": "code",
   "execution_count": 67,
   "metadata": {
    "collapsed": false
   },
   "outputs": [
    {
     "data": {
      "text/html": [
       "<div style=\"max-height:1000px;max-width:1500px;overflow:auto;\">\n",
       "<table border=\"1\" class=\"dataframe\">\n",
       "  <thead>\n",
       "    <tr style=\"text-align: right;\">\n",
       "      <th></th>\n",
       "      <th>mu</th>\n",
       "      <th>lf_w0</th>\n",
       "      <th>Prec.</th>\n",
       "      <th>Rec.</th>\n",
       "      <th>F1</th>\n",
       "    </tr>\n",
       "  </thead>\n",
       "  <tbody>\n",
       "    <tr>\n",
       "      <th>0</th>\n",
       "      <td> 0.00001</td>\n",
       "      <td> 1</td>\n",
       "      <td> 1</td>\n",
       "      <td> 0.4</td>\n",
       "      <td> 0.571429</td>\n",
       "    </tr>\n",
       "    <tr>\n",
       "      <th>1</th>\n",
       "      <td> 0.00001</td>\n",
       "      <td> 2</td>\n",
       "      <td> 1</td>\n",
       "      <td> 0.4</td>\n",
       "      <td> 0.571429</td>\n",
       "    </tr>\n",
       "    <tr>\n",
       "      <th>2</th>\n",
       "      <td> 0.00000</td>\n",
       "      <td> 1</td>\n",
       "      <td> 1</td>\n",
       "      <td> 0.4</td>\n",
       "      <td> 0.571429</td>\n",
       "    </tr>\n",
       "    <tr>\n",
       "      <th>3</th>\n",
       "      <td> 0.00000</td>\n",
       "      <td> 2</td>\n",
       "      <td> 1</td>\n",
       "      <td> 0.4</td>\n",
       "      <td> 0.571429</td>\n",
       "    </tr>\n",
       "  </tbody>\n",
       "</table>\n",
       "<p>4 rows × 5 columns</p>\n",
       "</div>"
      ],
      "text/plain": [
       "        mu  lf_w0  Prec.  Rec.        F1\n",
       "0  0.00001      1      1   0.4  0.571429\n",
       "1  0.00001      2      1   0.4  0.571429\n",
       "2  0.00000      1      1   0.4  0.571429\n",
       "3  0.00000      2      1   0.4  0.571429\n",
       "\n",
       "[4 rows x 5 columns]"
      ]
     },
     "execution_count": 67,
     "metadata": {},
     "output_type": "execute_result"
    }
   ],
   "source": [
    "gs_stats"
   ]
  },
  {
   "cell_type": "code",
   "execution_count": 76,
   "metadata": {
    "collapsed": false
   },
   "outputs": [
    {
     "name": "stdout",
     "output_type": "stream",
     "text": [
      "[1 1 1 1 1 1 1 1 1 1 1 1 1 1 1 1 1 1 1 1 1 1 1 1]\n",
      "[ True  True  True  True  True  True  True  True  True  True  True  True\n",
      "  True  True  True  True  True  True  True  True  True  True  True  True]\n",
      "[False False False False False False False False False False False False\n",
      " False False False False False False False False False False False False]\n",
      "[False False False False False False False False False False False False\n",
      " False False False False False False False False False False False False]\n",
      "0\n",
      "========================================\n",
      "Test set size:\t24\n",
      "----------------------------------------\n",
      "Precision:\tnan\n",
      "Recall:\t\t0.0\n",
      "F1 Score:\tnan\n",
      "----------------------------------------\n",
      "TP: 0 | FP: 0 | TN: 0 | FN: 24\n",
      "========================================\n"
     ]
    }
   ],
   "source": [
    "learner.test(test_candidates, test_labels)"
   ]
  },
  {
   "cell_type": "code",
   "execution_count": 69,
   "metadata": {
    "collapsed": false
   },
   "outputs": [
    {
     "ename": "AttributeError",
     "evalue": "'TableNgramPairFeaturizer' object has no attribute 'inv_index'",
     "output_type": "error",
     "traceback": [
      "\u001b[0;31m---------------------------------------------------------------------------\u001b[0m",
      "\u001b[0;31mAttributeError\u001b[0m                            Traceback (most recent call last)",
      "\u001b[0;32m<ipython-input-69-261db0bc6e80>\u001b[0m in \u001b[0;36m<module>\u001b[0;34m()\u001b[0m\n\u001b[0;32m----> 1\u001b[0;31m \u001b[0mlearner\u001b[0m\u001b[0;34m.\u001b[0m\u001b[0mfeature_stats\u001b[0m\u001b[0;34m(\u001b[0m\u001b[0mn_max\u001b[0m\u001b[0;34m=\u001b[0m\u001b[0;36m10\u001b[0m\u001b[0;34m)\u001b[0m\u001b[0;34m\u001b[0m\u001b[0m\n\u001b[0m",
      "\u001b[0;32m/Users/kuleshov/work/gwasdb/snorkel/snorkel/snorkel.py\u001b[0m in \u001b[0;36mfeature_stats\u001b[0;34m(self, n_max)\u001b[0m\n\u001b[1;32m    186\u001b[0m         \u001b[0midxs\u001b[0m \u001b[0;34m=\u001b[0m \u001b[0mnp\u001b[0m\u001b[0;34m.\u001b[0m\u001b[0margsort\u001b[0m\u001b[0;34m(\u001b[0m\u001b[0mnp\u001b[0m\u001b[0;34m.\u001b[0m\u001b[0mabs\u001b[0m\u001b[0;34m(\u001b[0m\u001b[0mself\u001b[0m\u001b[0;34m.\u001b[0m\u001b[0mfeature_weights\u001b[0m\u001b[0;34m(\u001b[0m\u001b[0;34m)\u001b[0m\u001b[0;34m)\u001b[0m\u001b[0;34m)\u001b[0m\u001b[0;34m[\u001b[0m\u001b[0;34m:\u001b[0m\u001b[0;34m:\u001b[0m\u001b[0;34m-\u001b[0m\u001b[0;36m1\u001b[0m\u001b[0;34m]\u001b[0m\u001b[0;34m[\u001b[0m\u001b[0;34m:\u001b[0m\u001b[0mn_max\u001b[0m\u001b[0;34m]\u001b[0m\u001b[0;34m\u001b[0m\u001b[0m\n\u001b[1;32m    187\u001b[0m         \u001b[0md\u001b[0m \u001b[0;34m=\u001b[0m \u001b[0;34m{\u001b[0m\u001b[0;34m'j'\u001b[0m\u001b[0;34m:\u001b[0m \u001b[0midxs\u001b[0m\u001b[0;34m,\u001b[0m \u001b[0;34m'w'\u001b[0m\u001b[0;34m:\u001b[0m \u001b[0;34m[\u001b[0m\u001b[0mself\u001b[0m\u001b[0;34m.\u001b[0m\u001b[0mfeature_weights\u001b[0m\u001b[0;34m(\u001b[0m\u001b[0;34m)\u001b[0m\u001b[0;34m[\u001b[0m\u001b[0mi\u001b[0m\u001b[0;34m]\u001b[0m \u001b[0;32mfor\u001b[0m \u001b[0mi\u001b[0m \u001b[0;32min\u001b[0m \u001b[0midxs\u001b[0m\u001b[0;34m]\u001b[0m\u001b[0;34m}\u001b[0m\u001b[0;34m\u001b[0m\u001b[0m\n\u001b[0;32m--> 188\u001b[0;31m         \u001b[0;32mreturn\u001b[0m \u001b[0mDataFrame\u001b[0m\u001b[0;34m(\u001b[0m\u001b[0mdata\u001b[0m\u001b[0;34m=\u001b[0m\u001b[0md\u001b[0m\u001b[0;34m,\u001b[0m \u001b[0mindex\u001b[0m\u001b[0;34m=\u001b[0m\u001b[0;34m[\u001b[0m\u001b[0mself\u001b[0m\u001b[0;34m.\u001b[0m\u001b[0mtraining_set\u001b[0m\u001b[0;34m.\u001b[0m\u001b[0mfeaturizer\u001b[0m\u001b[0;34m.\u001b[0m\u001b[0minv_index\u001b[0m\u001b[0;34m[\u001b[0m\u001b[0mi\u001b[0m\u001b[0;34m]\u001b[0m \u001b[0;32mfor\u001b[0m \u001b[0mi\u001b[0m \u001b[0;32min\u001b[0m \u001b[0midxs\u001b[0m\u001b[0;34m]\u001b[0m\u001b[0;34m)\u001b[0m\u001b[0;34m\u001b[0m\u001b[0m\n\u001b[0m\u001b[1;32m    189\u001b[0m \u001b[0;34m\u001b[0m\u001b[0m\n\u001b[1;32m    190\u001b[0m \u001b[0;34m\u001b[0m\u001b[0m\n",
      "\u001b[0;31mAttributeError\u001b[0m: 'TableNgramPairFeaturizer' object has no attribute 'inv_index'"
     ]
    }
   ],
   "source": [
    "learner.feature_stats(n_max=10)"
   ]
  },
  {
   "cell_type": "code",
   "execution_count": null,
   "metadata": {
    "collapsed": true
   },
   "outputs": [],
   "source": []
  }
 ],
 "metadata": {
  "kernelspec": {
   "display_name": "Python 2",
   "language": "python",
   "name": "python2"
  },
  "language_info": {
   "codemirror_mode": {
    "name": "ipython",
    "version": 2
   },
   "file_extension": ".py",
   "mimetype": "text/x-python",
   "name": "python",
   "nbconvert_exporter": "python",
   "pygments_lexer": "ipython2",
   "version": "2.7.2"
  }
 },
 "nbformat": 4,
 "nbformat_minor": 0
}
