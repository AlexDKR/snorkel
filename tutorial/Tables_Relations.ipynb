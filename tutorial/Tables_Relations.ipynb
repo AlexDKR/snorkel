{
 "cells": [
  {
   "cell_type": "markdown",
   "metadata": {},
   "source": [
    "# Relation Extraction from Tables\n",
    "\n",
    "This notebook demonstrates the full extraction and learning process for _relations_ in tables with a data set of transistor spec sheets, extracting (temperature label, min storage temperature) pairs. (Eventually, this tutorial will be updated to extract (part number, min storage temperature) pairs."
   ]
  },
  {
   "cell_type": "code",
   "execution_count": null,
   "metadata": {
    "collapsed": false
   },
   "outputs": [],
   "source": [
    "%load_ext autoreload\n",
    "%autoreload 2"
   ]
  },
  {
   "cell_type": "markdown",
   "metadata": {},
   "source": [
    "### Extraction"
   ]
  },
  {
   "cell_type": "markdown",
   "metadata": {},
   "source": [
    "Use this option if you would like to unpickle a previously parsed corpus, (i.e., the corpus from the Entity Extraction notebook)."
   ]
  },
  {
   "cell_type": "code",
   "execution_count": 1,
   "metadata": {
    "collapsed": false
   },
   "outputs": [
    {
     "name": "stdout",
     "output_type": "stream",
     "text": [
      "CPU times: user 6.23 s, sys: 100 ms, total: 6.33 s\n",
      "Wall time: 9.72 s\n",
      "Corpus has been parsed.\n"
     ]
    }
   ],
   "source": [
    "load_pickle = False\n",
    "corpus_loaded = False\n",
    "\n",
    "if load_pickle:\n",
    "    try:\n",
    "        import cPickle\n",
    "        with open(\"data/hardware/hardware_corpus.pkl\",\"r\") as pkl:\n",
    "            %time corpus = cPickle.load(pkl)\n",
    "        corpus_loaded = True\n",
    "        print \"Corpus has been loaded.\"\n",
    "    except:\n",
    "        print \"Corpus could not be loaded.\"\n",
    "        print \"Corpus will be parsed instead...\"\n",
    "if not corpus_loaded:\n",
    "    from snorkel.parser import CorpusParser\n",
    "    from snorkel.parser import HTMLParser\n",
    "    from snorkel.parser import TableParser\n",
    "\n",
    "    html_parser = HTMLParser(path='data/hardware/hardware_html/')\n",
    "    table_parser = TableParser()\n",
    "\n",
    "    cp = CorpusParser(html_parser, table_parser, max_docs=15)\n",
    "    %time corpus = cp.parse_corpus(name='Hardware Corpus')\n",
    "    print \"Corpus has been parsed.\""
   ]
  },
  {
   "cell_type": "markdown",
   "metadata": {},
   "source": [
    "We now create two EntityExtractor objects, one for each component in the relation."
   ]
  },
  {
   "cell_type": "code",
   "execution_count": 2,
   "metadata": {
    "collapsed": false,
    "scrolled": true
   },
   "outputs": [
    {
     "name": "stdout",
     "output_type": "stream",
     "text": [
      "Loaded 179 part numbers.\n"
     ]
    }
   ],
   "source": [
    "from snorkel.candidates import TableNgrams, EntityExtractor, RelationExtractor\n",
    "from snorkel.matchers import RegexMatchEach, DictionaryMatch, RangeMatcher\n",
    "from load_dictionaries import load_hardware_dictionary\n",
    "\n",
    "# Select a CandidateSpace\n",
    "table_ngrams = TableNgrams(n_max=2)\n",
    "\n",
    "# Entity Extractor 1: Part numbers\n",
    "parts = load_hardware_dictionary()\n",
    "print \"Loaded %s part numbers.\" % len(parts)\n",
    "\n",
    "# NOTE: this will not catch items in ranges (e.g., BC546-BC548) or lists (e.g., BC546/547/548)\n",
    "part_matcher = DictionaryMatch(d=parts, longest_match_only=False)\n",
    "part_extractor = EntityExtractor(table_ngrams, part_matcher)\n",
    "\n",
    "# Entity Extractor 2: Temperatures (min storage temperature)\n",
    "# temp_matcher = RangeMatcher(low=140,high=160)\n",
    "temp_matcher = RegexMatchEach(rgx=r'1[3-7][05]', attrib='words')\n",
    "temp_extractor = EntityExtractor(table_ngrams, temp_matcher)\n",
    "\n",
    "# Relation Extractor:\n",
    "relation_extractor = RelationExtractor(part_extractor, temp_extractor)"
   ]
  },
  {
   "cell_type": "code",
   "execution_count": 3,
   "metadata": {
    "collapsed": false,
    "scrolled": true
   },
   "outputs": [
    {
     "name": "stdout",
     "output_type": "stream",
     "text": [
      "CPU times: user 1.54 s, sys: 18.9 ms, total: 1.56 s\n",
      "Wall time: 1.56 s\n",
      "SpanPair(Span(\"BC546\", context=None, chars=[122,126], words=[24,24]), Span(\"150\", context=None, chars=[0,2], words=[0,0]))\n",
      "SpanPair(Span(\"BC546\", context=None, chars=[122,126], words=[24,24]), Span(\"150\", context=None, chars=[0,2], words=[0,0]))\n",
      "SpanPair(Span(\"BC546\", context=None, chars=[122,126], words=[24,24]), Span(\"150\", context=None, chars=[0,2], words=[0,0]))\n",
      "SpanPair(Span(\"BC547\", context=None, chars=[0,4], words=[0,0]), Span(\"150\", context=None, chars=[0,2], words=[0,0]))\n",
      "SpanPair(Span(\"BC547\", context=None, chars=[0,4], words=[0,0]), Span(\"150\", context=None, chars=[0,2], words=[0,0]))\n",
      "SpanPair(Span(\"BC547\", context=None, chars=[0,4], words=[0,0]), Span(\"150\", context=None, chars=[0,2], words=[0,0]))\n",
      "SpanPair(Span(\"BC548\", context=None, chars=[0,4], words=[0,0]), Span(\"150\", context=None, chars=[0,2], words=[0,0]))\n",
      "SpanPair(Span(\"BC548\", context=None, chars=[0,4], words=[0,0]), Span(\"150\", context=None, chars=[0,2], words=[0,0]))\n",
      "SpanPair(Span(\"BC548\", context=None, chars=[0,4], words=[0,0]), Span(\"150\", context=None, chars=[0,2], words=[0,0]))\n",
      "SpanPair(Span(\"BC546\", context=None, chars=[112,116], words=[22,22]), Span(\"150\", context=None, chars=[0,2], words=[0,0]))\n",
      "99 candidates extracted\n"
     ]
    }
   ],
   "source": [
    "# %time candidates = temp_extractor.extract(corpus.get_tables(), name='all')\n",
    "%time candidates = relation_extractor.extract(corpus.get_tables(), name='all')\n",
    "\n",
    "for cand in candidates[:10]: \n",
    "    print cand\n",
    "print \"%s candidates extracted\" % len(candidates)"
   ]
  },
  {
   "cell_type": "code",
   "execution_count": 4,
   "metadata": {
    "collapsed": false
   },
   "outputs": [
    {
     "data": {
      "text/plain": [
       "Span(\"BC546\", context=None, chars=[122,126], words=[24,24])"
      ]
     },
     "execution_count": 4,
     "metadata": {},
     "output_type": "execute_result"
    }
   ],
   "source": [
    "candidates[0].span0"
   ]
  },
  {
   "cell_type": "code",
   "execution_count": null,
   "metadata": {
    "collapsed": false
   },
   "outputs": [],
   "source": [
    "from utils import collect_hardware_relation_gold\n",
    "filename = 'data/hardware/gold_all.csv'\n",
    "gt_dict = collect_hardware_relation_gold(filename, 'stg_temp_max', candidates)\n",
    "print \"%s out of %s candidates have gold labels\" % (len(gt_dict),len(candidates))\n",
    "print \"%s out of %s labeled candidates have positive label\" \\\n",
    "        % (gt_dict.values().count(1), len(gt_dict))"
   ]
  },
  {
   "cell_type": "code",
   "execution_count": null,
   "metadata": {
    "collapsed": false
   },
   "outputs": [],
   "source": [
    "from snorkel.features import TableNgramPairFeaturizer\n",
    "featurizer = TableNgramPairFeaturizer()\n",
    "featurizer.fit_transform(candidates)\n",
    "for f in featurizer.get_features_by_candidate(candidates[0])[:10]: print f\n",
    "for in featurizer.get_features_by_candidate(candidates[0])[-10:]: print f"
   ]
  },
  {
   "cell_type": "code",
   "execution_count": null,
   "metadata": {
    "collapsed": false
   },
   "outputs": [],
   "source": [
    "from snorkel.snorkel import DDLiteModel\n",
    "DDL = DDLiteModel(candidates, featurizer.fit_transform(candidates), gt_dict)\n",
    "\n",
    "DDL.set_holdout(idxs=range(int(len(gt_dict)*.5)), validation_frac=0.5)\n",
    "print \"%s training data\" % len(DDL.gt.get_labeled_ground_truth('training')[0])\n",
    "print \"%s test data\" % len(DDL.gt.get_labeled_ground_truth('test')[0])\n",
    "print \"%s validation data\" % len(DDL.gt.get_labeled_ground_truth('validation')[0])"
   ]
  },
  {
   "cell_type": "code",
   "execution_count": null,
   "metadata": {
    "collapsed": false
   },
   "outputs": [],
   "source": [
    "# Part number LFs\n",
    "# TODO\n",
    "\n",
    "# Temperature LFs\n",
    "def LF_to_range(m):\n",
    "    return 1 if 'to' in m.ngram1.pre_window('words') else 0\n",
    "def LF_tilde_range(m):\n",
    "    return 1 if '~' in m.ngram1.pre_window('words') else 0\n",
    "def LF_storage(m):\n",
    "    return 1 if 'storage' in m.ngram1.aligned_ngrams('words') else -1\n",
    "def LF_tstg(m):\n",
    "    return 1 if 'tstg' in m.ngram1.aligned_ngrams('words') else -1\n",
    "def LF_tj(m):\n",
    "    return 1 if 'tj' in m.ngram1.aligned_ngrams('words') else -1\n",
    "def LF_temperature(m):\n",
    "    return 1 if 'temperature' in m.ngram1.aligned_ngrams('words') else -1\n",
    "def LF_celsius(m):\n",
    "    return 1 if 'c' in m.ngram1.aligned_ngrams('words') else 0\n",
    "def LF_max(m):\n",
    "    return 1 if 'max' in m.ngram1.aligned_ngrams('lemmas') else 0\n",
    "def LF_min(m):\n",
    "    return 1 if 'min' in m.ngram1.aligned_ngrams('lemmas') else 0\n",
    "\n",
    "# Combined LFs\n",
    "def LF_same_row(m):\n",
    "    return 1 if m.ngram0.context.row_num == m.ngram1.context.row_num else 0\n",
    "def LF_same_col(m):\n",
    "    return 1 if m.ngram0.context.col_num == m.ngram1.context.col_num else 0\n",
    "\n",
    "# NOTE: don't forget to add LF name to LFs below"
   ]
  },
  {
   "cell_type": "code",
   "execution_count": null,
   "metadata": {
    "collapsed": false
   },
   "outputs": [],
   "source": [
    "LFs = [LF_to_range, LF_tilde_range, LF_storage, LF_tstg, LF_tj, LF_temperature, \n",
    "       LF_max, LF_min, LF_same_row, LF_same_col]\n",
    "DDL.apply_lfs(LFs, clear=True)"
   ]
  },
  {
   "cell_type": "code",
   "execution_count": null,
   "metadata": {
    "collapsed": false
   },
   "outputs": [],
   "source": [
    "print DDL.lf_names\n",
    "DDL.print_lf_stats()"
   ]
  },
  {
   "cell_type": "code",
   "execution_count": null,
   "metadata": {
    "collapsed": false
   },
   "outputs": [],
   "source": [
    "DDL.lowest_coverage_lfs(n=10)"
   ]
  },
  {
   "cell_type": "code",
   "execution_count": null,
   "metadata": {
    "collapsed": false
   },
   "outputs": [],
   "source": [
    "import matplotlib\n",
    "import numpy as np\n",
    "%matplotlib inline\n",
    "matplotlib.rcParams['figure.figsize'] = (12,4)\n",
    "mu_seq = np.ravel([1e-9, 1e-5, 1e-3, 1e-1])\n",
    "lf_opts = {'sample': False, 'verbose': True}\n",
    "model_opts = {'sample': False, 'n_iter': 3000, 'alpha': 0.5, 'mu': mu_seq, 'bias': False, 'verbose': True}\n",
    "%time DDL.train_model(method='lr', lf_opts=lf_opts, model_opts=model_opts)"
   ]
  }
 ],
 "metadata": {
  "kernelspec": {
   "display_name": "Python 2",
   "language": "python",
   "name": "python2"
  },
  "language_info": {
   "codemirror_mode": {
    "name": "ipython",
    "version": 2
   },
   "file_extension": ".py",
   "mimetype": "text/x-python",
   "name": "python",
   "nbconvert_exporter": "python",
   "pygments_lexer": "ipython2",
   "version": "2.7.12"
  }
 },
 "nbformat": 4,
 "nbformat_minor": 0
}
