{
 "cells": [
  {
   "cell_type": "markdown",
   "metadata": {},
   "source": [
    "# Relation Extraction from Tables\n",
    "\n",
    "This notebook demonstrates the full extraction and learning process for _relations_ in tables with a data set of transistor spec sheets, extracting (temperature label, min storage temperature) pairs. (Eventually, this tutorial will be updated to extract (part number, min storage temperature) pairs."
   ]
  },
  {
   "cell_type": "code",
   "execution_count": null,
   "metadata": {
    "collapsed": true
   },
   "outputs": [],
   "source": [
    "%load_ext autoreload\n",
    "%autoreload 2"
   ]
  },
  {
   "cell_type": "markdown",
   "metadata": {},
   "source": [
    "### Extraction"
   ]
  },
  {
   "cell_type": "markdown",
   "metadata": {},
   "source": [
    "Use this option if you would like to unpickle a previously parsed corpus, (i.e., the corpus from the Entity Extraction notebook)."
   ]
  },
  {
   "cell_type": "code",
   "execution_count": 2,
   "metadata": {
    "collapsed": false
   },
   "outputs": [
    {
     "name": "stdout",
     "output_type": "stream",
     "text": [
      "CPU times: user 36.2 s, sys: 1.79 s, total: 38 s\n",
      "Wall time: 38.6 s\n",
      "Corpus has been loaded.\n"
     ]
    }
   ],
   "source": [
    "try:\n",
    "    import cPickle\n",
    "    with open(\"data/hardware/hardware_corpus.pkl\",\"r\") as pkl:\n",
    "        %time corpus = cPickle.load(pkl)\n",
    "    print \"Corpus has been loaded.\"\n",
    "except:\n",
    "    print \"Corpus could not be loaded.\""
   ]
  },
  {
   "cell_type": "markdown",
   "metadata": {},
   "source": [
    "Use this option to extract it again; for example, if you would like to use a different value for `max_docs`."
   ]
  },
  {
   "cell_type": "code",
   "execution_count": 3,
   "metadata": {
    "collapsed": false
   },
   "outputs": [
    {
     "name": "stdout",
     "output_type": "stream",
     "text": [
      "CPU times: user 8.29 s, sys: 439 ms, total: 8.73 s\n",
      "Wall time: 14 s\n",
      "Corpus has been parsed.\n"
     ]
    }
   ],
   "source": [
    "from snorkel.parser import CorpusParser\n",
    "from snorkel.parser import HTMLParser\n",
    "from snorkel.parser import TableParser\n",
    "\n",
    "html_parser = HTMLParser(path='data/hardware/hardware_html/')\n",
    "table_parser = TableParser()\n",
    "\n",
    "cp = CorpusParser(html_parser, table_parser, max_docs=15)\n",
    "%time corpus = cp.parse_corpus(name='Hardware Corpus')\n",
    "\n",
    "print \"Corpus has been parsed.\""
   ]
  },
  {
   "cell_type": "markdown",
   "metadata": {},
   "source": [
    "We now create two EntityExtractor objects, one for each component in the relation."
   ]
  },
  {
   "cell_type": "code",
   "execution_count": 6,
   "metadata": {
    "collapsed": false
   },
   "outputs": [
    {
     "name": "stdout",
     "output_type": "stream",
     "text": [
      "CPU times: user 2.56 s, sys: 48.1 ms, total: 2.61 s\n",
      "Wall time: 2.6 s\n",
      "Ngram(\"-55\", context=None, chars=[297,299], words=[0,0])\n",
      "Ngram(\"-50\", context=None, chars=[414,416], words=[0,0])\n",
      "Ngram(\"-50\", context=None, chars=[494,496], words=[0,0])\n",
      "Ngram(\"-50\", context=None, chars=[683,685], words=[2,2])\n",
      "Ngram(\"-50\", context=None, chars=[854,856], words=[2,2])\n",
      "Ngram(\"-50\", context=None, chars=[991,993], words=[2,2])\n",
      "Ngram(\"-55\", context=None, chars=[294,296], words=[0,0])\n",
      "Ngram(\"-55\", context=None, chars=[292,294], words=[0,0])\n",
      "Ngram(\"-55\", context=None, chars=[355,357], words=[0,0])\n",
      "Ngram(\"-50\", context=None, chars=[410,412], words=[0,0])\n",
      "14 candidates extracted\n"
     ]
    }
   ],
   "source": [
    "from snorkel.candidates import TableNgrams, EntityExtractor\n",
    "from snorkel.matchers import RegexMatch, RangeMatcher\n",
    "\n",
    "# Extractor 1: Part numbers\n",
    "table_ngrams = TableNgrams(n_max=3)\n",
    "eeca = RegexMatchEach(rgx=r'(\\b[b]{1}[abcdefklnpqruyz]{1}[\\swxyz]?[0-9]{3,4}[\\s]?[A-Z]{0,2}[0-9]?([-][A-Z0-9]{1,3})?\\b)', attrib='words', ignore_case=True),\n",
    "eeca_base\n",
    "eeca_suffic\n",
    "matcher = Union(\n",
    "    \n",
    "    RegexMatchEach(rgx=r'')\n",
    ")\n",
    "\n",
    "eeca = re.compile(ur'(\\b[b]{1}[abcdefklnpqruyz]{1}[\\swxyz]?[0-9]{3,4}[\\s]?[A-Z]{0,2}[0-9]?([-][A-Z0-9]{1,3})?\\b)', re.IGNORECASE)\n",
    "eeca_base = re.compile(ur'\\b[b]{1}[abcdefklnpqruyz]{1}[\\swxyz]?[0-9]{3,4}', re.IGNORECASE)\n",
    "eeca_suffix = re.compile(ur'(?:[b]{1}[abcdefklnpqruyz]{1}[0-9]{3,4})([A-Z]{0,2}[0-9]?([-][A-Z0-9]{1,3})?)', re.IGNORECASE)\n",
    "eeca_common = re.compile(ur'(?:^|\\s)(A|B|C|-16|-25|-40)(?:\\s|$)')\n",
    "jedec = re.compile(ur'([123]N\\d{3,4}[A-Z]?\\b)', re.IGNORECASE)\n",
    "jis = re.compile(ur'(2S[abcdefghjkmqrstvz]{1}[\\d]{2,4})', re.IGNORECASE)\n",
    "others = re.compile(ur'((NSVBC|SMBT|MJ|MJE|MPS|MRF|RCA|TIP|ZTX|ZT|TIS|TIPL|DTC|MMBT|PZT){1}[\\d]{2,4}[A-Z]{0,3}([-][A-Z0-9]{0,3})?\\b)', re.IGNORECASE)\n",
    "\n",
    "# Extractor 2: Temperatures (min storage temperature)\n",
    "range_matcher = RangeMatcher(low=-70,high=-50)\n",
    "temp_extractor = EntityExtractor(table_ngrams, range_matcher)\n",
    "\n",
    "%time candidates = temp_extractor.extract(corpus.get_tables(), name='all')\n",
    "for cand in candidates[:10]: \n",
    "    print cand\n",
    "print \"%s candidates extracted\" % len(candidates)"
   ]
  },
  {
   "cell_type": "code",
   "execution_count": null,
   "metadata": {
    "collapsed": true
   },
   "outputs": [],
   "source": []
  }
 ],
 "metadata": {
  "kernelspec": {
   "display_name": "Python 2",
   "language": "python",
   "name": "python2"
  },
  "language_info": {
   "codemirror_mode": {
    "name": "ipython",
    "version": 2
   },
   "file_extension": ".py",
   "mimetype": "text/x-python",
   "name": "python",
   "nbconvert_exporter": "python",
   "pygments_lexer": "ipython2",
   "version": "2.7.12"
  }
 },
 "nbformat": 4,
 "nbformat_minor": 0
}
