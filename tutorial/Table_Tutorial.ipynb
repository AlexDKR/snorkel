{
 "cells": [
  {
   "cell_type": "markdown",
   "metadata": {},
   "source": [
    "# Tutorial, Part I: Candidate Extraction\n",
    "\n",
    "In this example, we'll be writing an application to extract **person-age relationships** from homemade tables, as per the [BioCreative CDR Challenge](http://www.biocreative.org/resources/corpora/biocreative-v-cdr-corpus/).  At core, we will be constructing a model to classify _person-age relation mentions_ as either true or false.  To do this, we first need a set of such candidates- in this notebook, we'll use `Snorkel` utilities to extract person candidates."
   ]
  },
  {
   "cell_type": "markdown",
   "metadata": {},
   "source": [
    "## Loading the Corpus\n",
    "\n",
    "First, we will load and pre-process the corpus, storing it for convenience in a `Corpus` object"
   ]
  },
  {
   "cell_type": "markdown",
   "metadata": {},
   "source": [
    "### Configuring a table parser\n",
    "\n",
    "We'll start by defining an 'HTMLTableParser' class to read HTML tables."
   ]
  },
  {
   "cell_type": "code",
   "execution_count": 1,
   "metadata": {
    "collapsed": false
   },
   "outputs": [
    {
     "name": "stdout",
     "output_type": "stream",
     "text": [
      "The autoreload extension is already loaded. To reload it, use:\n",
      "  %reload_ext autoreload\n"
     ]
    }
   ],
   "source": [
    "%load_ext autoreload\n",
    "%autoreload 2"
   ]
  },
  {
   "cell_type": "code",
   "execution_count": 38,
   "metadata": {
    "collapsed": false
   },
   "outputs": [],
   "source": [
    "from ddlite_parser import HTMLTableParser\n",
    "html_parser = HTMLTableParser(path='data/diseases.xml')"
   ]
  },
  {
   "cell_type": "code",
   "execution_count": 39,
   "metadata": {
    "collapsed": false
   },
   "outputs": [],
   "source": [
    "from ddlite_parser import TableParser\n",
    "table_parser = TableParser()"
   ]
  },
  {
   "cell_type": "code",
   "execution_count": 40,
   "metadata": {
    "collapsed": false
   },
   "outputs": [
    {
     "name": "stdout",
     "output_type": "stream",
     "text": [
      "Parsing documents...\n",
      "Parsing contexts...\n",
      "CPU times: user 54.1 ms, sys: 5.07 ms, total: 59.2 ms\n",
      "Wall time: 85.3 ms\n"
     ]
    }
   ],
   "source": [
    "from ddlite_parser import Corpus\n",
    "%time corpus = Corpus(html_parser, table_parser)"
   ]
  },
  {
   "cell_type": "code",
   "execution_count": 41,
   "metadata": {
    "collapsed": false,
    "scrolled": true
   },
   "outputs": [
    {
     "name": "stdout",
     "output_type": "stream",
     "text": [
      "Loaded 507899 disease phrases!\n"
     ]
    }
   ],
   "source": [
    "from load_dictionaries import load_disease_dictionary\n",
    "\n",
    "# Load the disease phrase dictionary\n",
    "diseases = load_disease_dictionary()\n",
    "print \"Loaded %s disease phrases!\" % len(diseases)"
   ]
  },
  {
   "cell_type": "code",
   "execution_count": 42,
   "metadata": {
    "collapsed": false
   },
   "outputs": [],
   "source": [
    "from ddlite_candidates import CellNgrams\n",
    "from ddlite_matchers import DictionaryMatch\n",
    "\n",
    "# Define a candidate space\n",
    "cell_ngrams = CellNgrams(n_max=3)\n",
    "\n",
    "# Define a matcher\n",
    "disease_matcher = DictionaryMatch(d=diseases, longest_match_only=False)\n",
    "\n",
    "# Define extractor\n",
    "# disease_extractor = EntityExtractor(ngrams, matcher)"
   ]
  },
  {
   "cell_type": "markdown",
   "metadata": {},
   "source": [
    "\n",
    "Note that we set `longest_match_only=False`, which means that we _will_ consider subsequences of phrases that match \n",
    "our dictionary.\n",
    "\n",
    "The `Ngrams` operator is applied over our `Sentence` objects and returns `Ngram` objects, and the `Matcher` then filters these, so we apply our operators over the sentences in the corpus, storing the results in a `Candidates` object for convenience:"
   ]
  },
  {
   "cell_type": "code",
   "execution_count": 43,
   "metadata": {
    "collapsed": false,
    "scrolled": true
   },
   "outputs": [
    {
     "name": "stdout",
     "output_type": "stream",
     "text": [
      "Extracting candidates...\n",
      "CPU times: user 2.65 ms, sys: 640 µs, total: 3.29 ms\n",
      "Wall time: 2.87 ms\n",
      "[]\n",
      "ROW_NUM_0\n",
      "COL_NUM_1\n",
      "HTML_TAG_th\n",
      "HTML_ANC_TAG_tr\n",
      "HTML_ANC_TAG_tbody\n",
      "HTML_ANC_TAG_table\n",
      "HTML_ANC_TAG_body\n",
      "HTML_ANC_ATTR_align=left\n",
      "HTML_ANC_ATTR_size=5\n",
      "HTML_ANC_ATTR_font=blue\n"
     ]
    }
   ],
   "source": [
    "from ddlite_candidates import Candidates\n",
    "%time c = Candidates(cell_ngrams, disease_matcher, corpus.get_sentences())\n",
    "print c.get_candidates()[0].html_attrs\n",
    "for feat in c.get_candidates()[0].get_table_feats():\n",
    "    print feat"
   ]
  },
  {
   "cell_type": "code",
   "execution_count": 10,
   "metadata": {
    "collapsed": false
   },
   "outputs": [
    {
     "name": "stdout",
     "output_type": "stream",
     "text": [
      "Extracting candidates...\n",
      "CPU times: user 3.3 ms, sys: 1.12 ms, total: 4.42 ms\n",
      "Wall time: 3.93 ms\n"
     ]
    },
    {
     "data": {
      "text/plain": [
       "[<CellNgram(\"1914\", id=0-0-5:0-3, chars=[0,3], (row,col)=(1,5), tag=td),\n",
       " <CellNgram(\"1901\", id=0-0-11:0-3, chars=[0,3], (row,col)=(3,5), tag=td),\n",
       " <CellNgram(\"2001\", id=0-0-8:0-3, chars=[0,3], (row,col)=(2,5), tag=td)]"
      ]
     },
     "execution_count": 10,
     "metadata": {},
     "output_type": "execute_result"
    }
   ],
   "source": [
    "# Define another matcher\n",
    "years = [str(x) for x in range(1800,2016)]\n",
    "year_matcher = DictionaryMatch(d=years, longest_match_only=False)\n",
    "\n",
    "%time c = Candidates(cell_ngrams, year_matcher, corpus.get_sentences())\n",
    "c.get_candidates()"
   ]
  },
  {
   "cell_type": "code",
   "execution_count": 54,
   "metadata": {
    "collapsed": false
   },
   "outputs": [
    {
     "name": "stdout",
     "output_type": "stream",
     "text": [
      "Extracting candidates...\n",
      "CPU times: user 14.4 ms, sys: 3.92 ms, total: 18.3 ms\n",
      "Wall time: 15.7 ms\n"
     ]
    },
    {
     "data": {
      "text/plain": [
       "[Relation<Ngram(\"Disease\", id=0-0-0:0-6),Ngram(\"2001\", id=0-0-8:0-3)>,\n",
       " Relation<Ngram(\"Polio\", id=0-0-3:0-4),Ngram(\"2001\", id=0-0-8:0-3)>,\n",
       " Relation<Ngram(\"Polio\", id=0-0-3:0-4),Ngram(\"1914\", id=0-0-5:0-3)>,\n",
       " Relation<Ngram(\"Disease\", id=0-0-0:0-6),Ngram(\"1914\", id=0-0-5:0-3)>,\n",
       " Relation<Ngram(\"Scurvy\", id=0-0-9:0-5),Ngram(\"2001\", id=0-0-8:0-3)>,\n",
       " Relation<Ngram(\"Disease\", id=0-0-0:0-6),Ngram(\"1901\", id=0-0-11:0-3)>,\n",
       " Relation<Ngram(\"Polio\", id=0-0-3:0-4),Ngram(\"1901\", id=0-0-11:0-3)>,\n",
       " Relation<Ngram(\"Chicken Pox\", id=0-0-6:0-10),Ngram(\"2001\", id=0-0-8:0-3)>,\n",
       " Relation<Ngram(\"Chicken Pox\", id=0-0-6:0-10),Ngram(\"1901\", id=0-0-11:0-3)>,\n",
       " Relation<Ngram(\"Scurvy\", id=0-0-9:0-5),Ngram(\"1901\", id=0-0-11:0-3)>,\n",
       " Relation<Ngram(\"Chicken Pox\", id=0-0-6:0-10),Ngram(\"1914\", id=0-0-5:0-3)>,\n",
       " Relation<Ngram(\"Scurvy\", id=0-0-9:0-5),Ngram(\"1914\", id=0-0-5:0-3)>]"
      ]
     },
     "execution_count": 54,
     "metadata": {},
     "output_type": "execute_result"
    }
   ],
   "source": [
    "from ddlite_candidates import RelationExtractor\n",
    "disease_year_extractor = RelationExtractor([disease_extractor, year_extractor])\n",
    "%time c = Candidates(disease_year_extractor, corpus.get_sentences())\n",
    "c.get_candidates()"
   ]
  },
  {
   "cell_type": "code",
   "execution_count": null,
   "metadata": {
    "collapsed": true
   },
   "outputs": [],
   "source": []
  }
 ],
 "metadata": {
  "kernelspec": {
   "display_name": "Python 2",
   "language": "python",
   "name": "python2"
  },
  "language_info": {
   "codemirror_mode": {
    "name": "ipython",
    "version": 2
   },
   "file_extension": ".py",
   "mimetype": "text/x-python",
   "name": "python",
   "nbconvert_exporter": "python",
   "pygments_lexer": "ipython2",
   "version": "2.7.12"
  }
 },
 "nbformat": 4,
 "nbformat_minor": 0
}
