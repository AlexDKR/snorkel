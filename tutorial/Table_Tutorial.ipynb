{
 "cells": [
  {
   "cell_type": "markdown",
   "metadata": {},
   "source": [
    "# Episode 1: The Phantom [Table] Menace\n",
    "\n",
    "This notebook is meant for in-house demonstration of candidate extraction and featurization of tables. It assumes an input file in XHTML format, a strict form of HTML that coincides with XML structure, allowing for easy display (HTML) and safe tree traversal (XML)."
   ]
  },
  {
   "cell_type": "code",
   "execution_count": 1,
   "metadata": {
    "collapsed": false
   },
   "outputs": [
    {
     "name": "stdout",
     "output_type": "stream",
     "text": [
      "The autoreload extension is already loaded. To reload it, use:\n",
      "  %reload_ext autoreload\n"
     ]
    }
   ],
   "source": [
    "%load_ext autoreload\n",
    "%autoreload 2"
   ]
  },
  {
   "cell_type": "markdown",
   "metadata": {},
   "source": [
    "### Candidate Extraction\n",
    "\n",
    "First, import the 'HTMLParser' class to read HTML tables"
   ]
  },
  {
   "cell_type": "code",
   "execution_count": 40,
   "metadata": {
    "collapsed": false
   },
   "outputs": [],
   "source": [
    "from snorkel.parser import HTMLParser\n",
    "html_parser = HTMLParser(path='data/diseases.xhtml')"
   ]
  },
  {
   "cell_type": "markdown",
   "metadata": {},
   "source": [
    "The \"TableParser\" class divides the html doc into cells, adding a 'cell_id' attribute to each cell for future traversal, and creating \"Cell\" objects that have attributes such as row number, column number, html tag, html attributes, and any tags/attributes on a cells ancestors in the table."
   ]
  },
  {
   "cell_type": "code",
   "execution_count": 41,
   "metadata": {
    "collapsed": false
   },
   "outputs": [],
   "source": [
    "from snorkel.parser import TableParser\n",
    "table_parser = TableParser()"
   ]
  },
  {
   "cell_type": "markdown",
   "metadata": {},
   "source": [
    "As usual, pass these to a Corpus object for digestion."
   ]
  },
  {
   "cell_type": "code",
   "execution_count": 42,
   "metadata": {
    "collapsed": false
   },
   "outputs": [
    {
     "name": "stdout",
     "output_type": "stream",
     "text": [
      "Parsing documents...\n",
      "0\n",
      "Parsing contexts...\n",
      "CPU times: user 85.6 ms, sys: 5.34 ms, total: 91 ms\n",
      "Wall time: 134 ms\n"
     ]
    }
   ],
   "source": [
    "from snorkel.parser import Corpus\n",
    "%time corpus = Corpus(html_parser, table_parser)"
   ]
  },
  {
   "cell_type": "markdown",
   "metadata": {},
   "source": [
    "Load the good 'ole disease dictionary for recognizing disease names."
   ]
  },
  {
   "cell_type": "code",
   "execution_count": 8,
   "metadata": {
    "collapsed": false,
    "scrolled": true
   },
   "outputs": [
    {
     "name": "stdout",
     "output_type": "stream",
     "text": [
      "Loaded 507899 disease phrases!\n"
     ]
    }
   ],
   "source": [
    "from load_dictionaries import load_disease_dictionary\n",
    "\n",
    "# Load the disease phrase dictionary\n",
    "diseases = load_disease_dictionary()\n",
    "print \"Loaded %s disease phrases!\" % len(diseases)"
   ]
  },
  {
   "cell_type": "markdown",
   "metadata": {},
   "source": [
    "Here we use a new CandidateSpace object, CellNgrams. It inherits from Ngrams, and ensures that the Table context object is broken up into cells before being passed into the usual routine for pulling out Ngrams."
   ]
  },
  {
   "cell_type": "code",
   "execution_count": 43,
   "metadata": {
    "collapsed": false
   },
   "outputs": [],
   "source": [
    "from snorkel.candidates import CellNgrams\n",
    "from snorkel.matchers import DictionaryMatch\n",
    "\n",
    "# Define a candidate space\n",
    "cell_ngrams = CellNgrams(n_max=3)\n",
    "\n",
    "# Define a matcher\n",
    "disease_matcher = DictionaryMatch(d=diseases, longest_match_only=False)"
   ]
  },
  {
   "cell_type": "markdown",
   "metadata": {},
   "source": [
    "Passing the CandidateSpace, Matcher, and Context objects to a Candidates object, extraction is performed, and we see that a number of disease CellNgrams are returned."
   ]
  },
  {
   "cell_type": "code",
   "execution_count": 52,
   "metadata": {
    "collapsed": false,
    "scrolled": true
   },
   "outputs": [
    {
     "name": "stdout",
     "output_type": "stream",
     "text": [
      "Extracting candidates...\n",
      "CPU times: user 2.73 ms, sys: 734 µs, total: 3.46 ms\n",
      "Wall time: 2.94 ms\n",
      "<CellNgram(\"Hypochondria\", id=0-1-22-0:0-11, chars=[0,11], (row,col)=(3,1), tag=th)\n",
      "<CellNgram(\"Scurvy\", id=0-0-22-0:0-5, chars=[0,5], (row,col)=(3,1), tag=th)\n",
      "<CellNgram(\"Location\", id=0-0-3-0:0-7, chars=[0,7], (row,col)=(0,3), tag=th)\n",
      "<CellNgram(\"Polio\", id=0-0-8-0:0-4, chars=[0,4], (row,col)=(1,1), tag=th)\n",
      "<CellNgram(\"Yellow Fever\", id=0-1-15-0:0-11, chars=[0,11], (row,col)=(2,1), tag=th)\n",
      "<CellNgram(\"Fever\", id=0-1-15-0:7-11, chars=[7,11], (row,col)=(2,1), tag=th)\n",
      "<CellNgram(\"Disease\", id=0-0-1-0:0-6, chars=[0,6], (row,col)=(0,1), tag=th)\n",
      "<CellNgram(\"Problem\", id=0-1-1-0:0-6, chars=[0,6], (row,col)=(0,1), tag=th)\n",
      "<CellNgram(\"Arthritis\", id=0-1-8-0:0-8, chars=[0,8], (row,col)=(1,1), tag=th)\n",
      "<CellNgram(\"Chicken Pox\", id=0-0-15-0:0-10, chars=[0,10], (row,col)=(2,1), tag=th)\n"
     ]
    }
   ],
   "source": [
    "from snorkel.candidates import Candidates\n",
    "%time candidates = Candidates(cell_ngrams, disease_matcher, corpus.get_contexts())\n",
    "for candy in candidates.get_candidates(): print candy"
   ]
  },
  {
   "cell_type": "markdown",
   "metadata": {},
   "source": [
    "### Feature Generation"
   ]
  },
  {
   "cell_type": "markdown",
   "metadata": {},
   "source": [
    "We can then generate features on our set of candidates, including *new and improved* table features!"
   ]
  },
  {
   "cell_type": "code",
   "execution_count": 54,
   "metadata": {
    "collapsed": false
   },
   "outputs": [
    {
     "name": "stdout",
     "output_type": "stream",
     "text": [
      "Extracting features...\n",
      "Extracted 69 features for each of 10 mentions\n"
     ]
    }
   ],
   "source": [
    "from snorkel.features import CellNgramFeaturizer\n",
    "featurizer = CellNgramFeaturizer(candidates, corpus)"
   ]
  },
  {
   "cell_type": "code",
   "execution_count": 55,
   "metadata": {
    "collapsed": false
   },
   "outputs": [
    {
     "data": {
      "text/plain": [
       "['Ngram_features_to_come',\n",
       " 'TABLE_ROW_NUM_1',\n",
       " 'TABLE_COL_NUM_1',\n",
       " 'TABLE_HTML_TAG_th',\n",
       " 'TABLE_HTML_ATTR_c=e=l=l=_=i=d',\n",
       " 'TABLE_HTML_ANC_TAG_tr',\n",
       " 'TABLE_HTML_ANC_TAG_tbody',\n",
       " 'TABLE_HTML_ANC_TAG_table',\n",
       " 'TABLE_HTML_ANC_TAG_body',\n",
       " 'TABLE_HTML_ANC_ATTR_font=blue',\n",
       " u'TABLE_ROW_NGRAM_Polio',\n",
       " u'TABLE_ROW_NGRAM_1914',\n",
       " u'TABLE_ROW_NGRAM_New',\n",
       " u'TABLE_ROW_NGRAM_New York',\n",
       " u'TABLE_ROW_NGRAM_York',\n",
       " u'TABLE_COL_NGRAM_Polio',\n",
       " u'TABLE_COL_NGRAM_Disease',\n",
       " u'TABLE_COL_NGRAM_Scurvy',\n",
       " u'TABLE_COL_NGRAM_Chicken',\n",
       " u'TABLE_COL_NGRAM_Chicken Pox',\n",
       " u'TABLE_COL_NGRAM_Pox']"
      ]
     },
     "execution_count": 55,
     "metadata": {},
     "output_type": "execute_result"
    }
   ],
   "source": [
    "featurizer.get_features_by_id('0-0-8-0:0-4')"
   ]
  },
  {
   "cell_type": "markdown",
   "metadata": {
    "collapsed": true
   },
   "source": [
    "Ta-da! Next up: feeding this features into the learning machine."
   ]
  }
 ],
 "metadata": {
  "kernelspec": {
   "display_name": "Python 2",
   "language": "python",
   "name": "python2"
  },
  "language_info": {
   "codemirror_mode": {
    "name": "ipython",
    "version": 2
   },
   "file_extension": ".py",
   "mimetype": "text/x-python",
   "name": "python",
   "nbconvert_exporter": "python",
   "pygments_lexer": "ipython2",
   "version": "2.7.12"
  }
 },
 "nbformat": 4,
 "nbformat_minor": 0
}
