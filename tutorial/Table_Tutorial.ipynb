{
 "cells": [
  {
   "cell_type": "markdown",
   "metadata": {},
   "source": [
    "# Tutorial, Part I: Candidate Extraction\n",
    "\n",
    "In this example, we'll be writing an application to extract **person-age relationships** from homemade tables, as per the [BioCreative CDR Challenge](http://www.biocreative.org/resources/corpora/biocreative-v-cdr-corpus/).  At core, we will be constructing a model to classify _person-age relation mentions_ as either true or false.  To do this, we first need a set of such candidates- in this notebook, we'll use `Snorkel` utilities to extract person candidates."
   ]
  },
  {
   "cell_type": "markdown",
   "metadata": {},
   "source": [
    "## Loading the Corpus\n",
    "\n",
    "First, we will load and pre-process the corpus, storing it for convenience in a `Corpus` object"
   ]
  },
  {
   "cell_type": "markdown",
   "metadata": {},
   "source": [
    "### Configuring a table parser\n",
    "\n",
    "We'll start by defining an 'HTMLTableParser' class to read HTML tables."
   ]
  },
  {
   "cell_type": "code",
   "execution_count": 1,
   "metadata": {
    "collapsed": false
   },
   "outputs": [],
   "source": [
    "%load_ext autoreload\n",
    "%autoreload 2"
   ]
  },
  {
   "cell_type": "code",
   "execution_count": 2,
   "metadata": {
    "collapsed": false
   },
   "outputs": [],
   "source": [
    "from ddlite_parser import HTMLTableParser\n",
    "html_parser = HTMLTableParser(path='data/diseases_table.xml')"
   ]
  },
  {
   "cell_type": "code",
   "execution_count": 3,
   "metadata": {
    "collapsed": false
   },
   "outputs": [],
   "source": [
    "from ddlite_parser import TableParser\n",
    "table_parser = TableParser()"
   ]
  },
  {
   "cell_type": "code",
   "execution_count": 4,
   "metadata": {
    "collapsed": false
   },
   "outputs": [
    {
     "name": "stdout",
     "output_type": "stream",
     "text": [
      "Parsing documents...\n",
      "Parsing contexts...\n",
      "CPU times: user 56.9 ms, sys: 8.23 ms, total: 65.1 ms\n",
      "Wall time: 92.5 ms\n"
     ]
    }
   ],
   "source": [
    "from ddlite_parser import Corpus\n",
    "%time corpus = Corpus(html_parser, table_parser)"
   ]
  },
  {
   "cell_type": "code",
   "execution_count": 5,
   "metadata": {
    "collapsed": false
   },
   "outputs": [
    {
     "data": {
      "text/plain": [
       "Document(id=0, file='diseases_table.xml', text='<html lang=\"en\">  <table>    <tr>      <th>Disease</th>      <th>Location</th>      <th>Year</th>    </tr>    <tr>      <th>Polio</th>      <td>New York</td>      <td>1914</td>    </tr>    <tr>      <th>Chicken Pox</th>      <td>Boston</td>      <td>2001</td>    </tr>    <tr>      <th>Scurvy</th>      <td>Annapolis</td>      <td>1901</td>    </tr>    <caption>      Table 1: Infectious diseases and where to find them.    </caption>  </table>  <table>    <tr>      <th>Problem</th>      <th>Cause</th>      <th>Cost</th>    </tr>    <tr>      <th>Arthritis</th>      <td>Pokemon Go</td>      <td>Free</td>    </tr>    <tr>      <th>Yellow Fever</th>      <td>Unicorns</td>      <td>$17.75</td>    </tr>    <tr>      <th>Hypochondria</th>      <td>Fear</td>      <td>$100</td>    </tr>    <caption>      Table 2: Three ways to get sick and pay for it.    </caption>  </table></html>', attribs=None)"
      ]
     },
     "execution_count": 5,
     "metadata": {},
     "output_type": "execute_result"
    }
   ],
   "source": [
    "corpus.get_docs()[0]"
   ]
  },
  {
   "cell_type": "code",
   "execution_count": 12,
   "metadata": {
    "collapsed": false,
    "scrolled": true
   },
   "outputs": [
    {
     "name": "stdout",
     "output_type": "stream",
     "text": [
      "Loaded 507899 disease phrases!\n"
     ]
    }
   ],
   "source": [
    "from load_dictionaries import load_disease_dictionary\n",
    "\n",
    "# Load the disease phrase dictionary\n",
    "diseases = load_disease_dictionary()\n",
    "print \"Loaded %s disease phrases!\" % len(diseases)"
   ]
  },
  {
   "cell_type": "code",
   "execution_count": 40,
   "metadata": {
    "collapsed": false
   },
   "outputs": [],
   "source": [
    "from ddlite_candidates import Ngrams, EntityExtractor\n",
    "from ddlite_matchers import DictionaryMatch\n",
    "\n",
    "# Define a candidate space\n",
    "ngrams = Ngrams(n_max=3)\n",
    "\n",
    "# Define a matcher\n",
    "matcher = DictionaryMatch(d=diseases, longest_match_only=False)\n",
    "\n",
    "# Define extractor\n",
    "disease_extractor = EntityExtractor(ngrams, matcher)"
   ]
  },
  {
   "cell_type": "markdown",
   "metadata": {},
   "source": [
    "\n",
    "Note that we set `longest_match_only=False`, which means that we _will_ consider subsequences of phrases that match \n",
    "our dictionary.\n",
    "\n",
    "The `Ngrams` operator is applied over our `Sentence` objects and returns `Ngram` objects, and the `Matcher` then filters these, so we apply our operators over the sentences in the corpus, storing the results in a `Candidates` object for convenience:"
   ]
  },
  {
   "cell_type": "code",
   "execution_count": 41,
   "metadata": {
    "collapsed": false
   },
   "outputs": [
    {
     "data": {
      "text/plain": [
       "[Cell(id='0-0-0', doc_id=0, doc_name='diseases_table.xml', sent_id=0, words=[u'Disease'], lemmas=[u'disease'], poses=[u'NN'], dep_parents=[0], dep_labels=[u'ROOT'], char_offsets=[0], text=u'Disease', cell_id=0, row_num=0, col_num=0, html_tag='th'),\n",
       " Cell(id='0-0-1', doc_id=0, doc_name='diseases_table.xml', sent_id=0, words=[u'Location'], lemmas=[u'Location'], poses=[u'NNP'], dep_parents=[0], dep_labels=[u'ROOT'], char_offsets=[0], text=u'Location', cell_id=1, row_num=0, col_num=1, html_tag='th'),\n",
       " Cell(id='0-0-2', doc_id=0, doc_name='diseases_table.xml', sent_id=0, words=[u'Year'], lemmas=[u'year'], poses=[u'NN'], dep_parents=[0], dep_labels=[u'ROOT'], char_offsets=[0], text=u'Year', cell_id=2, row_num=0, col_num=2, html_tag='th'),\n",
       " Cell(id='0-0-3', doc_id=0, doc_name='diseases_table.xml', sent_id=0, words=[u'Polio'], lemmas=[u'Polio'], poses=[u'NNP'], dep_parents=[0], dep_labels=[u'ROOT'], char_offsets=[0], text=u'Polio', cell_id=3, row_num=1, col_num=0, html_tag='th'),\n",
       " Cell(id='0-0-4', doc_id=0, doc_name='diseases_table.xml', sent_id=0, words=[u'New', u'York'], lemmas=[u'New', u'York'], poses=[u'NNP', u'NNP'], dep_parents=[2, 0], dep_labels=[u'compound', u'ROOT'], char_offsets=[0, 4], text=u'New York', cell_id=4, row_num=1, col_num=1, html_tag='td'),\n",
       " Cell(id='0-0-5', doc_id=0, doc_name='diseases_table.xml', sent_id=0, words=[u'1914'], lemmas=[u'1914'], poses=[u'CD'], dep_parents=[0], dep_labels=[u'ROOT'], char_offsets=[0], text=u'1914', cell_id=5, row_num=1, col_num=2, html_tag='td'),\n",
       " Cell(id='0-0-6', doc_id=0, doc_name='diseases_table.xml', sent_id=0, words=[u'Chicken', u'Pox'], lemmas=[u'Chicken', u'Pox'], poses=[u'NNP', u'NNP'], dep_parents=[2, 0], dep_labels=[u'compound', u'ROOT'], char_offsets=[0, 8], text=u'Chicken Pox', cell_id=6, row_num=2, col_num=0, html_tag='th'),\n",
       " Cell(id='0-0-7', doc_id=0, doc_name='diseases_table.xml', sent_id=0, words=[u'Boston'], lemmas=[u'Boston'], poses=[u'NNP'], dep_parents=[0], dep_labels=[u'ROOT'], char_offsets=[0], text=u'Boston', cell_id=7, row_num=2, col_num=1, html_tag='td'),\n",
       " Cell(id='0-0-8', doc_id=0, doc_name='diseases_table.xml', sent_id=0, words=[u'2001'], lemmas=[u'2001'], poses=[u'CD'], dep_parents=[0], dep_labels=[u'ROOT'], char_offsets=[0], text=u'2001', cell_id=8, row_num=2, col_num=2, html_tag='td'),\n",
       " Cell(id='0-0-9', doc_id=0, doc_name='diseases_table.xml', sent_id=0, words=[u'Scurvy'], lemmas=[u'Scurvy'], poses=[u'NNP'], dep_parents=[0], dep_labels=[u'ROOT'], char_offsets=[0], text=u'Scurvy', cell_id=9, row_num=3, col_num=0, html_tag='th'),\n",
       " Cell(id='0-0-10', doc_id=0, doc_name='diseases_table.xml', sent_id=0, words=[u'Annapolis'], lemmas=[u'Annapolis'], poses=[u'NNP'], dep_parents=[0], dep_labels=[u'ROOT'], char_offsets=[0], text=u'Annapolis', cell_id=10, row_num=3, col_num=1, html_tag='td'),\n",
       " Cell(id='0-0-11', doc_id=0, doc_name='diseases_table.xml', sent_id=0, words=[u'1901'], lemmas=[u'1901'], poses=[u'CD'], dep_parents=[0], dep_labels=[u'ROOT'], char_offsets=[0], text=u'1901', cell_id=11, row_num=3, col_num=2, html_tag='td')]"
      ]
     },
     "execution_count": 41,
     "metadata": {},
     "output_type": "execute_result"
    }
   ],
   "source": [
    "corpus.get_sentences()[0].cells"
   ]
  },
  {
   "cell_type": "code",
   "execution_count": 42,
   "metadata": {
    "collapsed": false,
    "scrolled": true
   },
   "outputs": [
    {
     "name": "stdout",
     "output_type": "stream",
     "text": [
      "Extracting candidates...\n",
      "CPU times: user 2.46 ms, sys: 578 µs, total: 3.04 ms\n",
      "Wall time: 2.54 ms\n"
     ]
    },
    {
     "data": {
      "text/plain": [
       "[<Ngram(\"Disease\", id=0-0-0:0-6, chars=[0,6], words=[0,0]),\n",
       " <Ngram(\"Polio\", id=0-0-3:0-4, chars=[0,4], words=[0,0]),\n",
       " <Ngram(\"Chicken Pox\", id=0-0-6:0-10, chars=[0,10], words=[0,1]),\n",
       " <Ngram(\"Yellow Fever\", id=0-1-6:0-11, chars=[0,11], words=[0,1]),\n",
       " <Ngram(\"Arthritis\", id=0-1-3:0-8, chars=[0,8], words=[0,0]),\n",
       " <Ngram(\"Problem\", id=0-1-0:0-6, chars=[0,6], words=[0,0]),\n",
       " <Ngram(\"Scurvy\", id=0-0-9:0-5, chars=[0,5], words=[0,0]),\n",
       " <Ngram(\"Hypochondria\", id=0-1-9:0-11, chars=[0,11], words=[0,0]),\n",
       " <Ngram(\"Fever\", id=0-1-6:7-11, chars=[7,11], words=[1,1])]"
      ]
     },
     "execution_count": 42,
     "metadata": {},
     "output_type": "execute_result"
    }
   ],
   "source": [
    "from ddlite_candidates import Candidates\n",
    "%time c = Candidates(disease_extractor, corpus.get_sentences())\n",
    "c.get_candidates()"
   ]
  },
  {
   "cell_type": "code",
   "execution_count": 43,
   "metadata": {
    "collapsed": false
   },
   "outputs": [
    {
     "name": "stdout",
     "output_type": "stream",
     "text": [
      "Extracting candidates...\n",
      "CPU times: user 31.5 ms, sys: 1.16 ms, total: 32.7 ms\n",
      "Wall time: 32.5 ms\n"
     ]
    },
    {
     "data": {
      "text/plain": [
       "[<Ngram(\"1914\", id=0-0-5:0-3, chars=[0,3], words=[0,0]),\n",
       " <Ngram(\"1901\", id=0-0-11:0-3, chars=[0,3], words=[0,0]),\n",
       " <Ngram(\"2001\", id=0-0-8:0-3, chars=[0,3], words=[0,0])]"
      ]
     },
     "execution_count": 43,
     "metadata": {},
     "output_type": "execute_result"
    }
   ],
   "source": [
    "# Define another matcher\n",
    "years = [str(x) for x in range(1800,2016)]\n",
    "matcher = DictionaryMatch(d=years, longest_match_only=False)\n",
    "\n",
    "# Define extractor\n",
    "year_extractor = EntityExtractor(ngrams, matcher)\n",
    "\n",
    "%time c = Candidates(year_extractor, corpus.get_sentences())\n",
    "c.get_candidates()"
   ]
  },
  {
   "cell_type": "code",
   "execution_count": 54,
   "metadata": {
    "collapsed": false
   },
   "outputs": [
    {
     "name": "stdout",
     "output_type": "stream",
     "text": [
      "Extracting candidates...\n",
      "CPU times: user 14.4 ms, sys: 3.92 ms, total: 18.3 ms\n",
      "Wall time: 15.7 ms\n"
     ]
    },
    {
     "data": {
      "text/plain": [
       "[Relation<Ngram(\"Disease\", id=0-0-0:0-6),Ngram(\"2001\", id=0-0-8:0-3)>,\n",
       " Relation<Ngram(\"Polio\", id=0-0-3:0-4),Ngram(\"2001\", id=0-0-8:0-3)>,\n",
       " Relation<Ngram(\"Polio\", id=0-0-3:0-4),Ngram(\"1914\", id=0-0-5:0-3)>,\n",
       " Relation<Ngram(\"Disease\", id=0-0-0:0-6),Ngram(\"1914\", id=0-0-5:0-3)>,\n",
       " Relation<Ngram(\"Scurvy\", id=0-0-9:0-5),Ngram(\"2001\", id=0-0-8:0-3)>,\n",
       " Relation<Ngram(\"Disease\", id=0-0-0:0-6),Ngram(\"1901\", id=0-0-11:0-3)>,\n",
       " Relation<Ngram(\"Polio\", id=0-0-3:0-4),Ngram(\"1901\", id=0-0-11:0-3)>,\n",
       " Relation<Ngram(\"Chicken Pox\", id=0-0-6:0-10),Ngram(\"2001\", id=0-0-8:0-3)>,\n",
       " Relation<Ngram(\"Chicken Pox\", id=0-0-6:0-10),Ngram(\"1901\", id=0-0-11:0-3)>,\n",
       " Relation<Ngram(\"Scurvy\", id=0-0-9:0-5),Ngram(\"1901\", id=0-0-11:0-3)>,\n",
       " Relation<Ngram(\"Chicken Pox\", id=0-0-6:0-10),Ngram(\"1914\", id=0-0-5:0-3)>,\n",
       " Relation<Ngram(\"Scurvy\", id=0-0-9:0-5),Ngram(\"1914\", id=0-0-5:0-3)>]"
      ]
     },
     "execution_count": 54,
     "metadata": {},
     "output_type": "execute_result"
    }
   ],
   "source": [
    "from ddlite_candidates import RelationExtractor\n",
    "disease_year_extractor = RelationExtractor([disease_extractor, year_extractor])\n",
    "%time c = Candidates(disease_year_extractor, corpus.get_sentences())\n",
    "c.get_candidates()"
   ]
  },
  {
   "cell_type": "code",
   "execution_count": null,
   "metadata": {
    "collapsed": true
   },
   "outputs": [],
   "source": []
  }
 ],
 "metadata": {
  "kernelspec": {
   "display_name": "Python 2",
   "language": "python",
   "name": "python2"
  },
  "language_info": {
   "codemirror_mode": {
    "name": "ipython",
    "version": 2
   },
   "file_extension": ".py",
   "mimetype": "text/x-python",
   "name": "python",
   "nbconvert_exporter": "python",
   "pygments_lexer": "ipython2",
   "version": "2.7.12"
  }
 },
 "nbformat": 4,
 "nbformat_minor": 0
}
