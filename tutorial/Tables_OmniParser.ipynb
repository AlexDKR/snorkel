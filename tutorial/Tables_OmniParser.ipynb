{
 "cells": [
  {
   "cell_type": "markdown",
   "metadata": {},
   "source": [
    "# Tables OmniParser\n",
    "This notebook is meant for testing and development of an \"OmniParser\" that can parse all components of an HTML document, including the title, captions, sentences, tables, etc."
   ]
  },
  {
   "cell_type": "code",
   "execution_count": null,
   "metadata": {
    "collapsed": false
   },
   "outputs": [],
   "source": [
    "%load_ext autoreload\n",
    "%autoreload 2"
   ]
  },
  {
   "cell_type": "code",
   "execution_count": 23,
   "metadata": {
    "collapsed": false
   },
   "outputs": [],
   "source": [
    "from snorkel.parser import CorpusParser\n",
    "from snorkel.parser import HTMLParser\n",
    "from snorkel.parser import OmniParser\n",
    "doc_parser = HTMLParser(path='data/diseases/diseases_in_hardware.html')\n",
    "context_parser = OmniParser()\n",
    "cp = CorpusParser(doc_parser, context_parser)"
   ]
  },
  {
   "cell_type": "code",
   "execution_count": 24,
   "metadata": {
    "collapsed": false
   },
   "outputs": [
    {
     "name": "stdout",
     "output_type": "stream",
     "text": [
      "CPU times: user 3.37 s, sys: 186 ms, total: 3.56 s\n",
      "Wall time: 7.19 s\n"
     ]
    }
   ],
   "source": [
    "%time corpus = cp.parse_corpus(name='Diseases Corpus')"
   ]
  },
  {
   "cell_type": "code",
   "execution_count": 25,
   "metadata": {
    "collapsed": false
   },
   "outputs": [
    {
     "name": "stdout",
     "output_type": "stream",
     "text": [
      "1\n",
      "9\n",
      "86\n",
      "1321\n"
     ]
    }
   ],
   "source": [
    "print len(corpus.documents)\n",
    "print len(corpus.documents[0].tables)\n",
    "print len(corpus.documents[0].tables[0].phrases)\n",
    "print len(corpus.documents[0].phrases)\n",
    "# for phrase in corpus.documents[0].phrases: print phrase.text"
   ]
  },
  {
   "cell_type": "code",
   "execution_count": 15,
   "metadata": {
    "collapsed": false
   },
   "outputs": [
    {
     "name": "stdout",
     "output_type": "stream",
     "text": [
      "Loaded 507899 disease phrases!\n"
     ]
    }
   ],
   "source": [
    "from load_dictionaries import load_disease_dictionary\n",
    "\n",
    "# Load the disease phrase dictionary\n",
    "diseases = load_disease_dictionary()\n",
    "print \"Loaded %s disease phrases!\" % len(diseases)"
   ]
  },
  {
   "cell_type": "code",
   "execution_count": 26,
   "metadata": {
    "collapsed": false
   },
   "outputs": [],
   "source": [
    "from snorkel.candidates import TableNgrams\n",
    "from snorkel.matchers import DictionaryMatch\n",
    "\n",
    "# Define a candidate space\n",
    "table_ngrams = TableNgrams(n_max=3)\n",
    "\n",
    "# Define a matcher\n",
    "disease_matcher = DictionaryMatch(d=diseases, longest_match_only=False)"
   ]
  },
  {
   "cell_type": "code",
   "execution_count": 33,
   "metadata": {
    "collapsed": false
   },
   "outputs": [
    {
     "name": "stdout",
     "output_type": "stream",
     "text": [
      "CPU times: user 189 ms, sys: 4.44 ms, total: 193 ms\n",
      "Wall time: 194 ms\n",
      "[u'collector', u'-', u'emitter', u'voltage', u'v', u'ceo', u'vdc', u'value', u'80', u'6.0', u'100', u'625', u'mw', u'/', u'c', u'1.5', u'mw', u'/', u'c', u'\\u2212', u'55', u'to', u'+150']\n",
      "222\n"
     ]
    }
   ],
   "source": [
    "# With old Candidates object:\n",
    "from snorkel.candidates import EntityExtractor\n",
    "ce = EntityExtractor(table_ngrams, disease_matcher)\n",
    "%time candidates = ce.extract(corpus.get_phrases(), name='all')\n",
    "\n",
    "for cand in candidates:\n",
    "#     if cand.get_span() in [\"Cancer\",\"Pneumonia\",\"Hernia\", \"Cholera\", \"Cough\", \"Cold\", \"Flu\"]:\n",
    "    if cand.get_span() in [\"Cold\"]:\n",
    "        print list(cand.aligned_ngrams(n_max=1))\n",
    "print len(candidates)"
   ]
  },
  {
   "cell_type": "code",
   "execution_count": 18,
   "metadata": {
    "collapsed": false
   },
   "outputs": [
    {
     "name": "stdout",
     "output_type": "stream",
     "text": [
      "Span(\"Hypochondria\", context=None, chars=[0,11], words=[0,0])\n",
      "[]\n",
      "[]\n",
      "[]\n",
      "[u'hypochondria']\n",
      "[u'yellow', u'fever', u'fear']\n",
      "[(u'yellow', 'DOWN'), (u'fever', 'DOWN'), (u'fear', 'RIGHT')]\n",
      "[u'fear', u'$', u'100']\n",
      "[u'problem', u'arthritis', u'yellow', u'fever']\n"
     ]
    }
   ],
   "source": [
    "c = candidates[-2]\n",
    "print c\n",
    "print list(c.pre_ngrams(n_max=1))\n",
    "print list(c.post_ngrams(n_max=1))\n",
    "print list(c.phrase_ngrams(n_max=1))\n",
    "print list(c.cell_ngrams(n_max=1))\n",
    "print list(c.neighborhood_ngrams(n_max=1))\n",
    "print list(c.neighbor_ngrams(n_max=1))\n",
    "print list(c.row_ngrams(n_max=1))\n",
    "print list(c.col_ngrams(n_max=1))"
   ]
  },
  {
   "cell_type": "code",
   "execution_count": 19,
   "metadata": {
    "collapsed": false
   },
   "outputs": [
    {
     "name": "stdout",
     "output_type": "stream",
     "text": [
      "['html', 'body', 'h1']\n"
     ]
    }
   ],
   "source": [
    "c = candidates[1]\n",
    "print c.context.html_anc_tags"
   ]
  },
  {
   "cell_type": "code",
   "execution_count": 20,
   "metadata": {
    "collapsed": false
   },
   "outputs": [
    {
     "name": "stdout",
     "output_type": "stream",
     "text": [
      "Building feature index...\n",
      "Extracting features...\n",
      "0/522\n"
     ]
    },
    {
     "data": {
      "text/plain": [
       "<22x522 sparse matrix of type '<type 'numpy.float64'>'\n",
       "\twith 915 stored elements in LInked List format>"
      ]
     },
     "execution_count": 20,
     "metadata": {},
     "output_type": "execute_result"
    }
   ],
   "source": [
    "from snorkel.features import TableNgramFeaturizer\n",
    "featurizer = TableNgramFeaturizer()\n",
    "featurizer.fit_transform(candidates)"
   ]
  },
  {
   "cell_type": "code",
   "execution_count": 22,
   "metadata": {
    "collapsed": false
   },
   "outputs": [
    {
     "data": {
      "text/plain": [
       "[u'DDLIB_WORD_SEQ_[Cancer]',\n",
       " u'DDLIB_LEMMA_SEQ_[cancer]',\n",
       " u'DDLIB_POS_SEQ_[NN]',\n",
       " u'DDLIB_DEP_SEQ_[ROOT]',\n",
       " u'DDLIB_W_LEFT_1_[brain]',\n",
       " u'DDLIB_W_LEFT_POS_1_[NN]',\n",
       " u'DDLIB_W_LEFT_2_[cancer brain]',\n",
       " u'DDLIB_W_LEFT_POS_2_[NN NN]',\n",
       " u'DDLIB_W_LEFT_3_[brain cancer brain]',\n",
       " u'DDLIB_W_LEFT_POS_3_[NN NN NN]',\n",
       " u'DDLIB_NUM_WORDS_1',\n",
       " u'TABLE_HTML_TAG_span',\n",
       " u'TABLE_HTML_ANC_TAG_html',\n",
       " u'TABLE_HTML_ANC_TAG_body',\n",
       " u'TABLE_HTML_ANC_TAG_p',\n",
       " u'TABLE_HTML_ANC_TAG_span',\n",
       " u'TABLE_HTML_ANC_ATTR_lang',\n",
       " u'TABLE_HTML_ANC_ATTR_xml:lang',\n",
       " u'TABLE_HTML_ANC_ATTR_xmlns']"
      ]
     },
     "execution_count": 22,
     "metadata": {},
     "output_type": "execute_result"
    }
   ],
   "source": [
    "featurizer.get_features_by_candidate(candidates[4])[:]"
   ]
  },
  {
   "cell_type": "markdown",
   "metadata": {},
   "source": [
    "The end."
   ]
  }
 ],
 "metadata": {
  "kernelspec": {
   "display_name": "Python 2",
   "language": "python",
   "name": "python2"
  },
  "language_info": {
   "codemirror_mode": {
    "name": "ipython",
    "version": 2
   },
   "file_extension": ".py",
   "mimetype": "text/x-python",
   "name": "python",
   "nbconvert_exporter": "python",
   "pygments_lexer": "ipython2",
   "version": "2.7.12"
  }
 },
 "nbformat": 4,
 "nbformat_minor": 0
}
