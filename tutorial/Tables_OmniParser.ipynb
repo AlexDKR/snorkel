{
 "cells": [
  {
   "cell_type": "markdown",
   "metadata": {},
   "source": [
    "# Tables OmniParser\n",
    "This notebook is meant for testing and development of an \"OmniParser\" that can parse all components of an HTML document, including the title, captions, sentences, tables, etc."
   ]
  },
  {
   "cell_type": "code",
   "execution_count": 1,
   "metadata": {
    "collapsed": false
   },
   "outputs": [
    {
     "name": "stdout",
     "output_type": "stream",
     "text": [
      "The autoreload extension is already loaded. To reload it, use:\n",
      "  %reload_ext autoreload\n"
     ]
    }
   ],
   "source": [
    "%load_ext autoreload\n",
    "%autoreload 2"
   ]
  },
  {
   "cell_type": "code",
   "execution_count": 4,
   "metadata": {
    "collapsed": false
   },
   "outputs": [],
   "source": [
    "from snorkel.parser import CorpusParser\n",
    "from snorkel.parser import HTMLParser\n",
    "from snorkel.parser import OmniParser\n",
    "# note: [Cancer, Pneumonia, Hernia, Cholera, Cough, Cold, Flu] \n",
    "#   have been hidden inside of 'data/diseases/diseases_in_hardware.html'\n",
    "doc_parser = HTMLParser(path='data/diseases/diseases.xhtml')\n",
    "context_parser = OmniParser()\n",
    "cp = CorpusParser(doc_parser, context_parser)"
   ]
  },
  {
   "cell_type": "code",
   "execution_count": 5,
   "metadata": {
    "collapsed": false
   },
   "outputs": [
    {
     "name": "stdout",
     "output_type": "stream",
     "text": [
      "CPU times: user 165 ms, sys: 16.4 ms, total: 181 ms\n",
      "Wall time: 399 ms\n"
     ]
    }
   ],
   "source": [
    "%time corpus = cp.parse_corpus(name='Diseases Corpus')"
   ]
  },
  {
   "cell_type": "code",
   "execution_count": 8,
   "metadata": {
    "collapsed": false
   },
   "outputs": [
    {
     "name": "stdout",
     "output_type": "stream",
     "text": [
      "1\n",
      "2\n",
      "24\n",
      "34\n",
      "16\n",
      "Disease\n"
     ]
    }
   ],
   "source": [
    "print len(corpus.documents)\n",
    "print len(corpus.documents[0].tables)\n",
    "print len(corpus.documents[0].cells)\n",
    "print len(corpus.documents[0].phrases)\n",
    "print len(corpus.documents[0].tables[0].phrases)\n",
    "print corpus.documents[0].tables[0].cells[0].phrases[0].text"
   ]
  },
  {
   "cell_type": "code",
   "execution_count": 10,
   "metadata": {
    "collapsed": false
   },
   "outputs": [
    {
     "name": "stdout",
     "output_type": "stream",
     "text": [
      "Loaded 507899 disease phrases!\n"
     ]
    }
   ],
   "source": [
    "from load_dictionaries import load_disease_dictionary\n",
    "\n",
    "# Load the disease phrase dictionary\n",
    "diseases = load_disease_dictionary()\n",
    "print \"Loaded %s disease phrases!\" % len(diseases)"
   ]
  },
  {
   "cell_type": "code",
   "execution_count": 11,
   "metadata": {
    "collapsed": false
   },
   "outputs": [],
   "source": [
    "from snorkel.candidates import TableNgrams\n",
    "from snorkel.matchers import DictionaryMatch\n",
    "\n",
    "# Define a candidate space\n",
    "table_ngrams = TableNgrams(n_max=3)\n",
    "\n",
    "# Define a matcher\n",
    "disease_matcher = DictionaryMatch(d=diseases)"
   ]
  },
  {
   "cell_type": "code",
   "execution_count": 15,
   "metadata": {
    "collapsed": false
   },
   "outputs": [
    {
     "name": "stdout",
     "output_type": "stream",
     "text": [
      "CPU times: user 10.7 ms, sys: 1.84 ms, total: 12.5 ms\n",
      "Wall time: 13.7 ms\n",
      "Span(\"coughs\", context=None, chars=[18,23], words=[4,4])\n",
      "Span(\"colds\", context=None, chars=[30,34], words=[7,7])\n",
      "Span(\"Brain Cancer\", context=None, chars=[0,11], words=[0,1])\n",
      "Span(\"Brain\", context=None, chars=[0,4], words=[0,0])\n",
      "Span(\"Cancer\", context=None, chars=[6,11], words=[1,1])\n",
      "Span(\"Common\", context=None, chars=[0,5], words=[0,0])\n",
      "Span(\"Ailments\", context=None, chars=[7,14], words=[1,1])\n",
      "Span(\"Disease\", context=None, chars=[0,6], words=[0,0])\n",
      "Span(\"Location\", context=None, chars=[0,7], words=[0,0])\n",
      "Span(\"Polio\", context=None, chars=[0,4], words=[0,0])\n",
      "Span(\"plague\", context=None, chars=[4,9], words=[1,1])\n",
      "Span(\"Scurvy\", context=None, chars=[0,5], words=[0,0])\n",
      "Span(\"Infectious diseases\", context=None, chars=[9,27], words=[3,4])\n",
      "Span(\"Infectious\", context=None, chars=[9,18], words=[3,3])\n",
      "Span(\"diseases\", context=None, chars=[20,27], words=[4,4])\n",
      "Span(\"Problem\", context=None, chars=[0,6], words=[0,0])\n",
      "Span(\"Arthritis\", context=None, chars=[0,8], words=[0,0])\n",
      "Span(\"Fever\", context=None, chars=[0,4], words=[0,0])\n",
      "Span(\"Hypochondria\", context=None, chars=[0,11], words=[0,0])\n",
      "Span(\"Pneumonia\", context=None, chars=[27,35], words=[7,7])\n",
      "20\n"
     ]
    }
   ],
   "source": [
    "# With old Candidates object:\n",
    "from snorkel.candidates import EntityExtractor\n",
    "ce = EntityExtractor(table_ngrams, disease_matcher)\n",
    "%time candidates = ce.extract(corpus.get_phrases(), name='all')\n",
    "\n",
    "for cand in candidates:\n",
    "    print cand\n",
    "print len(candidates)"
   ]
  },
  {
   "cell_type": "code",
   "execution_count": 16,
   "metadata": {
    "collapsed": false
   },
   "outputs": [
    {
     "name": "stdout",
     "output_type": "stream",
     "text": [
      "Span(\"Hypochondria\", context=None, chars=[0,11], words=[0,0])\n",
      "[]\n",
      "[]\n",
      "[]\n",
      "[u'hypochondria']\n",
      "[u'yellow', u'fever', u'fear']\n",
      "[(u'yellow', 'DOWN'), (u'fever', 'DOWN'), (u'fear', 'RIGHT')]\n",
      "[u'fear', u'$', u'100']\n",
      "[u'problem', u'arthritis', u'yellow', u'fever']\n"
     ]
    }
   ],
   "source": [
    "c = candidates[-2]\n",
    "print c\n",
    "print list(c.pre_ngrams(n_max=1))\n",
    "print list(c.post_ngrams(n_max=1))\n",
    "print list(c.phrase_ngrams(n_max=1))\n",
    "print list(c.cell_ngrams(n_max=1))\n",
    "print list(c.neighborhood_ngrams(n_max=1))\n",
    "print list(c.neighbor_ngrams(n_max=1))\n",
    "print list(c.row_ngrams(n_max=1))\n",
    "print list(c.col_ngrams(n_max=1))"
   ]
  },
  {
   "cell_type": "code",
   "execution_count": 17,
   "metadata": {
    "collapsed": false
   },
   "outputs": [
    {
     "name": "stdout",
     "output_type": "stream",
     "text": [
      "['html', 'body', 'h1']\n"
     ]
    }
   ],
   "source": [
    "c = candidates[1]\n",
    "print c.context.html_anc_tags"
   ]
  },
  {
   "cell_type": "code",
   "execution_count": 18,
   "metadata": {
    "collapsed": false
   },
   "outputs": [
    {
     "name": "stdout",
     "output_type": "stream",
     "text": [
      "Building feature index...\n",
      "Extracting features...\n",
      "0/464\n"
     ]
    },
    {
     "data": {
      "text/plain": [
       "<20x464 sparse matrix of type '<type 'numpy.float64'>'\n",
       "\twith 795 stored elements in LInked List format>"
      ]
     },
     "execution_count": 18,
     "metadata": {},
     "output_type": "execute_result"
    }
   ],
   "source": [
    "from snorkel.features import TableNgramFeaturizer\n",
    "featurizer = TableNgramFeaturizer()\n",
    "featurizer.fit_transform(candidates)"
   ]
  },
  {
   "cell_type": "code",
   "execution_count": 19,
   "metadata": {
    "collapsed": false
   },
   "outputs": [
    {
     "data": {
      "text/plain": [
       "[u'DDLIB_WORD_SEQ_[coughs]',\n",
       " u'DDLIB_LEMMA_SEQ_[cough]',\n",
       " u'DDLIB_POS_SEQ_[NNS]',\n",
       " u'DDLIB_DEP_SEQ_[conj]',\n",
       " u'DDLIB_W_LEFT_1_[,]',\n",
       " u'DDLIB_W_LEFT_POS_1_[,]',\n",
       " u'DDLIB_W_LEFT_2_[virus ,]',\n",
       " u'DDLIB_W_LEFT_POS_2_[NNS ,]',\n",
       " u'DDLIB_W_LEFT_3_[of virus ,]',\n",
       " u'DDLIB_W_LEFT_POS_3_[IN NNS ,]',\n",
       " u'DDLIB_W_RIGHT_1_[,]',\n",
       " u'DDLIB_W_RIGHT_POS_1_[,]',\n",
       " u'DDLIB_W_RIGHT_2_[, and]',\n",
       " u'DDLIB_W_RIGHT_POS_2_[, CC]',\n",
       " u'DDLIB_W_RIGHT_3_[, and cold]',\n",
       " u'DDLIB_W_RIGHT_POS_3_[, CC NNS]',\n",
       " u'DDLIB_W_LEMMA_L_1_R_1_[,]_[,]',\n",
       " u'DDLIB_W_POS_L_1_R_1_[,]_[,]',\n",
       " u'DDLIB_W_LEMMA_L_1_R_2_[,]_[, and]',\n",
       " u'DDLIB_W_POS_L_1_R_2_[,]_[, CC]',\n",
       " u'DDLIB_W_LEMMA_L_1_R_3_[,]_[, and cold]',\n",
       " u'DDLIB_W_POS_L_1_R_3_[,]_[, CC NNS]',\n",
       " u'DDLIB_W_LEMMA_L_2_R_1_[virus ,]_[,]',\n",
       " u'DDLIB_W_POS_L_2_R_1_[NNS ,]_[,]',\n",
       " u'DDLIB_W_LEMMA_L_2_R_2_[virus ,]_[, and]',\n",
       " u'DDLIB_W_POS_L_2_R_2_[NNS ,]_[, CC]',\n",
       " u'DDLIB_W_LEMMA_L_2_R_3_[virus ,]_[, and cold]',\n",
       " u'DDLIB_W_POS_L_2_R_3_[NNS ,]_[, CC NNS]',\n",
       " u'DDLIB_W_LEMMA_L_3_R_1_[of virus ,]_[,]',\n",
       " u'DDLIB_W_POS_L_3_R_1_[IN NNS ,]_[,]',\n",
       " u'DDLIB_W_LEMMA_L_3_R_2_[of virus ,]_[, and]',\n",
       " u'DDLIB_W_POS_L_3_R_2_[IN NNS ,]_[, CC]',\n",
       " u'DDLIB_W_LEMMA_L_3_R_3_[of virus ,]_[, and cold]',\n",
       " u'DDLIB_W_POS_L_3_R_3_[IN NNS ,]_[, CC NNS]',\n",
       " u'DDLIB_NUM_WORDS_1',\n",
       " u'TABLE_HTML_TAG_h1',\n",
       " u'TABLE_HTML_ANC_TAG_html',\n",
       " u'TABLE_HTML_ANC_TAG_body',\n",
       " u'TABLE_HTML_ANC_TAG_h1',\n",
       " u'TABLE_HTML_ANC_ATTR_lang',\n",
       " u'TABLE_HTML_ANC_ATTR_xml:lang',\n",
       " u'TABLE_HTML_ANC_ATTR_xmlns']"
      ]
     },
     "execution_count": 19,
     "metadata": {},
     "output_type": "execute_result"
    }
   ],
   "source": [
    "featurizer.get_features_by_candidate(candidates[0])[:]"
   ]
  },
  {
   "cell_type": "markdown",
   "metadata": {},
   "source": [
    "The end."
   ]
  }
 ],
 "metadata": {
  "kernelspec": {
   "display_name": "Python [default]",
   "language": "python",
   "name": "python2"
  },
  "language_info": {
   "codemirror_mode": {
    "name": "ipython",
    "version": 2
   },
   "file_extension": ".py",
   "mimetype": "text/x-python",
   "name": "python",
   "nbconvert_exporter": "python",
   "pygments_lexer": "ipython2",
   "version": "2.7.12"
  }
 },
 "nbformat": 4,
 "nbformat_minor": 0
}
