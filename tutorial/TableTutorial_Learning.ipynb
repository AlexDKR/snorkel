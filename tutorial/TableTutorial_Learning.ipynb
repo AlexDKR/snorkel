{
 "cells": [
  {
   "cell_type": "markdown",
   "metadata": {},
   "source": [
    "# Extraction + Learning : Hardware Spec Sheets\n",
    "\n",
    "This notebook demonstrates the full entity extraction process on transistor data sheets, extracting min storage temperatures."
   ]
  },
  {
   "cell_type": "code",
   "execution_count": null,
   "metadata": {
    "collapsed": false
   },
   "outputs": [],
   "source": [
    "%load_ext autoreload\n",
    "%autoreload 2"
   ]
  },
  {
   "cell_type": "markdown",
   "metadata": {},
   "source": [
    "### Extraction"
   ]
  },
  {
   "cell_type": "code",
   "execution_count": 4,
   "metadata": {
    "collapsed": true
   },
   "outputs": [],
   "source": [
    "from snorkel import SnorkelSession\n",
    "session = SnorkelSession()"
   ]
  },
  {
   "cell_type": "code",
   "execution_count": 10,
   "metadata": {
    "collapsed": false
   },
   "outputs": [],
   "source": [
    "from snorkel.parser import HTMLParser\n",
    "html_parser = HTMLParser(path='data/hardware/hardware_docs/')"
   ]
  },
  {
   "cell_type": "code",
   "execution_count": 11,
   "metadata": {
    "collapsed": false
   },
   "outputs": [],
   "source": [
    "from snorkel.parser import TableParser\n",
    "table_parser = TableParser()"
   ]
  },
  {
   "cell_type": "code",
   "execution_count": 12,
   "metadata": {
    "collapsed": false,
    "scrolled": true
   },
   "outputs": [
    {
     "name": "stdout",
     "output_type": "stream",
     "text": [
      "Document 0 parsed\n",
      "Document 1 parsed\n",
      "Document 2 parsed\n",
      "Document 3 parsed\n",
      "Document 4 parsed\n",
      "Document 5 parsed\n",
      "Document 6 parsed\n",
      "Document 7 parsed\n",
      "Document 8 parsed\n",
      "Document 9 parsed\n",
      "CPU times: user 6.19 s, sys: 157 ms, total: 6.35 s\n",
      "Wall time: 10 s\n"
     ]
    }
   ],
   "source": [
    "from snorkel.parser import CorpusParser\n",
    "cp = CorpusParser(html_parser, table_parser, max_docs=10)\n",
    "%time corpus = cp.parse_corpus(name='Hardware Corpus')"
   ]
  },
  {
   "cell_type": "code",
   "execution_count": 13,
   "metadata": {
    "collapsed": false
   },
   "outputs": [
    {
     "ename": "InvalidRequestError",
     "evalue": "This Session's transaction has been rolled back due to a previous exception during flush. To begin a new transaction with this Session, first issue Session.rollback(). Original exception was: (sqlite3.OperationalError) table phrase has no column named xmltree [SQL: u'INSERT INTO phrase (id, document_id, table_id, cell_id, position, text, xmltree, row_num, col_num, html_tag, html_attrs, html_anc_tags, html_anc_attrs, words, char_offsets, lemmas, poses, dep_parents, dep_labels) VALUES (?, ?, ?, ?, ?, ?, ?, ?, ?, ?, ?, ?, ?, ?, ?, ?, ?, ?, ?)'] [parameters: ((4717, 2, 12, 105, 1, u'Rating .', None, 0, 0, 'td', <read-only buffer for 0x104bfee48, size -1, offset 0 at 0x10f1407f0>, <read-only buffer for 0x10f140830, size -1, offset 0 at 0x10f140870>, <read-only buffer for 0x10f1426c0, size -1, offset 0 at 0x10f1408b0>, <read-only buffer for 0x10f1408f0, size -1, offset 0 at 0x10f140930>, <read-only buffer for 0x109bb5998, size -1, offset 0 at 0x10f140970>, <read-only buffer for 0x10f1409b0, size -1, offset 0 at 0x10f1409f0>, <read-only buffer for 0x10f140a30, size -1, offset 0 at 0x10f140a70>, <read-only buffer for 0x109bb5928, size -1, offset 0 at 0x10f140ab0>, <read-only buffer for 0x111660e88, size -1, offset 0 at 0x10f140af0>), (4718, 2, 12, 106, 0, u'Symbol .', None, 0, 1, 'td', <read-only buffer for 0x104bfed00, size -1, offset 0 at 0x10f140b30>, <read-only buffer for 0x10f140b70, size -1, offset 0 at 0x10f140bb0>, <read-only buffer for 0x10f142738, size -1, offset 0 at 0x10f140bf0>, <read-only buffer for 0x10f140c30, size -1, offset 0 at 0x10f140c70>, <read-only buffer for 0x109bb58f0, size -1, offset 0 at 0x10f140cb0>, <read-only buffer for 0x10f140cf0, size -1, offset 0 at 0x10f140d30>, <read-only buffer for 0x10f140d70, size -1, offset 0 at 0x10f140db0>, <read-only buffer for 0x109bb58b8, size -1, offset 0 at 0x10f140df0>, <read-only buffer for 0x111660ed0, size -1, offset 0 at 0x10f140e30>), (4719, 2, 12, 107, 0, u'Value .', None, 0, 2, 'td', <read-only buffer for 0x104bfebb8, size -1, offset 0 at 0x10f140e70>, <read-only buffer for 0x10f140eb0, size -1, offset 0 at 0x10f140ef0>, <read-only buffer for 0x10f1427b0, size -1, offset 0 at 0x10f140f30>, <read-only buffer for 0x10f140f70, size -1, offset 0 at 0x10f140fb0>, <read-only buffer for 0x109bb5880, size -1, offset 0 at 0x10f145030>, <read-only buffer for 0x10f145070, size -1, offset 0 at 0x10f1450b0>, <read-only buffer for 0x10f1450f0, size -1, offset 0 at 0x10f145130>, <read-only buffer for 0x109bb5848, size -1, offset 0 at 0x10f145170>, <read-only buffer for 0x111660f18, size -1, offset 0 at 0x10f1451b0>), (4720, 2, 12, 108, 0, u'Unit .', None, 0, 3, 'td', <read-only buffer for 0x104bfe928, size -1, offset 0 at 0x10f1451f0>, <read-only buffer for 0x10f145230, size -1, offset 0 at 0x10f145270>, <read-only buffer for 0x10f142828, size -1, offset 0 at 0x10f1452b0>, <read-only buffer for 0x10f1452f0, size -1, offset 0 at 0x10f145330>, <read-only buffer for 0x109bb5810, size -1, offset 0 at 0x10f145370>, <read-only buffer for 0x10f1453b0, size -1, offset 0 at 0x10f1453f0>, <read-only buffer for 0x10f145430, size -1, offset 0 at 0x10f145470>, <read-only buffer for 0x109bb57d8, size -1, offset 0 at 0x10f1454b0>, <read-only buffer for 0x110d3f420, size -1, offset 0 at 0x10f1454f0>), (4721, 2, 12, 109, 0, u'Collector - Emitter VoltageBC546 .', None, 1, 0, 'td', <read-only buffer for 0x1051d9978, size -1, offset 0 at 0x10f145530>, <read-only buffer for 0x10f145570, size -1, offset 0 at 0x10f1455b0>, <read-only buffer for 0x10f1428a0, size -1, offset 0 at 0x10f1455f0>, <read-only buffer for 0x1055b0e30, size -1, offset 0 at 0x10f145630>, <read-only buffer for 0x109bb57a0, size -1, offset 0 at 0x10f145670>, <read-only buffer for 0x1055b0b90, size -1, offset 0 at 0x10f1456b0>, <read-only buffer for 0x110bf4c38, size -1, offset 0 at 0x10f1456f0>, <read-only buffer for 0x109bb5768, size -1, offset 0 at 0x10f145730>, <read-only buffer for 0x1055b0c00, size -1, offset 0 at 0x10f145770>), (4722, 2, 12, 110, 0, u'VCEO .', None, 1, 1, 'td', <read-only buffer for 0x10487a438, size -1, offset 0 at 0x10f1457b0>, <read-only buffer for 0x10f1457f0, size -1, offset 0 at 0x10f145830>, <read-only buffer for 0x10f142918, size -1, offset 0 at 0x10f145870>, <read-only buffer for 0x10f1458b0, size -1, offset 0 at 0x10f1458f0>, <read-only buffer for 0x109bb5730, size -1, offset 0 at 0x10f145930>, <read-only buffer for 0x10f145970, size -1, offset 0 at 0x10f1459b0>, <read-only buffer for 0x10f1459f0, size -1, offset 0 at 0x10f145a30>, <read-only buffer for 0x109bb5538, size -1, offset 0 at 0x10f145a70>, <read-only buffer for 0x110d3f2b8, size -1, offset 0 at 0x10f145ab0>), (4723, 2, 12, 111, 0, u'65 .', None, 1, 2, 'td', <read-only buffer for 0x1051d9a80, size -1, offset 0 at 0x10f145af0>, <read-only buffer for 0x10f145b30, size -1, offset 0 at 0x10f145b70>, <read-only buffer for 0x10f142990, size -1, offset 0 at 0x10f145bb0>, <read-only buffer for 0x10f145bf0, size -1, offset 0 at 0x10f145c30>, <read-only buffer for 0x109bb56f8, size -1, offset 0 at 0x10f145c70>, <read-only buffer for 0x10f145cb0, size -1, offset 0 at 0x10f145cf0>, <read-only buffer for 0x10f145d30, size -1, offset 0 at 0x10f145d70>, <read-only buffer for 0x109bb56c0, size -1, offset 0 at 0x10f145db0>, <read-only buffer for 0x110d3f270, size -1, offset 0 at 0x10f145df0>), (4724, 2, 12, 112, 0, u'Vdc .', None, 1, 3, 'td', <read-only buffer for 0x104bff998, size -1, offset 0 at 0x10f145e30>, <read-only buffer for 0x10f145e70, size -1, offset 0 at 0x10f145eb0>, <read-only buffer for 0x10f142a08, size -1, offset 0 at 0x10f145ef0>, <read-only buffer for 0x10f145f30, size -1, offset 0 at 0x10f145f70>, <read-only buffer for 0x109bb5688, size -1, offset 0 at 0x10f145fb0>, <read-only buffer for 0x10f146030, size -1, offset 0 at 0x10f146070>, <read-only buffer for 0x10f1460b0, size -1, offset 0 at 0x10f1460f0>, <read-only buffer for 0x109bb5650, size -1, offset 0 at 0x10f146130>, <read-only buffer for 0x110d3f468, size -1, offset 0 at 0x10f146170>)  ... displaying 10 of 4635 total bound parameter sets ...  (9350, 11, 98, 4578, 0, u'This datasheet contains specifications on a product that has been discontinued by Fairchild semiconductor.', None, 3, 2, 'td', <read-only buffer for 0x112c68030, size -1, offset 0 at 0x112c675f0>, <read-only buffer for 0x112c67630, size -1, offset 0 at 0x112c67670>, <read-only buffer for 0x112c634e0, size -1, offset 0 at 0x112c676b0>, <read-only buffer for 0x105bec120, size -1, offset 0 at 0x112c676f0>, <read-only buffer for 0x112b65f90, size -1, offset 0 at 0x112c67730>, <read-only buffer for 0x105d2f4e0, size -1, offset 0 at 0x112c67770>, <read-only buffer for 0x112b626a8, size -1, offset 0 at 0x112c677b0>, <read-only buffer for 0x112b80990, size -1, offset 0 at 0x112c677f0>, <read-only buffer for 0x1129a1dc8, size -1, offset 0 at 0x112c67830>), (9351, 11, 98, 4578, 1, u'The datasheet is printed for reference information only.', None, 3, 2, 'td', <read-only buffer for 0x112c68178, size -1, offset 0 at 0x112c67870>, <read-only buffer for 0x112c678b0, size -1, offset 0 at 0x112c678f0>, <read-only buffer for 0x112c63558, size -1, offset 0 at 0x112c67930>, <read-only buffer for 0x112b5d670, size -1, offset 0 at 0x112c67970>, <read-only buffer for 0x112c604b0, size -1, offset 0 at 0x112c679b0>, <read-only buffer for 0x112b5d710, size -1, offset 0 at 0x112c679f0>, <read-only buffer for 0x112c5b430, size -1, offset 0 at 0x112c67a30>, <read-only buffer for 0x112c67a70, size -1, offset 0 at 0x112c67ab0>, <read-only buffer for 0x112b5d7b0, size -1, offset 0 at 0x112c67af0>))]",
     "output_type": "error",
     "traceback": [
      "\u001b[0;31m---------------------------------------------------------------------------\u001b[0m",
      "\u001b[0;31mInvalidRequestError\u001b[0m                       Traceback (most recent call last)",
      "\u001b[0;32m<ipython-input-13-5ced93aff1f8>\u001b[0m in \u001b[0;36m<module>\u001b[0;34m()\u001b[0m\n\u001b[1;32m      1\u001b[0m \u001b[0msession\u001b[0m\u001b[0;34m.\u001b[0m\u001b[0madd\u001b[0m\u001b[0;34m(\u001b[0m\u001b[0mcorpus\u001b[0m\u001b[0;34m)\u001b[0m\u001b[0;34m\u001b[0m\u001b[0m\n\u001b[0;32m----> 2\u001b[0;31m \u001b[0msession\u001b[0m\u001b[0;34m.\u001b[0m\u001b[0mcommit\u001b[0m\u001b[0;34m(\u001b[0m\u001b[0;34m)\u001b[0m\u001b[0;34m\u001b[0m\u001b[0m\n\u001b[0m",
      "\u001b[0;32m/Users/bradenhancock/anaconda/lib/python2.7/site-packages/sqlalchemy/orm/session.pyc\u001b[0m in \u001b[0;36mcommit\u001b[0;34m(self)\u001b[0m\n\u001b[1;32m    799\u001b[0m                 \u001b[0;32mraise\u001b[0m \u001b[0msa_exc\u001b[0m\u001b[0;34m.\u001b[0m\u001b[0mInvalidRequestError\u001b[0m\u001b[0;34m(\u001b[0m\u001b[0;34m\"No transaction is begun.\"\u001b[0m\u001b[0;34m)\u001b[0m\u001b[0;34m\u001b[0m\u001b[0m\n\u001b[1;32m    800\u001b[0m \u001b[0;34m\u001b[0m\u001b[0m\n\u001b[0;32m--> 801\u001b[0;31m         \u001b[0mself\u001b[0m\u001b[0;34m.\u001b[0m\u001b[0mtransaction\u001b[0m\u001b[0;34m.\u001b[0m\u001b[0mcommit\u001b[0m\u001b[0;34m(\u001b[0m\u001b[0;34m)\u001b[0m\u001b[0;34m\u001b[0m\u001b[0m\n\u001b[0m\u001b[1;32m    802\u001b[0m \u001b[0;34m\u001b[0m\u001b[0m\n\u001b[1;32m    803\u001b[0m     \u001b[0;32mdef\u001b[0m \u001b[0mprepare\u001b[0m\u001b[0;34m(\u001b[0m\u001b[0mself\u001b[0m\u001b[0;34m)\u001b[0m\u001b[0;34m:\u001b[0m\u001b[0;34m\u001b[0m\u001b[0m\n",
      "\u001b[0;32m/Users/bradenhancock/anaconda/lib/python2.7/site-packages/sqlalchemy/orm/session.pyc\u001b[0m in \u001b[0;36mcommit\u001b[0;34m(self)\u001b[0m\n\u001b[1;32m    388\u001b[0m \u001b[0;34m\u001b[0m\u001b[0m\n\u001b[1;32m    389\u001b[0m     \u001b[0;32mdef\u001b[0m \u001b[0mcommit\u001b[0m\u001b[0;34m(\u001b[0m\u001b[0mself\u001b[0m\u001b[0;34m)\u001b[0m\u001b[0;34m:\u001b[0m\u001b[0;34m\u001b[0m\u001b[0m\n\u001b[0;32m--> 390\u001b[0;31m         \u001b[0mself\u001b[0m\u001b[0;34m.\u001b[0m\u001b[0m_assert_active\u001b[0m\u001b[0;34m(\u001b[0m\u001b[0mprepared_ok\u001b[0m\u001b[0;34m=\u001b[0m\u001b[0mTrue\u001b[0m\u001b[0;34m)\u001b[0m\u001b[0;34m\u001b[0m\u001b[0m\n\u001b[0m\u001b[1;32m    391\u001b[0m         \u001b[0;32mif\u001b[0m \u001b[0mself\u001b[0m\u001b[0;34m.\u001b[0m\u001b[0m_state\u001b[0m \u001b[0;32mis\u001b[0m \u001b[0;32mnot\u001b[0m \u001b[0mPREPARED\u001b[0m\u001b[0;34m:\u001b[0m\u001b[0;34m\u001b[0m\u001b[0m\n\u001b[1;32m    392\u001b[0m             \u001b[0mself\u001b[0m\u001b[0;34m.\u001b[0m\u001b[0m_prepare_impl\u001b[0m\u001b[0;34m(\u001b[0m\u001b[0;34m)\u001b[0m\u001b[0;34m\u001b[0m\u001b[0m\n",
      "\u001b[0;32m/Users/bradenhancock/anaconda/lib/python2.7/site-packages/sqlalchemy/orm/session.pyc\u001b[0m in \u001b[0;36m_assert_active\u001b[0;34m(self, prepared_ok, rollback_ok, deactive_ok, closed_msg)\u001b[0m\n\u001b[1;32m    212\u001b[0m                         \u001b[0;34m\"first issue Session.rollback().\"\u001b[0m\u001b[0;34m\u001b[0m\u001b[0m\n\u001b[1;32m    213\u001b[0m                         \u001b[0;34m\" Original exception was: %s\"\u001b[0m\u001b[0;34m\u001b[0m\u001b[0m\n\u001b[0;32m--> 214\u001b[0;31m                         \u001b[0;34m%\u001b[0m \u001b[0mself\u001b[0m\u001b[0;34m.\u001b[0m\u001b[0m_rollback_exception\u001b[0m\u001b[0;34m\u001b[0m\u001b[0m\n\u001b[0m\u001b[1;32m    215\u001b[0m                     )\n\u001b[1;32m    216\u001b[0m                 \u001b[0;32melif\u001b[0m \u001b[0;32mnot\u001b[0m \u001b[0mdeactive_ok\u001b[0m\u001b[0;34m:\u001b[0m\u001b[0;34m\u001b[0m\u001b[0m\n",
      "\u001b[0;31mInvalidRequestError\u001b[0m: This Session's transaction has been rolled back due to a previous exception during flush. To begin a new transaction with this Session, first issue Session.rollback(). Original exception was: (sqlite3.OperationalError) table phrase has no column named xmltree [SQL: u'INSERT INTO phrase (id, document_id, table_id, cell_id, position, text, xmltree, row_num, col_num, html_tag, html_attrs, html_anc_tags, html_anc_attrs, words, char_offsets, lemmas, poses, dep_parents, dep_labels) VALUES (?, ?, ?, ?, ?, ?, ?, ?, ?, ?, ?, ?, ?, ?, ?, ?, ?, ?, ?)'] [parameters: ((4717, 2, 12, 105, 1, u'Rating .', None, 0, 0, 'td', <read-only buffer for 0x104bfee48, size -1, offset 0 at 0x10f1407f0>, <read-only buffer for 0x10f140830, size -1, offset 0 at 0x10f140870>, <read-only buffer for 0x10f1426c0, size -1, offset 0 at 0x10f1408b0>, <read-only buffer for 0x10f1408f0, size -1, offset 0 at 0x10f140930>, <read-only buffer for 0x109bb5998, size -1, offset 0 at 0x10f140970>, <read-only buffer for 0x10f1409b0, size -1, offset 0 at 0x10f1409f0>, <read-only buffer for 0x10f140a30, size -1, offset 0 at 0x10f140a70>, <read-only buffer for 0x109bb5928, size -1, offset 0 at 0x10f140ab0>, <read-only buffer for 0x111660e88, size -1, offset 0 at 0x10f140af0>), (4718, 2, 12, 106, 0, u'Symbol .', None, 0, 1, 'td', <read-only buffer for 0x104bfed00, size -1, offset 0 at 0x10f140b30>, <read-only buffer for 0x10f140b70, size -1, offset 0 at 0x10f140bb0>, <read-only buffer for 0x10f142738, size -1, offset 0 at 0x10f140bf0>, <read-only buffer for 0x10f140c30, size -1, offset 0 at 0x10f140c70>, <read-only buffer for 0x109bb58f0, size -1, offset 0 at 0x10f140cb0>, <read-only buffer for 0x10f140cf0, size -1, offset 0 at 0x10f140d30>, <read-only buffer for 0x10f140d70, size -1, offset 0 at 0x10f140db0>, <read-only buffer for 0x109bb58b8, size -1, offset 0 at 0x10f140df0>, <read-only buffer for 0x111660ed0, size -1, offset 0 at 0x10f140e30>), (4719, 2, 12, 107, 0, u'Value .', None, 0, 2, 'td', <read-only buffer for 0x104bfebb8, size -1, offset 0 at 0x10f140e70>, <read-only buffer for 0x10f140eb0, size -1, offset 0 at 0x10f140ef0>, <read-only buffer for 0x10f1427b0, size -1, offset 0 at 0x10f140f30>, <read-only buffer for 0x10f140f70, size -1, offset 0 at 0x10f140fb0>, <read-only buffer for 0x109bb5880, size -1, offset 0 at 0x10f145030>, <read-only buffer for 0x10f145070, size -1, offset 0 at 0x10f1450b0>, <read-only buffer for 0x10f1450f0, size -1, offset 0 at 0x10f145130>, <read-only buffer for 0x109bb5848, size -1, offset 0 at 0x10f145170>, <read-only buffer for 0x111660f18, size -1, offset 0 at 0x10f1451b0>), (4720, 2, 12, 108, 0, u'Unit .', None, 0, 3, 'td', <read-only buffer for 0x104bfe928, size -1, offset 0 at 0x10f1451f0>, <read-only buffer for 0x10f145230, size -1, offset 0 at 0x10f145270>, <read-only buffer for 0x10f142828, size -1, offset 0 at 0x10f1452b0>, <read-only buffer for 0x10f1452f0, size -1, offset 0 at 0x10f145330>, <read-only buffer for 0x109bb5810, size -1, offset 0 at 0x10f145370>, <read-only buffer for 0x10f1453b0, size -1, offset 0 at 0x10f1453f0>, <read-only buffer for 0x10f145430, size -1, offset 0 at 0x10f145470>, <read-only buffer for 0x109bb57d8, size -1, offset 0 at 0x10f1454b0>, <read-only buffer for 0x110d3f420, size -1, offset 0 at 0x10f1454f0>), (4721, 2, 12, 109, 0, u'Collector - Emitter VoltageBC546 .', None, 1, 0, 'td', <read-only buffer for 0x1051d9978, size -1, offset 0 at 0x10f145530>, <read-only buffer for 0x10f145570, size -1, offset 0 at 0x10f1455b0>, <read-only buffer for 0x10f1428a0, size -1, offset 0 at 0x10f1455f0>, <read-only buffer for 0x1055b0e30, size -1, offset 0 at 0x10f145630>, <read-only buffer for 0x109bb57a0, size -1, offset 0 at 0x10f145670>, <read-only buffer for 0x1055b0b90, size -1, offset 0 at 0x10f1456b0>, <read-only buffer for 0x110bf4c38, size -1, offset 0 at 0x10f1456f0>, <read-only buffer for 0x109bb5768, size -1, offset 0 at 0x10f145730>, <read-only buffer for 0x1055b0c00, size -1, offset 0 at 0x10f145770>), (4722, 2, 12, 110, 0, u'VCEO .', None, 1, 1, 'td', <read-only buffer for 0x10487a438, size -1, offset 0 at 0x10f1457b0>, <read-only buffer for 0x10f1457f0, size -1, offset 0 at 0x10f145830>, <read-only buffer for 0x10f142918, size -1, offset 0 at 0x10f145870>, <read-only buffer for 0x10f1458b0, size -1, offset 0 at 0x10f1458f0>, <read-only buffer for 0x109bb5730, size -1, offset 0 at 0x10f145930>, <read-only buffer for 0x10f145970, size -1, offset 0 at 0x10f1459b0>, <read-only buffer for 0x10f1459f0, size -1, offset 0 at 0x10f145a30>, <read-only buffer for 0x109bb5538, size -1, offset 0 at 0x10f145a70>, <read-only buffer for 0x110d3f2b8, size -1, offset 0 at 0x10f145ab0>), (4723, 2, 12, 111, 0, u'65 .', None, 1, 2, 'td', <read-only buffer for 0x1051d9a80, size -1, offset 0 at 0x10f145af0>, <read-only buffer for 0x10f145b30, size -1, offset 0 at 0x10f145b70>, <read-only buffer for 0x10f142990, size -1, offset 0 at 0x10f145bb0>, <read-only buffer for 0x10f145bf0, size -1, offset 0 at 0x10f145c30>, <read-only buffer for 0x109bb56f8, size -1, offset 0 at 0x10f145c70>, <read-only buffer for 0x10f145cb0, size -1, offset 0 at 0x10f145cf0>, <read-only buffer for 0x10f145d30, size -1, offset 0 at 0x10f145d70>, <read-only buffer for 0x109bb56c0, size -1, offset 0 at 0x10f145db0>, <read-only buffer for 0x110d3f270, size -1, offset 0 at 0x10f145df0>), (4724, 2, 12, 112, 0, u'Vdc .', None, 1, 3, 'td', <read-only buffer for 0x104bff998, size -1, offset 0 at 0x10f145e30>, <read-only buffer for 0x10f145e70, size -1, offset 0 at 0x10f145eb0>, <read-only buffer for 0x10f142a08, size -1, offset 0 at 0x10f145ef0>, <read-only buffer for 0x10f145f30, size -1, offset 0 at 0x10f145f70>, <read-only buffer for 0x109bb5688, size -1, offset 0 at 0x10f145fb0>, <read-only buffer for 0x10f146030, size -1, offset 0 at 0x10f146070>, <read-only buffer for 0x10f1460b0, size -1, offset 0 at 0x10f1460f0>, <read-only buffer for 0x109bb5650, size -1, offset 0 at 0x10f146130>, <read-only buffer for 0x110d3f468, size -1, offset 0 at 0x10f146170>)  ... displaying 10 of 4635 total bound parameter sets ...  (9350, 11, 98, 4578, 0, u'This datasheet contains specifications on a product that has been discontinued by Fairchild semiconductor.', None, 3, 2, 'td', <read-only buffer for 0x112c68030, size -1, offset 0 at 0x112c675f0>, <read-only buffer for 0x112c67630, size -1, offset 0 at 0x112c67670>, <read-only buffer for 0x112c634e0, size -1, offset 0 at 0x112c676b0>, <read-only buffer for 0x105bec120, size -1, offset 0 at 0x112c676f0>, <read-only buffer for 0x112b65f90, size -1, offset 0 at 0x112c67730>, <read-only buffer for 0x105d2f4e0, size -1, offset 0 at 0x112c67770>, <read-only buffer for 0x112b626a8, size -1, offset 0 at 0x112c677b0>, <read-only buffer for 0x112b80990, size -1, offset 0 at 0x112c677f0>, <read-only buffer for 0x1129a1dc8, size -1, offset 0 at 0x112c67830>), (9351, 11, 98, 4578, 1, u'The datasheet is printed for reference information only.', None, 3, 2, 'td', <read-only buffer for 0x112c68178, size -1, offset 0 at 0x112c67870>, <read-only buffer for 0x112c678b0, size -1, offset 0 at 0x112c678f0>, <read-only buffer for 0x112c63558, size -1, offset 0 at 0x112c67930>, <read-only buffer for 0x112b5d670, size -1, offset 0 at 0x112c67970>, <read-only buffer for 0x112c604b0, size -1, offset 0 at 0x112c679b0>, <read-only buffer for 0x112b5d710, size -1, offset 0 at 0x112c679f0>, <read-only buffer for 0x112c5b430, size -1, offset 0 at 0x112c67a30>, <read-only buffer for 0x112c67a70, size -1, offset 0 at 0x112c67ab0>, <read-only buffer for 0x112b5d7b0, size -1, offset 0 at 0x112c67af0>))]"
     ]
    }
   ],
   "source": [
    "session.add(corpus)\n",
    "session.commit()"
   ]
  },
  {
   "cell_type": "code",
   "execution_count": null,
   "metadata": {
    "collapsed": true
   },
   "outputs": [],
   "source": [
    "from snorkel.models import Corpus\n",
    "corpus = session.query(Corpus).filter(Corpus.name == 'Hardware Corpus').one()\n",
    "corpus"
   ]
  },
  {
   "cell_type": "code",
   "execution_count": null,
   "metadata": {
    "collapsed": false
   },
   "outputs": [],
   "source": [
    "from snorkel.candidates import TableNgrams\n",
    "from snorkel.matchers import NumberMatcher, RangeMatcher\n",
    "\n",
    "# Define a candidate space\n",
    "ngrams = TableNgrams(n_max=3)\n",
    "\n",
    "# Define a matcher\n",
    "number_matcher = RangeMatcher(low=-100,high=-10)"
   ]
  },
  {
   "cell_type": "code",
   "execution_count": null,
   "metadata": {
    "collapsed": false
   },
   "outputs": [],
   "source": [
    "# from snorkel.candidates import Candidates\n",
    "# %time candidates = Candidates(ngrams, number_matcher, corpus.get_contexts())\n",
    "# for c in candidates.get_candidates()[:5]: print c\n",
    "    \n",
    "from snorkel.candidates import CandidateExtractor\n",
    "ce = CandidateExtractor(ngrams, number_matcher)\n",
    "%time candidates = ce.extract(corpus.get_tables(), name='all')\n",
    "for cand in candidates[:10]: \n",
    "    print cand\n",
    "print \"%s candidates extracted\" % len(candidates)"
   ]
  },
  {
   "cell_type": "markdown",
   "metadata": {},
   "source": [
    "### Learning"
   ]
  },
  {
   "cell_type": "markdown",
   "metadata": {},
   "source": [
    "First, generate gold data."
   ]
  },
  {
   "cell_type": "code",
   "execution_count": null,
   "metadata": {
    "collapsed": false
   },
   "outputs": [],
   "source": [
    "# read from csv\n",
    "import csv\n",
    "with open('data/hardware/gold_all.csv', 'rb') as csvfile:\n",
    "    gold_reader = csv.reader(csvfile)\n",
    "    gold = []\n",
    "    for row in gold_reader:\n",
    "        (doc, part, temp, label) = row\n",
    "        if label=='stg_temp_min':\n",
    "            gold.append((doc,temp))\n",
    "gold = set(gold)\n",
    "print \"%s gold annotations\" % len(gold)\n",
    "\n",
    "# match with candidates\n",
    "gt_dict = {}\n",
    "for c in candidates:\n",
    "    filename = (c.context.document.file).split('.')[0]\n",
    "    temp = c.get_attrib_span('words')\n",
    "    label = 1 if (filename, temp) in gold else -1\n",
    "    gt_dict[c.id] = label\n",
    "print \"%s out of %s candidates are positive\" % (gt_dict.values().count(1), len(gt_dict))"
   ]
  },
  {
   "cell_type": "markdown",
   "metadata": {},
   "source": [
    "Then confirm that features work:"
   ]
  },
  {
   "cell_type": "code",
   "execution_count": null,
   "metadata": {
    "collapsed": false
   },
   "outputs": [],
   "source": [
    "from snorkel.features import TableNgramFeaturizer\n",
    "featurizer = TableNgramFeaturizer()\n",
    "featurizer.fit_transform(candidates)\n",
    "for f in featurizer.get_features_by_candidate(candidates[0])[:10]: print f"
   ]
  },
  {
   "cell_type": "markdown",
   "metadata": {},
   "source": [
    "We now build a legacy DDLiteModel with which we will do learning."
   ]
  },
  {
   "cell_type": "code",
   "execution_count": null,
   "metadata": {
    "collapsed": false,
    "scrolled": true
   },
   "outputs": [],
   "source": [
    "from snorkel.snorkel import DDLiteModel\n",
    "DDL = DDLiteModel(candidates, featurizer.fit_transform(candidates), gt_dict)\n",
    "\n",
    "DDL.set_holdout(idxs=range(50), validation_frac=0.5)\n",
    "print \"%s training data\" % len(DDL.gt.get_labeled_ground_truth('training')[0])\n",
    "print \"%s test data\" % len(DDL.gt.get_labeled_ground_truth('test')[0])\n",
    "print \"%s validation data\" % len(DDL.gt.get_labeled_ground_truth('validation')[0])"
   ]
  },
  {
   "cell_type": "markdown",
   "metadata": {},
   "source": [
    "Define labeling functions:"
   ]
  },
  {
   "cell_type": "code",
   "execution_count": null,
   "metadata": {
    "collapsed": false
   },
   "outputs": [],
   "source": [
    "def LF_to(m):\n",
    "    return 1 if 'to' in m.post_window('words') else 0\n",
    "def LF_storage(m):\n",
    "    return 1 if 'storage' in m.aligned('words') else -1\n",
    "def LF_tstg(m):\n",
    "    return 1 if 'tstg' in m.aligned('words') else -1\n",
    "def LF_temperature(m):\n",
    "    return 1 if 'temperature' in m.aligned('words') else -1"
   ]
  },
  {
   "cell_type": "code",
   "execution_count": null,
   "metadata": {
    "collapsed": false
   },
   "outputs": [],
   "source": [
    "LFs = [LF_to, LF_storage, LF_tstg, LF_temperature]\n",
    "DDL.apply_lfs(LFs, clear=True)"
   ]
  },
  {
   "cell_type": "code",
   "execution_count": null,
   "metadata": {
    "collapsed": false,
    "scrolled": true
   },
   "outputs": [],
   "source": [
    "print DDL.lf_names\n",
    "DDL.print_lf_stats()"
   ]
  },
  {
   "cell_type": "code",
   "execution_count": null,
   "metadata": {
    "collapsed": false
   },
   "outputs": [],
   "source": [
    "DDL.top_conflict_lfs(n=3)"
   ]
  },
  {
   "cell_type": "code",
   "execution_count": null,
   "metadata": {
    "collapsed": false
   },
   "outputs": [],
   "source": [
    "DDL.lowest_coverage_lfs(n=3)"
   ]
  },
  {
   "cell_type": "markdown",
   "metadata": {},
   "source": [
    "Now learn, baby, learn!"
   ]
  },
  {
   "cell_type": "code",
   "execution_count": null,
   "metadata": {
    "collapsed": false
   },
   "outputs": [],
   "source": [
    "import matplotlib\n",
    "import numpy as np\n",
    "%matplotlib inline\n",
    "matplotlib.rcParams['figure.figsize'] = (12,4)\n",
    "mu_seq = np.ravel([1e-9, 1e-5, 1e-3, 1e-1])\n",
    "lf_opts = {'sample': False, 'verbose': True}\n",
    "model_opts = {'sample': False, 'n_iter': 3000, 'alpha': 0.5, 'mu': mu_seq, 'bias': False, 'verbose': True}\n",
    "%time DDL.train_model(method='lr', lf_opts=lf_opts, model_opts=model_opts)"
   ]
  },
  {
   "cell_type": "code",
   "execution_count": null,
   "metadata": {
    "collapsed": false
   },
   "outputs": [],
   "source": [
    "DDL.show_log()\n",
    "idxs, gt = DDL.get_labeled_ground_truth(subset=DDL.holdout())\n",
    "acc_feats = np.mean(DDL.get_predicted(subset=DDL.holdout()) == gt)\n",
    "print \"Full model accuracy: {:.3f}\".format(acc_feats)"
   ]
  },
  {
   "cell_type": "markdown",
   "metadata": {},
   "source": [
    "Tune in next time for relation extraction!"
   ]
  }
 ],
 "metadata": {
  "kernelspec": {
   "display_name": "Python 2",
   "language": "python",
   "name": "python2"
  },
  "language_info": {
   "codemirror_mode": {
    "name": "ipython",
    "version": 2
   },
   "file_extension": ".py",
   "mimetype": "text/x-python",
   "name": "python",
   "nbconvert_exporter": "python",
   "pygments_lexer": "ipython2",
   "version": "2.7.12"
  }
 },
 "nbformat": 4,
 "nbformat_minor": 0
}
