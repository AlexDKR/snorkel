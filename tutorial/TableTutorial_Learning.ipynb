{
 "cells": [
  {
   "cell_type": "markdown",
   "metadata": {},
   "source": [
    "# Extraction + Learning : Hardware Spec Sheets\n",
    "\n",
    "This notebook demonstrates the full entity extraction process on transistor data sheets, extracting min storage temperatures."
   ]
  },
  {
   "cell_type": "code",
   "execution_count": 1,
   "metadata": {
    "collapsed": false
   },
   "outputs": [
    {
     "name": "stdout",
     "output_type": "stream",
     "text": [
      "The autoreload extension is already loaded. To reload it, use:\n",
      "  %reload_ext autoreload\n"
     ]
    }
   ],
   "source": [
    "%load_ext autoreload\n",
    "%autoreload 2"
   ]
  },
  {
   "cell_type": "markdown",
   "metadata": {},
   "source": [
    "### Extraction"
   ]
  },
  {
   "cell_type": "code",
   "execution_count": 1,
   "metadata": {
    "collapsed": false
   },
   "outputs": [],
   "source": [
    "from snorkel.parser import HTMLParser\n",
    "html_parser = HTMLParser(path='data/hardware/hardware_docs/')"
   ]
  },
  {
   "cell_type": "code",
   "execution_count": 2,
   "metadata": {
    "collapsed": true
   },
   "outputs": [],
   "source": [
    "from snorkel.parser import TableParser\n",
    "table_parser = TableParser()"
   ]
  },
  {
   "cell_type": "code",
   "execution_count": 3,
   "metadata": {
    "collapsed": false
   },
   "outputs": [
    {
     "name": "stdout",
     "output_type": "stream",
     "text": [
      "Parsing documents...\n",
      "Parsing contexts...\n",
      "Parsed 98 documents and 630 contexts\n",
      "CPU times: user 1min 5s, sys: 3.3 s, total: 1min 9s\n",
      "Wall time: 1min 42s\n"
     ]
    }
   ],
   "source": [
    "from snorkel.parser import Corpus\n",
    "%time corpus = Corpus(html_parser, table_parser, max_docs=100)"
   ]
  },
  {
   "cell_type": "code",
   "execution_count": 4,
   "metadata": {
    "collapsed": false
   },
   "outputs": [],
   "source": [
    "from snorkel.candidates import TableNgrams\n",
    "from snorkel.matchers import NumberMatcher, RangeMatcher\n",
    "\n",
    "# Define a candidate space\n",
    "table_ngrams = TableNgrams(n_max=3)\n",
    "\n",
    "# Define a matcher\n",
    "number_matcher = RangeMatcher(low=-80,high=-40)"
   ]
  },
  {
   "cell_type": "code",
   "execution_count": 9,
   "metadata": {
    "collapsed": false
   },
   "outputs": [
    {
     "name": "stdout",
     "output_type": "stream",
     "text": [
      "Extracting candidates...\n",
      "CPU times: user 5.51 s, sys: 39 ms, total: 5.55 s\n",
      "Wall time: 5.55 s\n",
      "<TableNgram(\"-50\", id=71-0-10-0:0-2, chars=[0,2], (row,col)=(2,2), tag=td)\n",
      "<TableNgram(\"-50\", id=97-1-22-0:0-2, chars=[0,2], (row,col)=(2,6), tag=td)\n",
      "<TableNgram(\"-65\", id=37-0-37-0:0-2, chars=[0,2], (row,col)=(10,2), tag=td)\n",
      "<TableNgram(\"-65\", id=37-0-17-0:0-2, chars=[0,2], (row,col)=(5,2), tag=td)\n",
      "<TableNgram(\"-50\", id=2-3-71-0:4-6, chars=[4,6], (row,col)=(16,0), tag=td)\n"
     ]
    }
   ],
   "source": [
    "from snorkel.candidates import Candidates\n",
    "%time candidates = Candidates(table_ngrams, number_matcher, corpus.get_contexts())\n",
    "for c in candidates.get_candidates()[:5]: print c"
   ]
  },
  {
   "cell_type": "markdown",
   "metadata": {},
   "source": [
    "### Learning"
   ]
  },
  {
   "cell_type": "markdown",
   "metadata": {},
   "source": [
    "First, generate gold data."
   ]
  },
  {
   "cell_type": "code",
   "execution_count": 14,
   "metadata": {
    "collapsed": false
   },
   "outputs": [
    {
     "name": "stdout",
     "output_type": "stream",
     "text": [
      "98 gold annotations\n",
      "63 out of 163 candidates are positive\n"
     ]
    }
   ],
   "source": [
    "# read from csv\n",
    "import csv\n",
    "with open('data/hardware/gold_all.csv', 'rb') as csvfile:\n",
    "    gold_reader = csv.reader(csvfile)\n",
    "    gold = []\n",
    "    for row in gold_reader:\n",
    "        (doc, part, temp, label) = row\n",
    "        if label=='stg_temp_min':\n",
    "            gold.append((doc,temp))\n",
    "gold = set(gold)\n",
    "print \"%s gold annotations\" % len(gold)\n",
    "\n",
    "# match with candidates\n",
    "gt_dict = {}\n",
    "for c in candidates.get_candidates():\n",
    "    filename = (corpus.get_doc(c.doc_id).file).split('.')[0]\n",
    "    temp = c.get_attrib_span('words')\n",
    "    label = 1 if (filename, temp) in gold else -1\n",
    "    gt_dict[c.uid] = label\n",
    "print \"%s out of %s candidates are positive\" % (gt_dict.values().count(1), len(gt_dict))"
   ]
  },
  {
   "cell_type": "markdown",
   "metadata": {},
   "source": [
    "Then confirm that features work:"
   ]
  },
  {
   "cell_type": "code",
   "execution_count": 15,
   "metadata": {
    "collapsed": false
   },
   "outputs": [
    {
     "name": "stdout",
     "output_type": "stream",
     "text": [
      "Extracting features...\n",
      "Extracted 1951 features for each of 163 candidates\n"
     ]
    },
    {
     "data": {
      "text/plain": [
       "[u'BASIC_NGRAM_-65',\n",
       " 'TABLE_ROW_NUM_10',\n",
       " 'TABLE_COL_NUM_2',\n",
       " 'TABLE_HTML_TAG_td',\n",
       " 'TABLE_HTML_ATTR_style=width:76pt;border-top-style:solid;border-top-width:1pt;border-left-style:solid;border-left-width:1pt;border-bottom-style:solid;border-bottom-width:1pt;border-right-style:solid;border-right-width:1pt',\n",
       " 'TABLE_HTML_ANC_TAG_tr',\n",
       " 'TABLE_HTML_ANC_TAG_table',\n",
       " 'TABLE_HTML_ANC_TAG_body',\n",
       " 'TABLE_HTML_ANC_ATTR_style=height:12pt',\n",
       " 'TABLE_HTML_ANC_ATTR_style=border-collapse:collapse']"
      ]
     },
     "execution_count": 15,
     "metadata": {},
     "output_type": "execute_result"
    }
   ],
   "source": [
    "from snorkel.features import TableNgramFeaturizer\n",
    "featurizer = TableNgramFeaturizer(candidates, corpus)\n",
    "featurizer.get_features_by_id(candidates.get_candidates()[2].id)[:10]"
   ]
  },
  {
   "cell_type": "markdown",
   "metadata": {},
   "source": [
    "We now build a legacy DDLiteModel with which we will do learning."
   ]
  },
  {
   "cell_type": "code",
   "execution_count": 16,
   "metadata": {
    "collapsed": false,
    "scrolled": true
   },
   "outputs": [
    {
     "name": "stdout",
     "output_type": "stream",
     "text": [
      "113 training data\n",
      "25 test data\n",
      "25 validation data\n"
     ]
    }
   ],
   "source": [
    "from snorkel.snorkel import DDLiteModel\n",
    "DDL = DDLiteModel(candidates.get_candidates(), featurizer.get_features(), gt_dict)\n",
    "\n",
    "DDL.set_holdout(idxs=range(50), validation_frac=0.5)\n",
    "print \"%s training data\" % len(DDL.gt.get_labeled_ground_truth('training')[0])\n",
    "print \"%s test data\" % len(DDL.gt.get_labeled_ground_truth('test')[0])\n",
    "print \"%s validation data\" % len(DDL.gt.get_labeled_ground_truth('validation')[0])"
   ]
  },
  {
   "cell_type": "markdown",
   "metadata": {},
   "source": [
    "Define labeling functions:"
   ]
  },
  {
   "cell_type": "code",
   "execution_count": 17,
   "metadata": {
    "collapsed": true
   },
   "outputs": [],
   "source": [
    "def LF_to(m):\n",
    "    return 1 if 'to' in m.post_window('words') else 0\n",
    "def LF_storage(m):\n",
    "    return 1 if 'storage' in m.aligned('words') else -1\n",
    "def LF_tstg(m):\n",
    "    return 1 if 'tstg' in m.aligned('words') else -1\n",
    "def LF_temperature(m):\n",
    "    return 1 if 'temperature' in m.aligned('words') else -1"
   ]
  },
  {
   "cell_type": "code",
   "execution_count": 18,
   "metadata": {
    "collapsed": false
   },
   "outputs": [],
   "source": [
    "LFs = [LF_to, LF_storage, LF_tstg, LF_temperature]\n",
    "DDL.apply_lfs(LFs, clear=True)"
   ]
  },
  {
   "cell_type": "code",
   "execution_count": 19,
   "metadata": {
    "collapsed": false,
    "scrolled": true
   },
   "outputs": [
    {
     "name": "stdout",
     "output_type": "stream",
     "text": [
      "['LF_to', 'LF_storage', 'LF_tstg', 'LF_temperature']\n",
      "LF stats on training set\n",
      "Coverage:\t100.000%\n",
      "Overlap:\t100.000%\n",
      "Conflict:\t15.044%\n"
     ]
    }
   ],
   "source": [
    "print DDL.lf_names\n",
    "DDL.print_lf_stats()"
   ]
  },
  {
   "cell_type": "code",
   "execution_count": 20,
   "metadata": {
    "collapsed": false
   },
   "outputs": [
    {
     "data": {
      "text/html": [
       "<table><tr><td><b>Labeling function</b></td><td><b>Percent candidates where LF has conflict</b></td></tr><tr><td>LF_to</td><td>4.42%</td></tr><tr><td>LF_storage</td><td>15.04%</td></tr><tr><td>LF_temperature</td><td>15.04%</td></tr></table>"
      ],
      "text/plain": [
       "OrderedDict([('LF_to', ['4.42%']),\n",
       "             ('LF_storage', ['15.04%']),\n",
       "             ('LF_temperature', ['15.04%']),\n",
       "             ('LF_tstg', ['15.04%'])])"
      ]
     },
     "execution_count": 20,
     "metadata": {},
     "output_type": "execute_result"
    }
   ],
   "source": [
    "DDL.top_conflict_lfs(n=3)"
   ]
  },
  {
   "cell_type": "code",
   "execution_count": 21,
   "metadata": {
    "collapsed": false
   },
   "outputs": [
    {
     "data": {
      "text/html": [
       "<table><tr><td><b>Labeling function</b></td><td><b>Candidate coverage</b></td></tr><tr><td>LF_storage</td><td>100.00%</td></tr><tr><td>LF_temperature</td><td>100.00%</td></tr><tr><td>LF_tstg</td><td>100.00%</td></tr></table>"
      ],
      "text/plain": [
       "OrderedDict([('LF_storage', ['100.00%']),\n",
       "             ('LF_temperature', ['100.00%']),\n",
       "             ('LF_tstg', ['100.00%']),\n",
       "             ('LF_to', ['22.12%'])])"
      ]
     },
     "execution_count": 21,
     "metadata": {},
     "output_type": "execute_result"
    }
   ],
   "source": [
    "DDL.lowest_coverage_lfs(n=3)"
   ]
  },
  {
   "cell_type": "markdown",
   "metadata": {},
   "source": [
    "Now learn, baby, learn!"
   ]
  },
  {
   "cell_type": "code",
   "execution_count": 22,
   "metadata": {
    "collapsed": false
   },
   "outputs": [
    {
     "name": "stdout",
     "output_type": "stream",
     "text": [
      "Begin training for rate=0.01, mu=1e-07\n",
      "\tLearning epoch = 0\tGradient mag. = 0.665616\n",
      "\tLearning epoch = 250\tGradient mag. = 0.613791\n",
      "Final gradient magnitude for rate=0.01, mu=1e-07: 0.372\n",
      "Running in False mode...\n",
      "Begin training for rate=0.01, mu=1e-09\n",
      "\tLearning epoch = 0\tGradient mag. = 0.181905\n",
      "\tLearning epoch = 250\tGradient mag. = 0.190337\n",
      "\tLearning epoch = 500\tGradient mag. = 0.189210\n",
      "\tLearning epoch = 750\tGradient mag. = 0.188100\n",
      "\tLearning epoch = 1000\tGradient mag. = 0.187005\n",
      "\tLearning epoch = 1250\tGradient mag. = 0.185925\n",
      "\tLearning epoch = 1500\tGradient mag. = 0.184860\n",
      "\tLearning epoch = 1750\tGradient mag. = 0.183809\n",
      "\tLearning epoch = 2000\tGradient mag. = 0.182773\n",
      "\tLearning epoch = 2250\tGradient mag. = 0.181749\n",
      "\tLearning epoch = 2500\tGradient mag. = 0.180739\n",
      "\tLearning epoch = 2750\tGradient mag. = 0.179742\n",
      "Final gradient magnitude for rate=0.01, mu=1e-09: 0.179\n",
      "Begin training for rate=0.01, mu=1e-05\n",
      "\tLearning epoch = 0\tGradient mag. = 0.181905\n",
      "\tLearning epoch = 250\tGradient mag. = 0.190337\n",
      "\tLearning epoch = 500\tGradient mag. = 0.189211\n",
      "\tLearning epoch = 750\tGradient mag. = 0.188101\n",
      "\tLearning epoch = 1000\tGradient mag. = 0.187007\n",
      "\tLearning epoch = 1250\tGradient mag. = 0.185928\n",
      "\tLearning epoch = 1500\tGradient mag. = 0.184863\n",
      "\tLearning epoch = 1750\tGradient mag. = 0.183812\n",
      "\tLearning epoch = 2000\tGradient mag. = 0.182776\n",
      "\tLearning epoch = 2250\tGradient mag. = 0.181753\n",
      "\tLearning epoch = 2500\tGradient mag. = 0.180744\n",
      "\tLearning epoch = 2750\tGradient mag. = 0.179747\n",
      "Final gradient magnitude for rate=0.01, mu=1e-05: 0.179\n",
      "Begin training for rate=0.01, mu=0.001\n",
      "\tLearning epoch = 0\tGradient mag. = 0.181905\n",
      "\tLearning epoch = 250\tGradient mag. = 0.190378\n",
      "\tLearning epoch = 500\tGradient mag. = 0.189295\n",
      "\tLearning epoch = 750\tGradient mag. = 0.188227\n",
      "\tLearning epoch = 1000\tGradient mag. = 0.187176\n",
      "\tLearning epoch = 1250\tGradient mag. = 0.186141\n",
      "\tLearning epoch = 1500\tGradient mag. = 0.185121\n",
      "\tLearning epoch = 1750\tGradient mag. = 0.184116\n",
      "\tLearning epoch = 2000\tGradient mag. = 0.183125\n",
      "\tLearning epoch = 2250\tGradient mag. = 0.182149\n",
      "\tLearning epoch = 2500\tGradient mag. = 0.181186\n",
      "\tLearning epoch = 2750\tGradient mag. = 0.180237\n",
      "Final gradient magnitude for rate=0.01, mu=0.001: 0.179\n",
      "Begin training for rate=0.01, mu=0.1\n",
      "\tLearning epoch = 0\tGradient mag. = 0.181905\n",
      "SGD converged for mu=0.1 after 10 steps\n"
     ]
    },
    {
     "data": {
      "image/png": "[encoded data removed]",
      "text/plain": [
       "<matplotlib.figure.Figure at 0x117211610>"
      ]
     },
     "metadata": {},
     "output_type": "display_data"
    },
    {
     "name": "stdout",
     "output_type": "stream",
     "text": [
      "CPU times: user 3.73 s, sys: 60.8 ms, total: 3.79 s\n",
      "Wall time: 3.82 s\n"
     ]
    },
    {
     "data": {
      "text/html": [
       "<table><tr><td><b>ID</b></td><td><b># LFs</b></td><td><b>Test set size</b></td><td><b>Model</b></td><td><b>Precision</b></td><td><b>Recall</b></td><td><b>F1</b></td></tr><tr><td>0</td><td>4</td><td>25</td><td>Logistic regression</td><td>1.000</td><td>1.000</td><td>1.000</td></tr></table><table><tr><td><b>LF</b></td></tr><tr><td>LF_to</td></tr><tr><td>LF_storage</td></tr><tr><td>LF_tstg</td></tr><tr><td>LF_temperature</td></tr></table>"
      ],
      "text/plain": [
       "<snorkel.snorkel.ModelLog instance at 0x113539e60>"
      ]
     },
     "execution_count": 22,
     "metadata": {},
     "output_type": "execute_result"
    }
   ],
   "source": [
    "import matplotlib\n",
    "import numpy as np\n",
    "%matplotlib inline\n",
    "matplotlib.rcParams['figure.figsize'] = (12,4)\n",
    "mu_seq = np.ravel([1e-9, 1e-5, 1e-3, 1e-1])\n",
    "lf_opts = {'sample': False, 'verbose': True}\n",
    "model_opts = {'sample': False, 'n_iter': 3000, 'alpha': 0.5, 'mu': mu_seq, 'bias': False, 'verbose': True}\n",
    "%time DDL.train_model(method='lr', lf_opts=lf_opts, model_opts=model_opts)"
   ]
  },
  {
   "cell_type": "code",
   "execution_count": 23,
   "metadata": {
    "collapsed": false
   },
   "outputs": [
    {
     "name": "stdout",
     "output_type": "stream",
     "text": [
      "Full model accuracy: 0.980\n"
     ]
    }
   ],
   "source": [
    "DDL.show_log()\n",
    "idxs, gt = DDL.get_labeled_ground_truth(subset=DDL.holdout())\n",
    "acc_feats = np.mean(DDL.get_predicted(subset=DDL.holdout()) == gt)\n",
    "print \"Full model accuracy: {:.3f}\".format(acc_feats)"
   ]
  },
  {
   "cell_type": "markdown",
   "metadata": {},
   "source": [
    "Tune in next time for relation extraction!"
   ]
  }
 ],
 "metadata": {
  "kernelspec": {
   "display_name": "Python 2",
   "language": "python",
   "name": "python2"
  },
  "language_info": {
   "codemirror_mode": {
    "name": "ipython",
    "version": 2
   },
   "file_extension": ".py",
   "mimetype": "text/x-python",
   "name": "python",
   "nbconvert_exporter": "python",
   "pygments_lexer": "ipython2",
   "version": "2.7.12"
  }
 },
 "nbformat": 4,
 "nbformat_minor": 0
}
