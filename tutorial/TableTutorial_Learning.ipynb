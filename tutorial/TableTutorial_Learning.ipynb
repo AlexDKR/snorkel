{
 "cells": [
  {
   "cell_type": "markdown",
   "metadata": {},
   "source": [
    "# Extraction + Learning : Hardware Spec Sheets\n",
    "\n",
    "This notebook demonstrates the full entity extraction process on transistor data sheets, extracting min storage temperatures."
   ]
  },
  {
   "cell_type": "code",
   "execution_count": null,
   "metadata": {
    "collapsed": false
   },
   "outputs": [],
   "source": [
    "%load_ext autoreload\n",
    "%autoreload 2"
   ]
  },
  {
   "cell_type": "code",
   "execution_count": null,
   "metadata": {
    "collapsed": false
   },
   "outputs": [],
   "source": [
    "# from snorkel import SnorkelSession\n",
    "# session = SnorkelSession()"
   ]
  },
  {
   "cell_type": "markdown",
   "metadata": {},
   "source": [
    "### Extraction"
   ]
  },
  {
   "cell_type": "code",
   "execution_count": 1,
   "metadata": {
    "collapsed": false
   },
   "outputs": [],
   "source": [
    "from snorkel.parser import HTMLParser\n",
    "html_parser = HTMLParser(path='data/hardware/hardware_docs/')"
   ]
  },
  {
   "cell_type": "code",
   "execution_count": 2,
   "metadata": {
    "collapsed": false
   },
   "outputs": [],
   "source": [
    "from snorkel.parser import TableParser\n",
    "table_parser = TableParser()"
   ]
  },
  {
   "cell_type": "code",
   "execution_count": 3,
   "metadata": {
    "collapsed": false,
    "scrolled": true
   },
   "outputs": [
    {
     "name": "stdout",
     "output_type": "stream",
     "text": [
      "CPU times: user 58.8 s, sys: 1.12 s, total: 59.9 s\n",
      "Wall time: 1min 28s\n"
     ]
    }
   ],
   "source": [
    "from snorkel.parser import CorpusParser\n",
    "cp = CorpusParser(html_parser, table_parser, max_docs=200)\n",
    "%time corpus = cp.parse_corpus(name='Hardware Corpus')"
   ]
  },
  {
   "cell_type": "code",
   "execution_count": 4,
   "metadata": {
    "collapsed": false
   },
   "outputs": [],
   "source": [
    "# session.add(corpus)\n",
    "# session.commit()"
   ]
  },
  {
   "cell_type": "code",
   "execution_count": 5,
   "metadata": {
    "collapsed": true
   },
   "outputs": [],
   "source": [
    "# from snorkel.models import Corpus\n",
    "# corpus = session.query(Corpus).filter(Corpus.name == 'CDR Corpus').one()\n",
    "# corpus"
   ]
  },
  {
   "cell_type": "code",
   "execution_count": 80,
   "metadata": {
    "collapsed": false
   },
   "outputs": [],
   "source": [
    "from snorkel.candidates import TableNgrams\n",
    "from snorkel.matchers import NumberMatcher, RangeMatcher\n",
    "\n",
    "# Define a candidate space\n",
    "ngrams = TableNgrams(n_max=3)\n",
    "\n",
    "# Define a matcher\n",
    "number_matcher = RangeMatcher(low=-70,high=-50)"
   ]
  },
  {
   "cell_type": "code",
   "execution_count": 81,
   "metadata": {
    "collapsed": false
   },
   "outputs": [
    {
     "name": "stdout",
     "output_type": "stream",
     "text": [
      "CPU times: user 21.2 s, sys: 2.89 s, total: 24.1 s\n",
      "Wall time: 24.4 s\n",
      "Ngram(\"-55\", context=None, chars=[297,299], words=[0,0])\n",
      "Ngram(\"-50\", context=None, chars=[414,416], words=[0,0])\n",
      "Ngram(\"-50\", context=None, chars=[494,496], words=[0,0])\n",
      "Ngram(\"-50\", context=None, chars=[683,685], words=[2,2])\n",
      "Ngram(\"-50\", context=None, chars=[854,856], words=[2,2])\n",
      "Ngram(\"-50\", context=None, chars=[991,993], words=[2,2])\n",
      "Ngram(\"-55\", context=None, chars=[294,296], words=[0,0])\n",
      "Ngram(\"-55\", context=None, chars=[292,294], words=[0,0])\n",
      "Ngram(\"-55\", context=None, chars=[355,357], words=[0,0])\n",
      "Ngram(\"-50\", context=None, chars=[410,412], words=[0,0])\n",
      "108 candidates extracted\n"
     ]
    }
   ],
   "source": [
    "# from snorkel.candidates import Candidates\n",
    "# %time candidates = Candidates(ngrams, number_matcher, corpus.get_contexts())\n",
    "# for c in candidates.get_candidates()[:5]: print c\n",
    "    \n",
    "from snorkel.candidates import CandidateExtractor\n",
    "ce = CandidateExtractor(ngrams, number_matcher)\n",
    "%time candidates = ce.extract(corpus.get_tables(), name='all')\n",
    "for cand in candidates[:10]: \n",
    "    print cand\n",
    "print \"%s candidates extracted\" % len(candidates)"
   ]
  },
  {
   "cell_type": "markdown",
   "metadata": {},
   "source": [
    "### Learning"
   ]
  },
  {
   "cell_type": "markdown",
   "metadata": {},
   "source": [
    "First, generate gold data."
   ]
  },
  {
   "cell_type": "code",
   "execution_count": 82,
   "metadata": {
    "collapsed": false
   },
   "outputs": [
    {
     "name": "stdout",
     "output_type": "stream",
     "text": [
      "98 gold annotations\n",
      "59 out of 108 candidates have gold labels\n",
      "51 out of 59 labeled candidates have positive label\n"
     ]
    }
   ],
   "source": [
    "from utils import collect_hardware_temperature_annotations\n",
    "gt_dict = collect_hardware_temperature_annotations('data/hardware/gold_all.csv', 'stg_temp_min', candidates)\n",
    "print \"%s out of %s candidates have gold labels\" % (len(gt_dict),len(candidates))\n",
    "print \"%s out of %s labeled candidates have positive label\" \\\n",
    "        % (gt_dict.values().count(1), len(gt_dict))"
   ]
  },
  {
   "cell_type": "markdown",
   "metadata": {},
   "source": [
    "Then confirm that features work:"
   ]
  },
  {
   "cell_type": "code",
   "execution_count": 83,
   "metadata": {
    "collapsed": false
   },
   "outputs": [
    {
     "name": "stdout",
     "output_type": "stream",
     "text": [
      "DDLIB_WORD_SEQ_[-55]\n",
      "DDLIB_LEMMA_SEQ_[-55]\n",
      "DDLIB_POS_SEQ_[CD]\n",
      "DDLIB_DEP_SEQ_[ROOT]\n",
      "DDLIB_W_LEFT_1_[_NUMBER]\n",
      "DDLIB_W_LEFT_POS_1_[CD]\n",
      "DDLIB_W_LEFT_2_[to _NUMBER]\n",
      "DDLIB_W_LEFT_POS_2_[TO CD]\n",
      "DDLIB_W_LEFT_3_[_NUMBER to _NUMBER]\n",
      "DDLIB_W_LEFT_POS_3_[CD TO CD]\n"
     ]
    }
   ],
   "source": [
    "from snorkel.features import TableNgramFeaturizer\n",
    "featurizer = TableNgramFeaturizer()\n",
    "featurizer.fit_transform(candidates)\n",
    "for f in featurizer.get_features_by_candidate(candidates[0])[:10]: print f"
   ]
  },
  {
   "cell_type": "markdown",
   "metadata": {},
   "source": [
    "We now build a legacy DDLiteModel with which we will do learning."
   ]
  },
  {
   "cell_type": "code",
   "execution_count": 98,
   "metadata": {
    "collapsed": false,
    "scrolled": true
   },
   "outputs": [
    {
     "name": "stdout",
     "output_type": "stream",
     "text": [
      "37 training data\n",
      "13 test data\n",
      "9 validation data\n"
     ]
    }
   ],
   "source": [
    "from snorkel.snorkel import DDLiteModel\n",
    "DDL = DDLiteModel(candidates, featurizer.fit_transform(candidates), gt_dict)\n",
    "\n",
    "DDL.set_holdout(idxs=range(int(len(gt_dict)*.7)), validation_frac=0.5)\n",
    "print \"%s training data\" % len(DDL.gt.get_labeled_ground_truth('training')[0])\n",
    "print \"%s test data\" % len(DDL.gt.get_labeled_ground_truth('test')[0])\n",
    "print \"%s validation data\" % len(DDL.gt.get_labeled_ground_truth('validation')[0])"
   ]
  },
  {
   "cell_type": "markdown",
   "metadata": {},
   "source": [
    "Define labeling functions:"
   ]
  },
  {
   "cell_type": "code",
   "execution_count": 99,
   "metadata": {
    "collapsed": false
   },
   "outputs": [],
   "source": [
    "def LF_to(m):\n",
    "    return 1 if 'to' in m.post_window('words') else 0\n",
    "def LF_storage(m):\n",
    "    return 1 if 'storage' in m.aligned_ngrams('words') else -1\n",
    "def LF_tstg(m):\n",
    "    return 1 if 'tstg' in m.aligned_ngrams('words') else -1\n",
    "def LF_temperature(m):\n",
    "    return 1 if 'temperature' in m.aligned_ngrams('words') else -1"
   ]
  },
  {
   "cell_type": "code",
   "execution_count": 100,
   "metadata": {
    "collapsed": false
   },
   "outputs": [],
   "source": [
    "LFs = [LF_to, LF_storage, LF_tstg, LF_temperature]\n",
    "DDL.apply_lfs(LFs, clear=True)"
   ]
  },
  {
   "cell_type": "code",
   "execution_count": 101,
   "metadata": {
    "collapsed": false,
    "scrolled": true
   },
   "outputs": [
    {
     "name": "stdout",
     "output_type": "stream",
     "text": [
      "['LF_to', 'LF_storage', 'LF_tstg', 'LF_temperature']\n",
      "LF stats on training set\n",
      "Coverage:\t100.000%\n",
      "Overlap:\t100.000%\n",
      "Conflict:\t10.448%\n"
     ]
    }
   ],
   "source": [
    "print DDL.lf_names\n",
    "DDL.print_lf_stats()"
   ]
  },
  {
   "cell_type": "code",
   "execution_count": 102,
   "metadata": {
    "collapsed": false
   },
   "outputs": [
    {
     "data": {
      "text/html": [
       "<table><tr><td><b>Labeling function</b></td><td><b>Percent candidates where LF has conflict</b></td></tr><tr><td>LF_to</td><td>7.46%</td></tr><tr><td>LF_storage</td><td>10.45%</td></tr><tr><td>LF_temperature</td><td>10.45%</td></tr></table>"
      ],
      "text/plain": [
       "OrderedDict([('LF_to', ['7.46%']),\n",
       "             ('LF_storage', ['10.45%']),\n",
       "             ('LF_temperature', ['10.45%']),\n",
       "             ('LF_tstg', ['10.45%'])])"
      ]
     },
     "execution_count": 102,
     "metadata": {},
     "output_type": "execute_result"
    }
   ],
   "source": [
    "DDL.top_conflict_lfs(n=3)"
   ]
  },
  {
   "cell_type": "code",
   "execution_count": 103,
   "metadata": {
    "collapsed": false
   },
   "outputs": [
    {
     "data": {
      "text/html": [
       "<table><tr><td><b>Labeling function</b></td><td><b>Candidate coverage</b></td></tr><tr><td>LF_storage</td><td>100.00%</td></tr><tr><td>LF_temperature</td><td>100.00%</td></tr><tr><td>LF_tstg</td><td>100.00%</td></tr></table>"
      ],
      "text/plain": [
       "OrderedDict([('LF_storage', ['100.00%']),\n",
       "             ('LF_temperature', ['100.00%']),\n",
       "             ('LF_tstg', ['100.00%']),\n",
       "             ('LF_to', ['28.36%'])])"
      ]
     },
     "execution_count": 103,
     "metadata": {},
     "output_type": "execute_result"
    }
   ],
   "source": [
    "DDL.lowest_coverage_lfs(n=3)"
   ]
  },
  {
   "cell_type": "markdown",
   "metadata": {},
   "source": [
    "Now learn, baby, learn!"
   ]
  },
  {
   "cell_type": "code",
   "execution_count": 104,
   "metadata": {
    "collapsed": false
   },
   "outputs": [
    {
     "name": "stdout",
     "output_type": "stream",
     "text": [
      "Begin training for rate=0.01, mu=1e-07\n",
      "\tLearning epoch = 0\tGradient mag. = 0.791105\n",
      "\tLearning epoch = 250\tGradient mag. = 0.703062\n",
      "Final gradient magnitude for rate=0.01, mu=1e-07: 0.365\n",
      "Running in False mode...\n",
      "Begin training for rate=0.01, mu=1e-09\n",
      "\tLearning epoch = 0\tGradient mag. = 0.120386\n",
      "\tLearning epoch = 250\tGradient mag. = 0.126470\n",
      "\tLearning epoch = 500\tGradient mag. = 0.126219\n",
      "\tLearning epoch = 750\tGradient mag. = 0.125969\n",
      "\tLearning epoch = 1000\tGradient mag. = 0.125720\n",
      "\tLearning epoch = 1250\tGradient mag. = 0.125473\n",
      "\tLearning epoch = 1500\tGradient mag. = 0.125226\n",
      "\tLearning epoch = 1750\tGradient mag. = 0.124981\n",
      "\tLearning epoch = 2000\tGradient mag. = 0.124736\n",
      "\tLearning epoch = 2250\tGradient mag. = 0.124493\n",
      "\tLearning epoch = 2500\tGradient mag. = 0.124251\n",
      "\tLearning epoch = 2750\tGradient mag. = 0.124010\n",
      "Final gradient magnitude for rate=0.01, mu=1e-09: 0.124\n",
      "Begin training for rate=0.01, mu=1e-05\n",
      "\tLearning epoch = 0\tGradient mag. = 0.120386\n",
      "\tLearning epoch = 250\tGradient mag. = 0.126471\n",
      "\tLearning epoch = 500\tGradient mag. = 0.126220\n",
      "\tLearning epoch = 750\tGradient mag. = 0.125970\n",
      "\tLearning epoch = 1000\tGradient mag. = 0.125721\n",
      "\tLearning epoch = 1250\tGradient mag. = 0.125474\n",
      "\tLearning epoch = 1500\tGradient mag. = 0.125227\n",
      "\tLearning epoch = 1750\tGradient mag. = 0.124982\n",
      "\tLearning epoch = 2000\tGradient mag. = 0.124738\n",
      "\tLearning epoch = 2250\tGradient mag. = 0.124495\n",
      "\tLearning epoch = 2500\tGradient mag. = 0.124253\n",
      "\tLearning epoch = 2750\tGradient mag. = 0.124013\n",
      "Final gradient magnitude for rate=0.01, mu=1e-05: 0.124\n",
      "Begin training for rate=0.01, mu=0.001\n",
      "\tLearning epoch = 0\tGradient mag. = 0.120386\n",
      "\tLearning epoch = 250\tGradient mag. = 0.126492\n",
      "\tLearning epoch = 500\tGradient mag. = 0.126264\n",
      "\tLearning epoch = 750\tGradient mag. = 0.126036\n",
      "\tLearning epoch = 1000\tGradient mag. = 0.125810\n",
      "\tLearning epoch = 1250\tGradient mag. = 0.125586\n",
      "\tLearning epoch = 1500\tGradient mag. = 0.125362\n",
      "\tLearning epoch = 1750\tGradient mag. = 0.125140\n",
      "\tLearning epoch = 2000\tGradient mag. = 0.124919\n",
      "\tLearning epoch = 2250\tGradient mag. = 0.124700\n",
      "\tLearning epoch = 2500\tGradient mag. = 0.124482\n",
      "\tLearning epoch = 2750\tGradient mag. = 0.124265\n",
      "Final gradient magnitude for rate=0.01, mu=0.001: 0.124\n",
      "Begin training for rate=0.01, mu=0.1\n",
      "\tLearning epoch = 0\tGradient mag. = 0.120386\n",
      "SGD converged for mu=0.1 after 10 steps\n"
     ]
    },
    {
     "data": {
      "image/png": "[encoded data removed]",
      "text/plain": [
       "<matplotlib.figure.Figure at 0x1c1eaf450>"
      ]
     },
     "metadata": {},
     "output_type": "display_data"
    },
    {
     "name": "stdout",
     "output_type": "stream",
     "text": [
      "CPU times: user 8.71 s, sys: 135 ms, total: 8.84 s\n",
      "Wall time: 4.8 s\n"
     ]
    },
    {
     "data": {
      "text/html": [
       "<table><tr><td><b>ID</b></td><td><b># LFs</b></td><td><b>Test set size</b></td><td><b>Model</b></td><td><b>Precision</b></td><td><b>Recall</b></td><td><b>F1</b></td></tr><tr><td>0</td><td>4</td><td>13</td><td>Logistic regression</td><td>1.000</td><td>1.000</td><td>1.000</td></tr></table><table><tr><td><b>LF</b></td></tr><tr><td>LF_to</td></tr><tr><td>LF_storage</td></tr><tr><td>LF_tstg</td></tr><tr><td>LF_temperature</td></tr></table>"
      ],
      "text/plain": [
       "<snorkel.snorkel.ModelLog instance at 0x17bc7f950>"
      ]
     },
     "execution_count": 104,
     "metadata": {},
     "output_type": "execute_result"
    }
   ],
   "source": [
    "import matplotlib\n",
    "import numpy as np\n",
    "%matplotlib inline\n",
    "matplotlib.rcParams['figure.figsize'] = (12,4)\n",
    "mu_seq = np.ravel([1e-9, 1e-5, 1e-3, 1e-1])\n",
    "lf_opts = {'sample': False, 'verbose': True}\n",
    "model_opts = {'sample': False, 'n_iter': 3000, 'alpha': 0.5, 'mu': mu_seq, 'bias': False, 'verbose': True}\n",
    "%time DDL.train_model(method='lr', lf_opts=lf_opts, model_opts=model_opts)"
   ]
  },
  {
   "cell_type": "code",
   "execution_count": 64,
   "metadata": {
    "collapsed": false
   },
   "outputs": [
    {
     "name": "stdout",
     "output_type": "stream",
     "text": [
      "Full model accuracy: 0.000\n"
     ]
    },
    {
     "name": "stderr",
     "output_type": "stream",
     "text": [
      "/Users/bradenhancock/anaconda/lib/python2.7/site-packages/ipykernel/__main__.py:3: DeprecationWarning: elementwise == comparison failed; this will raise an error in the future.\n",
      "  app.launch_new_instance()\n"
     ]
    }
   ],
   "source": [
    "DDL.show_log()\n",
    "idxs, gt = DDL.get_labeled_ground_truth(subset=DDL.holdout())\n",
    "acc_feats = np.mean(DDL.get_predicted(subset=DDL.holdout()) == gt)\n",
    "print \"Full model accuracy: {:.3f}\".format(acc_feats)"
   ]
  },
  {
   "cell_type": "markdown",
   "metadata": {},
   "source": [
    "Tune in next time for relation extraction!"
   ]
  }
 ],
 "metadata": {
  "kernelspec": {
   "display_name": "Python 2",
   "language": "python",
   "name": "python2"
  },
  "language_info": {
   "codemirror_mode": {
    "name": "ipython",
    "version": 2
   },
   "file_extension": ".py",
   "mimetype": "text/x-python",
   "name": "python",
   "nbconvert_exporter": "python",
   "pygments_lexer": "ipython2",
   "version": "2.7.12"
  }
 },
 "nbformat": 4,
 "nbformat_minor": 0
}
