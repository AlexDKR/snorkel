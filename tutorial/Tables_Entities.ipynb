{
 "cells": [
  {
   "cell_type": "markdown",
   "metadata": {},
   "source": [
    "# Entity Extraction from Tables\n",
    "\n",
    "This notebook demonstrates the full extraction and learning process for _entities_ in tables with a data set of transistor spec sheets, extracting minimum storage temperatures."
   ]
  },
  {
   "cell_type": "code",
   "execution_count": 1,
   "metadata": {
    "collapsed": false
   },
   "outputs": [
    {
     "name": "stdout",
     "output_type": "stream",
     "text": [
      "The autoreload extension is already loaded. To reload it, use:\n",
      "  %reload_ext autoreload\n"
     ]
    }
   ],
   "source": [
    "%load_ext autoreload\n",
    "%autoreload 2"
   ]
  },
  {
   "cell_type": "code",
   "execution_count": 2,
   "metadata": {
    "collapsed": false
   },
   "outputs": [],
   "source": [
    "# from snorkel import SnorkelSession\n",
    "# session = SnorkelSession()"
   ]
  },
  {
   "cell_type": "markdown",
   "metadata": {},
   "source": [
    "### Extraction"
   ]
  },
  {
   "cell_type": "code",
   "execution_count": 3,
   "metadata": {
    "collapsed": false
   },
   "outputs": [],
   "source": [
    "from snorkel.parser import HTMLParser\n",
    "html_parser = HTMLParser(path='data/hardware/hardware_html/')"
   ]
  },
  {
   "cell_type": "code",
   "execution_count": 4,
   "metadata": {
    "collapsed": false
   },
   "outputs": [],
   "source": [
    "from snorkel.parser import TableParser\n",
    "table_parser = TableParser()"
   ]
  },
  {
   "cell_type": "code",
   "execution_count": 5,
   "metadata": {
    "collapsed": false,
    "scrolled": true
   },
   "outputs": [
    {
     "name": "stdout",
     "output_type": "stream",
     "text": [
      "CPU times: user 35.3 s, sys: 1.41 s, total: 36.7 s\n",
      "Wall time: 36.9 s\n",
      "Corpus has been loaded.\n"
     ]
    }
   ],
   "source": [
    "try:\n",
    "    import cPickle\n",
    "    with open(\"data/hardware/hardware_corpus.pkl\",\"r\") as pkl:\n",
    "        %time corpus = cPickle.load(pkl)\n",
    "    print \"Corpus has been loaded.\"\n",
    "except:\n",
    "    from snorkel.parser import CorpusParser\n",
    "    cp = CorpusParser(html_parser, table_parser, max_docs=200)\n",
    "    %time corpus = cp.parse_corpus(name='Hardware Corpus')\n",
    "    print \"Corpus has been parsed.\""
   ]
  },
  {
   "cell_type": "code",
   "execution_count": 6,
   "metadata": {
    "collapsed": false
   },
   "outputs": [
    {
     "name": "stdout",
     "output_type": "stream",
     "text": [
      "CPU times: user 27.9 s, sys: 1.87 s, total: 29.8 s\n",
      "Wall time: 30.3 s\n",
      "Corpus has been pickled.\n"
     ]
    }
   ],
   "source": [
    "# import cPickle\n",
    "# with open(\"data/hardware/hardware_corpus.pkl\",'wb') as pkl:\n",
    "#     %time cPickle.dump(corpus, pkl)\n",
    "# print \"Corpus has been pickled.\""
   ]
  },
  {
   "cell_type": "code",
   "execution_count": 7,
   "metadata": {
    "collapsed": false
   },
   "outputs": [],
   "source": [
    "# session.add(corpus)\n",
    "# session.commit()"
   ]
  },
  {
   "cell_type": "code",
   "execution_count": 8,
   "metadata": {
    "collapsed": false
   },
   "outputs": [],
   "source": [
    "# from snorkel.models import Corpus\n",
    "# corpus = session.query(Corpus).filter(Corpus.name == 'Hardware Corpus').one()\n",
    "# corpus"
   ]
  },
  {
   "cell_type": "code",
   "execution_count": 9,
   "metadata": {
    "collapsed": false
   },
   "outputs": [],
   "source": [
    "from snorkel.candidates import TableNgrams\n",
    "from snorkel.matchers import NumberMatcher, RangeMatcher\n",
    "\n",
    "# Define a candidate space\n",
    "ngrams = TableNgrams(n_max=3)\n",
    "\n",
    "# Define a matcher\n",
    "number_matcher = RangeMatcher(low=-70,high=-50)"
   ]
  },
  {
   "cell_type": "code",
   "execution_count": 10,
   "metadata": {
    "collapsed": false
   },
   "outputs": [
    {
     "name": "stdout",
     "output_type": "stream",
     "text": [
      "CPU times: user 25.2 s, sys: 408 ms, total: 25.6 s\n",
      "Wall time: 25.5 s\n",
      "Ngram(\"-55\", context=None, chars=[297,299], words=[0,0])\n",
      "Ngram(\"-50\", context=None, chars=[414,416], words=[0,0])\n",
      "Ngram(\"-50\", context=None, chars=[494,496], words=[0,0])\n",
      "Ngram(\"-50\", context=None, chars=[683,685], words=[2,2])\n",
      "Ngram(\"-50\", context=None, chars=[854,856], words=[2,2])\n",
      "Ngram(\"-50\", context=None, chars=[991,993], words=[2,2])\n",
      "Ngram(\"-55\", context=None, chars=[294,296], words=[0,0])\n",
      "Ngram(\"-55\", context=None, chars=[292,294], words=[0,0])\n",
      "Ngram(\"-55\", context=None, chars=[355,357], words=[0,0])\n",
      "Ngram(\"-50\", context=None, chars=[410,412], words=[0,0])\n",
      "108 candidates extracted\n"
     ]
    }
   ],
   "source": [
    "# from snorkel.candidates import Candidates\n",
    "# %time candidates = Candidates(ngrams, number_matcher, corpus.get_contexts())\n",
    "# for c in candidates.get_candidates()[:5]: print c\n",
    "    \n",
    "from snorkel.candidates import EntityExtractor\n",
    "ce = EntityExtractor(ngrams, number_matcher)\n",
    "%time candidates = ce.extract(corpus.get_tables(), name='all')\n",
    "for cand in candidates[:10]: \n",
    "    print cand\n",
    "print \"%s candidates extracted\" % len(candidates)"
   ]
  },
  {
   "cell_type": "code",
   "execution_count": 11,
   "metadata": {
    "collapsed": true
   },
   "outputs": [],
   "source": [
    "# session.add(candidates)\n",
    "# session.commit()"
   ]
  },
  {
   "cell_type": "code",
   "execution_count": 12,
   "metadata": {
    "collapsed": true
   },
   "outputs": [],
   "source": [
    "# from snorkel.models import CandidateSet\n",
    "# candidates = session.query(CandidateSet).filter(CandidateSet.name == 'all').one()\n",
    "# print len(candidates)"
   ]
  },
  {
   "cell_type": "markdown",
   "metadata": {},
   "source": [
    "### Learning"
   ]
  },
  {
   "cell_type": "markdown",
   "metadata": {},
   "source": [
    "First, generate gold data."
   ]
  },
  {
   "cell_type": "code",
   "execution_count": 13,
   "metadata": {
    "collapsed": false
   },
   "outputs": [
    {
     "name": "stdout",
     "output_type": "stream",
     "text": [
      "98 gold annotations\n",
      "59 out of 108 candidates have gold labels\n",
      "51 out of 59 labeled candidates have positive label\n"
     ]
    }
   ],
   "source": [
    "from utils import collect_hardware_entity_gold\n",
    "filename='data/hardware/gold_all.csv'\n",
    "gt_dict = collect_hardware_entity_gold(filename, 'stg_temp_min', candidates)\n",
    "print \"%s out of %s candidates have gold labels\" % (len(gt_dict),len(candidates))\n",
    "print \"%s out of %s labeled candidates have positive label\" \\\n",
    "        % (gt_dict.values().count(1), len(gt_dict))"
   ]
  },
  {
   "cell_type": "markdown",
   "metadata": {},
   "source": [
    "Then confirm that features work:"
   ]
  },
  {
   "cell_type": "code",
   "execution_count": null,
   "metadata": {
    "collapsed": false
   },
   "outputs": [
    {
     "name": "stdout",
     "output_type": "stream",
     "text": [
      "DDLIB_WORD_SEQ_[-55]\n",
      "DDLIB_LEMMA_SEQ_[-55]\n",
      "DDLIB_POS_SEQ_[CD]\n",
      "DDLIB_DEP_SEQ_[ROOT]\n",
      "DDLIB_W_LEFT_1_[_NUMBER]\n",
      "DDLIB_W_LEFT_POS_1_[CD]\n",
      "DDLIB_W_LEFT_2_[to _NUMBER]\n",
      "DDLIB_W_LEFT_POS_2_[TO CD]\n",
      "DDLIB_W_LEFT_3_[_NUMBER to _NUMBER]\n",
      "DDLIB_W_LEFT_POS_3_[CD TO CD]\n",
      "DDLIB_W_RIGHT_1_[to]\n",
      "DDLIB_W_RIGHT_POS_1_[TO]\n",
      "DDLIB_W_RIGHT_2_[to _NUMBER]\n",
      "DDLIB_W_RIGHT_POS_2_[TO CD]\n",
      "DDLIB_W_LEMMA_L_1_R_1_[_NUMBER]_[to]\n",
      "DDLIB_W_POS_L_1_R_1_[CD]_[TO]\n",
      "DDLIB_W_LEMMA_L_1_R_2_[_NUMBER]_[to _NUMBER]\n",
      "DDLIB_W_POS_L_1_R_2_[CD]_[TO CD]\n",
      "DDLIB_W_LEMMA_L_2_R_1_[to _NUMBER]_[to]\n",
      "DDLIB_W_POS_L_2_R_1_[TO CD]_[TO]\n",
      "DDLIB_W_LEMMA_L_2_R_2_[to _NUMBER]_[to _NUMBER]\n",
      "DDLIB_W_POS_L_2_R_2_[TO CD]_[TO CD]\n",
      "DDLIB_W_LEMMA_L_3_R_1_[_NUMBER to _NUMBER]_[to]\n",
      "DDLIB_W_POS_L_3_R_1_[CD TO CD]_[TO]\n",
      "DDLIB_W_LEMMA_L_3_R_2_[_NUMBER to _NUMBER]_[to _NUMBER]\n",
      "DDLIB_W_POS_L_3_R_2_[CD TO CD]_[TO CD]\n",
      "DDLIB_NUM_WORDS_1\n",
      "TABLE_ROW_NUM_5\n",
      "TABLE_COL_NUM_2\n",
      "TABLE_HTML_TAG_td\n",
      "TABLE_HTML_ATTR_style=w\n",
      "TABLE_HTML_ATTR_style=i\n",
      "TABLE_HTML_ATTR_style=d\n",
      "TABLE_HTML_ATTR_style=t\n",
      "TABLE_HTML_ATTR_style=h\n",
      "TABLE_HTML_ATTR_style=:\n",
      "TABLE_HTML_ATTR_style=1\n",
      "TABLE_HTML_ATTR_style=0\n",
      "TABLE_HTML_ATTR_style=8\n",
      "TABLE_HTML_ATTR_style=p\n",
      "TABLE_HTML_ATTR_style=t\n",
      "TABLE_HTML_ATTR_style=;\n",
      "TABLE_HTML_ATTR_style=b\n",
      "TABLE_HTML_ATTR_style=o\n",
      "TABLE_HTML_ATTR_style=r\n",
      "TABLE_HTML_ATTR_style=d\n",
      "TABLE_HTML_ATTR_style=e\n",
      "TABLE_HTML_ATTR_style=r\n",
      "TABLE_HTML_ATTR_style=-\n",
      "TABLE_HTML_ATTR_style=t\n",
      "TABLE_HTML_ATTR_style=o\n",
      "TABLE_HTML_ATTR_style=p\n",
      "TABLE_HTML_ATTR_style=-\n",
      "TABLE_HTML_ATTR_style=s\n",
      "TABLE_HTML_ATTR_style=t\n",
      "TABLE_HTML_ATTR_style=y\n",
      "TABLE_HTML_ATTR_style=l\n",
      "TABLE_HTML_ATTR_style=e\n",
      "TABLE_HTML_ATTR_style=:\n",
      "TABLE_HTML_ATTR_style=s\n",
      "TABLE_HTML_ATTR_style=o\n",
      "TABLE_HTML_ATTR_style=l\n",
      "TABLE_HTML_ATTR_style=i\n",
      "TABLE_HTML_ATTR_style=d\n",
      "TABLE_HTML_ATTR_style=;\n",
      "TABLE_HTML_ATTR_style=b\n",
      "TABLE_HTML_ATTR_style=o\n",
      "TABLE_HTML_ATTR_style=r\n",
      "TABLE_HTML_ATTR_style=d\n",
      "TABLE_HTML_ATTR_style=e\n",
      "TABLE_HTML_ATTR_style=r\n",
      "TABLE_HTML_ATTR_style=-\n",
      "TABLE_HTML_ATTR_style=t\n",
      "TABLE_HTML_ATTR_style=o\n",
      "TABLE_HTML_ATTR_style=p\n",
      "TABLE_HTML_ATTR_style=-\n",
      "TABLE_HTML_ATTR_style=w\n",
      "TABLE_HTML_ATTR_style=i\n",
      "TABLE_HTML_ATTR_style=d\n",
      "TABLE_HTML_ATTR_style=t\n",
      "TABLE_HTML_ATTR_style=h\n",
      "TABLE_HTML_ATTR_style=:\n",
      "TABLE_HTML_ATTR_style=1\n",
      "TABLE_HTML_ATTR_style=p\n",
      "TABLE_HTML_ATTR_style=t\n",
      "TABLE_HTML_ATTR_style=;\n",
      "TABLE_HTML_ATTR_style=b\n",
      "TABLE_HTML_ATTR_style=o\n",
      "TABLE_HTML_ATTR_style=r\n",
      "TABLE_HTML_ATTR_style=d\n",
      "TABLE_HTML_ATTR_style=e\n",
      "TABLE_HTML_ATTR_style=r\n",
      "TABLE_HTML_ATTR_style=-\n",
      "TABLE_HTML_ATTR_style=l\n",
      "TABLE_HTML_ATTR_style=e\n",
      "TABLE_HTML_ATTR_style=f\n",
      "TABLE_HTML_ATTR_style=t\n",
      "TABLE_HTML_ATTR_style=-\n",
      "TABLE_HTML_ATTR_style=s\n",
      "TABLE_HTML_ATTR_style=t\n",
      "TABLE_HTML_ATTR_style=y\n",
      "TABLE_HTML_ATTR_style=l\n",
      "TABLE_HTML_ATTR_style=e\n",
      "TABLE_HTML_ATTR_style=:\n",
      "TABLE_HTML_ATTR_style=s\n",
      "TABLE_HTML_ATTR_style=o\n",
      "TABLE_HTML_ATTR_style=l\n",
      "TABLE_HTML_ATTR_style=i\n",
      "TABLE_HTML_ATTR_style=d\n",
      "TABLE_HTML_ATTR_style=;\n",
      "TABLE_HTML_ATTR_style=b\n",
      "TABLE_HTML_ATTR_style=o\n",
      "TABLE_HTML_ATTR_style=r\n",
      "TABLE_HTML_ATTR_style=d\n",
      "TABLE_HTML_ATTR_style=e\n",
      "TABLE_HTML_ATTR_style=r\n",
      "TABLE_HTML_ATTR_style=-\n",
      "TABLE_HTML_ATTR_style=l\n",
      "TABLE_HTML_ATTR_style=e\n",
      "TABLE_HTML_ATTR_style=f\n",
      "TABLE_HTML_ATTR_style=t\n",
      "TABLE_HTML_ATTR_style=-\n",
      "TABLE_HTML_ATTR_style=w\n",
      "TABLE_HTML_ATTR_style=i\n",
      "TABLE_HTML_ATTR_style=d\n",
      "TABLE_HTML_ATTR_style=t\n",
      "TABLE_HTML_ATTR_style=h\n",
      "TABLE_HTML_ATTR_style=:\n",
      "TABLE_HTML_ATTR_style=1\n",
      "TABLE_HTML_ATTR_style=p\n",
      "TABLE_HTML_ATTR_style=t\n",
      "TABLE_HTML_ATTR_style=;\n",
      "TABLE_HTML_ATTR_style=b\n",
      "TABLE_HTML_ATTR_style=o\n",
      "TABLE_HTML_ATTR_style=r\n",
      "TABLE_HTML_ATTR_style=d\n",
      "TABLE_HTML_ATTR_style=e\n",
      "TABLE_HTML_ATTR_style=r\n",
      "TABLE_HTML_ATTR_style=-\n",
      "TABLE_HTML_ATTR_style=b\n",
      "TABLE_HTML_ATTR_style=o\n",
      "TABLE_HTML_ATTR_style=t\n",
      "TABLE_HTML_ATTR_style=t\n",
      "TABLE_HTML_ATTR_style=o\n",
      "TABLE_HTML_ATTR_style=m\n",
      "TABLE_HTML_ATTR_style=-\n",
      "TABLE_HTML_ATTR_style=s\n",
      "TABLE_HTML_ATTR_style=t\n",
      "TABLE_HTML_ATTR_style=y\n",
      "TABLE_HTML_ATTR_style=l\n",
      "TABLE_HTML_ATTR_style=e\n",
      "TABLE_HTML_ATTR_style=:\n",
      "TABLE_HTML_ATTR_style=s\n",
      "TABLE_HTML_ATTR_style=o\n",
      "TABLE_HTML_ATTR_style=l\n",
      "TABLE_HTML_ATTR_style=i\n",
      "TABLE_HTML_ATTR_style=d\n",
      "TABLE_HTML_ATTR_style=;\n",
      "TABLE_HTML_ATTR_style=b\n",
      "TABLE_HTML_ATTR_style=o\n",
      "TABLE_HTML_ATTR_style=r\n",
      "TABLE_HTML_ATTR_style=d\n",
      "TABLE_HTML_ATTR_style=e\n",
      "TABLE_HTML_ATTR_style=r\n",
      "TABLE_HTML_ATTR_style=-\n",
      "TABLE_HTML_ATTR_style=b\n",
      "TABLE_HTML_ATTR_style=o\n",
      "TABLE_HTML_ATTR_style=t\n",
      "TABLE_HTML_ATTR_style=t\n",
      "TABLE_HTML_ATTR_style=o\n",
      "TABLE_HTML_ATTR_style=m\n",
      "TABLE_HTML_ATTR_style=-\n",
      "TABLE_HTML_ATTR_style=w\n",
      "TABLE_HTML_ATTR_style=i\n",
      "TABLE_HTML_ATTR_style=d\n",
      "TABLE_HTML_ATTR_style=t\n",
      "TABLE_HTML_ATTR_style=h\n",
      "TABLE_HTML_ATTR_style=:\n",
      "TABLE_HTML_ATTR_style=1\n",
      "TABLE_HTML_ATTR_style=p\n",
      "TABLE_HTML_ATTR_style=t\n",
      "TABLE_HTML_ATTR_style=;\n",
      "TABLE_HTML_ATTR_style=b\n",
      "TABLE_HTML_ATTR_style=o\n",
      "TABLE_HTML_ATTR_style=r\n",
      "TABLE_HTML_ATTR_style=d\n",
      "TABLE_HTML_ATTR_style=e\n",
      "TABLE_HTML_ATTR_style=r\n",
      "TABLE_HTML_ATTR_style=-\n",
      "TABLE_HTML_ATTR_style=r\n",
      "TABLE_HTML_ATTR_style=i\n",
      "TABLE_HTML_ATTR_style=g\n",
      "TABLE_HTML_ATTR_style=h\n",
      "TABLE_HTML_ATTR_style=t\n",
      "TABLE_HTML_ATTR_style=-\n",
      "TABLE_HTML_ATTR_style=s\n",
      "TABLE_HTML_ATTR_style=t\n",
      "TABLE_HTML_ATTR_style=y\n",
      "TABLE_HTML_ATTR_style=l\n",
      "TABLE_HTML_ATTR_style=e\n",
      "TABLE_HTML_ATTR_style=:\n",
      "TABLE_HTML_ATTR_style=s\n",
      "TABLE_HTML_ATTR_style=o\n",
      "TABLE_HTML_ATTR_style=l\n",
      "TABLE_HTML_ATTR_style=i\n",
      "TABLE_HTML_ATTR_style=d\n",
      "TABLE_HTML_ATTR_style=;\n",
      "TABLE_HTML_ATTR_style=b\n",
      "TABLE_HTML_ATTR_style=o\n",
      "TABLE_HTML_ATTR_style=r\n",
      "TABLE_HTML_ATTR_style=d\n",
      "TABLE_HTML_ATTR_style=e\n",
      "TABLE_HTML_ATTR_style=r\n",
      "TABLE_HTML_ATTR_style=-\n",
      "TABLE_HTML_ATTR_style=r\n",
      "TABLE_HTML_ATTR_style=i\n",
      "TABLE_HTML_ATTR_style=g\n",
      "TABLE_HTML_ATTR_style=h\n",
      "TABLE_HTML_ATTR_style=t\n",
      "TABLE_HTML_ATTR_style=-\n",
      "TABLE_HTML_ATTR_style=w\n",
      "TABLE_HTML_ATTR_style=i\n",
      "TABLE_HTML_ATTR_style=d\n",
      "TABLE_HTML_ATTR_style=t\n",
      "TABLE_HTML_ATTR_style=h\n",
      "TABLE_HTML_ATTR_style=:\n",
      "TABLE_HTML_ATTR_style=1\n",
      "TABLE_HTML_ATTR_style=p\n",
      "TABLE_HTML_ATTR_style=t\n",
      "TABLE_HTML_ANC_TAG_tr\n",
      "TABLE_HTML_ANC_TAG_table\n",
      "TABLE_HTML_ANC_TAG_body\n",
      "TABLE_HTML_ANC_ATTR_style=h\n",
      "TABLE_HTML_ANC_ATTR_style=e\n",
      "TABLE_HTML_ANC_ATTR_style=i\n",
      "TABLE_HTML_ANC_ATTR_style=g\n",
      "TABLE_HTML_ANC_ATTR_style=h\n",
      "TABLE_HTML_ANC_ATTR_style=t\n",
      "TABLE_HTML_ANC_ATTR_style=:\n",
      "TABLE_HTML_ANC_ATTR_style=1\n",
      "TABLE_HTML_ANC_ATTR_style=6\n",
      "TABLE_HTML_ANC_ATTR_style=p\n",
      "TABLE_HTML_ANC_ATTR_style=t\n",
      "TABLE_HTML_ANC_ATTR_style=b\n",
      "TABLE_HTML_ANC_ATTR_style=o\n",
      "TABLE_HTML_ANC_ATTR_style=r\n",
      "TABLE_HTML_ANC_ATTR_style=d\n",
      "TABLE_HTML_ANC_ATTR_style=e\n",
      "TABLE_HTML_ANC_ATTR_style=r\n",
      "TABLE_HTML_ANC_ATTR_style=-\n",
      "TABLE_HTML_ANC_ATTR_style=c\n",
      "TABLE_HTML_ANC_ATTR_style=o\n",
      "TABLE_HTML_ANC_ATTR_style=l\n",
      "TABLE_HTML_ANC_ATTR_style=l\n",
      "TABLE_HTML_ANC_ATTR_style=a\n",
      "TABLE_HTML_ANC_ATTR_style=p\n",
      "TABLE_HTML_ANC_ATTR_style=s\n",
      "TABLE_HTML_ANC_ATTR_style=e\n",
      "TABLE_HTML_ANC_ATTR_style=:\n",
      "TABLE_HTML_ANC_ATTR_style=c\n",
      "TABLE_HTML_ANC_ATTR_style=o\n",
      "TABLE_HTML_ANC_ATTR_style=l\n",
      "TABLE_HTML_ANC_ATTR_style=l\n",
      "TABLE_HTML_ANC_ATTR_style=a\n",
      "TABLE_HTML_ANC_ATTR_style=p\n",
      "TABLE_HTML_ANC_ATTR_style=s\n",
      "TABLE_HTML_ANC_ATTR_style=e\n",
      "TABLE_HTML_ANC_ATTR_style=;\n",
      "TABLE_HTML_ANC_ATTR_style=m\n",
      "TABLE_HTML_ANC_ATTR_style=a\n",
      "TABLE_HTML_ANC_ATTR_style=r\n",
      "TABLE_HTML_ANC_ATTR_style=g\n",
      "TABLE_HTML_ANC_ATTR_style=i\n",
      "TABLE_HTML_ANC_ATTR_style=n\n",
      "TABLE_HTML_ANC_ATTR_style=-\n",
      "TABLE_HTML_ANC_ATTR_style=l\n",
      "TABLE_HTML_ANC_ATTR_style=e\n",
      "TABLE_HTML_ANC_ATTR_style=f\n",
      "TABLE_HTML_ANC_ATTR_style=t\n",
      "TABLE_HTML_ANC_ATTR_style=:\n",
      "TABLE_HTML_ANC_ATTR_style=2\n",
      "TABLE_HTML_ANC_ATTR_style=3\n",
      "TABLE_HTML_ANC_ATTR_style=.\n",
      "TABLE_HTML_ANC_ATTR_style=7\n",
      "TABLE_HTML_ANC_ATTR_style=1\n",
      "TABLE_HTML_ANC_ATTR_style=0\n",
      "TABLE_HTML_ANC_ATTR_style=2\n",
      "TABLE_HTML_ANC_ATTR_style=p\n",
      "TABLE_HTML_ANC_ATTR_style=t\n",
      "TABLE_HTML_ANC_ATTR_cellspacing=0\n",
      "TABLE_ROW_WORDS_tj\n",
      "TABLE_ROW_WORDS_tj_,\n",
      "TABLE_ROW_WORDS_tj_,_tstg\n",
      "TABLE_ROW_WORDS_,\n",
      "TABLE_ROW_WORDS_,_tstg\n",
      "TABLE_ROW_WORDS_tstg\n",
      "TABLE_ROW_WORDS_operating\n",
      "TABLE_ROW_WORDS_operating_and\n",
      "TABLE_ROW_WORDS_operating_and_storage\n",
      "TABLE_ROW_WORDS_and\n",
      "TABLE_ROW_WORDS_and_storage\n",
      "TABLE_ROW_WORDS_and_storage_junction\n",
      "TABLE_ROW_WORDS_storage\n",
      "TABLE_ROW_WORDS_storage_junction\n",
      "TABLE_ROW_WORDS_storage_junction_temperature\n",
      "TABLE_ROW_WORDS_junction\n",
      "TABLE_ROW_WORDS_junction_temperature\n",
      "TABLE_ROW_WORDS_junction_temperature_range\n",
      "TABLE_ROW_WORDS_temperature\n",
      "TABLE_ROW_WORDS_temperature_range\n",
      "TABLE_ROW_WORDS_range\n",
      "TABLE_ROW_WORDS_\\\n",
      "TABLE_ROW_WORDS_\\_uf0b0c\n",
      "TABLE_ROW_WORDS_uf0b0c\n",
      "TABLE_COL_WORDS_value\n",
      "TABLE_COL_WORDS_-40\n",
      "TABLE_COL_WORDS_-40\n",
      "TABLE_COL_WORDS_-5.0\n",
      "TABLE_COL_WORDS_-200\n",
      "TABLE_NEIGHBOR_DOWN_WORDS_-200\n",
      "TABLE_NEIGHBOR_LEFT_WORDS_operating\n",
      "TABLE_NEIGHBOR_LEFT_WORDS_operating_and\n",
      "TABLE_NEIGHBOR_LEFT_WORDS_operating_and_storage\n",
      "TABLE_NEIGHBOR_LEFT_WORDS_and\n",
      "TABLE_NEIGHBOR_LEFT_WORDS_and_storage\n",
      "TABLE_NEIGHBOR_LEFT_WORDS_and_storage_junction\n",
      "TABLE_NEIGHBOR_LEFT_WORDS_storage\n",
      "TABLE_NEIGHBOR_LEFT_WORDS_storage_junction\n",
      "TABLE_NEIGHBOR_LEFT_WORDS_storage_junction_temperature\n",
      "TABLE_NEIGHBOR_LEFT_WORDS_junction\n",
      "TABLE_NEIGHBOR_LEFT_WORDS_junction_temperature\n",
      "TABLE_NEIGHBOR_LEFT_WORDS_junction_temperature_range\n",
      "TABLE_NEIGHBOR_LEFT_WORDS_temperature\n",
      "TABLE_NEIGHBOR_LEFT_WORDS_temperature_range\n",
      "TABLE_NEIGHBOR_LEFT_WORDS_range\n",
      "TABLE_NEIGHBOR_RIGHT_WORDS_\\\n",
      "TABLE_NEIGHBOR_RIGHT_WORDS_\\_uf0b0c\n",
      "TABLE_NEIGHBOR_RIGHT_WORDS_uf0b0c\n",
      "TABLE_ROW_LEMMAS_tj\n",
      "TABLE_ROW_LEMMAS_tj_,\n",
      "TABLE_ROW_LEMMAS_tj_,_tstg\n",
      "TABLE_ROW_LEMMAS_,\n",
      "TABLE_ROW_LEMMAS_,_tstg\n",
      "TABLE_ROW_LEMMAS_tstg\n",
      "TABLE_ROW_LEMMAS_operating\n",
      "TABLE_ROW_LEMMAS_operating_and\n",
      "TABLE_ROW_LEMMAS_operating_and_storage\n",
      "TABLE_ROW_LEMMAS_and\n",
      "TABLE_ROW_LEMMAS_and_storage\n",
      "TABLE_ROW_LEMMAS_and_storage_junction\n",
      "TABLE_ROW_LEMMAS_storage\n",
      "TABLE_ROW_LEMMAS_storage_junction\n",
      "TABLE_ROW_LEMMAS_storage_junction_temperature\n",
      "TABLE_ROW_LEMMAS_junction\n",
      "TABLE_ROW_LEMMAS_junction_temperature\n",
      "TABLE_ROW_LEMMAS_junction_temperature_range\n",
      "TABLE_ROW_LEMMAS_temperature\n",
      "TABLE_ROW_LEMMAS_temperature_range\n",
      "TABLE_ROW_LEMMAS_range\n",
      "TABLE_ROW_LEMMAS_\\\n",
      "TABLE_ROW_LEMMAS_\\_uf0b0c\n",
      "TABLE_ROW_LEMMAS_uf0b0c\n",
      "TABLE_COL_LEMMAS_value\n",
      "TABLE_COL_LEMMAS_-40\n",
      "TABLE_COL_INT\n",
      "TABLE_COL_LEMMAS_-40\n",
      "TABLE_COL_INT\n",
      "TABLE_COL_LEMMAS_-5.0\n",
      "TABLE_COL_INT\n",
      "TABLE_COL_LEMMAS_-200\n",
      "TABLE_COL_INT\n",
      "TABLE_NEIGHBOR_DOWN_LEMMAS_-200\n",
      "TABLE_NEIGHBOR_DOWN_INT\n",
      "TABLE_NEIGHBOR_LEFT_LEMMAS_operating\n",
      "TABLE_NEIGHBOR_LEFT_LEMMAS_operating_and\n",
      "TABLE_NEIGHBOR_LEFT_LEMMAS_operating_and_storage\n",
      "TABLE_NEIGHBOR_LEFT_LEMMAS_and\n",
      "TABLE_NEIGHBOR_LEFT_LEMMAS_and_storage\n",
      "TABLE_NEIGHBOR_LEFT_LEMMAS_and_storage_junction\n",
      "TABLE_NEIGHBOR_LEFT_LEMMAS_storage\n",
      "TABLE_NEIGHBOR_LEFT_LEMMAS_storage_junction\n",
      "TABLE_NEIGHBOR_LEFT_LEMMAS_storage_junction_temperature\n",
      "TABLE_NEIGHBOR_LEFT_LEMMAS_junction\n",
      "TABLE_NEIGHBOR_LEFT_LEMMAS_junction_temperature\n",
      "TABLE_NEIGHBOR_LEFT_LEMMAS_junction_temperature_range\n",
      "TABLE_NEIGHBOR_LEFT_LEMMAS_temperature\n",
      "TABLE_NEIGHBOR_LEFT_LEMMAS_temperature_range\n",
      "TABLE_NEIGHBOR_LEFT_LEMMAS_range\n",
      "TABLE_NEIGHBOR_RIGHT_LEMMAS_\\\n",
      "TABLE_NEIGHBOR_RIGHT_LEMMAS_\\_uf0b0c\n",
      "TABLE_NEIGHBOR_RIGHT_LEMMAS_uf0b0c\n",
      "TABLE_ROW_POSES_nn\n",
      "TABLE_ROW_POSES_nn_,\n",
      "TABLE_ROW_POSES_nn_,_nn\n",
      "TABLE_ROW_POSES_,\n",
      "TABLE_ROW_POSES_,_nn\n",
      "TABLE_ROW_POSES_nn\n",
      "TABLE_ROW_POSES_nn\n",
      "TABLE_ROW_POSES_nn_cc\n",
      "TABLE_ROW_POSES_nn_cc_nn\n",
      "TABLE_ROW_POSES_cc\n",
      "TABLE_ROW_POSES_cc_nn\n",
      "TABLE_ROW_POSES_cc_nn_nn\n",
      "TABLE_ROW_POSES_nn\n",
      "TABLE_ROW_POSES_nn_nn\n",
      "TABLE_ROW_POSES_nn_nn_nn\n",
      "TABLE_ROW_POSES_nn\n",
      "TABLE_ROW_POSES_nn_nn\n",
      "TABLE_ROW_POSES_nn_nn_nnp\n",
      "TABLE_ROW_POSES_nn\n",
      "TABLE_ROW_POSES_nn_nnp\n",
      "TABLE_ROW_POSES_nnp\n",
      "TABLE_ROW_POSES_nn\n",
      "TABLE_ROW_POSES_nn_nn\n",
      "TABLE_ROW_POSES_nn\n",
      "TABLE_COL_POSES_nn\n",
      "TABLE_COL_POSES_cd\n",
      "TABLE_COL_POSES_cd\n",
      "TABLE_COL_POSES_cd\n",
      "TABLE_COL_POSES_cd\n",
      "TABLE_NEIGHBOR_DOWN_POSES_cd\n",
      "TABLE_NEIGHBOR_LEFT_POSES_nn\n",
      "TABLE_NEIGHBOR_LEFT_POSES_nn_cc\n",
      "TABLE_NEIGHBOR_LEFT_POSES_nn_cc_nn\n",
      "TABLE_NEIGHBOR_LEFT_POSES_cc\n",
      "TABLE_NEIGHBOR_LEFT_POSES_cc_nn\n",
      "TABLE_NEIGHBOR_LEFT_POSES_cc_nn_nn\n",
      "TABLE_NEIGHBOR_LEFT_POSES_nn\n",
      "TABLE_NEIGHBOR_LEFT_POSES_nn_nn\n",
      "TABLE_NEIGHBOR_LEFT_POSES_nn_nn_nn\n",
      "TABLE_NEIGHBOR_LEFT_POSES_nn\n",
      "TABLE_NEIGHBOR_LEFT_POSES_nn_nn\n",
      "TABLE_NEIGHBOR_LEFT_POSES_nn_nn_nnp\n",
      "TABLE_NEIGHBOR_LEFT_POSES_nn\n",
      "TABLE_NEIGHBOR_LEFT_POSES_nn_nnp\n",
      "TABLE_NEIGHBOR_LEFT_POSES_nnp\n",
      "TABLE_NEIGHBOR_RIGHT_POSES_nn\n",
      "TABLE_NEIGHBOR_RIGHT_POSES_nn_nn\n",
      "TABLE_NEIGHBOR_RIGHT_POSES_nn\n"
     ]
    }
   ],
   "source": [
    "from snorkel.features import TableNgramFeaturizer\n",
    "featurizer = TableNgramFeaturizer()\n",
    "featurizer.fit_transform(candidates)\n",
    "for f in featurizer.get_features_by_candidate(candidates[0])[:]: print f"
   ]
  },
  {
   "cell_type": "markdown",
   "metadata": {},
   "source": [
    "We now build a legacy DDLiteModel with which we will do learning."
   ]
  },
  {
   "cell_type": "code",
   "execution_count": null,
   "metadata": {
    "collapsed": false,
    "scrolled": true
   },
   "outputs": [],
   "source": [
    "from snorkel.snorkel import DDLiteModel\n",
    "DDL = DDLiteModel(candidates, featurizer.fit_transform(candidates), gt_dict)\n",
    "\n",
    "DDL.set_holdout(idxs=range(int(len(gt_dict)*.8)), validation_frac=0.5)\n",
    "print \"%s training data\" % len(DDL.gt.get_labeled_ground_truth('training')[0])\n",
    "print \"%s test data\" % len(DDL.gt.get_labeled_ground_truth('test')[0])\n",
    "print \"%s validation data\" % len(DDL.gt.get_labeled_ground_truth('validation')[0])"
   ]
  },
  {
   "cell_type": "markdown",
   "metadata": {},
   "source": [
    "Define labeling functions:"
   ]
  },
  {
   "cell_type": "code",
   "execution_count": null,
   "metadata": {
    "collapsed": false
   },
   "outputs": [],
   "source": [
    "def LF_to(m):\n",
    "    return 1 if 'to' in m.post_window('words') else 0\n",
    "def LF_storage(m):\n",
    "    return 1 if 'storage' in m.aligned_ngrams('words') else -1\n",
    "def LF_tstg(m):\n",
    "    return 1 if 'tstg' in m.aligned_ngrams('words') else -1\n",
    "def LF_temperature(m):\n",
    "    return 1 if 'temperature' in m.aligned_ngrams('words') else -1"
   ]
  },
  {
   "cell_type": "code",
   "execution_count": null,
   "metadata": {
    "collapsed": false
   },
   "outputs": [],
   "source": [
    "LFs = [LF_to, LF_storage, LF_tstg, LF_temperature]\n",
    "DDL.apply_lfs(LFs, clear=True)"
   ]
  },
  {
   "cell_type": "code",
   "execution_count": null,
   "metadata": {
    "collapsed": false,
    "scrolled": true
   },
   "outputs": [],
   "source": [
    "print DDL.lf_names\n",
    "DDL.print_lf_stats()"
   ]
  },
  {
   "cell_type": "code",
   "execution_count": null,
   "metadata": {
    "collapsed": false
   },
   "outputs": [],
   "source": [
    "DDL.top_conflict_lfs(n=3)"
   ]
  },
  {
   "cell_type": "code",
   "execution_count": null,
   "metadata": {
    "collapsed": false
   },
   "outputs": [],
   "source": [
    "DDL.lowest_coverage_lfs(n=3)"
   ]
  },
  {
   "cell_type": "markdown",
   "metadata": {},
   "source": [
    "Now learn, baby, learn!"
   ]
  },
  {
   "cell_type": "code",
   "execution_count": null,
   "metadata": {
    "collapsed": false
   },
   "outputs": [],
   "source": [
    "import matplotlib\n",
    "import numpy as np\n",
    "%matplotlib inline\n",
    "matplotlib.rcParams['figure.figsize'] = (12,4)\n",
    "mu_seq = np.ravel([1e-9, 1e-5, 1e-3, 1e-1])\n",
    "lf_opts = {'sample': False, 'verbose': True}\n",
    "model_opts = {'sample': False, 'n_iter': 3000, 'alpha': 0.5, 'mu': mu_seq, 'bias': False, 'verbose': True}\n",
    "%time DDL.train_model(method='lr', lf_opts=lf_opts, model_opts=model_opts)"
   ]
  },
  {
   "cell_type": "code",
   "execution_count": null,
   "metadata": {
    "collapsed": false
   },
   "outputs": [],
   "source": [
    "DDL.show_log()\n",
    "idxs, gt = DDL.get_labeled_ground_truth(subset=DDL.holdout())\n",
    "acc_feats = np.mean(DDL.get_predicted(subset=DDL.holdout()) == gt)\n",
    "print \"Full model accuracy: {:.3f}\".format(acc_feats)"
   ]
  },
  {
   "cell_type": "markdown",
   "metadata": {},
   "source": [
    "Tune in next time for relation extraction!"
   ]
  }
 ],
 "metadata": {
  "kernelspec": {
   "display_name": "Python 2",
   "language": "python",
   "name": "python2"
  },
  "language_info": {
   "codemirror_mode": {
    "name": "ipython",
    "version": 2
   },
   "file_extension": ".py",
   "mimetype": "text/x-python",
   "name": "python",
   "nbconvert_exporter": "python",
   "pygments_lexer": "ipython2",
   "version": "2.7.12"
  }
 },
 "nbformat": 4,
 "nbformat_minor": 0
}
