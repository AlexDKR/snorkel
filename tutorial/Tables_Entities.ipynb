{
 "cells": [
  {
   "cell_type": "markdown",
   "metadata": {},
   "source": [
    "# Entity Extraction from Tables\n",
    "\n",
    "This notebook demonstrates the full extraction and learning process for _entities_ in tables with a data set of transistor spec sheets, extracting minimum storage temperatures."
   ]
  },
  {
   "cell_type": "code",
   "execution_count": 1,
   "metadata": {
    "collapsed": false
   },
   "outputs": [
    {
     "name": "stdout",
     "output_type": "stream",
     "text": [
      "The autoreload extension is already loaded. To reload it, use:\n",
      "  %reload_ext autoreload\n"
     ]
    }
   ],
   "source": [
    "%load_ext autoreload\n",
    "%autoreload 2\n",
    "\n",
    "import numpy as np"
   ]
  },
  {
   "cell_type": "markdown",
   "metadata": {},
   "source": [
    "### Extraction"
   ]
  },
  {
   "cell_type": "code",
   "execution_count": 3,
   "metadata": {
    "collapsed": false,
    "scrolled": true
   },
   "outputs": [
    {
     "name": "stdout",
     "output_type": "stream",
     "text": [
      "CPU times: user 12.3 s, sys: 555 ms, total: 12.8 s\n",
      "Wall time: 13 s\n",
      "Corpus has been loaded.\n"
     ]
    }
   ],
   "source": [
    "load_pickle = True # with pickle ~15s; without pickle ~75s\n",
    "save_pickle = False\n",
    "\n",
    "corpus_loaded = False\n",
    "import cPickle\n",
    "if load_pickle:\n",
    "    try:\n",
    "        with open(\"data/hardware/hardware_corpus.pkl\",\"r\") as pkl:\n",
    "            %time corpus = cPickle.load(pkl)\n",
    "        corpus_loaded = True\n",
    "        print \"Corpus has been loaded.\"\n",
    "    except:\n",
    "        print \"Corpus could not be loaded.\"\n",
    "        print \"Corpus will be parsed instead...\"\n",
    "if not corpus_loaded:\n",
    "    from snorkel.parser import CorpusParser\n",
    "    from snorkel.parser import HTMLParser\n",
    "    from snorkel.parser import TableParser\n",
    "\n",
    "    html_parser = HTMLParser(path='data/hardware/hardware_html/')\n",
    "    table_parser = TableParser()\n",
    "\n",
    "    cp = CorpusParser(html_parser, table_parser, max_docs=200)\n",
    "    %time corpus = cp.parse_corpus(name='Hardware Corpus')\n",
    "    print \"Corpus has been parsed.\"\n",
    "\n",
    "    if save_pickle:\n",
    "        with open(\"data/hardware/hardware_corpus.pkl\",\"w\") as pkl:\n",
    "            %time cPickle.dump(corpus, pkl)\n",
    "            print \"Corpus has been pickled.\""
   ]
  },
  {
   "cell_type": "code",
   "execution_count": 4,
   "metadata": {
    "collapsed": false
   },
   "outputs": [],
   "source": [
    "from snorkel.candidates import TableNgrams\n",
    "from snorkel.matchers import NumberMatcher, RangeMatcher\n",
    "\n",
    "# Define a candidate space\n",
    "ngrams = TableNgrams(n_max=2)\n",
    "\n",
    "# Define a matcher\n",
    "number_matcher = RangeMatcher(low=-70,high=-50)"
   ]
  },
  {
   "cell_type": "code",
   "execution_count": 5,
   "metadata": {
    "collapsed": false
   },
   "outputs": [
    {
     "name": "stdout",
     "output_type": "stream",
     "text": [
      "CPU times: user 1.75 s, sys: 40 ms, total: 1.79 s\n",
      "Wall time: 1.78 s\n",
      "Span(\"-55\", context=None, chars=[0,2], words=[0,0])\n",
      "Span(\"-50\", context=None, chars=[0,2], words=[0,0])\n",
      "Span(\"-50\", context=None, chars=[0,2], words=[0,0])\n",
      "Span(\"-50\", context=None, chars=[4,6], words=[2,2])\n",
      "Span(\"-50\", context=None, chars=[4,6], words=[2,2])\n",
      "Span(\"-50\", context=None, chars=[4,6], words=[2,2])\n",
      "Span(\"-55\", context=None, chars=[0,2], words=[0,0])\n",
      "Span(\"-55\", context=None, chars=[0,2], words=[0,0])\n",
      "Span(\"-55\", context=None, chars=[0,2], words=[0,0])\n",
      "Span(\"-50\", context=None, chars=[0,2], words=[0,0])\n",
      "108 candidates extracted\n"
     ]
    }
   ],
   "source": [
    "from snorkel.candidates import EntityExtractor\n",
    "ce = EntityExtractor(ngrams, number_matcher)\n",
    "%time candidates = ce.extract(corpus.get_tables(), name='all')\n",
    "for cand in candidates[:10]: \n",
    "    print cand\n",
    "print \"%s candidates extracted\" % len(candidates)"
   ]
  },
  {
   "cell_type": "markdown",
   "metadata": {},
   "source": [
    "### Learning"
   ]
  },
  {
   "cell_type": "markdown",
   "metadata": {},
   "source": [
    "First, generate gold data."
   ]
  },
  {
   "cell_type": "code",
   "execution_count": 6,
   "metadata": {
    "collapsed": false
   },
   "outputs": [
    {
     "name": "stdout",
     "output_type": "stream",
     "text": [
      "98 gold annotations\n",
      "59 out of 108 candidates have gold labels\n",
      "51 out of 59 labeled candidates have positive label\n",
      "Positive labels in gold set: 81\n",
      "Negative labels in gold set: 12\n"
     ]
    }
   ],
   "source": [
    "from utils import collect_hardware_entity_gold\n",
    "filename='data/hardware/gold_all.csv'\n",
    "(gold_candidates, gold_labels) = collect_hardware_entity_gold(filename, 'stg_temp_min', candidates)\n",
    "print \"%s out of %s candidates have gold labels\" % (len(gold_candidates), len(candidates))\n",
    "print \"%s out of %s labeled candidates have positive label\" % (gold_labels.count(1), len(gold_candidates))\n",
    "\n",
    "# Split into train and test set\n",
    "training_candidates = []\n",
    "n_half = len(candidates)/2\n",
    "for idx, c in enumerate(candidates[:n_half]):\n",
    "    if c in gold_candidates:\n",
    "        gold_candidates.append(c)\n",
    "        gold_labels.append(gold_labels[idx])\n",
    "    else:\n",
    "        training_candidates.append(c)\n",
    "training_candidates.extend(candidates[n_half:])\n",
    "gold_labels = np.array(gold_labels)\n",
    "# print \"Training set size: %s\" % len(training_candidates)\n",
    "# print \"Gold set size: %s\" % len(gold_candidates)\n",
    "print \"Positive labels in gold set: %s\" % sum(gold_labels==1)\n",
    "print \"Negative labels in gold set: %s\" % sum(gold_labels==-1)"
   ]
  },
  {
   "cell_type": "markdown",
   "metadata": {},
   "source": [
    "Let's take a quick peek at the features:"
   ]
  },
  {
   "cell_type": "code",
   "execution_count": 7,
   "metadata": {
    "collapsed": false,
    "scrolled": true
   },
   "outputs": [
    {
     "name": "stdout",
     "output_type": "stream",
     "text": [
      "Building feature index...\n",
      "Extracting features...\n",
      "0/4419\n",
      "DDLIB_WORD_SEQ_[-55]\n",
      "DDLIB_LEMMA_SEQ_[-55]\n",
      "DDLIB_POS_SEQ_[CD]\n",
      "DDLIB_DEP_SEQ_[ROOT]\n",
      "DDLIB_W_LEFT_1_[_NUMBER]\n",
      "DDLIB_W_LEFT_POS_1_[CD]\n",
      "DDLIB_W_LEFT_2_[to _NUMBER]\n",
      "DDLIB_W_LEFT_POS_2_[TO CD]\n",
      "DDLIB_W_LEFT_3_[_NUMBER to _NUMBER]\n",
      "DDLIB_W_LEFT_POS_3_[CD TO CD]\n"
     ]
    }
   ],
   "source": [
    "from snorkel.features import TableNgramFeaturizer\n",
    "featurizer = TableNgramFeaturizer()\n",
    "featurizer.fit_transform(candidates)\n",
    "for f in featurizer.get_features_by_candidate(candidates[0])[:10]: print f"
   ]
  },
  {
   "cell_type": "markdown",
   "metadata": {},
   "source": [
    "Define labeling functions:"
   ]
  },
  {
   "cell_type": "code",
   "execution_count": 8,
   "metadata": {
    "collapsed": false
   },
   "outputs": [],
   "source": [
    "def LF_to_range(m):\n",
    "    return 1 if 'to' in m.post_window('words') else 0\n",
    "def LF_tilde_range(m):\n",
    "    return 1 if '~' in m.post_window('words') else 0\n",
    "def LF_storage(m):\n",
    "    return 1 if 'storage' in m.aligned_ngrams('words') else -1\n",
    "def LF_tstg(m):\n",
    "    return 1 if 'tstg' in m.aligned_ngrams('words') else -1\n",
    "def LF_tj(m):\n",
    "    return 1 if 'tj' in m.aligned_ngrams('words') else -1\n",
    "def LF_temperature(m):\n",
    "    return 1 if 'temperature' in m.aligned_ngrams('words') else -1\n",
    "def LF_celsius(m):\n",
    "    return 1 if 'c' in m.aligned_ngrams('words') else -1\n",
    "def LF_max(m):\n",
    "    return 1 if 'max' in m.aligned_ngrams('words') else 0\n",
    "def LF_min(m):\n",
    "    return 1 if 'min' in m.aligned_ngrams('words') else 0"
   ]
  },
  {
   "cell_type": "code",
   "execution_count": 9,
   "metadata": {
    "collapsed": false
   },
   "outputs": [],
   "source": [
    "LFs = [LF_to_range, LF_tilde_range, LF_storage, LF_tstg, LF_tj, LF_temperature,\n",
    "      LF_celsius, LF_max, LF_min]"
   ]
  },
  {
   "cell_type": "code",
   "execution_count": 10,
   "metadata": {
    "collapsed": false
   },
   "outputs": [
    {
     "name": "stdout",
     "output_type": "stream",
     "text": [
      "Applying LFs...\n",
      "Featurizing...\n",
      "Building feature index...\n",
      "Extracting features...\n",
      "0/3491\n",
      "============================================================\n",
      "LF Summary Statistics: 9 LFs applied to 74 candidates\n",
      "------------------------------------------------------------\n",
      "Coverage (candidates w/ > 0 labels):\t\t100.00%\n",
      "Overlap (candidates w/ > 1 labels):\t\t100.00%\n",
      "Conflict (candidates w/ conflicting labels):\t62.16%\n",
      "============================================================\n"
     ]
    }
   ],
   "source": [
    "from snorkel.snorkel import TrainingSet\n",
    "from snorkel.features import NgramFeaturizer\n",
    "\n",
    "training_set = TrainingSet(training_candidates, LFs, featurizer=TableNgramFeaturizer())"
   ]
  },
  {
   "cell_type": "code",
   "execution_count": 11,
   "metadata": {
    "collapsed": false
   },
   "outputs": [
    {
     "data": {
      "text/html": [
       "<div>\n",
       "<table border=\"1\" class=\"dataframe\">\n",
       "  <thead>\n",
       "    <tr style=\"text-align: right;\">\n",
       "      <th></th>\n",
       "      <th>conflicts</th>\n",
       "      <th>coverage</th>\n",
       "      <th>j</th>\n",
       "      <th>overlaps</th>\n",
       "    </tr>\n",
       "  </thead>\n",
       "  <tbody>\n",
       "    <tr>\n",
       "      <th>LF_to_range</th>\n",
       "      <td>0.135135</td>\n",
       "      <td>0.216216</td>\n",
       "      <td>0</td>\n",
       "      <td>0.216216</td>\n",
       "    </tr>\n",
       "    <tr>\n",
       "      <th>LF_tilde_range</th>\n",
       "      <td>0.067568</td>\n",
       "      <td>0.094595</td>\n",
       "      <td>1</td>\n",
       "      <td>0.094595</td>\n",
       "    </tr>\n",
       "    <tr>\n",
       "      <th>LF_storage</th>\n",
       "      <td>0.621622</td>\n",
       "      <td>1.000000</td>\n",
       "      <td>2</td>\n",
       "      <td>1.000000</td>\n",
       "    </tr>\n",
       "    <tr>\n",
       "      <th>LF_tstg</th>\n",
       "      <td>0.621622</td>\n",
       "      <td>1.000000</td>\n",
       "      <td>3</td>\n",
       "      <td>1.000000</td>\n",
       "    </tr>\n",
       "    <tr>\n",
       "      <th>LF_tj</th>\n",
       "      <td>0.621622</td>\n",
       "      <td>1.000000</td>\n",
       "      <td>4</td>\n",
       "      <td>1.000000</td>\n",
       "    </tr>\n",
       "  </tbody>\n",
       "</table>\n",
       "</div>"
      ],
      "text/plain": [
       "                conflicts  coverage  j  overlaps\n",
       "LF_to_range      0.135135  0.216216  0  0.216216\n",
       "LF_tilde_range   0.067568  0.094595  1  0.094595\n",
       "LF_storage       0.621622  1.000000  2  1.000000\n",
       "LF_tstg          0.621622  1.000000  3  1.000000\n",
       "LF_tj            0.621622  1.000000  4  1.000000"
      ]
     },
     "execution_count": 11,
     "metadata": {},
     "output_type": "execute_result"
    }
   ],
   "source": [
    "lf_stats = training_set.lf_stats()\n",
    "lf_stats[:5]"
   ]
  },
  {
   "cell_type": "markdown",
   "metadata": {},
   "source": [
    "Now learn, baby, learn!"
   ]
  },
  {
   "cell_type": "code",
   "execution_count": 12,
   "metadata": {
    "collapsed": true
   },
   "outputs": [],
   "source": [
    "from snorkel.snorkel import Learner\n",
    "from snorkel.learning import LogReg\n",
    "\n",
    "learner = Learner(training_set, model=LogReg(bias_term=True))"
   ]
  },
  {
   "cell_type": "code",
   "execution_count": 13,
   "metadata": {
    "collapsed": true
   },
   "outputs": [],
   "source": [
    "# Splitting into CV and test set\n",
    "n_half = len(gold_candidates)/2\n",
    "test_candidates = gold_candidates[:n_half]\n",
    "test_labels     = gold_labels[:n_half]\n",
    "cv_candidates   = gold_candidates[n_half:]\n",
    "cv_labels       = gold_labels[n_half:]"
   ]
  },
  {
   "cell_type": "code",
   "execution_count": 14,
   "metadata": {
    "collapsed": false
   },
   "outputs": [
    {
     "name": "stdout",
     "output_type": "stream",
     "text": [
      "============================================================\n",
      "Testing mu = 1.00e-05, lf_w0 = 1.00e+00\n",
      "============================================================\n",
      "Begin training for rate=0.01, mu=1e-05\n",
      "\tLearning epoch = 0\tGradient mag. = 0.039140\n",
      "\tLearning epoch = 250\tGradient mag. = 0.048421\n",
      "\tLearning epoch = 500\tGradient mag. = 0.058534\n",
      "\tLearning epoch = 750\tGradient mag. = 0.072298\n",
      "Final gradient magnitude for rate=0.01, mu=1e-05: 0.091\n",
      "Applying LFs...\n",
      "Featurizing...\n",
      "============================================================\n",
      "Testing mu = 1.00e-05, lf_w0 = 2.00e+00\n",
      "============================================================\n",
      "Begin training for rate=0.01, mu=1e-05\n",
      "\tLearning epoch = 0\tGradient mag. = 0.063301\n",
      "\tLearning epoch = 250\tGradient mag. = 0.074607\n",
      "\tLearning epoch = 500\tGradient mag. = 0.084353\n",
      "\tLearning epoch = 750\tGradient mag. = 0.096808\n",
      "Final gradient magnitude for rate=0.01, mu=1e-05: 0.110\n",
      "============================================================\n",
      "Testing mu = 1.00e-07, lf_w0 = 1.00e+00\n",
      "============================================================\n",
      "Begin training for rate=0.01, mu=1e-07\n",
      "\tLearning epoch = 0\tGradient mag. = 0.039140\n",
      "\tLearning epoch = 250\tGradient mag. = 0.048469\n",
      "\tLearning epoch = 500\tGradient mag. = 0.058646\n",
      "\tLearning epoch = 750\tGradient mag. = 0.072472\n",
      "Final gradient magnitude for rate=0.01, mu=1e-07: 0.091\n",
      "============================================================\n",
      "Testing mu = 1.00e-07, lf_w0 = 2.00e+00\n",
      "============================================================\n",
      "Begin training for rate=0.01, mu=1e-07\n",
      "\tLearning epoch = 0\tGradient mag. = 0.063301\n",
      "\tLearning epoch = 250\tGradient mag. = 0.074642\n",
      "\tLearning epoch = 500\tGradient mag. = 0.084427\n",
      "\tLearning epoch = 750\tGradient mag. = 0.096916\n",
      "Final gradient magnitude for rate=0.01, mu=1e-07: 0.110\n"
     ]
    }
   ],
   "source": [
    "from snorkel.learning_utils import GridSearch\n",
    "\n",
    "gs       = GridSearch(learner, ['mu', 'lf_w0'], [[1e-5, 1e-7],[1.0,2.0]])\n",
    "gs_stats = gs.fit(cv_candidates, cv_labels)"
   ]
  },
  {
   "cell_type": "code",
   "execution_count": 15,
   "metadata": {
    "collapsed": false
   },
   "outputs": [
    {
     "data": {
      "text/html": [
       "<div>\n",
       "<table border=\"1\" class=\"dataframe\">\n",
       "  <thead>\n",
       "    <tr style=\"text-align: right;\">\n",
       "      <th></th>\n",
       "      <th>mu</th>\n",
       "      <th>lf_w0</th>\n",
       "      <th>Prec.</th>\n",
       "      <th>Rec.</th>\n",
       "      <th>F1</th>\n",
       "    </tr>\n",
       "  </thead>\n",
       "  <tbody>\n",
       "    <tr>\n",
       "      <th>0</th>\n",
       "      <td>1.000000e-05</td>\n",
       "      <td>1.0</td>\n",
       "      <td>0.891304</td>\n",
       "      <td>0.97619</td>\n",
       "      <td>0.931818</td>\n",
       "    </tr>\n",
       "    <tr>\n",
       "      <th>1</th>\n",
       "      <td>1.000000e-05</td>\n",
       "      <td>2.0</td>\n",
       "      <td>0.891304</td>\n",
       "      <td>0.97619</td>\n",
       "      <td>0.931818</td>\n",
       "    </tr>\n",
       "    <tr>\n",
       "      <th>2</th>\n",
       "      <td>1.000000e-07</td>\n",
       "      <td>1.0</td>\n",
       "      <td>0.891304</td>\n",
       "      <td>0.97619</td>\n",
       "      <td>0.931818</td>\n",
       "    </tr>\n",
       "    <tr>\n",
       "      <th>3</th>\n",
       "      <td>1.000000e-07</td>\n",
       "      <td>2.0</td>\n",
       "      <td>0.891304</td>\n",
       "      <td>0.97619</td>\n",
       "      <td>0.931818</td>\n",
       "    </tr>\n",
       "  </tbody>\n",
       "</table>\n",
       "</div>"
      ],
      "text/plain": [
       "             mu  lf_w0     Prec.     Rec.        F1\n",
       "0  1.000000e-05    1.0  0.891304  0.97619  0.931818\n",
       "1  1.000000e-05    2.0  0.891304  0.97619  0.931818\n",
       "2  1.000000e-07    1.0  0.891304  0.97619  0.931818\n",
       "3  1.000000e-07    2.0  0.891304  0.97619  0.931818"
      ]
     },
     "execution_count": 15,
     "metadata": {},
     "output_type": "execute_result"
    }
   ],
   "source": [
    "gs_stats"
   ]
  },
  {
   "cell_type": "code",
   "execution_count": 16,
   "metadata": {
    "collapsed": false
   },
   "outputs": [
    {
     "name": "stdout",
     "output_type": "stream",
     "text": [
      "Applying LFs...\n",
      "Featurizing...\n",
      "========================================\n",
      "Test set size:\t46\n",
      "----------------------------------------\n",
      "Precision:\t0.904761904762\n",
      "Recall:\t\t0.974358974359\n",
      "F1 Score:\t0.938271604938\n",
      "----------------------------------------\n",
      "TP: 38 | FP: 4 | TN: 3 | FN: 1\n",
      "========================================\n"
     ]
    },
    {
     "name": "stderr",
     "output_type": "stream",
     "text": [
      "/Users/bradenhancock/anaconda/lib/python2.7/site-packages/numpy/core/_methods.py:59: RuntimeWarning: Mean of empty slice.\n",
      "  warnings.warn(\"Mean of empty slice.\", RuntimeWarning)\n"
     ]
    }
   ],
   "source": [
    "learner.test(test_candidates, test_labels)"
   ]
  },
  {
   "cell_type": "code",
   "execution_count": 17,
   "metadata": {
    "collapsed": false
   },
   "outputs": [
    {
     "data": {
      "text/html": [
       "<div>\n",
       "<table border=\"1\" class=\"dataframe\">\n",
       "  <thead>\n",
       "    <tr style=\"text-align: right;\">\n",
       "      <th></th>\n",
       "      <th>j</th>\n",
       "      <th>w</th>\n",
       "    </tr>\n",
       "  </thead>\n",
       "  <tbody>\n",
       "    <tr>\n",
       "      <th>TABLE_ROW_WORDS_temperature</th>\n",
       "      <td>1855</td>\n",
       "      <td>0.088621</td>\n",
       "    </tr>\n",
       "    <tr>\n",
       "      <th>TABLE_COL_WORDS_temperature</th>\n",
       "      <td>1346</td>\n",
       "      <td>0.088621</td>\n",
       "    </tr>\n",
       "    <tr>\n",
       "      <th>TABLE_COL_WORDS_tstg</th>\n",
       "      <td>1116</td>\n",
       "      <td>0.077765</td>\n",
       "    </tr>\n",
       "    <tr>\n",
       "      <th>TABLE_ROW_WORDS_tstg</th>\n",
       "      <td>1841</td>\n",
       "      <td>0.077765</td>\n",
       "    </tr>\n",
       "    <tr>\n",
       "      <th>TABLE_ROW_WORDS_storage_temperature</th>\n",
       "      <td>1255</td>\n",
       "      <td>0.075992</td>\n",
       "    </tr>\n",
       "    <tr>\n",
       "      <th>TABLE_COL_WORDS_storage_temperature</th>\n",
       "      <td>3231</td>\n",
       "      <td>0.075992</td>\n",
       "    </tr>\n",
       "    <tr>\n",
       "      <th>TABLE_COL_WORDS_junction_temperature</th>\n",
       "      <td>2943</td>\n",
       "      <td>0.065262</td>\n",
       "    </tr>\n",
       "    <tr>\n",
       "      <th>TABLE_ROW_WORDS_junction_temperature</th>\n",
       "      <td>3200</td>\n",
       "      <td>0.065262</td>\n",
       "    </tr>\n",
       "    <tr>\n",
       "      <th>TABLE_ROW_WORDS_junction</th>\n",
       "      <td>1820</td>\n",
       "      <td>0.042801</td>\n",
       "    </tr>\n",
       "    <tr>\n",
       "      <th>TABLE_COL_WORDS_junction</th>\n",
       "      <td>144</td>\n",
       "      <td>0.042801</td>\n",
       "    </tr>\n",
       "  </tbody>\n",
       "</table>\n",
       "</div>"
      ],
      "text/plain": [
       "                                         j         w\n",
       "TABLE_ROW_WORDS_temperature           1855  0.088621\n",
       "TABLE_COL_WORDS_temperature           1346  0.088621\n",
       "TABLE_COL_WORDS_tstg                  1116  0.077765\n",
       "TABLE_ROW_WORDS_tstg                  1841  0.077765\n",
       "TABLE_ROW_WORDS_storage_temperature   1255  0.075992\n",
       "TABLE_COL_WORDS_storage_temperature   3231  0.075992\n",
       "TABLE_COL_WORDS_junction_temperature  2943  0.065262\n",
       "TABLE_ROW_WORDS_junction_temperature  3200  0.065262\n",
       "TABLE_ROW_WORDS_junction              1820  0.042801\n",
       "TABLE_COL_WORDS_junction               144  0.042801"
      ]
     },
     "execution_count": 17,
     "metadata": {},
     "output_type": "execute_result"
    }
   ],
   "source": [
    "learner.feature_stats(n_max=10)"
   ]
  },
  {
   "cell_type": "markdown",
   "metadata": {},
   "source": [
    "Tune in next time for relation extraction!"
   ]
  }
 ],
 "metadata": {
  "kernelspec": {
   "display_name": "Python 2",
   "language": "python",
   "name": "python2"
  },
  "language_info": {
   "codemirror_mode": {
    "name": "ipython",
    "version": 2
   },
   "file_extension": ".py",
   "mimetype": "text/x-python",
   "name": "python",
   "nbconvert_exporter": "python",
   "pygments_lexer": "ipython2",
   "version": "2.7.12"
  }
 },
 "nbformat": 4,
 "nbformat_minor": 0
}
