{
 "cells": [
  {
   "cell_type": "markdown",
   "metadata": {},
   "source": [
    "# Entity Extraction from Tables\n",
    "\n",
    "This notebook demonstrates the full extraction and learning process for _entities_ in tables with a data set of transistor spec sheets, extracting minimum storage temperatures."
   ]
  },
  {
   "cell_type": "code",
   "execution_count": 6,
   "metadata": {
    "collapsed": false
   },
   "outputs": [
    {
     "name": "stdout",
     "output_type": "stream",
     "text": [
      "The autoreload extension is already loaded. To reload it, use:\n",
      "  %reload_ext autoreload\n"
     ]
    },
    {
     "name": "stderr",
     "output_type": "stream",
     "text": [
      "[autoreload of snorkel.parser failed: Traceback (most recent call last):\n",
      "  File \"/Users/bradenhancock/anaconda/lib/python2.7/site-packages/IPython/extensions/autoreload.py\", line 247, in check\n",
      "    superreload(m, reload, self.old_objects)\n",
      "NameError: name 'HTMLOmniParser' is not defined\n",
      "]\n"
     ]
    }
   ],
   "source": [
    "%load_ext autoreload\n",
    "%autoreload 2\n",
    "\n",
    "import numpy as np"
   ]
  },
  {
   "cell_type": "markdown",
   "metadata": {},
   "source": [
    "### Extraction"
   ]
  },
  {
   "cell_type": "code",
   "execution_count": 7,
   "metadata": {
    "collapsed": false,
    "scrolled": true
   },
   "outputs": [
    {
     "name": "stdout",
     "output_type": "stream",
     "text": [
      "CPU times: user 3 s, sys: 321 ms, total: 3.32 s\n",
      "Wall time: 4.96 s\n",
      "Corpus has been parsed.\n"
     ]
    }
   ],
   "source": [
    "load_pickle = False # with pickle ~15s; without pickle ~75s\n",
    "save_pickle = False\n",
    "\n",
    "corpus_loaded = False\n",
    "import cPickle\n",
    "if load_pickle:\n",
    "    try:\n",
    "        with open(\"data/hardware/hardware_corpus.pkl\",\"r\") as pkl:\n",
    "            %time corpus = cPickle.load(pkl)\n",
    "        corpus_loaded = True\n",
    "        print \"Corpus has been loaded.\"\n",
    "    except:\n",
    "        print \"Corpus could not be loaded.\"\n",
    "        print \"Corpus will be parsed instead...\"\n",
    "if not corpus_loaded:\n",
    "    from snorkel.parser import CorpusParser\n",
    "    from snorkel.parser import HTMLParser\n",
    "    from snorkel.parser import TableParser\n",
    "\n",
    "    html_parser = HTMLParser(path='data/hardware/hardware_html/')\n",
    "    table_parser = TableParser()\n",
    "\n",
    "    cp = CorpusParser(html_parser, table_parser, max_docs=5)\n",
    "    %time corpus = cp.parse_corpus(name='Hardware Corpus')\n",
    "    print \"Corpus has been parsed.\"\n",
    "\n",
    "    if save_pickle:\n",
    "        with open(\"data/hardware/hardware_corpus.pkl\",\"w\") as pkl:\n",
    "            %time cPickle.dump(corpus, pkl)\n",
    "            print \"Corpus has been pickled.\""
   ]
  },
  {
   "cell_type": "code",
   "execution_count": 8,
   "metadata": {
    "collapsed": true
   },
   "outputs": [],
   "source": [
    "# from snorkel import SnorkelSession\n",
    "# session = SnorkelSession()\n",
    "# session.add(corpus)\n",
    "# session.commit()\n",
    "# from snorkel.models import Corpus\n",
    "# corpus = session.query(Corpus).filter(Corpus.name == 'Hardware Corpus').one()\n",
    "# corpus"
   ]
  },
  {
   "cell_type": "code",
   "execution_count": 9,
   "metadata": {
    "collapsed": false
   },
   "outputs": [],
   "source": [
    "from snorkel.candidates import TableNgrams\n",
    "from snorkel.matchers import NumberMatcher, RangeMatcher\n",
    "\n",
    "# Define a candidate space\n",
    "ngrams = TableNgrams(n_max=2)\n",
    "\n",
    "# Define a matcher\n",
    "number_matcher = RangeMatcher(low=-70,high=-50)"
   ]
  },
  {
   "cell_type": "code",
   "execution_count": 10,
   "metadata": {
    "collapsed": false
   },
   "outputs": [
    {
     "name": "stdout",
     "output_type": "stream",
     "text": [
      "CPU times: user 123 ms, sys: 33.5 ms, total: 157 ms\n",
      "Wall time: 134 ms\n",
      "Span(\"-55\", context=None, chars=[0,2], words=[0,0])\n",
      "Span(\"-50\", context=None, chars=[0,2], words=[0,0])\n",
      "Span(\"-50\", context=None, chars=[0,2], words=[0,0])\n",
      "Span(\"-50\", context=None, chars=[4,6], words=[2,2])\n",
      "Span(\"-50\", context=None, chars=[4,6], words=[2,2])\n",
      "Span(\"-50\", context=None, chars=[4,6], words=[2,2])\n",
      "Span(\"-55\", context=None, chars=[0,2], words=[0,0])\n",
      "7 candidates extracted\n"
     ]
    }
   ],
   "source": [
    "from snorkel.candidates import EntityExtractor\n",
    "ce = EntityExtractor(ngrams, number_matcher)\n",
    "%time candidates = ce.extract(corpus.get_tables(), name='all')\n",
    "for cand in candidates[:10]: \n",
    "    print cand\n",
    "print \"%s candidates extracted\" % len(candidates)"
   ]
  },
  {
   "cell_type": "markdown",
   "metadata": {},
   "source": [
    "### Learning"
   ]
  },
  {
   "cell_type": "markdown",
   "metadata": {},
   "source": [
    "First, generate gold data."
   ]
  },
  {
   "cell_type": "code",
   "execution_count": 11,
   "metadata": {
    "collapsed": false
   },
   "outputs": [
    {
     "name": "stdout",
     "output_type": "stream",
     "text": [
      "98 gold annotations\n",
      "2 out of 7 candidates have gold labels\n",
      "2 out of 2 labeled candidates have positive label\n",
      "Positive labels in gold set: 3\n",
      "Negative labels in gold set: 0\n"
     ]
    }
   ],
   "source": [
    "from utils import collect_hardware_entity_gold\n",
    "filename='data/hardware/gold_all.csv'\n",
    "(gold_candidates, gold_labels) = collect_hardware_entity_gold(filename, 'stg_temp_min', candidates)\n",
    "print \"%s out of %s candidates have gold labels\" % (len(gold_candidates), len(candidates))\n",
    "print \"%s out of %s labeled candidates have positive label\" % (gold_labels.count(1), len(gold_candidates))\n",
    "\n",
    "# Split into train and test set\n",
    "training_candidates = []\n",
    "n_half = len(candidates)/2\n",
    "for idx, c in enumerate(candidates[:n_half]):\n",
    "    if c in gold_candidates:\n",
    "        gold_candidates.append(c)\n",
    "        gold_labels.append(gold_labels[idx])\n",
    "    else:\n",
    "        training_candidates.append(c)\n",
    "training_candidates.extend(candidates[n_half:])\n",
    "gold_labels = np.array(gold_labels)\n",
    "# print \"Training set size: %s\" % len(training_candidates)\n",
    "# print \"Gold set size: %s\" % len(gold_candidates)\n",
    "print \"Positive labels in gold set: %s\" % sum(gold_labels==1)\n",
    "print \"Negative labels in gold set: %s\" % sum(gold_labels==-1)"
   ]
  },
  {
   "cell_type": "markdown",
   "metadata": {},
   "source": [
    "Let's take a quick peek at the features:"
   ]
  },
  {
   "cell_type": "code",
   "execution_count": null,
   "metadata": {
    "collapsed": false,
    "scrolled": true
   },
   "outputs": [],
   "source": [
    "from snorkel.features import TableNgramFeaturizer\n",
    "featurizer = TableNgramFeaturizer()\n",
    "featurizer.fit_transform(candidates)\n",
    "for f in featurizer.get_features_by_candidate(candidates[0])[:10]: print f"
   ]
  },
  {
   "cell_type": "markdown",
   "metadata": {},
   "source": [
    "Define labeling functions:"
   ]
  },
  {
   "cell_type": "code",
   "execution_count": null,
   "metadata": {
    "collapsed": false
   },
   "outputs": [],
   "source": [
    "def LF_to_range(m):\n",
    "    return 1 if 'to' in m.post_window('words') else 0\n",
    "def LF_tilde_range(m):\n",
    "    return 1 if '~' in m.post_window('words') else 0\n",
    "def LF_storage(m):\n",
    "    return 1 if 'storage' in m.aligned_ngrams('words') else -1\n",
    "def LF_tstg(m):\n",
    "    return 1 if 'tstg' in m.aligned_ngrams('words') else -1\n",
    "def LF_tj(m):\n",
    "    return 1 if 'tj' in m.aligned_ngrams('words') else -1\n",
    "def LF_temperature(m):\n",
    "    return 1 if 'temperature' in m.aligned_ngrams('words') else -1\n",
    "def LF_celsius(m):\n",
    "    return 1 if 'c' in m.aligned_ngrams('words') else -1\n",
    "def LF_max(m):\n",
    "    return 1 if 'max' in m.aligned_ngrams('words') else 0\n",
    "def LF_min(m):\n",
    "    return 1 if 'min' in m.aligned_ngrams('words') else 0"
   ]
  },
  {
   "cell_type": "code",
   "execution_count": null,
   "metadata": {
    "collapsed": false
   },
   "outputs": [],
   "source": [
    "LFs = [LF_to_range, LF_tilde_range, LF_storage, LF_tstg, LF_tj, LF_temperature,\n",
    "      LF_celsius, LF_max, LF_min]"
   ]
  },
  {
   "cell_type": "code",
   "execution_count": null,
   "metadata": {
    "collapsed": false
   },
   "outputs": [],
   "source": [
    "from snorkel.snorkel import TrainingSet\n",
    "from snorkel.features import NgramFeaturizer\n",
    "\n",
    "training_set = TrainingSet(training_candidates, LFs, featurizer=TableNgramFeaturizer())"
   ]
  },
  {
   "cell_type": "code",
   "execution_count": null,
   "metadata": {
    "collapsed": false
   },
   "outputs": [],
   "source": [
    "lf_stats = training_set.lf_stats()\n",
    "lf_stats[:5]"
   ]
  },
  {
   "cell_type": "markdown",
   "metadata": {},
   "source": [
    "Now learn, baby, learn!"
   ]
  },
  {
   "cell_type": "code",
   "execution_count": null,
   "metadata": {
    "collapsed": true
   },
   "outputs": [],
   "source": [
    "from snorkel.snorkel import Learner\n",
    "from snorkel.learning import LogReg\n",
    "\n",
    "learner = Learner(training_set, model=LogReg(bias_term=True))"
   ]
  },
  {
   "cell_type": "code",
   "execution_count": null,
   "metadata": {
    "collapsed": true
   },
   "outputs": [],
   "source": [
    "# Splitting into CV and test set\n",
    "n_half = len(gold_candidates)/2\n",
    "test_candidates = gold_candidates[:n_half]\n",
    "test_labels     = gold_labels[:n_half]\n",
    "cv_candidates   = gold_candidates[n_half:]\n",
    "cv_labels       = gold_labels[n_half:]"
   ]
  },
  {
   "cell_type": "code",
   "execution_count": null,
   "metadata": {
    "collapsed": false
   },
   "outputs": [],
   "source": [
    "from snorkel.learning_utils import GridSearch\n",
    "\n",
    "gs       = GridSearch(learner, ['mu', 'lf_w0'], [[1e-5, 1e-7],[1.0,2.0]])\n",
    "gs_stats = gs.fit(cv_candidates, cv_labels)"
   ]
  },
  {
   "cell_type": "code",
   "execution_count": null,
   "metadata": {
    "collapsed": false
   },
   "outputs": [],
   "source": [
    "gs_stats"
   ]
  },
  {
   "cell_type": "code",
   "execution_count": null,
   "metadata": {
    "collapsed": false
   },
   "outputs": [],
   "source": [
    "learner.test(test_candidates, test_labels)"
   ]
  },
  {
   "cell_type": "code",
   "execution_count": null,
   "metadata": {
    "collapsed": false
   },
   "outputs": [],
   "source": [
    "learner.feature_stats(n_max=10)"
   ]
  },
  {
   "cell_type": "markdown",
   "metadata": {},
   "source": [
    "Tune in next time for relation extraction!"
   ]
  }
 ],
 "metadata": {
  "kernelspec": {
   "display_name": "Python 2",
   "language": "python",
   "name": "python2"
  },
  "language_info": {
   "codemirror_mode": {
    "name": "ipython",
    "version": 2
   },
   "file_extension": ".py",
   "mimetype": "text/x-python",
   "name": "python",
   "nbconvert_exporter": "python",
   "pygments_lexer": "ipython2",
   "version": "2.7.12"
  }
 },
 "nbformat": 4,
 "nbformat_minor": 0
}
