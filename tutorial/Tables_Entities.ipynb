{
 "cells": [
  {
   "cell_type": "markdown",
   "metadata": {},
   "source": [
    "# Entity Extraction from Tables\n",
    "\n",
    "This notebook demonstrates the full extraction and learning process for _entities_ in tables with a data set of transistor spec sheets, extracting minimum storage temperatures."
   ]
  },
  {
   "cell_type": "code",
   "execution_count": 1,
   "metadata": {
    "collapsed": false
   },
   "outputs": [
    {
     "name": "stdout",
     "output_type": "stream",
     "text": [
      "The autoreload extension is already loaded. To reload it, use:\n",
      "  %reload_ext autoreload\n"
     ]
    }
   ],
   "source": [
    "%load_ext autoreload\n",
    "%autoreload 2"
   ]
  },
  {
   "cell_type": "markdown",
   "metadata": {},
   "source": [
    "### Extraction"
   ]
  },
  {
   "cell_type": "code",
   "execution_count": 2,
   "metadata": {
    "collapsed": false,
    "scrolled": true
   },
   "outputs": [
    {
     "name": "stdout",
     "output_type": "stream",
     "text": [
      "CPU times: user 55.4 s, sys: 969 ms, total: 56.4 s\n",
      "Wall time: 1min 25s\n",
      "Corpus has been parsed.\n"
     ]
    }
   ],
   "source": [
    "load_pickle = False #with pickling, ~30s; without pickling, ~90s\n",
    "save_pickle = False\n",
    "\n",
    "corpus_loaded = False\n",
    "import cPickle\n",
    "if load_pickle:\n",
    "    try:\n",
    "        with open(\"data/hardware/hardware_corpus.pkl\",\"r\") as pkl:\n",
    "            %time corpus = cPickle.load(pkl)\n",
    "        corpus_loaded = True\n",
    "        print \"Corpus has been loaded.\"\n",
    "    except:\n",
    "        print \"Corpus could not be loaded.\"\n",
    "        print \"Corpus will be parsed instead...\"\n",
    "if not corpus_loaded:\n",
    "    from snorkel.parser import CorpusParser\n",
    "    from snorkel.parser import HTMLParser\n",
    "    from snorkel.parser import TableParser\n",
    "\n",
    "    html_parser = HTMLParser(path='data/hardware/hardware_html/')\n",
    "    table_parser = TableParser()\n",
    "\n",
    "    cp = CorpusParser(html_parser, table_parser, max_docs=200)\n",
    "    %time corpus = cp.parse_corpus(name='Hardware Corpus')\n",
    "    print \"Corpus has been parsed.\"\n",
    "\n",
    "    if save_pickle:\n",
    "        with open(\"data/hardware/hardware_corpus.pkl\",\"w\") as pkl:\n",
    "            %time corpus = cPickle.dump(corpus, pkl)\n",
    "            print \"Corpus has been pickled.\""
   ]
  },
  {
   "cell_type": "code",
   "execution_count": 3,
   "metadata": {
    "collapsed": false
   },
   "outputs": [],
   "source": [
    "from snorkel.candidates import TableNgrams\n",
    "from snorkel.matchers import NumberMatcher, RangeMatcher\n",
    "\n",
    "# Define a candidate space\n",
    "ngrams = TableNgrams(n_max=3)\n",
    "\n",
    "# Define a matcher\n",
    "number_matcher = RangeMatcher(low=-70,high=-50)"
   ]
  },
  {
   "cell_type": "code",
   "execution_count": 4,
   "metadata": {
    "collapsed": false
   },
   "outputs": [
    {
     "name": "stdout",
     "output_type": "stream",
     "text": [
      "CPU times: user 22.2 s, sys: 578 ms, total: 22.8 s\n",
      "Wall time: 22.9 s\n",
      "Ngram(\"-55\", context=None, chars=[297,299], words=[0,0])\n",
      "Ngram(\"-50\", context=None, chars=[414,416], words=[0,0])\n",
      "Ngram(\"-50\", context=None, chars=[494,496], words=[0,0])\n",
      "Ngram(\"-50\", context=None, chars=[683,685], words=[2,2])\n",
      "Ngram(\"-50\", context=None, chars=[854,856], words=[2,2])\n",
      "Ngram(\"-50\", context=None, chars=[991,993], words=[2,2])\n",
      "Ngram(\"-55\", context=None, chars=[294,296], words=[0,0])\n",
      "Ngram(\"-55\", context=None, chars=[292,294], words=[0,0])\n",
      "Ngram(\"-55\", context=None, chars=[355,357], words=[0,0])\n",
      "Ngram(\"-50\", context=None, chars=[410,412], words=[0,0])\n",
      "108 candidates extracted\n"
     ]
    }
   ],
   "source": [
    "from snorkel.candidates import EntityExtractor\n",
    "ce = EntityExtractor(ngrams, number_matcher)\n",
    "%time candidates = ce.extract(corpus.get_tables(), name='all')\n",
    "for cand in candidates[:10]: \n",
    "    print cand\n",
    "print \"%s candidates extracted\" % len(candidates)"
   ]
  },
  {
   "cell_type": "markdown",
   "metadata": {},
   "source": [
    "### Learning"
   ]
  },
  {
   "cell_type": "markdown",
   "metadata": {},
   "source": [
    "First, generate gold data."
   ]
  },
  {
   "cell_type": "code",
   "execution_count": 5,
   "metadata": {
    "collapsed": false
   },
   "outputs": [
    {
     "name": "stdout",
     "output_type": "stream",
     "text": [
      "98 gold annotations\n",
      "59 out of 108 candidates have gold labels\n",
      "51 out of 59 labeled candidates have positive label\n"
     ]
    }
   ],
   "source": [
    "from utils import collect_hardware_entity_gold\n",
    "filename='data/hardware/gold_all.csv'\n",
    "gt_dict = collect_hardware_entity_gold(filename, 'stg_temp_min', candidates)\n",
    "print \"%s out of %s candidates have gold labels\" % (len(gt_dict),len(candidates))\n",
    "print \"%s out of %s labeled candidates have positive label\" \\\n",
    "        % (gt_dict.values().count(1), len(gt_dict))"
   ]
  },
  {
   "cell_type": "markdown",
   "metadata": {},
   "source": [
    "Let's take a quick peek at the features:"
   ]
  },
  {
   "cell_type": "code",
   "execution_count": 6,
   "metadata": {
    "collapsed": false,
    "scrolled": true
   },
   "outputs": [
    {
     "name": "stdout",
     "output_type": "stream",
     "text": [
      "DDLIB_WORD_SEQ_[-55]\n",
      "DDLIB_LEMMA_SEQ_[-55]\n",
      "DDLIB_POS_SEQ_[CD]\n",
      "DDLIB_DEP_SEQ_[ROOT]\n",
      "DDLIB_W_LEFT_1_[_NUMBER]\n",
      "DDLIB_W_LEFT_POS_1_[CD]\n",
      "DDLIB_W_LEFT_2_[to _NUMBER]\n",
      "DDLIB_W_LEFT_POS_2_[TO CD]\n",
      "DDLIB_W_LEFT_3_[_NUMBER to _NUMBER]\n",
      "DDLIB_W_LEFT_POS_3_[CD TO CD]\n",
      "DDLIB_W_RIGHT_1_[to]\n",
      "DDLIB_W_RIGHT_POS_1_[TO]\n",
      "DDLIB_W_RIGHT_2_[to _NUMBER]\n",
      "DDLIB_W_RIGHT_POS_2_[TO CD]\n",
      "DDLIB_W_LEMMA_L_1_R_1_[_NUMBER]_[to]\n",
      "DDLIB_W_POS_L_1_R_1_[CD]_[TO]\n",
      "DDLIB_W_LEMMA_L_1_R_2_[_NUMBER]_[to _NUMBER]\n",
      "DDLIB_W_POS_L_1_R_2_[CD]_[TO CD]\n",
      "DDLIB_W_LEMMA_L_2_R_1_[to _NUMBER]_[to]\n",
      "DDLIB_W_POS_L_2_R_1_[TO CD]_[TO]\n",
      "DDLIB_W_LEMMA_L_2_R_2_[to _NUMBER]_[to _NUMBER]\n",
      "DDLIB_W_POS_L_2_R_2_[TO CD]_[TO CD]\n",
      "DDLIB_W_LEMMA_L_3_R_1_[_NUMBER to _NUMBER]_[to]\n",
      "DDLIB_W_POS_L_3_R_1_[CD TO CD]_[TO]\n",
      "DDLIB_W_LEMMA_L_3_R_2_[_NUMBER to _NUMBER]_[to _NUMBER]\n",
      "DDLIB_W_POS_L_3_R_2_[CD TO CD]_[TO CD]\n",
      "DDLIB_NUM_WORDS_1\n",
      "TABLE_ROW_NUM_[5]\n",
      "TABLE_COL_NUM_[2]\n",
      "TABLE_HTML_TAG_td\n",
      "TABLE_HTML_ATTR_style=width:108pt\n",
      "TABLE_HTML_ANC_TAG_tr\n",
      "TABLE_HTML_ANC_TAG_table\n",
      "TABLE_HTML_ANC_TAG_body\n",
      "TABLE_HTML_ANC_ATTR_style=height:16pt\n",
      "TABLE_HTML_ANC_ATTR_style=border-collapse:collapse\n",
      "TABLE_HTML_ANC_ATTR_cellspacing=0\n",
      "TABLE_ROW_WORDS_tj\n",
      "TABLE_ROW_WORDS_tj_,\n",
      "TABLE_ROW_WORDS_tj_,_tstg\n",
      "TABLE_ROW_WORDS_,\n",
      "TABLE_ROW_WORDS_,_tstg\n",
      "TABLE_ROW_WORDS_tstg\n",
      "TABLE_ROW_WORDS_operating\n",
      "TABLE_ROW_WORDS_operating_and\n",
      "TABLE_ROW_WORDS_operating_and_storage\n",
      "TABLE_ROW_WORDS_and\n",
      "TABLE_ROW_WORDS_and_storage\n",
      "TABLE_ROW_WORDS_and_storage_junction\n",
      "TABLE_ROW_WORDS_storage\n",
      "TABLE_ROW_WORDS_storage_junction\n",
      "TABLE_ROW_WORDS_storage_junction_temperature\n",
      "TABLE_ROW_WORDS_junction\n",
      "TABLE_ROW_WORDS_junction_temperature\n",
      "TABLE_ROW_WORDS_junction_temperature_range\n",
      "TABLE_ROW_WORDS_temperature\n",
      "TABLE_ROW_WORDS_temperature_range\n",
      "TABLE_ROW_WORDS_range\n",
      "TABLE_ROW_WORDS_\\\n",
      "TABLE_ROW_WORDS_\\_uf0b0c\n",
      "TABLE_ROW_WORDS_uf0b0c\n",
      "TABLE_COL_WORDS_value\n",
      "TABLE_COL_WORDS_-40\n",
      "TABLE_COL_WORDS_-40\n",
      "TABLE_COL_WORDS_-5.0\n",
      "TABLE_COL_WORDS_-200\n",
      "TABLE_NEIGHBOR_DOWN_WORDS_-200\n",
      "TABLE_NEIGHBOR_LEFT_WORDS_operating\n",
      "TABLE_NEIGHBOR_LEFT_WORDS_operating_and\n",
      "TABLE_NEIGHBOR_LEFT_WORDS_operating_and_storage\n",
      "TABLE_NEIGHBOR_LEFT_WORDS_and\n",
      "TABLE_NEIGHBOR_LEFT_WORDS_and_storage\n",
      "TABLE_NEIGHBOR_LEFT_WORDS_and_storage_junction\n",
      "TABLE_NEIGHBOR_LEFT_WORDS_storage\n",
      "TABLE_NEIGHBOR_LEFT_WORDS_storage_junction\n",
      "TABLE_NEIGHBOR_LEFT_WORDS_storage_junction_temperature\n",
      "TABLE_NEIGHBOR_LEFT_WORDS_junction\n",
      "TABLE_NEIGHBOR_LEFT_WORDS_junction_temperature\n",
      "TABLE_NEIGHBOR_LEFT_WORDS_junction_temperature_range\n",
      "TABLE_NEIGHBOR_LEFT_WORDS_temperature\n",
      "TABLE_NEIGHBOR_LEFT_WORDS_temperature_range\n",
      "TABLE_NEIGHBOR_LEFT_WORDS_range\n",
      "TABLE_NEIGHBOR_RIGHT_WORDS_\\\n",
      "TABLE_NEIGHBOR_RIGHT_WORDS_\\_uf0b0c\n",
      "TABLE_NEIGHBOR_RIGHT_WORDS_uf0b0c\n"
     ]
    }
   ],
   "source": [
    "from snorkel.features import TableNgramFeaturizer\n",
    "featurizer = TableNgramFeaturizer()\n",
    "featurizer.fit_transform(candidates)\n",
    "for f in featurizer.get_features_by_candidate(candidates[0])[:]: print f"
   ]
  },
  {
   "cell_type": "markdown",
   "metadata": {},
   "source": [
    "We now build a legacy DDLiteModel with which we will do learning."
   ]
  },
  {
   "cell_type": "code",
   "execution_count": 7,
   "metadata": {
    "collapsed": false,
    "scrolled": true
   },
   "outputs": [
    {
     "name": "stdout",
     "output_type": "stream",
     "text": [
      "31 training data\n",
      "15 test data\n",
      "13 validation data\n"
     ]
    }
   ],
   "source": [
    "from snorkel.snorkel import DDLiteModel\n",
    "DDL = DDLiteModel(candidates, featurizer.fit_transform(candidates), gt_dict)\n",
    "\n",
    "DDL.set_holdout(idxs=range(int(len(gt_dict)*.8)), validation_frac=0.5)\n",
    "print \"%s training data\" % len(DDL.gt.get_labeled_ground_truth('training')[0])\n",
    "print \"%s test data\" % len(DDL.gt.get_labeled_ground_truth('test')[0])\n",
    "print \"%s validation data\" % len(DDL.gt.get_labeled_ground_truth('validation')[0])"
   ]
  },
  {
   "cell_type": "markdown",
   "metadata": {},
   "source": [
    "Define labeling functions:"
   ]
  },
  {
   "cell_type": "code",
   "execution_count": 8,
   "metadata": {
    "collapsed": false
   },
   "outputs": [],
   "source": [
    "def LF_to_range(m):\n",
    "    return 1 if 'to' in m.post_window('words') else 0\n",
    "def LF_tilde_range(m):\n",
    "    return 1 if '~' in m.post_window('words') else 0\n",
    "def LF_storage(m):\n",
    "    return 1 if 'storage' in m.aligned_ngrams('words') else -1\n",
    "def LF_tstg(m):\n",
    "    return 1 if 'tstg' in m.aligned_ngrams('words') else -1\n",
    "def LF_tj(m):\n",
    "    return 1 if 'tj' in m.aligned_ngrams('words') else -1\n",
    "def LF_temperature(m):\n",
    "    return 1 if 'temperature' in m.aligned_ngrams('words') else -1\n",
    "def LF_celsius(m):\n",
    "    return 1 if 'c' in m.aligned_ngrams('words') else -1\n",
    "def LF_max(m):\n",
    "    return 1 if 'max' in m.aligned_ngrams('words') else 0\n",
    "def LF_min(m):\n",
    "    return 1 if 'min' in m.aligned_ngrams('words') else 0"
   ]
  },
  {
   "cell_type": "code",
   "execution_count": 9,
   "metadata": {
    "collapsed": false
   },
   "outputs": [],
   "source": [
    "LFs = [LF_to_range, LF_tilde_range, LF_storage, LF_tstg, LF_tj, LF_temperature,\n",
    "      LF_celsius, LF_max, LF_min]\n",
    "DDL.apply_lfs(LFs, clear=True)"
   ]
  },
  {
   "cell_type": "code",
   "execution_count": 10,
   "metadata": {
    "collapsed": false,
    "scrolled": true
   },
   "outputs": [
    {
     "name": "stdout",
     "output_type": "stream",
     "text": [
      "['LF_to_range', 'LF_tilde_range', 'LF_storage', 'LF_tstg', 'LF_tj', 'LF_temperature', 'LF_celsius', 'LF_max', 'LF_min']\n",
      "LF stats on training set\n",
      "Coverage:\t100.000%\n",
      "Overlap:\t100.000%\n",
      "Conflict:\t59.016%\n"
     ]
    }
   ],
   "source": [
    "print DDL.lf_names\n",
    "DDL.print_lf_stats()"
   ]
  },
  {
   "cell_type": "markdown",
   "metadata": {},
   "source": [
    "Now learn, baby, learn!"
   ]
  },
  {
   "cell_type": "code",
   "execution_count": 11,
   "metadata": {
    "collapsed": false
   },
   "outputs": [
    {
     "name": "stdout",
     "output_type": "stream",
     "text": [
      "Begin training for rate=0.01, mu=1e-07\n",
      "\tLearning epoch = 0\tGradient mag. = 0.480100\n",
      "\tLearning epoch = 250\tGradient mag. = 0.539328\n",
      "Final gradient magnitude for rate=0.01, mu=1e-07: 0.420\n",
      "Running in False mode...\n",
      "Begin training for rate=0.01, mu=1e-09\n",
      "\tLearning epoch = 0\tGradient mag. = 0.202577\n",
      "\tLearning epoch = 250\tGradient mag. = 0.212104\n",
      "\tLearning epoch = 500\tGradient mag. = 0.210982\n",
      "\tLearning epoch = 750\tGradient mag. = 0.209874\n",
      "\tLearning epoch = 1000\tGradient mag. = 0.208779\n",
      "\tLearning epoch = 1250\tGradient mag. = 0.207697\n",
      "\tLearning epoch = 1500\tGradient mag. = 0.206629\n",
      "\tLearning epoch = 1750\tGradient mag. = 0.205573\n",
      "\tLearning epoch = 2000\tGradient mag. = 0.204530\n",
      "\tLearning epoch = 2250\tGradient mag. = 0.203500\n",
      "\tLearning epoch = 2500\tGradient mag. = 0.202481\n",
      "\tLearning epoch = 2750\tGradient mag. = 0.201475\n",
      "Final gradient magnitude for rate=0.01, mu=1e-09: 0.200\n",
      "Begin training for rate=0.01, mu=1e-05\n",
      "\tLearning epoch = 0\tGradient mag. = 0.202577\n",
      "\tLearning epoch = 250\tGradient mag. = 0.212104\n",
      "\tLearning epoch = 500\tGradient mag. = 0.210983\n",
      "\tLearning epoch = 750\tGradient mag. = 0.209875\n",
      "\tLearning epoch = 1000\tGradient mag. = 0.208781\n",
      "\tLearning epoch = 1250\tGradient mag. = 0.207700\n",
      "\tLearning epoch = 1500\tGradient mag. = 0.206631\n",
      "\tLearning epoch = 1750\tGradient mag. = 0.205576\n",
      "\tLearning epoch = 2000\tGradient mag. = 0.204534\n",
      "\tLearning epoch = 2250\tGradient mag. = 0.203504\n",
      "\tLearning epoch = 2500\tGradient mag. = 0.202486\n",
      "\tLearning epoch = 2750\tGradient mag. = 0.201480\n",
      "Final gradient magnitude for rate=0.01, mu=1e-05: 0.200\n",
      "Begin training for rate=0.01, mu=0.001\n",
      "\tLearning epoch = 0\tGradient mag. = 0.202577\n",
      "\tLearning epoch = 250\tGradient mag. = 0.212143\n",
      "\tLearning epoch = 500\tGradient mag. = 0.211061\n",
      "\tLearning epoch = 750\tGradient mag. = 0.209994\n",
      "\tLearning epoch = 1000\tGradient mag. = 0.208941\n",
      "\tLearning epoch = 1250\tGradient mag. = 0.207903\n",
      "\tLearning epoch = 1500\tGradient mag. = 0.206878\n",
      "\tLearning epoch = 1750\tGradient mag. = 0.205867\n",
      "\tLearning epoch = 2000\tGradient mag. = 0.204869\n",
      "\tLearning epoch = 2250\tGradient mag. = 0.203885\n",
      "\tLearning epoch = 2500\tGradient mag. = 0.202913\n",
      "\tLearning epoch = 2750\tGradient mag. = 0.201954\n",
      "Final gradient magnitude for rate=0.01, mu=0.001: 0.201\n",
      "Begin training for rate=0.01, mu=0.1\n",
      "\tLearning epoch = 0\tGradient mag. = 0.202577\n",
      "SGD converged for mu=0.1 after 10 steps\n"
     ]
    },
    {
     "data": {
      "image/png": "[encoded data removed]",
      "text/plain": [
       "<matplotlib.figure.Figure at 0x16290d110>"
      ]
     },
     "metadata": {},
     "output_type": "display_data"
    },
    {
     "name": "stdout",
     "output_type": "stream",
     "text": [
      "CPU times: user 3.56 s, sys: 44.3 ms, total: 3.61 s\n",
      "Wall time: 3.62 s\n"
     ]
    },
    {
     "data": {
      "text/html": [
       "<table><tr><td><b>ID</b></td><td><b># LFs</b></td><td><b>Test set size</b></td><td><b>Model</b></td><td><b>Precision</b></td><td><b>Recall</b></td><td><b>F1</b></td></tr><tr><td>0</td><td>9</td><td>15</td><td>Logistic regression</td><td>1.000</td><td>1.000</td><td>1.000</td></tr></table><table><tr><td><b>LF</b></td></tr><tr><td>LF_to_range</td></tr><tr><td>LF_tilde_range</td></tr><tr><td>LF_storage</td></tr><tr><td>LF_tstg</td></tr><tr><td>LF_tj</td></tr><tr><td>LF_temperature</td></tr><tr><td>LF_celsius</td></tr><tr><td>LF_max</td></tr><tr><td>LF_min</td></tr></table>"
      ],
      "text/plain": [
       "<snorkel.snorkel.ModelLog instance at 0x1628f22d8>"
      ]
     },
     "execution_count": 11,
     "metadata": {},
     "output_type": "execute_result"
    }
   ],
   "source": [
    "import matplotlib\n",
    "import numpy as np\n",
    "%matplotlib inline\n",
    "matplotlib.rcParams['figure.figsize'] = (12,4)\n",
    "mu_seq = np.ravel([1e-9, 1e-5, 1e-3, 1e-1])\n",
    "lf_opts = {'sample': False, 'verbose': True}\n",
    "model_opts = {'sample': False, 'n_iter': 3000, 'alpha': 0.5, 'mu': mu_seq, 'bias': False, 'verbose': True}\n",
    "%time DDL.train_model(method='lr', lf_opts=lf_opts, model_opts=model_opts)"
   ]
  },
  {
   "cell_type": "markdown",
   "metadata": {},
   "source": [
    "Tune in next time for relation extraction!"
   ]
  }
 ],
 "metadata": {
  "kernelspec": {
   "display_name": "Python 2",
   "language": "python",
   "name": "python2"
  },
  "language_info": {
   "codemirror_mode": {
    "name": "ipython",
    "version": 2
   },
   "file_extension": ".py",
   "mimetype": "text/x-python",
   "name": "python",
   "nbconvert_exporter": "python",
   "pygments_lexer": "ipython2",
   "version": "2.7.12"
  }
 },
 "nbformat": 4,
 "nbformat_minor": 0
}
