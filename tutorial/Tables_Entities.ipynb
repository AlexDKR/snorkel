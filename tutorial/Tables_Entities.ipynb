{
 "cells": [
  {
   "cell_type": "markdown",
   "metadata": {},
   "source": [
    "# Entity Extraction from Tables\n",
    "\n",
    "This notebook demonstrates the full extraction and learning process for _entities_ in tables with a data set of transistor spec sheets, extracting minimum storage temperatures."
   ]
  },
  {
   "cell_type": "code",
   "execution_count": 59,
   "metadata": {
    "collapsed": false
   },
   "outputs": [
    {
     "name": "stdout",
     "output_type": "stream",
     "text": [
      "The autoreload extension is already loaded. To reload it, use:\n",
      "  %reload_ext autoreload\n"
     ]
    }
   ],
   "source": [
    "%load_ext autoreload\n",
    "%autoreload 2"
   ]
  },
  {
   "cell_type": "code",
   "execution_count": 60,
   "metadata": {
    "collapsed": false
   },
   "outputs": [],
   "source": [
    "# from snorkel import SnorkelSession\n",
    "# session = SnorkelSession()"
   ]
  },
  {
   "cell_type": "markdown",
   "metadata": {},
   "source": [
    "### Extraction"
   ]
  },
  {
   "cell_type": "code",
   "execution_count": 61,
   "metadata": {
    "collapsed": false
   },
   "outputs": [],
   "source": [
    "from snorkel.parser import HTMLParser\n",
    "html_parser = HTMLParser(path='data/hardware/hardware_html/')"
   ]
  },
  {
   "cell_type": "code",
   "execution_count": 62,
   "metadata": {
    "collapsed": false
   },
   "outputs": [],
   "source": [
    "from snorkel.parser import TableParser\n",
    "table_parser = TableParser()"
   ]
  },
  {
   "cell_type": "code",
   "execution_count": 63,
   "metadata": {
    "collapsed": false,
    "scrolled": true
   },
   "outputs": [
    {
     "name": "stdout",
     "output_type": "stream",
     "text": [
      "CPU times: user 6.87 s, sys: 209 ms, total: 7.08 s\n",
      "Wall time: 10.6 s\n",
      "Corpus has been parsed.\n"
     ]
    }
   ],
   "source": [
    "load_pickle = False\n",
    "corpus_loaded = False\n",
    "if load_pickle:\n",
    "    try:\n",
    "        import cPickle\n",
    "        with open(\"data/hardware/hardware_corpus.pkl\",\"r\") as pkl:\n",
    "            %time corpus = cPickle.load(pkl)\n",
    "        pickle_loaded = True\n",
    "        print \"Corpus has been loaded.\"\n",
    "    except:\n",
    "        print \"Corpus could not be loaded.\"\n",
    "        print \"Corpus will be parsed instead...\"\n",
    "if not corpus_loaded:\n",
    "    from snorkel.parser import CorpusParser\n",
    "    from snorkel.parser import HTMLParser\n",
    "    from snorkel.parser import TableParser\n",
    "\n",
    "    html_parser = HTMLParser(path='data/hardware/hardware_html/')\n",
    "    table_parser = TableParser()\n",
    "\n",
    "    cp = CorpusParser(html_parser, table_parser, max_docs=15)\n",
    "    %time corpus = cp.parse_corpus(name='Hardware Corpus')\n",
    "    print \"Corpus has been parsed.\""
   ]
  },
  {
   "cell_type": "code",
   "execution_count": 64,
   "metadata": {
    "collapsed": false
   },
   "outputs": [],
   "source": [
    "# import cPickle\n",
    "# with open(\"data/hardware/hardware_corpus.pkl\",'wb') as pkl:\n",
    "#     %time cPickle.dump(corpus, pkl)\n",
    "# print \"Corpus has been pickled.\""
   ]
  },
  {
   "cell_type": "code",
   "execution_count": 65,
   "metadata": {
    "collapsed": false
   },
   "outputs": [],
   "source": [
    "# session.add(corpus)\n",
    "# session.commit()"
   ]
  },
  {
   "cell_type": "code",
   "execution_count": 66,
   "metadata": {
    "collapsed": false
   },
   "outputs": [],
   "source": [
    "# from snorkel.models import Corpus\n",
    "# corpus = session.query(Corpus).filter(Corpus.name == 'Hardware Corpus').one()\n",
    "# corpus"
   ]
  },
  {
   "cell_type": "code",
   "execution_count": 67,
   "metadata": {
    "collapsed": false
   },
   "outputs": [],
   "source": [
    "from snorkel.candidates import TableNgrams\n",
    "from snorkel.matchers import NumberMatcher, RangeMatcher\n",
    "\n",
    "# Define a candidate space\n",
    "ngrams = TableNgrams(n_max=3)\n",
    "\n",
    "# Define a matcher\n",
    "number_matcher = RangeMatcher(low=-70,high=-50)"
   ]
  },
  {
   "cell_type": "code",
   "execution_count": 68,
   "metadata": {
    "collapsed": false
   },
   "outputs": [
    {
     "name": "stdout",
     "output_type": "stream",
     "text": [
      "CPU times: user 3.06 s, sys: 62 ms, total: 3.13 s\n",
      "Wall time: 3.1 s\n",
      "Ngram(\"-55\", context=None, chars=[297,299], words=[0,0])\n",
      "Ngram(\"-50\", context=None, chars=[414,416], words=[0,0])\n",
      "Ngram(\"-50\", context=None, chars=[494,496], words=[0,0])\n",
      "Ngram(\"-50\", context=None, chars=[683,685], words=[2,2])\n",
      "Ngram(\"-50\", context=None, chars=[854,856], words=[2,2])\n",
      "Ngram(\"-50\", context=None, chars=[991,993], words=[2,2])\n",
      "Ngram(\"-55\", context=None, chars=[294,296], words=[0,0])\n",
      "Ngram(\"-55\", context=None, chars=[292,294], words=[0,0])\n",
      "Ngram(\"-55\", context=None, chars=[355,357], words=[0,0])\n",
      "Ngram(\"-50\", context=None, chars=[410,412], words=[0,0])\n",
      "14 candidates extracted\n"
     ]
    }
   ],
   "source": [
    "# from snorkel.candidates import Candidates\n",
    "# %time candidates = Candidates(ngrams, number_matcher, corpus.get_contexts())\n",
    "# for c in candidates.get_candidates()[:5]: print c\n",
    "    \n",
    "from snorkel.candidates import EntityExtractor\n",
    "ce = EntityExtractor(ngrams, number_matcher)\n",
    "%time candidates = ce.extract(corpus.get_tables(), name='all')\n",
    "for cand in candidates[:10]: \n",
    "    print cand\n",
    "print \"%s candidates extracted\" % len(candidates)"
   ]
  },
  {
   "cell_type": "code",
   "execution_count": 69,
   "metadata": {
    "collapsed": true
   },
   "outputs": [],
   "source": [
    "# session.add(candidates)\n",
    "# session.commit()"
   ]
  },
  {
   "cell_type": "code",
   "execution_count": 70,
   "metadata": {
    "collapsed": true
   },
   "outputs": [],
   "source": [
    "# from snorkel.models import CandidateSet\n",
    "# candidates = session.query(CandidateSet).filter(CandidateSet.name == 'all').one()\n",
    "# print len(candidates)"
   ]
  },
  {
   "cell_type": "markdown",
   "metadata": {},
   "source": [
    "### Learning"
   ]
  },
  {
   "cell_type": "markdown",
   "metadata": {},
   "source": [
    "First, generate gold data."
   ]
  },
  {
   "cell_type": "code",
   "execution_count": 71,
   "metadata": {
    "collapsed": false
   },
   "outputs": [
    {
     "name": "stdout",
     "output_type": "stream",
     "text": [
      "98 gold annotations\n",
      "7 out of 14 candidates have gold labels\n",
      "7 out of 7 labeled candidates have positive label\n"
     ]
    }
   ],
   "source": [
    "from utils import collect_hardware_entity_gold\n",
    "filename='data/hardware/gold_all.csv'\n",
    "gt_dict = collect_hardware_entity_gold(filename, 'stg_temp_min', candidates)\n",
    "print \"%s out of %s candidates have gold labels\" % (len(gt_dict),len(candidates))\n",
    "print \"%s out of %s labeled candidates have positive label\" \\\n",
    "        % (gt_dict.values().count(1), len(gt_dict))"
   ]
  },
  {
   "cell_type": "markdown",
   "metadata": {},
   "source": [
    "Then confirm that features work:"
   ]
  },
  {
   "cell_type": "code",
   "execution_count": 74,
   "metadata": {
    "collapsed": false
   },
   "outputs": [
    {
     "name": "stdout",
     "output_type": "stream",
     "text": [
      "DDLIB_WORD_SEQ_[-55]\n",
      "DDLIB_LEMMA_SEQ_[-55]\n",
      "DDLIB_POS_SEQ_[CD]\n",
      "DDLIB_DEP_SEQ_[ROOT]\n",
      "DDLIB_W_LEFT_1_[_NUMBER]\n",
      "DDLIB_W_LEFT_POS_1_[CD]\n",
      "DDLIB_W_LEFT_2_[to _NUMBER]\n",
      "DDLIB_W_LEFT_POS_2_[TO CD]\n",
      "DDLIB_W_LEFT_3_[_NUMBER to _NUMBER]\n",
      "DDLIB_W_LEFT_POS_3_[CD TO CD]\n",
      "DDLIB_W_RIGHT_1_[to]\n",
      "DDLIB_W_RIGHT_POS_1_[TO]\n",
      "DDLIB_W_RIGHT_2_[to _NUMBER]\n",
      "DDLIB_W_RIGHT_POS_2_[TO CD]\n",
      "DDLIB_W_LEMMA_L_1_R_1_[_NUMBER]_[to]\n",
      "DDLIB_W_POS_L_1_R_1_[CD]_[TO]\n",
      "DDLIB_W_LEMMA_L_1_R_2_[_NUMBER]_[to _NUMBER]\n",
      "DDLIB_W_POS_L_1_R_2_[CD]_[TO CD]\n",
      "DDLIB_W_LEMMA_L_2_R_1_[to _NUMBER]_[to]\n",
      "DDLIB_W_POS_L_2_R_1_[TO CD]_[TO]\n",
      "DDLIB_W_LEMMA_L_2_R_2_[to _NUMBER]_[to _NUMBER]\n",
      "DDLIB_W_POS_L_2_R_2_[TO CD]_[TO CD]\n",
      "DDLIB_W_LEMMA_L_3_R_1_[_NUMBER to _NUMBER]_[to]\n",
      "DDLIB_W_POS_L_3_R_1_[CD TO CD]_[TO]\n",
      "DDLIB_W_LEMMA_L_3_R_2_[_NUMBER to _NUMBER]_[to _NUMBER]\n",
      "DDLIB_W_POS_L_3_R_2_[CD TO CD]_[TO CD]\n",
      "DDLIB_NUM_WORDS_1\n",
      "TABLE_ROW_NUM_5\n",
      "TABLE_COL_NUM_2\n",
      "TABLE_HTML_TAG_td\n",
      "TABLE_HTML_ATTR_style=width:108pt\n",
      "TABLE_HTML_ANC_TAG_tr\n",
      "TABLE_HTML_ANC_TAG_table\n",
      "TABLE_HTML_ANC_TAG_body\n",
      "TABLE_HTML_ANC_ATTR_style=height:16pt\n",
      "TABLE_HTML_ANC_ATTR_style=border-collapse:collapse\n",
      "TABLE_HTML_ANC_ATTR_cellspacing=0\n",
      "TABLE_ROW_WORDS_tj\n",
      "TABLE_ROW_WORDS_tj_,\n",
      "TABLE_ROW_WORDS_tj_,_tstg\n",
      "TABLE_ROW_WORDS_,\n",
      "TABLE_ROW_WORDS_,_tstg\n",
      "TABLE_ROW_WORDS_tstg\n",
      "TABLE_ROW_WORDS_operating\n",
      "TABLE_ROW_WORDS_operating_and\n",
      "TABLE_ROW_WORDS_operating_and_storage\n",
      "TABLE_ROW_WORDS_and\n",
      "TABLE_ROW_WORDS_and_storage\n",
      "TABLE_ROW_WORDS_and_storage_junction\n",
      "TABLE_ROW_WORDS_storage\n",
      "TABLE_ROW_WORDS_storage_junction\n",
      "TABLE_ROW_WORDS_storage_junction_temperature\n",
      "TABLE_ROW_WORDS_junction\n",
      "TABLE_ROW_WORDS_junction_temperature\n",
      "TABLE_ROW_WORDS_junction_temperature_range\n",
      "TABLE_ROW_WORDS_temperature\n",
      "TABLE_ROW_WORDS_temperature_range\n",
      "TABLE_ROW_WORDS_range\n",
      "TABLE_ROW_WORDS_\\\n",
      "TABLE_ROW_WORDS_\\_uf0b0c\n",
      "TABLE_ROW_WORDS_uf0b0c\n",
      "TABLE_COL_WORDS_value\n",
      "TABLE_COL_WORDS_-40\n",
      "TABLE_COL_WORDS_-40\n",
      "TABLE_COL_WORDS_-5.0\n",
      "TABLE_COL_WORDS_-200\n",
      "TABLE_NEIGHBOR_DOWN_WORDS_-200\n",
      "TABLE_NEIGHBOR_LEFT_WORDS_operating\n",
      "TABLE_NEIGHBOR_LEFT_WORDS_operating_and\n",
      "TABLE_NEIGHBOR_LEFT_WORDS_operating_and_storage\n",
      "TABLE_NEIGHBOR_LEFT_WORDS_and\n",
      "TABLE_NEIGHBOR_LEFT_WORDS_and_storage\n",
      "TABLE_NEIGHBOR_LEFT_WORDS_and_storage_junction\n",
      "TABLE_NEIGHBOR_LEFT_WORDS_storage\n",
      "TABLE_NEIGHBOR_LEFT_WORDS_storage_junction\n",
      "TABLE_NEIGHBOR_LEFT_WORDS_storage_junction_temperature\n",
      "TABLE_NEIGHBOR_LEFT_WORDS_junction\n",
      "TABLE_NEIGHBOR_LEFT_WORDS_junction_temperature\n",
      "TABLE_NEIGHBOR_LEFT_WORDS_junction_temperature_range\n",
      "TABLE_NEIGHBOR_LEFT_WORDS_temperature\n",
      "TABLE_NEIGHBOR_LEFT_WORDS_temperature_range\n",
      "TABLE_NEIGHBOR_LEFT_WORDS_range\n",
      "TABLE_NEIGHBOR_RIGHT_WORDS_\\\n",
      "TABLE_NEIGHBOR_RIGHT_WORDS_\\_uf0b0c\n",
      "TABLE_NEIGHBOR_RIGHT_WORDS_uf0b0c\n",
      "TABLE_ROW_LEMMAS_tj\n",
      "TABLE_ROW_LEMMAS_tj_,\n",
      "TABLE_ROW_LEMMAS_tj_,_tstg\n",
      "TABLE_ROW_LEMMAS_,\n",
      "TABLE_ROW_LEMMAS_,_tstg\n",
      "TABLE_ROW_LEMMAS_tstg\n",
      "TABLE_ROW_LEMMAS_operating\n",
      "TABLE_ROW_LEMMAS_operating_and\n",
      "TABLE_ROW_LEMMAS_operating_and_storage\n",
      "TABLE_ROW_LEMMAS_and\n",
      "TABLE_ROW_LEMMAS_and_storage\n",
      "TABLE_ROW_LEMMAS_and_storage_junction\n",
      "TABLE_ROW_LEMMAS_storage\n",
      "TABLE_ROW_LEMMAS_storage_junction\n",
      "TABLE_ROW_LEMMAS_storage_junction_temperature\n",
      "TABLE_ROW_LEMMAS_junction\n",
      "TABLE_ROW_LEMMAS_junction_temperature\n",
      "TABLE_ROW_LEMMAS_junction_temperature_range\n",
      "TABLE_ROW_LEMMAS_temperature\n",
      "TABLE_ROW_LEMMAS_temperature_range\n",
      "TABLE_ROW_LEMMAS_range\n",
      "TABLE_ROW_LEMMAS_\\\n",
      "TABLE_ROW_LEMMAS_\\_uf0b0c\n",
      "TABLE_ROW_LEMMAS_uf0b0c\n",
      "TABLE_COL_LEMMAS_value\n",
      "TABLE_COL_LEMMAS_-40\n",
      "TABLE_COL_INT\n",
      "TABLE_COL_LEMMAS_-40\n",
      "TABLE_COL_INT\n",
      "TABLE_COL_LEMMAS_-5.0\n",
      "TABLE_COL_INT\n",
      "TABLE_COL_LEMMAS_-200\n",
      "TABLE_COL_INT\n",
      "TABLE_NEIGHBOR_DOWN_LEMMAS_-200\n",
      "TABLE_NEIGHBOR_DOWN_INT\n",
      "TABLE_NEIGHBOR_LEFT_LEMMAS_operating\n",
      "TABLE_NEIGHBOR_LEFT_LEMMAS_operating_and\n",
      "TABLE_NEIGHBOR_LEFT_LEMMAS_operating_and_storage\n",
      "TABLE_NEIGHBOR_LEFT_LEMMAS_and\n",
      "TABLE_NEIGHBOR_LEFT_LEMMAS_and_storage\n",
      "TABLE_NEIGHBOR_LEFT_LEMMAS_and_storage_junction\n",
      "TABLE_NEIGHBOR_LEFT_LEMMAS_storage\n",
      "TABLE_NEIGHBOR_LEFT_LEMMAS_storage_junction\n",
      "TABLE_NEIGHBOR_LEFT_LEMMAS_storage_junction_temperature\n",
      "TABLE_NEIGHBOR_LEFT_LEMMAS_junction\n",
      "TABLE_NEIGHBOR_LEFT_LEMMAS_junction_temperature\n",
      "TABLE_NEIGHBOR_LEFT_LEMMAS_junction_temperature_range\n",
      "TABLE_NEIGHBOR_LEFT_LEMMAS_temperature\n",
      "TABLE_NEIGHBOR_LEFT_LEMMAS_temperature_range\n",
      "TABLE_NEIGHBOR_LEFT_LEMMAS_range\n",
      "TABLE_NEIGHBOR_RIGHT_LEMMAS_\\\n",
      "TABLE_NEIGHBOR_RIGHT_LEMMAS_\\_uf0b0c\n",
      "TABLE_NEIGHBOR_RIGHT_LEMMAS_uf0b0c\n",
      "TABLE_ROW_POSES_nn\n",
      "TABLE_ROW_POSES_nn_,\n",
      "TABLE_ROW_POSES_nn_,_nn\n",
      "TABLE_ROW_POSES_,\n",
      "TABLE_ROW_POSES_,_nn\n",
      "TABLE_ROW_POSES_nn\n",
      "TABLE_ROW_POSES_nn\n",
      "TABLE_ROW_POSES_nn_cc\n",
      "TABLE_ROW_POSES_nn_cc_nn\n",
      "TABLE_ROW_POSES_cc\n",
      "TABLE_ROW_POSES_cc_nn\n",
      "TABLE_ROW_POSES_cc_nn_nn\n",
      "TABLE_ROW_POSES_nn\n",
      "TABLE_ROW_POSES_nn_nn\n",
      "TABLE_ROW_POSES_nn_nn_nn\n",
      "TABLE_ROW_POSES_nn\n",
      "TABLE_ROW_POSES_nn_nn\n",
      "TABLE_ROW_POSES_nn_nn_nnp\n",
      "TABLE_ROW_POSES_nn\n",
      "TABLE_ROW_POSES_nn_nnp\n",
      "TABLE_ROW_POSES_nnp\n",
      "TABLE_ROW_POSES_nn\n",
      "TABLE_ROW_POSES_nn_nn\n",
      "TABLE_ROW_POSES_nn\n",
      "TABLE_COL_POSES_nn\n",
      "TABLE_COL_POSES_cd\n",
      "TABLE_COL_POSES_cd\n",
      "TABLE_COL_POSES_cd\n",
      "TABLE_COL_POSES_cd\n",
      "TABLE_NEIGHBOR_DOWN_POSES_cd\n",
      "TABLE_NEIGHBOR_LEFT_POSES_nn\n",
      "TABLE_NEIGHBOR_LEFT_POSES_nn_cc\n",
      "TABLE_NEIGHBOR_LEFT_POSES_nn_cc_nn\n",
      "TABLE_NEIGHBOR_LEFT_POSES_cc\n",
      "TABLE_NEIGHBOR_LEFT_POSES_cc_nn\n",
      "TABLE_NEIGHBOR_LEFT_POSES_cc_nn_nn\n",
      "TABLE_NEIGHBOR_LEFT_POSES_nn\n",
      "TABLE_NEIGHBOR_LEFT_POSES_nn_nn\n",
      "TABLE_NEIGHBOR_LEFT_POSES_nn_nn_nn\n",
      "TABLE_NEIGHBOR_LEFT_POSES_nn\n",
      "TABLE_NEIGHBOR_LEFT_POSES_nn_nn\n",
      "TABLE_NEIGHBOR_LEFT_POSES_nn_nn_nnp\n",
      "TABLE_NEIGHBOR_LEFT_POSES_nn\n",
      "TABLE_NEIGHBOR_LEFT_POSES_nn_nnp\n",
      "TABLE_NEIGHBOR_LEFT_POSES_nnp\n",
      "TABLE_NEIGHBOR_RIGHT_POSES_nn\n",
      "TABLE_NEIGHBOR_RIGHT_POSES_nn_nn\n",
      "TABLE_NEIGHBOR_RIGHT_POSES_nn\n"
     ]
    }
   ],
   "source": [
    "from snorkel.features import TableNgramFeaturizer\n",
    "featurizer = TableNgramFeaturizer()\n",
    "featurizer.fit_transform(candidates)\n",
    "for f in featurizer.get_features_by_candidate(candidates[0])[:]: print f"
   ]
  },
  {
   "cell_type": "markdown",
   "metadata": {},
   "source": [
    "We now build a legacy DDLiteModel with which we will do learning."
   ]
  },
  {
   "cell_type": "code",
   "execution_count": 15,
   "metadata": {
    "collapsed": false,
    "scrolled": true
   },
   "outputs": [
    {
     "name": "stdout",
     "output_type": "stream",
     "text": [
      "31 training data\n",
      "16 test data\n",
      "12 validation data\n"
     ]
    }
   ],
   "source": [
    "from snorkel.snorkel import DDLiteModel\n",
    "DDL = DDLiteModel(candidates, featurizer.fit_transform(candidates), gt_dict)\n",
    "\n",
    "DDL.set_holdout(idxs=range(int(len(gt_dict)*.8)), validation_frac=0.5)\n",
    "print \"%s training data\" % len(DDL.gt.get_labeled_ground_truth('training')[0])\n",
    "print \"%s test data\" % len(DDL.gt.get_labeled_ground_truth('test')[0])\n",
    "print \"%s validation data\" % len(DDL.gt.get_labeled_ground_truth('validation')[0])"
   ]
  },
  {
   "cell_type": "markdown",
   "metadata": {},
   "source": [
    "Define labeling functions:"
   ]
  },
  {
   "cell_type": "code",
   "execution_count": 16,
   "metadata": {
    "collapsed": false
   },
   "outputs": [],
   "source": [
    "def LF_to(m):\n",
    "    return 1 if 'to' in m.post_window('words') else 0\n",
    "def LF_storage(m):\n",
    "    return 1 if 'storage' in m.aligned_ngrams('words') else -1\n",
    "def LF_tstg(m):\n",
    "    return 1 if 'tstg' in m.aligned_ngrams('words') else -1\n",
    "def LF_temperature(m):\n",
    "    return 1 if 'temperature' in m.aligned_ngrams('words') else -1"
   ]
  },
  {
   "cell_type": "code",
   "execution_count": 17,
   "metadata": {
    "collapsed": false
   },
   "outputs": [],
   "source": [
    "LFs = [LF_to, LF_storage, LF_tstg, LF_temperature]\n",
    "DDL.apply_lfs(LFs, clear=True)"
   ]
  },
  {
   "cell_type": "code",
   "execution_count": 18,
   "metadata": {
    "collapsed": false,
    "scrolled": true
   },
   "outputs": [
    {
     "name": "stdout",
     "output_type": "stream",
     "text": [
      "['LF_to', 'LF_storage', 'LF_tstg', 'LF_temperature']\n",
      "LF stats on training set\n",
      "Coverage:\t100.000%\n",
      "Overlap:\t100.000%\n",
      "Conflict:\t9.836%\n"
     ]
    }
   ],
   "source": [
    "print DDL.lf_names\n",
    "DDL.print_lf_stats()"
   ]
  },
  {
   "cell_type": "code",
   "execution_count": 19,
   "metadata": {
    "collapsed": false
   },
   "outputs": [
    {
     "data": {
      "text/html": [
       "<table><tr><td><b>Labeling function</b></td><td><b>Percent candidates where LF has conflict</b></td></tr><tr><td>LF_storage</td><td>9.84%</td></tr><tr><td>LF_temperature</td><td>9.84%</td></tr><tr><td>LF_tstg</td><td>9.84%</td></tr></table>"
      ],
      "text/plain": [
       "OrderedDict([('LF_storage', ['9.84%']),\n",
       "             ('LF_temperature', ['9.84%']),\n",
       "             ('LF_tstg', ['9.84%']),\n",
       "             ('LF_to', ['8.20%'])])"
      ]
     },
     "execution_count": 19,
     "metadata": {},
     "output_type": "execute_result"
    }
   ],
   "source": [
    "DDL.top_conflict_lfs(n=3)"
   ]
  },
  {
   "cell_type": "code",
   "execution_count": 20,
   "metadata": {
    "collapsed": false
   },
   "outputs": [
    {
     "data": {
      "text/html": [
       "<table><tr><td><b>Labeling function</b></td><td><b>Candidate coverage</b></td></tr><tr><td>LF_storage</td><td>100.00%</td></tr><tr><td>LF_temperature</td><td>100.00%</td></tr><tr><td>LF_tstg</td><td>100.00%</td></tr></table>"
      ],
      "text/plain": [
       "OrderedDict([('LF_storage', ['100.00%']),\n",
       "             ('LF_temperature', ['100.00%']),\n",
       "             ('LF_tstg', ['100.00%']),\n",
       "             ('LF_to', ['31.15%'])])"
      ]
     },
     "execution_count": 20,
     "metadata": {},
     "output_type": "execute_result"
    }
   ],
   "source": [
    "DDL.lowest_coverage_lfs(n=3)"
   ]
  },
  {
   "cell_type": "markdown",
   "metadata": {},
   "source": [
    "Now learn, baby, learn!"
   ]
  },
  {
   "cell_type": "code",
   "execution_count": 21,
   "metadata": {
    "collapsed": false
   },
   "outputs": [
    {
     "name": "stdout",
     "output_type": "stream",
     "text": [
      "Begin training for rate=0.01, mu=1e-07\n",
      "\tLearning epoch = 0\tGradient mag. = 0.813066\n",
      "\tLearning epoch = 250\tGradient mag. = 0.737491\n",
      "Final gradient magnitude for rate=0.01, mu=1e-07: 0.389\n",
      "Running in False mode...\n",
      "Begin training for rate=0.01, mu=1e-09\n",
      "\tLearning epoch = 0\tGradient mag. = 0.127358\n",
      "\tLearning epoch = 250\tGradient mag. = 0.133795\n",
      "\tLearning epoch = 500\tGradient mag. = 0.133530\n",
      "\tLearning epoch = 750\tGradient mag. = 0.133267\n",
      "\tLearning epoch = 1000\tGradient mag. = 0.133004\n",
      "\tLearning epoch = 1250\tGradient mag. = 0.132743\n",
      "\tLearning epoch = 1500\tGradient mag. = 0.132483\n",
      "\tLearning epoch = 1750\tGradient mag. = 0.132224\n",
      "\tLearning epoch = 2000\tGradient mag. = 0.131967\n",
      "\tLearning epoch = 2250\tGradient mag. = 0.131710\n",
      "\tLearning epoch = 2500\tGradient mag. = 0.131455\n",
      "\tLearning epoch = 2750\tGradient mag. = 0.131201\n",
      "Final gradient magnitude for rate=0.01, mu=1e-09: 0.131\n",
      "Begin training for rate=0.01, mu=1e-05\n",
      "\tLearning epoch = 0\tGradient mag. = 0.127358\n",
      "\tLearning epoch = 250\tGradient mag. = 0.133795\n",
      "\tLearning epoch = 500\tGradient mag. = 0.133531\n",
      "\tLearning epoch = 750\tGradient mag. = 0.133267\n",
      "\tLearning epoch = 1000\tGradient mag. = 0.133005\n",
      "\tLearning epoch = 1250\tGradient mag. = 0.132744\n",
      "\tLearning epoch = 1500\tGradient mag. = 0.132485\n",
      "\tLearning epoch = 1750\tGradient mag. = 0.132226\n",
      "\tLearning epoch = 2000\tGradient mag. = 0.131969\n",
      "\tLearning epoch = 2250\tGradient mag. = 0.131713\n",
      "\tLearning epoch = 2500\tGradient mag. = 0.131458\n",
      "\tLearning epoch = 2750\tGradient mag. = 0.131204\n",
      "Final gradient magnitude for rate=0.01, mu=1e-05: 0.131\n",
      "Begin training for rate=0.01, mu=0.001\n",
      "\tLearning epoch = 0\tGradient mag. = 0.127358\n",
      "\tLearning epoch = 250\tGradient mag. = 0.133818\n",
      "\tLearning epoch = 500\tGradient mag. = 0.133576\n",
      "\tLearning epoch = 750\tGradient mag. = 0.133336\n",
      "\tLearning epoch = 1000\tGradient mag. = 0.133097\n",
      "\tLearning epoch = 1250\tGradient mag. = 0.132860\n",
      "\tLearning epoch = 1500\tGradient mag. = 0.132624\n",
      "\tLearning epoch = 1750\tGradient mag. = 0.132389\n",
      "\tLearning epoch = 2000\tGradient mag. = 0.132156\n",
      "\tLearning epoch = 2250\tGradient mag. = 0.131924\n",
      "\tLearning epoch = 2500\tGradient mag. = 0.131693\n",
      "\tLearning epoch = 2750\tGradient mag. = 0.131464\n",
      "Final gradient magnitude for rate=0.01, mu=0.001: 0.131\n",
      "Begin training for rate=0.01, mu=0.1\n",
      "\tLearning epoch = 0\tGradient mag. = 0.127358\n",
      "SGD converged for mu=0.1 after 10 steps\n"
     ]
    },
    {
     "data": {
      "image/png": "[encoded data removed]",
      "text/plain": [
       "<matplotlib.figure.Figure at 0x15d4cb290>"
      ]
     },
     "metadata": {},
     "output_type": "display_data"
    },
    {
     "name": "stdout",
     "output_type": "stream",
     "text": [
      "CPU times: user 10.4 s, sys: 1.27 s, total: 11.7 s\n",
      "Wall time: 6.61 s\n"
     ]
    },
    {
     "data": {
      "text/html": [
       "<table><tr><td><b>ID</b></td><td><b># LFs</b></td><td><b>Test set size</b></td><td><b>Model</b></td><td><b>Precision</b></td><td><b>Recall</b></td><td><b>F1</b></td></tr><tr><td>0</td><td>4</td><td>16</td><td>Logistic regression</td><td>1.000</td><td>1.000</td><td>1.000</td></tr></table><table><tr><td><b>LF</b></td></tr><tr><td>LF_to</td></tr><tr><td>LF_storage</td></tr><tr><td>LF_tstg</td></tr><tr><td>LF_temperature</td></tr></table>"
      ],
      "text/plain": [
       "<snorkel.snorkel.ModelLog instance at 0x1d0ec0290>"
      ]
     },
     "execution_count": 21,
     "metadata": {},
     "output_type": "execute_result"
    }
   ],
   "source": [
    "import matplotlib\n",
    "import numpy as np\n",
    "%matplotlib inline\n",
    "matplotlib.rcParams['figure.figsize'] = (12,4)\n",
    "mu_seq = np.ravel([1e-9, 1e-5, 1e-3, 1e-1])\n",
    "lf_opts = {'sample': False, 'verbose': True}\n",
    "model_opts = {'sample': False, 'n_iter': 3000, 'alpha': 0.5, 'mu': mu_seq, 'bias': False, 'verbose': True}\n",
    "%time DDL.train_model(method='lr', lf_opts=lf_opts, model_opts=model_opts)"
   ]
  },
  {
   "cell_type": "code",
   "execution_count": 22,
   "metadata": {
    "collapsed": false
   },
   "outputs": [
    {
     "name": "stdout",
     "output_type": "stream",
     "text": [
      "Full model accuracy: 0.000\n"
     ]
    },
    {
     "name": "stderr",
     "output_type": "stream",
     "text": [
      "/Users/bradenhancock/anaconda/lib/python2.7/site-packages/ipykernel/__main__.py:3: DeprecationWarning: elementwise == comparison failed; this will raise an error in the future.\n",
      "  app.launch_new_instance()\n"
     ]
    }
   ],
   "source": [
    "DDL.show_log()\n",
    "idxs, gt = DDL.get_labeled_ground_truth(subset=DDL.holdout())\n",
    "acc_feats = np.mean(DDL.get_predicted(subset=DDL.holdout()) == gt)\n",
    "print \"Full model accuracy: {:.3f}\".format(acc_feats)"
   ]
  },
  {
   "cell_type": "markdown",
   "metadata": {},
   "source": [
    "Tune in next time for relation extraction!"
   ]
  }
 ],
 "metadata": {
  "kernelspec": {
   "display_name": "Python 2",
   "language": "python",
   "name": "python2"
  },
  "language_info": {
   "codemirror_mode": {
    "name": "ipython",
    "version": 2
   },
   "file_extension": ".py",
   "mimetype": "text/x-python",
   "name": "python",
   "nbconvert_exporter": "python",
   "pygments_lexer": "ipython2",
   "version": "2.7.12"
  }
 },
 "nbformat": 4,
 "nbformat_minor": 0
}
