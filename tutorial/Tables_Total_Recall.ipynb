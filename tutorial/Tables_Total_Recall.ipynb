{
 "cells": [
  {
   "cell_type": "markdown",
   "metadata": {},
   "source": [
    "# Tables Total Recall"
   ]
  },
  {
   "cell_type": "markdown",
   "metadata": {},
   "source": [
    "The purpose of this notebook is to get to the point where we can extract 100% of part names from transistor hardware sheets."
   ]
  },
  {
   "cell_type": "code",
   "execution_count": 11,
   "metadata": {
    "collapsed": false
   },
   "outputs": [
    {
     "name": "stdout",
     "output_type": "stream",
     "text": [
      "The autoreload extension is already loaded. To reload it, use:\n",
      "  %reload_ext autoreload\n"
     ]
    }
   ],
   "source": [
    "%load_ext autoreload\n",
    "%autoreload 2"
   ]
  },
  {
   "cell_type": "code",
   "execution_count": 13,
   "metadata": {
    "collapsed": false
   },
   "outputs": [
    {
     "name": "stdout",
     "output_type": "stream",
     "text": [
      "CPU times: user 15.2 s, sys: 671 ms, total: 15.9 s\n",
      "Wall time: 22.3 s\n",
      "Corpus has been parsed.\n"
     ]
    }
   ],
   "source": [
    "load_pickle = False\n",
    "save_pickle = False\n",
    "\n",
    "corpus_loaded = False\n",
    "if load_pickle:\n",
    "    try:\n",
    "        import cPickle\n",
    "        with open(\"data/hardware/hardware_corpus.pkl\",\"r\") as pkl:\n",
    "            %time corpus = cPickle.load(pkl)\n",
    "        corpus_loaded = True\n",
    "        print \"Corpus has been loaded.\"\n",
    "    except:\n",
    "        print \"Corpus could not be loaded.\"\n",
    "        print \"Corpus will be parsed instead...\"\n",
    "if not corpus_loaded:\n",
    "    from snorkel.parser import CorpusParser\n",
    "    from snorkel.parser import HTMLParser\n",
    "    from snorkel.parser import TableParser\n",
    "\n",
    "    doc_parser = HTMLParser(path='data/hardware/hardware_html/')\n",
    "    context_parser = TableParser()\n",
    "\n",
    "    cp = CorpusParser(doc_parser, context_parser, max_docs=15)\n",
    "    %time corpus = cp.parse_corpus(name='Hardware Corpus')\n",
    "    print \"Corpus has been parsed.\"\n",
    "    \n",
    "    if save_pickle:\n",
    "        with open(\"data/hardware/hardware_corpus.pkl\",\"w\") as pkl:\n",
    "            %time cPickle.dump(corpus, pkl)\n",
    "            print \"Corpus has been pickled.\""
   ]
  },
  {
   "cell_type": "code",
   "execution_count": 14,
   "metadata": {
    "collapsed": false
   },
   "outputs": [
    {
     "name": "stdout",
     "output_type": "stream",
     "text": [
      "Loaded 179 gold part numbers.\n"
     ]
    }
   ],
   "source": [
    "from load_dictionaries import load_hardware_dictionary\n",
    "\n",
    "gold_parts = load_hardware_dictionary()\n",
    "print \"Loaded %s gold part numbers.\" % len(gold_parts)"
   ]
  },
  {
   "cell_type": "code",
   "execution_count": 15,
   "metadata": {
    "collapsed": false
   },
   "outputs": [
    {
     "name": "stdout",
     "output_type": "stream",
     "text": [
      "CPU times: user 302 ms, sys: 71.1 ms, total: 373 ms\n",
      "Wall time: 322 ms\n",
      "Span(\"BC547\", context=None, chars=[0,4], words=[0,0])\n",
      "Span(\"BC548\", context=None, chars=[0,4], words=[0,0])\n",
      "Span(\"BC547\", context=None, chars=[0,4], words=[0,0])\n",
      "Span(\"BC548\", context=None, chars=[0,4], words=[0,0])\n",
      "Span(\"BC546\", context=None, chars=[0,4], words=[0,0])\n",
      "Extracted 179 candidate part numbers.\n"
     ]
    }
   ],
   "source": [
    "from snorkel.candidates import Ngrams, EntityExtractor\n",
    "from snorkel.matchers import RegexMatchEach, DictionaryMatch, RangeMatcher\n",
    "\n",
    "ngrams = Ngrams(n_max=2)\n",
    "part_matcher = DictionaryMatch(d=gold_parts, longest_match_only=False)\n",
    "part_extractor = EntityExtractor(ngrams, part_matcher)\n",
    "\n",
    "%time parts = part_extractor.extract(corpus.get_sentences(), name='all')\n",
    "for p in parts[:5]: \n",
    "    print p\n",
    "print \"Extracted %s candidate part numbers.\" % len(parts)"
   ]
  },
  {
   "cell_type": "code",
   "execution_count": 16,
   "metadata": {
    "collapsed": false
   },
   "outputs": [
    {
     "name": "stdout",
     "output_type": "stream",
     "text": [
      "Recall: 0.156 (28/179)\n",
      "Precision: 1.000 (1/1)\n"
     ]
    }
   ],
   "source": [
    "from fractions import Fraction\n",
    "g = set(gold_parts)\n",
    "x = set([p.get_span() for p in parts])\n",
    "recall = Fraction(len(g.intersection(x)),len(g))\n",
    "precision = Fraction(len(g.intersection(x)),len(x))\n",
    "print \"Recall: %0.3f (%s/%s)\" % (float(recall), recall.numerator, recall.denominator)\n",
    "print \"Precision: %0.3f (%s/%s)\" % (float(precision), precision.numerator, precision.denominator)"
   ]
  },
  {
   "cell_type": "code",
   "execution_count": 17,
   "metadata": {
    "collapsed": false
   },
   "outputs": [
    {
     "name": "stdout",
     "output_type": "stream",
     "text": [
      "set([])\n",
      "2N4123\n",
      "2N4124\n",
      "2N3906\n",
      "PZT3906\n",
      "BC547C\n",
      "BC182B\n",
      "BC549C\n",
      "BC549B\n",
      "BC550C\n",
      "BC337\n",
      "BC338\n",
      "BC547A\n",
      "MMBT3906\n",
      "BC547B\n",
      "BC549\n",
      "BC548\n",
      "BC547\n",
      "BC546\n",
      "MMBT4124\n",
      "MMBT6427\n",
      "BC550\n",
      "BC548B\n",
      "BC548C\n",
      "BC546B\n",
      "BC546C\n",
      "BC546A\n",
      "BC182\n",
      "2N6426\n"
     ]
    }
   ],
   "source": [
    "print x - g\n",
    "for p in x:\n",
    "    print p"
   ]
  },
  {
   "cell_type": "code",
   "execution_count": null,
   "metadata": {
    "collapsed": true
   },
   "outputs": [],
   "source": []
  },
  {
   "cell_type": "code",
   "execution_count": null,
   "metadata": {
    "collapsed": true
   },
   "outputs": [],
   "source": [
    "# ranges (e.g., BC546-BC548) or lists (e.g., BC546/547/548)"
   ]
  }
 ],
 "metadata": {
  "kernelspec": {
   "display_name": "Python 2",
   "language": "python",
   "name": "python2"
  },
  "language_info": {
   "codemirror_mode": {
    "name": "ipython",
    "version": 2
   },
   "file_extension": ".py",
   "mimetype": "text/x-python",
   "name": "python",
   "nbconvert_exporter": "python",
   "pygments_lexer": "ipython2",
   "version": "2.7.12"
  }
 },
 "nbformat": 4,
 "nbformat_minor": 0
}
