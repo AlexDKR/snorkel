{
 "cells": [
  {
   "cell_type": "markdown",
   "metadata": {},
   "source": [
    "# Tables Total Recall"
   ]
  },
  {
   "cell_type": "markdown",
   "metadata": {},
   "source": [
    "The purpose of this notebook is to get to the point where we can extract 100% of part names from transistor hardware sheets."
   ]
  },
  {
   "cell_type": "code",
   "execution_count": null,
   "metadata": {
    "collapsed": false
   },
   "outputs": [],
   "source": [
    "%load_ext autoreload\n",
    "%autoreload 2"
   ]
  },
  {
   "cell_type": "code",
   "execution_count": 4,
   "metadata": {
    "collapsed": false
   },
   "outputs": [
    {
     "name": "stdout",
     "output_type": "stream",
     "text": [
      "CPU times: user 2.92 s, sys: 72.7 ms, total: 2.99 s\n",
      "Wall time: 20 s\n",
      "Corpus has been parsed.\n"
     ]
    }
   ],
   "source": [
    "load_pickle = False\n",
    "save_pickle = False\n",
    "\n",
    "corpus_loaded = False\n",
    "if load_pickle:\n",
    "    try:\n",
    "        import cPickle\n",
    "        with open(\"data/hardware/hardware_corpus.pkl\",\"r\") as pkl:\n",
    "            %time corpus = cPickle.load(pkl)\n",
    "        corpus_loaded = True\n",
    "        print \"Corpus has been loaded.\"\n",
    "    except:\n",
    "        print \"Corpus could not be loaded.\"\n",
    "        print \"Corpus will be parsed instead...\"\n",
    "if not corpus_loaded:\n",
    "    from snorkel.parser import CorpusParser\n",
    "    from snorkel.parser import HTMLOmniParser\n",
    "    from snorkel.parser import SentenceParser\n",
    "\n",
    "    doc_parser = HTMLOmniParser(path='data/hardware/hardware_html/')\n",
    "    context_parser = SentenceParser()\n",
    "    #     table_parser = TableParser()\n",
    "\n",
    "    cp = CorpusParser(doc_parser, context_parser, max_docs=15)\n",
    "    %time corpus = cp.parse_corpus(name='Hardware Corpus')\n",
    "    print \"Corpus has been parsed.\"\n",
    "    \n",
    "    if save_pickle:\n",
    "        with open(\"data/hardware/hardware_corpus.pkl\",\"w\") as pkl:\n",
    "            %time cPickle.dump(corpus, pkl)\n",
    "            print \"Corpus has been pickled.\""
   ]
  },
  {
   "cell_type": "code",
   "execution_count": 2,
   "metadata": {
    "collapsed": false
   },
   "outputs": [
    {
     "name": "stdout",
     "output_type": "stream",
     "text": [
      "Loaded 179 gold part numbers.\n"
     ]
    }
   ],
   "source": [
    "from load_dictionaries import load_hardware_dictionary\n",
    "\n",
    "gold_parts = load_hardware_dictionary()\n",
    "print \"Loaded %s gold part numbers.\" % len(gold_parts)"
   ]
  },
  {
   "cell_type": "code",
   "execution_count": 8,
   "metadata": {
    "collapsed": false
   },
   "outputs": [
    {
     "name": "stdout",
     "output_type": "stream",
     "text": [
      "CPU times: user 1.43 s, sys: 42.1 ms, total: 1.47 s\n",
      "Wall time: 1.44 s\n",
      "Span(\"BC546\", context=None, chars=[0,4], words=[0,0])\n",
      "Span(\"BC546B\", context=None, chars=[188,193], words=[41,41])\n",
      "Span(\"BC547A\", context=None, chars=[196,201], words=[43,43])\n",
      "Span(\"BC548B\", context=None, chars=[210,215], words=[49,49])\n",
      "Span(\"BC548\", context=None, chars=[512,516], words=[95,95])\n",
      "Extracted 68 candidate part numbers.\n"
     ]
    }
   ],
   "source": [
    "from snorkel.candidates import Ngrams, EntityExtractor\n",
    "from snorkel.matchers import RegexMatchEach, DictionaryMatch, RangeMatcher\n",
    "\n",
    "ngrams = Ngrams(n_max=2)\n",
    "part_matcher = DictionaryMatch(d=gold_parts, longest_match_only=False)\n",
    "part_extractor = EntityExtractor(ngrams, part_matcher)\n",
    "\n",
    "%time parts = part_extractor.extract(corpus.get_sentences(), name='all')\n",
    "for p in parts[:5]: \n",
    "    print p\n",
    "print \"Extracted %s candidate part numbers.\" % len(parts)"
   ]
  },
  {
   "cell_type": "code",
   "execution_count": 9,
   "metadata": {
    "collapsed": false
   },
   "outputs": [
    {
     "name": "stdout",
     "output_type": "stream",
     "text": [
      "Recall: 0.112 (20/179)\n",
      "Precision: 0.952 (20/21)\n"
     ]
    }
   ],
   "source": [
    "from fractions import Fraction\n",
    "g = set(gold_parts)\n",
    "x = set([p.get_span() for p in parts])\n",
    "recall = Fraction(len(g.intersection(x)),len(g))\n",
    "precision = Fraction(len(g.intersection(x)),len(x))\n",
    "print \"Recall: %0.3f (%s/%s)\" % (float(recall), recall.numerator, recall.denominator)\n",
    "print \"Precision: %0.3f (%s/%s)\" % (float(precision), precision.numerator, precision.denominator)"
   ]
  },
  {
   "cell_type": "code",
   "execution_count": 11,
   "metadata": {
    "collapsed": false
   },
   "outputs": [
    {
     "name": "stdout",
     "output_type": "stream",
     "text": [
      "set([u'2n4123'])\n",
      "BC327\n",
      "2n4123\n",
      "BC338\n",
      "BC337-25\n",
      "2N4124\n",
      "BC548B\n",
      "BC337\n",
      "2N3906\n",
      "BC546B\n",
      "BC547A\n",
      "2N4123\n",
      "MMBT3906\n",
      "PZT3906\n",
      "BC182\n",
      "BC549\n",
      "BC548\n",
      "2N6426\n",
      "BC550\n",
      "MMBT6427\n",
      "BC547\n",
      "BC546\n"
     ]
    }
   ],
   "source": [
    "print x - g\n",
    "for p in x:\n",
    "    print p"
   ]
  },
  {
   "cell_type": "code",
   "execution_count": null,
   "metadata": {
    "collapsed": true
   },
   "outputs": [],
   "source": []
  },
  {
   "cell_type": "code",
   "execution_count": null,
   "metadata": {
    "collapsed": true
   },
   "outputs": [],
   "source": [
    "# ranges (e.g., BC546-BC548) or lists (e.g., BC546/547/548)"
   ]
  }
 ],
 "metadata": {
  "kernelspec": {
   "display_name": "Python 2",
   "language": "python",
   "name": "python2"
  },
  "language_info": {
   "codemirror_mode": {
    "name": "ipython",
    "version": 2
   },
   "file_extension": ".py",
   "mimetype": "text/x-python",
   "name": "python",
   "nbconvert_exporter": "python",
   "pygments_lexer": "ipython2",
   "version": "2.7.12"
  }
 },
 "nbformat": 4,
 "nbformat_minor": 0
}
