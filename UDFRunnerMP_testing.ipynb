{
 "cells": [
  {
   "cell_type": "code",
   "execution_count": 1,
   "metadata": {
    "collapsed": true
   },
   "outputs": [],
   "source": [
    "%load_ext autoreload\n",
    "%autoreload 2\n",
    "%load_ext line_profiler\n",
    "\n",
    "import os\n",
    "os.environ['SNORKELDB'] = 'postgres:///snorkel-biocorpus-sample'\n",
    "\n",
    "from snorkel import SnorkelSession\n",
    "session = SnorkelSession()"
   ]
  },
  {
   "cell_type": "markdown",
   "metadata": {},
   "source": [
    "# Test 1: Simple non-DB, non-Snorkel"
   ]
  },
  {
   "cell_type": "code",
   "execution_count": 2,
   "metadata": {
    "collapsed": true
   },
   "outputs": [],
   "source": [
    "xs         = range(100)\n",
    "y_set_gold = set(range(1,101))"
   ]
  },
  {
   "cell_type": "code",
   "execution_count": 3,
   "metadata": {
    "collapsed": false
   },
   "outputs": [],
   "source": [
    "from snorkel.udf import UDF, UDFRunner, UDFRunnerMP\n",
    "from time import sleep\n",
    "\n",
    "class AddOne(UDF):\n",
    "    def apply(self, x):\n",
    "        sleep(1)\n",
    "        yield x + 1"
   ]
  },
  {
   "cell_type": "markdown",
   "metadata": {},
   "source": [
    "### First, sanity check: `UDFRunner`"
   ]
  },
  {
   "cell_type": "code",
   "execution_count": null,
   "metadata": {
    "collapsed": false
   },
   "outputs": [],
   "source": [
    "addone_runner_st = UDFRunner(AddOne())\n",
    "y_set            = set()\n",
    "%time addone_runner_st.run(xs, y_set=y_set)"
   ]
  },
  {
   "cell_type": "code",
   "execution_count": null,
   "metadata": {
    "collapsed": false
   },
   "outputs": [],
   "source": [
    "y_set == y_set_gold"
   ]
  },
  {
   "cell_type": "markdown",
   "metadata": {},
   "source": [
    "### Next, try parallelism"
   ]
  },
  {
   "cell_type": "code",
   "execution_count": null,
   "metadata": {
    "collapsed": false
   },
   "outputs": [],
   "source": [
    "from multiprocessing import Queue\n",
    "\n",
    "addone_runner = UDFRunnerMP(AddOne)\n",
    "y_set         = Queue()\n",
    "%time addone_runner.run(xs, parallelism=10, y_set=y_set)"
   ]
  },
  {
   "cell_type": "code",
   "execution_count": null,
   "metadata": {
    "collapsed": false
   },
   "outputs": [],
   "source": [
    "from Queue import Empty\n",
    "\n",
    "# Collect from output queue\n",
    "y_set_out = set()\n",
    "while True:\n",
    "    try:\n",
    "        y_set_out.add(y_set.get(False))\n",
    "    except Empty:\n",
    "        break\n",
    "\n",
    "y_set_out == y_set_gold"
   ]
  },
  {
   "cell_type": "markdown",
   "metadata": {},
   "source": [
    "# Test 2: PubTator Parsing\n",
    "\n",
    "Just create the Session in the UDF: http://docs.sqlalchemy.org/en/latest/core/pooling.html#using-connection-pools-with-multiprocessing\n",
    "\n",
    "One simple hypothesis: adding to the sets, e.g. `CandidateSet`, is causing the issues..."
   ]
  },
  {
   "cell_type": "code",
   "execution_count": null,
   "metadata": {
    "collapsed": true
   },
   "outputs": [],
   "source": [
    "from snorkel.models import Corpus\n",
    "corpus = Corpus(name='PubTator Annotated')\n",
    "corpus\n",
    "session.add(corpus)\n",
    "session.commit()"
   ]
  },
  {
   "cell_type": "code",
   "execution_count": 4,
   "metadata": {
    "collapsed": false,
    "scrolled": false
   },
   "outputs": [
    {
     "name": "stdout",
     "output_type": "stream",
     "text": [
      "Warning: Non-standard split: mention 'Trypan B', split on 'l' in word 'Blue'\n",
      "Warning: Non-standard split: mention 'Li', split on '7' in word '6Li/7Li'\n",
      "Warning: Non-standard split: mention 'Li', split on '7' in word '6Li/7Li'\n",
      "10 / 10 threads done.\n",
      "\n",
      "CPU times: user 148 ms, sys: 116 ms, total: 264 ms\n",
      "Wall time: 21.3 s\n"
     ]
    }
   ],
   "source": [
    "from pubtator_parsers import PubtatorDocParser, pubtator_doc_generator\n",
    "\n",
    "corpus_parser = UDFRunnerMP(PubtatorDocParser)\n",
    "doc_generator = pubtator_doc_generator('bioconcepts2pubtator_offsets.sample')\n",
    "\n",
    "%time corpus_parser.run(doc_generator, parallelism=10)"
   ]
  },
  {
   "cell_type": "code",
   "execution_count": null,
   "metadata": {
    "collapsed": true
   },
   "outputs": [],
   "source": []
  }
 ],
 "metadata": {
  "kernelspec": {
   "display_name": "Python 2",
   "language": "python",
   "name": "python2"
  },
  "language_info": {
   "codemirror_mode": {
    "name": "ipython",
    "version": 2
   },
   "file_extension": ".py",
   "mimetype": "text/x-python",
   "name": "python",
   "nbconvert_exporter": "python",
   "pygments_lexer": "ipython2",
   "version": "2.7.6"
  }
 },
 "nbformat": 4,
 "nbformat_minor": 1
}
